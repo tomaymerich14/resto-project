{
 "cells": [
  {
   "cell_type": "code",
   "execution_count": 7,
   "id": "fbb76f25-13e4-49c8-aea9-a5dbe9911c69",
   "metadata": {},
   "outputs": [
    {
     "ename": "TypeError",
     "evalue": "set_experiment_tag() missing 1 required positional argument: 'value'",
     "output_type": "error",
     "traceback": [
      "\u001b[0;31m---------------------------------------------------------------------------\u001b[0m",
      "\u001b[0;31mTypeError\u001b[0m                                 Traceback (most recent call last)",
      "\u001b[0;32m/var/folders/d8/q33dfdgd07x2w3h7hz0ly4y00000gn/T/ipykernel_24121/389208941.py\u001b[0m in \u001b[0;36m<module>\u001b[0;34m\u001b[0m\n\u001b[1;32m     28\u001b[0m     \u001b[0mclient\u001b[0m\u001b[0;34m.\u001b[0m\u001b[0mlog_param\u001b[0m\u001b[0;34m(\u001b[0m\u001b[0mrun\u001b[0m\u001b[0;34m.\u001b[0m\u001b[0minfo\u001b[0m\u001b[0;34m.\u001b[0m\u001b[0mrun_id\u001b[0m\u001b[0;34m,\u001b[0m \u001b[0;34m\"model\"\u001b[0m\u001b[0;34m,\u001b[0m \u001b[0mmodel\u001b[0m\u001b[0;34m)\u001b[0m\u001b[0;34m\u001b[0m\u001b[0;34m\u001b[0m\u001b[0m\n\u001b[1;32m     29\u001b[0m     \u001b[0mclient\u001b[0m\u001b[0;34m.\u001b[0m\u001b[0mlog_param\u001b[0m\u001b[0;34m(\u001b[0m\u001b[0mrun\u001b[0m\u001b[0;34m.\u001b[0m\u001b[0minfo\u001b[0m\u001b[0;34m.\u001b[0m\u001b[0mrun_id\u001b[0m\u001b[0;34m,\u001b[0m \u001b[0;34m\"student_name\"\u001b[0m\u001b[0;34m,\u001b[0m \u001b[0myourname\u001b[0m\u001b[0;34m)\u001b[0m\u001b[0;34m\u001b[0m\u001b[0;34m\u001b[0m\u001b[0m\n\u001b[0;32m---> 30\u001b[0;31m     \u001b[0mclient\u001b[0m\u001b[0;34m.\u001b[0m\u001b[0mset_experiment_tag\u001b[0m\u001b[0;34m(\u001b[0m\u001b[0;34m'test'\u001b[0m\u001b[0;34m,\u001b[0m\u001b[0;36m45\u001b[0m\u001b[0;34m)\u001b[0m\u001b[0;34m\u001b[0m\u001b[0;34m\u001b[0m\u001b[0m\n\u001b[0m\u001b[1;32m     31\u001b[0m     \u001b[0mclient\u001b[0m\u001b[0;34m.\u001b[0m\u001b[0mlog_param\u001b[0m\u001b[0;34m(\u001b[0m\u001b[0mrun\u001b[0m\u001b[0;34m.\u001b[0m\u001b[0minfo\u001b[0m\u001b[0;34m.\u001b[0m\u001b[0mrun_id\u001b[0m\u001b[0;34m,\u001b[0m\u001b[0;34m\"alpha\"\u001b[0m\u001b[0;34m,\u001b[0m \u001b[0;36m0\u001b[0m\u001b[0;34m)\u001b[0m\u001b[0;34m\u001b[0m\u001b[0;34m\u001b[0m\u001b[0m\n\u001b[1;32m     32\u001b[0m     \u001b[0mclient\u001b[0m\u001b[0;34m.\u001b[0m\u001b[0mlog_param\u001b[0m\u001b[0;34m(\u001b[0m\u001b[0mrun\u001b[0m\u001b[0;34m.\u001b[0m\u001b[0minfo\u001b[0m\u001b[0;34m.\u001b[0m\u001b[0mrun_id\u001b[0m\u001b[0;34m,\u001b[0m\u001b[0;34m\"l1_ratio\"\u001b[0m\u001b[0;34m,\u001b[0m \u001b[0;36m1\u001b[0m\u001b[0;34m)\u001b[0m\u001b[0;34m\u001b[0m\u001b[0;34m\u001b[0m\u001b[0m\n",
      "\u001b[0;31mTypeError\u001b[0m: set_experiment_tag() missing 1 required positional argument: 'value'"
     ]
    }
   ],
   "source": [
    "import mlflow\n",
    "from mlflow.tracking import MlflowClient\n",
    "\n",
    "EXPERIMENT_NAME =' [FR] [Paris] [P2M] EXP '\n",
    "\n",
    "# Indicate mlflow to log to remote server\n",
    "mlflow.set_tracking_uri(\"https://mlflow.lewagon.co/\")\n",
    "\n",
    "client = MlflowClient()\n",
    "\n",
    "try:\n",
    "    experiment_id = client.create_experiment(EXPERIMENT_NAME)\n",
    "except BaseException:\n",
    "    experiment_id = client.get_experiment_by_name(\n",
    "        EXPERIMENT_NAME).experiment_id\n",
    "\n",
    "yourname = 'PIERRE2M'\n",
    "\n",
    "if yourname is None:\n",
    "    print(\"please define your name, il will be used as a parameter to log\")\n",
    "\n",
    "for model in [\"linear\", \"Randomforest\"]:\n",
    "    \n",
    "    \n",
    "    \n",
    "    run = client.create_run(experiment_id)\n",
    "    client.log_metric(run.info.run_id, \"rmse\", 4.5)\n",
    "    client.log_param(run.info.run_id, \"model\", model)\n",
    "    client.log_param(run.info.run_id, \"student_name\", yourname)\n",
    "    client.set_experiment_tag('test',45)\n",
    "    client.log_param(run.info.run_id,\"alpha\", 0)\n",
    "    client.log_param(run.info.run_id,\"l1_ratio\", 1)\n",
    "    client.log_metric(run.info.run_id,\"rmse\", 2)\n",
    "    client.log_metric(run.info.run_id,\"r2\", 3)\n",
    "    client.log_metric(run.info.run_id,\"mae\", 4)\n",
    "\n",
    "\n"
   ]
  },
  {
   "cell_type": "code",
   "execution_count": null,
   "id": "07771673-38ed-483d-b2ff-828cba31e8cc",
   "metadata": {},
   "outputs": [],
   "source": []
  }
 ],
 "metadata": {
  "kernelspec": {
   "display_name": "Python 3 (ipykernel)",
   "language": "python",
   "name": "python3"
  },
  "language_info": {
   "codemirror_mode": {
    "name": "ipython",
    "version": 3
   },
   "file_extension": ".py",
   "mimetype": "text/x-python",
   "name": "python",
   "nbconvert_exporter": "python",
   "pygments_lexer": "ipython3",
   "version": "3.8.6"
  }
 },
 "nbformat": 4,
 "nbformat_minor": 5
}
