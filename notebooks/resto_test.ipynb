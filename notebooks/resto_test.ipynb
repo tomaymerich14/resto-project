{
 "cells": [
  {
   "cell_type": "markdown",
   "id": "346207a5",
   "metadata": {},
   "source": [
    "# Introduction"
   ]
  },
  {
   "cell_type": "markdown",
   "id": "7d8ae1ae",
   "metadata": {},
   "source": [
    "## Demande du client"
   ]
  },
  {
   "cell_type": "markdown",
   "id": "4af73542",
   "metadata": {
    "ExecuteTime": {
     "end_time": "2021-08-23T12:02:17.316309Z",
     "start_time": "2021-08-23T12:02:17.299636Z"
    }
   },
   "source": [
    "> How to predict our CA ?"
   ]
  },
  {
   "cell_type": "markdown",
   "id": "951fdcb3",
   "metadata": {},
   "source": [
    "## Donnée de départs"
   ]
  },
  {
   "cell_type": "code",
   "execution_count": 1,
   "id": "0b0db105",
   "metadata": {
    "ExecuteTime": {
     "end_time": "2021-08-24T07:14:01.026093Z",
     "start_time": "2021-08-24T07:13:52.326840Z"
    }
   },
   "outputs": [],
   "source": [
    "import numpy as np\n",
    "import pandas as pd\n",
    "import matplotlib.pyplot as plt\n",
    "import seaborn as sns\n",
    "\n",
    "%load_ext autoreload\n",
    "%autoreload 2"
   ]
  },
  {
   "cell_type": "markdown",
   "id": "f52782c5",
   "metadata": {
    "ExecuteTime": {
     "end_time": "2021-08-23T12:37:03.579663Z",
     "start_time": "2021-08-23T12:37:03.530220Z"
    }
   },
   "source": [
    "### Vacances scolaire"
   ]
  },
  {
   "cell_type": "code",
   "execution_count": 2,
   "id": "da6b0470",
   "metadata": {
    "ExecuteTime": {
     "end_time": "2021-08-24T07:14:01.073540Z",
     "start_time": "2021-08-24T07:14:01.027456Z"
    },
    "scrolled": false
   },
   "outputs": [
    {
     "data": {
      "text/html": [
       "<div>\n",
       "<style scoped>\n",
       "    .dataframe tbody tr th:only-of-type {\n",
       "        vertical-align: middle;\n",
       "    }\n",
       "\n",
       "    .dataframe tbody tr th {\n",
       "        vertical-align: top;\n",
       "    }\n",
       "\n",
       "    .dataframe thead th {\n",
       "        text-align: right;\n",
       "    }\n",
       "</style>\n",
       "<table border=\"1\" class=\"dataframe\">\n",
       "  <thead>\n",
       "    <tr style=\"text-align: right;\">\n",
       "      <th></th>\n",
       "      <th>date</th>\n",
       "      <th>vacances_zone_a</th>\n",
       "      <th>vacances_zone_b</th>\n",
       "      <th>vacances_zone_c</th>\n",
       "      <th>nom_vacances</th>\n",
       "      <th>Year</th>\n",
       "      <th>Month</th>\n",
       "      <th>Day</th>\n",
       "    </tr>\n",
       "  </thead>\n",
       "  <tbody>\n",
       "    <tr>\n",
       "      <th>0</th>\n",
       "      <td>1990-01-01</td>\n",
       "      <td>False</td>\n",
       "      <td>False</td>\n",
       "      <td>False</td>\n",
       "      <td>NaN</td>\n",
       "      <td>1990</td>\n",
       "      <td>1</td>\n",
       "      <td>1</td>\n",
       "    </tr>\n",
       "    <tr>\n",
       "      <th>1</th>\n",
       "      <td>1990-01-02</td>\n",
       "      <td>False</td>\n",
       "      <td>False</td>\n",
       "      <td>False</td>\n",
       "      <td>NaN</td>\n",
       "      <td>1990</td>\n",
       "      <td>1</td>\n",
       "      <td>2</td>\n",
       "    </tr>\n",
       "    <tr>\n",
       "      <th>2</th>\n",
       "      <td>1990-01-03</td>\n",
       "      <td>False</td>\n",
       "      <td>False</td>\n",
       "      <td>False</td>\n",
       "      <td>NaN</td>\n",
       "      <td>1990</td>\n",
       "      <td>1</td>\n",
       "      <td>3</td>\n",
       "    </tr>\n",
       "    <tr>\n",
       "      <th>3</th>\n",
       "      <td>1990-01-04</td>\n",
       "      <td>False</td>\n",
       "      <td>False</td>\n",
       "      <td>False</td>\n",
       "      <td>NaN</td>\n",
       "      <td>1990</td>\n",
       "      <td>1</td>\n",
       "      <td>4</td>\n",
       "    </tr>\n",
       "    <tr>\n",
       "      <th>4</th>\n",
       "      <td>1990-01-05</td>\n",
       "      <td>False</td>\n",
       "      <td>False</td>\n",
       "      <td>False</td>\n",
       "      <td>NaN</td>\n",
       "      <td>1990</td>\n",
       "      <td>1</td>\n",
       "      <td>5</td>\n",
       "    </tr>\n",
       "  </tbody>\n",
       "</table>\n",
       "</div>"
      ],
      "text/plain": [
       "        date  vacances_zone_a  vacances_zone_b  vacances_zone_c nom_vacances  \\\n",
       "0 1990-01-01            False            False            False          NaN   \n",
       "1 1990-01-02            False            False            False          NaN   \n",
       "2 1990-01-03            False            False            False          NaN   \n",
       "3 1990-01-04            False            False            False          NaN   \n",
       "4 1990-01-05            False            False            False          NaN   \n",
       "\n",
       "   Year  Month  Day  \n",
       "0  1990      1    1  \n",
       "1  1990      1    2  \n",
       "2  1990      1    3  \n",
       "3  1990      1    4  \n",
       "4  1990      1    5  "
      ]
     },
     "execution_count": 2,
     "metadata": {},
     "output_type": "execute_result"
    }
   ],
   "source": [
    "vacances_df = pd.read_csv('/Users/ericblanvillain/code/EricBlanvillain/resto-655-project/INSEE/vacations_all_zones.csv')\n",
    "vacances_df.date = pd.to_datetime(vacances_df.date)\n",
    "vacances_df.vacances_zone_a = vacances_df.vacances_zone_a.astype('bool')\n",
    "vacances_df.vacances_zone_b = vacances_df.vacances_zone_b.astype('bool')\n",
    "vacances_df.vacances_zone_c = vacances_df.vacances_zone_c.astype('bool')\n",
    "vacances_df[\"Year\"] = pd.DatetimeIndex(vacances_df.date).year\n",
    "vacances_df[\"Month\"] = pd.DatetimeIndex(vacances_df.date).month\n",
    "vacances_df[\"Day\"] = pd.DatetimeIndex(vacances_df.date).day\n",
    "vacances_df.head()"
   ]
  },
  {
   "cell_type": "code",
   "execution_count": 11,
   "id": "0de92522",
   "metadata": {
    "ExecuteTime": {
     "end_time": "2021-08-24T08:19:06.304724Z",
     "start_time": "2021-08-24T08:19:06.248926Z"
    }
   },
   "outputs": [
    {
     "data": {
      "text/plain": [
       "'/Users/ericblanvillain/code/EricBlanvillain/resto-655-project/resto-project-data'"
      ]
     },
     "execution_count": 11,
     "metadata": {},
     "output_type": "execute_result"
    }
   ],
   "source": [
    "pwd"
   ]
  },
  {
   "cell_type": "code",
   "execution_count": 14,
   "id": "df03de8d",
   "metadata": {
    "ExecuteTime": {
     "end_time": "2021-08-24T08:22:00.882289Z",
     "start_time": "2021-08-24T08:22:00.719804Z"
    }
   },
   "outputs": [],
   "source": [
    "vacances_df.to_csv(path_or_buf='file',index=True)"
   ]
  },
  {
   "cell_type": "code",
   "execution_count": 3,
   "id": "50426800",
   "metadata": {
    "ExecuteTime": {
     "end_time": "2021-08-24T07:14:01.087867Z",
     "start_time": "2021-08-24T07:14:01.074551Z"
    }
   },
   "outputs": [
    {
     "data": {
      "text/plain": [
       "7229"
      ]
     },
     "execution_count": 3,
     "metadata": {},
     "output_type": "execute_result"
    }
   ],
   "source": [
    "vacances_df.nom_vacances.isnull().sum()"
   ]
  },
  {
   "cell_type": "code",
   "execution_count": 4,
   "id": "ce165408",
   "metadata": {
    "ExecuteTime": {
     "end_time": "2021-08-24T07:14:01.103995Z",
     "start_time": "2021-08-24T07:14:01.089446Z"
    }
   },
   "outputs": [
    {
     "data": {
      "text/plain": [
       "4824"
      ]
     },
     "execution_count": 4,
     "metadata": {},
     "output_type": "execute_result"
    }
   ],
   "source": [
    "vacances_df.nom_vacances.count()"
   ]
  },
  {
   "cell_type": "code",
   "execution_count": 5,
   "id": "a917c6a6",
   "metadata": {
    "ExecuteTime": {
     "end_time": "2021-08-24T07:14:01.128608Z",
     "start_time": "2021-08-24T07:14:01.106713Z"
    },
    "scrolled": true
   },
   "outputs": [
    {
     "data": {
      "text/plain": [
       "nom_vacances            \n",
       "Vacances d'été              1987\n",
       "Vacances d'hiver             955\n",
       "Vacances de printemps        954\n",
       "Vacances de Noël             514\n",
       "Vacances de la Toussaint     397\n",
       "Pont de l'Ascension           17\n",
       "dtype: int64"
      ]
     },
     "execution_count": 5,
     "metadata": {},
     "output_type": "execute_result"
    }
   ],
   "source": [
    "pd.DataFrame(vacances_df.nom_vacances).value_counts()"
   ]
  },
  {
   "cell_type": "code",
   "execution_count": 6,
   "id": "261df831",
   "metadata": {
    "ExecuteTime": {
     "end_time": "2021-08-24T07:14:01.477774Z",
     "start_time": "2021-08-24T07:14:01.129579Z"
    },
    "scrolled": true
   },
   "outputs": [
    {
     "data": {
      "image/png": "[encoded data removed]",
      "text/plain": [
       "<Figure size 1080x288 with 1 Axes>"
      ]
     },
     "metadata": {},
     "output_type": "display_data"
    }
   ],
   "source": [
    "sns.set_theme(style=\"darkgrid\")\n",
    "plt.figure(figsize=(15,4))\n",
    "ax = sns.countplot(x=\"Year\", hue=\"vacances_zone_a\", data=vacances_df)\n",
    "ax.set(xticks = np.arange(0,vacances_df[\"Year\"].nunique()))\n",
    "plt.show()"
   ]
  },
  {
   "cell_type": "code",
   "execution_count": 7,
   "id": "c3e43581",
   "metadata": {
    "ExecuteTime": {
     "end_time": "2021-08-24T07:14:01.498111Z",
     "start_time": "2021-08-24T07:14:01.478796Z"
    },
    "scrolled": true
   },
   "outputs": [
    {
     "data": {
      "text/html": [
       "<div>\n",
       "<style scoped>\n",
       "    .dataframe tbody tr th:only-of-type {\n",
       "        vertical-align: middle;\n",
       "    }\n",
       "\n",
       "    .dataframe tbody tr th {\n",
       "        vertical-align: top;\n",
       "    }\n",
       "\n",
       "    .dataframe thead th {\n",
       "        text-align: right;\n",
       "    }\n",
       "</style>\n",
       "<table border=\"1\" class=\"dataframe\">\n",
       "  <thead>\n",
       "    <tr style=\"text-align: right;\">\n",
       "      <th></th>\n",
       "      <th>date</th>\n",
       "      <th>vacances_zone_a</th>\n",
       "      <th>vacances_zone_b</th>\n",
       "      <th>vacances_zone_c</th>\n",
       "      <th>nom_vacances</th>\n",
       "      <th>Year</th>\n",
       "      <th>Month</th>\n",
       "      <th>Day</th>\n",
       "    </tr>\n",
       "  </thead>\n",
       "  <tbody>\n",
       "    <tr>\n",
       "      <th>10592</th>\n",
       "      <td>2019-01-01</td>\n",
       "      <td>True</td>\n",
       "      <td>True</td>\n",
       "      <td>True</td>\n",
       "      <td>Vacances de Noël</td>\n",
       "      <td>2019</td>\n",
       "      <td>1</td>\n",
       "      <td>1</td>\n",
       "    </tr>\n",
       "    <tr>\n",
       "      <th>10593</th>\n",
       "      <td>2019-01-02</td>\n",
       "      <td>True</td>\n",
       "      <td>True</td>\n",
       "      <td>True</td>\n",
       "      <td>Vacances de Noël</td>\n",
       "      <td>2019</td>\n",
       "      <td>1</td>\n",
       "      <td>2</td>\n",
       "    </tr>\n",
       "    <tr>\n",
       "      <th>10594</th>\n",
       "      <td>2019-01-03</td>\n",
       "      <td>True</td>\n",
       "      <td>True</td>\n",
       "      <td>True</td>\n",
       "      <td>Vacances de Noël</td>\n",
       "      <td>2019</td>\n",
       "      <td>1</td>\n",
       "      <td>3</td>\n",
       "    </tr>\n",
       "    <tr>\n",
       "      <th>10595</th>\n",
       "      <td>2019-01-04</td>\n",
       "      <td>True</td>\n",
       "      <td>True</td>\n",
       "      <td>True</td>\n",
       "      <td>Vacances de Noël</td>\n",
       "      <td>2019</td>\n",
       "      <td>1</td>\n",
       "      <td>4</td>\n",
       "    </tr>\n",
       "    <tr>\n",
       "      <th>10596</th>\n",
       "      <td>2019-01-05</td>\n",
       "      <td>True</td>\n",
       "      <td>True</td>\n",
       "      <td>True</td>\n",
       "      <td>Vacances de Noël</td>\n",
       "      <td>2019</td>\n",
       "      <td>1</td>\n",
       "      <td>5</td>\n",
       "    </tr>\n",
       "  </tbody>\n",
       "</table>\n",
       "</div>"
      ],
      "text/plain": [
       "            date  vacances_zone_a  vacances_zone_b  vacances_zone_c  \\\n",
       "10592 2019-01-01             True             True             True   \n",
       "10593 2019-01-02             True             True             True   \n",
       "10594 2019-01-03             True             True             True   \n",
       "10595 2019-01-04             True             True             True   \n",
       "10596 2019-01-05             True             True             True   \n",
       "\n",
       "           nom_vacances  Year  Month  Day  \n",
       "10592  Vacances de Noël  2019      1    1  \n",
       "10593  Vacances de Noël  2019      1    2  \n",
       "10594  Vacances de Noël  2019      1    3  \n",
       "10595  Vacances de Noël  2019      1    4  \n",
       "10596  Vacances de Noël  2019      1    5  "
      ]
     },
     "execution_count": 7,
     "metadata": {},
     "output_type": "execute_result"
    }
   ],
   "source": [
    "vacances_2019 = vacances_df[vacances_df['Year'] == 2019].copy()\n",
    "vacances_2020 = vacances_df[vacances_df['Year'] == 2020].copy()\n",
    "vacances_2021 = vacances_df[vacances_df['Year'] == 2021].copy()\n",
    "vacances_2019.head()"
   ]
  },
  {
   "cell_type": "markdown",
   "id": "8fd754fb",
   "metadata": {
    "ExecuteTime": {
     "end_time": "2021-08-23T12:06:02.729467Z",
     "start_time": "2021-08-23T12:06:02.663821Z"
    }
   },
   "source": [
    "### Donnée métérologique"
   ]
  },
  {
   "cell_type": "code",
   "execution_count": 8,
   "id": "f6ba0e6d",
   "metadata": {
    "ExecuteTime": {
     "end_time": "2021-08-24T07:14:01.786240Z",
     "start_time": "2021-08-24T07:14:01.499160Z"
    }
   },
   "outputs": [
    {
     "data": {
      "text/html": [
       "<div>\n",
       "<style scoped>\n",
       "    .dataframe tbody tr th:only-of-type {\n",
       "        vertical-align: middle;\n",
       "    }\n",
       "\n",
       "    .dataframe tbody tr th {\n",
       "        vertical-align: top;\n",
       "    }\n",
       "\n",
       "    .dataframe thead th {\n",
       "        text-align: right;\n",
       "    }\n",
       "</style>\n",
       "<table border=\"1\" class=\"dataframe\">\n",
       "  <thead>\n",
       "    <tr style=\"text-align: right;\">\n",
       "      <th></th>\n",
       "      <th>dt</th>\n",
       "      <th>dt_iso</th>\n",
       "      <th>timezone</th>\n",
       "      <th>city_name</th>\n",
       "      <th>lat</th>\n",
       "      <th>lon</th>\n",
       "      <th>temp</th>\n",
       "      <th>feels_like</th>\n",
       "      <th>temp_min</th>\n",
       "      <th>temp_max</th>\n",
       "      <th>...</th>\n",
       "      <th>wind_deg</th>\n",
       "      <th>rain_1h</th>\n",
       "      <th>rain_3h</th>\n",
       "      <th>snow_1h</th>\n",
       "      <th>snow_3h</th>\n",
       "      <th>clouds_all</th>\n",
       "      <th>weather_id</th>\n",
       "      <th>weather_main</th>\n",
       "      <th>weather_description</th>\n",
       "      <th>weather_icon</th>\n",
       "    </tr>\n",
       "  </thead>\n",
       "  <tbody>\n",
       "    <tr>\n",
       "      <th>0</th>\n",
       "      <td>1262304000</td>\n",
       "      <td>2010-01-01 00:00:00 +0000 UTC</td>\n",
       "      <td>3600</td>\n",
       "      <td>Champs Elysees</td>\n",
       "      <td>48.87079</td>\n",
       "      <td>2.3043</td>\n",
       "      <td>274.34</td>\n",
       "      <td>270.26</td>\n",
       "      <td>273.90</td>\n",
       "      <td>274.71</td>\n",
       "      <td>...</td>\n",
       "      <td>10</td>\n",
       "      <td>NaN</td>\n",
       "      <td>NaN</td>\n",
       "      <td>NaN</td>\n",
       "      <td>NaN</td>\n",
       "      <td>90</td>\n",
       "      <td>701</td>\n",
       "      <td>Mist</td>\n",
       "      <td>mist</td>\n",
       "      <td>50n</td>\n",
       "    </tr>\n",
       "    <tr>\n",
       "      <th>1</th>\n",
       "      <td>1262307600</td>\n",
       "      <td>2010-01-01 01:00:00 +0000 UTC</td>\n",
       "      <td>3600</td>\n",
       "      <td>Champs Elysees</td>\n",
       "      <td>48.87079</td>\n",
       "      <td>2.3043</td>\n",
       "      <td>274.09</td>\n",
       "      <td>269.95</td>\n",
       "      <td>273.48</td>\n",
       "      <td>274.45</td>\n",
       "      <td>...</td>\n",
       "      <td>10</td>\n",
       "      <td>NaN</td>\n",
       "      <td>NaN</td>\n",
       "      <td>NaN</td>\n",
       "      <td>NaN</td>\n",
       "      <td>90</td>\n",
       "      <td>701</td>\n",
       "      <td>Mist</td>\n",
       "      <td>mist</td>\n",
       "      <td>50n</td>\n",
       "    </tr>\n",
       "    <tr>\n",
       "      <th>2</th>\n",
       "      <td>1262311200</td>\n",
       "      <td>2010-01-01 02:00:00 +0000 UTC</td>\n",
       "      <td>3600</td>\n",
       "      <td>Champs Elysees</td>\n",
       "      <td>48.87079</td>\n",
       "      <td>2.3043</td>\n",
       "      <td>274.13</td>\n",
       "      <td>269.40</td>\n",
       "      <td>273.38</td>\n",
       "      <td>274.61</td>\n",
       "      <td>...</td>\n",
       "      <td>350</td>\n",
       "      <td>NaN</td>\n",
       "      <td>NaN</td>\n",
       "      <td>NaN</td>\n",
       "      <td>NaN</td>\n",
       "      <td>90</td>\n",
       "      <td>804</td>\n",
       "      <td>Clouds</td>\n",
       "      <td>overcast clouds</td>\n",
       "      <td>04n</td>\n",
       "    </tr>\n",
       "    <tr>\n",
       "      <th>3</th>\n",
       "      <td>1262314800</td>\n",
       "      <td>2010-01-01 03:00:00 +0000 UTC</td>\n",
       "      <td>3600</td>\n",
       "      <td>Champs Elysees</td>\n",
       "      <td>48.87079</td>\n",
       "      <td>2.3043</td>\n",
       "      <td>273.84</td>\n",
       "      <td>268.72</td>\n",
       "      <td>273.08</td>\n",
       "      <td>274.21</td>\n",
       "      <td>...</td>\n",
       "      <td>10</td>\n",
       "      <td>NaN</td>\n",
       "      <td>NaN</td>\n",
       "      <td>NaN</td>\n",
       "      <td>NaN</td>\n",
       "      <td>90</td>\n",
       "      <td>804</td>\n",
       "      <td>Clouds</td>\n",
       "      <td>overcast clouds</td>\n",
       "      <td>04n</td>\n",
       "    </tr>\n",
       "    <tr>\n",
       "      <th>4</th>\n",
       "      <td>1262318400</td>\n",
       "      <td>2010-01-01 04:00:00 +0000 UTC</td>\n",
       "      <td>3600</td>\n",
       "      <td>Champs Elysees</td>\n",
       "      <td>48.87079</td>\n",
       "      <td>2.3043</td>\n",
       "      <td>273.53</td>\n",
       "      <td>269.27</td>\n",
       "      <td>273.18</td>\n",
       "      <td>273.81</td>\n",
       "      <td>...</td>\n",
       "      <td>30</td>\n",
       "      <td>NaN</td>\n",
       "      <td>NaN</td>\n",
       "      <td>NaN</td>\n",
       "      <td>NaN</td>\n",
       "      <td>90</td>\n",
       "      <td>804</td>\n",
       "      <td>Clouds</td>\n",
       "      <td>overcast clouds</td>\n",
       "      <td>04n</td>\n",
       "    </tr>\n",
       "  </tbody>\n",
       "</table>\n",
       "<p>5 rows × 25 columns</p>\n",
       "</div>"
      ],
      "text/plain": [
       "           dt                         dt_iso  timezone       city_name  \\\n",
       "0  1262304000  2010-01-01 00:00:00 +0000 UTC      3600  Champs Elysees   \n",
       "1  1262307600  2010-01-01 01:00:00 +0000 UTC      3600  Champs Elysees   \n",
       "2  1262311200  2010-01-01 02:00:00 +0000 UTC      3600  Champs Elysees   \n",
       "3  1262314800  2010-01-01 03:00:00 +0000 UTC      3600  Champs Elysees   \n",
       "4  1262318400  2010-01-01 04:00:00 +0000 UTC      3600  Champs Elysees   \n",
       "\n",
       "        lat     lon    temp  feels_like  temp_min  temp_max  ...  wind_deg  \\\n",
       "0  48.87079  2.3043  274.34      270.26    273.90    274.71  ...        10   \n",
       "1  48.87079  2.3043  274.09      269.95    273.48    274.45  ...        10   \n",
       "2  48.87079  2.3043  274.13      269.40    273.38    274.61  ...       350   \n",
       "3  48.87079  2.3043  273.84      268.72    273.08    274.21  ...        10   \n",
       "4  48.87079  2.3043  273.53      269.27    273.18    273.81  ...        30   \n",
       "\n",
       "   rain_1h  rain_3h  snow_1h  snow_3h  clouds_all  weather_id  weather_main  \\\n",
       "0      NaN      NaN      NaN      NaN          90         701          Mist   \n",
       "1      NaN      NaN      NaN      NaN          90         701          Mist   \n",
       "2      NaN      NaN      NaN      NaN          90         804        Clouds   \n",
       "3      NaN      NaN      NaN      NaN          90         804        Clouds   \n",
       "4      NaN      NaN      NaN      NaN          90         804        Clouds   \n",
       "\n",
       "   weather_description  weather_icon  \n",
       "0                 mist           50n  \n",
       "1                 mist           50n  \n",
       "2      overcast clouds           04n  \n",
       "3      overcast clouds           04n  \n",
       "4      overcast clouds           04n  \n",
       "\n",
       "[5 rows x 25 columns]"
      ]
     },
     "execution_count": 8,
     "metadata": {},
     "output_type": "execute_result"
    }
   ],
   "source": [
    "weather_df = pd.read_csv('/Users/ericblanvillain/code/EricBlanvillain/resto-655-project/resto-project-data/Data/Weather_Data/historical-data-paris.csv')\n",
    "#pd.to_datetime(weather_df['dt_iso'])\n",
    "weather_df.head()"
   ]
  },
  {
   "cell_type": "code",
   "execution_count": 16,
   "id": "4d188e57",
   "metadata": {
    "ExecuteTime": {
     "end_time": "2021-08-24T08:25:39.966047Z",
     "start_time": "2021-08-24T08:25:39.886032Z"
    }
   },
   "outputs": [
    {
     "data": {
      "text/html": [
       "<div>\n",
       "<style scoped>\n",
       "    .dataframe tbody tr th:only-of-type {\n",
       "        vertical-align: middle;\n",
       "    }\n",
       "\n",
       "    .dataframe tbody tr th {\n",
       "        vertical-align: top;\n",
       "    }\n",
       "\n",
       "    .dataframe thead th {\n",
       "        text-align: right;\n",
       "    }\n",
       "</style>\n",
       "<table border=\"1\" class=\"dataframe\">\n",
       "  <thead>\n",
       "    <tr style=\"text-align: right;\">\n",
       "      <th></th>\n",
       "      <th>date</th>\n",
       "      <th>vacances_zone_a</th>\n",
       "      <th>vacances_zone_b</th>\n",
       "      <th>vacances_zone_c</th>\n",
       "      <th>nom_vacances</th>\n",
       "    </tr>\n",
       "  </thead>\n",
       "  <tbody>\n",
       "    <tr>\n",
       "      <th>0</th>\n",
       "      <td>1990-01-01</td>\n",
       "      <td>False</td>\n",
       "      <td>False</td>\n",
       "      <td>False</td>\n",
       "      <td>NaN</td>\n",
       "    </tr>\n",
       "    <tr>\n",
       "      <th>1</th>\n",
       "      <td>1990-01-02</td>\n",
       "      <td>False</td>\n",
       "      <td>False</td>\n",
       "      <td>False</td>\n",
       "      <td>NaN</td>\n",
       "    </tr>\n",
       "    <tr>\n",
       "      <th>2</th>\n",
       "      <td>1990-01-03</td>\n",
       "      <td>False</td>\n",
       "      <td>False</td>\n",
       "      <td>False</td>\n",
       "      <td>NaN</td>\n",
       "    </tr>\n",
       "    <tr>\n",
       "      <th>3</th>\n",
       "      <td>1990-01-04</td>\n",
       "      <td>False</td>\n",
       "      <td>False</td>\n",
       "      <td>False</td>\n",
       "      <td>NaN</td>\n",
       "    </tr>\n",
       "    <tr>\n",
       "      <th>4</th>\n",
       "      <td>1990-01-05</td>\n",
       "      <td>False</td>\n",
       "      <td>False</td>\n",
       "      <td>False</td>\n",
       "      <td>NaN</td>\n",
       "    </tr>\n",
       "  </tbody>\n",
       "</table>\n",
       "</div>"
      ],
      "text/plain": [
       "         date  vacances_zone_a  vacances_zone_b  vacances_zone_c nom_vacances\n",
       "0  1990-01-01            False            False            False          NaN\n",
       "1  1990-01-02            False            False            False          NaN\n",
       "2  1990-01-03            False            False            False          NaN\n",
       "3  1990-01-04            False            False            False          NaN\n",
       "4  1990-01-05            False            False            False          NaN"
      ]
     },
     "execution_count": 16,
     "metadata": {},
     "output_type": "execute_result"
    }
   ],
   "source": [
    "vacations_df = pd.read_csv('/Users/ericblanvillain/code/EricBlanvillain/resto-655-project/resto-project-data/vacances_all_zones.csv')\n",
    "vacations_df.head()"
   ]
  },
  {
   "cell_type": "markdown",
   "id": "142da5aa",
   "metadata": {
    "ExecuteTime": {
     "end_time": "2021-08-23T12:15:37.166730Z",
     "start_time": "2021-08-23T12:15:37.132457Z"
    }
   },
   "source": [
    "### Données restaurants"
   ]
  },
  {
   "cell_type": "code",
   "execution_count": 18,
   "id": "1e834879",
   "metadata": {
    "ExecuteTime": {
     "end_time": "2021-08-24T08:26:20.115004Z",
     "start_time": "2021-08-24T08:26:18.875403Z"
    },
    "scrolled": true
   },
   "outputs": [
    {
     "data": {
      "text/html": [
       "<div>\n",
       "<style scoped>\n",
       "    .dataframe tbody tr th:only-of-type {\n",
       "        vertical-align: middle;\n",
       "    }\n",
       "\n",
       "    .dataframe tbody tr th {\n",
       "        vertical-align: top;\n",
       "    }\n",
       "\n",
       "    .dataframe thead th {\n",
       "        text-align: right;\n",
       "    }\n",
       "</style>\n",
       "<table border=\"1\" class=\"dataframe\">\n",
       "  <thead>\n",
       "    <tr style=\"text-align: right;\">\n",
       "      <th></th>\n",
       "      <th>Année</th>\n",
       "      <th>Mois</th>\n",
       "      <th>Jour du mois</th>\n",
       "      <th>Tranche Horaire</th>\n",
       "      <th>Jour de la semaine</th>\n",
       "      <th>CA TTC</th>\n",
       "      <th>CA HT</th>\n",
       "      <th>TVA</th>\n",
       "    </tr>\n",
       "  </thead>\n",
       "  <tbody>\n",
       "    <tr>\n",
       "      <th>0</th>\n",
       "      <td>2019</td>\n",
       "      <td>12</td>\n",
       "      <td>30</td>\n",
       "      <td>[22h à 23h[</td>\n",
       "      <td>Lundi</td>\n",
       "      <td>2607.5</td>\n",
       "      <td>2310.000000</td>\n",
       "      <td>297.500000</td>\n",
       "    </tr>\n",
       "    <tr>\n",
       "      <th>1</th>\n",
       "      <td>2019</td>\n",
       "      <td>12</td>\n",
       "      <td>3</td>\n",
       "      <td>[19h à 20h[</td>\n",
       "      <td>Mardi</td>\n",
       "      <td>2597.0</td>\n",
       "      <td>2292.803030</td>\n",
       "      <td>304.196970</td>\n",
       "    </tr>\n",
       "    <tr>\n",
       "      <th>2</th>\n",
       "      <td>2019</td>\n",
       "      <td>12</td>\n",
       "      <td>6</td>\n",
       "      <td>[21h à 22h[</td>\n",
       "      <td>Vendredi</td>\n",
       "      <td>1893.0</td>\n",
       "      <td>1654.924242</td>\n",
       "      <td>238.075758</td>\n",
       "    </tr>\n",
       "    <tr>\n",
       "      <th>3</th>\n",
       "      <td>2019</td>\n",
       "      <td>12</td>\n",
       "      <td>9</td>\n",
       "      <td>[22h à 23h[</td>\n",
       "      <td>Lundi</td>\n",
       "      <td>902.0</td>\n",
       "      <td>788.484848</td>\n",
       "      <td>113.515152</td>\n",
       "    </tr>\n",
       "    <tr>\n",
       "      <th>4</th>\n",
       "      <td>2019</td>\n",
       "      <td>12</td>\n",
       "      <td>11</td>\n",
       "      <td>[18h à 19h[</td>\n",
       "      <td>Mercredi</td>\n",
       "      <td>114.0</td>\n",
       "      <td>95.454545</td>\n",
       "      <td>18.545455</td>\n",
       "    </tr>\n",
       "  </tbody>\n",
       "</table>\n",
       "</div>"
      ],
      "text/plain": [
       "   Année  Mois  Jour du mois Tranche Horaire Jour de la semaine  CA TTC  \\\n",
       "0   2019    12            30     [22h à 23h[              Lundi  2607.5   \n",
       "1   2019    12             3     [19h à 20h[              Mardi  2597.0   \n",
       "2   2019    12             6     [21h à 22h[           Vendredi  1893.0   \n",
       "3   2019    12             9     [22h à 23h[              Lundi   902.0   \n",
       "4   2019    12            11     [18h à 19h[           Mercredi   114.0   \n",
       "\n",
       "         CA HT         TVA  \n",
       "0  2310.000000  297.500000  \n",
       "1  2292.803030  304.196970  \n",
       "2  1654.924242  238.075758  \n",
       "3   788.484848  113.515152  \n",
       "4    95.454545   18.545455  "
      ]
     },
     "execution_count": 18,
     "metadata": {},
     "output_type": "execute_result"
    }
   ],
   "source": [
    "resto_df_DB = pd.read_excel('/Users/ericblanvillain/code/EricBlanvillain/resto-655-project/resto-project-data/Data/Data_Daroco/CA_DB_Janvier2019_2021.xlsx')\n",
    "resto_df_DB.head()"
   ]
  },
  {
   "cell_type": "code",
   "execution_count": 19,
   "id": "b256cfa4",
   "metadata": {
    "ExecuteTime": {
     "end_time": "2021-08-24T08:26:20.737933Z",
     "start_time": "2021-08-24T08:26:20.720498Z"
    }
   },
   "outputs": [
    {
     "data": {
      "text/plain": [
       "[19h à 20h[    673\n",
       "[20h à 21h[    672\n",
       "[13h à 14h[    661\n",
       "[12h à 13h[    658\n",
       "[21h à 22h[    655\n",
       "[14h à 15h[    651\n",
       "[22h à 23h[    631\n",
       "[23h à 00h[    624\n",
       "[00h à 01h[    575\n",
       "[18h à 19h[    573\n",
       "[15h à 16h[    566\n",
       "[01h à 02h[    348\n",
       "[16h à 17h[    271\n",
       "[17h à 18h[    156\n",
       "[11h à 12h[     98\n",
       "[02h à 03h[     39\n",
       "[10h à 11h[     23\n",
       "[09h à 10h[      8\n",
       "[03h à 04h[      1\n",
       "Name: Tranche Horaire, dtype: int64"
      ]
     },
     "execution_count": 19,
     "metadata": {},
     "output_type": "execute_result"
    }
   ],
   "source": [
    "resto_df_DB[\"Tranche Horaire\"].value_counts()"
   ]
  },
  {
   "cell_type": "code",
   "execution_count": 20,
   "id": "afa5065e",
   "metadata": {
    "ExecuteTime": {
     "end_time": "2021-08-24T08:26:21.344028Z",
     "start_time": "2021-08-24T08:26:21.324318Z"
    }
   },
   "outputs": [
    {
     "data": {
      "text/html": [
       "<div>\n",
       "<style scoped>\n",
       "    .dataframe tbody tr th:only-of-type {\n",
       "        vertical-align: middle;\n",
       "    }\n",
       "\n",
       "    .dataframe tbody tr th {\n",
       "        vertical-align: top;\n",
       "    }\n",
       "\n",
       "    .dataframe thead th {\n",
       "        text-align: right;\n",
       "    }\n",
       "</style>\n",
       "<table border=\"1\" class=\"dataframe\">\n",
       "  <thead>\n",
       "    <tr style=\"text-align: right;\">\n",
       "      <th></th>\n",
       "      <th>Année</th>\n",
       "      <th>Mois</th>\n",
       "      <th>Jour du mois</th>\n",
       "      <th>Tranche Horaire</th>\n",
       "      <th>Jour de la semaine</th>\n",
       "      <th>CA TTC</th>\n",
       "      <th>CA HT</th>\n",
       "      <th>TVA</th>\n",
       "      <th>TH -1</th>\n",
       "    </tr>\n",
       "  </thead>\n",
       "  <tbody>\n",
       "    <tr>\n",
       "      <th>0</th>\n",
       "      <td>2019</td>\n",
       "      <td>12</td>\n",
       "      <td>30</td>\n",
       "      <td>[22h à 23h[</td>\n",
       "      <td>Lundi</td>\n",
       "      <td>2607.5</td>\n",
       "      <td>2310.000000</td>\n",
       "      <td>297.500000</td>\n",
       "      <td>False</td>\n",
       "    </tr>\n",
       "    <tr>\n",
       "      <th>1</th>\n",
       "      <td>2019</td>\n",
       "      <td>12</td>\n",
       "      <td>3</td>\n",
       "      <td>[19h à 20h[</td>\n",
       "      <td>Mardi</td>\n",
       "      <td>2597.0</td>\n",
       "      <td>2292.803030</td>\n",
       "      <td>304.196970</td>\n",
       "      <td>False</td>\n",
       "    </tr>\n",
       "    <tr>\n",
       "      <th>2</th>\n",
       "      <td>2019</td>\n",
       "      <td>12</td>\n",
       "      <td>6</td>\n",
       "      <td>[21h à 22h[</td>\n",
       "      <td>Vendredi</td>\n",
       "      <td>1893.0</td>\n",
       "      <td>1654.924242</td>\n",
       "      <td>238.075758</td>\n",
       "      <td>False</td>\n",
       "    </tr>\n",
       "    <tr>\n",
       "      <th>3</th>\n",
       "      <td>2019</td>\n",
       "      <td>12</td>\n",
       "      <td>9</td>\n",
       "      <td>[22h à 23h[</td>\n",
       "      <td>Lundi</td>\n",
       "      <td>902.0</td>\n",
       "      <td>788.484848</td>\n",
       "      <td>113.515152</td>\n",
       "      <td>False</td>\n",
       "    </tr>\n",
       "    <tr>\n",
       "      <th>4</th>\n",
       "      <td>2019</td>\n",
       "      <td>12</td>\n",
       "      <td>11</td>\n",
       "      <td>[18h à 19h[</td>\n",
       "      <td>Mercredi</td>\n",
       "      <td>114.0</td>\n",
       "      <td>95.454545</td>\n",
       "      <td>18.545455</td>\n",
       "      <td>False</td>\n",
       "    </tr>\n",
       "    <tr>\n",
       "      <th>...</th>\n",
       "      <td>...</td>\n",
       "      <td>...</td>\n",
       "      <td>...</td>\n",
       "      <td>...</td>\n",
       "      <td>...</td>\n",
       "      <td>...</td>\n",
       "      <td>...</td>\n",
       "      <td>...</td>\n",
       "      <td>...</td>\n",
       "    </tr>\n",
       "    <tr>\n",
       "      <th>7878</th>\n",
       "      <td>2020</td>\n",
       "      <td>1</td>\n",
       "      <td>21</td>\n",
       "      <td>[19h à 20h[</td>\n",
       "      <td>Mardi</td>\n",
       "      <td>2521.0</td>\n",
       "      <td>2225.681818</td>\n",
       "      <td>295.318182</td>\n",
       "      <td>False</td>\n",
       "    </tr>\n",
       "    <tr>\n",
       "      <th>7879</th>\n",
       "      <td>2019</td>\n",
       "      <td>1</td>\n",
       "      <td>7</td>\n",
       "      <td>[18h à 19h[</td>\n",
       "      <td>Lundi</td>\n",
       "      <td>124.0</td>\n",
       "      <td>104.393939</td>\n",
       "      <td>19.606061</td>\n",
       "      <td>False</td>\n",
       "    </tr>\n",
       "    <tr>\n",
       "      <th>7880</th>\n",
       "      <td>2020</td>\n",
       "      <td>1</td>\n",
       "      <td>23</td>\n",
       "      <td>[15h à 16h[</td>\n",
       "      <td>Jeudi</td>\n",
       "      <td>28.0</td>\n",
       "      <td>25.454545</td>\n",
       "      <td>2.545455</td>\n",
       "      <td>False</td>\n",
       "    </tr>\n",
       "    <tr>\n",
       "      <th>7881</th>\n",
       "      <td>2019</td>\n",
       "      <td>1</td>\n",
       "      <td>9</td>\n",
       "      <td>[22h à 23h[</td>\n",
       "      <td>Mercredi</td>\n",
       "      <td>1516.0</td>\n",
       "      <td>1321.818182</td>\n",
       "      <td>194.181818</td>\n",
       "      <td>False</td>\n",
       "    </tr>\n",
       "    <tr>\n",
       "      <th>7882</th>\n",
       "      <td>2020</td>\n",
       "      <td>1</td>\n",
       "      <td>11</td>\n",
       "      <td>[01h à 02h[</td>\n",
       "      <td>Samedi</td>\n",
       "      <td>112.0</td>\n",
       "      <td>93.333333</td>\n",
       "      <td>18.666667</td>\n",
       "      <td>False</td>\n",
       "    </tr>\n",
       "  </tbody>\n",
       "</table>\n",
       "<p>7883 rows × 9 columns</p>\n",
       "</div>"
      ],
      "text/plain": [
       "      Année  Mois  Jour du mois Tranche Horaire Jour de la semaine  CA TTC  \\\n",
       "0      2019    12            30     [22h à 23h[              Lundi  2607.5   \n",
       "1      2019    12             3     [19h à 20h[              Mardi  2597.0   \n",
       "2      2019    12             6     [21h à 22h[           Vendredi  1893.0   \n",
       "3      2019    12             9     [22h à 23h[              Lundi   902.0   \n",
       "4      2019    12            11     [18h à 19h[           Mercredi   114.0   \n",
       "...     ...   ...           ...             ...                ...     ...   \n",
       "7878   2020     1            21     [19h à 20h[              Mardi  2521.0   \n",
       "7879   2019     1             7     [18h à 19h[              Lundi   124.0   \n",
       "7880   2020     1            23     [15h à 16h[              Jeudi    28.0   \n",
       "7881   2019     1             9     [22h à 23h[           Mercredi  1516.0   \n",
       "7882   2020     1            11     [01h à 02h[             Samedi   112.0   \n",
       "\n",
       "            CA HT         TVA  TH -1  \n",
       "0     2310.000000  297.500000  False  \n",
       "1     2292.803030  304.196970  False  \n",
       "2     1654.924242  238.075758  False  \n",
       "3      788.484848  113.515152  False  \n",
       "4       95.454545   18.545455  False  \n",
       "...           ...         ...    ...  \n",
       "7878  2225.681818  295.318182  False  \n",
       "7879   104.393939   19.606061  False  \n",
       "7880    25.454545    2.545455  False  \n",
       "7881  1321.818182  194.181818  False  \n",
       "7882    93.333333   18.666667  False  \n",
       "\n",
       "[7883 rows x 9 columns]"
      ]
     },
     "execution_count": 20,
     "metadata": {},
     "output_type": "execute_result"
    }
   ],
   "source": [
    "resto_df_DB['TH -1'] = np.where(resto_df_DB['Tranche Horaire']== '[00h à 01h[', True, False)\n",
    "resto_df_DB"
   ]
  },
  {
   "cell_type": "code",
   "execution_count": 21,
   "id": "4b582d02",
   "metadata": {
    "ExecuteTime": {
     "end_time": "2021-08-24T08:26:24.785368Z",
     "start_time": "2021-08-24T08:26:24.706121Z"
    },
    "scrolled": true
   },
   "outputs": [
    {
     "data": {
      "text/html": [
       "<div>\n",
       "<style scoped>\n",
       "    .dataframe tbody tr th:only-of-type {\n",
       "        vertical-align: middle;\n",
       "    }\n",
       "\n",
       "    .dataframe tbody tr th {\n",
       "        vertical-align: top;\n",
       "    }\n",
       "\n",
       "    .dataframe thead th {\n",
       "        text-align: right;\n",
       "    }\n",
       "</style>\n",
       "<table border=\"1\" class=\"dataframe\">\n",
       "  <thead>\n",
       "    <tr style=\"text-align: right;\">\n",
       "      <th></th>\n",
       "      <th>Année</th>\n",
       "      <th>Mois</th>\n",
       "      <th>Jour du mois</th>\n",
       "      <th>Tranche Horaire</th>\n",
       "      <th>Jour de la semaine</th>\n",
       "      <th>CA TTC</th>\n",
       "      <th>CA HT</th>\n",
       "      <th>TVA</th>\n",
       "      <th>TH -1</th>\n",
       "      <th>date</th>\n",
       "    </tr>\n",
       "  </thead>\n",
       "  <tbody>\n",
       "    <tr>\n",
       "      <th>0</th>\n",
       "      <td>2019</td>\n",
       "      <td>12</td>\n",
       "      <td>30</td>\n",
       "      <td>[22h à 23h[</td>\n",
       "      <td>Lundi</td>\n",
       "      <td>2607.5</td>\n",
       "      <td>2310.000000</td>\n",
       "      <td>297.500000</td>\n",
       "      <td>False</td>\n",
       "      <td>2019/12/30</td>\n",
       "    </tr>\n",
       "    <tr>\n",
       "      <th>1</th>\n",
       "      <td>2019</td>\n",
       "      <td>12</td>\n",
       "      <td>3</td>\n",
       "      <td>[19h à 20h[</td>\n",
       "      <td>Mardi</td>\n",
       "      <td>2597.0</td>\n",
       "      <td>2292.803030</td>\n",
       "      <td>304.196970</td>\n",
       "      <td>False</td>\n",
       "      <td>2019/12/3</td>\n",
       "    </tr>\n",
       "    <tr>\n",
       "      <th>2</th>\n",
       "      <td>2019</td>\n",
       "      <td>12</td>\n",
       "      <td>6</td>\n",
       "      <td>[21h à 22h[</td>\n",
       "      <td>Vendredi</td>\n",
       "      <td>1893.0</td>\n",
       "      <td>1654.924242</td>\n",
       "      <td>238.075758</td>\n",
       "      <td>False</td>\n",
       "      <td>2019/12/6</td>\n",
       "    </tr>\n",
       "    <tr>\n",
       "      <th>3</th>\n",
       "      <td>2019</td>\n",
       "      <td>12</td>\n",
       "      <td>9</td>\n",
       "      <td>[22h à 23h[</td>\n",
       "      <td>Lundi</td>\n",
       "      <td>902.0</td>\n",
       "      <td>788.484848</td>\n",
       "      <td>113.515152</td>\n",
       "      <td>False</td>\n",
       "      <td>2019/12/9</td>\n",
       "    </tr>\n",
       "    <tr>\n",
       "      <th>4</th>\n",
       "      <td>2019</td>\n",
       "      <td>12</td>\n",
       "      <td>11</td>\n",
       "      <td>[18h à 19h[</td>\n",
       "      <td>Mercredi</td>\n",
       "      <td>114.0</td>\n",
       "      <td>95.454545</td>\n",
       "      <td>18.545455</td>\n",
       "      <td>False</td>\n",
       "      <td>2019/12/11</td>\n",
       "    </tr>\n",
       "  </tbody>\n",
       "</table>\n",
       "</div>"
      ],
      "text/plain": [
       "   Année  Mois  Jour du mois Tranche Horaire Jour de la semaine  CA TTC  \\\n",
       "0   2019    12            30     [22h à 23h[              Lundi  2607.5   \n",
       "1   2019    12             3     [19h à 20h[              Mardi  2597.0   \n",
       "2   2019    12             6     [21h à 22h[           Vendredi  1893.0   \n",
       "3   2019    12             9     [22h à 23h[              Lundi   902.0   \n",
       "4   2019    12            11     [18h à 19h[           Mercredi   114.0   \n",
       "\n",
       "         CA HT         TVA  TH -1        date  \n",
       "0  2310.000000  297.500000  False  2019/12/30  \n",
       "1  2292.803030  304.196970  False   2019/12/3  \n",
       "2  1654.924242  238.075758  False   2019/12/6  \n",
       "3   788.484848  113.515152  False   2019/12/9  \n",
       "4    95.454545   18.545455  False  2019/12/11  "
      ]
     },
     "execution_count": 21,
     "metadata": {},
     "output_type": "execute_result"
    }
   ],
   "source": [
    "resto_df_DB[\"date\"] = (resto_df_DB[\"Année\"].astype(str)+\"/\"+resto_df_DB[\"Mois\"].astype(str)+\"/\"+resto_df_DB[\"Jour du mois\"].astype(str))\n",
    "pd.to_datetime(resto_df_DB[\"date\"])\n",
    "resto_df_DB.head()"
   ]
  },
  {
   "cell_type": "code",
   "execution_count": 22,
   "id": "2c9d8e14",
   "metadata": {
    "ExecuteTime": {
     "end_time": "2021-08-24T08:26:41.028530Z",
     "start_time": "2021-08-24T08:26:40.989744Z"
    }
   },
   "outputs": [
    {
     "data": {
      "text/plain": [
       "count           7883\n",
       "unique           685\n",
       "top       2019/12/26\n",
       "freq              16\n",
       "Name: date, dtype: object"
      ]
     },
     "execution_count": 22,
     "metadata": {},
     "output_type": "execute_result"
    }
   ],
   "source": [
    "resto_df_DB[\"date\"].describe()"
   ]
  },
  {
   "cell_type": "code",
   "execution_count": 23,
   "id": "377d0cfd",
   "metadata": {
    "ExecuteTime": {
     "end_time": "2021-08-24T08:26:42.194163Z",
     "start_time": "2021-08-24T08:26:41.635532Z"
    },
    "scrolled": true
   },
   "outputs": [
    {
     "data": {
      "text/html": [
       "<div>\n",
       "<style scoped>\n",
       "    .dataframe tbody tr th:only-of-type {\n",
       "        vertical-align: middle;\n",
       "    }\n",
       "\n",
       "    .dataframe tbody tr th {\n",
       "        vertical-align: top;\n",
       "    }\n",
       "\n",
       "    .dataframe thead th {\n",
       "        text-align: right;\n",
       "    }\n",
       "</style>\n",
       "<table border=\"1\" class=\"dataframe\">\n",
       "  <thead>\n",
       "    <tr style=\"text-align: right;\">\n",
       "      <th></th>\n",
       "      <th>Année</th>\n",
       "      <th>Mois</th>\n",
       "      <th>Jour du mois</th>\n",
       "      <th>Tranche Horaire</th>\n",
       "      <th>Jour de la semaine</th>\n",
       "      <th>CA TTC</th>\n",
       "      <th>CA HT</th>\n",
       "      <th>TVA</th>\n",
       "    </tr>\n",
       "  </thead>\n",
       "  <tbody>\n",
       "    <tr>\n",
       "      <th>0</th>\n",
       "      <td>2019</td>\n",
       "      <td>12</td>\n",
       "      <td>3</td>\n",
       "      <td>[20h à 21h[</td>\n",
       "      <td>Mardi</td>\n",
       "      <td>1615.5</td>\n",
       "      <td>1434.696970</td>\n",
       "      <td>180.803030</td>\n",
       "    </tr>\n",
       "    <tr>\n",
       "      <th>1</th>\n",
       "      <td>2019</td>\n",
       "      <td>12</td>\n",
       "      <td>1</td>\n",
       "      <td>[22h à 23h[</td>\n",
       "      <td>Dimanche</td>\n",
       "      <td>423.5</td>\n",
       "      <td>377.575758</td>\n",
       "      <td>45.924242</td>\n",
       "    </tr>\n",
       "    <tr>\n",
       "      <th>2</th>\n",
       "      <td>2019</td>\n",
       "      <td>12</td>\n",
       "      <td>18</td>\n",
       "      <td>[16h à 17h[</td>\n",
       "      <td>Mercredi</td>\n",
       "      <td>12.0</td>\n",
       "      <td>10.909091</td>\n",
       "      <td>1.090909</td>\n",
       "    </tr>\n",
       "    <tr>\n",
       "      <th>3</th>\n",
       "      <td>2019</td>\n",
       "      <td>12</td>\n",
       "      <td>5</td>\n",
       "      <td>[23h à 00h[</td>\n",
       "      <td>Jeudi</td>\n",
       "      <td>128.0</td>\n",
       "      <td>113.333333</td>\n",
       "      <td>14.666667</td>\n",
       "    </tr>\n",
       "    <tr>\n",
       "      <th>4</th>\n",
       "      <td>2019</td>\n",
       "      <td>12</td>\n",
       "      <td>13</td>\n",
       "      <td>[12h à 13h[</td>\n",
       "      <td>Vendredi</td>\n",
       "      <td>1728.5</td>\n",
       "      <td>1554.318182</td>\n",
       "      <td>174.181818</td>\n",
       "    </tr>\n",
       "  </tbody>\n",
       "</table>\n",
       "</div>"
      ],
      "text/plain": [
       "   Année  Mois  Jour du mois Tranche Horaire Jour de la semaine  CA TTC  \\\n",
       "0   2019    12             3     [20h à 21h[              Mardi  1615.5   \n",
       "1   2019    12             1     [22h à 23h[           Dimanche   423.5   \n",
       "2   2019    12            18     [16h à 17h[           Mercredi    12.0   \n",
       "3   2019    12             5     [23h à 00h[              Jeudi   128.0   \n",
       "4   2019    12            13     [12h à 13h[           Vendredi  1728.5   \n",
       "\n",
       "         CA HT         TVA  \n",
       "0  1434.696970  180.803030  \n",
       "1   377.575758   45.924242  \n",
       "2    10.909091    1.090909  \n",
       "3   113.333333   14.666667  \n",
       "4  1554.318182  174.181818  "
      ]
     },
     "execution_count": 23,
     "metadata": {},
     "output_type": "execute_result"
    }
   ],
   "source": [
    "resto_df_D16 = pd.read_excel('/Users/ericblanvillain/code/EricBlanvillain/resto-655-project/resto-project-data/Data/Data_Daroco/CA_DXVI_Aout2019_2021.xlsx')\n",
    "resto_df_D16.head()"
   ]
  },
  {
   "cell_type": "code",
   "execution_count": null,
   "id": "175d4920",
   "metadata": {
    "ExecuteTime": {
     "end_time": "2021-08-24T07:14:01.953775Z",
     "start_time": "2021-08-24T07:14:01.953764Z"
    }
   },
   "outputs": [],
   "source": [
    "#resto_df_D16_2 = pd.read_csv('/Users/ericblanvillain/code/EricBlanvillain/resto-655-project/resto-project-data/Data/Data_Daroco/Nb_couverts_D16.csv')\n",
    "#resto_df_D16_2.head()"
   ]
  },
  {
   "cell_type": "code",
   "execution_count": null,
   "id": "0edd05f8",
   "metadata": {
    "ExecuteTime": {
     "end_time": "2021-08-24T07:14:01.954453Z",
     "start_time": "2021-08-24T07:14:01.954445Z"
    },
    "scrolled": true
   },
   "outputs": [],
   "source": [
    "#resto_df_D16_2 = pd.read_excel('/Users/ericblanvillain/code/EricBlanvillain/resto-655-project/resto-project-data/Data/Data_Daroco/Nb_couverts_D16.xlsx')\n",
    "#resto_df_D16_2.head()"
   ]
  },
  {
   "cell_type": "code",
   "execution_count": null,
   "id": "bf02cf32",
   "metadata": {
    "ExecuteTime": {
     "end_time": "2021-08-24T07:14:01.955319Z",
     "start_time": "2021-08-24T07:14:01.955310Z"
    }
   },
   "outputs": [],
   "source": [
    "#resto_df_DB_2 = pd.read_excel('/Users/ericblanvillain/code/EricBlanvillain/resto-655-project/resto-project-data/Data/Data_Daroco/Nb_couverts_DB.xlsx')\n",
    "#resto_df_DB_2.head()"
   ]
  },
  {
   "cell_type": "markdown",
   "id": "482cfc2b",
   "metadata": {},
   "source": [
    "### Financial data "
   ]
  },
  {
   "cell_type": "code",
   "execution_count": 24,
   "id": "f04e6148",
   "metadata": {
    "ExecuteTime": {
     "end_time": "2021-08-24T08:26:45.743186Z",
     "start_time": "2021-08-24T08:26:45.687268Z"
    },
    "scrolled": false
   },
   "outputs": [
    {
     "data": {
      "text/html": [
       "<div>\n",
       "<style scoped>\n",
       "    .dataframe tbody tr th:only-of-type {\n",
       "        vertical-align: middle;\n",
       "    }\n",
       "\n",
       "    .dataframe tbody tr th {\n",
       "        vertical-align: top;\n",
       "    }\n",
       "\n",
       "    .dataframe thead th {\n",
       "        text-align: right;\n",
       "    }\n",
       "</style>\n",
       "<table border=\"1\" class=\"dataframe\">\n",
       "  <thead>\n",
       "    <tr style=\"text-align: right;\">\n",
       "      <th></th>\n",
       "      <th>Date</th>\n",
       "      <th>Open</th>\n",
       "      <th>High</th>\n",
       "      <th>Low</th>\n",
       "      <th>Close</th>\n",
       "      <th>Adj Close</th>\n",
       "      <th>Volume</th>\n",
       "      <th>Year</th>\n",
       "    </tr>\n",
       "  </thead>\n",
       "  <tbody>\n",
       "    <tr>\n",
       "      <th>0</th>\n",
       "      <td>2019-01-02</td>\n",
       "      <td>4642.180176</td>\n",
       "      <td>4699.979980</td>\n",
       "      <td>4606.200195</td>\n",
       "      <td>4689.390137</td>\n",
       "      <td>4689.390137</td>\n",
       "      <td>76980400.0</td>\n",
       "      <td>2019</td>\n",
       "    </tr>\n",
       "    <tr>\n",
       "      <th>1</th>\n",
       "      <td>2019-01-03</td>\n",
       "      <td>4641.799805</td>\n",
       "      <td>4671.279785</td>\n",
       "      <td>4607.680176</td>\n",
       "      <td>4611.490234</td>\n",
       "      <td>4611.490234</td>\n",
       "      <td>78741500.0</td>\n",
       "      <td>2019</td>\n",
       "    </tr>\n",
       "    <tr>\n",
       "      <th>2</th>\n",
       "      <td>2019-01-04</td>\n",
       "      <td>4649.629883</td>\n",
       "      <td>4750.509766</td>\n",
       "      <td>4636.790039</td>\n",
       "      <td>4737.120117</td>\n",
       "      <td>4737.120117</td>\n",
       "      <td>95967400.0</td>\n",
       "      <td>2019</td>\n",
       "    </tr>\n",
       "    <tr>\n",
       "      <th>3</th>\n",
       "      <td>2019-01-07</td>\n",
       "      <td>4757.009766</td>\n",
       "      <td>4760.270020</td>\n",
       "      <td>4690.220215</td>\n",
       "      <td>4719.169922</td>\n",
       "      <td>4719.169922</td>\n",
       "      <td>73900700.0</td>\n",
       "      <td>2019</td>\n",
       "    </tr>\n",
       "    <tr>\n",
       "      <th>4</th>\n",
       "      <td>2019-01-08</td>\n",
       "      <td>4722.160156</td>\n",
       "      <td>4810.270020</td>\n",
       "      <td>4719.229980</td>\n",
       "      <td>4773.270020</td>\n",
       "      <td>4773.270020</td>\n",
       "      <td>98114900.0</td>\n",
       "      <td>2019</td>\n",
       "    </tr>\n",
       "  </tbody>\n",
       "</table>\n",
       "</div>"
      ],
      "text/plain": [
       "         Date         Open         High          Low        Close  \\\n",
       "0  2019-01-02  4642.180176  4699.979980  4606.200195  4689.390137   \n",
       "1  2019-01-03  4641.799805  4671.279785  4607.680176  4611.490234   \n",
       "2  2019-01-04  4649.629883  4750.509766  4636.790039  4737.120117   \n",
       "3  2019-01-07  4757.009766  4760.270020  4690.220215  4719.169922   \n",
       "4  2019-01-08  4722.160156  4810.270020  4719.229980  4773.270020   \n",
       "\n",
       "     Adj Close      Volume  Year  \n",
       "0  4689.390137  76980400.0  2019  \n",
       "1  4611.490234  78741500.0  2019  \n",
       "2  4737.120117  95967400.0  2019  \n",
       "3  4719.169922  73900700.0  2019  \n",
       "4  4773.270020  98114900.0  2019  "
      ]
     },
     "execution_count": 24,
     "metadata": {},
     "output_type": "execute_result"
    }
   ],
   "source": [
    "cac_40_raw = pd.read_csv('//Users/ericblanvillain/code/EricBlanvillain/resto-655-project/CAC_40/^FCHI.csv')\n",
    "pd.to_datetime(cac_40_raw[\"Date\"])\n",
    "cac_40_raw[\"Year\"] = pd.DatetimeIndex(cac_40_raw['Date']).year\n",
    "cac_40_raw.head()"
   ]
  },
  {
   "cell_type": "code",
   "execution_count": 26,
   "id": "7e6d615c",
   "metadata": {
    "ExecuteTime": {
     "end_time": "2021-08-24T08:27:01.349772Z",
     "start_time": "2021-08-24T08:27:01.317500Z"
    },
    "scrolled": true
   },
   "outputs": [],
   "source": [
    "#sns.set_theme(style=\"darkgrid\")\n",
    "#plt.figure(figsize=(15,4))\n",
    "#ax= sns.lineplot(data=cac_40_raw, x=\"Date\", y=\"Close\")\n",
    "#ax.set(xticks = np.arange(0,cac_40_raw[\"Date\"].nunique()))\n",
    "#plt.show()"
   ]
  },
  {
   "cell_type": "code",
   "execution_count": 27,
   "id": "49a92c80",
   "metadata": {
    "ExecuteTime": {
     "end_time": "2021-08-24T08:27:02.342432Z",
     "start_time": "2021-08-24T08:27:02.210913Z"
    },
    "scrolled": false
   },
   "outputs": [
    {
     "data": {
      "text/html": [
       "<div>\n",
       "<style scoped>\n",
       "    .dataframe tbody tr th:only-of-type {\n",
       "        vertical-align: middle;\n",
       "    }\n",
       "\n",
       "    .dataframe tbody tr th {\n",
       "        vertical-align: top;\n",
       "    }\n",
       "\n",
       "    .dataframe thead th {\n",
       "        text-align: right;\n",
       "    }\n",
       "</style>\n",
       "<table border=\"1\" class=\"dataframe\">\n",
       "  <thead>\n",
       "    <tr style=\"text-align: right;\">\n",
       "      <th></th>\n",
       "      <th>CompanyName</th>\n",
       "      <th>StockName</th>\n",
       "      <th>High</th>\n",
       "      <th>Low</th>\n",
       "      <th>Open</th>\n",
       "      <th>Close</th>\n",
       "      <th>Volume</th>\n",
       "      <th>Date</th>\n",
       "    </tr>\n",
       "  </thead>\n",
       "  <tbody>\n",
       "    <tr>\n",
       "      <th>0</th>\n",
       "      <td>TechnipFMC</td>\n",
       "      <td>FTI</td>\n",
       "      <td>29.855000</td>\n",
       "      <td>29.075001</td>\n",
       "      <td>29.075001</td>\n",
       "      <td>29.615000</td>\n",
       "      <td>1908400.0</td>\n",
       "      <td>2010-01-04</td>\n",
       "    </tr>\n",
       "    <tr>\n",
       "      <th>1</th>\n",
       "      <td>TechnipFMC</td>\n",
       "      <td>FTI</td>\n",
       "      <td>30.270000</td>\n",
       "      <td>29.555000</td>\n",
       "      <td>29.610001</td>\n",
       "      <td>30.125000</td>\n",
       "      <td>2206600.0</td>\n",
       "      <td>2010-01-05</td>\n",
       "    </tr>\n",
       "    <tr>\n",
       "      <th>2</th>\n",
       "      <td>TechnipFMC</td>\n",
       "      <td>FTI</td>\n",
       "      <td>30.305000</td>\n",
       "      <td>29.434999</td>\n",
       "      <td>30.040001</td>\n",
       "      <td>30.264999</td>\n",
       "      <td>2724200.0</td>\n",
       "      <td>2010-01-06</td>\n",
       "    </tr>\n",
       "    <tr>\n",
       "      <th>3</th>\n",
       "      <td>TechnipFMC</td>\n",
       "      <td>FTI</td>\n",
       "      <td>30.219999</td>\n",
       "      <td>29.715000</td>\n",
       "      <td>30.155001</td>\n",
       "      <td>29.915001</td>\n",
       "      <td>2581000.0</td>\n",
       "      <td>2010-01-07</td>\n",
       "    </tr>\n",
       "    <tr>\n",
       "      <th>4</th>\n",
       "      <td>TechnipFMC</td>\n",
       "      <td>FTI</td>\n",
       "      <td>30.500000</td>\n",
       "      <td>29.625000</td>\n",
       "      <td>29.830000</td>\n",
       "      <td>30.450001</td>\n",
       "      <td>3280400.0</td>\n",
       "      <td>2010-01-08</td>\n",
       "    </tr>\n",
       "  </tbody>\n",
       "</table>\n",
       "</div>"
      ],
      "text/plain": [
       "  CompanyName StockName       High        Low       Open      Close  \\\n",
       "0  TechnipFMC       FTI  29.855000  29.075001  29.075001  29.615000   \n",
       "1  TechnipFMC       FTI  30.270000  29.555000  29.610001  30.125000   \n",
       "2  TechnipFMC       FTI  30.305000  29.434999  30.040001  30.264999   \n",
       "3  TechnipFMC       FTI  30.219999  29.715000  30.155001  29.915001   \n",
       "4  TechnipFMC       FTI  30.500000  29.625000  29.830000  30.450001   \n",
       "\n",
       "      Volume        Date  \n",
       "0  1908400.0  2010-01-04  \n",
       "1  2206600.0  2010-01-05  \n",
       "2  2724200.0  2010-01-06  \n",
       "3  2581000.0  2010-01-07  \n",
       "4  3280400.0  2010-01-08  "
      ]
     },
     "execution_count": 27,
     "metadata": {},
     "output_type": "execute_result"
    }
   ],
   "source": [
    "cac_40 = pd.read_csv('/Users/ericblanvillain/code/EricBlanvillain/resto-655-project/CAC_40/CAC40_stocks_2010_2021.csv')\n",
    "cac_40.head()"
   ]
  },
  {
   "cell_type": "code",
   "execution_count": 28,
   "id": "d2b10e47",
   "metadata": {
    "ExecuteTime": {
     "end_time": "2021-08-24T08:27:05.887543Z",
     "start_time": "2021-08-24T08:27:05.842217Z"
    }
   },
   "outputs": [
    {
     "data": {
      "text/plain": [
       "array(['TechnipFMC', 'Atos', 'Publicis', 'Accor', 'Carrefour', 'Renault',\n",
       "       'Veolia', 'Bouygues', 'Sodexo', 'ArcelorMittal', 'Capgemini',\n",
       "       'Thales Group', 'Groupe PSA', 'Michelin', 'Legrand',\n",
       "       'Unibail-Rodamco-Westfield', 'Saint-Gobain', 'STMicroelectronics',\n",
       "       'Société Générale', 'Vivendi', 'Engie', 'Orange',\n",
       "       'Crédit Agricole', 'Dassault Systèmes', 'Pernod Ricard', 'Danone',\n",
       "       'Schneider Electric', 'Air Liquide', 'Vinci', 'Essilor', 'AXA',\n",
       "       'Safran', 'BNP Paribas', 'Kering', 'Hermès', 'Airbus', 'Sanofi',\n",
       "       'Total', 'L’Oréal', 'LVMH'], dtype=object)"
      ]
     },
     "execution_count": 28,
     "metadata": {},
     "output_type": "execute_result"
    }
   ],
   "source": [
    "cac_40[\"CompanyName\"].unique()"
   ]
  },
  {
   "cell_type": "code",
   "execution_count": 29,
   "id": "ddc9d24a",
   "metadata": {
    "ExecuteTime": {
     "end_time": "2021-08-24T08:28:11.587938Z",
     "start_time": "2021-08-24T08:28:11.418950Z"
    },
    "scrolled": true
   },
   "outputs": [
    {
     "data": {
      "text/html": [
       "<div>\n",
       "<style scoped>\n",
       "    .dataframe tbody tr th:only-of-type {\n",
       "        vertical-align: middle;\n",
       "    }\n",
       "\n",
       "    .dataframe tbody tr th {\n",
       "        vertical-align: top;\n",
       "    }\n",
       "\n",
       "    .dataframe thead th {\n",
       "        text-align: right;\n",
       "    }\n",
       "</style>\n",
       "<table border=\"1\" class=\"dataframe\">\n",
       "  <thead>\n",
       "    <tr style=\"text-align: right;\">\n",
       "      <th></th>\n",
       "      <th>Unnamed: 0</th>\n",
       "      <th>Name</th>\n",
       "      <th>Date</th>\n",
       "      <th>Open</th>\n",
       "      <th>Closing_Price</th>\n",
       "      <th>Daily_High</th>\n",
       "      <th>Daily_Low</th>\n",
       "      <th>Volume</th>\n",
       "    </tr>\n",
       "  </thead>\n",
       "  <tbody>\n",
       "    <tr>\n",
       "      <th>0</th>\n",
       "      <td>0</td>\n",
       "      <td>Accor</td>\n",
       "      <td>2020-04-03</td>\n",
       "      <td>22.99</td>\n",
       "      <td>23.40</td>\n",
       "      <td>23.40</td>\n",
       "      <td>22.99</td>\n",
       "      <td>67</td>\n",
       "    </tr>\n",
       "    <tr>\n",
       "      <th>1</th>\n",
       "      <td>1</td>\n",
       "      <td>Accor</td>\n",
       "      <td>2020-04-02</td>\n",
       "      <td>23.91</td>\n",
       "      <td>22.99</td>\n",
       "      <td>23.91</td>\n",
       "      <td>22.99</td>\n",
       "      <td>250</td>\n",
       "    </tr>\n",
       "    <tr>\n",
       "      <th>2</th>\n",
       "      <td>2</td>\n",
       "      <td>Accor</td>\n",
       "      <td>2020-04-01</td>\n",
       "      <td>24.10</td>\n",
       "      <td>23.83</td>\n",
       "      <td>24.10</td>\n",
       "      <td>23.83</td>\n",
       "      <td>37</td>\n",
       "    </tr>\n",
       "    <tr>\n",
       "      <th>3</th>\n",
       "      <td>3</td>\n",
       "      <td>Accor</td>\n",
       "      <td>2020-03-31</td>\n",
       "      <td>25.04</td>\n",
       "      <td>25.00</td>\n",
       "      <td>25.24</td>\n",
       "      <td>24.99</td>\n",
       "      <td>336</td>\n",
       "    </tr>\n",
       "    <tr>\n",
       "      <th>4</th>\n",
       "      <td>4</td>\n",
       "      <td>Accor</td>\n",
       "      <td>2020-03-30</td>\n",
       "      <td>26.50</td>\n",
       "      <td>25.02</td>\n",
       "      <td>26.50</td>\n",
       "      <td>24.99</td>\n",
       "      <td>415</td>\n",
       "    </tr>\n",
       "  </tbody>\n",
       "</table>\n",
       "</div>"
      ],
      "text/plain": [
       "   Unnamed: 0   Name        Date   Open  Closing_Price  Daily_High  Daily_Low  \\\n",
       "0           0  Accor  2020-04-03  22.99          23.40       23.40      22.99   \n",
       "1           1  Accor  2020-04-02  23.91          22.99       23.91      22.99   \n",
       "2           2  Accor  2020-04-01  24.10          23.83       24.10      23.83   \n",
       "3           3  Accor  2020-03-31  25.04          25.00       25.24      24.99   \n",
       "4           4  Accor  2020-03-30  26.50          25.02       26.50      24.99   \n",
       "\n",
       "  Volume  \n",
       "0     67  \n",
       "1    250  \n",
       "2     37  \n",
       "3    336  \n",
       "4    415  "
      ]
     },
     "execution_count": 29,
     "metadata": {},
     "output_type": "execute_result"
    }
   ],
   "source": [
    "cac_40_prepro = pd.read_csv('/Users/ericblanvillain/code/EricBlanvillain/resto-655-project/CAC_40/preprocessed_CAC40.csv')\n",
    "cac_40_prepro.head()"
   ]
  },
  {
   "cell_type": "code",
   "execution_count": 30,
   "id": "4b558832",
   "metadata": {
    "ExecuteTime": {
     "end_time": "2021-08-24T08:28:13.470481Z",
     "start_time": "2021-08-24T08:28:13.403957Z"
    },
    "scrolled": true
   },
   "outputs": [
    {
     "data": {
      "text/html": [
       "<div>\n",
       "<style scoped>\n",
       "    .dataframe tbody tr th:only-of-type {\n",
       "        vertical-align: middle;\n",
       "    }\n",
       "\n",
       "    .dataframe tbody tr th {\n",
       "        vertical-align: top;\n",
       "    }\n",
       "\n",
       "    .dataframe thead th {\n",
       "        text-align: right;\n",
       "    }\n",
       "</style>\n",
       "<table border=\"1\" class=\"dataframe\">\n",
       "  <thead>\n",
       "    <tr style=\"text-align: right;\">\n",
       "      <th></th>\n",
       "      <th>Unnamed: 0</th>\n",
       "      <th>Name</th>\n",
       "      <th>Date</th>\n",
       "      <th>Open</th>\n",
       "      <th>Closing_Price</th>\n",
       "      <th>Daily_High</th>\n",
       "      <th>Daily_Low</th>\n",
       "      <th>Volume</th>\n",
       "    </tr>\n",
       "  </thead>\n",
       "  <tbody>\n",
       "    <tr>\n",
       "      <th>2599</th>\n",
       "      <td>2599</td>\n",
       "      <td>Air Liquide</td>\n",
       "      <td>2020-04-02</td>\n",
       "      <td>116.00</td>\n",
       "      <td>112.95</td>\n",
       "      <td>116.00</td>\n",
       "      <td>110.00</td>\n",
       "      <td>331</td>\n",
       "    </tr>\n",
       "    <tr>\n",
       "      <th>2600</th>\n",
       "      <td>2600</td>\n",
       "      <td>Air Liquide</td>\n",
       "      <td>2020-04-01</td>\n",
       "      <td>115.95</td>\n",
       "      <td>114.05</td>\n",
       "      <td>115.95</td>\n",
       "      <td>112.30</td>\n",
       "      <td>480</td>\n",
       "    </tr>\n",
       "    <tr>\n",
       "      <th>2601</th>\n",
       "      <td>2601</td>\n",
       "      <td>Air Liquide</td>\n",
       "      <td>2020-03-31</td>\n",
       "      <td>113.90</td>\n",
       "      <td>114.60</td>\n",
       "      <td>115.35</td>\n",
       "      <td>112.95</td>\n",
       "      <td>784</td>\n",
       "    </tr>\n",
       "    <tr>\n",
       "      <th>2602</th>\n",
       "      <td>2602</td>\n",
       "      <td>Air Liquide</td>\n",
       "      <td>2020-03-30</td>\n",
       "      <td>110.25</td>\n",
       "      <td>112.15</td>\n",
       "      <td>112.70</td>\n",
       "      <td>106.90</td>\n",
       "      <td>485</td>\n",
       "    </tr>\n",
       "    <tr>\n",
       "      <th>2603</th>\n",
       "      <td>2603</td>\n",
       "      <td>Air Liquide</td>\n",
       "      <td>2020-03-27</td>\n",
       "      <td>110.20</td>\n",
       "      <td>107.00</td>\n",
       "      <td>110.20</td>\n",
       "      <td>105.80</td>\n",
       "      <td>525</td>\n",
       "    </tr>\n",
       "    <tr>\n",
       "      <th>...</th>\n",
       "      <td>...</td>\n",
       "      <td>...</td>\n",
       "      <td>...</td>\n",
       "      <td>...</td>\n",
       "      <td>...</td>\n",
       "      <td>...</td>\n",
       "      <td>...</td>\n",
       "      <td>...</td>\n",
       "    </tr>\n",
       "    <tr>\n",
       "      <th>5194</th>\n",
       "      <td>5194</td>\n",
       "      <td>Air Liquide</td>\n",
       "      <td>2010-01-08</td>\n",
       "      <td>51.28</td>\n",
       "      <td>51.52</td>\n",
       "      <td>51.52</td>\n",
       "      <td>51.28</td>\n",
       "      <td>64</td>\n",
       "    </tr>\n",
       "    <tr>\n",
       "      <th>5195</th>\n",
       "      <td>5195</td>\n",
       "      <td>Air Liquide</td>\n",
       "      <td>2010-01-07</td>\n",
       "      <td>50.82</td>\n",
       "      <td>51.34</td>\n",
       "      <td>51.34</td>\n",
       "      <td>50.82</td>\n",
       "      <td>48</td>\n",
       "    </tr>\n",
       "    <tr>\n",
       "      <th>5196</th>\n",
       "      <td>5196</td>\n",
       "      <td>Air Liquide</td>\n",
       "      <td>2010-01-06</td>\n",
       "      <td>51.49</td>\n",
       "      <td>51.34</td>\n",
       "      <td>51.49</td>\n",
       "      <td>51.34</td>\n",
       "      <td>257</td>\n",
       "    </tr>\n",
       "    <tr>\n",
       "      <th>5197</th>\n",
       "      <td>5197</td>\n",
       "      <td>Air Liquide</td>\n",
       "      <td>2010-01-05</td>\n",
       "      <td>52.09</td>\n",
       "      <td>51.86</td>\n",
       "      <td>52.09</td>\n",
       "      <td>51.76</td>\n",
       "      <td>1,363</td>\n",
       "    </tr>\n",
       "    <tr>\n",
       "      <th>5198</th>\n",
       "      <td>5198</td>\n",
       "      <td>Air Liquide</td>\n",
       "      <td>2010-01-04</td>\n",
       "      <td>52.06</td>\n",
       "      <td>52.27</td>\n",
       "      <td>52.27</td>\n",
       "      <td>52.05</td>\n",
       "      <td>2,636</td>\n",
       "    </tr>\n",
       "  </tbody>\n",
       "</table>\n",
       "<p>2600 rows × 8 columns</p>\n",
       "</div>"
      ],
      "text/plain": [
       "      Unnamed: 0         Name        Date    Open  Closing_Price  Daily_High  \\\n",
       "2599        2599  Air Liquide  2020-04-02  116.00         112.95      116.00   \n",
       "2600        2600  Air Liquide  2020-04-01  115.95         114.05      115.95   \n",
       "2601        2601  Air Liquide  2020-03-31  113.90         114.60      115.35   \n",
       "2602        2602  Air Liquide  2020-03-30  110.25         112.15      112.70   \n",
       "2603        2603  Air Liquide  2020-03-27  110.20         107.00      110.20   \n",
       "...          ...          ...         ...     ...            ...         ...   \n",
       "5194        5194  Air Liquide  2010-01-08   51.28          51.52       51.52   \n",
       "5195        5195  Air Liquide  2010-01-07   50.82          51.34       51.34   \n",
       "5196        5196  Air Liquide  2010-01-06   51.49          51.34       51.49   \n",
       "5197        5197  Air Liquide  2010-01-05   52.09          51.86       52.09   \n",
       "5198        5198  Air Liquide  2010-01-04   52.06          52.27       52.27   \n",
       "\n",
       "      Daily_Low Volume  \n",
       "2599     110.00    331  \n",
       "2600     112.30    480  \n",
       "2601     112.95    784  \n",
       "2602     106.90    485  \n",
       "2603     105.80    525  \n",
       "...         ...    ...  \n",
       "5194      51.28     64  \n",
       "5195      50.82     48  \n",
       "5196      51.34    257  \n",
       "5197      51.76  1,363  \n",
       "5198      52.05  2,636  \n",
       "\n",
       "[2600 rows x 8 columns]"
      ]
     },
     "execution_count": 30,
     "metadata": {},
     "output_type": "execute_result"
    }
   ],
   "source": [
    "air_liquide = cac_40_prepro[cac_40_prepro['Name'] == 'Air Liquide'].copy()\n",
    "air_liquide['Open'] = air_liquide['Open'].fillna(method='bfill')\n",
    "air_liquide"
   ]
  },
  {
   "cell_type": "code",
   "execution_count": 31,
   "id": "0e80291c",
   "metadata": {
    "ExecuteTime": {
     "end_time": "2021-08-24T08:28:14.281004Z",
     "start_time": "2021-08-24T08:28:14.266686Z"
    }
   },
   "outputs": [],
   "source": [
    "air_liquide['Date'] = pd.to_datetime(air_liquide['Date'])\n",
    "air_liquide['Year'] = air_liquide['Date'].dt.year\n",
    "air_liquide['Month'] = air_liquide['Date'].dt.month"
   ]
  },
  {
   "cell_type": "code",
   "execution_count": 32,
   "id": "a8bd101c",
   "metadata": {
    "ExecuteTime": {
     "end_time": "2021-08-24T08:28:15.112856Z",
     "start_time": "2021-08-24T08:28:15.083530Z"
    }
   },
   "outputs": [
    {
     "data": {
      "text/html": [
       "<div>\n",
       "<style scoped>\n",
       "    .dataframe tbody tr th:only-of-type {\n",
       "        vertical-align: middle;\n",
       "    }\n",
       "\n",
       "    .dataframe tbody tr th {\n",
       "        vertical-align: top;\n",
       "    }\n",
       "\n",
       "    .dataframe thead th {\n",
       "        text-align: right;\n",
       "    }\n",
       "</style>\n",
       "<table border=\"1\" class=\"dataframe\">\n",
       "  <thead>\n",
       "    <tr style=\"text-align: right;\">\n",
       "      <th></th>\n",
       "      <th>Unnamed: 0</th>\n",
       "      <th>Open</th>\n",
       "      <th>Closing_Price</th>\n",
       "      <th>Daily_High</th>\n",
       "      <th>Daily_Low</th>\n",
       "      <th>Year</th>\n",
       "      <th>Month</th>\n",
       "    </tr>\n",
       "  </thead>\n",
       "  <tbody>\n",
       "    <tr>\n",
       "      <th>count</th>\n",
       "      <td>2600.000000</td>\n",
       "      <td>2600.000000</td>\n",
       "      <td>2600.000000</td>\n",
       "      <td>2600.000000</td>\n",
       "      <td>2600.000000</td>\n",
       "      <td>2600.000000</td>\n",
       "      <td>2600.000000</td>\n",
       "    </tr>\n",
       "    <tr>\n",
       "      <th>mean</th>\n",
       "      <td>3898.500000</td>\n",
       "      <td>80.769642</td>\n",
       "      <td>80.794277</td>\n",
       "      <td>81.203181</td>\n",
       "      <td>80.351423</td>\n",
       "      <td>2014.622308</td>\n",
       "      <td>6.381923</td>\n",
       "    </tr>\n",
       "    <tr>\n",
       "      <th>std</th>\n",
       "      <td>750.699674</td>\n",
       "      <td>18.004935</td>\n",
       "      <td>17.918281</td>\n",
       "      <td>18.048579</td>\n",
       "      <td>17.822264</td>\n",
       "      <td>2.966992</td>\n",
       "      <td>3.452183</td>\n",
       "    </tr>\n",
       "    <tr>\n",
       "      <th>min</th>\n",
       "      <td>2599.000000</td>\n",
       "      <td>47.350000</td>\n",
       "      <td>46.790000</td>\n",
       "      <td>47.660000</td>\n",
       "      <td>46.790000</td>\n",
       "      <td>2010.000000</td>\n",
       "      <td>1.000000</td>\n",
       "    </tr>\n",
       "    <tr>\n",
       "      <th>25%</th>\n",
       "      <td>3248.750000</td>\n",
       "      <td>66.165000</td>\n",
       "      <td>66.190000</td>\n",
       "      <td>66.517500</td>\n",
       "      <td>65.847500</td>\n",
       "      <td>2012.000000</td>\n",
       "      <td>3.000000</td>\n",
       "    </tr>\n",
       "    <tr>\n",
       "      <th>50%</th>\n",
       "      <td>3898.500000</td>\n",
       "      <td>77.650000</td>\n",
       "      <td>77.760000</td>\n",
       "      <td>78.065000</td>\n",
       "      <td>77.270000</td>\n",
       "      <td>2015.000000</td>\n",
       "      <td>6.000000</td>\n",
       "    </tr>\n",
       "    <tr>\n",
       "      <th>75%</th>\n",
       "      <td>4548.250000</td>\n",
       "      <td>94.640000</td>\n",
       "      <td>94.625000</td>\n",
       "      <td>95.042500</td>\n",
       "      <td>94.102500</td>\n",
       "      <td>2017.000000</td>\n",
       "      <td>9.000000</td>\n",
       "    </tr>\n",
       "    <tr>\n",
       "      <th>max</th>\n",
       "      <td>5198.000000</td>\n",
       "      <td>142.350000</td>\n",
       "      <td>141.350000</td>\n",
       "      <td>142.350000</td>\n",
       "      <td>140.000000</td>\n",
       "      <td>2020.000000</td>\n",
       "      <td>12.000000</td>\n",
       "    </tr>\n",
       "  </tbody>\n",
       "</table>\n",
       "</div>"
      ],
      "text/plain": [
       "        Unnamed: 0         Open  Closing_Price   Daily_High    Daily_Low  \\\n",
       "count  2600.000000  2600.000000    2600.000000  2600.000000  2600.000000   \n",
       "mean   3898.500000    80.769642      80.794277    81.203181    80.351423   \n",
       "std     750.699674    18.004935      17.918281    18.048579    17.822264   \n",
       "min    2599.000000    47.350000      46.790000    47.660000    46.790000   \n",
       "25%    3248.750000    66.165000      66.190000    66.517500    65.847500   \n",
       "50%    3898.500000    77.650000      77.760000    78.065000    77.270000   \n",
       "75%    4548.250000    94.640000      94.625000    95.042500    94.102500   \n",
       "max    5198.000000   142.350000     141.350000   142.350000   140.000000   \n",
       "\n",
       "              Year        Month  \n",
       "count  2600.000000  2600.000000  \n",
       "mean   2014.622308     6.381923  \n",
       "std       2.966992     3.452183  \n",
       "min    2010.000000     1.000000  \n",
       "25%    2012.000000     3.000000  \n",
       "50%    2015.000000     6.000000  \n",
       "75%    2017.000000     9.000000  \n",
       "max    2020.000000    12.000000  "
      ]
     },
     "execution_count": 32,
     "metadata": {},
     "output_type": "execute_result"
    }
   ],
   "source": [
    "air_liquide.describe()"
   ]
  },
  {
   "cell_type": "code",
   "execution_count": 33,
   "id": "a71fbc03",
   "metadata": {
    "ExecuteTime": {
     "end_time": "2021-08-24T08:28:16.133431Z",
     "start_time": "2021-08-24T08:28:15.898151Z"
    },
    "scrolled": true
   },
   "outputs": [
    {
     "name": "stderr",
     "output_type": "stream",
     "text": [
      "/Users/ericblanvillain/.pyenv/versions/3.8.6/envs/lewagon/lib/python3.8/site-packages/seaborn/_decorators.py:36: FutureWarning: Pass the following variables as keyword args: x, y. From version 0.12, the only valid positional argument will be `data`, and passing other arguments without an explicit keyword will result in an error or misinterpretation.\n",
      "  warnings.warn(\n"
     ]
    },
    {
     "data": {
      "image/png": "[encoded data removed]",
      "text/plain": [
       "<Figure size 1080x432 with 1 Axes>"
      ]
     },
     "metadata": {},
     "output_type": "display_data"
    }
   ],
   "source": [
    "# Line plot\n",
    "fig, ax = plt.subplots(figsize=(15, 6))\n",
    "sns.lineplot(air_liquide['Date'], air_liquide['Open'] )\n",
    "\n",
    "# Formatting\n",
    "ax.set_title('Open Price', fontsize = 20, loc='center', fontdict=dict(weight='bold'))\n",
    "ax.set_xlabel('Year', fontsize = 16, fontdict=dict(weight='bold'))\n",
    "ax.set_ylabel('Price', fontsize = 16, fontdict=dict(weight='bold'))\n",
    "plt.tick_params(axis='y', which='major', labelsize=16)\n",
    "plt.tick_params(axis='x', which='major', labelsize=16)\n",
    "plt.show();"
   ]
  },
  {
   "cell_type": "markdown",
   "id": "1dd57186",
   "metadata": {
    "ExecuteTime": {
     "end_time": "2021-08-24T08:06:07.425886Z",
     "start_time": "2021-08-24T08:06:07.300569Z"
    }
   },
   "source": [
    "### Toursim in Paris"
   ]
  },
  {
   "cell_type": "code",
   "execution_count": 41,
   "id": "53cee051",
   "metadata": {
    "ExecuteTime": {
     "end_time": "2021-08-24T08:37:29.154490Z",
     "start_time": "2021-08-24T08:37:29.074493Z"
    },
    "scrolled": true
   },
   "outputs": [
    {
     "data": {
      "text/html": [
       "<div>\n",
       "<style scoped>\n",
       "    .dataframe tbody tr th:only-of-type {\n",
       "        vertical-align: middle;\n",
       "    }\n",
       "\n",
       "    .dataframe tbody tr th {\n",
       "        vertical-align: top;\n",
       "    }\n",
       "\n",
       "    .dataframe thead th {\n",
       "        text-align: right;\n",
       "    }\n",
       "</style>\n",
       "<table border=\"1\" class=\"dataframe\">\n",
       "  <thead>\n",
       "    <tr style=\"text-align: right;\">\n",
       "      <th></th>\n",
       "      <th>Month</th>\n",
       "      <th>Year</th>\n",
       "      <th>Monthly occupancy rate in hotels in Paris region</th>\n",
       "    </tr>\n",
       "  </thead>\n",
       "  <tbody>\n",
       "    <tr>\n",
       "      <th>0</th>\n",
       "      <td>January</td>\n",
       "      <td>2019</td>\n",
       "      <td>64.3</td>\n",
       "    </tr>\n",
       "    <tr>\n",
       "      <th>1</th>\n",
       "      <td>February</td>\n",
       "      <td>2019</td>\n",
       "      <td>66.8</td>\n",
       "    </tr>\n",
       "    <tr>\n",
       "      <th>2</th>\n",
       "      <td>March</td>\n",
       "      <td>2019</td>\n",
       "      <td>72.4</td>\n",
       "    </tr>\n",
       "    <tr>\n",
       "      <th>3</th>\n",
       "      <td>April</td>\n",
       "      <td>2019</td>\n",
       "      <td>79.3</td>\n",
       "    </tr>\n",
       "    <tr>\n",
       "      <th>4</th>\n",
       "      <td>Mai</td>\n",
       "      <td>2019</td>\n",
       "      <td>74.0</td>\n",
       "    </tr>\n",
       "    <tr>\n",
       "      <th>5</th>\n",
       "      <td>June</td>\n",
       "      <td>2019</td>\n",
       "      <td>88.0</td>\n",
       "    </tr>\n",
       "    <tr>\n",
       "      <th>6</th>\n",
       "      <td>July</td>\n",
       "      <td>2019</td>\n",
       "      <td>78.3</td>\n",
       "    </tr>\n",
       "    <tr>\n",
       "      <th>7</th>\n",
       "      <td>August</td>\n",
       "      <td>2019</td>\n",
       "      <td>67.8</td>\n",
       "    </tr>\n",
       "    <tr>\n",
       "      <th>8</th>\n",
       "      <td>September</td>\n",
       "      <td>2019</td>\n",
       "      <td>83.9</td>\n",
       "    </tr>\n",
       "    <tr>\n",
       "      <th>9</th>\n",
       "      <td>October</td>\n",
       "      <td>2019</td>\n",
       "      <td>81.5</td>\n",
       "    </tr>\n",
       "    <tr>\n",
       "      <th>10</th>\n",
       "      <td>November</td>\n",
       "      <td>2019</td>\n",
       "      <td>77.0</td>\n",
       "    </tr>\n",
       "    <tr>\n",
       "      <th>11</th>\n",
       "      <td>December</td>\n",
       "      <td>2019</td>\n",
       "      <td>67.3</td>\n",
       "    </tr>\n",
       "    <tr>\n",
       "      <th>12</th>\n",
       "      <td>January</td>\n",
       "      <td>2020</td>\n",
       "      <td>69.5</td>\n",
       "    </tr>\n",
       "    <tr>\n",
       "      <th>13</th>\n",
       "      <td>February</td>\n",
       "      <td>2020</td>\n",
       "      <td>65.6</td>\n",
       "    </tr>\n",
       "    <tr>\n",
       "      <th>14</th>\n",
       "      <td>March</td>\n",
       "      <td>2020</td>\n",
       "      <td>27.7</td>\n",
       "    </tr>\n",
       "    <tr>\n",
       "      <th>15</th>\n",
       "      <td>April</td>\n",
       "      <td>2020</td>\n",
       "      <td>19.0</td>\n",
       "    </tr>\n",
       "    <tr>\n",
       "      <th>16</th>\n",
       "      <td>Mai</td>\n",
       "      <td>2020</td>\n",
       "      <td>23.0</td>\n",
       "    </tr>\n",
       "    <tr>\n",
       "      <th>17</th>\n",
       "      <td>June</td>\n",
       "      <td>2020</td>\n",
       "      <td>30.7</td>\n",
       "    </tr>\n",
       "    <tr>\n",
       "      <th>18</th>\n",
       "      <td>July</td>\n",
       "      <td>2020</td>\n",
       "      <td>39.3</td>\n",
       "    </tr>\n",
       "    <tr>\n",
       "      <th>19</th>\n",
       "      <td>August</td>\n",
       "      <td>2020</td>\n",
       "      <td>34.1</td>\n",
       "    </tr>\n",
       "    <tr>\n",
       "      <th>20</th>\n",
       "      <td>September</td>\n",
       "      <td>2020</td>\n",
       "      <td>32.7</td>\n",
       "    </tr>\n",
       "    <tr>\n",
       "      <th>21</th>\n",
       "      <td>October</td>\n",
       "      <td>2020</td>\n",
       "      <td>29.1</td>\n",
       "    </tr>\n",
       "    <tr>\n",
       "      <th>22</th>\n",
       "      <td>November</td>\n",
       "      <td>2020</td>\n",
       "      <td>21.7</td>\n",
       "    </tr>\n",
       "    <tr>\n",
       "      <th>23</th>\n",
       "      <td>December</td>\n",
       "      <td>2020</td>\n",
       "      <td>25.9</td>\n",
       "    </tr>\n",
       "  </tbody>\n",
       "</table>\n",
       "</div>"
      ],
      "text/plain": [
       "        Month  Year  Monthly occupancy rate in hotels in Paris region\n",
       "0     January  2019                                              64.3\n",
       "1    February  2019                                              66.8\n",
       "2       March  2019                                              72.4\n",
       "3       April  2019                                              79.3\n",
       "4         Mai  2019                                              74.0\n",
       "5        June  2019                                              88.0\n",
       "6        July  2019                                              78.3\n",
       "7      August  2019                                              67.8\n",
       "8   September  2019                                              83.9\n",
       "9     October  2019                                              81.5\n",
       "10   November  2019                                              77.0\n",
       "11   December  2019                                              67.3\n",
       "12    January  2020                                              69.5\n",
       "13   February  2020                                              65.6\n",
       "14      March  2020                                              27.7\n",
       "15      April  2020                                              19.0\n",
       "16        Mai  2020                                              23.0\n",
       "17       June  2020                                              30.7\n",
       "18       July  2020                                              39.3\n",
       "19     August  2020                                              34.1\n",
       "20  September  2020                                              32.7\n",
       "21    October  2020                                              29.1\n",
       "22   November  2020                                              21.7\n",
       "23   December  2020                                              25.9"
      ]
     },
     "execution_count": 41,
     "metadata": {},
     "output_type": "execute_result"
    }
   ],
   "source": [
    "hotels_occupency_rate = pd.read_excel('/Users/ericblanvillain/code/EricBlanvillain/resto-655-project/STATISTA/statistic_id1240962_monthly-occupancy-rate-in-hotels-in-paris-region-2020.xlsx', sheet_name='CSV')\n",
    "hotels_occupency_rate"
   ]
  },
  {
   "cell_type": "code",
   "execution_count": 42,
   "id": "79c2ad16",
   "metadata": {
    "ExecuteTime": {
     "end_time": "2021-08-24T08:37:31.326961Z",
     "start_time": "2021-08-24T08:37:31.288674Z"
    }
   },
   "outputs": [],
   "source": [
    "hotels_occupency_rate.to_csv(path_or_buf='hotels_occupency_rate.csv', index= True)"
   ]
  },
  {
   "cell_type": "markdown",
   "id": "28eee3ec",
   "metadata": {
    "ExecuteTime": {
     "end_time": "2021-08-23T12:46:37.542544Z",
     "start_time": "2021-08-23T12:46:37.504018Z"
    }
   },
   "source": [
    "# Analyse des données"
   ]
  },
  {
   "cell_type": "code",
   "execution_count": null,
   "id": "f22d6c5e",
   "metadata": {
    "ExecuteTime": {
     "end_time": "2021-08-24T07:14:01.962843Z",
     "start_time": "2021-08-24T07:14:01.962833Z"
    }
   },
   "outputs": [],
   "source": [
    "summary = pd.DataFrame()\n",
    "summary[\"CA TTC\"] = (resto_df_DB[\"CA TTC\"])\n",
    "summary = summary.describe().round(decimals=1).astype(object)\n",
    "print(summary)\n",
    "plt.plot(resto_df_DB[\"CA TTC\"])\n",
    "plt.show()"
   ]
  },
  {
   "cell_type": "code",
   "execution_count": null,
   "id": "7c559d5b",
   "metadata": {
    "ExecuteTime": {
     "end_time": "2021-08-24T07:14:01.963922Z",
     "start_time": "2021-08-24T07:14:01.963912Z"
    }
   },
   "outputs": [],
   "source": [
    "sns.histplot(data = resto_df_DB, x =  )"
   ]
  },
  {
   "cell_type": "code",
   "execution_count": null,
   "id": "662e8910",
   "metadata": {
    "ExecuteTime": {
     "end_time": "2021-08-24T07:14:01.964559Z",
     "start_time": "2021-08-24T07:14:01.964550Z"
    },
    "scrolled": true
   },
   "outputs": [],
   "source": [
    "summary = pd.DataFrame()\n",
    "summary[\"CA TTC\"] = (resto_df_D16[\"CA TTC\"])\n",
    "summary = summary.describe().round(decimals=1).astype(object)\n",
    "print(summary)\n",
    "plt.plot(resto_df_D16[\"CA TTC\"])\n",
    "plt.show()"
   ]
  }
 ],
 "metadata": {
  "kernelspec": {
   "display_name": "Python 3 (ipykernel)",
   "language": "python",
   "name": "python3"
  },
  "language_info": {
   "codemirror_mode": {
    "name": "ipython",
    "version": 3
   },
   "file_extension": ".py",
   "mimetype": "text/x-python",
   "name": "python",
   "nbconvert_exporter": "python",
   "pygments_lexer": "ipython3",
   "version": "3.8.6"
  },
  "toc": {
   "base_numbering": 1,
   "nav_menu": {},
   "number_sections": true,
   "sideBar": true,
   "skip_h1_title": false,
   "title_cell": "Table of Contents",
   "title_sidebar": "Contents",
   "toc_cell": false,
   "toc_position": {},
   "toc_section_display": true,
   "toc_window_display": false
  },
  "varInspector": {
   "cols": {
    "lenName": 16,
    "lenType": 16,
    "lenVar": 40
   },
   "kernels_config": {
    "python": {
     "delete_cmd_postfix": "",
     "delete_cmd_prefix": "del ",
     "library": "var_list.py",
     "varRefreshCmd": "print(var_dic_list())"
    },
    "r": {
     "delete_cmd_postfix": ") ",
     "delete_cmd_prefix": "rm(",
     "library": "var_list.r",
     "varRefreshCmd": "cat(var_dic_list()) "
    }
   },
   "types_to_exclude": [
    "module",
    "function",
    "builtin_function_or_method",
    "instance",
    "_Feature"
   ],
   "window_display": false
  }
 },
 "nbformat": 4,
 "nbformat_minor": 5
}
