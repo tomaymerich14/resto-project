{
 "cells": [
  {
   "cell_type": "markdown",
   "metadata": {
    "id": "EO7nrAd0cYlH"
   },
   "source": [
    "# Installations"
   ]
  },
  {
   "cell_type": "code",
   "execution_count": 1,
   "metadata": {
    "ExecuteTime": {
     "end_time": "2021-08-25T15:54:07.042175Z",
     "start_time": "2021-08-25T15:54:07.036282Z"
    },
    "id": "zyaFtfLXUGvd"
   },
   "outputs": [],
   "source": [
    "install = True\n",
    "run_test = True"
   ]
  },
  {
   "cell_type": "code",
   "execution_count": 2,
   "metadata": {
    "ExecuteTime": {
     "end_time": "2021-08-25T15:54:07.075928Z",
     "start_time": "2021-08-25T15:54:07.055635Z"
    },
    "id": "E2Lm7GZlVea2"
   },
   "outputs": [],
   "source": [
    "%load_ext autoreload\n",
    "%autoreload 2"
   ]
  },
  {
   "cell_type": "code",
   "execution_count": 3,
   "metadata": {
    "ExecuteTime": {
     "end_time": "2021-08-25T15:54:08.551244Z",
     "start_time": "2021-08-25T15:54:07.078920Z"
    },
    "colab": {
     "base_uri": "https://localhost:8080/"
    },
    "id": "GlhdRqyaUM0b",
    "outputId": "3a94eea3-df2d-40d6-92b1-d32deeefaa9e"
   },
   "outputs": [
    {
     "name": "stdout",
     "output_type": "stream",
     "text": [
      "Requirement already satisfied: scikit-learn==0.24.2 in /Users/monmac/.pyenv/versions/3.8.6/envs/resto-project/lib/python3.8/site-packages (0.24.2)\n",
      "Requirement already satisfied: numpy>=1.13.3 in /Users/monmac/.pyenv/versions/3.8.6/envs/resto-project/lib/python3.8/site-packages (from scikit-learn==0.24.2) (1.21.2)\n",
      "Requirement already satisfied: scipy>=0.19.1 in /Users/monmac/.pyenv/versions/3.8.6/envs/resto-project/lib/python3.8/site-packages (from scikit-learn==0.24.2) (1.7.1)\n",
      "Requirement already satisfied: threadpoolctl>=2.0.0 in /Users/monmac/.pyenv/versions/3.8.6/envs/resto-project/lib/python3.8/site-packages (from scikit-learn==0.24.2) (2.2.0)\n",
      "Requirement already satisfied: joblib>=0.11 in /Users/monmac/.pyenv/versions/3.8.6/envs/resto-project/lib/python3.8/site-packages (from scikit-learn==0.24.2) (1.0.1)\n"
     ]
    }
   ],
   "source": [
    "install= True\n",
    "if install == True:\n",
    "  !pip install scikit-learn==0.24.2"
   ]
  },
  {
   "cell_type": "code",
   "execution_count": 4,
   "metadata": {
    "ExecuteTime": {
     "end_time": "2021-08-25T15:54:10.117403Z",
     "start_time": "2021-08-25T15:54:08.554493Z"
    },
    "id": "ioKg_73kURt5"
   },
   "outputs": [],
   "source": [
    "import pandas as pd\n",
    "import numpy as np\n",
    "import matplotlib.pyplot as plt\n",
    "import seaborn as sns\n",
    "from sklearn import set_config; set_config(display='diagram')\n",
    "import xgboost as xgb\n"
   ]
  },
  {
   "cell_type": "code",
   "execution_count": 5,
   "metadata": {
    "ExecuteTime": {
     "end_time": "2021-08-25T15:54:10.266171Z",
     "start_time": "2021-08-25T15:54:10.119461Z"
    },
    "id": "JtXzfilRUa43"
   },
   "outputs": [],
   "source": [
    "install = True\n",
    "if install == True:\n",
    "  from scipy import stats\n",
    "  from sklearn.model_selection import train_test_split\n",
    "  from sklearn.preprocessing import MinMaxScaler, StandardScaler\n",
    "  from sklearn.pipeline import Pipeline, make_pipeline\n",
    "  from sklearn.compose import ColumnTransformer, make_column_transformer, make_column_selector\n",
    "  from sklearn.impute import SimpleImputer, KNNImputer\n",
    "  from sklearn.preprocessing import RobustScaler, OneHotEncoder, OrdinalEncoder\n",
    "  from sklearn.metrics import make_scorer\n",
    "  from sklearn.model_selection import cross_val_score\n",
    "  from sklearn.neighbors import KNeighborsRegressor\n",
    "  from sklearn.linear_model import Ridge, Lasso, LinearRegression\n",
    "  from sklearn.model_selection import RandomizedSearchCV\n",
    "  from sklearn.svm import SVR\n",
    "  from sklearn.model_selection import GridSearchCV, RandomizedSearchCV\n",
    "  from sklearn.ensemble import AdaBoostRegressor\n",
    "  from sklearn.tree import DecisionTreeRegressor\n",
    "  from sklearn.ensemble import VotingRegressor\n",
    "  from sklearn.ensemble import GradientBoostingRegressor\n",
    "  from sklearn.ensemble import StackingRegressor\n",
    "  from sklearn.ensemble import RandomForestRegressor"
   ]
  },
  {
   "cell_type": "markdown",
   "metadata": {
    "id": "6PFfgRDocunq"
   },
   "source": [
    "# Demande du client"
   ]
  },
  {
   "cell_type": "markdown",
   "metadata": {
    "id": "fX7BFsFEc0-x"
   },
   "source": [
    "> How to predict our CA ?"
   ]
  },
  {
   "cell_type": "markdown",
   "metadata": {
    "id": "phqIgKBpc4og"
   },
   "source": [
    "# Donnée de départs"
   ]
  },
  {
   "cell_type": "code",
   "execution_count": 8,
   "metadata": {
    "ExecuteTime": {
     "end_time": "2021-08-25T15:56:31.240222Z",
     "start_time": "2021-08-25T15:56:31.175468Z"
    },
    "colab": {
     "base_uri": "https://localhost:8080/",
     "height": 343
    },
    "id": "y7wOJzqIVFEd",
    "outputId": "31292de9-8e66-4329-fc90-aa33d57ec55a"
   },
   "outputs": [
    {
     "data": {
      "text/html": [
       "<div>\n",
       "<style scoped>\n",
       "    .dataframe tbody tr th:only-of-type {\n",
       "        vertical-align: middle;\n",
       "    }\n",
       "\n",
       "    .dataframe tbody tr th {\n",
       "        vertical-align: top;\n",
       "    }\n",
       "\n",
       "    .dataframe thead th {\n",
       "        text-align: right;\n",
       "    }\n",
       "</style>\n",
       "<table border=\"1\" class=\"dataframe\">\n",
       "  <thead>\n",
       "    <tr style=\"text-align: right;\">\n",
       "      <th></th>\n",
       "      <th>index</th>\n",
       "      <th>date</th>\n",
       "      <th>jour</th>\n",
       "      <th>service</th>\n",
       "      <th>CA_TTC</th>\n",
       "      <th>CA_HT</th>\n",
       "      <th>TVA</th>\n",
       "      <th>temp</th>\n",
       "      <th>feels_like</th>\n",
       "      <th>temp_min</th>\n",
       "      <th>...</th>\n",
       "      <th>wind_speed</th>\n",
       "      <th>clouds_all</th>\n",
       "      <th>weather_main</th>\n",
       "      <th>weather_description</th>\n",
       "      <th>match_edf</th>\n",
       "      <th>roland_garros</th>\n",
       "      <th>fashion_week</th>\n",
       "      <th>Match Happening</th>\n",
       "      <th>Match Happening-CL</th>\n",
       "      <th>vacances_paris</th>\n",
       "    </tr>\n",
       "  </thead>\n",
       "  <tbody>\n",
       "    <tr>\n",
       "      <th>0</th>\n",
       "      <td>0</td>\n",
       "      <td>2019-08-27</td>\n",
       "      <td>Mardi</td>\n",
       "      <td>midi</td>\n",
       "      <td>0.00</td>\n",
       "      <td>0.00</td>\n",
       "      <td>0.00</td>\n",
       "      <td>303.84</td>\n",
       "      <td>303.95</td>\n",
       "      <td>302.16</td>\n",
       "      <td>...</td>\n",
       "      <td>1.00</td>\n",
       "      <td>0</td>\n",
       "      <td>Clear</td>\n",
       "      <td>sky is clear</td>\n",
       "      <td>0.0</td>\n",
       "      <td>0.0</td>\n",
       "      <td>0.0</td>\n",
       "      <td>NaN</td>\n",
       "      <td>NaN</td>\n",
       "      <td>1</td>\n",
       "    </tr>\n",
       "    <tr>\n",
       "      <th>1</th>\n",
       "      <td>1</td>\n",
       "      <td>2019-08-27</td>\n",
       "      <td>Mardi</td>\n",
       "      <td>soir</td>\n",
       "      <td>59.50</td>\n",
       "      <td>51.70</td>\n",
       "      <td>7.80</td>\n",
       "      <td>302.00</td>\n",
       "      <td>301.61</td>\n",
       "      <td>297.23</td>\n",
       "      <td>...</td>\n",
       "      <td>0.89</td>\n",
       "      <td>0</td>\n",
       "      <td>Clear</td>\n",
       "      <td>sky is clear</td>\n",
       "      <td>0.0</td>\n",
       "      <td>0.0</td>\n",
       "      <td>0.0</td>\n",
       "      <td>NaN</td>\n",
       "      <td>NaN</td>\n",
       "      <td>1</td>\n",
       "    </tr>\n",
       "    <tr>\n",
       "      <th>2</th>\n",
       "      <td>2</td>\n",
       "      <td>2019-08-28</td>\n",
       "      <td>Mercredi</td>\n",
       "      <td>midi</td>\n",
       "      <td>0.00</td>\n",
       "      <td>0.00</td>\n",
       "      <td>0.00</td>\n",
       "      <td>301.95</td>\n",
       "      <td>302.12</td>\n",
       "      <td>300.75</td>\n",
       "      <td>...</td>\n",
       "      <td>1.79</td>\n",
       "      <td>0</td>\n",
       "      <td>Clear</td>\n",
       "      <td>sky is clear</td>\n",
       "      <td>0.0</td>\n",
       "      <td>0.0</td>\n",
       "      <td>0.0</td>\n",
       "      <td>NaN</td>\n",
       "      <td>NaN</td>\n",
       "      <td>1</td>\n",
       "    </tr>\n",
       "    <tr>\n",
       "      <th>3</th>\n",
       "      <td>3</td>\n",
       "      <td>2019-08-28</td>\n",
       "      <td>Mercredi</td>\n",
       "      <td>soir</td>\n",
       "      <td>1723.75</td>\n",
       "      <td>1530.14</td>\n",
       "      <td>193.61</td>\n",
       "      <td>297.94</td>\n",
       "      <td>298.09</td>\n",
       "      <td>295.40</td>\n",
       "      <td>...</td>\n",
       "      <td>1.34</td>\n",
       "      <td>0</td>\n",
       "      <td>Clear</td>\n",
       "      <td>sky is clear</td>\n",
       "      <td>0.0</td>\n",
       "      <td>0.0</td>\n",
       "      <td>0.0</td>\n",
       "      <td>NaN</td>\n",
       "      <td>NaN</td>\n",
       "      <td>1</td>\n",
       "    </tr>\n",
       "    <tr>\n",
       "      <th>4</th>\n",
       "      <td>4</td>\n",
       "      <td>2019-08-29</td>\n",
       "      <td>Jeudi</td>\n",
       "      <td>midi</td>\n",
       "      <td>0.00</td>\n",
       "      <td>0.00</td>\n",
       "      <td>0.00</td>\n",
       "      <td>294.88</td>\n",
       "      <td>294.73</td>\n",
       "      <td>293.25</td>\n",
       "      <td>...</td>\n",
       "      <td>2.10</td>\n",
       "      <td>90</td>\n",
       "      <td>Clouds</td>\n",
       "      <td>overcast clouds</td>\n",
       "      <td>0.0</td>\n",
       "      <td>0.0</td>\n",
       "      <td>0.0</td>\n",
       "      <td>NaN</td>\n",
       "      <td>NaN</td>\n",
       "      <td>1</td>\n",
       "    </tr>\n",
       "  </tbody>\n",
       "</table>\n",
       "<p>5 rows × 21 columns</p>\n",
       "</div>"
      ],
      "text/plain": [
       "   index        date      jour service   CA_TTC    CA_HT     TVA    temp  \\\n",
       "0      0  2019-08-27     Mardi    midi     0.00     0.00    0.00  303.84   \n",
       "1      1  2019-08-27     Mardi    soir    59.50    51.70    7.80  302.00   \n",
       "2      2  2019-08-28  Mercredi    midi     0.00     0.00    0.00  301.95   \n",
       "3      3  2019-08-28  Mercredi    soir  1723.75  1530.14  193.61  297.94   \n",
       "4      4  2019-08-29     Jeudi    midi     0.00     0.00    0.00  294.88   \n",
       "\n",
       "   feels_like  temp_min  ...  wind_speed  clouds_all  weather_main  \\\n",
       "0      303.95    302.16  ...        1.00           0         Clear   \n",
       "1      301.61    297.23  ...        0.89           0         Clear   \n",
       "2      302.12    300.75  ...        1.79           0         Clear   \n",
       "3      298.09    295.40  ...        1.34           0         Clear   \n",
       "4      294.73    293.25  ...        2.10          90        Clouds   \n",
       "\n",
       "  weather_description match_edf  roland_garros  fashion_week  Match Happening  \\\n",
       "0        sky is clear       0.0            0.0           0.0              NaN   \n",
       "1        sky is clear       0.0            0.0           0.0              NaN   \n",
       "2        sky is clear       0.0            0.0           0.0              NaN   \n",
       "3        sky is clear       0.0            0.0           0.0              NaN   \n",
       "4     overcast clouds       0.0            0.0           0.0              NaN   \n",
       "\n",
       "   Match Happening-CL  vacances_paris  \n",
       "0                 NaN               1  \n",
       "1                 NaN               1  \n",
       "2                 NaN               1  \n",
       "3                 NaN               1  \n",
       "4                 NaN               1  \n",
       "\n",
       "[5 rows x 21 columns]"
      ]
     },
     "execution_count": 8,
     "metadata": {},
     "output_type": "execute_result"
    }
   ],
   "source": [
    "dataset_d16 = '../raw_data/preproc_data_d16.csv'\n",
    "dataset_d2 = '../raw_data/preproc_data_d2.csv'\n",
    "data_d16 = pd.read_csv(dataset_d16)\n",
    "data_d2 = pd.read_csv(dataset_d2)\n",
    "data_d16.head()"
   ]
  },
  {
   "cell_type": "code",
   "execution_count": 9,
   "metadata": {
    "ExecuteTime": {
     "end_time": "2021-08-25T15:56:32.065098Z",
     "start_time": "2021-08-25T15:56:32.033904Z"
    },
    "colab": {
     "base_uri": "https://localhost:8080/"
    },
    "id": "4K33u3bHPQwn",
    "outputId": "4ebbea74-26dd-42c1-fd12-40ec42fa9b34"
   },
   "outputs": [
    {
     "data": {
      "text/plain": [
       "0.0    49\n",
       "Name: Match Happening, dtype: int64"
      ]
     },
     "execution_count": 9,
     "metadata": {},
     "output_type": "execute_result"
    }
   ],
   "source": [
    "data_d16['Match Happening'].value_counts()"
   ]
  },
  {
   "cell_type": "code",
   "execution_count": 10,
   "metadata": {
    "ExecuteTime": {
     "end_time": "2021-08-25T15:56:32.240851Z",
     "start_time": "2021-08-25T15:56:32.210550Z"
    },
    "id": "qxJa6AsKPHPZ"
   },
   "outputs": [],
   "source": [
    "data_d16['Match Happening'].replace(to_replace=0.0, value = 1, inplace = True)\n",
    "data_d2['Match Happening'].replace(to_replace=0.0, value = 1, inplace = True)\n",
    "data_d16['Match Happening-CL'].replace(to_replace=0.0, value = 1, inplace = True)\n",
    "data_d2['Match Happening-CL'].replace(to_replace=0.0, value = 1, inplace = True)"
   ]
  },
  {
   "cell_type": "code",
   "execution_count": 11,
   "metadata": {
    "ExecuteTime": {
     "end_time": "2021-08-25T15:56:32.400289Z",
     "start_time": "2021-08-25T15:56:32.340315Z"
    },
    "colab": {
     "base_uri": "https://localhost:8080/",
     "height": 643
    },
    "id": "H0bdlsQCgSCl",
    "outputId": "63b60377-0f1d-4efb-d282-451280b6364d"
   },
   "outputs": [
    {
     "data": {
      "text/html": [
       "<div>\n",
       "<style scoped>\n",
       "    .dataframe tbody tr th:only-of-type {\n",
       "        vertical-align: middle;\n",
       "    }\n",
       "\n",
       "    .dataframe tbody tr th {\n",
       "        vertical-align: top;\n",
       "    }\n",
       "\n",
       "    .dataframe thead th {\n",
       "        text-align: right;\n",
       "    }\n",
       "</style>\n",
       "<table border=\"1\" class=\"dataframe\">\n",
       "  <thead>\n",
       "    <tr style=\"text-align: right;\">\n",
       "      <th></th>\n",
       "      <th>index</th>\n",
       "      <th>date</th>\n",
       "      <th>jour</th>\n",
       "      <th>service</th>\n",
       "      <th>CA_TTC</th>\n",
       "      <th>CA_HT</th>\n",
       "      <th>TVA</th>\n",
       "      <th>temp</th>\n",
       "      <th>feels_like</th>\n",
       "      <th>temp_min</th>\n",
       "      <th>...</th>\n",
       "      <th>wind_speed</th>\n",
       "      <th>clouds_all</th>\n",
       "      <th>weather_main</th>\n",
       "      <th>weather_description</th>\n",
       "      <th>match_edf</th>\n",
       "      <th>roland_garros</th>\n",
       "      <th>fashion_week</th>\n",
       "      <th>Match Happening</th>\n",
       "      <th>Match Happening-CL</th>\n",
       "      <th>vacances_paris</th>\n",
       "    </tr>\n",
       "  </thead>\n",
       "  <tbody>\n",
       "    <tr>\n",
       "      <th>0</th>\n",
       "      <td>0</td>\n",
       "      <td>2019-08-27</td>\n",
       "      <td>Mardi</td>\n",
       "      <td>midi</td>\n",
       "      <td>0.00</td>\n",
       "      <td>0.00</td>\n",
       "      <td>0.00</td>\n",
       "      <td>303.84</td>\n",
       "      <td>303.95</td>\n",
       "      <td>302.16</td>\n",
       "      <td>...</td>\n",
       "      <td>1.00</td>\n",
       "      <td>0</td>\n",
       "      <td>Clear</td>\n",
       "      <td>sky is clear</td>\n",
       "      <td>0.0</td>\n",
       "      <td>0.0</td>\n",
       "      <td>0.0</td>\n",
       "      <td>0.0</td>\n",
       "      <td>0.0</td>\n",
       "      <td>1</td>\n",
       "    </tr>\n",
       "    <tr>\n",
       "      <th>1</th>\n",
       "      <td>1</td>\n",
       "      <td>2019-08-27</td>\n",
       "      <td>Mardi</td>\n",
       "      <td>soir</td>\n",
       "      <td>59.50</td>\n",
       "      <td>51.70</td>\n",
       "      <td>7.80</td>\n",
       "      <td>302.00</td>\n",
       "      <td>301.61</td>\n",
       "      <td>297.23</td>\n",
       "      <td>...</td>\n",
       "      <td>0.89</td>\n",
       "      <td>0</td>\n",
       "      <td>Clear</td>\n",
       "      <td>sky is clear</td>\n",
       "      <td>0.0</td>\n",
       "      <td>0.0</td>\n",
       "      <td>0.0</td>\n",
       "      <td>0.0</td>\n",
       "      <td>0.0</td>\n",
       "      <td>1</td>\n",
       "    </tr>\n",
       "    <tr>\n",
       "      <th>2</th>\n",
       "      <td>2</td>\n",
       "      <td>2019-08-28</td>\n",
       "      <td>Mercredi</td>\n",
       "      <td>midi</td>\n",
       "      <td>0.00</td>\n",
       "      <td>0.00</td>\n",
       "      <td>0.00</td>\n",
       "      <td>301.95</td>\n",
       "      <td>302.12</td>\n",
       "      <td>300.75</td>\n",
       "      <td>...</td>\n",
       "      <td>1.79</td>\n",
       "      <td>0</td>\n",
       "      <td>Clear</td>\n",
       "      <td>sky is clear</td>\n",
       "      <td>0.0</td>\n",
       "      <td>0.0</td>\n",
       "      <td>0.0</td>\n",
       "      <td>0.0</td>\n",
       "      <td>0.0</td>\n",
       "      <td>1</td>\n",
       "    </tr>\n",
       "    <tr>\n",
       "      <th>3</th>\n",
       "      <td>3</td>\n",
       "      <td>2019-08-28</td>\n",
       "      <td>Mercredi</td>\n",
       "      <td>soir</td>\n",
       "      <td>1723.75</td>\n",
       "      <td>1530.14</td>\n",
       "      <td>193.61</td>\n",
       "      <td>297.94</td>\n",
       "      <td>298.09</td>\n",
       "      <td>295.40</td>\n",
       "      <td>...</td>\n",
       "      <td>1.34</td>\n",
       "      <td>0</td>\n",
       "      <td>Clear</td>\n",
       "      <td>sky is clear</td>\n",
       "      <td>0.0</td>\n",
       "      <td>0.0</td>\n",
       "      <td>0.0</td>\n",
       "      <td>0.0</td>\n",
       "      <td>0.0</td>\n",
       "      <td>1</td>\n",
       "    </tr>\n",
       "    <tr>\n",
       "      <th>4</th>\n",
       "      <td>4</td>\n",
       "      <td>2019-08-29</td>\n",
       "      <td>Jeudi</td>\n",
       "      <td>midi</td>\n",
       "      <td>0.00</td>\n",
       "      <td>0.00</td>\n",
       "      <td>0.00</td>\n",
       "      <td>294.88</td>\n",
       "      <td>294.73</td>\n",
       "      <td>293.25</td>\n",
       "      <td>...</td>\n",
       "      <td>2.10</td>\n",
       "      <td>90</td>\n",
       "      <td>Clouds</td>\n",
       "      <td>overcast clouds</td>\n",
       "      <td>0.0</td>\n",
       "      <td>0.0</td>\n",
       "      <td>0.0</td>\n",
       "      <td>0.0</td>\n",
       "      <td>0.0</td>\n",
       "      <td>1</td>\n",
       "    </tr>\n",
       "    <tr>\n",
       "      <th>...</th>\n",
       "      <td>...</td>\n",
       "      <td>...</td>\n",
       "      <td>...</td>\n",
       "      <td>...</td>\n",
       "      <td>...</td>\n",
       "      <td>...</td>\n",
       "      <td>...</td>\n",
       "      <td>...</td>\n",
       "      <td>...</td>\n",
       "      <td>...</td>\n",
       "      <td>...</td>\n",
       "      <td>...</td>\n",
       "      <td>...</td>\n",
       "      <td>...</td>\n",
       "      <td>...</td>\n",
       "      <td>...</td>\n",
       "      <td>...</td>\n",
       "      <td>...</td>\n",
       "      <td>...</td>\n",
       "      <td>...</td>\n",
       "      <td>...</td>\n",
       "    </tr>\n",
       "    <tr>\n",
       "      <th>841</th>\n",
       "      <td>872</td>\n",
       "      <td>2021-07-29</td>\n",
       "      <td>Jeudi</td>\n",
       "      <td>soir</td>\n",
       "      <td>6564.00</td>\n",
       "      <td>5842.95</td>\n",
       "      <td>721.05</td>\n",
       "      <td>295.25</td>\n",
       "      <td>294.82</td>\n",
       "      <td>293.58</td>\n",
       "      <td>...</td>\n",
       "      <td>0.89</td>\n",
       "      <td>0</td>\n",
       "      <td>Clear</td>\n",
       "      <td>sky is clear</td>\n",
       "      <td>0.0</td>\n",
       "      <td>0.0</td>\n",
       "      <td>0.0</td>\n",
       "      <td>0.0</td>\n",
       "      <td>0.0</td>\n",
       "      <td>1</td>\n",
       "    </tr>\n",
       "    <tr>\n",
       "      <th>842</th>\n",
       "      <td>873</td>\n",
       "      <td>2021-07-30</td>\n",
       "      <td>Vendredi</td>\n",
       "      <td>midi</td>\n",
       "      <td>1361.00</td>\n",
       "      <td>1229.24</td>\n",
       "      <td>131.76</td>\n",
       "      <td>295.70</td>\n",
       "      <td>295.29</td>\n",
       "      <td>294.40</td>\n",
       "      <td>...</td>\n",
       "      <td>2.24</td>\n",
       "      <td>40</td>\n",
       "      <td>Clouds</td>\n",
       "      <td>scattered clouds</td>\n",
       "      <td>0.0</td>\n",
       "      <td>0.0</td>\n",
       "      <td>0.0</td>\n",
       "      <td>0.0</td>\n",
       "      <td>0.0</td>\n",
       "      <td>1</td>\n",
       "    </tr>\n",
       "    <tr>\n",
       "      <th>843</th>\n",
       "      <td>874</td>\n",
       "      <td>2021-07-30</td>\n",
       "      <td>Vendredi</td>\n",
       "      <td>soir</td>\n",
       "      <td>7058.00</td>\n",
       "      <td>6263.03</td>\n",
       "      <td>794.97</td>\n",
       "      <td>294.44</td>\n",
       "      <td>294.01</td>\n",
       "      <td>293.27</td>\n",
       "      <td>...</td>\n",
       "      <td>1.34</td>\n",
       "      <td>0</td>\n",
       "      <td>Clear</td>\n",
       "      <td>sky is clear</td>\n",
       "      <td>0.0</td>\n",
       "      <td>0.0</td>\n",
       "      <td>0.0</td>\n",
       "      <td>0.0</td>\n",
       "      <td>0.0</td>\n",
       "      <td>1</td>\n",
       "    </tr>\n",
       "    <tr>\n",
       "      <th>844</th>\n",
       "      <td>875</td>\n",
       "      <td>2021-07-31</td>\n",
       "      <td>Samedi</td>\n",
       "      <td>midi</td>\n",
       "      <td>1655.50</td>\n",
       "      <td>1496.52</td>\n",
       "      <td>158.98</td>\n",
       "      <td>294.69</td>\n",
       "      <td>294.47</td>\n",
       "      <td>294.16</td>\n",
       "      <td>...</td>\n",
       "      <td>0.45</td>\n",
       "      <td>0</td>\n",
       "      <td>Clear</td>\n",
       "      <td>sky is clear</td>\n",
       "      <td>0.0</td>\n",
       "      <td>0.0</td>\n",
       "      <td>0.0</td>\n",
       "      <td>0.0</td>\n",
       "      <td>0.0</td>\n",
       "      <td>1</td>\n",
       "    </tr>\n",
       "    <tr>\n",
       "      <th>845</th>\n",
       "      <td>876</td>\n",
       "      <td>2021-07-31</td>\n",
       "      <td>Samedi</td>\n",
       "      <td>soir</td>\n",
       "      <td>8446.00</td>\n",
       "      <td>7519.24</td>\n",
       "      <td>926.76</td>\n",
       "      <td>293.83</td>\n",
       "      <td>293.55</td>\n",
       "      <td>292.49</td>\n",
       "      <td>...</td>\n",
       "      <td>0.89</td>\n",
       "      <td>40</td>\n",
       "      <td>Clouds</td>\n",
       "      <td>scattered clouds</td>\n",
       "      <td>0.0</td>\n",
       "      <td>0.0</td>\n",
       "      <td>0.0</td>\n",
       "      <td>0.0</td>\n",
       "      <td>0.0</td>\n",
       "      <td>1</td>\n",
       "    </tr>\n",
       "  </tbody>\n",
       "</table>\n",
       "<p>846 rows × 21 columns</p>\n",
       "</div>"
      ],
      "text/plain": [
       "     index        date      jour service   CA_TTC    CA_HT     TVA    temp  \\\n",
       "0        0  2019-08-27     Mardi    midi     0.00     0.00    0.00  303.84   \n",
       "1        1  2019-08-27     Mardi    soir    59.50    51.70    7.80  302.00   \n",
       "2        2  2019-08-28  Mercredi    midi     0.00     0.00    0.00  301.95   \n",
       "3        3  2019-08-28  Mercredi    soir  1723.75  1530.14  193.61  297.94   \n",
       "4        4  2019-08-29     Jeudi    midi     0.00     0.00    0.00  294.88   \n",
       "..     ...         ...       ...     ...      ...      ...     ...     ...   \n",
       "841    872  2021-07-29     Jeudi    soir  6564.00  5842.95  721.05  295.25   \n",
       "842    873  2021-07-30  Vendredi    midi  1361.00  1229.24  131.76  295.70   \n",
       "843    874  2021-07-30  Vendredi    soir  7058.00  6263.03  794.97  294.44   \n",
       "844    875  2021-07-31    Samedi    midi  1655.50  1496.52  158.98  294.69   \n",
       "845    876  2021-07-31    Samedi    soir  8446.00  7519.24  926.76  293.83   \n",
       "\n",
       "     feels_like  temp_min  ...  wind_speed  clouds_all  weather_main  \\\n",
       "0        303.95    302.16  ...        1.00           0         Clear   \n",
       "1        301.61    297.23  ...        0.89           0         Clear   \n",
       "2        302.12    300.75  ...        1.79           0         Clear   \n",
       "3        298.09    295.40  ...        1.34           0         Clear   \n",
       "4        294.73    293.25  ...        2.10          90        Clouds   \n",
       "..          ...       ...  ...         ...         ...           ...   \n",
       "841      294.82    293.58  ...        0.89           0         Clear   \n",
       "842      295.29    294.40  ...        2.24          40        Clouds   \n",
       "843      294.01    293.27  ...        1.34           0         Clear   \n",
       "844      294.47    294.16  ...        0.45           0         Clear   \n",
       "845      293.55    292.49  ...        0.89          40        Clouds   \n",
       "\n",
       "    weather_description match_edf  roland_garros  fashion_week  \\\n",
       "0          sky is clear       0.0            0.0           0.0   \n",
       "1          sky is clear       0.0            0.0           0.0   \n",
       "2          sky is clear       0.0            0.0           0.0   \n",
       "3          sky is clear       0.0            0.0           0.0   \n",
       "4       overcast clouds       0.0            0.0           0.0   \n",
       "..                  ...       ...            ...           ...   \n",
       "841        sky is clear       0.0            0.0           0.0   \n",
       "842    scattered clouds       0.0            0.0           0.0   \n",
       "843        sky is clear       0.0            0.0           0.0   \n",
       "844        sky is clear       0.0            0.0           0.0   \n",
       "845    scattered clouds       0.0            0.0           0.0   \n",
       "\n",
       "     Match Happening  Match Happening-CL  vacances_paris  \n",
       "0                0.0                 0.0               1  \n",
       "1                0.0                 0.0               1  \n",
       "2                0.0                 0.0               1  \n",
       "3                0.0                 0.0               1  \n",
       "4                0.0                 0.0               1  \n",
       "..               ...                 ...             ...  \n",
       "841              0.0                 0.0               1  \n",
       "842              0.0                 0.0               1  \n",
       "843              0.0                 0.0               1  \n",
       "844              0.0                 0.0               1  \n",
       "845              0.0                 0.0               1  \n",
       "\n",
       "[846 rows x 21 columns]"
      ]
     },
     "execution_count": 11,
     "metadata": {},
     "output_type": "execute_result"
    }
   ],
   "source": [
    "data_d16.fillna(value = 0, inplace = True)\n",
    "data_d2.fillna(value = 0, inplace = True)\n",
    "data_d16"
   ]
  },
  {
   "cell_type": "code",
   "execution_count": 12,
   "metadata": {
    "ExecuteTime": {
     "end_time": "2021-08-25T15:56:32.516042Z",
     "start_time": "2021-08-25T15:56:32.484533Z"
    },
    "id": "WIH8DkBN0osc"
   },
   "outputs": [],
   "source": [
    "data_d16.vacances_paris.replace(to_replace = '0', value = 0, inplace=True)\n",
    "data_d2.vacances_paris.replace(to_replace = '0', value = 0, inplace=True)"
   ]
  },
  {
   "cell_type": "code",
   "execution_count": 13,
   "metadata": {
    "ExecuteTime": {
     "end_time": "2021-08-25T15:56:32.651879Z",
     "start_time": "2021-08-25T15:56:32.626467Z"
    },
    "id": "f9ToWA-rU5Oa"
   },
   "outputs": [],
   "source": [
    "data_d16.drop(columns = 'vacances_paris', inplace = True)\n",
    "data_d2.drop(columns = 'vacances_paris', inplace = True)"
   ]
  },
  {
   "cell_type": "code",
   "execution_count": 14,
   "metadata": {
    "ExecuteTime": {
     "end_time": "2021-08-25T15:56:32.797991Z",
     "start_time": "2021-08-25T15:56:32.767932Z"
    },
    "id": "5iIvW9kHnkUa"
   },
   "outputs": [],
   "source": [
    "data_d16.drop(columns = ['CA_HT','TVA'], inplace = True)\n",
    "data_d2.drop(columns = ['CA_HT','TVA'], inplace = True)"
   ]
  },
  {
   "cell_type": "code",
   "execution_count": 15,
   "metadata": {
    "ExecuteTime": {
     "end_time": "2021-08-25T15:56:32.939528Z",
     "start_time": "2021-08-25T15:56:32.910430Z"
    },
    "colab": {
     "base_uri": "https://localhost:8080/"
    },
    "id": "pHGGMbEzi6ZP",
    "outputId": "33933bc1-0c24-47d9-a003-3b76643d91d2"
   },
   "outputs": [
    {
     "data": {
      "text/plain": [
       "index                  0\n",
       "date                   0\n",
       "jour                   0\n",
       "service                0\n",
       "CA_TTC                 0\n",
       "temp                   0\n",
       "feels_like             0\n",
       "temp_min               0\n",
       "temp_max               0\n",
       "wind_speed             0\n",
       "clouds_all             0\n",
       "weather_main           0\n",
       "weather_description    0\n",
       "match_edf              0\n",
       "roland_garros          0\n",
       "fashion_week           0\n",
       "Match Happening        0\n",
       "Match Happening-CL     0\n",
       "dtype: int64"
      ]
     },
     "execution_count": 15,
     "metadata": {},
     "output_type": "execute_result"
    }
   ],
   "source": [
    "data_d16.isnull().sum()"
   ]
  },
  {
   "cell_type": "code",
   "execution_count": 16,
   "metadata": {
    "ExecuteTime": {
     "end_time": "2021-08-25T15:56:33.089850Z",
     "start_time": "2021-08-25T15:56:33.058146Z"
    },
    "colab": {
     "base_uri": "https://localhost:8080/",
     "height": 328
    },
    "id": "5MQQD9JMpwCb",
    "outputId": "7677ca07-2043-4183-d599-9e09ccd87fdc"
   },
   "outputs": [
    {
     "data": {
      "text/html": [
       "<div>\n",
       "<style scoped>\n",
       "    .dataframe tbody tr th:only-of-type {\n",
       "        vertical-align: middle;\n",
       "    }\n",
       "\n",
       "    .dataframe tbody tr th {\n",
       "        vertical-align: top;\n",
       "    }\n",
       "\n",
       "    .dataframe thead th {\n",
       "        text-align: right;\n",
       "    }\n",
       "</style>\n",
       "<table border=\"1\" class=\"dataframe\">\n",
       "  <thead>\n",
       "    <tr style=\"text-align: right;\">\n",
       "      <th></th>\n",
       "      <th>0</th>\n",
       "    </tr>\n",
       "  </thead>\n",
       "  <tbody>\n",
       "    <tr>\n",
       "      <th>0</th>\n",
       "      <td>Clear</td>\n",
       "    </tr>\n",
       "    <tr>\n",
       "      <th>1</th>\n",
       "      <td>Clouds</td>\n",
       "    </tr>\n",
       "    <tr>\n",
       "      <th>3</th>\n",
       "      <td>Drizzle</td>\n",
       "    </tr>\n",
       "    <tr>\n",
       "      <th>5</th>\n",
       "      <td>Fog</td>\n",
       "    </tr>\n",
       "    <tr>\n",
       "      <th>7</th>\n",
       "      <td>Haze</td>\n",
       "    </tr>\n",
       "    <tr>\n",
       "      <th>4</th>\n",
       "      <td>Mist</td>\n",
       "    </tr>\n",
       "    <tr>\n",
       "      <th>2</th>\n",
       "      <td>Rain</td>\n",
       "    </tr>\n",
       "    <tr>\n",
       "      <th>13</th>\n",
       "      <td>Snow</td>\n",
       "    </tr>\n",
       "    <tr>\n",
       "      <th>6</th>\n",
       "      <td>Thunderstorm</td>\n",
       "    </tr>\n",
       "  </tbody>\n",
       "</table>\n",
       "</div>"
      ],
      "text/plain": [
       "               0\n",
       "0          Clear\n",
       "1         Clouds\n",
       "3        Drizzle\n",
       "5            Fog\n",
       "7           Haze\n",
       "4           Mist\n",
       "2           Rain\n",
       "13          Snow\n",
       "6   Thunderstorm"
      ]
     },
     "execution_count": 16,
     "metadata": {},
     "output_type": "execute_result"
    }
   ],
   "source": [
    "weather_main = pd.DataFrame(np.concatenate([data_d16.weather_main.unique(),data_d2.weather_main.unique()])).drop_duplicates()\n",
    "weather_main.sort_values(by=0,axis=0, inplace=True)\n",
    "weather_main"
   ]
  },
  {
   "cell_type": "code",
   "execution_count": 17,
   "metadata": {
    "ExecuteTime": {
     "end_time": "2021-08-25T15:56:33.241689Z",
     "start_time": "2021-08-25T15:56:33.206986Z"
    },
    "colab": {
     "base_uri": "https://localhost:8080/",
     "height": 731
    },
    "id": "Y4f-OjARmwcj",
    "outputId": "bdba2ff4-bac3-4a1a-fa0d-c9690ead8f20"
   },
   "outputs": [
    {
     "data": {
      "text/html": [
       "<div>\n",
       "<style scoped>\n",
       "    .dataframe tbody tr th:only-of-type {\n",
       "        vertical-align: middle;\n",
       "    }\n",
       "\n",
       "    .dataframe tbody tr th {\n",
       "        vertical-align: top;\n",
       "    }\n",
       "\n",
       "    .dataframe thead th {\n",
       "        text-align: right;\n",
       "    }\n",
       "</style>\n",
       "<table border=\"1\" class=\"dataframe\">\n",
       "  <thead>\n",
       "    <tr style=\"text-align: right;\">\n",
       "      <th></th>\n",
       "      <th>0</th>\n",
       "    </tr>\n",
       "  </thead>\n",
       "  <tbody>\n",
       "    <tr>\n",
       "      <th>4</th>\n",
       "      <td>broken clouds</td>\n",
       "    </tr>\n",
       "    <tr>\n",
       "      <th>7</th>\n",
       "      <td>drizzle</td>\n",
       "    </tr>\n",
       "    <tr>\n",
       "      <th>3</th>\n",
       "      <td>few clouds</td>\n",
       "    </tr>\n",
       "    <tr>\n",
       "      <th>14</th>\n",
       "      <td>fog</td>\n",
       "    </tr>\n",
       "    <tr>\n",
       "      <th>17</th>\n",
       "      <td>haze</td>\n",
       "    </tr>\n",
       "    <tr>\n",
       "      <th>13</th>\n",
       "      <td>heavy intensity drizzle</td>\n",
       "    </tr>\n",
       "    <tr>\n",
       "      <th>16</th>\n",
       "      <td>heavy intensity rain</td>\n",
       "    </tr>\n",
       "    <tr>\n",
       "      <th>10</th>\n",
       "      <td>light intensity drizzle</td>\n",
       "    </tr>\n",
       "    <tr>\n",
       "      <th>11</th>\n",
       "      <td>light intensity drizzle rain</td>\n",
       "    </tr>\n",
       "    <tr>\n",
       "      <th>9</th>\n",
       "      <td>light intensity shower rain</td>\n",
       "    </tr>\n",
       "    <tr>\n",
       "      <th>5</th>\n",
       "      <td>light rain</td>\n",
       "    </tr>\n",
       "    <tr>\n",
       "      <th>26</th>\n",
       "      <td>light snow</td>\n",
       "    </tr>\n",
       "    <tr>\n",
       "      <th>8</th>\n",
       "      <td>mist</td>\n",
       "    </tr>\n",
       "    <tr>\n",
       "      <th>6</th>\n",
       "      <td>moderate rain</td>\n",
       "    </tr>\n",
       "    <tr>\n",
       "      <th>1</th>\n",
       "      <td>overcast clouds</td>\n",
       "    </tr>\n",
       "    <tr>\n",
       "      <th>33</th>\n",
       "      <td>proximity thunderstorm</td>\n",
       "    </tr>\n",
       "    <tr>\n",
       "      <th>12</th>\n",
       "      <td>rain and drizzle</td>\n",
       "    </tr>\n",
       "    <tr>\n",
       "      <th>2</th>\n",
       "      <td>scattered clouds</td>\n",
       "    </tr>\n",
       "    <tr>\n",
       "      <th>0</th>\n",
       "      <td>sky is clear</td>\n",
       "    </tr>\n",
       "    <tr>\n",
       "      <th>15</th>\n",
       "      <td>thunderstorm</td>\n",
       "    </tr>\n",
       "    <tr>\n",
       "      <th>35</th>\n",
       "      <td>thunderstorm with heavy rain</td>\n",
       "    </tr>\n",
       "    <tr>\n",
       "      <th>18</th>\n",
       "      <td>thunderstorm with light rain</td>\n",
       "    </tr>\n",
       "  </tbody>\n",
       "</table>\n",
       "</div>"
      ],
      "text/plain": [
       "                               0\n",
       "4                  broken clouds\n",
       "7                        drizzle\n",
       "3                     few clouds\n",
       "14                           fog\n",
       "17                          haze\n",
       "13       heavy intensity drizzle\n",
       "16          heavy intensity rain\n",
       "10       light intensity drizzle\n",
       "11  light intensity drizzle rain\n",
       "9    light intensity shower rain\n",
       "5                     light rain\n",
       "26                    light snow\n",
       "8                           mist\n",
       "6                  moderate rain\n",
       "1                overcast clouds\n",
       "33        proximity thunderstorm\n",
       "12              rain and drizzle\n",
       "2               scattered clouds\n",
       "0                   sky is clear\n",
       "15                  thunderstorm\n",
       "35  thunderstorm with heavy rain\n",
       "18  thunderstorm with light rain"
      ]
     },
     "execution_count": 17,
     "metadata": {},
     "output_type": "execute_result"
    }
   ],
   "source": [
    "weather_description = pd.DataFrame(np.concatenate([data_d16.weather_description.unique(),data_d2.weather_description.unique()])).drop_duplicates()\n",
    "weather_description.sort_values(by=0,axis=0, inplace=True)\n",
    "weather_description"
   ]
  },
  {
   "cell_type": "code",
   "execution_count": 18,
   "metadata": {
    "ExecuteTime": {
     "end_time": "2021-08-25T15:56:33.509234Z",
     "start_time": "2021-08-25T15:56:33.434089Z"
    },
    "colab": {
     "base_uri": "https://localhost:8080/"
    },
    "id": "I9MgXOxZocYn",
    "outputId": "a9d17029-b27d-4f59-c3d5-2722900310a8"
   },
   "outputs": [
    {
     "data": {
      "text/plain": [
       "0    22\n",
       "dtype: int64"
      ]
     },
     "execution_count": 18,
     "metadata": {},
     "output_type": "execute_result"
    }
   ],
   "source": [
    "pd.DataFrame(weather_description).nunique()"
   ]
  },
  {
   "cell_type": "code",
   "execution_count": 19,
   "metadata": {
    "ExecuteTime": {
     "end_time": "2021-08-25T15:56:33.574959Z",
     "start_time": "2021-08-25T15:56:33.535542Z"
    },
    "colab": {
     "base_uri": "https://localhost:8080/",
     "height": 328
    },
    "id": "CGpzKcQvs6BI",
    "outputId": "06922a38-d6b0-476d-c9e1-6ad30fda487f"
   },
   "outputs": [
    {
     "data": {
      "text/html": [
       "<div>\n",
       "<style scoped>\n",
       "    .dataframe tbody tr th:only-of-type {\n",
       "        vertical-align: middle;\n",
       "    }\n",
       "\n",
       "    .dataframe tbody tr th {\n",
       "        vertical-align: top;\n",
       "    }\n",
       "\n",
       "    .dataframe thead th {\n",
       "        text-align: right;\n",
       "    }\n",
       "</style>\n",
       "<table border=\"1\" class=\"dataframe\">\n",
       "  <thead>\n",
       "    <tr style=\"text-align: right;\">\n",
       "      <th></th>\n",
       "      <th>0</th>\n",
       "    </tr>\n",
       "  </thead>\n",
       "  <tbody>\n",
       "    <tr>\n",
       "      <th>0</th>\n",
       "      <td>Clear</td>\n",
       "    </tr>\n",
       "    <tr>\n",
       "      <th>1</th>\n",
       "      <td>Clouds</td>\n",
       "    </tr>\n",
       "    <tr>\n",
       "      <th>3</th>\n",
       "      <td>Drizzle</td>\n",
       "    </tr>\n",
       "    <tr>\n",
       "      <th>5</th>\n",
       "      <td>Fog</td>\n",
       "    </tr>\n",
       "    <tr>\n",
       "      <th>7</th>\n",
       "      <td>Haze</td>\n",
       "    </tr>\n",
       "    <tr>\n",
       "      <th>4</th>\n",
       "      <td>Mist</td>\n",
       "    </tr>\n",
       "    <tr>\n",
       "      <th>2</th>\n",
       "      <td>Rain</td>\n",
       "    </tr>\n",
       "    <tr>\n",
       "      <th>13</th>\n",
       "      <td>Snow</td>\n",
       "    </tr>\n",
       "    <tr>\n",
       "      <th>6</th>\n",
       "      <td>Thunderstorm</td>\n",
       "    </tr>\n",
       "  </tbody>\n",
       "</table>\n",
       "</div>"
      ],
      "text/plain": [
       "               0\n",
       "0          Clear\n",
       "1         Clouds\n",
       "3        Drizzle\n",
       "5            Fog\n",
       "7           Haze\n",
       "4           Mist\n",
       "2           Rain\n",
       "13          Snow\n",
       "6   Thunderstorm"
      ]
     },
     "execution_count": 19,
     "metadata": {},
     "output_type": "execute_result"
    }
   ],
   "source": [
    "weather_main"
   ]
  },
  {
   "cell_type": "code",
   "execution_count": 20,
   "metadata": {
    "ExecuteTime": {
     "end_time": "2021-08-25T15:56:33.747859Z",
     "start_time": "2021-08-25T15:56:33.700022Z"
    },
    "colab": {
     "base_uri": "https://localhost:8080/",
     "height": 731
    },
    "id": "zoN4k9mHuOse",
    "outputId": "1e7dcbcc-7058-45e2-e3d6-baf78e355469"
   },
   "outputs": [
    {
     "data": {
      "text/html": [
       "<div>\n",
       "<style scoped>\n",
       "    .dataframe tbody tr th:only-of-type {\n",
       "        vertical-align: middle;\n",
       "    }\n",
       "\n",
       "    .dataframe tbody tr th {\n",
       "        vertical-align: top;\n",
       "    }\n",
       "\n",
       "    .dataframe thead th {\n",
       "        text-align: right;\n",
       "    }\n",
       "</style>\n",
       "<table border=\"1\" class=\"dataframe\">\n",
       "  <thead>\n",
       "    <tr style=\"text-align: right;\">\n",
       "      <th></th>\n",
       "      <th>0</th>\n",
       "    </tr>\n",
       "  </thead>\n",
       "  <tbody>\n",
       "    <tr>\n",
       "      <th>0</th>\n",
       "      <td>broken clouds</td>\n",
       "    </tr>\n",
       "    <tr>\n",
       "      <th>1</th>\n",
       "      <td>drizzle</td>\n",
       "    </tr>\n",
       "    <tr>\n",
       "      <th>2</th>\n",
       "      <td>few clouds</td>\n",
       "    </tr>\n",
       "    <tr>\n",
       "      <th>3</th>\n",
       "      <td>fog</td>\n",
       "    </tr>\n",
       "    <tr>\n",
       "      <th>4</th>\n",
       "      <td>haze</td>\n",
       "    </tr>\n",
       "    <tr>\n",
       "      <th>5</th>\n",
       "      <td>heavy intensity drizzle</td>\n",
       "    </tr>\n",
       "    <tr>\n",
       "      <th>6</th>\n",
       "      <td>heavy intensity rain</td>\n",
       "    </tr>\n",
       "    <tr>\n",
       "      <th>7</th>\n",
       "      <td>light intensity drizzle</td>\n",
       "    </tr>\n",
       "    <tr>\n",
       "      <th>8</th>\n",
       "      <td>light intensity drizzle rain</td>\n",
       "    </tr>\n",
       "    <tr>\n",
       "      <th>9</th>\n",
       "      <td>light intensity shower rain</td>\n",
       "    </tr>\n",
       "    <tr>\n",
       "      <th>10</th>\n",
       "      <td>light rain</td>\n",
       "    </tr>\n",
       "    <tr>\n",
       "      <th>11</th>\n",
       "      <td>light snow</td>\n",
       "    </tr>\n",
       "    <tr>\n",
       "      <th>12</th>\n",
       "      <td>mist</td>\n",
       "    </tr>\n",
       "    <tr>\n",
       "      <th>13</th>\n",
       "      <td>moderate rain</td>\n",
       "    </tr>\n",
       "    <tr>\n",
       "      <th>14</th>\n",
       "      <td>overcast clouds</td>\n",
       "    </tr>\n",
       "    <tr>\n",
       "      <th>15</th>\n",
       "      <td>proximity thunderstorm</td>\n",
       "    </tr>\n",
       "    <tr>\n",
       "      <th>16</th>\n",
       "      <td>rain and drizzle</td>\n",
       "    </tr>\n",
       "    <tr>\n",
       "      <th>17</th>\n",
       "      <td>scattered clouds</td>\n",
       "    </tr>\n",
       "    <tr>\n",
       "      <th>18</th>\n",
       "      <td>sky is clear</td>\n",
       "    </tr>\n",
       "    <tr>\n",
       "      <th>19</th>\n",
       "      <td>thunderstorm</td>\n",
       "    </tr>\n",
       "    <tr>\n",
       "      <th>20</th>\n",
       "      <td>thunderstorm with heavy rain</td>\n",
       "    </tr>\n",
       "    <tr>\n",
       "      <th>21</th>\n",
       "      <td>thunderstorm with light rain</td>\n",
       "    </tr>\n",
       "  </tbody>\n",
       "</table>\n",
       "</div>"
      ],
      "text/plain": [
       "                               0\n",
       "0                  broken clouds\n",
       "1                        drizzle\n",
       "2                     few clouds\n",
       "3                            fog\n",
       "4                           haze\n",
       "5        heavy intensity drizzle\n",
       "6           heavy intensity rain\n",
       "7        light intensity drizzle\n",
       "8   light intensity drizzle rain\n",
       "9    light intensity shower rain\n",
       "10                    light rain\n",
       "11                    light snow\n",
       "12                          mist\n",
       "13                 moderate rain\n",
       "14               overcast clouds\n",
       "15        proximity thunderstorm\n",
       "16              rain and drizzle\n",
       "17              scattered clouds\n",
       "18                  sky is clear\n",
       "19                  thunderstorm\n",
       "20  thunderstorm with heavy rain\n",
       "21  thunderstorm with light rain"
      ]
     },
     "execution_count": 20,
     "metadata": {},
     "output_type": "execute_result"
    }
   ],
   "source": [
    "weather_description.reset_index().drop(columns=['index'])"
   ]
  },
  {
   "cell_type": "code",
   "execution_count": 21,
   "metadata": {
    "ExecuteTime": {
     "end_time": "2021-08-25T15:56:33.866276Z",
     "start_time": "2021-08-25T15:56:33.811465Z"
    },
    "colab": {
     "base_uri": "https://localhost:8080/",
     "height": 258
    },
    "id": "M80GVmESsCks",
    "outputId": "b8c23a40-9b7c-4021-8eec-07617c2e494d"
   },
   "outputs": [
    {
     "data": {
      "text/html": [
       "<div>\n",
       "<style scoped>\n",
       "    .dataframe tbody tr th:only-of-type {\n",
       "        vertical-align: middle;\n",
       "    }\n",
       "\n",
       "    .dataframe tbody tr th {\n",
       "        vertical-align: top;\n",
       "    }\n",
       "\n",
       "    .dataframe thead th {\n",
       "        text-align: right;\n",
       "    }\n",
       "</style>\n",
       "<table border=\"1\" class=\"dataframe\">\n",
       "  <thead>\n",
       "    <tr style=\"text-align: right;\">\n",
       "      <th></th>\n",
       "      <th>Clear</th>\n",
       "      <th>Clouds</th>\n",
       "      <th>Drizzle</th>\n",
       "      <th>Drizzle and Rain</th>\n",
       "      <th>Fog</th>\n",
       "      <th>Haze</th>\n",
       "      <th>Mist</th>\n",
       "      <th>Rain</th>\n",
       "      <th>Snow</th>\n",
       "      <th>Thunderstorm</th>\n",
       "    </tr>\n",
       "  </thead>\n",
       "  <tbody>\n",
       "    <tr>\n",
       "      <th>0</th>\n",
       "      <td>sky is clear</td>\n",
       "      <td>scattered clouds</td>\n",
       "      <td>light intensity drizzle</td>\n",
       "      <td>light intensity drizzle rain</td>\n",
       "      <td>fog</td>\n",
       "      <td>haze</td>\n",
       "      <td>mist</td>\n",
       "      <td>light rain</td>\n",
       "      <td>light snow</td>\n",
       "      <td>proximity thunderstorm</td>\n",
       "    </tr>\n",
       "    <tr>\n",
       "      <th>1</th>\n",
       "      <td>NaN</td>\n",
       "      <td>few clouds</td>\n",
       "      <td>drizzle</td>\n",
       "      <td>rain and drizzle</td>\n",
       "      <td>NaN</td>\n",
       "      <td>NaN</td>\n",
       "      <td>NaN</td>\n",
       "      <td>light intensity shower rain</td>\n",
       "      <td>NaN</td>\n",
       "      <td>thunderstorm</td>\n",
       "    </tr>\n",
       "    <tr>\n",
       "      <th>2</th>\n",
       "      <td>NaN</td>\n",
       "      <td>broken clouds</td>\n",
       "      <td>heavy intensity drizzle</td>\n",
       "      <td>NaN</td>\n",
       "      <td>NaN</td>\n",
       "      <td>NaN</td>\n",
       "      <td>NaN</td>\n",
       "      <td>moderate rain</td>\n",
       "      <td>NaN</td>\n",
       "      <td>thunderstorm with light rain</td>\n",
       "    </tr>\n",
       "    <tr>\n",
       "      <th>3</th>\n",
       "      <td>NaN</td>\n",
       "      <td>overcast clouds</td>\n",
       "      <td>NaN</td>\n",
       "      <td>NaN</td>\n",
       "      <td>NaN</td>\n",
       "      <td>NaN</td>\n",
       "      <td>NaN</td>\n",
       "      <td>heavy intensity rain</td>\n",
       "      <td>NaN</td>\n",
       "      <td>thunderstorm with heavy rain</td>\n",
       "    </tr>\n",
       "  </tbody>\n",
       "</table>\n",
       "</div>"
      ],
      "text/plain": [
       "          Clear            Clouds                  Drizzle  \\\n",
       "0  sky is clear  scattered clouds  light intensity drizzle   \n",
       "1           NaN        few clouds                  drizzle   \n",
       "2           NaN     broken clouds  heavy intensity drizzle   \n",
       "3           NaN   overcast clouds                      NaN   \n",
       "\n",
       "               Drizzle and Rain  Fog  Haze  Mist                         Rain  \\\n",
       "0  light intensity drizzle rain  fog  haze  mist                   light rain   \n",
       "1              rain and drizzle  NaN   NaN   NaN  light intensity shower rain   \n",
       "2                           NaN  NaN   NaN   NaN                moderate rain   \n",
       "3                           NaN  NaN   NaN   NaN         heavy intensity rain   \n",
       "\n",
       "         Snow                  Thunderstorm  \n",
       "0  light snow        proximity thunderstorm  \n",
       "1         NaN                  thunderstorm  \n",
       "2         NaN  thunderstorm with light rain  \n",
       "3         NaN  thunderstorm with heavy rain  "
      ]
     },
     "execution_count": 21,
     "metadata": {},
     "output_type": "execute_result"
    }
   ],
   "source": [
    "weather_sorted = {\n",
    "'Clear' : ['sky is clear', np.nan, np.nan,np.nan], \n",
    "'Clouds' : ['scattered clouds','few clouds','broken clouds','overcast clouds'],\n",
    "'Drizzle' : ['light intensity drizzle','drizzle','heavy intensity drizzle',np.nan], \n",
    "'Drizzle and Rain' : ['light intensity drizzle rain','rain and drizzle',np.nan,np.nan],\n",
    "'Fog' : ['fog', np.nan, np.nan,np.nan], \n",
    "'Haze' : ['haze', np.nan, np.nan,np.nan], \n",
    "'Mist' : ['mist', np.nan, np.nan,np.nan], \n",
    "'Rain' : ['light rain','light intensity shower rain','moderate rain', 'heavy intensity rain'], \n",
    "'Snow' : ['light snow', np.nan, np.nan,np.nan], \n",
    "'Thunderstorm' : ['proximity thunderstorm', 'thunderstorm', 'thunderstorm with light rain','thunderstorm with heavy rain'] \n",
    "}\n",
    "\n",
    "weather_sorted_df = pd.DataFrame(data=weather_sorted)\n",
    "weather_sorted_df"
   ]
  },
  {
   "cell_type": "code",
   "execution_count": 22,
   "metadata": {
    "ExecuteTime": {
     "end_time": "2021-08-25T15:56:33.965845Z",
     "start_time": "2021-08-25T15:56:33.945120Z"
    },
    "id": "5I96dFCVHjNX"
   },
   "outputs": [],
   "source": [
    "#data_d16.weather_description.unique()"
   ]
  },
  {
   "cell_type": "code",
   "execution_count": 23,
   "metadata": {
    "ExecuteTime": {
     "end_time": "2021-08-25T15:56:34.097143Z",
     "start_time": "2021-08-25T15:56:34.072814Z"
    },
    "id": "VfdFPgVOyMxq"
   },
   "outputs": [],
   "source": [
    "#weather_sorted_df"
   ]
  },
  {
   "cell_type": "code",
   "execution_count": 24,
   "metadata": {
    "ExecuteTime": {
     "end_time": "2021-08-25T15:56:34.233805Z",
     "start_time": "2021-08-25T15:56:34.208146Z"
    },
    "id": "sfwWf3_jEtB5"
   },
   "outputs": [],
   "source": [
    "#data_d16.columns"
   ]
  },
  {
   "cell_type": "code",
   "execution_count": 25,
   "metadata": {
    "ExecuteTime": {
     "end_time": "2021-08-25T15:56:34.735754Z",
     "start_time": "2021-08-25T15:56:34.713136Z"
    },
    "id": "yzlRq-NKGzAQ"
   },
   "outputs": [],
   "source": [
    "#weather_sorted.keys()"
   ]
  },
  {
   "cell_type": "code",
   "execution_count": 26,
   "metadata": {
    "ExecuteTime": {
     "end_time": "2021-08-25T15:56:34.831615Z",
     "start_time": "2021-08-25T15:56:34.801761Z"
    },
    "colab": {
     "base_uri": "https://localhost:8080/"
    },
    "id": "kvmOgGNvI_UT",
    "outputId": "0068b02f-6994-4e73-a457-ffb5eee8d6d8"
   },
   "outputs": [
    {
     "name": "stdout",
     "output_type": "stream",
     "text": [
      "['sky is clear', nan, nan, nan]\n",
      "['scattered clouds', 'few clouds', 'broken clouds', 'overcast clouds']\n",
      "['light intensity drizzle', 'drizzle', 'heavy intensity drizzle', nan]\n",
      "['light intensity drizzle rain', 'rain and drizzle', nan, nan]\n",
      "['fog', nan, nan, nan]\n",
      "['haze', nan, nan, nan]\n",
      "['mist', nan, nan, nan]\n",
      "['light rain', 'light intensity shower rain', 'moderate rain', 'heavy intensity rain']\n",
      "['light snow', nan, nan, nan]\n",
      "['proximity thunderstorm', 'thunderstorm', 'thunderstorm with light rain', 'thunderstorm with heavy rain']\n"
     ]
    }
   ],
   "source": [
    "for i in weather_sorted.values():\n",
    "  print(i)"
   ]
  },
  {
   "cell_type": "code",
   "execution_count": 27,
   "metadata": {
    "ExecuteTime": {
     "end_time": "2021-08-25T15:56:34.925401Z",
     "start_time": "2021-08-25T15:56:34.888539Z"
    },
    "id": "nNg12Y2KEX0Q"
   },
   "outputs": [],
   "source": [
    "def weather_cat(x, list_values):\n",
    "  for values in list_values:\n",
    "    if x == values:\n",
    "      return values"
   ]
  },
  {
   "cell_type": "code",
   "execution_count": 28,
   "metadata": {
    "ExecuteTime": {
     "end_time": "2021-08-25T15:56:34.991814Z",
     "start_time": "2021-08-25T15:56:34.967282Z"
    },
    "id": "PKMl-DJEQfGR"
   },
   "outputs": [],
   "source": [
    "#x = data_test.reset_index()\n",
    "#x = x.loc[0]\n",
    "#print(x)"
   ]
  },
  {
   "cell_type": "code",
   "execution_count": 29,
   "metadata": {
    "ExecuteTime": {
     "end_time": "2021-08-25T15:56:35.078897Z",
     "start_time": "2021-08-25T15:56:35.054066Z"
    },
    "id": "BH313PejU5n-"
   },
   "outputs": [],
   "source": [
    "#set(data_test.weather_description)"
   ]
  },
  {
   "cell_type": "code",
   "execution_count": 30,
   "metadata": {
    "ExecuteTime": {
     "end_time": "2021-08-25T15:56:35.155002Z",
     "start_time": "2021-08-25T15:56:35.132173Z"
    },
    "id": "tNQJLLxOJzOH"
   },
   "outputs": [],
   "source": [
    "run_test = False\n",
    "if run_test == True:\n",
    "  data_test = data_d16.copy()\n",
    "  for i in range(len(list(weather_sorted.values()))):\n",
    "    nom_col = list(weather_sorted.keys())[i]\n",
    "    list_col = list(weather_sorted.values())[i]\n",
    "    data_test[nom_col] = data_test.apply(lambda x: weather_cat(x['weather_description'], list_col), axis=1)\n"
   ]
  },
  {
   "cell_type": "code",
   "execution_count": 31,
   "metadata": {
    "ExecuteTime": {
     "end_time": "2021-08-25T15:56:35.369374Z",
     "start_time": "2021-08-25T15:56:35.214737Z"
    },
    "id": "mAr2sRkNY4Cd"
   },
   "outputs": [],
   "source": [
    "for i in range(len(list(weather_sorted.values()))):\n",
    "  nom_col = list(weather_sorted.keys())[i]\n",
    "  list_col = list(weather_sorted.values())[i]\n",
    "  data_d16[nom_col] = data_d16.apply(lambda x: weather_cat(x['weather_description'], list_col), axis=1)"
   ]
  },
  {
   "cell_type": "code",
   "execution_count": 32,
   "metadata": {
    "ExecuteTime": {
     "end_time": "2021-08-25T15:56:35.578005Z",
     "start_time": "2021-08-25T15:56:35.372289Z"
    },
    "id": "8Q1arJrld-FW"
   },
   "outputs": [],
   "source": [
    "for i in range(len(list(weather_sorted.values()))):\n",
    "  nom_col = list(weather_sorted.keys())[i]\n",
    "  list_col = list(weather_sorted.values())[i]\n",
    "  data_d2[nom_col] = data_d2.apply(lambda x: weather_cat(x['weather_description'], list_col), axis=1)"
   ]
  },
  {
   "cell_type": "code",
   "execution_count": 33,
   "metadata": {
    "ExecuteTime": {
     "end_time": "2021-08-25T15:56:35.620687Z",
     "start_time": "2021-08-25T15:56:35.581256Z"
    },
    "id": "-Sgdq8Nkeknx"
   },
   "outputs": [],
   "source": [
    "data_d16.fillna(value=0, inplace=True)\n",
    "data_d2.fillna(value=0, inplace=True)"
   ]
  },
  {
   "cell_type": "code",
   "execution_count": 34,
   "metadata": {
    "ExecuteTime": {
     "end_time": "2021-08-25T15:56:35.657514Z",
     "start_time": "2021-08-25T15:56:35.624749Z"
    },
    "colab": {
     "base_uri": "https://localhost:8080/"
    },
    "id": "rje3LAEMeyeQ",
    "outputId": "75a3864f-fabc-4f0d-e0e2-3f91873e4331"
   },
   "outputs": [
    {
     "name": "stdout",
     "output_type": "stream",
     "text": [
      "[Errno 2] No such file or directory: '/content/drive/MyDrive/resto-655-project/resto-project-data/Data/Data_Daroco'\n",
      "/Users/monmac/code/tomaymerich14/resto-project/notebooks\n"
     ]
    }
   ],
   "source": [
    "cd '/content/drive/MyDrive/resto-655-project/resto-project-data/Data/Data_Daroco'"
   ]
  },
  {
   "cell_type": "code",
   "execution_count": 35,
   "metadata": {
    "ExecuteTime": {
     "end_time": "2021-08-25T15:56:35.684982Z",
     "start_time": "2021-08-25T15:56:35.661776Z"
    },
    "colab": {
     "base_uri": "https://localhost:8080/"
    },
    "id": "CRtubYo5YvLt",
    "outputId": "57d78fd3-df7b-4702-af10-11bb53de4c83"
   },
   "outputs": [
    {
     "data": {
      "text/plain": [
       "('match_edf', 'roland_garros', 'fashion_week')"
      ]
     },
     "execution_count": 35,
     "metadata": {},
     "output_type": "execute_result"
    }
   ],
   "source": [
    "'match_edf', 'roland_garros', 'fashion_week'"
   ]
  },
  {
   "cell_type": "code",
   "execution_count": 36,
   "metadata": {
    "ExecuteTime": {
     "end_time": "2021-08-25T15:56:35.720459Z",
     "start_time": "2021-08-25T15:56:35.687013Z"
    },
    "id": "XWhe8GzK5DLS"
   },
   "outputs": [],
   "source": [
    "data_d2['Match Happening'] = data_d2['Match Happening'].astype('object')\n",
    "data_d2['Match Happening-CL'] = data_d2['Match Happening-CL'].astype('object')\n",
    "data_d2['match_edf'] = data_d2['match_edf'].astype('object')\n",
    "data_d2['roland_garros'] = data_d2['roland_garros'].astype('object')\n",
    "data_d2['fashion_week'] = data_d2['fashion_week'].astype('object')"
   ]
  },
  {
   "cell_type": "code",
   "execution_count": 37,
   "metadata": {
    "ExecuteTime": {
     "end_time": "2021-08-25T15:56:35.749569Z",
     "start_time": "2021-08-25T15:56:35.724271Z"
    },
    "id": "FcOXsJmh5FKp"
   },
   "outputs": [],
   "source": [
    "data_d16['Match Happening'] = data_d16['Match Happening'].astype('object')\n",
    "data_d16['Match Happening-CL'] = data_d16['Match Happening-CL'].astype('object')\n",
    "data_d16['match_edf'] = data_d16['match_edf'].astype('object')\n",
    "data_d16['roland_garros'] = data_d16['roland_garros'].astype('object')\n",
    "data_d16['fashion_week'] = data_d16['fashion_week'].astype('object')"
   ]
  },
  {
   "cell_type": "code",
   "execution_count": 38,
   "metadata": {
    "ExecuteTime": {
     "end_time": "2021-08-25T15:56:35.879774Z",
     "start_time": "2021-08-25T15:56:35.796668Z"
    },
    "colab": {
     "base_uri": "https://localhost:8080/",
     "height": 660
    },
    "id": "4PYxTXKKh0hH",
    "outputId": "99abbaae-e63b-44ae-f153-982d121abcc3"
   },
   "outputs": [
    {
     "data": {
      "text/html": [
       "<div>\n",
       "<style scoped>\n",
       "    .dataframe tbody tr th:only-of-type {\n",
       "        vertical-align: middle;\n",
       "    }\n",
       "\n",
       "    .dataframe tbody tr th {\n",
       "        vertical-align: top;\n",
       "    }\n",
       "\n",
       "    .dataframe thead th {\n",
       "        text-align: right;\n",
       "    }\n",
       "</style>\n",
       "<table border=\"1\" class=\"dataframe\">\n",
       "  <thead>\n",
       "    <tr style=\"text-align: right;\">\n",
       "      <th></th>\n",
       "      <th>index</th>\n",
       "      <th>date</th>\n",
       "      <th>jour</th>\n",
       "      <th>service</th>\n",
       "      <th>CA_TTC</th>\n",
       "      <th>temp</th>\n",
       "      <th>feels_like</th>\n",
       "      <th>temp_min</th>\n",
       "      <th>temp_max</th>\n",
       "      <th>wind_speed</th>\n",
       "      <th>...</th>\n",
       "      <th>Clear</th>\n",
       "      <th>Clouds</th>\n",
       "      <th>Drizzle</th>\n",
       "      <th>Drizzle and Rain</th>\n",
       "      <th>Fog</th>\n",
       "      <th>Haze</th>\n",
       "      <th>Mist</th>\n",
       "      <th>Rain</th>\n",
       "      <th>Snow</th>\n",
       "      <th>Thunderstorm</th>\n",
       "    </tr>\n",
       "  </thead>\n",
       "  <tbody>\n",
       "    <tr>\n",
       "      <th>0</th>\n",
       "      <td>0</td>\n",
       "      <td>2019-01-01</td>\n",
       "      <td>Mardi</td>\n",
       "      <td>soir</td>\n",
       "      <td>8345.0</td>\n",
       "      <td>280.87</td>\n",
       "      <td>280.87</td>\n",
       "      <td>279.48</td>\n",
       "      <td>281.45</td>\n",
       "      <td>0.45</td>\n",
       "      <td>...</td>\n",
       "      <td>0</td>\n",
       "      <td>0</td>\n",
       "      <td>light intensity drizzle</td>\n",
       "      <td>0</td>\n",
       "      <td>0</td>\n",
       "      <td>0</td>\n",
       "      <td>0</td>\n",
       "      <td>0</td>\n",
       "      <td>0</td>\n",
       "      <td>0</td>\n",
       "    </tr>\n",
       "    <tr>\n",
       "      <th>1</th>\n",
       "      <td>1</td>\n",
       "      <td>2019-01-02</td>\n",
       "      <td>Mercredi</td>\n",
       "      <td>midi</td>\n",
       "      <td>3939.0</td>\n",
       "      <td>279.57</td>\n",
       "      <td>278.92</td>\n",
       "      <td>278.83</td>\n",
       "      <td>280.31</td>\n",
       "      <td>1.34</td>\n",
       "      <td>...</td>\n",
       "      <td>0</td>\n",
       "      <td>overcast clouds</td>\n",
       "      <td>0</td>\n",
       "      <td>0</td>\n",
       "      <td>0</td>\n",
       "      <td>0</td>\n",
       "      <td>0</td>\n",
       "      <td>0</td>\n",
       "      <td>0</td>\n",
       "      <td>0</td>\n",
       "    </tr>\n",
       "    <tr>\n",
       "      <th>2</th>\n",
       "      <td>2</td>\n",
       "      <td>2019-01-02</td>\n",
       "      <td>Mercredi</td>\n",
       "      <td>soir</td>\n",
       "      <td>9045.5</td>\n",
       "      <td>278.95</td>\n",
       "      <td>277.22</td>\n",
       "      <td>277.71</td>\n",
       "      <td>279.81</td>\n",
       "      <td>2.24</td>\n",
       "      <td>...</td>\n",
       "      <td>0</td>\n",
       "      <td>overcast clouds</td>\n",
       "      <td>0</td>\n",
       "      <td>0</td>\n",
       "      <td>0</td>\n",
       "      <td>0</td>\n",
       "      <td>0</td>\n",
       "      <td>0</td>\n",
       "      <td>0</td>\n",
       "      <td>0</td>\n",
       "    </tr>\n",
       "    <tr>\n",
       "      <th>3</th>\n",
       "      <td>3</td>\n",
       "      <td>2019-01-03</td>\n",
       "      <td>Jeudi</td>\n",
       "      <td>midi</td>\n",
       "      <td>4836.0</td>\n",
       "      <td>279.11</td>\n",
       "      <td>279.11</td>\n",
       "      <td>278.06</td>\n",
       "      <td>280.25</td>\n",
       "      <td>0.89</td>\n",
       "      <td>...</td>\n",
       "      <td>0</td>\n",
       "      <td>overcast clouds</td>\n",
       "      <td>0</td>\n",
       "      <td>0</td>\n",
       "      <td>0</td>\n",
       "      <td>0</td>\n",
       "      <td>0</td>\n",
       "      <td>0</td>\n",
       "      <td>0</td>\n",
       "      <td>0</td>\n",
       "    </tr>\n",
       "    <tr>\n",
       "      <th>4</th>\n",
       "      <td>4</td>\n",
       "      <td>2019-01-03</td>\n",
       "      <td>Jeudi</td>\n",
       "      <td>soir</td>\n",
       "      <td>10024.0</td>\n",
       "      <td>278.57</td>\n",
       "      <td>278.57</td>\n",
       "      <td>277.38</td>\n",
       "      <td>279.69</td>\n",
       "      <td>0.45</td>\n",
       "      <td>...</td>\n",
       "      <td>0</td>\n",
       "      <td>overcast clouds</td>\n",
       "      <td>0</td>\n",
       "      <td>0</td>\n",
       "      <td>0</td>\n",
       "      <td>0</td>\n",
       "      <td>0</td>\n",
       "      <td>0</td>\n",
       "      <td>0</td>\n",
       "      <td>0</td>\n",
       "    </tr>\n",
       "    <tr>\n",
       "      <th>...</th>\n",
       "      <td>...</td>\n",
       "      <td>...</td>\n",
       "      <td>...</td>\n",
       "      <td>...</td>\n",
       "      <td>...</td>\n",
       "      <td>...</td>\n",
       "      <td>...</td>\n",
       "      <td>...</td>\n",
       "      <td>...</td>\n",
       "      <td>...</td>\n",
       "      <td>...</td>\n",
       "      <td>...</td>\n",
       "      <td>...</td>\n",
       "      <td>...</td>\n",
       "      <td>...</td>\n",
       "      <td>...</td>\n",
       "      <td>...</td>\n",
       "      <td>...</td>\n",
       "      <td>...</td>\n",
       "      <td>...</td>\n",
       "      <td>...</td>\n",
       "    </tr>\n",
       "    <tr>\n",
       "      <th>1318</th>\n",
       "      <td>1369</td>\n",
       "      <td>2021-07-29</td>\n",
       "      <td>Jeudi</td>\n",
       "      <td>soir</td>\n",
       "      <td>7230.0</td>\n",
       "      <td>295.25</td>\n",
       "      <td>294.82</td>\n",
       "      <td>293.58</td>\n",
       "      <td>296.82</td>\n",
       "      <td>0.89</td>\n",
       "      <td>...</td>\n",
       "      <td>sky is clear</td>\n",
       "      <td>0</td>\n",
       "      <td>0</td>\n",
       "      <td>0</td>\n",
       "      <td>0</td>\n",
       "      <td>0</td>\n",
       "      <td>0</td>\n",
       "      <td>0</td>\n",
       "      <td>0</td>\n",
       "      <td>0</td>\n",
       "    </tr>\n",
       "    <tr>\n",
       "      <th>1319</th>\n",
       "      <td>1370</td>\n",
       "      <td>2021-07-30</td>\n",
       "      <td>Vendredi</td>\n",
       "      <td>midi</td>\n",
       "      <td>2104.0</td>\n",
       "      <td>295.70</td>\n",
       "      <td>295.29</td>\n",
       "      <td>294.40</td>\n",
       "      <td>297.38</td>\n",
       "      <td>2.24</td>\n",
       "      <td>...</td>\n",
       "      <td>0</td>\n",
       "      <td>scattered clouds</td>\n",
       "      <td>0</td>\n",
       "      <td>0</td>\n",
       "      <td>0</td>\n",
       "      <td>0</td>\n",
       "      <td>0</td>\n",
       "      <td>0</td>\n",
       "      <td>0</td>\n",
       "      <td>0</td>\n",
       "    </tr>\n",
       "    <tr>\n",
       "      <th>1320</th>\n",
       "      <td>1371</td>\n",
       "      <td>2021-07-30</td>\n",
       "      <td>Vendredi</td>\n",
       "      <td>soir</td>\n",
       "      <td>9816.5</td>\n",
       "      <td>294.44</td>\n",
       "      <td>294.01</td>\n",
       "      <td>293.27</td>\n",
       "      <td>295.71</td>\n",
       "      <td>1.34</td>\n",
       "      <td>...</td>\n",
       "      <td>sky is clear</td>\n",
       "      <td>0</td>\n",
       "      <td>0</td>\n",
       "      <td>0</td>\n",
       "      <td>0</td>\n",
       "      <td>0</td>\n",
       "      <td>0</td>\n",
       "      <td>0</td>\n",
       "      <td>0</td>\n",
       "      <td>0</td>\n",
       "    </tr>\n",
       "    <tr>\n",
       "      <th>1321</th>\n",
       "      <td>1372</td>\n",
       "      <td>2021-07-31</td>\n",
       "      <td>Samedi</td>\n",
       "      <td>midi</td>\n",
       "      <td>1202.5</td>\n",
       "      <td>294.69</td>\n",
       "      <td>294.47</td>\n",
       "      <td>294.16</td>\n",
       "      <td>295.59</td>\n",
       "      <td>0.45</td>\n",
       "      <td>...</td>\n",
       "      <td>sky is clear</td>\n",
       "      <td>0</td>\n",
       "      <td>0</td>\n",
       "      <td>0</td>\n",
       "      <td>0</td>\n",
       "      <td>0</td>\n",
       "      <td>0</td>\n",
       "      <td>0</td>\n",
       "      <td>0</td>\n",
       "      <td>0</td>\n",
       "    </tr>\n",
       "    <tr>\n",
       "      <th>1322</th>\n",
       "      <td>1373</td>\n",
       "      <td>2021-07-31</td>\n",
       "      <td>Samedi</td>\n",
       "      <td>soir</td>\n",
       "      <td>8160.5</td>\n",
       "      <td>293.83</td>\n",
       "      <td>293.55</td>\n",
       "      <td>292.49</td>\n",
       "      <td>294.77</td>\n",
       "      <td>0.89</td>\n",
       "      <td>...</td>\n",
       "      <td>0</td>\n",
       "      <td>scattered clouds</td>\n",
       "      <td>0</td>\n",
       "      <td>0</td>\n",
       "      <td>0</td>\n",
       "      <td>0</td>\n",
       "      <td>0</td>\n",
       "      <td>0</td>\n",
       "      <td>0</td>\n",
       "      <td>0</td>\n",
       "    </tr>\n",
       "  </tbody>\n",
       "</table>\n",
       "<p>1323 rows × 28 columns</p>\n",
       "</div>"
      ],
      "text/plain": [
       "      index        date      jour service   CA_TTC    temp  feels_like  \\\n",
       "0         0  2019-01-01     Mardi    soir   8345.0  280.87      280.87   \n",
       "1         1  2019-01-02  Mercredi    midi   3939.0  279.57      278.92   \n",
       "2         2  2019-01-02  Mercredi    soir   9045.5  278.95      277.22   \n",
       "3         3  2019-01-03     Jeudi    midi   4836.0  279.11      279.11   \n",
       "4         4  2019-01-03     Jeudi    soir  10024.0  278.57      278.57   \n",
       "...     ...         ...       ...     ...      ...     ...         ...   \n",
       "1318   1369  2021-07-29     Jeudi    soir   7230.0  295.25      294.82   \n",
       "1319   1370  2021-07-30  Vendredi    midi   2104.0  295.70      295.29   \n",
       "1320   1371  2021-07-30  Vendredi    soir   9816.5  294.44      294.01   \n",
       "1321   1372  2021-07-31    Samedi    midi   1202.5  294.69      294.47   \n",
       "1322   1373  2021-07-31    Samedi    soir   8160.5  293.83      293.55   \n",
       "\n",
       "      temp_min  temp_max  wind_speed  ...         Clear            Clouds  \\\n",
       "0       279.48    281.45        0.45  ...             0                 0   \n",
       "1       278.83    280.31        1.34  ...             0   overcast clouds   \n",
       "2       277.71    279.81        2.24  ...             0   overcast clouds   \n",
       "3       278.06    280.25        0.89  ...             0   overcast clouds   \n",
       "4       277.38    279.69        0.45  ...             0   overcast clouds   \n",
       "...        ...       ...         ...  ...           ...               ...   \n",
       "1318    293.58    296.82        0.89  ...  sky is clear                 0   \n",
       "1319    294.40    297.38        2.24  ...             0  scattered clouds   \n",
       "1320    293.27    295.71        1.34  ...  sky is clear                 0   \n",
       "1321    294.16    295.59        0.45  ...  sky is clear                 0   \n",
       "1322    292.49    294.77        0.89  ...             0  scattered clouds   \n",
       "\n",
       "                      Drizzle Drizzle and Rain Fog Haze Mist Rain Snow  \\\n",
       "0     light intensity drizzle                0   0    0    0    0    0   \n",
       "1                           0                0   0    0    0    0    0   \n",
       "2                           0                0   0    0    0    0    0   \n",
       "3                           0                0   0    0    0    0    0   \n",
       "4                           0                0   0    0    0    0    0   \n",
       "...                       ...              ...  ..  ...  ...  ...  ...   \n",
       "1318                        0                0   0    0    0    0    0   \n",
       "1319                        0                0   0    0    0    0    0   \n",
       "1320                        0                0   0    0    0    0    0   \n",
       "1321                        0                0   0    0    0    0    0   \n",
       "1322                        0                0   0    0    0    0    0   \n",
       "\n",
       "     Thunderstorm  \n",
       "0               0  \n",
       "1               0  \n",
       "2               0  \n",
       "3               0  \n",
       "4               0  \n",
       "...           ...  \n",
       "1318            0  \n",
       "1319            0  \n",
       "1320            0  \n",
       "1321            0  \n",
       "1322            0  \n",
       "\n",
       "[1323 rows x 28 columns]"
      ]
     },
     "execution_count": 38,
     "metadata": {},
     "output_type": "execute_result"
    }
   ],
   "source": [
    "data_d2"
   ]
  },
  {
   "cell_type": "code",
   "execution_count": 39,
   "metadata": {
    "ExecuteTime": {
     "end_time": "2021-08-25T15:56:35.906393Z",
     "start_time": "2021-08-25T15:56:35.883408Z"
    },
    "id": "MPMC4UI7emF1"
   },
   "outputs": [],
   "source": [
    "#data_d16.to_csv(path_or_buf='data_d16.csv', index= False)\n",
    "#data_d2.to_csv(path_or_buf='data_d2.csv', index= False)"
   ]
  },
  {
   "cell_type": "code",
   "execution_count": 40,
   "metadata": {
    "ExecuteTime": {
     "end_time": "2021-08-25T15:56:36.015804Z",
     "start_time": "2021-08-25T15:56:35.987430Z"
    },
    "id": "p4f-a6NbcQMd"
   },
   "outputs": [],
   "source": [
    "#data_test"
   ]
  },
  {
   "cell_type": "code",
   "execution_count": 41,
   "metadata": {
    "ExecuteTime": {
     "end_time": "2021-08-25T15:56:36.084809Z",
     "start_time": "2021-08-25T15:56:36.054307Z"
    },
    "id": "87mBR0kUODz_"
   },
   "outputs": [],
   "source": [
    "#list(set(data_test.Clouds))"
   ]
  },
  {
   "cell_type": "code",
   "execution_count": 42,
   "metadata": {
    "ExecuteTime": {
     "end_time": "2021-08-25T15:56:36.165171Z",
     "start_time": "2021-08-25T15:56:36.135112Z"
    },
    "id": "5E1kqMItSCEf"
   },
   "outputs": [],
   "source": [
    "#list(set(data_test.Clouds))"
   ]
  },
  {
   "cell_type": "code",
   "execution_count": 43,
   "metadata": {
    "ExecuteTime": {
     "end_time": "2021-08-25T15:56:36.240869Z",
     "start_time": "2021-08-25T15:56:36.215866Z"
    },
    "id": "VdI9ZSfvYGvq"
   },
   "outputs": [],
   "source": [
    "#data_test.keys()"
   ]
  },
  {
   "cell_type": "markdown",
   "metadata": {
    "id": "7RSvXjRedOTG"
   },
   "source": [
    "# Preprocessing"
   ]
  },
  {
   "cell_type": "code",
   "execution_count": 44,
   "metadata": {
    "ExecuteTime": {
     "end_time": "2021-08-25T15:56:36.414349Z",
     "start_time": "2021-08-25T15:56:36.383720Z"
    },
    "id": "csa4Yudq3N_n"
   },
   "outputs": [],
   "source": [
    "data_d16.drop(columns=['Snow','Haze'], inplace=True)\n",
    "data_d2.drop(columns=['Snow','Haze'], inplace=True)"
   ]
  },
  {
   "cell_type": "code",
   "execution_count": 45,
   "metadata": {
    "ExecuteTime": {
     "end_time": "2021-08-25T15:56:36.491868Z",
     "start_time": "2021-08-25T15:56:36.466815Z"
    },
    "colab": {
     "base_uri": "https://localhost:8080/"
    },
    "id": "JzOYNRRMdRWR",
    "outputId": "e1a87a7a-39b1-4f15-aaaa-ac98391d715a"
   },
   "outputs": [
    {
     "name": "stdout",
     "output_type": "stream",
     "text": [
      "object     18\n",
      "float64     6\n",
      "int64       2\n",
      "dtype: int64\n"
     ]
    }
   ],
   "source": [
    "dataTypeSeries = data_d16.dtypes\n",
    "dataTypeSeries_valuecounts = data_d16.dtypes.value_counts()\n",
    "print(dataTypeSeries_valuecounts)"
   ]
  },
  {
   "cell_type": "code",
   "execution_count": 46,
   "metadata": {
    "ExecuteTime": {
     "end_time": "2021-08-25T15:56:36.601911Z",
     "start_time": "2021-08-25T15:56:36.565387Z"
    },
    "colab": {
     "base_uri": "https://localhost:8080/",
     "height": 266
    },
    "id": "QPqT_x97h1ik",
    "outputId": "e5651de9-8ba4-4dd3-f905-3e4668e2769b"
   },
   "outputs": [
    {
     "data": {
      "text/html": [
       "<div>\n",
       "<style scoped>\n",
       "    .dataframe tbody tr th:only-of-type {\n",
       "        vertical-align: middle;\n",
       "    }\n",
       "\n",
       "    .dataframe tbody tr th {\n",
       "        vertical-align: top;\n",
       "    }\n",
       "\n",
       "    .dataframe thead th {\n",
       "        text-align: right;\n",
       "    }\n",
       "</style>\n",
       "<table border=\"1\" class=\"dataframe\">\n",
       "  <thead>\n",
       "    <tr style=\"text-align: right;\">\n",
       "      <th></th>\n",
       "      <th>unique_values</th>\n",
       "    </tr>\n",
       "  </thead>\n",
       "  <tbody>\n",
       "    <tr>\n",
       "      <th>index</th>\n",
       "      <td>1323</td>\n",
       "    </tr>\n",
       "    <tr>\n",
       "      <th>CA_TTC</th>\n",
       "      <td>1297</td>\n",
       "    </tr>\n",
       "    <tr>\n",
       "      <th>temp</th>\n",
       "      <td>1040</td>\n",
       "    </tr>\n",
       "    <tr>\n",
       "      <th>feels_like</th>\n",
       "      <td>1081</td>\n",
       "    </tr>\n",
       "    <tr>\n",
       "      <th>temp_min</th>\n",
       "      <td>605</td>\n",
       "    </tr>\n",
       "    <tr>\n",
       "      <th>temp_max</th>\n",
       "      <td>676</td>\n",
       "    </tr>\n",
       "    <tr>\n",
       "      <th>wind_speed</th>\n",
       "      <td>43</td>\n",
       "    </tr>\n",
       "    <tr>\n",
       "      <th>clouds_all</th>\n",
       "      <td>7</td>\n",
       "    </tr>\n",
       "  </tbody>\n",
       "</table>\n",
       "</div>"
      ],
      "text/plain": [
       "            unique_values\n",
       "index                1323\n",
       "CA_TTC               1297\n",
       "temp                 1040\n",
       "feels_like           1081\n",
       "temp_min              605\n",
       "temp_max              676\n",
       "wind_speed             43\n",
       "clouds_all              7"
      ]
     },
     "execution_count": 46,
     "metadata": {},
     "output_type": "execute_result"
    }
   ],
   "source": [
    "feat_numerical_nunique_d2 = pd.DataFrame(data_d2.select_dtypes(exclude=['object'],include=['int64','float64']).nunique(), columns = [\"unique_values\"])\n",
    "feat_numerical_nunique_d2"
   ]
  },
  {
   "cell_type": "code",
   "execution_count": 47,
   "metadata": {
    "ExecuteTime": {
     "end_time": "2021-08-25T15:56:36.675299Z",
     "start_time": "2021-08-25T15:56:36.634772Z"
    },
    "colab": {
     "base_uri": "https://localhost:8080/",
     "height": 607
    },
    "id": "BNaiUafMhM5u",
    "outputId": "e90c5c42-122e-4bab-c483-57b8038789cd"
   },
   "outputs": [
    {
     "data": {
      "text/html": [
       "<div>\n",
       "<style scoped>\n",
       "    .dataframe tbody tr th:only-of-type {\n",
       "        vertical-align: middle;\n",
       "    }\n",
       "\n",
       "    .dataframe tbody tr th {\n",
       "        vertical-align: top;\n",
       "    }\n",
       "\n",
       "    .dataframe thead th {\n",
       "        text-align: right;\n",
       "    }\n",
       "</style>\n",
       "<table border=\"1\" class=\"dataframe\">\n",
       "  <thead>\n",
       "    <tr style=\"text-align: right;\">\n",
       "      <th></th>\n",
       "      <th>unique_values</th>\n",
       "    </tr>\n",
       "  </thead>\n",
       "  <tbody>\n",
       "    <tr>\n",
       "      <th>date</th>\n",
       "      <td>672</td>\n",
       "    </tr>\n",
       "    <tr>\n",
       "      <th>jour</th>\n",
       "      <td>7</td>\n",
       "    </tr>\n",
       "    <tr>\n",
       "      <th>service</th>\n",
       "      <td>2</td>\n",
       "    </tr>\n",
       "    <tr>\n",
       "      <th>weather_main</th>\n",
       "      <td>8</td>\n",
       "    </tr>\n",
       "    <tr>\n",
       "      <th>weather_description</th>\n",
       "      <td>21</td>\n",
       "    </tr>\n",
       "    <tr>\n",
       "      <th>match_edf</th>\n",
       "      <td>2</td>\n",
       "    </tr>\n",
       "    <tr>\n",
       "      <th>roland_garros</th>\n",
       "      <td>2</td>\n",
       "    </tr>\n",
       "    <tr>\n",
       "      <th>fashion_week</th>\n",
       "      <td>2</td>\n",
       "    </tr>\n",
       "    <tr>\n",
       "      <th>Match Happening</th>\n",
       "      <td>2</td>\n",
       "    </tr>\n",
       "    <tr>\n",
       "      <th>Match Happening-CL</th>\n",
       "      <td>2</td>\n",
       "    </tr>\n",
       "    <tr>\n",
       "      <th>Clear</th>\n",
       "      <td>2</td>\n",
       "    </tr>\n",
       "    <tr>\n",
       "      <th>Clouds</th>\n",
       "      <td>5</td>\n",
       "    </tr>\n",
       "    <tr>\n",
       "      <th>Drizzle</th>\n",
       "      <td>4</td>\n",
       "    </tr>\n",
       "    <tr>\n",
       "      <th>Drizzle and Rain</th>\n",
       "      <td>3</td>\n",
       "    </tr>\n",
       "    <tr>\n",
       "      <th>Fog</th>\n",
       "      <td>2</td>\n",
       "    </tr>\n",
       "    <tr>\n",
       "      <th>Mist</th>\n",
       "      <td>2</td>\n",
       "    </tr>\n",
       "    <tr>\n",
       "      <th>Rain</th>\n",
       "      <td>5</td>\n",
       "    </tr>\n",
       "    <tr>\n",
       "      <th>Thunderstorm</th>\n",
       "      <td>5</td>\n",
       "    </tr>\n",
       "  </tbody>\n",
       "</table>\n",
       "</div>"
      ],
      "text/plain": [
       "                     unique_values\n",
       "date                           672\n",
       "jour                             7\n",
       "service                          2\n",
       "weather_main                     8\n",
       "weather_description             21\n",
       "match_edf                        2\n",
       "roland_garros                    2\n",
       "fashion_week                     2\n",
       "Match Happening                  2\n",
       "Match Happening-CL               2\n",
       "Clear                            2\n",
       "Clouds                           5\n",
       "Drizzle                          4\n",
       "Drizzle and Rain                 3\n",
       "Fog                              2\n",
       "Mist                             2\n",
       "Rain                             5\n",
       "Thunderstorm                     5"
      ]
     },
     "execution_count": 47,
     "metadata": {},
     "output_type": "execute_result"
    }
   ],
   "source": [
    "feat_categorical_nunique_d2 = pd.DataFrame(data_d2.select_dtypes(include=['object'],exclude=['int64','float64']).nunique(), columns = [\"unique_values\"])\n",
    "feat_categorical_nunique_d2"
   ]
  },
  {
   "cell_type": "code",
   "execution_count": 48,
   "metadata": {
    "ExecuteTime": {
     "end_time": "2021-08-25T15:56:36.764062Z",
     "start_time": "2021-08-25T15:56:36.726971Z"
    },
    "colab": {
     "base_uri": "https://localhost:8080/",
     "height": 266
    },
    "id": "KbdZwezgiK_Z",
    "outputId": "7c6668d0-7c80-48a1-fa37-76d73d95539a"
   },
   "outputs": [
    {
     "data": {
      "text/html": [
       "<div>\n",
       "<style scoped>\n",
       "    .dataframe tbody tr th:only-of-type {\n",
       "        vertical-align: middle;\n",
       "    }\n",
       "\n",
       "    .dataframe tbody tr th {\n",
       "        vertical-align: top;\n",
       "    }\n",
       "\n",
       "    .dataframe thead th {\n",
       "        text-align: right;\n",
       "    }\n",
       "</style>\n",
       "<table border=\"1\" class=\"dataframe\">\n",
       "  <thead>\n",
       "    <tr style=\"text-align: right;\">\n",
       "      <th></th>\n",
       "      <th>unique_values</th>\n",
       "    </tr>\n",
       "  </thead>\n",
       "  <tbody>\n",
       "    <tr>\n",
       "      <th>index</th>\n",
       "      <td>846</td>\n",
       "    </tr>\n",
       "    <tr>\n",
       "      <th>CA_TTC</th>\n",
       "      <td>823</td>\n",
       "    </tr>\n",
       "    <tr>\n",
       "      <th>temp</th>\n",
       "      <td>710</td>\n",
       "    </tr>\n",
       "    <tr>\n",
       "      <th>feels_like</th>\n",
       "      <td>732</td>\n",
       "    </tr>\n",
       "    <tr>\n",
       "      <th>temp_min</th>\n",
       "      <td>448</td>\n",
       "    </tr>\n",
       "    <tr>\n",
       "      <th>temp_max</th>\n",
       "      <td>495</td>\n",
       "    </tr>\n",
       "    <tr>\n",
       "      <th>wind_speed</th>\n",
       "      <td>43</td>\n",
       "    </tr>\n",
       "    <tr>\n",
       "      <th>clouds_all</th>\n",
       "      <td>7</td>\n",
       "    </tr>\n",
       "  </tbody>\n",
       "</table>\n",
       "</div>"
      ],
      "text/plain": [
       "            unique_values\n",
       "index                 846\n",
       "CA_TTC                823\n",
       "temp                  710\n",
       "feels_like            732\n",
       "temp_min              448\n",
       "temp_max              495\n",
       "wind_speed             43\n",
       "clouds_all              7"
      ]
     },
     "execution_count": 48,
     "metadata": {},
     "output_type": "execute_result"
    }
   ],
   "source": [
    "feat_numerical_nunique_d16 = pd.DataFrame(data_d16.select_dtypes(exclude=['object'],include=['int64','float64']).nunique(), columns = [\"unique_values\"])\n",
    "feat_numerical_nunique_d16"
   ]
  },
  {
   "cell_type": "code",
   "execution_count": 49,
   "metadata": {
    "ExecuteTime": {
     "end_time": "2021-08-25T15:56:36.847217Z",
     "start_time": "2021-08-25T15:56:36.820189Z"
    },
    "colab": {
     "base_uri": "https://localhost:8080/"
    },
    "id": "Ltv8E2kc8ODO",
    "outputId": "974524f3-6da0-4dab-cc6d-8382e1e1776b"
   },
   "outputs": [
    {
     "data": {
      "text/plain": [
       "0.0    1307\n",
       "1.0      16\n",
       "Name: Match Happening-CL, dtype: int64"
      ]
     },
     "execution_count": 49,
     "metadata": {},
     "output_type": "execute_result"
    }
   ],
   "source": [
    "data_d2[\"Match Happening-CL\"].value_counts()"
   ]
  },
  {
   "cell_type": "code",
   "execution_count": 50,
   "metadata": {
    "ExecuteTime": {
     "end_time": "2021-08-25T15:56:36.910838Z",
     "start_time": "2021-08-25T15:56:36.881657Z"
    },
    "colab": {
     "base_uri": "https://localhost:8080/",
     "height": 607
    },
    "id": "QJvPzXpUdbLJ",
    "outputId": "ee48bb96-d7da-4be6-8f9b-20314f9ec6c7"
   },
   "outputs": [
    {
     "data": {
      "text/html": [
       "<div>\n",
       "<style scoped>\n",
       "    .dataframe tbody tr th:only-of-type {\n",
       "        vertical-align: middle;\n",
       "    }\n",
       "\n",
       "    .dataframe tbody tr th {\n",
       "        vertical-align: top;\n",
       "    }\n",
       "\n",
       "    .dataframe thead th {\n",
       "        text-align: right;\n",
       "    }\n",
       "</style>\n",
       "<table border=\"1\" class=\"dataframe\">\n",
       "  <thead>\n",
       "    <tr style=\"text-align: right;\">\n",
       "      <th></th>\n",
       "      <th>unique_values</th>\n",
       "    </tr>\n",
       "  </thead>\n",
       "  <tbody>\n",
       "    <tr>\n",
       "      <th>date</th>\n",
       "      <td>432</td>\n",
       "    </tr>\n",
       "    <tr>\n",
       "      <th>jour</th>\n",
       "      <td>7</td>\n",
       "    </tr>\n",
       "    <tr>\n",
       "      <th>service</th>\n",
       "      <td>2</td>\n",
       "    </tr>\n",
       "    <tr>\n",
       "      <th>weather_main</th>\n",
       "      <td>8</td>\n",
       "    </tr>\n",
       "    <tr>\n",
       "      <th>weather_description</th>\n",
       "      <td>19</td>\n",
       "    </tr>\n",
       "    <tr>\n",
       "      <th>match_edf</th>\n",
       "      <td>2</td>\n",
       "    </tr>\n",
       "    <tr>\n",
       "      <th>roland_garros</th>\n",
       "      <td>2</td>\n",
       "    </tr>\n",
       "    <tr>\n",
       "      <th>fashion_week</th>\n",
       "      <td>2</td>\n",
       "    </tr>\n",
       "    <tr>\n",
       "      <th>Match Happening</th>\n",
       "      <td>2</td>\n",
       "    </tr>\n",
       "    <tr>\n",
       "      <th>Match Happening-CL</th>\n",
       "      <td>2</td>\n",
       "    </tr>\n",
       "    <tr>\n",
       "      <th>Clear</th>\n",
       "      <td>2</td>\n",
       "    </tr>\n",
       "    <tr>\n",
       "      <th>Clouds</th>\n",
       "      <td>5</td>\n",
       "    </tr>\n",
       "    <tr>\n",
       "      <th>Drizzle</th>\n",
       "      <td>4</td>\n",
       "    </tr>\n",
       "    <tr>\n",
       "      <th>Drizzle and Rain</th>\n",
       "      <td>3</td>\n",
       "    </tr>\n",
       "    <tr>\n",
       "      <th>Fog</th>\n",
       "      <td>2</td>\n",
       "    </tr>\n",
       "    <tr>\n",
       "      <th>Mist</th>\n",
       "      <td>2</td>\n",
       "    </tr>\n",
       "    <tr>\n",
       "      <th>Rain</th>\n",
       "      <td>5</td>\n",
       "    </tr>\n",
       "    <tr>\n",
       "      <th>Thunderstorm</th>\n",
       "      <td>3</td>\n",
       "    </tr>\n",
       "  </tbody>\n",
       "</table>\n",
       "</div>"
      ],
      "text/plain": [
       "                     unique_values\n",
       "date                           432\n",
       "jour                             7\n",
       "service                          2\n",
       "weather_main                     8\n",
       "weather_description             19\n",
       "match_edf                        2\n",
       "roland_garros                    2\n",
       "fashion_week                     2\n",
       "Match Happening                  2\n",
       "Match Happening-CL               2\n",
       "Clear                            2\n",
       "Clouds                           5\n",
       "Drizzle                          4\n",
       "Drizzle and Rain                 3\n",
       "Fog                              2\n",
       "Mist                             2\n",
       "Rain                             5\n",
       "Thunderstorm                     3"
      ]
     },
     "execution_count": 50,
     "metadata": {},
     "output_type": "execute_result"
    }
   ],
   "source": [
    "feat_categorical_nunique_d16 = pd.DataFrame(data_d16.select_dtypes(include=['object'],exclude=['int64','float64']).nunique(), columns = [\"unique_values\"])\n",
    "feat_categorical_nunique_d16"
   ]
  },
  {
   "cell_type": "code",
   "execution_count": 51,
   "metadata": {
    "ExecuteTime": {
     "end_time": "2021-08-25T15:56:36.993143Z",
     "start_time": "2021-08-25T15:56:36.967570Z"
    },
    "id": "HzfqbJ0odo6I"
   },
   "outputs": [],
   "source": [
    "#data_d16.select_dtypes(include=['object'],exclude=['int64','float64']).nunique().index.sort_values"
   ]
  },
  {
   "cell_type": "code",
   "execution_count": 52,
   "metadata": {
    "ExecuteTime": {
     "end_time": "2021-08-25T15:56:37.083010Z",
     "start_time": "2021-08-25T15:56:37.058178Z"
    },
    "id": "wP7I2wHfjiUm"
   },
   "outputs": [],
   "source": [
    "#weather_sorted"
   ]
  },
  {
   "cell_type": "code",
   "execution_count": 53,
   "metadata": {
    "ExecuteTime": {
     "end_time": "2021-08-25T15:56:37.168971Z",
     "start_time": "2021-08-25T15:56:37.142486Z"
    },
    "id": "WRUxj0wBmY1v"
   },
   "outputs": [],
   "source": [
    "#data_test_d2.Snow.unique()"
   ]
  },
  {
   "cell_type": "code",
   "execution_count": 54,
   "metadata": {
    "ExecuteTime": {
     "end_time": "2021-08-25T15:56:37.268074Z",
     "start_time": "2021-08-25T15:56:37.233680Z"
    },
    "id": "4vj0ha7ljaxN"
   },
   "outputs": [],
   "source": [
    "run_test=False\n",
    "if run_test==True:\n",
    "  #data_test_d16 = data_d16.copy()\n",
    "  #data_test_d2 = data_d2.copy()\n",
    "\n",
    "  ordinal_features_d2 = ['Clear','Clouds','Drizzle','Drizzle and Rain','Fog','Mist','Rain','Thunderstorm']\n",
    "  ordinal_features_d16 = ['Clear','Clouds','Drizzle','Drizzle and Rain','Fog','Mist','Rain','Thunderstorm']\n",
    "\n",
    "  # 10 weather features\n",
    "  Clear= [0,'sky is clear']\n",
    "  Clouds= [0,'scattered clouds','few clouds','broken clouds','overcast clouds']\n",
    "  Drizzle= [0,'light intensity drizzle','drizzle','heavy intensity drizzle']\n",
    "  Drizzle_and_Rain= [0,'light intensity drizzle rain','rain and drizzle']\n",
    "  Fog= [0,'fog']\n",
    "  Haze= [0,'haze']\n",
    "  Mist= [0,'mist']\n",
    "  Rain= [0,'light rain','light intensity shower rain','moderate rain','heavy intensity rain']\n",
    "  Snow= [0,'light snow']\n",
    "  Thunderstorm= [0,'proximity thunderstorm','thunderstorm','thunderstorm with light rain','thunderstorm with heavy rain']\n",
    "\n",
    "  # Encoder\n",
    "  encoder_d2 = OrdinalEncoder(\n",
    "      categories=[\n",
    "          Clear,\n",
    "          Clouds,\n",
    "          Drizzle,\n",
    "          Drizzle_and_Rain,\n",
    "          Fog,\n",
    "          Mist,\n",
    "          Rain,\n",
    "          Thunderstorm\n",
    "          \n",
    "      ],\n",
    "      handle_unknown=\"use_encoded_value\",\n",
    "      unknown_value=-1\n",
    "  )\n",
    "\n",
    "  # Encoder\n",
    "  encoder_d16 = OrdinalEncoder(\n",
    "      categories=[\n",
    "          Clear,\n",
    "          Clouds,\n",
    "          Drizzle,\n",
    "          Drizzle_and_Rain,\n",
    "          Fog,\n",
    "          Mist,\n",
    "          Rain,\n",
    "          Thunderstorm\n",
    "          \n",
    "      ],\n",
    "      handle_unknown=\"use_encoded_value\",\n",
    "      unknown_value=-1\n",
    "  )"
   ]
  },
  {
   "cell_type": "code",
   "execution_count": 55,
   "metadata": {
    "ExecuteTime": {
     "end_time": "2021-08-25T15:56:37.334768Z",
     "start_time": "2021-08-25T15:56:37.309117Z"
    },
    "id": "CotL_HwNoA_Q"
   },
   "outputs": [],
   "source": [
    "#encoder_d2.fit_transform(data_d2[ordinal_features_d2])"
   ]
  },
  {
   "cell_type": "code",
   "execution_count": 56,
   "metadata": {
    "ExecuteTime": {
     "end_time": "2021-08-25T15:56:37.409796Z",
     "start_time": "2021-08-25T15:56:37.387953Z"
    },
    "id": "rJPKU4bAryDb"
   },
   "outputs": [],
   "source": [
    "#encoder_d16.fit_transform(data_d16[ordinal_features_d16])"
   ]
  },
  {
   "cell_type": "code",
   "execution_count": 57,
   "metadata": {
    "ExecuteTime": {
     "end_time": "2021-08-25T15:56:37.560184Z",
     "start_time": "2021-08-25T15:56:37.513760Z"
    },
    "colab": {
     "base_uri": "https://localhost:8080/",
     "height": 142
    },
    "id": "acho8G2wvJEW",
    "outputId": "413e10f8-b363-4f9e-fda0-82cb6d632ce1"
   },
   "outputs": [
    {
     "data": {
      "text/html": [
       "<style>#sk-76d4a353-ab3b-423b-8739-56f88a81c9cc {color: black;background-color: white;}#sk-76d4a353-ab3b-423b-8739-56f88a81c9cc pre{padding: 0;}#sk-76d4a353-ab3b-423b-8739-56f88a81c9cc div.sk-toggleable {background-color: white;}#sk-76d4a353-ab3b-423b-8739-56f88a81c9cc label.sk-toggleable__label {cursor: pointer;display: block;width: 100%;margin-bottom: 0;padding: 0.2em 0.3em;box-sizing: border-box;text-align: center;}#sk-76d4a353-ab3b-423b-8739-56f88a81c9cc div.sk-toggleable__content {max-height: 0;max-width: 0;overflow: hidden;text-align: left;background-color: #f0f8ff;}#sk-76d4a353-ab3b-423b-8739-56f88a81c9cc div.sk-toggleable__content pre {margin: 0.2em;color: black;border-radius: 0.25em;background-color: #f0f8ff;}#sk-76d4a353-ab3b-423b-8739-56f88a81c9cc input.sk-toggleable__control:checked~div.sk-toggleable__content {max-height: 200px;max-width: 100%;overflow: auto;}#sk-76d4a353-ab3b-423b-8739-56f88a81c9cc div.sk-estimator input.sk-toggleable__control:checked~label.sk-toggleable__label {background-color: #d4ebff;}#sk-76d4a353-ab3b-423b-8739-56f88a81c9cc div.sk-label input.sk-toggleable__control:checked~label.sk-toggleable__label {background-color: #d4ebff;}#sk-76d4a353-ab3b-423b-8739-56f88a81c9cc input.sk-hidden--visually {border: 0;clip: rect(1px 1px 1px 1px);clip: rect(1px, 1px, 1px, 1px);height: 1px;margin: -1px;overflow: hidden;padding: 0;position: absolute;width: 1px;}#sk-76d4a353-ab3b-423b-8739-56f88a81c9cc div.sk-estimator {font-family: monospace;background-color: #f0f8ff;margin: 0.25em 0.25em;border: 1px dotted black;border-radius: 0.25em;box-sizing: border-box;}#sk-76d4a353-ab3b-423b-8739-56f88a81c9cc div.sk-estimator:hover {background-color: #d4ebff;}#sk-76d4a353-ab3b-423b-8739-56f88a81c9cc div.sk-parallel-item::after {content: \"\";width: 100%;border-bottom: 1px solid gray;flex-grow: 1;}#sk-76d4a353-ab3b-423b-8739-56f88a81c9cc div.sk-label:hover label.sk-toggleable__label {background-color: #d4ebff;}#sk-76d4a353-ab3b-423b-8739-56f88a81c9cc div.sk-serial::before {content: \"\";position: absolute;border-left: 1px solid gray;box-sizing: border-box;top: 2em;bottom: 0;left: 50%;}#sk-76d4a353-ab3b-423b-8739-56f88a81c9cc div.sk-serial {display: flex;flex-direction: column;align-items: center;background-color: white;}#sk-76d4a353-ab3b-423b-8739-56f88a81c9cc div.sk-item {z-index: 1;}#sk-76d4a353-ab3b-423b-8739-56f88a81c9cc div.sk-parallel {display: flex;align-items: stretch;justify-content: center;background-color: white;}#sk-76d4a353-ab3b-423b-8739-56f88a81c9cc div.sk-parallel-item {display: flex;flex-direction: column;position: relative;background-color: white;}#sk-76d4a353-ab3b-423b-8739-56f88a81c9cc div.sk-parallel-item:first-child::after {align-self: flex-end;width: 50%;}#sk-76d4a353-ab3b-423b-8739-56f88a81c9cc div.sk-parallel-item:last-child::after {align-self: flex-start;width: 50%;}#sk-76d4a353-ab3b-423b-8739-56f88a81c9cc div.sk-parallel-item:only-child::after {width: 0;}#sk-76d4a353-ab3b-423b-8739-56f88a81c9cc div.sk-dashed-wrapped {border: 1px dashed gray;margin: 0.2em;box-sizing: border-box;padding-bottom: 0.1em;background-color: white;position: relative;}#sk-76d4a353-ab3b-423b-8739-56f88a81c9cc div.sk-label label {font-family: monospace;font-weight: bold;background-color: white;display: inline-block;line-height: 1.2em;}#sk-76d4a353-ab3b-423b-8739-56f88a81c9cc div.sk-label-container {position: relative;z-index: 2;text-align: center;}#sk-76d4a353-ab3b-423b-8739-56f88a81c9cc div.sk-container {display: inline-block;position: relative;}</style><div id=\"sk-76d4a353-ab3b-423b-8739-56f88a81c9cc\" class\"sk-top-container\"><div class=\"sk-container\"><div class=\"sk-item sk-dashed-wrapped\"><div class=\"sk-label-container\"><div class=\"sk-label sk-toggleable\"><input class=\"sk-toggleable__control sk-hidden--visually\" id=\"b96a6aef-e844-4c07-8240-4f248f98926a\" type=\"checkbox\" ><label class=\"sk-toggleable__label\" for=\"b96a6aef-e844-4c07-8240-4f248f98926a\">Pipeline</label><div class=\"sk-toggleable__content\"><pre>Pipeline(steps=[('simpleimputer',\n",
       "                 SimpleImputer(fill_value='missing', strategy='constant')),\n",
       "                ('ordinalencoder',\n",
       "                 OrdinalEncoder(categories=[[0, 'sky is clear'],\n",
       "                                            [0, 'scattered clouds',\n",
       "                                             'few clouds', 'broken clouds',\n",
       "                                             'overcast clouds'],\n",
       "                                            [0, 'light intensity drizzle',\n",
       "                                             'drizzle',\n",
       "                                             'heavy intensity drizzle'],\n",
       "                                            [0, 'light intensity drizzle rain',\n",
       "                                             'rain and drizzle'],\n",
       "                                            [0, 'fog'], [0, 'mist'],\n",
       "                                            [0, 'light rain',\n",
       "                                             'light intensity shower rain',\n",
       "                                             'moderate rain',\n",
       "                                             'heavy intensity rain'],\n",
       "                                            [0, 'proximity thunderstorm',\n",
       "                                             'thunderstorm',\n",
       "                                             'thunderstorm with light rain',\n",
       "                                             'thunderstorm with heavy rain']],\n",
       "                                dtype=<class 'numpy.int64'>,\n",
       "                                handle_unknown='use_encoded_value',\n",
       "                                unknown_value=-1)),\n",
       "                ('robustscaler', RobustScaler())])</pre></div></div></div><div class=\"sk-serial\"><div class=\"sk-item\"><div class=\"sk-estimator sk-toggleable\"><input class=\"sk-toggleable__control sk-hidden--visually\" id=\"590ab388-8b85-4bf0-9781-0fccd30a41e2\" type=\"checkbox\" ><label class=\"sk-toggleable__label\" for=\"590ab388-8b85-4bf0-9781-0fccd30a41e2\">SimpleImputer</label><div class=\"sk-toggleable__content\"><pre>SimpleImputer(fill_value='missing', strategy='constant')</pre></div></div></div><div class=\"sk-item\"><div class=\"sk-estimator sk-toggleable\"><input class=\"sk-toggleable__control sk-hidden--visually\" id=\"d8f66590-e9c4-48be-b6aa-6aafb6462e49\" type=\"checkbox\" ><label class=\"sk-toggleable__label\" for=\"d8f66590-e9c4-48be-b6aa-6aafb6462e49\">OrdinalEncoder</label><div class=\"sk-toggleable__content\"><pre>OrdinalEncoder(categories=[[0, 'sky is clear'],\n",
       "                           [0, 'scattered clouds', 'few clouds',\n",
       "                            'broken clouds', 'overcast clouds'],\n",
       "                           [0, 'light intensity drizzle', 'drizzle',\n",
       "                            'heavy intensity drizzle'],\n",
       "                           [0, 'light intensity drizzle rain',\n",
       "                            'rain and drizzle'],\n",
       "                           [0, 'fog'], [0, 'mist'],\n",
       "                           [0, 'light rain', 'light intensity shower rain',\n",
       "                            'moderate rain', 'heavy intensity rain'],\n",
       "                           [0, 'proximity thunderstorm', 'thunderstorm',\n",
       "                            'thunderstorm with light rain',\n",
       "                            'thunderstorm with heavy rain']],\n",
       "               dtype=<class 'numpy.int64'>, handle_unknown='use_encoded_value',\n",
       "               unknown_value=-1)</pre></div></div></div><div class=\"sk-item\"><div class=\"sk-estimator sk-toggleable\"><input class=\"sk-toggleable__control sk-hidden--visually\" id=\"de6cd19e-789f-4bec-9e0b-aeaea824190c\" type=\"checkbox\" ><label class=\"sk-toggleable__label\" for=\"de6cd19e-789f-4bec-9e0b-aeaea824190c\">RobustScaler</label><div class=\"sk-toggleable__content\"><pre>RobustScaler()</pre></div></div></div></div></div></div></div>"
      ],
      "text/plain": [
       "Pipeline(steps=[('simpleimputer',\n",
       "                 SimpleImputer(fill_value='missing', strategy='constant')),\n",
       "                ('ordinalencoder',\n",
       "                 OrdinalEncoder(categories=[[0, 'sky is clear'],\n",
       "                                            [0, 'scattered clouds',\n",
       "                                             'few clouds', 'broken clouds',\n",
       "                                             'overcast clouds'],\n",
       "                                            [0, 'light intensity drizzle',\n",
       "                                             'drizzle',\n",
       "                                             'heavy intensity drizzle'],\n",
       "                                            [0, 'light intensity drizzle rain',\n",
       "                                             'rain and drizzle'],\n",
       "                                            [0, 'fog'], [0, 'mist'],\n",
       "                                            [0, 'light rain',\n",
       "                                             'light intensity shower rain',\n",
       "                                             'moderate rain',\n",
       "                                             'heavy intensity rain'],\n",
       "                                            [0, 'proximity thunderstorm',\n",
       "                                             'thunderstorm',\n",
       "                                             'thunderstorm with light rain',\n",
       "                                             'thunderstorm with heavy rain']],\n",
       "                                dtype=<class 'numpy.int64'>,\n",
       "                                handle_unknown='use_encoded_value',\n",
       "                                unknown_value=-1)),\n",
       "                ('robustscaler', RobustScaler())])"
      ]
     },
     "execution_count": 57,
     "metadata": {},
     "output_type": "execute_result"
    }
   ],
   "source": [
    "feat_ordinal_d16_dict = {\n",
    "    'Clear': [0,'sky is clear'],\n",
    "    'Clouds': [0,'scattered clouds','few clouds','broken clouds','overcast clouds'],\n",
    "    'Drizzle': [0,'light intensity drizzle','drizzle','heavy intensity drizzle'],\n",
    "    'Drizzle_and_Rain': [0,'light intensity drizzle rain','rain and drizzle'],\n",
    "    'Fog': [0,'fog'],\n",
    "    #'Haze': [0,'haze'],\n",
    "    'Mist': [0,'mist'],\n",
    "    'Rain': [0,'light rain','light intensity shower rain','moderate rain','heavy intensity rain'],\n",
    "    #'Snow': [0,'light snow'],\n",
    "    'Thunderstorm': [0,'proximity thunderstorm','thunderstorm','thunderstorm with light rain','thunderstorm with heavy rain']\n",
    "}\n",
    "\n",
    "feat_ordinal_d16 = sorted(feat_ordinal_d16_dict.keys()) # sort alphabetically\n",
    "feat_ordinal_d16_values_sorted = [feat_ordinal_d16_dict[i] for i in feat_ordinal_d16]\n",
    "\n",
    "encoder_ordinal_d16 = OrdinalEncoder(\n",
    "    categories=feat_ordinal_d16_values_sorted,\n",
    "    dtype= np.int64,\n",
    "    handle_unknown=\"use_encoded_value\",\n",
    "    unknown_value=-1 # Considers unknown values as worse than \"missing\"\n",
    ")\n",
    "\n",
    "preproc_ordinal_d16 = make_pipeline(\n",
    "    SimpleImputer(strategy=\"constant\", fill_value=\"missing\"),\n",
    "    encoder_ordinal_d16,\n",
    "    RobustScaler()\n",
    ")\n",
    "\n",
    "preproc_ordinal_d16"
   ]
  },
  {
   "cell_type": "code",
   "execution_count": 58,
   "metadata": {
    "ExecuteTime": {
     "end_time": "2021-08-25T15:56:37.622661Z",
     "start_time": "2021-08-25T15:56:37.578133Z"
    },
    "colab": {
     "base_uri": "https://localhost:8080/",
     "height": 142
    },
    "id": "TWLPiXSozFpE",
    "outputId": "810436de-df37-40a5-b292-1fab297a3757"
   },
   "outputs": [
    {
     "data": {
      "text/html": [
       "<style>#sk-9165eedd-d095-4e18-bee9-28e2db206120 {color: black;background-color: white;}#sk-9165eedd-d095-4e18-bee9-28e2db206120 pre{padding: 0;}#sk-9165eedd-d095-4e18-bee9-28e2db206120 div.sk-toggleable {background-color: white;}#sk-9165eedd-d095-4e18-bee9-28e2db206120 label.sk-toggleable__label {cursor: pointer;display: block;width: 100%;margin-bottom: 0;padding: 0.2em 0.3em;box-sizing: border-box;text-align: center;}#sk-9165eedd-d095-4e18-bee9-28e2db206120 div.sk-toggleable__content {max-height: 0;max-width: 0;overflow: hidden;text-align: left;background-color: #f0f8ff;}#sk-9165eedd-d095-4e18-bee9-28e2db206120 div.sk-toggleable__content pre {margin: 0.2em;color: black;border-radius: 0.25em;background-color: #f0f8ff;}#sk-9165eedd-d095-4e18-bee9-28e2db206120 input.sk-toggleable__control:checked~div.sk-toggleable__content {max-height: 200px;max-width: 100%;overflow: auto;}#sk-9165eedd-d095-4e18-bee9-28e2db206120 div.sk-estimator input.sk-toggleable__control:checked~label.sk-toggleable__label {background-color: #d4ebff;}#sk-9165eedd-d095-4e18-bee9-28e2db206120 div.sk-label input.sk-toggleable__control:checked~label.sk-toggleable__label {background-color: #d4ebff;}#sk-9165eedd-d095-4e18-bee9-28e2db206120 input.sk-hidden--visually {border: 0;clip: rect(1px 1px 1px 1px);clip: rect(1px, 1px, 1px, 1px);height: 1px;margin: -1px;overflow: hidden;padding: 0;position: absolute;width: 1px;}#sk-9165eedd-d095-4e18-bee9-28e2db206120 div.sk-estimator {font-family: monospace;background-color: #f0f8ff;margin: 0.25em 0.25em;border: 1px dotted black;border-radius: 0.25em;box-sizing: border-box;}#sk-9165eedd-d095-4e18-bee9-28e2db206120 div.sk-estimator:hover {background-color: #d4ebff;}#sk-9165eedd-d095-4e18-bee9-28e2db206120 div.sk-parallel-item::after {content: \"\";width: 100%;border-bottom: 1px solid gray;flex-grow: 1;}#sk-9165eedd-d095-4e18-bee9-28e2db206120 div.sk-label:hover label.sk-toggleable__label {background-color: #d4ebff;}#sk-9165eedd-d095-4e18-bee9-28e2db206120 div.sk-serial::before {content: \"\";position: absolute;border-left: 1px solid gray;box-sizing: border-box;top: 2em;bottom: 0;left: 50%;}#sk-9165eedd-d095-4e18-bee9-28e2db206120 div.sk-serial {display: flex;flex-direction: column;align-items: center;background-color: white;}#sk-9165eedd-d095-4e18-bee9-28e2db206120 div.sk-item {z-index: 1;}#sk-9165eedd-d095-4e18-bee9-28e2db206120 div.sk-parallel {display: flex;align-items: stretch;justify-content: center;background-color: white;}#sk-9165eedd-d095-4e18-bee9-28e2db206120 div.sk-parallel-item {display: flex;flex-direction: column;position: relative;background-color: white;}#sk-9165eedd-d095-4e18-bee9-28e2db206120 div.sk-parallel-item:first-child::after {align-self: flex-end;width: 50%;}#sk-9165eedd-d095-4e18-bee9-28e2db206120 div.sk-parallel-item:last-child::after {align-self: flex-start;width: 50%;}#sk-9165eedd-d095-4e18-bee9-28e2db206120 div.sk-parallel-item:only-child::after {width: 0;}#sk-9165eedd-d095-4e18-bee9-28e2db206120 div.sk-dashed-wrapped {border: 1px dashed gray;margin: 0.2em;box-sizing: border-box;padding-bottom: 0.1em;background-color: white;position: relative;}#sk-9165eedd-d095-4e18-bee9-28e2db206120 div.sk-label label {font-family: monospace;font-weight: bold;background-color: white;display: inline-block;line-height: 1.2em;}#sk-9165eedd-d095-4e18-bee9-28e2db206120 div.sk-label-container {position: relative;z-index: 2;text-align: center;}#sk-9165eedd-d095-4e18-bee9-28e2db206120 div.sk-container {display: inline-block;position: relative;}</style><div id=\"sk-9165eedd-d095-4e18-bee9-28e2db206120\" class\"sk-top-container\"><div class=\"sk-container\"><div class=\"sk-item sk-dashed-wrapped\"><div class=\"sk-label-container\"><div class=\"sk-label sk-toggleable\"><input class=\"sk-toggleable__control sk-hidden--visually\" id=\"1105d725-a515-44b5-bbde-69d58d2da070\" type=\"checkbox\" ><label class=\"sk-toggleable__label\" for=\"1105d725-a515-44b5-bbde-69d58d2da070\">Pipeline</label><div class=\"sk-toggleable__content\"><pre>Pipeline(steps=[('simpleimputer',\n",
       "                 SimpleImputer(fill_value='missing', strategy='constant')),\n",
       "                ('ordinalencoder',\n",
       "                 OrdinalEncoder(categories=[[0, 'sky is clear'],\n",
       "                                            [0, 'scattered clouds',\n",
       "                                             'few clouds', 'broken clouds',\n",
       "                                             'overcast clouds'],\n",
       "                                            [0, 'light intensity drizzle',\n",
       "                                             'drizzle',\n",
       "                                             'heavy intensity drizzle'],\n",
       "                                            [0, 'light intensity drizzle rain',\n",
       "                                             'rain and drizzle'],\n",
       "                                            [0, 'fog'], [0, 'mist'],\n",
       "                                            [0, 'light rain',\n",
       "                                             'light intensity shower rain',\n",
       "                                             'moderate rain',\n",
       "                                             'heavy intensity rain'],\n",
       "                                            [0, 'proximity thunderstorm',\n",
       "                                             'thunderstorm',\n",
       "                                             'thunderstorm with light rain',\n",
       "                                             'thunderstorm with heavy rain']],\n",
       "                                dtype=<class 'numpy.int64'>,\n",
       "                                handle_unknown='use_encoded_value',\n",
       "                                unknown_value=-1)),\n",
       "                ('robustscaler', RobustScaler())])</pre></div></div></div><div class=\"sk-serial\"><div class=\"sk-item\"><div class=\"sk-estimator sk-toggleable\"><input class=\"sk-toggleable__control sk-hidden--visually\" id=\"5ab1f8b7-90c3-4260-9aac-0653982736e9\" type=\"checkbox\" ><label class=\"sk-toggleable__label\" for=\"5ab1f8b7-90c3-4260-9aac-0653982736e9\">SimpleImputer</label><div class=\"sk-toggleable__content\"><pre>SimpleImputer(fill_value='missing', strategy='constant')</pre></div></div></div><div class=\"sk-item\"><div class=\"sk-estimator sk-toggleable\"><input class=\"sk-toggleable__control sk-hidden--visually\" id=\"e4ca68cd-7ef9-41ca-a467-21265aff0e95\" type=\"checkbox\" ><label class=\"sk-toggleable__label\" for=\"e4ca68cd-7ef9-41ca-a467-21265aff0e95\">OrdinalEncoder</label><div class=\"sk-toggleable__content\"><pre>OrdinalEncoder(categories=[[0, 'sky is clear'],\n",
       "                           [0, 'scattered clouds', 'few clouds',\n",
       "                            'broken clouds', 'overcast clouds'],\n",
       "                           [0, 'light intensity drizzle', 'drizzle',\n",
       "                            'heavy intensity drizzle'],\n",
       "                           [0, 'light intensity drizzle rain',\n",
       "                            'rain and drizzle'],\n",
       "                           [0, 'fog'], [0, 'mist'],\n",
       "                           [0, 'light rain', 'light intensity shower rain',\n",
       "                            'moderate rain', 'heavy intensity rain'],\n",
       "                           [0, 'proximity thunderstorm', 'thunderstorm',\n",
       "                            'thunderstorm with light rain',\n",
       "                            'thunderstorm with heavy rain']],\n",
       "               dtype=<class 'numpy.int64'>, handle_unknown='use_encoded_value',\n",
       "               unknown_value=-1)</pre></div></div></div><div class=\"sk-item\"><div class=\"sk-estimator sk-toggleable\"><input class=\"sk-toggleable__control sk-hidden--visually\" id=\"96f52b99-fe2b-43ff-acfd-4bbe1a7782d5\" type=\"checkbox\" ><label class=\"sk-toggleable__label\" for=\"96f52b99-fe2b-43ff-acfd-4bbe1a7782d5\">RobustScaler</label><div class=\"sk-toggleable__content\"><pre>RobustScaler()</pre></div></div></div></div></div></div></div>"
      ],
      "text/plain": [
       "Pipeline(steps=[('simpleimputer',\n",
       "                 SimpleImputer(fill_value='missing', strategy='constant')),\n",
       "                ('ordinalencoder',\n",
       "                 OrdinalEncoder(categories=[[0, 'sky is clear'],\n",
       "                                            [0, 'scattered clouds',\n",
       "                                             'few clouds', 'broken clouds',\n",
       "                                             'overcast clouds'],\n",
       "                                            [0, 'light intensity drizzle',\n",
       "                                             'drizzle',\n",
       "                                             'heavy intensity drizzle'],\n",
       "                                            [0, 'light intensity drizzle rain',\n",
       "                                             'rain and drizzle'],\n",
       "                                            [0, 'fog'], [0, 'mist'],\n",
       "                                            [0, 'light rain',\n",
       "                                             'light intensity shower rain',\n",
       "                                             'moderate rain',\n",
       "                                             'heavy intensity rain'],\n",
       "                                            [0, 'proximity thunderstorm',\n",
       "                                             'thunderstorm',\n",
       "                                             'thunderstorm with light rain',\n",
       "                                             'thunderstorm with heavy rain']],\n",
       "                                dtype=<class 'numpy.int64'>,\n",
       "                                handle_unknown='use_encoded_value',\n",
       "                                unknown_value=-1)),\n",
       "                ('robustscaler', RobustScaler())])"
      ]
     },
     "execution_count": 58,
     "metadata": {},
     "output_type": "execute_result"
    }
   ],
   "source": [
    "feat_ordinal_dict = {\n",
    "    'Clear': [0,'sky is clear'],\n",
    "    'Clouds': [0,'scattered clouds','few clouds','broken clouds','overcast clouds'],\n",
    "    'Drizzle': [0,'light intensity drizzle','drizzle','heavy intensity drizzle'],\n",
    "    'Drizzle_and_Rain': [0,'light intensity drizzle rain','rain and drizzle'],\n",
    "    'Fog': [0,'fog'],\n",
    "    'Mist': [0,'mist'],\n",
    "    'Rain': [0,'light rain','light intensity shower rain','moderate rain','heavy intensity rain'],\n",
    "    'Thunderstorm': [0,'proximity thunderstorm','thunderstorm','thunderstorm with light rain','thunderstorm with heavy rain']\n",
    "}\n",
    "\n",
    "feat_ordinal = sorted(feat_ordinal_dict.keys()) # sort alphabetically\n",
    "feat_ordinal_values_sorted = [feat_ordinal_dict[i] for i in feat_ordinal]\n",
    "\n",
    "encoder_ordinal = OrdinalEncoder(\n",
    "    categories=feat_ordinal_values_sorted,\n",
    "    dtype= np.int64,\n",
    "    handle_unknown=\"use_encoded_value\",\n",
    "    unknown_value=-1 # Considers unknown values as worse than \"missing\"\n",
    ")\n",
    "\n",
    "preproc_ordinal = make_pipeline(\n",
    "    SimpleImputer(strategy=\"constant\", fill_value=\"missing\"),\n",
    "    encoder_ordinal,\n",
    "    RobustScaler()\n",
    ")\n",
    "\n",
    "preproc_ordinal"
   ]
  },
  {
   "cell_type": "code",
   "execution_count": 59,
   "metadata": {
    "ExecuteTime": {
     "end_time": "2021-08-25T15:56:37.656843Z",
     "start_time": "2021-08-25T15:56:37.633001Z"
    },
    "colab": {
     "base_uri": "https://localhost:8080/",
     "height": 266
    },
    "id": "f9V-cbVQWUX0",
    "outputId": "2e3773f1-d698-4ac8-dcdf-b36f0659e69f"
   },
   "outputs": [
    {
     "data": {
      "text/html": [
       "<div>\n",
       "<style scoped>\n",
       "    .dataframe tbody tr th:only-of-type {\n",
       "        vertical-align: middle;\n",
       "    }\n",
       "\n",
       "    .dataframe tbody tr th {\n",
       "        vertical-align: top;\n",
       "    }\n",
       "\n",
       "    .dataframe thead th {\n",
       "        text-align: right;\n",
       "    }\n",
       "</style>\n",
       "<table border=\"1\" class=\"dataframe\">\n",
       "  <thead>\n",
       "    <tr style=\"text-align: right;\">\n",
       "      <th></th>\n",
       "      <th>unique_values</th>\n",
       "    </tr>\n",
       "  </thead>\n",
       "  <tbody>\n",
       "    <tr>\n",
       "      <th>index</th>\n",
       "      <td>846</td>\n",
       "    </tr>\n",
       "    <tr>\n",
       "      <th>CA_TTC</th>\n",
       "      <td>823</td>\n",
       "    </tr>\n",
       "    <tr>\n",
       "      <th>temp</th>\n",
       "      <td>710</td>\n",
       "    </tr>\n",
       "    <tr>\n",
       "      <th>feels_like</th>\n",
       "      <td>732</td>\n",
       "    </tr>\n",
       "    <tr>\n",
       "      <th>temp_min</th>\n",
       "      <td>448</td>\n",
       "    </tr>\n",
       "    <tr>\n",
       "      <th>temp_max</th>\n",
       "      <td>495</td>\n",
       "    </tr>\n",
       "    <tr>\n",
       "      <th>wind_speed</th>\n",
       "      <td>43</td>\n",
       "    </tr>\n",
       "    <tr>\n",
       "      <th>clouds_all</th>\n",
       "      <td>7</td>\n",
       "    </tr>\n",
       "  </tbody>\n",
       "</table>\n",
       "</div>"
      ],
      "text/plain": [
       "            unique_values\n",
       "index                 846\n",
       "CA_TTC                823\n",
       "temp                  710\n",
       "feels_like            732\n",
       "temp_min              448\n",
       "temp_max              495\n",
       "wind_speed             43\n",
       "clouds_all              7"
      ]
     },
     "execution_count": 59,
     "metadata": {},
     "output_type": "execute_result"
    }
   ],
   "source": [
    "feat_numerical_nunique_d16"
   ]
  },
  {
   "cell_type": "code",
   "execution_count": 60,
   "metadata": {
    "ExecuteTime": {
     "end_time": "2021-08-25T15:56:37.782302Z",
     "start_time": "2021-08-25T15:56:37.732839Z"
    },
    "colab": {
     "base_uri": "https://localhost:8080/"
    },
    "id": "s5vwdw1EWt1F",
    "outputId": "9a6630ae-3893-486c-8983-5ae26bde83c9"
   },
   "outputs": [
    {
     "name": "stdout",
     "output_type": "stream",
     "text": [
      "['date', 'jour', 'service', 'weather_main', 'weather_description', 'match_edf', 'roland_garros', 'fashion_week', 'Match Happening', 'Match Happening-CL', 'Clear', 'Clouds', 'Drizzle', 'Drizzle and Rain', 'Fog', 'Mist', 'Rain', 'Thunderstorm']\n",
      "['index', 'CA_TTC', 'temp', 'feels_like', 'temp_min', 'temp_max', 'wind_speed', 'clouds_all']\n"
     ]
    }
   ],
   "source": [
    "print(list(pd.DataFrame(data_d16.select_dtypes(include=['object'],exclude=['int64','float64']).nunique(), columns = [\"unique_values\"]).index))\n",
    "print(list(pd.DataFrame(data_d16.select_dtypes(exclude=['object'],include=['int64','float64']).nunique(), columns = [\"unique_values\"]).index))"
   ]
  },
  {
   "cell_type": "code",
   "execution_count": 61,
   "metadata": {
    "ExecuteTime": {
     "end_time": "2021-08-25T15:56:37.830897Z",
     "start_time": "2021-08-25T15:56:37.806834Z"
    },
    "colab": {
     "base_uri": "https://localhost:8080/"
    },
    "id": "9SHCnXjnr4NI",
    "outputId": "664974de-1513-460d-fe82-3a3af7aa9915"
   },
   "outputs": [
    {
     "data": {
      "text/plain": [
       "2019-08-27    2\n",
       "2020-07-15    2\n",
       "2020-08-25    2\n",
       "2020-08-07    2\n",
       "2020-08-06    2\n",
       "             ..\n",
       "2020-06-12    1\n",
       "2019-11-25    1\n",
       "2021-06-02    1\n",
       "2020-08-24    1\n",
       "2020-05-15    1\n",
       "Name: date, Length: 432, dtype: int64"
      ]
     },
     "execution_count": 61,
     "metadata": {},
     "output_type": "execute_result"
    }
   ],
   "source": [
    "data_d16.date.value_counts()"
   ]
  },
  {
   "cell_type": "code",
   "execution_count": 62,
   "metadata": {
    "ExecuteTime": {
     "end_time": "2021-08-25T15:56:37.916549Z",
     "start_time": "2021-08-25T15:56:37.890908Z"
    },
    "id": "Nrv8lvRMX_tG"
   },
   "outputs": [],
   "source": [
    "categorical_features = ['date','jour', 'service', 'weather_main', 'weather_description', 'Match Happening', 'Match Happening-CL', 'match_edf', 'roland_garros', 'fashion_week']\n",
    "numerical_features = ['temp', 'feels_like', 'temp_min', 'temp_max', 'wind_speed', 'clouds_all']\n",
    "ordinal_features =['Clear', 'Clouds', 'Drizzle', 'Drizzle and Rain', 'Fog', 'Mist', 'Rain', 'Thunderstorm']"
   ]
  },
  {
   "cell_type": "code",
   "execution_count": 63,
   "metadata": {
    "ExecuteTime": {
     "end_time": "2021-08-25T15:56:37.997633Z",
     "start_time": "2021-08-25T15:56:37.974047Z"
    },
    "id": "b8c8_PBSWDg3"
   },
   "outputs": [],
   "source": [
    "preproc_numerical = make_pipeline(\n",
    "    KNNImputer(),\n",
    "    RobustScaler())\n",
    "\n",
    "preproc_categorical = make_pipeline(\n",
    "    SimpleImputer(strategy=\"constant\", fill_value=\"missing\"),\n",
    "    OneHotEncoder(handle_unknown=\"ignore\"))\n",
    "\n",
    "preproc = make_column_transformer(\n",
    "    (preproc_numerical, numerical_features),\n",
    "    (preproc_categorical, categorical_features),\n",
    "    (preproc_ordinal, ordinal_features),\n",
    "    remainder =\"drop\")"
   ]
  },
  {
   "cell_type": "code",
   "execution_count": 64,
   "metadata": {
    "ExecuteTime": {
     "end_time": "2021-08-25T15:56:38.137405Z",
     "start_time": "2021-08-25T15:56:38.054094Z"
    },
    "colab": {
     "base_uri": "https://localhost:8080/",
     "height": 165
    },
    "id": "0eXjGfI7akRE",
    "outputId": "7f47f066-ab98-4807-bad9-510413a0d4a1"
   },
   "outputs": [
    {
     "data": {
      "text/html": [
       "<style>#sk-15697ba9-bb50-45d7-8534-e4074da6d281 {color: black;background-color: white;}#sk-15697ba9-bb50-45d7-8534-e4074da6d281 pre{padding: 0;}#sk-15697ba9-bb50-45d7-8534-e4074da6d281 div.sk-toggleable {background-color: white;}#sk-15697ba9-bb50-45d7-8534-e4074da6d281 label.sk-toggleable__label {cursor: pointer;display: block;width: 100%;margin-bottom: 0;padding: 0.2em 0.3em;box-sizing: border-box;text-align: center;}#sk-15697ba9-bb50-45d7-8534-e4074da6d281 div.sk-toggleable__content {max-height: 0;max-width: 0;overflow: hidden;text-align: left;background-color: #f0f8ff;}#sk-15697ba9-bb50-45d7-8534-e4074da6d281 div.sk-toggleable__content pre {margin: 0.2em;color: black;border-radius: 0.25em;background-color: #f0f8ff;}#sk-15697ba9-bb50-45d7-8534-e4074da6d281 input.sk-toggleable__control:checked~div.sk-toggleable__content {max-height: 200px;max-width: 100%;overflow: auto;}#sk-15697ba9-bb50-45d7-8534-e4074da6d281 div.sk-estimator input.sk-toggleable__control:checked~label.sk-toggleable__label {background-color: #d4ebff;}#sk-15697ba9-bb50-45d7-8534-e4074da6d281 div.sk-label input.sk-toggleable__control:checked~label.sk-toggleable__label {background-color: #d4ebff;}#sk-15697ba9-bb50-45d7-8534-e4074da6d281 input.sk-hidden--visually {border: 0;clip: rect(1px 1px 1px 1px);clip: rect(1px, 1px, 1px, 1px);height: 1px;margin: -1px;overflow: hidden;padding: 0;position: absolute;width: 1px;}#sk-15697ba9-bb50-45d7-8534-e4074da6d281 div.sk-estimator {font-family: monospace;background-color: #f0f8ff;margin: 0.25em 0.25em;border: 1px dotted black;border-radius: 0.25em;box-sizing: border-box;}#sk-15697ba9-bb50-45d7-8534-e4074da6d281 div.sk-estimator:hover {background-color: #d4ebff;}#sk-15697ba9-bb50-45d7-8534-e4074da6d281 div.sk-parallel-item::after {content: \"\";width: 100%;border-bottom: 1px solid gray;flex-grow: 1;}#sk-15697ba9-bb50-45d7-8534-e4074da6d281 div.sk-label:hover label.sk-toggleable__label {background-color: #d4ebff;}#sk-15697ba9-bb50-45d7-8534-e4074da6d281 div.sk-serial::before {content: \"\";position: absolute;border-left: 1px solid gray;box-sizing: border-box;top: 2em;bottom: 0;left: 50%;}#sk-15697ba9-bb50-45d7-8534-e4074da6d281 div.sk-serial {display: flex;flex-direction: column;align-items: center;background-color: white;}#sk-15697ba9-bb50-45d7-8534-e4074da6d281 div.sk-item {z-index: 1;}#sk-15697ba9-bb50-45d7-8534-e4074da6d281 div.sk-parallel {display: flex;align-items: stretch;justify-content: center;background-color: white;}#sk-15697ba9-bb50-45d7-8534-e4074da6d281 div.sk-parallel-item {display: flex;flex-direction: column;position: relative;background-color: white;}#sk-15697ba9-bb50-45d7-8534-e4074da6d281 div.sk-parallel-item:first-child::after {align-self: flex-end;width: 50%;}#sk-15697ba9-bb50-45d7-8534-e4074da6d281 div.sk-parallel-item:last-child::after {align-self: flex-start;width: 50%;}#sk-15697ba9-bb50-45d7-8534-e4074da6d281 div.sk-parallel-item:only-child::after {width: 0;}#sk-15697ba9-bb50-45d7-8534-e4074da6d281 div.sk-dashed-wrapped {border: 1px dashed gray;margin: 0.2em;box-sizing: border-box;padding-bottom: 0.1em;background-color: white;position: relative;}#sk-15697ba9-bb50-45d7-8534-e4074da6d281 div.sk-label label {font-family: monospace;font-weight: bold;background-color: white;display: inline-block;line-height: 1.2em;}#sk-15697ba9-bb50-45d7-8534-e4074da6d281 div.sk-label-container {position: relative;z-index: 2;text-align: center;}#sk-15697ba9-bb50-45d7-8534-e4074da6d281 div.sk-container {display: inline-block;position: relative;}</style><div id=\"sk-15697ba9-bb50-45d7-8534-e4074da6d281\" class\"sk-top-container\"><div class=\"sk-container\"><div class=\"sk-item sk-dashed-wrapped\"><div class=\"sk-label-container\"><div class=\"sk-label sk-toggleable\"><input class=\"sk-toggleable__control sk-hidden--visually\" id=\"788904c4-e36d-4cfa-a7b8-b764df6614de\" type=\"checkbox\" ><label class=\"sk-toggleable__label\" for=\"788904c4-e36d-4cfa-a7b8-b764df6614de\">ColumnTransformer</label><div class=\"sk-toggleable__content\"><pre>ColumnTransformer(transformers=[('pipeline-1',\n",
       "                                 Pipeline(steps=[('knnimputer', KNNImputer()),\n",
       "                                                 ('robustscaler',\n",
       "                                                  RobustScaler())]),\n",
       "                                 ['temp', 'feels_like', 'temp_min', 'temp_max',\n",
       "                                  'wind_speed', 'clouds_all']),\n",
       "                                ('pipeline-2',\n",
       "                                 Pipeline(steps=[('simpleimputer',\n",
       "                                                  SimpleImputer(fill_value='missing',\n",
       "                                                                strategy='constant')),\n",
       "                                                 ('onehotencoder',\n",
       "                                                  OneHotEncoder(handle_unknown='igno...\n",
       "                                                                              'moderate '\n",
       "                                                                              'rain',\n",
       "                                                                              'heavy '\n",
       "                                                                              'intensity '\n",
       "                                                                              'rain'],\n",
       "                                                                             [0,\n",
       "                                                                              'proximity '\n",
       "                                                                              'thunderstorm',\n",
       "                                                                              'thunderstorm',\n",
       "                                                                              'thunderstorm '\n",
       "                                                                              'with '\n",
       "                                                                              'light '\n",
       "                                                                              'rain',\n",
       "                                                                              'thunderstorm '\n",
       "                                                                              'with '\n",
       "                                                                              'heavy '\n",
       "                                                                              'rain']],\n",
       "                                                                 dtype=<class 'numpy.int64'>,\n",
       "                                                                 handle_unknown='use_encoded_value',\n",
       "                                                                 unknown_value=-1)),\n",
       "                                                 ('robustscaler',\n",
       "                                                  RobustScaler())]),\n",
       "                                 ['Clear', 'Clouds', 'Drizzle',\n",
       "                                  'Drizzle and Rain', 'Fog', 'Mist', 'Rain',\n",
       "                                  'Thunderstorm'])])</pre></div></div></div><div class=\"sk-parallel\"><div class=\"sk-parallel-item\"><div class=\"sk-item\"><div class=\"sk-label-container\"><div class=\"sk-label sk-toggleable\"><input class=\"sk-toggleable__control sk-hidden--visually\" id=\"c1af78ea-e461-4631-a49c-cd5c6d85ae42\" type=\"checkbox\" ><label class=\"sk-toggleable__label\" for=\"c1af78ea-e461-4631-a49c-cd5c6d85ae42\">pipeline-1</label><div class=\"sk-toggleable__content\"><pre>['temp', 'feels_like', 'temp_min', 'temp_max', 'wind_speed', 'clouds_all']</pre></div></div></div><div class=\"sk-serial\"><div class=\"sk-item\"><div class=\"sk-serial\"><div class=\"sk-item\"><div class=\"sk-estimator sk-toggleable\"><input class=\"sk-toggleable__control sk-hidden--visually\" id=\"e83e7325-140a-4c67-884d-14bbddeb048b\" type=\"checkbox\" ><label class=\"sk-toggleable__label\" for=\"e83e7325-140a-4c67-884d-14bbddeb048b\">KNNImputer</label><div class=\"sk-toggleable__content\"><pre>KNNImputer()</pre></div></div></div><div class=\"sk-item\"><div class=\"sk-estimator sk-toggleable\"><input class=\"sk-toggleable__control sk-hidden--visually\" id=\"87bb4acb-44f6-4093-96be-1eaa4d9b118d\" type=\"checkbox\" ><label class=\"sk-toggleable__label\" for=\"87bb4acb-44f6-4093-96be-1eaa4d9b118d\">RobustScaler</label><div class=\"sk-toggleable__content\"><pre>RobustScaler()</pre></div></div></div></div></div></div></div></div><div class=\"sk-parallel-item\"><div class=\"sk-item\"><div class=\"sk-label-container\"><div class=\"sk-label sk-toggleable\"><input class=\"sk-toggleable__control sk-hidden--visually\" id=\"93e76da9-fd9f-47d5-9a0a-414461f93639\" type=\"checkbox\" ><label class=\"sk-toggleable__label\" for=\"93e76da9-fd9f-47d5-9a0a-414461f93639\">pipeline-2</label><div class=\"sk-toggleable__content\"><pre>['date', 'jour', 'service', 'weather_main', 'weather_description', 'Match Happening', 'Match Happening-CL', 'match_edf', 'roland_garros', 'fashion_week']</pre></div></div></div><div class=\"sk-serial\"><div class=\"sk-item\"><div class=\"sk-serial\"><div class=\"sk-item\"><div class=\"sk-estimator sk-toggleable\"><input class=\"sk-toggleable__control sk-hidden--visually\" id=\"0318befa-02c4-49f6-bf43-e006453c3276\" type=\"checkbox\" ><label class=\"sk-toggleable__label\" for=\"0318befa-02c4-49f6-bf43-e006453c3276\">SimpleImputer</label><div class=\"sk-toggleable__content\"><pre>SimpleImputer(fill_value='missing', strategy='constant')</pre></div></div></div><div class=\"sk-item\"><div class=\"sk-estimator sk-toggleable\"><input class=\"sk-toggleable__control sk-hidden--visually\" id=\"0e35b6da-0fef-4568-84ba-5f9bbc869370\" type=\"checkbox\" ><label class=\"sk-toggleable__label\" for=\"0e35b6da-0fef-4568-84ba-5f9bbc869370\">OneHotEncoder</label><div class=\"sk-toggleable__content\"><pre>OneHotEncoder(handle_unknown='ignore')</pre></div></div></div></div></div></div></div></div><div class=\"sk-parallel-item\"><div class=\"sk-item\"><div class=\"sk-label-container\"><div class=\"sk-label sk-toggleable\"><input class=\"sk-toggleable__control sk-hidden--visually\" id=\"26ee02f6-13f8-40b3-a4bf-92cc861a1517\" type=\"checkbox\" ><label class=\"sk-toggleable__label\" for=\"26ee02f6-13f8-40b3-a4bf-92cc861a1517\">pipeline-3</label><div class=\"sk-toggleable__content\"><pre>['Clear', 'Clouds', 'Drizzle', 'Drizzle and Rain', 'Fog', 'Mist', 'Rain', 'Thunderstorm']</pre></div></div></div><div class=\"sk-serial\"><div class=\"sk-item\"><div class=\"sk-serial\"><div class=\"sk-item\"><div class=\"sk-estimator sk-toggleable\"><input class=\"sk-toggleable__control sk-hidden--visually\" id=\"eef1183f-886b-42fd-91e0-3223a7637563\" type=\"checkbox\" ><label class=\"sk-toggleable__label\" for=\"eef1183f-886b-42fd-91e0-3223a7637563\">SimpleImputer</label><div class=\"sk-toggleable__content\"><pre>SimpleImputer(fill_value='missing', strategy='constant')</pre></div></div></div><div class=\"sk-item\"><div class=\"sk-estimator sk-toggleable\"><input class=\"sk-toggleable__control sk-hidden--visually\" id=\"51eeb460-05ec-4eda-a0fc-1ed5896ffd78\" type=\"checkbox\" ><label class=\"sk-toggleable__label\" for=\"51eeb460-05ec-4eda-a0fc-1ed5896ffd78\">OrdinalEncoder</label><div class=\"sk-toggleable__content\"><pre>OrdinalEncoder(categories=[[0, 'sky is clear'],\n",
       "                           [0, 'scattered clouds', 'few clouds',\n",
       "                            'broken clouds', 'overcast clouds'],\n",
       "                           [0, 'light intensity drizzle', 'drizzle',\n",
       "                            'heavy intensity drizzle'],\n",
       "                           [0, 'light intensity drizzle rain',\n",
       "                            'rain and drizzle'],\n",
       "                           [0, 'fog'], [0, 'mist'],\n",
       "                           [0, 'light rain', 'light intensity shower rain',\n",
       "                            'moderate rain', 'heavy intensity rain'],\n",
       "                           [0, 'proximity thunderstorm', 'thunderstorm',\n",
       "                            'thunderstorm with light rain',\n",
       "                            'thunderstorm with heavy rain']],\n",
       "               dtype=<class 'numpy.int64'>, handle_unknown='use_encoded_value',\n",
       "               unknown_value=-1)</pre></div></div></div><div class=\"sk-item\"><div class=\"sk-estimator sk-toggleable\"><input class=\"sk-toggleable__control sk-hidden--visually\" id=\"e83e9d82-91c8-4083-9880-ea9f7fc62df7\" type=\"checkbox\" ><label class=\"sk-toggleable__label\" for=\"e83e9d82-91c8-4083-9880-ea9f7fc62df7\">RobustScaler</label><div class=\"sk-toggleable__content\"><pre>RobustScaler()</pre></div></div></div></div></div></div></div></div></div></div></div></div>"
      ],
      "text/plain": [
       "ColumnTransformer(transformers=[('pipeline-1',\n",
       "                                 Pipeline(steps=[('knnimputer', KNNImputer()),\n",
       "                                                 ('robustscaler',\n",
       "                                                  RobustScaler())]),\n",
       "                                 ['temp', 'feels_like', 'temp_min', 'temp_max',\n",
       "                                  'wind_speed', 'clouds_all']),\n",
       "                                ('pipeline-2',\n",
       "                                 Pipeline(steps=[('simpleimputer',\n",
       "                                                  SimpleImputer(fill_value='missing',\n",
       "                                                                strategy='constant')),\n",
       "                                                 ('onehotencoder',\n",
       "                                                  OneHotEncoder(handle_unknown='igno...\n",
       "                                                                              'moderate '\n",
       "                                                                              'rain',\n",
       "                                                                              'heavy '\n",
       "                                                                              'intensity '\n",
       "                                                                              'rain'],\n",
       "                                                                             [0,\n",
       "                                                                              'proximity '\n",
       "                                                                              'thunderstorm',\n",
       "                                                                              'thunderstorm',\n",
       "                                                                              'thunderstorm '\n",
       "                                                                              'with '\n",
       "                                                                              'light '\n",
       "                                                                              'rain',\n",
       "                                                                              'thunderstorm '\n",
       "                                                                              'with '\n",
       "                                                                              'heavy '\n",
       "                                                                              'rain']],\n",
       "                                                                 dtype=<class 'numpy.int64'>,\n",
       "                                                                 handle_unknown='use_encoded_value',\n",
       "                                                                 unknown_value=-1)),\n",
       "                                                 ('robustscaler',\n",
       "                                                  RobustScaler())]),\n",
       "                                 ['Clear', 'Clouds', 'Drizzle',\n",
       "                                  'Drizzle and Rain', 'Fog', 'Mist', 'Rain',\n",
       "                                  'Thunderstorm'])])"
      ]
     },
     "execution_count": 64,
     "metadata": {},
     "output_type": "execute_result"
    }
   ],
   "source": [
    "preproc"
   ]
  },
  {
   "cell_type": "code",
   "execution_count": 65,
   "metadata": {
    "ExecuteTime": {
     "end_time": "2021-08-25T15:56:38.179726Z",
     "start_time": "2021-08-25T15:56:38.149526Z"
    },
    "id": "q0Dw2SNwkgei"
   },
   "outputs": [],
   "source": [
    "pipe = make_pipeline(\n",
    "    preproc,\n",
    ")"
   ]
  },
  {
   "cell_type": "code",
   "execution_count": 66,
   "metadata": {
    "ExecuteTime": {
     "end_time": "2021-08-25T15:56:38.389512Z",
     "start_time": "2021-08-25T15:56:38.225611Z"
    },
    "colab": {
     "base_uri": "https://localhost:8080/",
     "height": 196
    },
    "id": "G1183qlvk5ZK",
    "outputId": "f6863881-4b72-4891-aa1b-b5271f0e2063"
   },
   "outputs": [
    {
     "data": {
      "text/html": [
       "<style>#sk-0339311b-6082-4d8e-9385-8f0f91669b67 {color: black;background-color: white;}#sk-0339311b-6082-4d8e-9385-8f0f91669b67 pre{padding: 0;}#sk-0339311b-6082-4d8e-9385-8f0f91669b67 div.sk-toggleable {background-color: white;}#sk-0339311b-6082-4d8e-9385-8f0f91669b67 label.sk-toggleable__label {cursor: pointer;display: block;width: 100%;margin-bottom: 0;padding: 0.2em 0.3em;box-sizing: border-box;text-align: center;}#sk-0339311b-6082-4d8e-9385-8f0f91669b67 div.sk-toggleable__content {max-height: 0;max-width: 0;overflow: hidden;text-align: left;background-color: #f0f8ff;}#sk-0339311b-6082-4d8e-9385-8f0f91669b67 div.sk-toggleable__content pre {margin: 0.2em;color: black;border-radius: 0.25em;background-color: #f0f8ff;}#sk-0339311b-6082-4d8e-9385-8f0f91669b67 input.sk-toggleable__control:checked~div.sk-toggleable__content {max-height: 200px;max-width: 100%;overflow: auto;}#sk-0339311b-6082-4d8e-9385-8f0f91669b67 div.sk-estimator input.sk-toggleable__control:checked~label.sk-toggleable__label {background-color: #d4ebff;}#sk-0339311b-6082-4d8e-9385-8f0f91669b67 div.sk-label input.sk-toggleable__control:checked~label.sk-toggleable__label {background-color: #d4ebff;}#sk-0339311b-6082-4d8e-9385-8f0f91669b67 input.sk-hidden--visually {border: 0;clip: rect(1px 1px 1px 1px);clip: rect(1px, 1px, 1px, 1px);height: 1px;margin: -1px;overflow: hidden;padding: 0;position: absolute;width: 1px;}#sk-0339311b-6082-4d8e-9385-8f0f91669b67 div.sk-estimator {font-family: monospace;background-color: #f0f8ff;margin: 0.25em 0.25em;border: 1px dotted black;border-radius: 0.25em;box-sizing: border-box;}#sk-0339311b-6082-4d8e-9385-8f0f91669b67 div.sk-estimator:hover {background-color: #d4ebff;}#sk-0339311b-6082-4d8e-9385-8f0f91669b67 div.sk-parallel-item::after {content: \"\";width: 100%;border-bottom: 1px solid gray;flex-grow: 1;}#sk-0339311b-6082-4d8e-9385-8f0f91669b67 div.sk-label:hover label.sk-toggleable__label {background-color: #d4ebff;}#sk-0339311b-6082-4d8e-9385-8f0f91669b67 div.sk-serial::before {content: \"\";position: absolute;border-left: 1px solid gray;box-sizing: border-box;top: 2em;bottom: 0;left: 50%;}#sk-0339311b-6082-4d8e-9385-8f0f91669b67 div.sk-serial {display: flex;flex-direction: column;align-items: center;background-color: white;}#sk-0339311b-6082-4d8e-9385-8f0f91669b67 div.sk-item {z-index: 1;}#sk-0339311b-6082-4d8e-9385-8f0f91669b67 div.sk-parallel {display: flex;align-items: stretch;justify-content: center;background-color: white;}#sk-0339311b-6082-4d8e-9385-8f0f91669b67 div.sk-parallel-item {display: flex;flex-direction: column;position: relative;background-color: white;}#sk-0339311b-6082-4d8e-9385-8f0f91669b67 div.sk-parallel-item:first-child::after {align-self: flex-end;width: 50%;}#sk-0339311b-6082-4d8e-9385-8f0f91669b67 div.sk-parallel-item:last-child::after {align-self: flex-start;width: 50%;}#sk-0339311b-6082-4d8e-9385-8f0f91669b67 div.sk-parallel-item:only-child::after {width: 0;}#sk-0339311b-6082-4d8e-9385-8f0f91669b67 div.sk-dashed-wrapped {border: 1px dashed gray;margin: 0.2em;box-sizing: border-box;padding-bottom: 0.1em;background-color: white;position: relative;}#sk-0339311b-6082-4d8e-9385-8f0f91669b67 div.sk-label label {font-family: monospace;font-weight: bold;background-color: white;display: inline-block;line-height: 1.2em;}#sk-0339311b-6082-4d8e-9385-8f0f91669b67 div.sk-label-container {position: relative;z-index: 2;text-align: center;}#sk-0339311b-6082-4d8e-9385-8f0f91669b67 div.sk-container {display: inline-block;position: relative;}</style><div id=\"sk-0339311b-6082-4d8e-9385-8f0f91669b67\" class\"sk-top-container\"><div class=\"sk-container\"><div class=\"sk-item sk-dashed-wrapped\"><div class=\"sk-label-container\"><div class=\"sk-label sk-toggleable\"><input class=\"sk-toggleable__control sk-hidden--visually\" id=\"84ae9f15-f5a8-456d-82f8-e0f80e620959\" type=\"checkbox\" ><label class=\"sk-toggleable__label\" for=\"84ae9f15-f5a8-456d-82f8-e0f80e620959\">Pipeline</label><div class=\"sk-toggleable__content\"><pre>Pipeline(steps=[('columntransformer',\n",
       "                 ColumnTransformer(transformers=[('pipeline-1',\n",
       "                                                  Pipeline(steps=[('knnimputer',\n",
       "                                                                   KNNImputer()),\n",
       "                                                                  ('robustscaler',\n",
       "                                                                   RobustScaler())]),\n",
       "                                                  ['temp', 'feels_like',\n",
       "                                                   'temp_min', 'temp_max',\n",
       "                                                   'wind_speed',\n",
       "                                                   'clouds_all']),\n",
       "                                                 ('pipeline-2',\n",
       "                                                  Pipeline(steps=[('simpleimputer',\n",
       "                                                                   SimpleImputer(fill_value='missing',\n",
       "                                                                                 strategy='constant')),\n",
       "                                                                  ('onehotencode...\n",
       "                                                                                               'moderate '\n",
       "                                                                                               'rain',\n",
       "                                                                                               'heavy '\n",
       "                                                                                               'intensity '\n",
       "                                                                                               'rain'],\n",
       "                                                                                              [0,\n",
       "                                                                                               'proximity '\n",
       "                                                                                               'thunderstorm',\n",
       "                                                                                               'thunderstorm',\n",
       "                                                                                               'thunderstorm '\n",
       "                                                                                               'with '\n",
       "                                                                                               'light '\n",
       "                                                                                               'rain',\n",
       "                                                                                               'thunderstorm '\n",
       "                                                                                               'with '\n",
       "                                                                                               'heavy '\n",
       "                                                                                               'rain']],\n",
       "                                                                                  dtype=<class 'numpy.int64'>,\n",
       "                                                                                  handle_unknown='use_encoded_value',\n",
       "                                                                                  unknown_value=-1)),\n",
       "                                                                  ('robustscaler',\n",
       "                                                                   RobustScaler())]),\n",
       "                                                  ['Clear', 'Clouds', 'Drizzle',\n",
       "                                                   'Drizzle and Rain', 'Fog',\n",
       "                                                   'Mist', 'Rain',\n",
       "                                                   'Thunderstorm'])]))])</pre></div></div></div><div class=\"sk-serial\"><div class=\"sk-item sk-dashed-wrapped\"><div class=\"sk-label-container\"><div class=\"sk-label sk-toggleable\"><input class=\"sk-toggleable__control sk-hidden--visually\" id=\"ae36fac2-d703-4725-ba64-83d200ce2f9f\" type=\"checkbox\" ><label class=\"sk-toggleable__label\" for=\"ae36fac2-d703-4725-ba64-83d200ce2f9f\">columntransformer: ColumnTransformer</label><div class=\"sk-toggleable__content\"><pre>ColumnTransformer(transformers=[('pipeline-1',\n",
       "                                 Pipeline(steps=[('knnimputer', KNNImputer()),\n",
       "                                                 ('robustscaler',\n",
       "                                                  RobustScaler())]),\n",
       "                                 ['temp', 'feels_like', 'temp_min', 'temp_max',\n",
       "                                  'wind_speed', 'clouds_all']),\n",
       "                                ('pipeline-2',\n",
       "                                 Pipeline(steps=[('simpleimputer',\n",
       "                                                  SimpleImputer(fill_value='missing',\n",
       "                                                                strategy='constant')),\n",
       "                                                 ('onehotencoder',\n",
       "                                                  OneHotEncoder(handle_unknown='igno...\n",
       "                                                                              'moderate '\n",
       "                                                                              'rain',\n",
       "                                                                              'heavy '\n",
       "                                                                              'intensity '\n",
       "                                                                              'rain'],\n",
       "                                                                             [0,\n",
       "                                                                              'proximity '\n",
       "                                                                              'thunderstorm',\n",
       "                                                                              'thunderstorm',\n",
       "                                                                              'thunderstorm '\n",
       "                                                                              'with '\n",
       "                                                                              'light '\n",
       "                                                                              'rain',\n",
       "                                                                              'thunderstorm '\n",
       "                                                                              'with '\n",
       "                                                                              'heavy '\n",
       "                                                                              'rain']],\n",
       "                                                                 dtype=<class 'numpy.int64'>,\n",
       "                                                                 handle_unknown='use_encoded_value',\n",
       "                                                                 unknown_value=-1)),\n",
       "                                                 ('robustscaler',\n",
       "                                                  RobustScaler())]),\n",
       "                                 ['Clear', 'Clouds', 'Drizzle',\n",
       "                                  'Drizzle and Rain', 'Fog', 'Mist', 'Rain',\n",
       "                                  'Thunderstorm'])])</pre></div></div></div><div class=\"sk-parallel\"><div class=\"sk-parallel-item\"><div class=\"sk-item\"><div class=\"sk-label-container\"><div class=\"sk-label sk-toggleable\"><input class=\"sk-toggleable__control sk-hidden--visually\" id=\"039ede52-83c0-41bb-8e18-4efb1b06b564\" type=\"checkbox\" ><label class=\"sk-toggleable__label\" for=\"039ede52-83c0-41bb-8e18-4efb1b06b564\">pipeline-1</label><div class=\"sk-toggleable__content\"><pre>['temp', 'feels_like', 'temp_min', 'temp_max', 'wind_speed', 'clouds_all']</pre></div></div></div><div class=\"sk-serial\"><div class=\"sk-item\"><div class=\"sk-serial\"><div class=\"sk-item\"><div class=\"sk-estimator sk-toggleable\"><input class=\"sk-toggleable__control sk-hidden--visually\" id=\"bf426e20-879c-4af2-b212-8792b8f5aee9\" type=\"checkbox\" ><label class=\"sk-toggleable__label\" for=\"bf426e20-879c-4af2-b212-8792b8f5aee9\">KNNImputer</label><div class=\"sk-toggleable__content\"><pre>KNNImputer()</pre></div></div></div><div class=\"sk-item\"><div class=\"sk-estimator sk-toggleable\"><input class=\"sk-toggleable__control sk-hidden--visually\" id=\"4523166d-e83f-4f79-88c0-876b6d54141c\" type=\"checkbox\" ><label class=\"sk-toggleable__label\" for=\"4523166d-e83f-4f79-88c0-876b6d54141c\">RobustScaler</label><div class=\"sk-toggleable__content\"><pre>RobustScaler()</pre></div></div></div></div></div></div></div></div><div class=\"sk-parallel-item\"><div class=\"sk-item\"><div class=\"sk-label-container\"><div class=\"sk-label sk-toggleable\"><input class=\"sk-toggleable__control sk-hidden--visually\" id=\"d60b7c0d-dc9b-476f-9e47-a07c0a6a8bf2\" type=\"checkbox\" ><label class=\"sk-toggleable__label\" for=\"d60b7c0d-dc9b-476f-9e47-a07c0a6a8bf2\">pipeline-2</label><div class=\"sk-toggleable__content\"><pre>['date', 'jour', 'service', 'weather_main', 'weather_description', 'Match Happening', 'Match Happening-CL', 'match_edf', 'roland_garros', 'fashion_week']</pre></div></div></div><div class=\"sk-serial\"><div class=\"sk-item\"><div class=\"sk-serial\"><div class=\"sk-item\"><div class=\"sk-estimator sk-toggleable\"><input class=\"sk-toggleable__control sk-hidden--visually\" id=\"9edbe010-f7a6-41ee-9bae-7d9dee7b22b5\" type=\"checkbox\" ><label class=\"sk-toggleable__label\" for=\"9edbe010-f7a6-41ee-9bae-7d9dee7b22b5\">SimpleImputer</label><div class=\"sk-toggleable__content\"><pre>SimpleImputer(fill_value='missing', strategy='constant')</pre></div></div></div><div class=\"sk-item\"><div class=\"sk-estimator sk-toggleable\"><input class=\"sk-toggleable__control sk-hidden--visually\" id=\"cec9b7a9-7e9f-4df8-88f4-77db5acdb304\" type=\"checkbox\" ><label class=\"sk-toggleable__label\" for=\"cec9b7a9-7e9f-4df8-88f4-77db5acdb304\">OneHotEncoder</label><div class=\"sk-toggleable__content\"><pre>OneHotEncoder(handle_unknown='ignore')</pre></div></div></div></div></div></div></div></div><div class=\"sk-parallel-item\"><div class=\"sk-item\"><div class=\"sk-label-container\"><div class=\"sk-label sk-toggleable\"><input class=\"sk-toggleable__control sk-hidden--visually\" id=\"774ec76e-0778-435e-a6a0-96ae7a60a03e\" type=\"checkbox\" ><label class=\"sk-toggleable__label\" for=\"774ec76e-0778-435e-a6a0-96ae7a60a03e\">pipeline-3</label><div class=\"sk-toggleable__content\"><pre>['Clear', 'Clouds', 'Drizzle', 'Drizzle and Rain', 'Fog', 'Mist', 'Rain', 'Thunderstorm']</pre></div></div></div><div class=\"sk-serial\"><div class=\"sk-item\"><div class=\"sk-serial\"><div class=\"sk-item\"><div class=\"sk-estimator sk-toggleable\"><input class=\"sk-toggleable__control sk-hidden--visually\" id=\"37cb4991-1676-41c6-86ce-c8778a41c42c\" type=\"checkbox\" ><label class=\"sk-toggleable__label\" for=\"37cb4991-1676-41c6-86ce-c8778a41c42c\">SimpleImputer</label><div class=\"sk-toggleable__content\"><pre>SimpleImputer(fill_value='missing', strategy='constant')</pre></div></div></div><div class=\"sk-item\"><div class=\"sk-estimator sk-toggleable\"><input class=\"sk-toggleable__control sk-hidden--visually\" id=\"743e4b57-ff35-46ce-bdd3-5c8537a3bd02\" type=\"checkbox\" ><label class=\"sk-toggleable__label\" for=\"743e4b57-ff35-46ce-bdd3-5c8537a3bd02\">OrdinalEncoder</label><div class=\"sk-toggleable__content\"><pre>OrdinalEncoder(categories=[[0, 'sky is clear'],\n",
       "                           [0, 'scattered clouds', 'few clouds',\n",
       "                            'broken clouds', 'overcast clouds'],\n",
       "                           [0, 'light intensity drizzle', 'drizzle',\n",
       "                            'heavy intensity drizzle'],\n",
       "                           [0, 'light intensity drizzle rain',\n",
       "                            'rain and drizzle'],\n",
       "                           [0, 'fog'], [0, 'mist'],\n",
       "                           [0, 'light rain', 'light intensity shower rain',\n",
       "                            'moderate rain', 'heavy intensity rain'],\n",
       "                           [0, 'proximity thunderstorm', 'thunderstorm',\n",
       "                            'thunderstorm with light rain',\n",
       "                            'thunderstorm with heavy rain']],\n",
       "               dtype=<class 'numpy.int64'>, handle_unknown='use_encoded_value',\n",
       "               unknown_value=-1)</pre></div></div></div><div class=\"sk-item\"><div class=\"sk-estimator sk-toggleable\"><input class=\"sk-toggleable__control sk-hidden--visually\" id=\"185a0ad4-5d3c-455f-92e0-646707dbde5a\" type=\"checkbox\" ><label class=\"sk-toggleable__label\" for=\"185a0ad4-5d3c-455f-92e0-646707dbde5a\">RobustScaler</label><div class=\"sk-toggleable__content\"><pre>RobustScaler()</pre></div></div></div></div></div></div></div></div></div></div></div></div></div></div>"
      ],
      "text/plain": [
       "Pipeline(steps=[('columntransformer',\n",
       "                 ColumnTransformer(transformers=[('pipeline-1',\n",
       "                                                  Pipeline(steps=[('knnimputer',\n",
       "                                                                   KNNImputer()),\n",
       "                                                                  ('robustscaler',\n",
       "                                                                   RobustScaler())]),\n",
       "                                                  ['temp', 'feels_like',\n",
       "                                                   'temp_min', 'temp_max',\n",
       "                                                   'wind_speed',\n",
       "                                                   'clouds_all']),\n",
       "                                                 ('pipeline-2',\n",
       "                                                  Pipeline(steps=[('simpleimputer',\n",
       "                                                                   SimpleImputer(fill_value='missing',\n",
       "                                                                                 strategy='constant')),\n",
       "                                                                  ('onehotencode...\n",
       "                                                                                               'moderate '\n",
       "                                                                                               'rain',\n",
       "                                                                                               'heavy '\n",
       "                                                                                               'intensity '\n",
       "                                                                                               'rain'],\n",
       "                                                                                              [0,\n",
       "                                                                                               'proximity '\n",
       "                                                                                               'thunderstorm',\n",
       "                                                                                               'thunderstorm',\n",
       "                                                                                               'thunderstorm '\n",
       "                                                                                               'with '\n",
       "                                                                                               'light '\n",
       "                                                                                               'rain',\n",
       "                                                                                               'thunderstorm '\n",
       "                                                                                               'with '\n",
       "                                                                                               'heavy '\n",
       "                                                                                               'rain']],\n",
       "                                                                                  dtype=<class 'numpy.int64'>,\n",
       "                                                                                  handle_unknown='use_encoded_value',\n",
       "                                                                                  unknown_value=-1)),\n",
       "                                                                  ('robustscaler',\n",
       "                                                                   RobustScaler())]),\n",
       "                                                  ['Clear', 'Clouds', 'Drizzle',\n",
       "                                                   'Drizzle and Rain', 'Fog',\n",
       "                                                   'Mist', 'Rain',\n",
       "                                                   'Thunderstorm'])]))])"
      ]
     },
     "execution_count": 66,
     "metadata": {},
     "output_type": "execute_result"
    }
   ],
   "source": [
    "pipe"
   ]
  },
  {
   "cell_type": "markdown",
   "metadata": {
    "id": "9BN_TL2wdK6A"
   },
   "source": [
    "# Model"
   ]
  },
  {
   "cell_type": "code",
   "execution_count": 67,
   "metadata": {
    "ExecuteTime": {
     "end_time": "2021-08-25T15:56:38.458689Z",
     "start_time": "2021-08-25T15:56:38.401273Z"
    },
    "colab": {
     "base_uri": "https://localhost:8080/",
     "height": 643
    },
    "id": "ZMo4vuLcisBz",
    "outputId": "c3283e7e-7e75-43a2-e53b-a68b8af98041"
   },
   "outputs": [
    {
     "data": {
      "text/html": [
       "<div>\n",
       "<style scoped>\n",
       "    .dataframe tbody tr th:only-of-type {\n",
       "        vertical-align: middle;\n",
       "    }\n",
       "\n",
       "    .dataframe tbody tr th {\n",
       "        vertical-align: top;\n",
       "    }\n",
       "\n",
       "    .dataframe thead th {\n",
       "        text-align: right;\n",
       "    }\n",
       "</style>\n",
       "<table border=\"1\" class=\"dataframe\">\n",
       "  <thead>\n",
       "    <tr style=\"text-align: right;\">\n",
       "      <th></th>\n",
       "      <th>index</th>\n",
       "      <th>date</th>\n",
       "      <th>jour</th>\n",
       "      <th>service</th>\n",
       "      <th>CA_TTC</th>\n",
       "      <th>temp</th>\n",
       "      <th>feels_like</th>\n",
       "      <th>temp_min</th>\n",
       "      <th>temp_max</th>\n",
       "      <th>wind_speed</th>\n",
       "      <th>...</th>\n",
       "      <th>Match Happening</th>\n",
       "      <th>Match Happening-CL</th>\n",
       "      <th>Clear</th>\n",
       "      <th>Clouds</th>\n",
       "      <th>Drizzle</th>\n",
       "      <th>Drizzle and Rain</th>\n",
       "      <th>Fog</th>\n",
       "      <th>Mist</th>\n",
       "      <th>Rain</th>\n",
       "      <th>Thunderstorm</th>\n",
       "    </tr>\n",
       "  </thead>\n",
       "  <tbody>\n",
       "    <tr>\n",
       "      <th>0</th>\n",
       "      <td>0</td>\n",
       "      <td>2019-08-27</td>\n",
       "      <td>Mardi</td>\n",
       "      <td>midi</td>\n",
       "      <td>0.00</td>\n",
       "      <td>303.84</td>\n",
       "      <td>303.95</td>\n",
       "      <td>302.16</td>\n",
       "      <td>305.40</td>\n",
       "      <td>1.00</td>\n",
       "      <td>...</td>\n",
       "      <td>0.0</td>\n",
       "      <td>0.0</td>\n",
       "      <td>sky is clear</td>\n",
       "      <td>0</td>\n",
       "      <td>0</td>\n",
       "      <td>0</td>\n",
       "      <td>0</td>\n",
       "      <td>0</td>\n",
       "      <td>0</td>\n",
       "      <td>0</td>\n",
       "    </tr>\n",
       "    <tr>\n",
       "      <th>1</th>\n",
       "      <td>1</td>\n",
       "      <td>2019-08-27</td>\n",
       "      <td>Mardi</td>\n",
       "      <td>soir</td>\n",
       "      <td>59.50</td>\n",
       "      <td>302.00</td>\n",
       "      <td>301.61</td>\n",
       "      <td>297.23</td>\n",
       "      <td>304.58</td>\n",
       "      <td>0.89</td>\n",
       "      <td>...</td>\n",
       "      <td>0.0</td>\n",
       "      <td>0.0</td>\n",
       "      <td>sky is clear</td>\n",
       "      <td>0</td>\n",
       "      <td>0</td>\n",
       "      <td>0</td>\n",
       "      <td>0</td>\n",
       "      <td>0</td>\n",
       "      <td>0</td>\n",
       "      <td>0</td>\n",
       "    </tr>\n",
       "    <tr>\n",
       "      <th>2</th>\n",
       "      <td>2</td>\n",
       "      <td>2019-08-28</td>\n",
       "      <td>Mercredi</td>\n",
       "      <td>midi</td>\n",
       "      <td>0.00</td>\n",
       "      <td>301.95</td>\n",
       "      <td>302.12</td>\n",
       "      <td>300.75</td>\n",
       "      <td>302.87</td>\n",
       "      <td>1.79</td>\n",
       "      <td>...</td>\n",
       "      <td>0.0</td>\n",
       "      <td>0.0</td>\n",
       "      <td>sky is clear</td>\n",
       "      <td>0</td>\n",
       "      <td>0</td>\n",
       "      <td>0</td>\n",
       "      <td>0</td>\n",
       "      <td>0</td>\n",
       "      <td>0</td>\n",
       "      <td>0</td>\n",
       "    </tr>\n",
       "    <tr>\n",
       "      <th>3</th>\n",
       "      <td>3</td>\n",
       "      <td>2019-08-28</td>\n",
       "      <td>Mercredi</td>\n",
       "      <td>soir</td>\n",
       "      <td>1723.75</td>\n",
       "      <td>297.94</td>\n",
       "      <td>298.09</td>\n",
       "      <td>295.40</td>\n",
       "      <td>300.40</td>\n",
       "      <td>1.34</td>\n",
       "      <td>...</td>\n",
       "      <td>0.0</td>\n",
       "      <td>0.0</td>\n",
       "      <td>sky is clear</td>\n",
       "      <td>0</td>\n",
       "      <td>0</td>\n",
       "      <td>0</td>\n",
       "      <td>0</td>\n",
       "      <td>0</td>\n",
       "      <td>0</td>\n",
       "      <td>0</td>\n",
       "    </tr>\n",
       "    <tr>\n",
       "      <th>4</th>\n",
       "      <td>4</td>\n",
       "      <td>2019-08-29</td>\n",
       "      <td>Jeudi</td>\n",
       "      <td>midi</td>\n",
       "      <td>0.00</td>\n",
       "      <td>294.88</td>\n",
       "      <td>294.73</td>\n",
       "      <td>293.25</td>\n",
       "      <td>296.81</td>\n",
       "      <td>2.10</td>\n",
       "      <td>...</td>\n",
       "      <td>0.0</td>\n",
       "      <td>0.0</td>\n",
       "      <td>0</td>\n",
       "      <td>overcast clouds</td>\n",
       "      <td>0</td>\n",
       "      <td>0</td>\n",
       "      <td>0</td>\n",
       "      <td>0</td>\n",
       "      <td>0</td>\n",
       "      <td>0</td>\n",
       "    </tr>\n",
       "    <tr>\n",
       "      <th>...</th>\n",
       "      <td>...</td>\n",
       "      <td>...</td>\n",
       "      <td>...</td>\n",
       "      <td>...</td>\n",
       "      <td>...</td>\n",
       "      <td>...</td>\n",
       "      <td>...</td>\n",
       "      <td>...</td>\n",
       "      <td>...</td>\n",
       "      <td>...</td>\n",
       "      <td>...</td>\n",
       "      <td>...</td>\n",
       "      <td>...</td>\n",
       "      <td>...</td>\n",
       "      <td>...</td>\n",
       "      <td>...</td>\n",
       "      <td>...</td>\n",
       "      <td>...</td>\n",
       "      <td>...</td>\n",
       "      <td>...</td>\n",
       "      <td>...</td>\n",
       "    </tr>\n",
       "    <tr>\n",
       "      <th>841</th>\n",
       "      <td>872</td>\n",
       "      <td>2021-07-29</td>\n",
       "      <td>Jeudi</td>\n",
       "      <td>soir</td>\n",
       "      <td>6564.00</td>\n",
       "      <td>295.25</td>\n",
       "      <td>294.82</td>\n",
       "      <td>293.58</td>\n",
       "      <td>296.82</td>\n",
       "      <td>0.89</td>\n",
       "      <td>...</td>\n",
       "      <td>0.0</td>\n",
       "      <td>0.0</td>\n",
       "      <td>sky is clear</td>\n",
       "      <td>0</td>\n",
       "      <td>0</td>\n",
       "      <td>0</td>\n",
       "      <td>0</td>\n",
       "      <td>0</td>\n",
       "      <td>0</td>\n",
       "      <td>0</td>\n",
       "    </tr>\n",
       "    <tr>\n",
       "      <th>842</th>\n",
       "      <td>873</td>\n",
       "      <td>2021-07-30</td>\n",
       "      <td>Vendredi</td>\n",
       "      <td>midi</td>\n",
       "      <td>1361.00</td>\n",
       "      <td>295.70</td>\n",
       "      <td>295.29</td>\n",
       "      <td>294.40</td>\n",
       "      <td>297.38</td>\n",
       "      <td>2.24</td>\n",
       "      <td>...</td>\n",
       "      <td>0.0</td>\n",
       "      <td>0.0</td>\n",
       "      <td>0</td>\n",
       "      <td>scattered clouds</td>\n",
       "      <td>0</td>\n",
       "      <td>0</td>\n",
       "      <td>0</td>\n",
       "      <td>0</td>\n",
       "      <td>0</td>\n",
       "      <td>0</td>\n",
       "    </tr>\n",
       "    <tr>\n",
       "      <th>843</th>\n",
       "      <td>874</td>\n",
       "      <td>2021-07-30</td>\n",
       "      <td>Vendredi</td>\n",
       "      <td>soir</td>\n",
       "      <td>7058.00</td>\n",
       "      <td>294.44</td>\n",
       "      <td>294.01</td>\n",
       "      <td>293.27</td>\n",
       "      <td>295.71</td>\n",
       "      <td>1.34</td>\n",
       "      <td>...</td>\n",
       "      <td>0.0</td>\n",
       "      <td>0.0</td>\n",
       "      <td>sky is clear</td>\n",
       "      <td>0</td>\n",
       "      <td>0</td>\n",
       "      <td>0</td>\n",
       "      <td>0</td>\n",
       "      <td>0</td>\n",
       "      <td>0</td>\n",
       "      <td>0</td>\n",
       "    </tr>\n",
       "    <tr>\n",
       "      <th>844</th>\n",
       "      <td>875</td>\n",
       "      <td>2021-07-31</td>\n",
       "      <td>Samedi</td>\n",
       "      <td>midi</td>\n",
       "      <td>1655.50</td>\n",
       "      <td>294.69</td>\n",
       "      <td>294.47</td>\n",
       "      <td>294.16</td>\n",
       "      <td>295.59</td>\n",
       "      <td>0.45</td>\n",
       "      <td>...</td>\n",
       "      <td>0.0</td>\n",
       "      <td>0.0</td>\n",
       "      <td>sky is clear</td>\n",
       "      <td>0</td>\n",
       "      <td>0</td>\n",
       "      <td>0</td>\n",
       "      <td>0</td>\n",
       "      <td>0</td>\n",
       "      <td>0</td>\n",
       "      <td>0</td>\n",
       "    </tr>\n",
       "    <tr>\n",
       "      <th>845</th>\n",
       "      <td>876</td>\n",
       "      <td>2021-07-31</td>\n",
       "      <td>Samedi</td>\n",
       "      <td>soir</td>\n",
       "      <td>8446.00</td>\n",
       "      <td>293.83</td>\n",
       "      <td>293.55</td>\n",
       "      <td>292.49</td>\n",
       "      <td>294.77</td>\n",
       "      <td>0.89</td>\n",
       "      <td>...</td>\n",
       "      <td>0.0</td>\n",
       "      <td>0.0</td>\n",
       "      <td>0</td>\n",
       "      <td>scattered clouds</td>\n",
       "      <td>0</td>\n",
       "      <td>0</td>\n",
       "      <td>0</td>\n",
       "      <td>0</td>\n",
       "      <td>0</td>\n",
       "      <td>0</td>\n",
       "    </tr>\n",
       "  </tbody>\n",
       "</table>\n",
       "<p>846 rows × 26 columns</p>\n",
       "</div>"
      ],
      "text/plain": [
       "     index        date      jour service   CA_TTC    temp  feels_like  \\\n",
       "0        0  2019-08-27     Mardi    midi     0.00  303.84      303.95   \n",
       "1        1  2019-08-27     Mardi    soir    59.50  302.00      301.61   \n",
       "2        2  2019-08-28  Mercredi    midi     0.00  301.95      302.12   \n",
       "3        3  2019-08-28  Mercredi    soir  1723.75  297.94      298.09   \n",
       "4        4  2019-08-29     Jeudi    midi     0.00  294.88      294.73   \n",
       "..     ...         ...       ...     ...      ...     ...         ...   \n",
       "841    872  2021-07-29     Jeudi    soir  6564.00  295.25      294.82   \n",
       "842    873  2021-07-30  Vendredi    midi  1361.00  295.70      295.29   \n",
       "843    874  2021-07-30  Vendredi    soir  7058.00  294.44      294.01   \n",
       "844    875  2021-07-31    Samedi    midi  1655.50  294.69      294.47   \n",
       "845    876  2021-07-31    Samedi    soir  8446.00  293.83      293.55   \n",
       "\n",
       "     temp_min  temp_max  wind_speed  ...  Match Happening Match Happening-CL  \\\n",
       "0      302.16    305.40        1.00  ...              0.0                0.0   \n",
       "1      297.23    304.58        0.89  ...              0.0                0.0   \n",
       "2      300.75    302.87        1.79  ...              0.0                0.0   \n",
       "3      295.40    300.40        1.34  ...              0.0                0.0   \n",
       "4      293.25    296.81        2.10  ...              0.0                0.0   \n",
       "..        ...       ...         ...  ...              ...                ...   \n",
       "841    293.58    296.82        0.89  ...              0.0                0.0   \n",
       "842    294.40    297.38        2.24  ...              0.0                0.0   \n",
       "843    293.27    295.71        1.34  ...              0.0                0.0   \n",
       "844    294.16    295.59        0.45  ...              0.0                0.0   \n",
       "845    292.49    294.77        0.89  ...              0.0                0.0   \n",
       "\n",
       "            Clear            Clouds Drizzle Drizzle and Rain Fog Mist Rain  \\\n",
       "0    sky is clear                 0       0                0   0    0    0   \n",
       "1    sky is clear                 0       0                0   0    0    0   \n",
       "2    sky is clear                 0       0                0   0    0    0   \n",
       "3    sky is clear                 0       0                0   0    0    0   \n",
       "4               0   overcast clouds       0                0   0    0    0   \n",
       "..            ...               ...     ...              ...  ..  ...  ...   \n",
       "841  sky is clear                 0       0                0   0    0    0   \n",
       "842             0  scattered clouds       0                0   0    0    0   \n",
       "843  sky is clear                 0       0                0   0    0    0   \n",
       "844  sky is clear                 0       0                0   0    0    0   \n",
       "845             0  scattered clouds       0                0   0    0    0   \n",
       "\n",
       "    Thunderstorm  \n",
       "0              0  \n",
       "1              0  \n",
       "2              0  \n",
       "3              0  \n",
       "4              0  \n",
       "..           ...  \n",
       "841            0  \n",
       "842            0  \n",
       "843            0  \n",
       "844            0  \n",
       "845            0  \n",
       "\n",
       "[846 rows x 26 columns]"
      ]
     },
     "execution_count": 67,
     "metadata": {},
     "output_type": "execute_result"
    }
   ],
   "source": [
    "data_d16"
   ]
  },
  {
   "cell_type": "code",
   "execution_count": 68,
   "metadata": {
    "ExecuteTime": {
     "end_time": "2021-08-25T15:56:38.518511Z",
     "start_time": "2021-08-25T15:56:38.471061Z"
    },
    "colab": {
     "base_uri": "https://localhost:8080/",
     "height": 360
    },
    "id": "CY_0HCiQcbZg",
    "outputId": "96fddb8e-3674-4291-fd5e-5b9f777cfe07"
   },
   "outputs": [
    {
     "data": {
      "text/html": [
       "<div>\n",
       "<style scoped>\n",
       "    .dataframe tbody tr th:only-of-type {\n",
       "        vertical-align: middle;\n",
       "    }\n",
       "\n",
       "    .dataframe tbody tr th {\n",
       "        vertical-align: top;\n",
       "    }\n",
       "\n",
       "    .dataframe thead th {\n",
       "        text-align: right;\n",
       "    }\n",
       "</style>\n",
       "<table border=\"1\" class=\"dataframe\">\n",
       "  <thead>\n",
       "    <tr style=\"text-align: right;\">\n",
       "      <th></th>\n",
       "      <th>index</th>\n",
       "      <th>date</th>\n",
       "      <th>jour</th>\n",
       "      <th>service</th>\n",
       "      <th>temp</th>\n",
       "      <th>feels_like</th>\n",
       "      <th>temp_min</th>\n",
       "      <th>temp_max</th>\n",
       "      <th>wind_speed</th>\n",
       "      <th>clouds_all</th>\n",
       "      <th>...</th>\n",
       "      <th>Match Happening</th>\n",
       "      <th>Match Happening-CL</th>\n",
       "      <th>Clear</th>\n",
       "      <th>Clouds</th>\n",
       "      <th>Drizzle</th>\n",
       "      <th>Drizzle and Rain</th>\n",
       "      <th>Fog</th>\n",
       "      <th>Mist</th>\n",
       "      <th>Rain</th>\n",
       "      <th>Thunderstorm</th>\n",
       "    </tr>\n",
       "  </thead>\n",
       "  <tbody>\n",
       "    <tr>\n",
       "      <th>0</th>\n",
       "      <td>0</td>\n",
       "      <td>2019-01-01</td>\n",
       "      <td>Mardi</td>\n",
       "      <td>soir</td>\n",
       "      <td>280.87</td>\n",
       "      <td>280.87</td>\n",
       "      <td>279.48</td>\n",
       "      <td>281.45</td>\n",
       "      <td>0.45</td>\n",
       "      <td>90</td>\n",
       "      <td>...</td>\n",
       "      <td>0.0</td>\n",
       "      <td>0.0</td>\n",
       "      <td>0</td>\n",
       "      <td>0</td>\n",
       "      <td>light intensity drizzle</td>\n",
       "      <td>0</td>\n",
       "      <td>0</td>\n",
       "      <td>0</td>\n",
       "      <td>0</td>\n",
       "      <td>0</td>\n",
       "    </tr>\n",
       "    <tr>\n",
       "      <th>1</th>\n",
       "      <td>1</td>\n",
       "      <td>2019-01-02</td>\n",
       "      <td>Mercredi</td>\n",
       "      <td>midi</td>\n",
       "      <td>279.57</td>\n",
       "      <td>278.92</td>\n",
       "      <td>278.83</td>\n",
       "      <td>280.31</td>\n",
       "      <td>1.34</td>\n",
       "      <td>90</td>\n",
       "      <td>...</td>\n",
       "      <td>0.0</td>\n",
       "      <td>0.0</td>\n",
       "      <td>0</td>\n",
       "      <td>overcast clouds</td>\n",
       "      <td>0</td>\n",
       "      <td>0</td>\n",
       "      <td>0</td>\n",
       "      <td>0</td>\n",
       "      <td>0</td>\n",
       "      <td>0</td>\n",
       "    </tr>\n",
       "    <tr>\n",
       "      <th>2</th>\n",
       "      <td>2</td>\n",
       "      <td>2019-01-02</td>\n",
       "      <td>Mercredi</td>\n",
       "      <td>soir</td>\n",
       "      <td>278.95</td>\n",
       "      <td>277.22</td>\n",
       "      <td>277.71</td>\n",
       "      <td>279.81</td>\n",
       "      <td>2.24</td>\n",
       "      <td>90</td>\n",
       "      <td>...</td>\n",
       "      <td>0.0</td>\n",
       "      <td>0.0</td>\n",
       "      <td>0</td>\n",
       "      <td>overcast clouds</td>\n",
       "      <td>0</td>\n",
       "      <td>0</td>\n",
       "      <td>0</td>\n",
       "      <td>0</td>\n",
       "      <td>0</td>\n",
       "      <td>0</td>\n",
       "    </tr>\n",
       "    <tr>\n",
       "      <th>3</th>\n",
       "      <td>3</td>\n",
       "      <td>2019-01-03</td>\n",
       "      <td>Jeudi</td>\n",
       "      <td>midi</td>\n",
       "      <td>279.11</td>\n",
       "      <td>279.11</td>\n",
       "      <td>278.06</td>\n",
       "      <td>280.25</td>\n",
       "      <td>0.89</td>\n",
       "      <td>90</td>\n",
       "      <td>...</td>\n",
       "      <td>0.0</td>\n",
       "      <td>0.0</td>\n",
       "      <td>0</td>\n",
       "      <td>overcast clouds</td>\n",
       "      <td>0</td>\n",
       "      <td>0</td>\n",
       "      <td>0</td>\n",
       "      <td>0</td>\n",
       "      <td>0</td>\n",
       "      <td>0</td>\n",
       "    </tr>\n",
       "    <tr>\n",
       "      <th>4</th>\n",
       "      <td>4</td>\n",
       "      <td>2019-01-03</td>\n",
       "      <td>Jeudi</td>\n",
       "      <td>soir</td>\n",
       "      <td>278.57</td>\n",
       "      <td>278.57</td>\n",
       "      <td>277.38</td>\n",
       "      <td>279.69</td>\n",
       "      <td>0.45</td>\n",
       "      <td>90</td>\n",
       "      <td>...</td>\n",
       "      <td>0.0</td>\n",
       "      <td>0.0</td>\n",
       "      <td>0</td>\n",
       "      <td>overcast clouds</td>\n",
       "      <td>0</td>\n",
       "      <td>0</td>\n",
       "      <td>0</td>\n",
       "      <td>0</td>\n",
       "      <td>0</td>\n",
       "      <td>0</td>\n",
       "    </tr>\n",
       "  </tbody>\n",
       "</table>\n",
       "<p>5 rows × 25 columns</p>\n",
       "</div>"
      ],
      "text/plain": [
       "   index        date      jour service    temp  feels_like  temp_min  \\\n",
       "0      0  2019-01-01     Mardi    soir  280.87      280.87    279.48   \n",
       "1      1  2019-01-02  Mercredi    midi  279.57      278.92    278.83   \n",
       "2      2  2019-01-02  Mercredi    soir  278.95      277.22    277.71   \n",
       "3      3  2019-01-03     Jeudi    midi  279.11      279.11    278.06   \n",
       "4      4  2019-01-03     Jeudi    soir  278.57      278.57    277.38   \n",
       "\n",
       "   temp_max  wind_speed  clouds_all  ... Match Happening Match Happening-CL  \\\n",
       "0    281.45        0.45          90  ...             0.0                0.0   \n",
       "1    280.31        1.34          90  ...             0.0                0.0   \n",
       "2    279.81        2.24          90  ...             0.0                0.0   \n",
       "3    280.25        0.89          90  ...             0.0                0.0   \n",
       "4    279.69        0.45          90  ...             0.0                0.0   \n",
       "\n",
       "  Clear           Clouds                  Drizzle Drizzle and Rain Fog Mist  \\\n",
       "0     0                0  light intensity drizzle                0   0    0   \n",
       "1     0  overcast clouds                        0                0   0    0   \n",
       "2     0  overcast clouds                        0                0   0    0   \n",
       "3     0  overcast clouds                        0                0   0    0   \n",
       "4     0  overcast clouds                        0                0   0    0   \n",
       "\n",
       "  Rain Thunderstorm  \n",
       "0    0            0  \n",
       "1    0            0  \n",
       "2    0            0  \n",
       "3    0            0  \n",
       "4    0            0  \n",
       "\n",
       "[5 rows x 25 columns]"
      ]
     },
     "execution_count": 68,
     "metadata": {},
     "output_type": "execute_result"
    }
   ],
   "source": [
    "X_d2 = data_d2.drop(columns=[\"CA_TTC\"])\n",
    "y_d2 = data_d2.CA_TTC\n",
    "X_d2.head()"
   ]
  },
  {
   "cell_type": "code",
   "execution_count": 69,
   "metadata": {
    "ExecuteTime": {
     "end_time": "2021-08-25T15:56:38.613305Z",
     "start_time": "2021-08-25T15:56:38.560663Z"
    },
    "colab": {
     "base_uri": "https://localhost:8080/",
     "height": 343
    },
    "id": "U27S7fDS5Ug8",
    "outputId": "c177c46a-7d46-49c9-820c-aacd819d6bce"
   },
   "outputs": [
    {
     "data": {
      "text/html": [
       "<div>\n",
       "<style scoped>\n",
       "    .dataframe tbody tr th:only-of-type {\n",
       "        vertical-align: middle;\n",
       "    }\n",
       "\n",
       "    .dataframe tbody tr th {\n",
       "        vertical-align: top;\n",
       "    }\n",
       "\n",
       "    .dataframe thead th {\n",
       "        text-align: right;\n",
       "    }\n",
       "</style>\n",
       "<table border=\"1\" class=\"dataframe\">\n",
       "  <thead>\n",
       "    <tr style=\"text-align: right;\">\n",
       "      <th></th>\n",
       "      <th>index</th>\n",
       "      <th>date</th>\n",
       "      <th>jour</th>\n",
       "      <th>service</th>\n",
       "      <th>temp</th>\n",
       "      <th>feels_like</th>\n",
       "      <th>temp_min</th>\n",
       "      <th>temp_max</th>\n",
       "      <th>wind_speed</th>\n",
       "      <th>clouds_all</th>\n",
       "      <th>...</th>\n",
       "      <th>Match Happening</th>\n",
       "      <th>Match Happening-CL</th>\n",
       "      <th>Clear</th>\n",
       "      <th>Clouds</th>\n",
       "      <th>Drizzle</th>\n",
       "      <th>Drizzle and Rain</th>\n",
       "      <th>Fog</th>\n",
       "      <th>Mist</th>\n",
       "      <th>Rain</th>\n",
       "      <th>Thunderstorm</th>\n",
       "    </tr>\n",
       "  </thead>\n",
       "  <tbody>\n",
       "    <tr>\n",
       "      <th>1318</th>\n",
       "      <td>1369</td>\n",
       "      <td>2021-07-29</td>\n",
       "      <td>Jeudi</td>\n",
       "      <td>soir</td>\n",
       "      <td>295.25</td>\n",
       "      <td>294.82</td>\n",
       "      <td>293.58</td>\n",
       "      <td>296.82</td>\n",
       "      <td>0.89</td>\n",
       "      <td>0</td>\n",
       "      <td>...</td>\n",
       "      <td>0.0</td>\n",
       "      <td>0.0</td>\n",
       "      <td>sky is clear</td>\n",
       "      <td>0</td>\n",
       "      <td>0</td>\n",
       "      <td>0</td>\n",
       "      <td>0</td>\n",
       "      <td>0</td>\n",
       "      <td>0</td>\n",
       "      <td>0</td>\n",
       "    </tr>\n",
       "    <tr>\n",
       "      <th>1319</th>\n",
       "      <td>1370</td>\n",
       "      <td>2021-07-30</td>\n",
       "      <td>Vendredi</td>\n",
       "      <td>midi</td>\n",
       "      <td>295.70</td>\n",
       "      <td>295.29</td>\n",
       "      <td>294.40</td>\n",
       "      <td>297.38</td>\n",
       "      <td>2.24</td>\n",
       "      <td>40</td>\n",
       "      <td>...</td>\n",
       "      <td>0.0</td>\n",
       "      <td>0.0</td>\n",
       "      <td>0</td>\n",
       "      <td>scattered clouds</td>\n",
       "      <td>0</td>\n",
       "      <td>0</td>\n",
       "      <td>0</td>\n",
       "      <td>0</td>\n",
       "      <td>0</td>\n",
       "      <td>0</td>\n",
       "    </tr>\n",
       "    <tr>\n",
       "      <th>1320</th>\n",
       "      <td>1371</td>\n",
       "      <td>2021-07-30</td>\n",
       "      <td>Vendredi</td>\n",
       "      <td>soir</td>\n",
       "      <td>294.44</td>\n",
       "      <td>294.01</td>\n",
       "      <td>293.27</td>\n",
       "      <td>295.71</td>\n",
       "      <td>1.34</td>\n",
       "      <td>0</td>\n",
       "      <td>...</td>\n",
       "      <td>0.0</td>\n",
       "      <td>0.0</td>\n",
       "      <td>sky is clear</td>\n",
       "      <td>0</td>\n",
       "      <td>0</td>\n",
       "      <td>0</td>\n",
       "      <td>0</td>\n",
       "      <td>0</td>\n",
       "      <td>0</td>\n",
       "      <td>0</td>\n",
       "    </tr>\n",
       "    <tr>\n",
       "      <th>1321</th>\n",
       "      <td>1372</td>\n",
       "      <td>2021-07-31</td>\n",
       "      <td>Samedi</td>\n",
       "      <td>midi</td>\n",
       "      <td>294.69</td>\n",
       "      <td>294.47</td>\n",
       "      <td>294.16</td>\n",
       "      <td>295.59</td>\n",
       "      <td>0.45</td>\n",
       "      <td>0</td>\n",
       "      <td>...</td>\n",
       "      <td>0.0</td>\n",
       "      <td>0.0</td>\n",
       "      <td>sky is clear</td>\n",
       "      <td>0</td>\n",
       "      <td>0</td>\n",
       "      <td>0</td>\n",
       "      <td>0</td>\n",
       "      <td>0</td>\n",
       "      <td>0</td>\n",
       "      <td>0</td>\n",
       "    </tr>\n",
       "    <tr>\n",
       "      <th>1322</th>\n",
       "      <td>1373</td>\n",
       "      <td>2021-07-31</td>\n",
       "      <td>Samedi</td>\n",
       "      <td>soir</td>\n",
       "      <td>293.83</td>\n",
       "      <td>293.55</td>\n",
       "      <td>292.49</td>\n",
       "      <td>294.77</td>\n",
       "      <td>0.89</td>\n",
       "      <td>40</td>\n",
       "      <td>...</td>\n",
       "      <td>0.0</td>\n",
       "      <td>0.0</td>\n",
       "      <td>0</td>\n",
       "      <td>scattered clouds</td>\n",
       "      <td>0</td>\n",
       "      <td>0</td>\n",
       "      <td>0</td>\n",
       "      <td>0</td>\n",
       "      <td>0</td>\n",
       "      <td>0</td>\n",
       "    </tr>\n",
       "  </tbody>\n",
       "</table>\n",
       "<p>5 rows × 25 columns</p>\n",
       "</div>"
      ],
      "text/plain": [
       "      index        date      jour service    temp  feels_like  temp_min  \\\n",
       "1318   1369  2021-07-29     Jeudi    soir  295.25      294.82    293.58   \n",
       "1319   1370  2021-07-30  Vendredi    midi  295.70      295.29    294.40   \n",
       "1320   1371  2021-07-30  Vendredi    soir  294.44      294.01    293.27   \n",
       "1321   1372  2021-07-31    Samedi    midi  294.69      294.47    294.16   \n",
       "1322   1373  2021-07-31    Samedi    soir  293.83      293.55    292.49   \n",
       "\n",
       "      temp_max  wind_speed  clouds_all  ... Match Happening  \\\n",
       "1318    296.82        0.89           0  ...             0.0   \n",
       "1319    297.38        2.24          40  ...             0.0   \n",
       "1320    295.71        1.34           0  ...             0.0   \n",
       "1321    295.59        0.45           0  ...             0.0   \n",
       "1322    294.77        0.89          40  ...             0.0   \n",
       "\n",
       "     Match Happening-CL         Clear            Clouds Drizzle  \\\n",
       "1318                0.0  sky is clear                 0       0   \n",
       "1319                0.0             0  scattered clouds       0   \n",
       "1320                0.0  sky is clear                 0       0   \n",
       "1321                0.0  sky is clear                 0       0   \n",
       "1322                0.0             0  scattered clouds       0   \n",
       "\n",
       "     Drizzle and Rain Fog Mist Rain Thunderstorm  \n",
       "1318                0   0    0    0            0  \n",
       "1319                0   0    0    0            0  \n",
       "1320                0   0    0    0            0  \n",
       "1321                0   0    0    0            0  \n",
       "1322                0   0    0    0            0  \n",
       "\n",
       "[5 rows x 25 columns]"
      ]
     },
     "execution_count": 69,
     "metadata": {},
     "output_type": "execute_result"
    }
   ],
   "source": [
    "X_d2.tail()"
   ]
  },
  {
   "cell_type": "code",
   "execution_count": 70,
   "metadata": {
    "ExecuteTime": {
     "end_time": "2021-08-25T15:56:38.663953Z",
     "start_time": "2021-08-25T15:56:38.640136Z"
    },
    "colab": {
     "base_uri": "https://localhost:8080/"
    },
    "id": "-yiEsiY5urqF",
    "outputId": "f93081e7-7cdc-4652-f743-b57ec6cca023"
   },
   "outputs": [
    {
     "data": {
      "text/plain": [
       "0        8345.0\n",
       "1        3939.0\n",
       "2        9045.5\n",
       "3        4836.0\n",
       "4       10024.0\n",
       "         ...   \n",
       "1318     7230.0\n",
       "1319     2104.0\n",
       "1320     9816.5\n",
       "1321     1202.5\n",
       "1322     8160.5\n",
       "Name: CA_TTC, Length: 1323, dtype: float64"
      ]
     },
     "execution_count": 70,
     "metadata": {},
     "output_type": "execute_result"
    }
   ],
   "source": [
    "y_d2"
   ]
  },
  {
   "cell_type": "code",
   "execution_count": 71,
   "metadata": {
    "ExecuteTime": {
     "end_time": "2021-08-25T15:56:39.642758Z",
     "start_time": "2021-08-25T15:56:38.749270Z"
    },
    "colab": {
     "base_uri": "https://localhost:8080/"
    },
    "id": "PHcTP9n-wwUJ",
    "outputId": "5b02c4c6-9fc8-4768-b3f4-01f46bcb4176"
   },
   "outputs": [
    {
     "data": {
      "text/plain": [
       "-0.3882767055207269"
      ]
     },
     "execution_count": 71,
     "metadata": {},
     "output_type": "execute_result"
    }
   ],
   "source": [
    "from sklearn.dummy import DummyRegressor\n",
    "\n",
    "model_dummy = DummyRegressor(strategy = 'median')\n",
    "pipe_dummy = make_pipeline(preproc, model_dummy)\n",
    "cross_val_score(pipe_dummy, X_d2, y_d2, cv=20).mean()"
   ]
  },
  {
   "cell_type": "code",
   "execution_count": 75,
   "metadata": {
    "ExecuteTime": {
     "end_time": "2021-08-25T15:57:16.630825Z",
     "start_time": "2021-08-25T15:57:15.721445Z"
    },
    "colab": {
     "base_uri": "https://localhost:8080/"
    },
    "id": "edKjt-qUqtrm",
    "outputId": "e4c76b53-1391-40c5-b7d7-9abfe85523a3"
   },
   "outputs": [
    {
     "data": {
      "text/plain": [
       "0.20185861639956681"
      ]
     },
     "execution_count": 75,
     "metadata": {},
     "output_type": "execute_result"
    }
   ],
   "source": [
    "model_ridge = Ridge()\n",
    "pipe_ridge = make_pipeline(preproc, model_ridge)\n",
    "cross_val_score(pipe_ridge, X_d2, y_d2, cv=20).mean()"
   ]
  },
  {
   "cell_type": "code",
   "execution_count": 76,
   "metadata": {
    "ExecuteTime": {
     "end_time": "2021-08-25T15:57:16.936719Z",
     "start_time": "2021-08-25T15:57:16.911312Z"
    }
   },
   "outputs": [],
   "source": [
    "from xgboost import XGBRegressor"
   ]
  },
  {
   "cell_type": "code",
   "execution_count": 82,
   "metadata": {
    "ExecuteTime": {
     "end_time": "2021-08-25T15:59:43.164982Z",
     "start_time": "2021-08-25T15:59:07.702329Z"
    }
   },
   "outputs": [],
   "source": [
    "model_xgb = XGBRegressor(max_depth=10, n_estimators=300, learning_rate=0.05)\n",
    "pipe_xgb = make_pipeline(preproc, model_xgb)\n",
    "score=cross_val_score(pipe_xgb,X_d2,y_d2,cv=20,n_jobs=-1).mean()"
   ]
  },
  {
   "cell_type": "code",
   "execution_count": 83,
   "metadata": {
    "ExecuteTime": {
     "end_time": "2021-08-25T15:59:43.198822Z",
     "start_time": "2021-08-25T15:59:43.167381Z"
    }
   },
   "outputs": [
    {
     "data": {
      "text/plain": [
       "0.13526168997668644"
      ]
     },
     "execution_count": 83,
     "metadata": {},
     "output_type": "execute_result"
    }
   ],
   "source": [
    "score"
   ]
  },
  {
   "cell_type": "code",
   "execution_count": 86,
   "metadata": {
    "ExecuteTime": {
     "end_time": "2021-08-25T16:11:33.954837Z",
     "start_time": "2021-08-25T16:11:22.335811Z"
    }
   },
   "outputs": [
    {
     "name": "stdout",
     "output_type": "stream",
     "text": [
      "1.2611635063486146\n"
     ]
    },
    {
     "data": {
      "text/plain": [
       "0.24148674911595633"
      ]
     },
     "execution_count": 86,
     "metadata": {},
     "output_type": "execute_result"
    }
   ],
   "source": [
    "model = RandomForestRegressor(max_depth=50,min_samples_leaf=20)\n",
    "pipe = make_pipeline(preproc, model)\n",
    "score = cross_val_score(pipe, X_d2, y_d2, cv=20)\n",
    "print(score.std())\n",
    "score.mean()"
   ]
  },
  {
   "cell_type": "code",
   "execution_count": 92,
   "metadata": {
    "ExecuteTime": {
     "end_time": "2021-08-25T16:21:44.338962Z",
     "start_time": "2021-08-25T16:21:43.410462Z"
    }
   },
   "outputs": [
    {
     "name": "stdout",
     "output_type": "stream",
     "text": [
      "1.3074615846355822\n"
     ]
    },
    {
     "data": {
      "text/plain": [
       "0.15537504839566"
      ]
     },
     "execution_count": 92,
     "metadata": {},
     "output_type": "execute_result"
    }
   ],
   "source": [
    "from sklearn.tree import DecisionTreeRegressor\n",
    "\n",
    "model = DecisionTreeRegressor(max_depth=50, min_samples_leaf=20)\n",
    "pipe = make_pipeline(preproc, model)\n",
    "score = cross_val_score(pipe, X_d2, y_d2, cv=20)\n",
    "print(score.std())\n",
    "score.mean()"
   ]
  },
  {
   "cell_type": "code",
   "execution_count": 88,
   "metadata": {
    "ExecuteTime": {
     "end_time": "2021-08-25T16:15:45.566141Z",
     "start_time": "2021-08-25T16:15:10.731582Z"
    }
   },
   "outputs": [
    {
     "name": "stdout",
     "output_type": "stream",
     "text": [
      "1.412343083348557\n"
     ]
    },
    {
     "data": {
      "text/plain": [
       "0.11462583702827192"
      ]
     },
     "execution_count": 88,
     "metadata": {},
     "output_type": "execute_result"
    }
   ],
   "source": [
    "model = AdaBoostRegressor(\n",
    "    base_estimator=DecisionTreeRegressor(max_depth=None))\n",
    "\n",
    "pipe = make_pipeline(preproc, model)\n",
    "score = cross_val_score(pipe, X_d2, y_d2, cv=20)\n",
    "print(score.std())\n",
    "score.mean()"
   ]
  },
  {
   "cell_type": "code",
   "execution_count": 90,
   "metadata": {
    "ExecuteTime": {
     "end_time": "2021-08-25T16:19:55.560993Z",
     "start_time": "2021-08-25T16:19:48.750649Z"
    }
   },
   "outputs": [
    {
     "name": "stdout",
     "output_type": "stream",
     "text": [
      "1.2423930852683374\n"
     ]
    },
    {
     "data": {
      "text/plain": [
       "0.21865649803559933"
      ]
     },
     "execution_count": 90,
     "metadata": {},
     "output_type": "execute_result"
    }
   ],
   "source": [
    "model = GradientBoostingRegressor(n_estimators=100, verbose=0)\n",
    "pipe_gb = make_pipeline(preproc, model)\n",
    "score = cross_val_score(pipe_gb, X_d2, y_d2, cv=20)\n",
    "print(score.std())\n",
    "score.mean()"
   ]
  },
  {
   "cell_type": "code",
   "execution_count": 91,
   "metadata": {
    "ExecuteTime": {
     "end_time": "2021-08-25T16:21:00.399602Z",
     "start_time": "2021-08-25T16:20:33.768339Z"
    }
   },
   "outputs": [
    {
     "name": "stdout",
     "output_type": "stream",
     "text": [
      "1.0408299679716935\n"
     ]
    },
    {
     "data": {
      "text/plain": [
       "0.2558758132495508"
      ]
     },
     "execution_count": 91,
     "metadata": {},
     "output_type": "execute_result"
    }
   ],
   "source": [
    "gboost = GradientBoostingRegressor(n_estimators=100)\n",
    "ridge = Ridge()\n",
    "svm = SVR(C=1, epsilon=0.05)\n",
    "adaboost = AdaBoostRegressor(base_estimator=DecisionTreeRegressor(max_depth=None))\n",
    "\n",
    "\n",
    "model = VotingRegressor(\n",
    "    estimators = [(\"gboost\", gboost),(\"adaboost\", adaboost),(\"ridge\", ridge), (\"svm_rbf\", svm)],\n",
    "    weights = [1,1,1,1], # to equally weight the two models\n",
    "    n_jobs=-1\n",
    ")\n",
    "\n",
    "pipe_ensemble = make_pipeline(preproc, model)\n",
    "\n",
    "score = cross_val_score(pipe_ensemble, X_d2, y_d2, cv=20, n_jobs=-1)\n",
    "print(score.std())\n",
    "score.mean()"
   ]
  },
  {
   "cell_type": "code",
   "execution_count": null,
   "metadata": {
    "ExecuteTime": {
     "end_time": "2021-08-25T15:56:39.704272Z",
     "start_time": "2021-08-25T15:56:39.704256Z"
    },
    "id": "rJsBw1xBZVQQ"
   },
   "outputs": [],
   "source": [
    "#pipe_ridge.get_params()"
   ]
  },
  {
   "cell_type": "code",
   "execution_count": null,
   "metadata": {
    "ExecuteTime": {
     "end_time": "2021-08-25T15:56:39.705862Z",
     "start_time": "2021-08-25T15:56:39.705838Z"
    },
    "id": "Mm9fw1avZeJm"
   },
   "outputs": [],
   "source": [
    "from sklearn.model_selection import GridSearchCV\n",
    "run_test = False\n",
    "if run_test == True:\n",
    "  grid_search = GridSearchCV(\n",
    "      pipe, \n",
    "      param_grid={'imputer__n_neighbors': [4,5,6]\n",
    "      },\n",
    "      cv=5,\n",
    "      scoring=\"accuracy\")\n",
    "\n",
    "  grid_search.fit(X, y)\n",
    "  grid_search.best_params_"
   ]
  },
  {
   "cell_type": "code",
   "execution_count": 73,
   "metadata": {
    "ExecuteTime": {
     "end_time": "2021-08-25T15:56:40.147893Z",
     "start_time": "2021-08-25T15:56:40.124358Z"
    },
    "id": "4g0DyH3vZgtL"
   },
   "outputs": [],
   "source": [
    "run_test = False\n",
    "if run_test == True:\n",
    "  tuned_pipe = grid_search.best_estimator_\n",
    "  tuned_pipe"
   ]
  },
  {
   "cell_type": "code",
   "execution_count": 74,
   "metadata": {
    "ExecuteTime": {
     "end_time": "2021-08-25T15:56:40.656610Z",
     "start_time": "2021-08-25T15:56:40.623989Z"
    },
    "id": "j5Z_QAnUaNDI"
   },
   "outputs": [],
   "source": [
    "from sklearn.model_selection import cross_validate\n",
    "run_test = False\n",
    "if run_test == True:\n",
    "  cv_results = cross_validate(tuned_pipe, X,y, cv = 20, scoring = \"accuracy\")\n",
    "  base_score = cv_results['test_score'].mean()\n",
    "  base_score"
   ]
  }
 ],
 "metadata": {
  "colab": {
   "collapsed_sections": [],
   "name": "resto_project_model.ipynb",
   "provenance": []
  },
  "kernelspec": {
   "display_name": "Python 3 (ipykernel)",
   "language": "python",
   "name": "python3"
  },
  "language_info": {
   "codemirror_mode": {
    "name": "ipython",
    "version": 3
   },
   "file_extension": ".py",
   "mimetype": "text/x-python",
   "name": "python",
   "nbconvert_exporter": "python",
   "pygments_lexer": "ipython3",
   "version": "3.8.6"
  },
  "toc": {
   "base_numbering": 1,
   "nav_menu": {},
   "number_sections": true,
   "sideBar": true,
   "skip_h1_title": false,
   "title_cell": "Table of Contents",
   "title_sidebar": "Contents",
   "toc_cell": false,
   "toc_position": {},
   "toc_section_display": true,
   "toc_window_display": false
  }
 },
 "nbformat": 4,
 "nbformat_minor": 1
}
