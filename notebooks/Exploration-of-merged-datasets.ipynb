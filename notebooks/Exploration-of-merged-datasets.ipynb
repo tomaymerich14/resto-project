{
 "cells": [
  {
   "cell_type": "code",
   "execution_count": 1,
   "id": "0cd65ade",
   "metadata": {
    "ExecuteTime": {
     "end_time": "2021-08-24T14:07:04.356151Z",
     "start_time": "2021-08-24T14:07:04.350017Z"
    }
   },
   "outputs": [],
   "source": [
    "import pyforest"
   ]
  },
  {
   "cell_type": "code",
   "execution_count": 9,
   "id": "ab9c5f5c",
   "metadata": {
    "ExecuteTime": {
     "end_time": "2021-08-24T15:15:55.857440Z",
     "start_time": "2021-08-24T15:15:55.820762Z"
    }
   },
   "outputs": [
    {
     "data": {
      "application/javascript": [
       "\n",
       "        if (window._pyforest_update_imports_cell) { window._pyforest_update_imports_cell('import seaborn as sns\\nimport pandas as pd'); }\n",
       "    "
      ],
      "text/plain": [
       "<IPython.core.display.Javascript object>"
      ]
     },
     "metadata": {},
     "output_type": "display_data"
    },
    {
     "data": {
      "application/javascript": [
       "\n",
       "        if (window._pyforest_update_imports_cell) { window._pyforest_update_imports_cell('import seaborn as sns\\nimport pandas as pd'); }\n",
       "    "
      ],
      "text/plain": [
       "<IPython.core.display.Javascript object>"
      ]
     },
     "metadata": {},
     "output_type": "display_data"
    }
   ],
   "source": [
    "dataset_d2=pd.read_csv('/Users/monmac/Desktop/preproc_data_d2.csv').fillna('0.0')\n",
    "dataset_d16=pd.read_csv('/Users/monmac/Desktop/preproc_data_d16.csv').fillna('0.0')"
   ]
  },
  {
   "cell_type": "code",
   "execution_count": 3,
   "id": "cb3bad28",
   "metadata": {
    "ExecuteTime": {
     "end_time": "2021-08-24T14:07:06.659481Z",
     "start_time": "2021-08-24T14:07:05.256185Z"
    }
   },
   "outputs": [
    {
     "data": {
      "application/javascript": [
       "\n",
       "        if (window._pyforest_update_imports_cell) { window._pyforest_update_imports_cell('import seaborn as sns\\nimport pandas as pd'); }\n",
       "    "
      ],
      "text/plain": [
       "<IPython.core.display.Javascript object>"
      ]
     },
     "metadata": {},
     "output_type": "display_data"
    },
    {
     "data": {
      "text/plain": [
       "<AxesSubplot:>"
      ]
     },
     "execution_count": 3,
     "metadata": {},
     "output_type": "execute_result"
    },
    {
     "data": {
      "image/png": "[encoded data removed]",
      "text/plain": [
       "<Figure size 432x288 with 2 Axes>"
      ]
     },
     "metadata": {
      "needs_background": "light"
     },
     "output_type": "display_data"
    }
   ],
   "source": [
    "sns.heatmap(dataset_d2.corr())"
   ]
  },
  {
   "cell_type": "code",
   "execution_count": 4,
   "id": "3e04cc9b",
   "metadata": {
    "ExecuteTime": {
     "end_time": "2021-08-24T14:07:06.703555Z",
     "start_time": "2021-08-24T14:07:06.664162Z"
    }
   },
   "outputs": [
    {
     "data": {
      "text/html": [
       "<div>\n",
       "<style scoped>\n",
       "    .dataframe tbody tr th:only-of-type {\n",
       "        vertical-align: middle;\n",
       "    }\n",
       "\n",
       "    .dataframe tbody tr th {\n",
       "        vertical-align: top;\n",
       "    }\n",
       "\n",
       "    .dataframe thead th {\n",
       "        text-align: right;\n",
       "    }\n",
       "</style>\n",
       "<table border=\"1\" class=\"dataframe\">\n",
       "  <thead>\n",
       "    <tr style=\"text-align: right;\">\n",
       "      <th></th>\n",
       "      <th>CA_TTC</th>\n",
       "      <th>CA_HT</th>\n",
       "      <th>TVA</th>\n",
       "      <th>temp</th>\n",
       "      <th>feels_like</th>\n",
       "      <th>temp_min</th>\n",
       "      <th>temp_max</th>\n",
       "      <th>wind_speed</th>\n",
       "      <th>clouds_all</th>\n",
       "      <th>match_edf</th>\n",
       "      <th>roland_garros</th>\n",
       "      <th>fashion_week</th>\n",
       "    </tr>\n",
       "  </thead>\n",
       "  <tbody>\n",
       "    <tr>\n",
       "      <th>CA_TTC</th>\n",
       "      <td>1.000000</td>\n",
       "      <td>0.999918</td>\n",
       "      <td>0.996183</td>\n",
       "      <td>-0.280482</td>\n",
       "      <td>-0.277086</td>\n",
       "      <td>-0.287952</td>\n",
       "      <td>-0.287704</td>\n",
       "      <td>-0.017805</td>\n",
       "      <td>0.007681</td>\n",
       "      <td>0.073068</td>\n",
       "      <td>0.007936</td>\n",
       "      <td>0.100139</td>\n",
       "    </tr>\n",
       "    <tr>\n",
       "      <th>CA_HT</th>\n",
       "      <td>0.999918</td>\n",
       "      <td>1.000000</td>\n",
       "      <td>0.994986</td>\n",
       "      <td>-0.281207</td>\n",
       "      <td>-0.277789</td>\n",
       "      <td>-0.288598</td>\n",
       "      <td>-0.288326</td>\n",
       "      <td>-0.017805</td>\n",
       "      <td>0.009344</td>\n",
       "      <td>0.072354</td>\n",
       "      <td>0.008229</td>\n",
       "      <td>0.100996</td>\n",
       "    </tr>\n",
       "    <tr>\n",
       "      <th>TVA</th>\n",
       "      <td>0.996183</td>\n",
       "      <td>0.994986</td>\n",
       "      <td>1.000000</td>\n",
       "      <td>-0.274303</td>\n",
       "      <td>-0.271072</td>\n",
       "      <td>-0.282280</td>\n",
       "      <td>-0.282196</td>\n",
       "      <td>-0.017728</td>\n",
       "      <td>-0.003711</td>\n",
       "      <td>0.077626</td>\n",
       "      <td>0.005901</td>\n",
       "      <td>0.093845</td>\n",
       "    </tr>\n",
       "    <tr>\n",
       "      <th>temp</th>\n",
       "      <td>-0.280482</td>\n",
       "      <td>-0.281207</td>\n",
       "      <td>-0.274303</td>\n",
       "      <td>1.000000</td>\n",
       "      <td>0.996540</td>\n",
       "      <td>0.991921</td>\n",
       "      <td>0.996932</td>\n",
       "      <td>-0.009231</td>\n",
       "      <td>-0.431221</td>\n",
       "      <td>0.009606</td>\n",
       "      <td>0.064278</td>\n",
       "      <td>-0.089820</td>\n",
       "    </tr>\n",
       "    <tr>\n",
       "      <th>feels_like</th>\n",
       "      <td>-0.277086</td>\n",
       "      <td>-0.277789</td>\n",
       "      <td>-0.271072</td>\n",
       "      <td>0.996540</td>\n",
       "      <td>1.000000</td>\n",
       "      <td>0.988190</td>\n",
       "      <td>0.993903</td>\n",
       "      <td>-0.035426</td>\n",
       "      <td>-0.411783</td>\n",
       "      <td>0.009534</td>\n",
       "      <td>0.068359</td>\n",
       "      <td>-0.086682</td>\n",
       "    </tr>\n",
       "    <tr>\n",
       "      <th>temp_min</th>\n",
       "      <td>-0.287952</td>\n",
       "      <td>-0.288598</td>\n",
       "      <td>-0.282280</td>\n",
       "      <td>0.991921</td>\n",
       "      <td>0.988190</td>\n",
       "      <td>1.000000</td>\n",
       "      <td>0.984595</td>\n",
       "      <td>-0.010135</td>\n",
       "      <td>-0.426812</td>\n",
       "      <td>0.005235</td>\n",
       "      <td>0.066318</td>\n",
       "      <td>-0.083551</td>\n",
       "    </tr>\n",
       "    <tr>\n",
       "      <th>temp_max</th>\n",
       "      <td>-0.287704</td>\n",
       "      <td>-0.288326</td>\n",
       "      <td>-0.282196</td>\n",
       "      <td>0.996932</td>\n",
       "      <td>0.993903</td>\n",
       "      <td>0.984595</td>\n",
       "      <td>1.000000</td>\n",
       "      <td>-0.014678</td>\n",
       "      <td>-0.424555</td>\n",
       "      <td>0.010367</td>\n",
       "      <td>0.066710</td>\n",
       "      <td>-0.089704</td>\n",
       "    </tr>\n",
       "    <tr>\n",
       "      <th>wind_speed</th>\n",
       "      <td>-0.017805</td>\n",
       "      <td>-0.017805</td>\n",
       "      <td>-0.017728</td>\n",
       "      <td>-0.009231</td>\n",
       "      <td>-0.035426</td>\n",
       "      <td>-0.010135</td>\n",
       "      <td>-0.014678</td>\n",
       "      <td>1.000000</td>\n",
       "      <td>0.075786</td>\n",
       "      <td>0.056363</td>\n",
       "      <td>-0.028248</td>\n",
       "      <td>0.031234</td>\n",
       "    </tr>\n",
       "    <tr>\n",
       "      <th>clouds_all</th>\n",
       "      <td>0.007681</td>\n",
       "      <td>0.009344</td>\n",
       "      <td>-0.003711</td>\n",
       "      <td>-0.431221</td>\n",
       "      <td>-0.411783</td>\n",
       "      <td>-0.426812</td>\n",
       "      <td>-0.424555</td>\n",
       "      <td>0.075786</td>\n",
       "      <td>1.000000</td>\n",
       "      <td>-0.010601</td>\n",
       "      <td>0.023896</td>\n",
       "      <td>0.100912</td>\n",
       "    </tr>\n",
       "    <tr>\n",
       "      <th>match_edf</th>\n",
       "      <td>0.073068</td>\n",
       "      <td>0.072354</td>\n",
       "      <td>0.077626</td>\n",
       "      <td>0.009606</td>\n",
       "      <td>0.009534</td>\n",
       "      <td>0.005235</td>\n",
       "      <td>0.010367</td>\n",
       "      <td>0.056363</td>\n",
       "      <td>-0.010601</td>\n",
       "      <td>1.000000</td>\n",
       "      <td>0.072634</td>\n",
       "      <td>-0.024250</td>\n",
       "    </tr>\n",
       "    <tr>\n",
       "      <th>roland_garros</th>\n",
       "      <td>0.007936</td>\n",
       "      <td>0.008229</td>\n",
       "      <td>0.005901</td>\n",
       "      <td>0.064278</td>\n",
       "      <td>0.068359</td>\n",
       "      <td>0.066318</td>\n",
       "      <td>0.066710</td>\n",
       "      <td>-0.028248</td>\n",
       "      <td>0.023896</td>\n",
       "      <td>0.072634</td>\n",
       "      <td>1.000000</td>\n",
       "      <td>0.094771</td>\n",
       "    </tr>\n",
       "    <tr>\n",
       "      <th>fashion_week</th>\n",
       "      <td>0.100139</td>\n",
       "      <td>0.100996</td>\n",
       "      <td>0.093845</td>\n",
       "      <td>-0.089820</td>\n",
       "      <td>-0.086682</td>\n",
       "      <td>-0.083551</td>\n",
       "      <td>-0.089704</td>\n",
       "      <td>0.031234</td>\n",
       "      <td>0.100912</td>\n",
       "      <td>-0.024250</td>\n",
       "      <td>0.094771</td>\n",
       "      <td>1.000000</td>\n",
       "    </tr>\n",
       "  </tbody>\n",
       "</table>\n",
       "</div>"
      ],
      "text/plain": [
       "                 CA_TTC     CA_HT       TVA      temp  feels_like  temp_min  \\\n",
       "CA_TTC         1.000000  0.999918  0.996183 -0.280482   -0.277086 -0.287952   \n",
       "CA_HT          0.999918  1.000000  0.994986 -0.281207   -0.277789 -0.288598   \n",
       "TVA            0.996183  0.994986  1.000000 -0.274303   -0.271072 -0.282280   \n",
       "temp          -0.280482 -0.281207 -0.274303  1.000000    0.996540  0.991921   \n",
       "feels_like    -0.277086 -0.277789 -0.271072  0.996540    1.000000  0.988190   \n",
       "temp_min      -0.287952 -0.288598 -0.282280  0.991921    0.988190  1.000000   \n",
       "temp_max      -0.287704 -0.288326 -0.282196  0.996932    0.993903  0.984595   \n",
       "wind_speed    -0.017805 -0.017805 -0.017728 -0.009231   -0.035426 -0.010135   \n",
       "clouds_all     0.007681  0.009344 -0.003711 -0.431221   -0.411783 -0.426812   \n",
       "match_edf      0.073068  0.072354  0.077626  0.009606    0.009534  0.005235   \n",
       "roland_garros  0.007936  0.008229  0.005901  0.064278    0.068359  0.066318   \n",
       "fashion_week   0.100139  0.100996  0.093845 -0.089820   -0.086682 -0.083551   \n",
       "\n",
       "               temp_max  wind_speed  clouds_all  match_edf  roland_garros  \\\n",
       "CA_TTC        -0.287704   -0.017805    0.007681   0.073068       0.007936   \n",
       "CA_HT         -0.288326   -0.017805    0.009344   0.072354       0.008229   \n",
       "TVA           -0.282196   -0.017728   -0.003711   0.077626       0.005901   \n",
       "temp           0.996932   -0.009231   -0.431221   0.009606       0.064278   \n",
       "feels_like     0.993903   -0.035426   -0.411783   0.009534       0.068359   \n",
       "temp_min       0.984595   -0.010135   -0.426812   0.005235       0.066318   \n",
       "temp_max       1.000000   -0.014678   -0.424555   0.010367       0.066710   \n",
       "wind_speed    -0.014678    1.000000    0.075786   0.056363      -0.028248   \n",
       "clouds_all    -0.424555    0.075786    1.000000  -0.010601       0.023896   \n",
       "match_edf      0.010367    0.056363   -0.010601   1.000000       0.072634   \n",
       "roland_garros  0.066710   -0.028248    0.023896   0.072634       1.000000   \n",
       "fashion_week  -0.089704    0.031234    0.100912  -0.024250       0.094771   \n",
       "\n",
       "               fashion_week  \n",
       "CA_TTC             0.100139  \n",
       "CA_HT              0.100996  \n",
       "TVA                0.093845  \n",
       "temp              -0.089820  \n",
       "feels_like        -0.086682  \n",
       "temp_min          -0.083551  \n",
       "temp_max          -0.089704  \n",
       "wind_speed         0.031234  \n",
       "clouds_all         0.100912  \n",
       "match_edf         -0.024250  \n",
       "roland_garros      0.094771  \n",
       "fashion_week       1.000000  "
      ]
     },
     "execution_count": 4,
     "metadata": {},
     "output_type": "execute_result"
    }
   ],
   "source": [
    "dataset_d2.corr()"
   ]
  },
  {
   "cell_type": "code",
   "execution_count": 7,
   "id": "6a8f7e95",
   "metadata": {
    "ExecuteTime": {
     "end_time": "2021-08-24T15:15:36.212952Z",
     "start_time": "2021-08-24T15:15:36.198970Z"
    }
   },
   "outputs": [
    {
     "data": {
      "text/plain": [
       "sky is clear                    533\n",
       "light rain                      232\n",
       "overcast clouds                 196\n",
       "broken clouds                   174\n",
       "few clouds                       49\n",
       "moderate rain                    44\n",
       "mist                             41\n",
       "scattered clouds                 37\n",
       "light intensity drizzle          17\n",
       "light intensity shower rain      12\n",
       "light intensity drizzle rain     11\n",
       "thunderstorm                      7\n",
       "drizzle                           5\n",
       "heavy intensity rain              5\n",
       "fog                               2\n",
       "proximity thunderstorm            2\n",
       "light snow                        2\n",
       "thunderstorm with light rain      2\n",
       "thunderstorm with heavy rain      1\n",
       "rain and drizzle                  1\n",
       "heavy intensity drizzle           1\n",
       "Name: weather_description, dtype: int64"
      ]
     },
     "execution_count": 7,
     "metadata": {},
     "output_type": "execute_result"
    }
   ],
   "source": [
    "dataset_d2['weather_description'].value_counts()"
   ]
  },
  {
   "cell_type": "code",
   "execution_count": 10,
   "id": "13332b79",
   "metadata": {
    "ExecuteTime": {
     "end_time": "2021-08-24T15:15:59.151416Z",
     "start_time": "2021-08-24T15:15:59.141093Z"
    }
   },
   "outputs": [
    {
     "data": {
      "text/plain": [
       "sky is clear                    303\n",
       "light rain                      147\n",
       "overcast clouds                 139\n",
       "broken clouds                   128\n",
       "few clouds                       31\n",
       "moderate rain                    29\n",
       "mist                             29\n",
       "scattered clouds                 20\n",
       "light intensity drizzle          10\n",
       "light intensity drizzle rain      9\n",
       "light intensity shower rain       7\n",
       "drizzle                           4\n",
       "thunderstorm                      3\n",
       "heavy intensity rain              3\n",
       "thunderstorm with light rain      2\n",
       "rain and drizzle                  1\n",
       "heavy intensity drizzle           1\n",
       "fog                               1\n",
       "haze                              1\n",
       "Name: weather_description, dtype: int64"
      ]
     },
     "execution_count": 10,
     "metadata": {},
     "output_type": "execute_result"
    }
   ],
   "source": [
    "dataset_d16['weather_description'].value_counts()"
   ]
  },
  {
   "cell_type": "code",
   "execution_count": null,
   "id": "91269444",
   "metadata": {},
   "outputs": [],
   "source": []
  }
 ],
 "metadata": {
  "kernelspec": {
   "display_name": "Python 3 (ipykernel)",
   "language": "python",
   "name": "python3"
  },
  "language_info": {
   "codemirror_mode": {
    "name": "ipython",
    "version": 3
   },
   "file_extension": ".py",
   "mimetype": "text/x-python",
   "name": "python",
   "nbconvert_exporter": "python",
   "pygments_lexer": "ipython3",
   "version": "3.8.6"
  },
  "toc": {
   "base_numbering": 1,
   "nav_menu": {},
   "number_sections": true,
   "sideBar": true,
   "skip_h1_title": false,
   "title_cell": "Table of Contents",
   "title_sidebar": "Contents",
   "toc_cell": false,
   "toc_position": {},
   "toc_section_display": true,
   "toc_window_display": false
  }
 },
 "nbformat": 4,
 "nbformat_minor": 5
}
