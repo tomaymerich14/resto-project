{
 "cells": [
  {
   "cell_type": "code",
   "execution_count": 1,
   "id": "481fb7e0",
   "metadata": {
    "ExecuteTime": {
     "end_time": "2021-08-27T15:24:54.619986Z",
     "start_time": "2021-08-27T15:24:54.615814Z"
    }
   },
   "outputs": [],
   "source": [
    "X=-1.2"
   ]
  },
  {
   "cell_type": "code",
   "execution_count": 2,
   "id": "403ac4ec",
   "metadata": {
    "ExecuteTime": {
     "end_time": "2021-08-27T15:24:59.852585Z",
     "start_time": "2021-08-27T15:24:59.726891Z"
    }
   },
   "outputs": [],
   "source": [
    "import numpy as np"
   ]
  },
  {
   "cell_type": "code",
   "execution_count": 3,
   "id": "93c19eef",
   "metadata": {
    "ExecuteTime": {
     "end_time": "2021-08-27T15:25:02.619190Z",
     "start_time": "2021-08-27T15:25:02.605230Z"
    }
   },
   "outputs": [
    {
     "data": {
      "text/plain": [
       "1.2"
      ]
     },
     "execution_count": 3,
     "metadata": {},
     "output_type": "execute_result"
    }
   ],
   "source": [
    "np.abs(X)"
   ]
  },
  {
   "cell_type": "code",
   "execution_count": null,
   "id": "8c2ae678",
   "metadata": {},
   "outputs": [],
   "source": [
    "pd.DataFrame(data=)"
   ]
  }
 ],
 "metadata": {
  "kernelspec": {
   "display_name": "Python 3 (ipykernel)",
   "language": "python",
   "name": "python3"
  },
  "language_info": {
   "codemirror_mode": {
    "name": "ipython",
    "version": 3
   },
   "file_extension": ".py",
   "mimetype": "text/x-python",
   "name": "python",
   "nbconvert_exporter": "python",
   "pygments_lexer": "ipython3",
   "version": "3.8.6"
  },
  "toc": {
   "base_numbering": 1,
   "nav_menu": {},
   "number_sections": true,
   "sideBar": true,
   "skip_h1_title": false,
   "title_cell": "Table of Contents",
   "title_sidebar": "Contents",
   "toc_cell": false,
   "toc_position": {},
   "toc_section_display": true,
   "toc_window_display": false
  }
 },
 "nbformat": 4,
 "nbformat_minor": 5
}
