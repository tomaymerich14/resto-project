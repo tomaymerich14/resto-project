{
 "cells": [
  {
   "cell_type": "markdown",
   "metadata": {
    "id": "EO7nrAd0cYlH"
   },
   "source": [
    "# INSTALLATIONS"
   ]
  },
  {
   "cell_type": "markdown",
   "metadata": {
    "id": "GJRtYEURlGr-"
   },
   "source": []
  },
  {
   "cell_type": "code",
   "execution_count": 1,
   "metadata": {
    "ExecuteTime": {
     "end_time": "2021-08-31T15:34:47.832447Z",
     "start_time": "2021-08-31T15:34:47.830111Z"
    },
    "id": "zyaFtfLXUGvd"
   },
   "outputs": [],
   "source": [
    "install = True\n",
    "run_test = True"
   ]
  },
  {
   "cell_type": "code",
   "execution_count": 2,
   "metadata": {
    "ExecuteTime": {
     "end_time": "2021-08-31T15:34:47.846866Z",
     "start_time": "2021-08-31T15:34:47.834065Z"
    },
    "id": "E2Lm7GZlVea2"
   },
   "outputs": [],
   "source": [
    "%load_ext autoreload\n",
    "%autoreload 2"
   ]
  },
  {
   "cell_type": "code",
   "execution_count": 3,
   "metadata": {
    "ExecuteTime": {
     "end_time": "2021-08-31T15:34:48.888760Z",
     "start_time": "2021-08-31T15:34:47.848286Z"
    },
    "id": "ioKg_73kURt5"
   },
   "outputs": [],
   "source": [
    "import pandas as pd\n",
    "import numpy as np\n",
    "import matplotlib.pyplot as plt\n",
    "import seaborn as sns\n",
    "from sklearn import set_config; set_config(display='diagram')"
   ]
  },
  {
   "cell_type": "code",
   "execution_count": 4,
   "metadata": {
    "ExecuteTime": {
     "end_time": "2021-08-31T15:34:48.982931Z",
     "start_time": "2021-08-31T15:34:48.889706Z"
    },
    "id": "JtXzfilRUa43"
   },
   "outputs": [],
   "source": [
    "install = True\n",
    "if install == True:\n",
    "  from scipy import stats\n",
    "  from sklearn.model_selection import train_test_split\n",
    "  from sklearn.preprocessing import MinMaxScaler, StandardScaler\n",
    "  from sklearn.pipeline import Pipeline, make_pipeline\n",
    "  from sklearn.compose import ColumnTransformer, make_column_transformer, make_column_selector\n",
    "  from sklearn.impute import SimpleImputer, KNNImputer\n",
    "  from sklearn.preprocessing import RobustScaler, OneHotEncoder, OrdinalEncoder\n",
    "  from sklearn.metrics import make_scorer\n",
    "  from sklearn.model_selection import cross_val_score\n",
    "  from sklearn.neighbors import KNeighborsRegressor\n",
    "  from sklearn.linear_model import Ridge, Lasso, LinearRegression\n",
    "  from sklearn.svm import SVR\n",
    "  from sklearn.model_selection import GridSearchCV, RandomizedSearchCV\n",
    "  from sklearn.ensemble import AdaBoostRegressor\n",
    "  from sklearn.tree import DecisionTreeRegressor\n",
    "  from sklearn.ensemble import VotingRegressor\n",
    "  from sklearn.ensemble import GradientBoostingRegressor\n",
    "  from sklearn.ensemble import StackingRegressor\n",
    "  from sklearn.ensemble import RandomForestRegressor"
   ]
  },
  {
   "cell_type": "markdown",
   "metadata": {
    "id": "6PFfgRDocunq"
   },
   "source": [
    "# DEMANDE DU CLIENT"
   ]
  },
  {
   "cell_type": "markdown",
   "metadata": {
    "id": "fX7BFsFEc0-x"
   },
   "source": [
    "> Predire le CA de nos deux restaurants parisiens par jours et par services"
   ]
  },
  {
   "cell_type": "markdown",
   "metadata": {
    "id": "phqIgKBpc4og"
   },
   "source": [
    "# INITIALISATION DU PROJET"
   ]
  },
  {
   "cell_type": "code",
   "execution_count": 5,
   "metadata": {
    "ExecuteTime": {
     "end_time": "2021-08-31T15:34:49.027217Z",
     "start_time": "2021-08-31T15:34:48.984418Z"
    },
    "colab": {
     "base_uri": "https://localhost:8080/",
     "height": 309
    },
    "id": "y7wOJzqIVFEd",
    "outputId": "e341f970-df9f-47f0-80a1-ca6bd1efae1f"
   },
   "outputs": [
    {
     "data": {
      "text/html": [
       "<div>\n",
       "<style scoped>\n",
       "    .dataframe tbody tr th:only-of-type {\n",
       "        vertical-align: middle;\n",
       "    }\n",
       "\n",
       "    .dataframe tbody tr th {\n",
       "        vertical-align: top;\n",
       "    }\n",
       "\n",
       "    .dataframe thead th {\n",
       "        text-align: right;\n",
       "    }\n",
       "</style>\n",
       "<table border=\"1\" class=\"dataframe\">\n",
       "  <thead>\n",
       "    <tr style=\"text-align: right;\">\n",
       "      <th></th>\n",
       "      <th>date</th>\n",
       "      <th>jour</th>\n",
       "      <th>service</th>\n",
       "      <th>CA_TTC</th>\n",
       "      <th>moyen_7_services</th>\n",
       "      <th>moyen_31_services</th>\n",
       "      <th>moyenne_3der_j&amp;service</th>\n",
       "      <th>temp</th>\n",
       "      <th>feels_like</th>\n",
       "      <th>temp_min</th>\n",
       "      <th>...</th>\n",
       "      <th>cos_jour_de_sem</th>\n",
       "      <th>sin_jour_de_sem</th>\n",
       "      <th>cos_jour_du_mois</th>\n",
       "      <th>sin_jour_du_mois</th>\n",
       "      <th>cos_mois_de_annee</th>\n",
       "      <th>sin_mois_de_annee</th>\n",
       "      <th>cos_jour_annee</th>\n",
       "      <th>sin_jour_annee</th>\n",
       "      <th>cos_semaine_annee</th>\n",
       "      <th>sin_semaine_annee</th>\n",
       "    </tr>\n",
       "  </thead>\n",
       "  <tbody>\n",
       "    <tr>\n",
       "      <th>0</th>\n",
       "      <td>2019-09-01</td>\n",
       "      <td>Dimanche</td>\n",
       "      <td>soir</td>\n",
       "      <td>4577.10</td>\n",
       "      <td>NaN</td>\n",
       "      <td>NaN</td>\n",
       "      <td>NaN</td>\n",
       "      <td>293.37</td>\n",
       "      <td>292.60</td>\n",
       "      <td>291.95</td>\n",
       "      <td>...</td>\n",
       "      <td>1.000000</td>\n",
       "      <td>-2.449294e-16</td>\n",
       "      <td>0.979530</td>\n",
       "      <td>0.201299</td>\n",
       "      <td>-1.836970e-16</td>\n",
       "      <td>-1.0</td>\n",
       "      <td>-0.490029</td>\n",
       "      <td>-0.871706</td>\n",
       "      <td>-0.464723</td>\n",
       "      <td>-0.885456</td>\n",
       "    </tr>\n",
       "    <tr>\n",
       "      <th>1</th>\n",
       "      <td>2019-09-01</td>\n",
       "      <td>Dimanche</td>\n",
       "      <td>midi</td>\n",
       "      <td>3548.00</td>\n",
       "      <td>NaN</td>\n",
       "      <td>NaN</td>\n",
       "      <td>NaN</td>\n",
       "      <td>294.08</td>\n",
       "      <td>293.35</td>\n",
       "      <td>292.94</td>\n",
       "      <td>...</td>\n",
       "      <td>1.000000</td>\n",
       "      <td>-2.449294e-16</td>\n",
       "      <td>0.979530</td>\n",
       "      <td>0.201299</td>\n",
       "      <td>-1.836970e-16</td>\n",
       "      <td>-1.0</td>\n",
       "      <td>-0.490029</td>\n",
       "      <td>-0.871706</td>\n",
       "      <td>-0.464723</td>\n",
       "      <td>-0.885456</td>\n",
       "    </tr>\n",
       "    <tr>\n",
       "      <th>2</th>\n",
       "      <td>2019-09-02</td>\n",
       "      <td>Lundi</td>\n",
       "      <td>soir</td>\n",
       "      <td>5726.50</td>\n",
       "      <td>NaN</td>\n",
       "      <td>NaN</td>\n",
       "      <td>NaN</td>\n",
       "      <td>294.00</td>\n",
       "      <td>293.08</td>\n",
       "      <td>292.25</td>\n",
       "      <td>...</td>\n",
       "      <td>0.623490</td>\n",
       "      <td>7.818315e-01</td>\n",
       "      <td>0.918958</td>\n",
       "      <td>0.394356</td>\n",
       "      <td>-1.836970e-16</td>\n",
       "      <td>-1.0</td>\n",
       "      <td>-0.474951</td>\n",
       "      <td>-0.880012</td>\n",
       "      <td>-0.354605</td>\n",
       "      <td>-0.935016</td>\n",
       "    </tr>\n",
       "    <tr>\n",
       "      <th>3</th>\n",
       "      <td>2019-09-02</td>\n",
       "      <td>Lundi</td>\n",
       "      <td>midi</td>\n",
       "      <td>2089.00</td>\n",
       "      <td>NaN</td>\n",
       "      <td>NaN</td>\n",
       "      <td>NaN</td>\n",
       "      <td>294.26</td>\n",
       "      <td>293.47</td>\n",
       "      <td>292.71</td>\n",
       "      <td>...</td>\n",
       "      <td>0.623490</td>\n",
       "      <td>7.818315e-01</td>\n",
       "      <td>0.918958</td>\n",
       "      <td>0.394356</td>\n",
       "      <td>-1.836970e-16</td>\n",
       "      <td>-1.0</td>\n",
       "      <td>-0.474951</td>\n",
       "      <td>-0.880012</td>\n",
       "      <td>-0.354605</td>\n",
       "      <td>-0.935016</td>\n",
       "    </tr>\n",
       "    <tr>\n",
       "      <th>4</th>\n",
       "      <td>2019-09-03</td>\n",
       "      <td>Mardi</td>\n",
       "      <td>soir</td>\n",
       "      <td>6983.75</td>\n",
       "      <td>NaN</td>\n",
       "      <td>NaN</td>\n",
       "      <td>NaN</td>\n",
       "      <td>294.45</td>\n",
       "      <td>293.94</td>\n",
       "      <td>291.78</td>\n",
       "      <td>...</td>\n",
       "      <td>-0.222521</td>\n",
       "      <td>9.749279e-01</td>\n",
       "      <td>0.820763</td>\n",
       "      <td>0.571268</td>\n",
       "      <td>-1.836970e-16</td>\n",
       "      <td>-1.0</td>\n",
       "      <td>-0.459733</td>\n",
       "      <td>-0.888057</td>\n",
       "      <td>-0.354605</td>\n",
       "      <td>-0.935016</td>\n",
       "    </tr>\n",
       "  </tbody>\n",
       "</table>\n",
       "<p>5 rows × 37 columns</p>\n",
       "</div>"
      ],
      "text/plain": [
       "         date      jour service   CA_TTC  moyen_7_services  moyen_31_services  \\\n",
       "0  2019-09-01  Dimanche    soir  4577.10               NaN                NaN   \n",
       "1  2019-09-01  Dimanche    midi  3548.00               NaN                NaN   \n",
       "2  2019-09-02     Lundi    soir  5726.50               NaN                NaN   \n",
       "3  2019-09-02     Lundi    midi  2089.00               NaN                NaN   \n",
       "4  2019-09-03     Mardi    soir  6983.75               NaN                NaN   \n",
       "\n",
       "   moyenne_3der_j&service    temp  feels_like  temp_min  ...  cos_jour_de_sem  \\\n",
       "0                     NaN  293.37      292.60    291.95  ...         1.000000   \n",
       "1                     NaN  294.08      293.35    292.94  ...         1.000000   \n",
       "2                     NaN  294.00      293.08    292.25  ...         0.623490   \n",
       "3                     NaN  294.26      293.47    292.71  ...         0.623490   \n",
       "4                     NaN  294.45      293.94    291.78  ...        -0.222521   \n",
       "\n",
       "   sin_jour_de_sem  cos_jour_du_mois sin_jour_du_mois cos_mois_de_annee  \\\n",
       "0    -2.449294e-16          0.979530         0.201299     -1.836970e-16   \n",
       "1    -2.449294e-16          0.979530         0.201299     -1.836970e-16   \n",
       "2     7.818315e-01          0.918958         0.394356     -1.836970e-16   \n",
       "3     7.818315e-01          0.918958         0.394356     -1.836970e-16   \n",
       "4     9.749279e-01          0.820763         0.571268     -1.836970e-16   \n",
       "\n",
       "  sin_mois_de_annee cos_jour_annee sin_jour_annee cos_semaine_annee  \\\n",
       "0              -1.0      -0.490029      -0.871706         -0.464723   \n",
       "1              -1.0      -0.490029      -0.871706         -0.464723   \n",
       "2              -1.0      -0.474951      -0.880012         -0.354605   \n",
       "3              -1.0      -0.474951      -0.880012         -0.354605   \n",
       "4              -1.0      -0.459733      -0.888057         -0.354605   \n",
       "\n",
       "  sin_semaine_annee  \n",
       "0         -0.885456  \n",
       "1         -0.885456  \n",
       "2         -0.935016  \n",
       "3         -0.935016  \n",
       "4         -0.935016  \n",
       "\n",
       "[5 rows x 37 columns]"
      ]
     },
     "execution_count": 5,
     "metadata": {},
     "output_type": "execute_result"
    }
   ],
   "source": [
    "dataset_d16 = '/Users/ericblanvillain/code/EricBlanvillain/resto-655-project/resto-project/raw_data/preproc_data_d16.csv'\n",
    "dataset_d2 = '/Users/ericblanvillain/code/EricBlanvillain/resto-655-project/resto-project/raw_data/preproc_data_d2.csv'\n",
    "data_d16 = pd.read_csv(dataset_d16)\n",
    "data_d2 = pd.read_csv(dataset_d2)\n",
    "data_d16.head()"
   ]
  },
  {
   "cell_type": "code",
   "execution_count": 6,
   "metadata": {
    "ExecuteTime": {
     "end_time": "2021-08-31T15:34:49.045072Z",
     "start_time": "2021-08-31T15:34:49.028235Z"
    },
    "colab": {
     "base_uri": "https://localhost:8080/"
    },
    "id": "1coxvKI_jdyF",
    "outputId": "c40385a9-1d07-4518-d30c-85e6622b1a2c"
   },
   "outputs": [
    {
     "data": {
      "text/plain": [
       "Index(['date', 'jour', 'service', 'CA_TTC', 'moyen_7_services',\n",
       "       'moyen_31_services', 'moyenne_3der_j&service', 'temp', 'feels_like',\n",
       "       'temp_min', 'temp_max', 'wind_speed', 'clouds_all', 'clear', 'clouds',\n",
       "       'drizzle', 'drizzle_and_rain', 'fog', 'mist', 'rain', 'thunderstorm',\n",
       "       'match_edf', 'match_happening', 'match_happening_cl', 'roland_garros',\n",
       "       'fashion_week', 'vacances_paris', 'cos_jour_de_sem', 'sin_jour_de_sem',\n",
       "       'cos_jour_du_mois', 'sin_jour_du_mois', 'cos_mois_de_annee',\n",
       "       'sin_mois_de_annee', 'cos_jour_annee', 'sin_jour_annee',\n",
       "       'cos_semaine_annee', 'sin_semaine_annee'],\n",
       "      dtype='object')"
      ]
     },
     "execution_count": 6,
     "metadata": {},
     "output_type": "execute_result"
    }
   ],
   "source": [
    "data_d16.columns"
   ]
  },
  {
   "cell_type": "markdown",
   "metadata": {
    "id": "wHWwfTmuZHxh"
   },
   "source": [
    "# DATA EXPLORATION"
   ]
  },
  {
   "cell_type": "code",
   "execution_count": 7,
   "metadata": {
    "ExecuteTime": {
     "end_time": "2021-08-31T15:34:49.063644Z",
     "start_time": "2021-08-31T15:34:49.045978Z"
    },
    "colab": {
     "base_uri": "https://localhost:8080/"
    },
    "id": "7sMKb4pRQ5eP",
    "outputId": "52384206-1ff0-44ca-9aa8-5ee0c75c7932"
   },
   "outputs": [
    {
     "data": {
      "text/plain": [
       "(730, 37)"
      ]
     },
     "execution_count": 7,
     "metadata": {},
     "output_type": "execute_result"
    }
   ],
   "source": [
    "data_d16.shape"
   ]
  },
  {
   "cell_type": "code",
   "execution_count": 8,
   "metadata": {
    "ExecuteTime": {
     "end_time": "2021-08-31T15:34:49.081740Z",
     "start_time": "2021-08-31T15:34:49.064687Z"
    },
    "colab": {
     "base_uri": "https://localhost:8080/"
    },
    "id": "0COCT2uWQ8Zx",
    "outputId": "ee1d0fbd-fa32-4828-a822-62cb58c6e5e2"
   },
   "outputs": [
    {
     "data": {
      "text/plain": [
       "(1234, 37)"
      ]
     },
     "execution_count": 8,
     "metadata": {},
     "output_type": "execute_result"
    }
   ],
   "source": [
    "data_d2.shape"
   ]
  },
  {
   "cell_type": "code",
   "execution_count": 9,
   "metadata": {
    "ExecuteTime": {
     "end_time": "2021-08-31T15:34:49.111654Z",
     "start_time": "2021-08-31T15:34:49.084186Z"
    },
    "colab": {
     "base_uri": "https://localhost:8080/",
     "height": 165
    },
    "id": "zeTjW5liRWJh",
    "outputId": "e0a4c371-3090-4cce-a2b3-d8d06700e558"
   },
   "outputs": [
    {
     "data": {
      "text/html": [
       "<div>\n",
       "<style scoped>\n",
       "    .dataframe tbody tr th:only-of-type {\n",
       "        vertical-align: middle;\n",
       "    }\n",
       "\n",
       "    .dataframe tbody tr th {\n",
       "        vertical-align: top;\n",
       "    }\n",
       "\n",
       "    .dataframe thead th {\n",
       "        text-align: right;\n",
       "    }\n",
       "</style>\n",
       "<table border=\"1\" class=\"dataframe\">\n",
       "  <thead>\n",
       "    <tr style=\"text-align: right;\">\n",
       "      <th></th>\n",
       "      <th>date</th>\n",
       "      <th>jour</th>\n",
       "      <th>service</th>\n",
       "      <th>CA_TTC</th>\n",
       "      <th>moyen_7_services</th>\n",
       "      <th>moyen_31_services</th>\n",
       "      <th>moyenne_3der_j&amp;service</th>\n",
       "      <th>temp</th>\n",
       "      <th>feels_like</th>\n",
       "      <th>temp_min</th>\n",
       "      <th>...</th>\n",
       "      <th>cos_jour_de_sem</th>\n",
       "      <th>sin_jour_de_sem</th>\n",
       "      <th>cos_jour_du_mois</th>\n",
       "      <th>sin_jour_du_mois</th>\n",
       "      <th>cos_mois_de_annee</th>\n",
       "      <th>sin_mois_de_annee</th>\n",
       "      <th>cos_jour_annee</th>\n",
       "      <th>sin_jour_annee</th>\n",
       "      <th>cos_semaine_annee</th>\n",
       "      <th>sin_semaine_annee</th>\n",
       "    </tr>\n",
       "  </thead>\n",
       "  <tbody>\n",
       "    <tr>\n",
       "      <th>0</th>\n",
       "      <td>2019-09-01</td>\n",
       "      <td>Dimanche</td>\n",
       "      <td>soir</td>\n",
       "      <td>4577.1</td>\n",
       "      <td>NaN</td>\n",
       "      <td>NaN</td>\n",
       "      <td>NaN</td>\n",
       "      <td>293.37</td>\n",
       "      <td>292.60</td>\n",
       "      <td>291.95</td>\n",
       "      <td>...</td>\n",
       "      <td>1.0</td>\n",
       "      <td>-2.449294e-16</td>\n",
       "      <td>0.97953</td>\n",
       "      <td>0.201299</td>\n",
       "      <td>-1.836970e-16</td>\n",
       "      <td>-1.0</td>\n",
       "      <td>-0.490029</td>\n",
       "      <td>-0.871706</td>\n",
       "      <td>-0.464723</td>\n",
       "      <td>-0.885456</td>\n",
       "    </tr>\n",
       "    <tr>\n",
       "      <th>1</th>\n",
       "      <td>2019-09-01</td>\n",
       "      <td>Dimanche</td>\n",
       "      <td>midi</td>\n",
       "      <td>3548.0</td>\n",
       "      <td>NaN</td>\n",
       "      <td>NaN</td>\n",
       "      <td>NaN</td>\n",
       "      <td>294.08</td>\n",
       "      <td>293.35</td>\n",
       "      <td>292.94</td>\n",
       "      <td>...</td>\n",
       "      <td>1.0</td>\n",
       "      <td>-2.449294e-16</td>\n",
       "      <td>0.97953</td>\n",
       "      <td>0.201299</td>\n",
       "      <td>-1.836970e-16</td>\n",
       "      <td>-1.0</td>\n",
       "      <td>-0.490029</td>\n",
       "      <td>-0.871706</td>\n",
       "      <td>-0.464723</td>\n",
       "      <td>-0.885456</td>\n",
       "    </tr>\n",
       "  </tbody>\n",
       "</table>\n",
       "<p>2 rows × 37 columns</p>\n",
       "</div>"
      ],
      "text/plain": [
       "         date      jour service  CA_TTC  moyen_7_services  moyen_31_services  \\\n",
       "0  2019-09-01  Dimanche    soir  4577.1               NaN                NaN   \n",
       "1  2019-09-01  Dimanche    midi  3548.0               NaN                NaN   \n",
       "\n",
       "   moyenne_3der_j&service    temp  feels_like  temp_min  ...  cos_jour_de_sem  \\\n",
       "0                     NaN  293.37      292.60    291.95  ...              1.0   \n",
       "1                     NaN  294.08      293.35    292.94  ...              1.0   \n",
       "\n",
       "   sin_jour_de_sem  cos_jour_du_mois sin_jour_du_mois cos_mois_de_annee  \\\n",
       "0    -2.449294e-16           0.97953         0.201299     -1.836970e-16   \n",
       "1    -2.449294e-16           0.97953         0.201299     -1.836970e-16   \n",
       "\n",
       "  sin_mois_de_annee cos_jour_annee sin_jour_annee cos_semaine_annee  \\\n",
       "0              -1.0      -0.490029      -0.871706         -0.464723   \n",
       "1              -1.0      -0.490029      -0.871706         -0.464723   \n",
       "\n",
       "  sin_semaine_annee  \n",
       "0         -0.885456  \n",
       "1         -0.885456  \n",
       "\n",
       "[2 rows x 37 columns]"
      ]
     },
     "execution_count": 9,
     "metadata": {},
     "output_type": "execute_result"
    }
   ],
   "source": [
    "data_d16.head(2)"
   ]
  },
  {
   "cell_type": "code",
   "execution_count": 10,
   "metadata": {
    "ExecuteTime": {
     "end_time": "2021-08-31T15:34:49.139022Z",
     "start_time": "2021-08-31T15:34:49.114102Z"
    },
    "colab": {
     "base_uri": "https://localhost:8080/",
     "height": 165
    },
    "id": "auosDG92Rc6n",
    "outputId": "ec98e26e-3505-4511-88d0-74647d7536bf"
   },
   "outputs": [
    {
     "data": {
      "text/html": [
       "<div>\n",
       "<style scoped>\n",
       "    .dataframe tbody tr th:only-of-type {\n",
       "        vertical-align: middle;\n",
       "    }\n",
       "\n",
       "    .dataframe tbody tr th {\n",
       "        vertical-align: top;\n",
       "    }\n",
       "\n",
       "    .dataframe thead th {\n",
       "        text-align: right;\n",
       "    }\n",
       "</style>\n",
       "<table border=\"1\" class=\"dataframe\">\n",
       "  <thead>\n",
       "    <tr style=\"text-align: right;\">\n",
       "      <th></th>\n",
       "      <th>date</th>\n",
       "      <th>jour</th>\n",
       "      <th>service</th>\n",
       "      <th>CA_TTC</th>\n",
       "      <th>moyen_7_services</th>\n",
       "      <th>moyen_31_services</th>\n",
       "      <th>moyenne_3der_j&amp;service</th>\n",
       "      <th>temp</th>\n",
       "      <th>feels_like</th>\n",
       "      <th>temp_min</th>\n",
       "      <th>...</th>\n",
       "      <th>cos_jour_de_sem</th>\n",
       "      <th>sin_jour_de_sem</th>\n",
       "      <th>cos_jour_du_mois</th>\n",
       "      <th>sin_jour_du_mois</th>\n",
       "      <th>cos_mois_de_annee</th>\n",
       "      <th>sin_mois_de_annee</th>\n",
       "      <th>cos_jour_annee</th>\n",
       "      <th>sin_jour_annee</th>\n",
       "      <th>cos_semaine_annee</th>\n",
       "      <th>sin_semaine_annee</th>\n",
       "    </tr>\n",
       "  </thead>\n",
       "  <tbody>\n",
       "    <tr>\n",
       "      <th>728</th>\n",
       "      <td>2021-07-31</td>\n",
       "      <td>Samedi</td>\n",
       "      <td>midi</td>\n",
       "      <td>1655.5</td>\n",
       "      <td>2311.257143</td>\n",
       "      <td>2890.146774</td>\n",
       "      <td>2967.67</td>\n",
       "      <td>294.69</td>\n",
       "      <td>294.47</td>\n",
       "      <td>294.16</td>\n",
       "      <td>...</td>\n",
       "      <td>0.62349</td>\n",
       "      <td>-0.781831</td>\n",
       "      <td>1.0</td>\n",
       "      <td>-2.449294e-16</td>\n",
       "      <td>-0.866025</td>\n",
       "      <td>-0.5</td>\n",
       "      <td>-0.873807</td>\n",
       "      <td>-0.486273</td>\n",
       "      <td>-0.885456</td>\n",
       "      <td>-0.464723</td>\n",
       "    </tr>\n",
       "    <tr>\n",
       "      <th>729</th>\n",
       "      <td>2021-07-31</td>\n",
       "      <td>Samedi</td>\n",
       "      <td>soir</td>\n",
       "      <td>8446.0</td>\n",
       "      <td>7023.707143</td>\n",
       "      <td>7844.804194</td>\n",
       "      <td>8480.98</td>\n",
       "      <td>293.83</td>\n",
       "      <td>293.55</td>\n",
       "      <td>292.49</td>\n",
       "      <td>...</td>\n",
       "      <td>0.62349</td>\n",
       "      <td>-0.781831</td>\n",
       "      <td>1.0</td>\n",
       "      <td>-2.449294e-16</td>\n",
       "      <td>-0.866025</td>\n",
       "      <td>-0.5</td>\n",
       "      <td>-0.873807</td>\n",
       "      <td>-0.486273</td>\n",
       "      <td>-0.885456</td>\n",
       "      <td>-0.464723</td>\n",
       "    </tr>\n",
       "  </tbody>\n",
       "</table>\n",
       "<p>2 rows × 37 columns</p>\n",
       "</div>"
      ],
      "text/plain": [
       "           date    jour service  CA_TTC  moyen_7_services  moyen_31_services  \\\n",
       "728  2021-07-31  Samedi    midi  1655.5       2311.257143        2890.146774   \n",
       "729  2021-07-31  Samedi    soir  8446.0       7023.707143        7844.804194   \n",
       "\n",
       "     moyenne_3der_j&service    temp  feels_like  temp_min  ...  \\\n",
       "728                 2967.67  294.69      294.47    294.16  ...   \n",
       "729                 8480.98  293.83      293.55    292.49  ...   \n",
       "\n",
       "     cos_jour_de_sem  sin_jour_de_sem  cos_jour_du_mois sin_jour_du_mois  \\\n",
       "728          0.62349        -0.781831               1.0    -2.449294e-16   \n",
       "729          0.62349        -0.781831               1.0    -2.449294e-16   \n",
       "\n",
       "    cos_mois_de_annee sin_mois_de_annee cos_jour_annee sin_jour_annee  \\\n",
       "728         -0.866025              -0.5      -0.873807      -0.486273   \n",
       "729         -0.866025              -0.5      -0.873807      -0.486273   \n",
       "\n",
       "    cos_semaine_annee sin_semaine_annee  \n",
       "728         -0.885456         -0.464723  \n",
       "729         -0.885456         -0.464723  \n",
       "\n",
       "[2 rows x 37 columns]"
      ]
     },
     "execution_count": 10,
     "metadata": {},
     "output_type": "execute_result"
    }
   ],
   "source": [
    "data_d16.tail(2)"
   ]
  },
  {
   "cell_type": "code",
   "execution_count": 11,
   "metadata": {
    "ExecuteTime": {
     "end_time": "2021-08-31T15:34:51.361702Z",
     "start_time": "2021-08-31T15:34:49.140171Z"
    },
    "colab": {
     "base_uri": "https://localhost:8080/",
     "height": 279
    },
    "id": "JOa6vyizR6qH",
    "outputId": "023978bf-cbf9-40cf-9cd8-4d0643e20ba6"
   },
   "outputs": [
    {
     "data": {
      "image/png": "[encoded data removed]",
      "text/plain": [
       "<Figure size 432x288 with 1 Axes>"
      ]
     },
     "metadata": {
      "needs_background": "light"
     },
     "output_type": "display_data"
    }
   ],
   "source": [
    "sns.lineplot(data = data_d16, x = 'date' ,y = 'CA_TTC', hue = 'service');"
   ]
  },
  {
   "cell_type": "code",
   "execution_count": 12,
   "metadata": {
    "ExecuteTime": {
     "end_time": "2021-08-31T15:34:52.100875Z",
     "start_time": "2021-08-31T15:34:51.362923Z"
    },
    "colab": {
     "base_uri": "https://localhost:8080/",
     "height": 295
    },
    "id": "Zik_wzu5Scch",
    "outputId": "440fbc25-b6f1-4c0c-b7a9-6f131fc279ff"
   },
   "outputs": [
    {
     "data": {
      "image/png": "[encoded data removed]",
      "text/plain": [
       "<Figure size 1224x288 with 2 Axes>"
      ]
     },
     "metadata": {
      "needs_background": "light"
     },
     "output_type": "display_data"
    }
   ],
   "source": [
    "palette = sns.color_palette(\"Paired\")\n",
    "plt.figure(figsize=(17,4))\n",
    "plt.subplot(1,2,1)\n",
    "sns.barplot(data = data_d16, x = 'jour', y = 'CA_TTC', hue = 'service' , palette=palette, orient = 'v').set_title(\"D16\");\n",
    "plt.subplot(1,2,2)\n",
    "sns.barplot(data = data_d2, x = data_d16.jour, y = 'CA_TTC', hue = 'service', hue_order= ['midi','soir'], palette=palette, orient='v').set_title(\"D2\");\n",
    "plt.show()"
   ]
  },
  {
   "cell_type": "markdown",
   "metadata": {
    "id": "aSCI-pVZZv9E"
   },
   "source": [
    "# WEATHER FEATURES"
   ]
  },
  {
   "cell_type": "code",
   "execution_count": 13,
   "metadata": {
    "ExecuteTime": {
     "end_time": "2021-08-31T15:34:52.127235Z",
     "start_time": "2021-08-31T15:34:52.102152Z"
    },
    "colab": {
     "base_uri": "https://localhost:8080/",
     "height": 173
    },
    "id": "M80GVmESsCks",
    "outputId": "ab6fd5a1-fba9-4b73-c538-63cdc9e6243e"
   },
   "outputs": [
    {
     "data": {
      "text/html": [
       "<div>\n",
       "<style scoped>\n",
       "    .dataframe tbody tr th:only-of-type {\n",
       "        vertical-align: middle;\n",
       "    }\n",
       "\n",
       "    .dataframe tbody tr th {\n",
       "        vertical-align: top;\n",
       "    }\n",
       "\n",
       "    .dataframe thead th {\n",
       "        text-align: right;\n",
       "    }\n",
       "</style>\n",
       "<table border=\"1\" class=\"dataframe\">\n",
       "  <thead>\n",
       "    <tr style=\"text-align: right;\">\n",
       "      <th></th>\n",
       "      <th>clear</th>\n",
       "      <th>clouds</th>\n",
       "      <th>drizzle</th>\n",
       "      <th>drizzle_and_rain</th>\n",
       "      <th>fog</th>\n",
       "      <th>haze</th>\n",
       "      <th>mist</th>\n",
       "      <th>rain</th>\n",
       "      <th>snow</th>\n",
       "      <th>thunderstorm</th>\n",
       "    </tr>\n",
       "  </thead>\n",
       "  <tbody>\n",
       "    <tr>\n",
       "      <th>0</th>\n",
       "      <td>sky is clear</td>\n",
       "      <td>scattered clouds</td>\n",
       "      <td>light intensity drizzle</td>\n",
       "      <td>light intensity drizzle rain</td>\n",
       "      <td>fog</td>\n",
       "      <td>haze</td>\n",
       "      <td>mist</td>\n",
       "      <td>light rain</td>\n",
       "      <td>light snow</td>\n",
       "      <td>proximity thunderstorm</td>\n",
       "    </tr>\n",
       "    <tr>\n",
       "      <th>1</th>\n",
       "      <td>NaN</td>\n",
       "      <td>few clouds</td>\n",
       "      <td>drizzle</td>\n",
       "      <td>rain and drizzle</td>\n",
       "      <td>NaN</td>\n",
       "      <td>NaN</td>\n",
       "      <td>NaN</td>\n",
       "      <td>light intensity shower rain</td>\n",
       "      <td>NaN</td>\n",
       "      <td>thunderstorm</td>\n",
       "    </tr>\n",
       "    <tr>\n",
       "      <th>2</th>\n",
       "      <td>NaN</td>\n",
       "      <td>broken clouds</td>\n",
       "      <td>heavy intensity drizzle</td>\n",
       "      <td>NaN</td>\n",
       "      <td>NaN</td>\n",
       "      <td>NaN</td>\n",
       "      <td>NaN</td>\n",
       "      <td>moderate rain</td>\n",
       "      <td>NaN</td>\n",
       "      <td>thunderstorm with light rain</td>\n",
       "    </tr>\n",
       "    <tr>\n",
       "      <th>3</th>\n",
       "      <td>NaN</td>\n",
       "      <td>overcast clouds</td>\n",
       "      <td>NaN</td>\n",
       "      <td>NaN</td>\n",
       "      <td>NaN</td>\n",
       "      <td>NaN</td>\n",
       "      <td>NaN</td>\n",
       "      <td>heavy intensity rain</td>\n",
       "      <td>NaN</td>\n",
       "      <td>thunderstorm with heavy rain</td>\n",
       "    </tr>\n",
       "  </tbody>\n",
       "</table>\n",
       "</div>"
      ],
      "text/plain": [
       "          clear            clouds                  drizzle  \\\n",
       "0  sky is clear  scattered clouds  light intensity drizzle   \n",
       "1           NaN        few clouds                  drizzle   \n",
       "2           NaN     broken clouds  heavy intensity drizzle   \n",
       "3           NaN   overcast clouds                      NaN   \n",
       "\n",
       "               drizzle_and_rain  fog  haze  mist                         rain  \\\n",
       "0  light intensity drizzle rain  fog  haze  mist                   light rain   \n",
       "1              rain and drizzle  NaN   NaN   NaN  light intensity shower rain   \n",
       "2                           NaN  NaN   NaN   NaN                moderate rain   \n",
       "3                           NaN  NaN   NaN   NaN         heavy intensity rain   \n",
       "\n",
       "         snow                  thunderstorm  \n",
       "0  light snow        proximity thunderstorm  \n",
       "1         NaN                  thunderstorm  \n",
       "2         NaN  thunderstorm with light rain  \n",
       "3         NaN  thunderstorm with heavy rain  "
      ]
     },
     "execution_count": 13,
     "metadata": {},
     "output_type": "execute_result"
    }
   ],
   "source": [
    "weather_sorted = {\n",
    "'clear' : ['sky is clear', np.nan, np.nan,np.nan], \n",
    "'clouds' : ['scattered clouds','few clouds','broken clouds','overcast clouds'],\n",
    "'drizzle' : ['light intensity drizzle','drizzle','heavy intensity drizzle',np.nan], \n",
    "'drizzle_and_rain' : ['light intensity drizzle rain','rain and drizzle',np.nan,np.nan],\n",
    "'fog' : ['fog', np.nan, np.nan,np.nan], \n",
    "'haze' : ['haze', np.nan, np.nan,np.nan], \n",
    "'mist' : ['mist', np.nan, np.nan,np.nan], \n",
    "'rain' : ['light rain','light intensity shower rain','moderate rain', 'heavy intensity rain'], \n",
    "'snow' : ['light snow', np.nan, np.nan,np.nan], \n",
    "'thunderstorm' : ['proximity thunderstorm', 'thunderstorm', 'thunderstorm with light rain','thunderstorm with heavy rain'] \n",
    "}\n",
    "\n",
    "weather_sorted_df = pd.DataFrame(data=weather_sorted)\n",
    "weather_sorted_df"
   ]
  },
  {
   "cell_type": "code",
   "execution_count": 14,
   "metadata": {
    "ExecuteTime": {
     "end_time": "2021-08-31T15:34:52.144969Z",
     "start_time": "2021-08-31T15:34:52.128413Z"
    },
    "id": "5I96dFCVHjNX"
   },
   "outputs": [],
   "source": [
    "#data_d16.weather_description.unique()"
   ]
  },
  {
   "cell_type": "code",
   "execution_count": 15,
   "metadata": {
    "ExecuteTime": {
     "end_time": "2021-08-31T15:34:52.162800Z",
     "start_time": "2021-08-31T15:34:52.146344Z"
    },
    "id": "VfdFPgVOyMxq"
   },
   "outputs": [],
   "source": [
    "#weather_sorted_df"
   ]
  },
  {
   "cell_type": "code",
   "execution_count": 16,
   "metadata": {
    "ExecuteTime": {
     "end_time": "2021-08-31T15:34:52.180498Z",
     "start_time": "2021-08-31T15:34:52.163907Z"
    },
    "id": "sfwWf3_jEtB5"
   },
   "outputs": [],
   "source": [
    "#data_d16.columns"
   ]
  },
  {
   "cell_type": "code",
   "execution_count": 17,
   "metadata": {
    "ExecuteTime": {
     "end_time": "2021-08-31T15:34:52.197051Z",
     "start_time": "2021-08-31T15:34:52.181505Z"
    },
    "id": "yzlRq-NKGzAQ"
   },
   "outputs": [],
   "source": [
    "#weather_sorted.keys()"
   ]
  },
  {
   "cell_type": "code",
   "execution_count": 18,
   "metadata": {
    "ExecuteTime": {
     "end_time": "2021-08-31T15:34:52.215524Z",
     "start_time": "2021-08-31T15:34:52.198086Z"
    },
    "colab": {
     "base_uri": "https://localhost:8080/"
    },
    "id": "kvmOgGNvI_UT",
    "outputId": "72a82b35-d134-4596-990a-9459a0b1bfb5"
   },
   "outputs": [
    {
     "name": "stdout",
     "output_type": "stream",
     "text": [
      "['sky is clear', nan, nan, nan]\n",
      "['scattered clouds', 'few clouds', 'broken clouds', 'overcast clouds']\n",
      "['light intensity drizzle', 'drizzle', 'heavy intensity drizzle', nan]\n",
      "['light intensity drizzle rain', 'rain and drizzle', nan, nan]\n",
      "['fog', nan, nan, nan]\n",
      "['haze', nan, nan, nan]\n",
      "['mist', nan, nan, nan]\n",
      "['light rain', 'light intensity shower rain', 'moderate rain', 'heavy intensity rain']\n",
      "['light snow', nan, nan, nan]\n",
      "['proximity thunderstorm', 'thunderstorm', 'thunderstorm with light rain', 'thunderstorm with heavy rain']\n"
     ]
    }
   ],
   "source": [
    "for i in weather_sorted.values():\n",
    "  print(i)"
   ]
  },
  {
   "cell_type": "code",
   "execution_count": 19,
   "metadata": {
    "ExecuteTime": {
     "end_time": "2021-08-31T15:34:52.233233Z",
     "start_time": "2021-08-31T15:34:52.216581Z"
    },
    "id": "nNg12Y2KEX0Q"
   },
   "outputs": [],
   "source": [
    "def weather_cat(x, list_values):\n",
    "  for values in list_values:\n",
    "    if x == values:\n",
    "      return values"
   ]
  },
  {
   "cell_type": "code",
   "execution_count": 20,
   "metadata": {
    "ExecuteTime": {
     "end_time": "2021-08-31T15:34:52.250898Z",
     "start_time": "2021-08-31T15:34:52.234425Z"
    },
    "id": "PKMl-DJEQfGR"
   },
   "outputs": [],
   "source": [
    "#x = data_test.reset_index()\n",
    "#x = x.loc[0]\n",
    "#print(x)"
   ]
  },
  {
   "cell_type": "code",
   "execution_count": 21,
   "metadata": {
    "ExecuteTime": {
     "end_time": "2021-08-31T15:34:52.267730Z",
     "start_time": "2021-08-31T15:34:52.252118Z"
    },
    "id": "BH313PejU5n-"
   },
   "outputs": [],
   "source": [
    "#set(data_test.weather_description)"
   ]
  },
  {
   "cell_type": "markdown",
   "metadata": {
    "id": "N23cZxu1aSnC"
   },
   "source": [
    "# OTHER FEATURES"
   ]
  },
  {
   "cell_type": "code",
   "execution_count": 22,
   "metadata": {
    "ExecuteTime": {
     "end_time": "2021-08-31T15:34:52.284646Z",
     "start_time": "2021-08-31T15:34:52.269000Z"
    },
    "id": "MPMC4UI7emF1"
   },
   "outputs": [],
   "source": [
    "#data_d16.to_csv(path_or_buf='data_d16.csv', index= False)\n",
    "#data_d2.to_csv(path_or_buf='data_d2.csv', index= False)"
   ]
  },
  {
   "cell_type": "code",
   "execution_count": 23,
   "metadata": {
    "ExecuteTime": {
     "end_time": "2021-08-31T15:34:52.301889Z",
     "start_time": "2021-08-31T15:34:52.285753Z"
    },
    "id": "p4f-a6NbcQMd"
   },
   "outputs": [],
   "source": [
    "#data_test"
   ]
  },
  {
   "cell_type": "code",
   "execution_count": 24,
   "metadata": {
    "ExecuteTime": {
     "end_time": "2021-08-31T15:34:52.318872Z",
     "start_time": "2021-08-31T15:34:52.302849Z"
    },
    "id": "87mBR0kUODz_"
   },
   "outputs": [],
   "source": [
    "#list(set(data_test.Clouds))"
   ]
  },
  {
   "cell_type": "code",
   "execution_count": 25,
   "metadata": {
    "ExecuteTime": {
     "end_time": "2021-08-31T15:34:52.340314Z",
     "start_time": "2021-08-31T15:34:52.323763Z"
    },
    "id": "5E1kqMItSCEf"
   },
   "outputs": [],
   "source": [
    "#list(set(data_test.Clouds))"
   ]
  },
  {
   "cell_type": "code",
   "execution_count": 26,
   "metadata": {
    "ExecuteTime": {
     "end_time": "2021-08-31T15:34:52.357531Z",
     "start_time": "2021-08-31T15:34:52.341374Z"
    },
    "id": "VdI9ZSfvYGvq"
   },
   "outputs": [],
   "source": [
    "#data_test.keys()"
   ]
  },
  {
   "cell_type": "markdown",
   "metadata": {
    "id": "7RSvXjRedOTG"
   },
   "source": [
    "# PREPROCESING"
   ]
  },
  {
   "cell_type": "code",
   "execution_count": 27,
   "metadata": {
    "ExecuteTime": {
     "end_time": "2021-08-31T15:34:52.377200Z",
     "start_time": "2021-08-31T15:34:52.358990Z"
    },
    "colab": {
     "base_uri": "https://localhost:8080/"
    },
    "id": "JzOYNRRMdRWR",
    "outputId": "8867e6b2-773c-4dac-b134-e71dd14f7ffb"
   },
   "outputs": [
    {
     "name": "stdout",
     "output_type": "stream",
     "text": [
      "float64    21\n",
      "object     11\n",
      "int64       5\n",
      "dtype: int64\n"
     ]
    }
   ],
   "source": [
    "dataTypeSeries = data_d16.dtypes\n",
    "dataTypeSeries_valuecounts = data_d16.dtypes.value_counts()\n",
    "print(dataTypeSeries_valuecounts)"
   ]
  },
  {
   "cell_type": "code",
   "execution_count": 28,
   "metadata": {
    "ExecuteTime": {
     "end_time": "2021-08-31T15:34:52.401539Z",
     "start_time": "2021-08-31T15:34:52.378327Z"
    },
    "colab": {
     "base_uri": "https://localhost:8080/",
     "height": 855
    },
    "id": "QPqT_x97h1ik",
    "outputId": "416a3f42-0e0c-4b76-c6f9-0d78cf965b07"
   },
   "outputs": [
    {
     "data": {
      "text/html": [
       "<div>\n",
       "<style scoped>\n",
       "    .dataframe tbody tr th:only-of-type {\n",
       "        vertical-align: middle;\n",
       "    }\n",
       "\n",
       "    .dataframe tbody tr th {\n",
       "        vertical-align: top;\n",
       "    }\n",
       "\n",
       "    .dataframe thead th {\n",
       "        text-align: right;\n",
       "    }\n",
       "</style>\n",
       "<table border=\"1\" class=\"dataframe\">\n",
       "  <thead>\n",
       "    <tr style=\"text-align: right;\">\n",
       "      <th></th>\n",
       "      <th>unique_values</th>\n",
       "    </tr>\n",
       "  </thead>\n",
       "  <tbody>\n",
       "    <tr>\n",
       "      <th>CA_TTC</th>\n",
       "      <td>1216</td>\n",
       "    </tr>\n",
       "    <tr>\n",
       "      <th>moyen_7_services</th>\n",
       "      <td>1218</td>\n",
       "    </tr>\n",
       "    <tr>\n",
       "      <th>moyen_31_services</th>\n",
       "      <td>1172</td>\n",
       "    </tr>\n",
       "    <tr>\n",
       "      <th>moyenne_3der_j&amp;service</th>\n",
       "      <td>1174</td>\n",
       "    </tr>\n",
       "    <tr>\n",
       "      <th>temp</th>\n",
       "      <td>990</td>\n",
       "    </tr>\n",
       "    <tr>\n",
       "      <th>feels_like</th>\n",
       "      <td>1025</td>\n",
       "    </tr>\n",
       "    <tr>\n",
       "      <th>temp_min</th>\n",
       "      <td>579</td>\n",
       "    </tr>\n",
       "    <tr>\n",
       "      <th>temp_max</th>\n",
       "      <td>649</td>\n",
       "    </tr>\n",
       "    <tr>\n",
       "      <th>wind_speed</th>\n",
       "      <td>40</td>\n",
       "    </tr>\n",
       "    <tr>\n",
       "      <th>clouds_all</th>\n",
       "      <td>7</td>\n",
       "    </tr>\n",
       "    <tr>\n",
       "      <th>match_edf</th>\n",
       "      <td>2</td>\n",
       "    </tr>\n",
       "    <tr>\n",
       "      <th>match_happening</th>\n",
       "      <td>1</td>\n",
       "    </tr>\n",
       "    <tr>\n",
       "      <th>match_happening_cl</th>\n",
       "      <td>1</td>\n",
       "    </tr>\n",
       "    <tr>\n",
       "      <th>roland_garros</th>\n",
       "      <td>2</td>\n",
       "    </tr>\n",
       "    <tr>\n",
       "      <th>fashion_week</th>\n",
       "      <td>2</td>\n",
       "    </tr>\n",
       "    <tr>\n",
       "      <th>vacances_paris</th>\n",
       "      <td>2</td>\n",
       "    </tr>\n",
       "    <tr>\n",
       "      <th>cos_jour_de_sem</th>\n",
       "      <td>7</td>\n",
       "    </tr>\n",
       "    <tr>\n",
       "      <th>sin_jour_de_sem</th>\n",
       "      <td>7</td>\n",
       "    </tr>\n",
       "    <tr>\n",
       "      <th>cos_jour_du_mois</th>\n",
       "      <td>26</td>\n",
       "    </tr>\n",
       "    <tr>\n",
       "      <th>sin_jour_du_mois</th>\n",
       "      <td>31</td>\n",
       "    </tr>\n",
       "    <tr>\n",
       "      <th>cos_mois_de_annee</th>\n",
       "      <td>12</td>\n",
       "    </tr>\n",
       "    <tr>\n",
       "      <th>sin_mois_de_annee</th>\n",
       "      <td>11</td>\n",
       "    </tr>\n",
       "    <tr>\n",
       "      <th>cos_jour_annee</th>\n",
       "      <td>314</td>\n",
       "    </tr>\n",
       "    <tr>\n",
       "      <th>sin_jour_annee</th>\n",
       "      <td>363</td>\n",
       "    </tr>\n",
       "    <tr>\n",
       "      <th>cos_semaine_annee</th>\n",
       "      <td>44</td>\n",
       "    </tr>\n",
       "    <tr>\n",
       "      <th>sin_semaine_annee</th>\n",
       "      <td>41</td>\n",
       "    </tr>\n",
       "  </tbody>\n",
       "</table>\n",
       "</div>"
      ],
      "text/plain": [
       "                        unique_values\n",
       "CA_TTC                           1216\n",
       "moyen_7_services                 1218\n",
       "moyen_31_services                1172\n",
       "moyenne_3der_j&service           1174\n",
       "temp                              990\n",
       "feels_like                       1025\n",
       "temp_min                          579\n",
       "temp_max                          649\n",
       "wind_speed                         40\n",
       "clouds_all                          7\n",
       "match_edf                           2\n",
       "match_happening                     1\n",
       "match_happening_cl                  1\n",
       "roland_garros                       2\n",
       "fashion_week                        2\n",
       "vacances_paris                      2\n",
       "cos_jour_de_sem                     7\n",
       "sin_jour_de_sem                     7\n",
       "cos_jour_du_mois                   26\n",
       "sin_jour_du_mois                   31\n",
       "cos_mois_de_annee                  12\n",
       "sin_mois_de_annee                  11\n",
       "cos_jour_annee                    314\n",
       "sin_jour_annee                    363\n",
       "cos_semaine_annee                  44\n",
       "sin_semaine_annee                  41"
      ]
     },
     "execution_count": 28,
     "metadata": {},
     "output_type": "execute_result"
    }
   ],
   "source": [
    "feat_numerical_nunique_d2 = pd.DataFrame(data_d2.select_dtypes(exclude=['object'],include=['int64','float64']).nunique(), columns = [\"unique_values\"])\n",
    "feat_numerical_nunique_d2"
   ]
  },
  {
   "cell_type": "code",
   "execution_count": 29,
   "metadata": {
    "ExecuteTime": {
     "end_time": "2021-08-31T15:34:52.425034Z",
     "start_time": "2021-08-31T15:34:52.402600Z"
    },
    "colab": {
     "base_uri": "https://localhost:8080/",
     "height": 390
    },
    "id": "BNaiUafMhM5u",
    "outputId": "c4caccb1-22d1-421c-881a-a3797afc5f60"
   },
   "outputs": [
    {
     "data": {
      "text/html": [
       "<div>\n",
       "<style scoped>\n",
       "    .dataframe tbody tr th:only-of-type {\n",
       "        vertical-align: middle;\n",
       "    }\n",
       "\n",
       "    .dataframe tbody tr th {\n",
       "        vertical-align: top;\n",
       "    }\n",
       "\n",
       "    .dataframe thead th {\n",
       "        text-align: right;\n",
       "    }\n",
       "</style>\n",
       "<table border=\"1\" class=\"dataframe\">\n",
       "  <thead>\n",
       "    <tr style=\"text-align: right;\">\n",
       "      <th></th>\n",
       "      <th>unique_values</th>\n",
       "    </tr>\n",
       "  </thead>\n",
       "  <tbody>\n",
       "    <tr>\n",
       "      <th>date</th>\n",
       "      <td>624</td>\n",
       "    </tr>\n",
       "    <tr>\n",
       "      <th>jour</th>\n",
       "      <td>7</td>\n",
       "    </tr>\n",
       "    <tr>\n",
       "      <th>service</th>\n",
       "      <td>2</td>\n",
       "    </tr>\n",
       "    <tr>\n",
       "      <th>clear</th>\n",
       "      <td>2</td>\n",
       "    </tr>\n",
       "    <tr>\n",
       "      <th>clouds</th>\n",
       "      <td>5</td>\n",
       "    </tr>\n",
       "    <tr>\n",
       "      <th>drizzle</th>\n",
       "      <td>4</td>\n",
       "    </tr>\n",
       "    <tr>\n",
       "      <th>drizzle_and_rain</th>\n",
       "      <td>3</td>\n",
       "    </tr>\n",
       "    <tr>\n",
       "      <th>fog</th>\n",
       "      <td>2</td>\n",
       "    </tr>\n",
       "    <tr>\n",
       "      <th>mist</th>\n",
       "      <td>2</td>\n",
       "    </tr>\n",
       "    <tr>\n",
       "      <th>rain</th>\n",
       "      <td>5</td>\n",
       "    </tr>\n",
       "    <tr>\n",
       "      <th>thunderstorm</th>\n",
       "      <td>5</td>\n",
       "    </tr>\n",
       "  </tbody>\n",
       "</table>\n",
       "</div>"
      ],
      "text/plain": [
       "                  unique_values\n",
       "date                        624\n",
       "jour                          7\n",
       "service                       2\n",
       "clear                         2\n",
       "clouds                        5\n",
       "drizzle                       4\n",
       "drizzle_and_rain              3\n",
       "fog                           2\n",
       "mist                          2\n",
       "rain                          5\n",
       "thunderstorm                  5"
      ]
     },
     "execution_count": 29,
     "metadata": {},
     "output_type": "execute_result"
    }
   ],
   "source": [
    "feat_categorical_nunique_d2 = pd.DataFrame(data_d2.select_dtypes(include=['object'],exclude=['int64','float64']).nunique(), columns = [\"unique_values\"])\n",
    "feat_categorical_nunique_d2"
   ]
  },
  {
   "cell_type": "code",
   "execution_count": 30,
   "metadata": {
    "ExecuteTime": {
     "end_time": "2021-08-31T15:34:52.449245Z",
     "start_time": "2021-08-31T15:34:52.426334Z"
    },
    "colab": {
     "base_uri": "https://localhost:8080/",
     "height": 855
    },
    "id": "KbdZwezgiK_Z",
    "outputId": "585c5432-1d2f-4452-ded6-15d8df3382cc"
   },
   "outputs": [
    {
     "data": {
      "text/html": [
       "<div>\n",
       "<style scoped>\n",
       "    .dataframe tbody tr th:only-of-type {\n",
       "        vertical-align: middle;\n",
       "    }\n",
       "\n",
       "    .dataframe tbody tr th {\n",
       "        vertical-align: top;\n",
       "    }\n",
       "\n",
       "    .dataframe thead th {\n",
       "        text-align: right;\n",
       "    }\n",
       "</style>\n",
       "<table border=\"1\" class=\"dataframe\">\n",
       "  <thead>\n",
       "    <tr style=\"text-align: right;\">\n",
       "      <th></th>\n",
       "      <th>unique_values</th>\n",
       "    </tr>\n",
       "  </thead>\n",
       "  <tbody>\n",
       "    <tr>\n",
       "      <th>CA_TTC</th>\n",
       "      <td>713</td>\n",
       "    </tr>\n",
       "    <tr>\n",
       "      <th>moyen_7_services</th>\n",
       "      <td>715</td>\n",
       "    </tr>\n",
       "    <tr>\n",
       "      <th>moyen_31_services</th>\n",
       "      <td>668</td>\n",
       "    </tr>\n",
       "    <tr>\n",
       "      <th>moyenne_3der_j&amp;service</th>\n",
       "      <td>671</td>\n",
       "    </tr>\n",
       "    <tr>\n",
       "      <th>temp</th>\n",
       "      <td>630</td>\n",
       "    </tr>\n",
       "    <tr>\n",
       "      <th>feels_like</th>\n",
       "      <td>654</td>\n",
       "    </tr>\n",
       "    <tr>\n",
       "      <th>temp_min</th>\n",
       "      <td>408</td>\n",
       "    </tr>\n",
       "    <tr>\n",
       "      <th>temp_max</th>\n",
       "      <td>449</td>\n",
       "    </tr>\n",
       "    <tr>\n",
       "      <th>wind_speed</th>\n",
       "      <td>39</td>\n",
       "    </tr>\n",
       "    <tr>\n",
       "      <th>clouds_all</th>\n",
       "      <td>7</td>\n",
       "    </tr>\n",
       "    <tr>\n",
       "      <th>match_edf</th>\n",
       "      <td>2</td>\n",
       "    </tr>\n",
       "    <tr>\n",
       "      <th>match_happening</th>\n",
       "      <td>1</td>\n",
       "    </tr>\n",
       "    <tr>\n",
       "      <th>match_happening_cl</th>\n",
       "      <td>1</td>\n",
       "    </tr>\n",
       "    <tr>\n",
       "      <th>roland_garros</th>\n",
       "      <td>2</td>\n",
       "    </tr>\n",
       "    <tr>\n",
       "      <th>fashion_week</th>\n",
       "      <td>2</td>\n",
       "    </tr>\n",
       "    <tr>\n",
       "      <th>vacances_paris</th>\n",
       "      <td>2</td>\n",
       "    </tr>\n",
       "    <tr>\n",
       "      <th>cos_jour_de_sem</th>\n",
       "      <td>7</td>\n",
       "    </tr>\n",
       "    <tr>\n",
       "      <th>sin_jour_de_sem</th>\n",
       "      <td>7</td>\n",
       "    </tr>\n",
       "    <tr>\n",
       "      <th>cos_jour_du_mois</th>\n",
       "      <td>26</td>\n",
       "    </tr>\n",
       "    <tr>\n",
       "      <th>sin_jour_du_mois</th>\n",
       "      <td>31</td>\n",
       "    </tr>\n",
       "    <tr>\n",
       "      <th>cos_mois_de_annee</th>\n",
       "      <td>10</td>\n",
       "    </tr>\n",
       "    <tr>\n",
       "      <th>sin_mois_de_annee</th>\n",
       "      <td>10</td>\n",
       "    </tr>\n",
       "    <tr>\n",
       "      <th>cos_jour_annee</th>\n",
       "      <td>223</td>\n",
       "    </tr>\n",
       "    <tr>\n",
       "      <th>sin_jour_annee</th>\n",
       "      <td>261</td>\n",
       "    </tr>\n",
       "    <tr>\n",
       "      <th>cos_semaine_annee</th>\n",
       "      <td>31</td>\n",
       "    </tr>\n",
       "    <tr>\n",
       "      <th>sin_semaine_annee</th>\n",
       "      <td>35</td>\n",
       "    </tr>\n",
       "  </tbody>\n",
       "</table>\n",
       "</div>"
      ],
      "text/plain": [
       "                        unique_values\n",
       "CA_TTC                            713\n",
       "moyen_7_services                  715\n",
       "moyen_31_services                 668\n",
       "moyenne_3der_j&service            671\n",
       "temp                              630\n",
       "feels_like                        654\n",
       "temp_min                          408\n",
       "temp_max                          449\n",
       "wind_speed                         39\n",
       "clouds_all                          7\n",
       "match_edf                           2\n",
       "match_happening                     1\n",
       "match_happening_cl                  1\n",
       "roland_garros                       2\n",
       "fashion_week                        2\n",
       "vacances_paris                      2\n",
       "cos_jour_de_sem                     7\n",
       "sin_jour_de_sem                     7\n",
       "cos_jour_du_mois                   26\n",
       "sin_jour_du_mois                   31\n",
       "cos_mois_de_annee                  10\n",
       "sin_mois_de_annee                  10\n",
       "cos_jour_annee                    223\n",
       "sin_jour_annee                    261\n",
       "cos_semaine_annee                  31\n",
       "sin_semaine_annee                  35"
      ]
     },
     "execution_count": 30,
     "metadata": {},
     "output_type": "execute_result"
    }
   ],
   "source": [
    "feat_numerical_nunique_d16 = pd.DataFrame(data_d16.select_dtypes(exclude=['object'],include=['int64','float64']).nunique(), columns = [\"unique_values\"])\n",
    "feat_numerical_nunique_d16"
   ]
  },
  {
   "cell_type": "code",
   "execution_count": 31,
   "metadata": {
    "ExecuteTime": {
     "end_time": "2021-08-31T15:34:52.472769Z",
     "start_time": "2021-08-31T15:34:52.450277Z"
    },
    "colab": {
     "base_uri": "https://localhost:8080/",
     "height": 390
    },
    "id": "QJvPzXpUdbLJ",
    "outputId": "4fa7a3ba-e0cc-4c3c-dd74-3081c34f7520"
   },
   "outputs": [
    {
     "data": {
      "text/html": [
       "<div>\n",
       "<style scoped>\n",
       "    .dataframe tbody tr th:only-of-type {\n",
       "        vertical-align: middle;\n",
       "    }\n",
       "\n",
       "    .dataframe tbody tr th {\n",
       "        vertical-align: top;\n",
       "    }\n",
       "\n",
       "    .dataframe thead th {\n",
       "        text-align: right;\n",
       "    }\n",
       "</style>\n",
       "<table border=\"1\" class=\"dataframe\">\n",
       "  <thead>\n",
       "    <tr style=\"text-align: right;\">\n",
       "      <th></th>\n",
       "      <th>unique_values</th>\n",
       "    </tr>\n",
       "  </thead>\n",
       "  <tbody>\n",
       "    <tr>\n",
       "      <th>date</th>\n",
       "      <td>371</td>\n",
       "    </tr>\n",
       "    <tr>\n",
       "      <th>jour</th>\n",
       "      <td>7</td>\n",
       "    </tr>\n",
       "    <tr>\n",
       "      <th>service</th>\n",
       "      <td>2</td>\n",
       "    </tr>\n",
       "    <tr>\n",
       "      <th>clear</th>\n",
       "      <td>2</td>\n",
       "    </tr>\n",
       "    <tr>\n",
       "      <th>clouds</th>\n",
       "      <td>5</td>\n",
       "    </tr>\n",
       "    <tr>\n",
       "      <th>drizzle</th>\n",
       "      <td>4</td>\n",
       "    </tr>\n",
       "    <tr>\n",
       "      <th>drizzle_and_rain</th>\n",
       "      <td>3</td>\n",
       "    </tr>\n",
       "    <tr>\n",
       "      <th>fog</th>\n",
       "      <td>2</td>\n",
       "    </tr>\n",
       "    <tr>\n",
       "      <th>mist</th>\n",
       "      <td>2</td>\n",
       "    </tr>\n",
       "    <tr>\n",
       "      <th>rain</th>\n",
       "      <td>5</td>\n",
       "    </tr>\n",
       "    <tr>\n",
       "      <th>thunderstorm</th>\n",
       "      <td>3</td>\n",
       "    </tr>\n",
       "  </tbody>\n",
       "</table>\n",
       "</div>"
      ],
      "text/plain": [
       "                  unique_values\n",
       "date                        371\n",
       "jour                          7\n",
       "service                       2\n",
       "clear                         2\n",
       "clouds                        5\n",
       "drizzle                       4\n",
       "drizzle_and_rain              3\n",
       "fog                           2\n",
       "mist                          2\n",
       "rain                          5\n",
       "thunderstorm                  3"
      ]
     },
     "execution_count": 31,
     "metadata": {},
     "output_type": "execute_result"
    }
   ],
   "source": [
    "feat_categorical_nunique_d16 = pd.DataFrame(data_d16.select_dtypes(include=['object'],exclude=['int64','float64']).nunique(), columns = [\"unique_values\"])\n",
    "feat_categorical_nunique_d16"
   ]
  },
  {
   "cell_type": "code",
   "execution_count": 32,
   "metadata": {
    "ExecuteTime": {
     "end_time": "2021-08-31T15:34:52.490701Z",
     "start_time": "2021-08-31T15:34:52.473817Z"
    },
    "id": "wP7I2wHfjiUm"
   },
   "outputs": [],
   "source": [
    "#weather_sorted"
   ]
  },
  {
   "cell_type": "code",
   "execution_count": 33,
   "metadata": {
    "ExecuteTime": {
     "end_time": "2021-08-31T15:34:52.518123Z",
     "start_time": "2021-08-31T15:34:52.492383Z"
    },
    "colab": {
     "base_uri": "https://localhost:8080/",
     "height": 142
    },
    "id": "TWLPiXSozFpE",
    "outputId": "8269f8c1-bef6-490d-d9d0-5ff34f2ddf72"
   },
   "outputs": [
    {
     "data": {
      "text/html": [
       "<style>#sk-81b5d938-0529-4b47-8e0b-b5bf654e712a {color: black;background-color: white;}#sk-81b5d938-0529-4b47-8e0b-b5bf654e712a pre{padding: 0;}#sk-81b5d938-0529-4b47-8e0b-b5bf654e712a div.sk-toggleable {background-color: white;}#sk-81b5d938-0529-4b47-8e0b-b5bf654e712a label.sk-toggleable__label {cursor: pointer;display: block;width: 100%;margin-bottom: 0;padding: 0.2em 0.3em;box-sizing: border-box;text-align: center;}#sk-81b5d938-0529-4b47-8e0b-b5bf654e712a div.sk-toggleable__content {max-height: 0;max-width: 0;overflow: hidden;text-align: left;background-color: #f0f8ff;}#sk-81b5d938-0529-4b47-8e0b-b5bf654e712a div.sk-toggleable__content pre {margin: 0.2em;color: black;border-radius: 0.25em;background-color: #f0f8ff;}#sk-81b5d938-0529-4b47-8e0b-b5bf654e712a input.sk-toggleable__control:checked~div.sk-toggleable__content {max-height: 200px;max-width: 100%;overflow: auto;}#sk-81b5d938-0529-4b47-8e0b-b5bf654e712a div.sk-estimator input.sk-toggleable__control:checked~label.sk-toggleable__label {background-color: #d4ebff;}#sk-81b5d938-0529-4b47-8e0b-b5bf654e712a div.sk-label input.sk-toggleable__control:checked~label.sk-toggleable__label {background-color: #d4ebff;}#sk-81b5d938-0529-4b47-8e0b-b5bf654e712a input.sk-hidden--visually {border: 0;clip: rect(1px 1px 1px 1px);clip: rect(1px, 1px, 1px, 1px);height: 1px;margin: -1px;overflow: hidden;padding: 0;position: absolute;width: 1px;}#sk-81b5d938-0529-4b47-8e0b-b5bf654e712a div.sk-estimator {font-family: monospace;background-color: #f0f8ff;margin: 0.25em 0.25em;border: 1px dotted black;border-radius: 0.25em;box-sizing: border-box;}#sk-81b5d938-0529-4b47-8e0b-b5bf654e712a div.sk-estimator:hover {background-color: #d4ebff;}#sk-81b5d938-0529-4b47-8e0b-b5bf654e712a div.sk-parallel-item::after {content: \"\";width: 100%;border-bottom: 1px solid gray;flex-grow: 1;}#sk-81b5d938-0529-4b47-8e0b-b5bf654e712a div.sk-label:hover label.sk-toggleable__label {background-color: #d4ebff;}#sk-81b5d938-0529-4b47-8e0b-b5bf654e712a div.sk-serial::before {content: \"\";position: absolute;border-left: 1px solid gray;box-sizing: border-box;top: 2em;bottom: 0;left: 50%;}#sk-81b5d938-0529-4b47-8e0b-b5bf654e712a div.sk-serial {display: flex;flex-direction: column;align-items: center;background-color: white;}#sk-81b5d938-0529-4b47-8e0b-b5bf654e712a div.sk-item {z-index: 1;}#sk-81b5d938-0529-4b47-8e0b-b5bf654e712a div.sk-parallel {display: flex;align-items: stretch;justify-content: center;background-color: white;}#sk-81b5d938-0529-4b47-8e0b-b5bf654e712a div.sk-parallel-item {display: flex;flex-direction: column;position: relative;background-color: white;}#sk-81b5d938-0529-4b47-8e0b-b5bf654e712a div.sk-parallel-item:first-child::after {align-self: flex-end;width: 50%;}#sk-81b5d938-0529-4b47-8e0b-b5bf654e712a div.sk-parallel-item:last-child::after {align-self: flex-start;width: 50%;}#sk-81b5d938-0529-4b47-8e0b-b5bf654e712a div.sk-parallel-item:only-child::after {width: 0;}#sk-81b5d938-0529-4b47-8e0b-b5bf654e712a div.sk-dashed-wrapped {border: 1px dashed gray;margin: 0.2em;box-sizing: border-box;padding-bottom: 0.1em;background-color: white;position: relative;}#sk-81b5d938-0529-4b47-8e0b-b5bf654e712a div.sk-label label {font-family: monospace;font-weight: bold;background-color: white;display: inline-block;line-height: 1.2em;}#sk-81b5d938-0529-4b47-8e0b-b5bf654e712a div.sk-label-container {position: relative;z-index: 2;text-align: center;}#sk-81b5d938-0529-4b47-8e0b-b5bf654e712a div.sk-container {display: inline-block;position: relative;}</style><div id=\"sk-81b5d938-0529-4b47-8e0b-b5bf654e712a\" class\"sk-top-container\"><div class=\"sk-container\"><div class=\"sk-item sk-dashed-wrapped\"><div class=\"sk-label-container\"><div class=\"sk-label sk-toggleable\"><input class=\"sk-toggleable__control sk-hidden--visually\" id=\"23a42b94-55a0-4b25-ab00-4fe7e5b360a3\" type=\"checkbox\" ><label class=\"sk-toggleable__label\" for=\"23a42b94-55a0-4b25-ab00-4fe7e5b360a3\">Pipeline</label><div class=\"sk-toggleable__content\"><pre>Pipeline(steps=[('simpleimputer',\n",
       "                 SimpleImputer(fill_value='missing', strategy='constant')),\n",
       "                ('ordinalencoder',\n",
       "                 OrdinalEncoder(categories=[['0', 0, 'sky is clear'],\n",
       "                                            ['0', 0, 'scattered clouds',\n",
       "                                             'few clouds', 'broken clouds',\n",
       "                                             'overcast clouds'],\n",
       "                                            ['0', 0, 'light intensity drizzle',\n",
       "                                             'drizzle',\n",
       "                                             'heavy intensity drizzle'],\n",
       "                                            ['0', 0,\n",
       "                                             'light intensity drizzle rain',\n",
       "                                             'rain and drizzle'],\n",
       "                                            ['0', 0, 'fog'], ['0', 0, 'mist'],\n",
       "                                            ['0', 0, 'light rain',\n",
       "                                             'light intensity shower rain',\n",
       "                                             'moderate rain',\n",
       "                                             'heavy intensity rain'],\n",
       "                                            ['0', 0, 'proximity thunderstorm',\n",
       "                                             'thunderstorm',\n",
       "                                             'thunderstorm with light rain',\n",
       "                                             'thunderstorm with heavy rain']],\n",
       "                                dtype=<class 'numpy.int64'>,\n",
       "                                handle_unknown='use_encoded_value',\n",
       "                                unknown_value=-1)),\n",
       "                ('robustscaler', RobustScaler())])</pre></div></div></div><div class=\"sk-serial\"><div class=\"sk-item\"><div class=\"sk-estimator sk-toggleable\"><input class=\"sk-toggleable__control sk-hidden--visually\" id=\"a74d6b27-b0bc-4a55-9dbd-8d2c4b89d32b\" type=\"checkbox\" ><label class=\"sk-toggleable__label\" for=\"a74d6b27-b0bc-4a55-9dbd-8d2c4b89d32b\">SimpleImputer</label><div class=\"sk-toggleable__content\"><pre>SimpleImputer(fill_value='missing', strategy='constant')</pre></div></div></div><div class=\"sk-item\"><div class=\"sk-estimator sk-toggleable\"><input class=\"sk-toggleable__control sk-hidden--visually\" id=\"32c5468f-a878-46d1-8a43-7f97e267a657\" type=\"checkbox\" ><label class=\"sk-toggleable__label\" for=\"32c5468f-a878-46d1-8a43-7f97e267a657\">OrdinalEncoder</label><div class=\"sk-toggleable__content\"><pre>OrdinalEncoder(categories=[['0', 0, 'sky is clear'],\n",
       "                           ['0', 0, 'scattered clouds', 'few clouds',\n",
       "                            'broken clouds', 'overcast clouds'],\n",
       "                           ['0', 0, 'light intensity drizzle', 'drizzle',\n",
       "                            'heavy intensity drizzle'],\n",
       "                           ['0', 0, 'light intensity drizzle rain',\n",
       "                            'rain and drizzle'],\n",
       "                           ['0', 0, 'fog'], ['0', 0, 'mist'],\n",
       "                           ['0', 0, 'light rain', 'light intensity shower rain',\n",
       "                            'moderate rain', 'heavy intensity rain'],\n",
       "                           ['0', 0, 'proximity thunderstorm', 'thunderstorm',\n",
       "                            'thunderstorm with light rain',\n",
       "                            'thunderstorm with heavy rain']],\n",
       "               dtype=<class 'numpy.int64'>, handle_unknown='use_encoded_value',\n",
       "               unknown_value=-1)</pre></div></div></div><div class=\"sk-item\"><div class=\"sk-estimator sk-toggleable\"><input class=\"sk-toggleable__control sk-hidden--visually\" id=\"4bea0378-6a0c-4efe-bbec-d8d41834c19f\" type=\"checkbox\" ><label class=\"sk-toggleable__label\" for=\"4bea0378-6a0c-4efe-bbec-d8d41834c19f\">RobustScaler</label><div class=\"sk-toggleable__content\"><pre>RobustScaler()</pre></div></div></div></div></div></div></div>"
      ],
      "text/plain": [
       "Pipeline(steps=[('simpleimputer',\n",
       "                 SimpleImputer(fill_value='missing', strategy='constant')),\n",
       "                ('ordinalencoder',\n",
       "                 OrdinalEncoder(categories=[['0', 0, 'sky is clear'],\n",
       "                                            ['0', 0, 'scattered clouds',\n",
       "                                             'few clouds', 'broken clouds',\n",
       "                                             'overcast clouds'],\n",
       "                                            ['0', 0, 'light intensity drizzle',\n",
       "                                             'drizzle',\n",
       "                                             'heavy intensity drizzle'],\n",
       "                                            ['0', 0,\n",
       "                                             'light intensity drizzle rain',\n",
       "                                             'rain and drizzle'],\n",
       "                                            ['0', 0, 'fog'], ['0', 0, 'mist'],\n",
       "                                            ['0', 0, 'light rain',\n",
       "                                             'light intensity shower rain',\n",
       "                                             'moderate rain',\n",
       "                                             'heavy intensity rain'],\n",
       "                                            ['0', 0, 'proximity thunderstorm',\n",
       "                                             'thunderstorm',\n",
       "                                             'thunderstorm with light rain',\n",
       "                                             'thunderstorm with heavy rain']],\n",
       "                                dtype=<class 'numpy.int64'>,\n",
       "                                handle_unknown='use_encoded_value',\n",
       "                                unknown_value=-1)),\n",
       "                ('robustscaler', RobustScaler())])"
      ]
     },
     "execution_count": 33,
     "metadata": {},
     "output_type": "execute_result"
    }
   ],
   "source": [
    "feat_ordinal_dict = {\n",
    "    'clear': ['0',0,'sky is clear'],\n",
    "    'clouds': ['0',0,'scattered clouds','few clouds','broken clouds','overcast clouds'],\n",
    "    'drizzle': ['0',0,'light intensity drizzle','drizzle','heavy intensity drizzle'],\n",
    "    'drizzle_and_rain': ['0',0,'light intensity drizzle rain','rain and drizzle'],\n",
    "    'fog': ['0',0,'fog'],\n",
    "    'mist': ['0',0,'mist'],\n",
    "    'rain': ['0',0,'light rain','light intensity shower rain','moderate rain','heavy intensity rain'],\n",
    "    'thunderstorm': ['0',0,'proximity thunderstorm','thunderstorm','thunderstorm with light rain','thunderstorm with heavy rain']\n",
    "}\n",
    "\n",
    "feat_ordinal = sorted(feat_ordinal_dict.keys()) # sort alphabetically\n",
    "feat_ordinal_values_sorted = [feat_ordinal_dict[i] for i in feat_ordinal]\n",
    "\n",
    "encoder_ordinal = OrdinalEncoder(\n",
    "    categories=feat_ordinal_values_sorted,\n",
    "    dtype= np.int64,\n",
    "    handle_unknown=\"use_encoded_value\",\n",
    "    unknown_value=-1 # Considers unknown values as worse than \"missing\"\n",
    ")\n",
    "\n",
    "preproc_ordinal = make_pipeline(\n",
    "    SimpleImputer(strategy=\"constant\", fill_value=\"missing\"),\n",
    "    encoder_ordinal,\n",
    "    RobustScaler()\n",
    ")\n",
    "\n",
    "preproc_ordinal"
   ]
  },
  {
   "cell_type": "code",
   "execution_count": 34,
   "metadata": {
    "ExecuteTime": {
     "end_time": "2021-08-31T15:34:52.537608Z",
     "start_time": "2021-08-31T15:34:52.519183Z"
    },
    "colab": {
     "base_uri": "https://localhost:8080/",
     "height": 855
    },
    "id": "f9V-cbVQWUX0",
    "outputId": "a40a4904-6967-42c1-f2ac-f77c88af9330"
   },
   "outputs": [
    {
     "data": {
      "text/html": [
       "<div>\n",
       "<style scoped>\n",
       "    .dataframe tbody tr th:only-of-type {\n",
       "        vertical-align: middle;\n",
       "    }\n",
       "\n",
       "    .dataframe tbody tr th {\n",
       "        vertical-align: top;\n",
       "    }\n",
       "\n",
       "    .dataframe thead th {\n",
       "        text-align: right;\n",
       "    }\n",
       "</style>\n",
       "<table border=\"1\" class=\"dataframe\">\n",
       "  <thead>\n",
       "    <tr style=\"text-align: right;\">\n",
       "      <th></th>\n",
       "      <th>unique_values</th>\n",
       "    </tr>\n",
       "  </thead>\n",
       "  <tbody>\n",
       "    <tr>\n",
       "      <th>CA_TTC</th>\n",
       "      <td>713</td>\n",
       "    </tr>\n",
       "    <tr>\n",
       "      <th>moyen_7_services</th>\n",
       "      <td>715</td>\n",
       "    </tr>\n",
       "    <tr>\n",
       "      <th>moyen_31_services</th>\n",
       "      <td>668</td>\n",
       "    </tr>\n",
       "    <tr>\n",
       "      <th>moyenne_3der_j&amp;service</th>\n",
       "      <td>671</td>\n",
       "    </tr>\n",
       "    <tr>\n",
       "      <th>temp</th>\n",
       "      <td>630</td>\n",
       "    </tr>\n",
       "    <tr>\n",
       "      <th>feels_like</th>\n",
       "      <td>654</td>\n",
       "    </tr>\n",
       "    <tr>\n",
       "      <th>temp_min</th>\n",
       "      <td>408</td>\n",
       "    </tr>\n",
       "    <tr>\n",
       "      <th>temp_max</th>\n",
       "      <td>449</td>\n",
       "    </tr>\n",
       "    <tr>\n",
       "      <th>wind_speed</th>\n",
       "      <td>39</td>\n",
       "    </tr>\n",
       "    <tr>\n",
       "      <th>clouds_all</th>\n",
       "      <td>7</td>\n",
       "    </tr>\n",
       "    <tr>\n",
       "      <th>match_edf</th>\n",
       "      <td>2</td>\n",
       "    </tr>\n",
       "    <tr>\n",
       "      <th>match_happening</th>\n",
       "      <td>1</td>\n",
       "    </tr>\n",
       "    <tr>\n",
       "      <th>match_happening_cl</th>\n",
       "      <td>1</td>\n",
       "    </tr>\n",
       "    <tr>\n",
       "      <th>roland_garros</th>\n",
       "      <td>2</td>\n",
       "    </tr>\n",
       "    <tr>\n",
       "      <th>fashion_week</th>\n",
       "      <td>2</td>\n",
       "    </tr>\n",
       "    <tr>\n",
       "      <th>vacances_paris</th>\n",
       "      <td>2</td>\n",
       "    </tr>\n",
       "    <tr>\n",
       "      <th>cos_jour_de_sem</th>\n",
       "      <td>7</td>\n",
       "    </tr>\n",
       "    <tr>\n",
       "      <th>sin_jour_de_sem</th>\n",
       "      <td>7</td>\n",
       "    </tr>\n",
       "    <tr>\n",
       "      <th>cos_jour_du_mois</th>\n",
       "      <td>26</td>\n",
       "    </tr>\n",
       "    <tr>\n",
       "      <th>sin_jour_du_mois</th>\n",
       "      <td>31</td>\n",
       "    </tr>\n",
       "    <tr>\n",
       "      <th>cos_mois_de_annee</th>\n",
       "      <td>10</td>\n",
       "    </tr>\n",
       "    <tr>\n",
       "      <th>sin_mois_de_annee</th>\n",
       "      <td>10</td>\n",
       "    </tr>\n",
       "    <tr>\n",
       "      <th>cos_jour_annee</th>\n",
       "      <td>223</td>\n",
       "    </tr>\n",
       "    <tr>\n",
       "      <th>sin_jour_annee</th>\n",
       "      <td>261</td>\n",
       "    </tr>\n",
       "    <tr>\n",
       "      <th>cos_semaine_annee</th>\n",
       "      <td>31</td>\n",
       "    </tr>\n",
       "    <tr>\n",
       "      <th>sin_semaine_annee</th>\n",
       "      <td>35</td>\n",
       "    </tr>\n",
       "  </tbody>\n",
       "</table>\n",
       "</div>"
      ],
      "text/plain": [
       "                        unique_values\n",
       "CA_TTC                            713\n",
       "moyen_7_services                  715\n",
       "moyen_31_services                 668\n",
       "moyenne_3der_j&service            671\n",
       "temp                              630\n",
       "feels_like                        654\n",
       "temp_min                          408\n",
       "temp_max                          449\n",
       "wind_speed                         39\n",
       "clouds_all                          7\n",
       "match_edf                           2\n",
       "match_happening                     1\n",
       "match_happening_cl                  1\n",
       "roland_garros                       2\n",
       "fashion_week                        2\n",
       "vacances_paris                      2\n",
       "cos_jour_de_sem                     7\n",
       "sin_jour_de_sem                     7\n",
       "cos_jour_du_mois                   26\n",
       "sin_jour_du_mois                   31\n",
       "cos_mois_de_annee                  10\n",
       "sin_mois_de_annee                  10\n",
       "cos_jour_annee                    223\n",
       "sin_jour_annee                    261\n",
       "cos_semaine_annee                  31\n",
       "sin_semaine_annee                  35"
      ]
     },
     "execution_count": 34,
     "metadata": {},
     "output_type": "execute_result"
    }
   ],
   "source": [
    "feat_numerical_nunique_d16"
   ]
  },
  {
   "cell_type": "code",
   "execution_count": 35,
   "metadata": {
    "ExecuteTime": {
     "end_time": "2021-08-31T15:34:52.562460Z",
     "start_time": "2021-08-31T15:34:52.539139Z"
    },
    "colab": {
     "base_uri": "https://localhost:8080/"
    },
    "id": "s5vwdw1EWt1F",
    "outputId": "0c6c6c47-ba81-486c-f5d8-01468cdcd20c"
   },
   "outputs": [
    {
     "name": "stdout",
     "output_type": "stream",
     "text": [
      "['date', 'jour', 'service', 'clear', 'clouds', 'drizzle', 'drizzle_and_rain', 'fog', 'mist', 'rain', 'thunderstorm']\n",
      "['CA_TTC', 'moyen_7_services', 'moyen_31_services', 'moyenne_3der_j&service', 'temp', 'feels_like', 'temp_min', 'temp_max', 'wind_speed', 'clouds_all', 'match_edf', 'match_happening', 'match_happening_cl', 'roland_garros', 'fashion_week', 'vacances_paris', 'cos_jour_de_sem', 'sin_jour_de_sem', 'cos_jour_du_mois', 'sin_jour_du_mois', 'cos_mois_de_annee', 'sin_mois_de_annee', 'cos_jour_annee', 'sin_jour_annee', 'cos_semaine_annee', 'sin_semaine_annee']\n"
     ]
    }
   ],
   "source": [
    "print(list(pd.DataFrame(data_d16.select_dtypes(include=['object'],exclude=['int64','float64']).nunique(), columns = [\"unique_values\"]).index))\n",
    "print(list(pd.DataFrame(data_d16.select_dtypes(exclude=['object'],include=['int64','float64']).nunique(), columns = [\"unique_values\"]).index))"
   ]
  },
  {
   "cell_type": "code",
   "execution_count": 36,
   "metadata": {
    "ExecuteTime": {
     "end_time": "2021-08-31T15:34:52.581505Z",
     "start_time": "2021-08-31T15:34:52.563612Z"
    },
    "colab": {
     "base_uri": "https://localhost:8080/"
    },
    "id": "9SHCnXjnr4NI",
    "outputId": "afaa9339-e540-4b7f-e9c2-af6f2d5daa6e"
   },
   "outputs": [
    {
     "data": {
      "text/plain": [
       "2019-09-01    2\n",
       "2020-08-26    2\n",
       "2020-08-07    2\n",
       "2020-08-06    2\n",
       "2020-08-05    2\n",
       "             ..\n",
       "2019-12-12    1\n",
       "2019-10-03    1\n",
       "2020-09-19    1\n",
       "2020-08-24    1\n",
       "2020-01-09    1\n",
       "Name: date, Length: 371, dtype: int64"
      ]
     },
     "execution_count": 36,
     "metadata": {},
     "output_type": "execute_result"
    }
   ],
   "source": [
    "data_d16.date.value_counts()"
   ]
  },
  {
   "cell_type": "code",
   "execution_count": 37,
   "metadata": {
    "ExecuteTime": {
     "end_time": "2021-08-31T15:34:52.599796Z",
     "start_time": "2021-08-31T15:34:52.582492Z"
    },
    "colab": {
     "base_uri": "https://localhost:8080/"
    },
    "id": "0N2Jhx5akM3S",
    "outputId": "2492e205-62fb-41ee-b29e-2b3285990767"
   },
   "outputs": [
    {
     "data": {
      "text/plain": [
       "Index(['date', 'jour', 'service', 'CA_TTC', 'moyen_7_services',\n",
       "       'moyen_31_services', 'moyenne_3der_j&service', 'temp', 'feels_like',\n",
       "       'temp_min', 'temp_max', 'wind_speed', 'clouds_all', 'clear', 'clouds',\n",
       "       'drizzle', 'drizzle_and_rain', 'fog', 'mist', 'rain', 'thunderstorm',\n",
       "       'match_edf', 'match_happening', 'match_happening_cl', 'roland_garros',\n",
       "       'fashion_week', 'vacances_paris', 'cos_jour_de_sem', 'sin_jour_de_sem',\n",
       "       'cos_jour_du_mois', 'sin_jour_du_mois', 'cos_mois_de_annee',\n",
       "       'sin_mois_de_annee', 'cos_jour_annee', 'sin_jour_annee',\n",
       "       'cos_semaine_annee', 'sin_semaine_annee'],\n",
       "      dtype='object')"
      ]
     },
     "execution_count": 37,
     "metadata": {},
     "output_type": "execute_result"
    }
   ],
   "source": [
    "data_d16.columns"
   ]
  },
  {
   "cell_type": "code",
   "execution_count": 42,
   "metadata": {
    "ExecuteTime": {
     "end_time": "2021-08-31T15:36:06.351729Z",
     "start_time": "2021-08-31T15:36:06.310820Z"
    }
   },
   "outputs": [
    {
     "data": {
      "text/plain": [
       "date                       object\n",
       "jour                       object\n",
       "service                    object\n",
       "CA_TTC                    float64\n",
       "moyen_7_services          float64\n",
       "moyen_31_services         float64\n",
       "moyenne_3der_j&service    float64\n",
       "temp                      float64\n",
       "feels_like                float64\n",
       "temp_min                  float64\n",
       "temp_max                  float64\n",
       "wind_speed                float64\n",
       "clouds_all                  int64\n",
       "clear                      object\n",
       "clouds                     object\n",
       "drizzle                    object\n",
       "drizzle_and_rain           object\n",
       "fog                        object\n",
       "mist                       object\n",
       "rain                       object\n",
       "thunderstorm               object\n",
       "match_edf                   int64\n",
       "match_happening           float64\n",
       "match_happening_cl        float64\n",
       "roland_garros               int64\n",
       "fashion_week                int64\n",
       "vacances_paris              int64\n",
       "cos_jour_de_sem           float64\n",
       "sin_jour_de_sem           float64\n",
       "cos_jour_du_mois          float64\n",
       "sin_jour_du_mois          float64\n",
       "cos_mois_de_annee         float64\n",
       "sin_mois_de_annee         float64\n",
       "cos_jour_annee            float64\n",
       "sin_jour_annee            float64\n",
       "cos_semaine_annee         float64\n",
       "sin_semaine_annee         float64\n",
       "dtype: object"
      ]
     },
     "execution_count": 42,
     "metadata": {},
     "output_type": "execute_result"
    }
   ],
   "source": [
    "data_d2.dtypes"
   ]
  },
  {
   "cell_type": "code",
   "execution_count": 47,
   "metadata": {
    "ExecuteTime": {
     "end_time": "2021-08-31T15:38:32.166103Z",
     "start_time": "2021-08-31T15:38:32.124979Z"
    }
   },
   "outputs": [
    {
     "data": {
      "text/plain": [
       "1"
      ]
     },
     "execution_count": 47,
     "metadata": {},
     "output_type": "execute_result"
    }
   ],
   "source": [
    "data_d2.match_happenin"
   ]
  },
  {
   "cell_type": "code",
   "execution_count": 38,
   "metadata": {
    "ExecuteTime": {
     "end_time": "2021-08-31T15:34:52.617711Z",
     "start_time": "2021-08-31T15:34:52.600894Z"
    },
    "id": "Nrv8lvRMX_tG"
   },
   "outputs": [],
   "source": [
    "categorical_features = ['date','jour', 'service', 'match_happening', 'match_happening_cl', 'match_edf', 'roland_garros', 'fashion_week','vacances_paris']\n",
    "cyclical_features = ['cos_jour_de_sem','sin_jour_de_sem', 'cos_jour_du_mois', 'sin_jour_du_mois','cos_mois_de_annee', 'sin_mois_de_annee', 'cos_jour_annee','sin_jour_annee', 'cos_semaine_annee', 'sin_semaine_annee']\n",
    "numerical_features = ['moyen_7_services','moyen_31_services','moyenne_3der_j&service','temp', 'feels_like', 'temp_min', 'temp_max', 'wind_speed', 'clouds_all']\n",
    "ordinal_features =['clear', 'clouds', 'drizzle', 'drizzle_and_rain', 'fog', 'mist', 'rain', 'thunderstorm']"
   ]
  },
  {
   "cell_type": "code",
   "execution_count": 39,
   "metadata": {
    "ExecuteTime": {
     "end_time": "2021-08-31T15:34:52.637043Z",
     "start_time": "2021-08-31T15:34:52.619528Z"
    },
    "id": "b8c8_PBSWDg3"
   },
   "outputs": [],
   "source": [
    "preproc_categorical = make_pipeline(\n",
    "    SimpleImputer(strategy=\"constant\", fill_value=\"missing\"),\n",
    "    OneHotEncoder(handle_unknown=\"ignore\"))\n",
    "\n",
    "preproc_cyclical = make_pipeline(\n",
    "    KNNImputer())\n",
    "\n",
    "preproc_numerical = make_pipeline(\n",
    "    KNNImputer(),\n",
    "    RobustScaler())\n",
    "\n",
    "preproc = make_column_transformer(\n",
    "    (preproc_categorical, categorical_features),\n",
    "    (preproc_cyclical, cyclical_features),\n",
    "    (preproc_numerical, numerical_features),\n",
    "    (preproc_ordinal, ordinal_features),\n",
    "    remainder =\"drop\")\n",
    "\n",
    "pipe = make_pipeline(\n",
    "    preproc,\n",
    ")"
   ]
  },
  {
   "cell_type": "code",
   "execution_count": 40,
   "metadata": {
    "ExecuteTime": {
     "end_time": "2021-08-31T15:34:52.864326Z",
     "start_time": "2021-08-31T15:34:52.639179Z"
    },
    "colab": {
     "base_uri": "https://localhost:8080/"
    },
    "id": "G1183qlvk5ZK",
    "outputId": "f820fbb9-1ba3-41c6-d12a-054e616b095f"
   },
   "outputs": [
    {
     "ename": "TypeError",
     "evalue": "Encoders require their input to be uniformly strings or numbers. Got ['float', 'str']",
     "output_type": "error",
     "traceback": [
      "\u001b[0;31m---------------------------------------------------------------------------\u001b[0m",
      "\u001b[0;31mTypeError\u001b[0m                                 Traceback (most recent call last)",
      "\u001b[0;32m~/.pyenv/versions/lewagon/envs/resto-project/lib/python3.8/site-packages/sklearn/utils/_encode.py\u001b[0m in \u001b[0;36m_unique_python\u001b[0;34m(values, return_inverse)\u001b[0m\n\u001b[1;32m    131\u001b[0m \u001b[0;34m\u001b[0m\u001b[0m\n\u001b[0;32m--> 132\u001b[0;31m         \u001b[0muniques\u001b[0m \u001b[0;34m=\u001b[0m \u001b[0msorted\u001b[0m\u001b[0;34m(\u001b[0m\u001b[0muniques_set\u001b[0m\u001b[0;34m)\u001b[0m\u001b[0;34m\u001b[0m\u001b[0;34m\u001b[0m\u001b[0m\n\u001b[0m\u001b[1;32m    133\u001b[0m         \u001b[0muniques\u001b[0m\u001b[0;34m.\u001b[0m\u001b[0mextend\u001b[0m\u001b[0;34m(\u001b[0m\u001b[0mmissing_values\u001b[0m\u001b[0;34m.\u001b[0m\u001b[0mto_list\u001b[0m\u001b[0;34m(\u001b[0m\u001b[0;34m)\u001b[0m\u001b[0;34m)\u001b[0m\u001b[0;34m\u001b[0m\u001b[0;34m\u001b[0m\u001b[0m\n",
      "\u001b[0;31mTypeError\u001b[0m: '<' not supported between instances of 'str' and 'float'",
      "\nDuring handling of the above exception, another exception occurred:\n",
      "\u001b[0;31mTypeError\u001b[0m                                 Traceback (most recent call last)",
      "\u001b[0;32m/var/folders/sn/0tj84qyj3qz6z4lj_y96_0r00000gn/T/ipykernel_10911/3989997698.py\u001b[0m in \u001b[0;36m<module>\u001b[0;34m\u001b[0m\n\u001b[0;32m----> 1\u001b[0;31m \u001b[0mpipe\u001b[0m\u001b[0;34m.\u001b[0m\u001b[0mfit_transform\u001b[0m\u001b[0;34m(\u001b[0m\u001b[0mdata_d2\u001b[0m\u001b[0;34m)\u001b[0m\u001b[0;34m\u001b[0m\u001b[0;34m\u001b[0m\u001b[0m\n\u001b[0m",
      "\u001b[0;32m~/.pyenv/versions/lewagon/envs/resto-project/lib/python3.8/site-packages/sklearn/pipeline.py\u001b[0m in \u001b[0;36mfit_transform\u001b[0;34m(self, X, y, **fit_params)\u001b[0m\n\u001b[1;32m    385\u001b[0m             \u001b[0mfit_params_last_step\u001b[0m \u001b[0;34m=\u001b[0m \u001b[0mfit_params_steps\u001b[0m\u001b[0;34m[\u001b[0m\u001b[0mself\u001b[0m\u001b[0;34m.\u001b[0m\u001b[0msteps\u001b[0m\u001b[0;34m[\u001b[0m\u001b[0;34m-\u001b[0m\u001b[0;36m1\u001b[0m\u001b[0;34m]\u001b[0m\u001b[0;34m[\u001b[0m\u001b[0;36m0\u001b[0m\u001b[0;34m]\u001b[0m\u001b[0;34m]\u001b[0m\u001b[0;34m\u001b[0m\u001b[0;34m\u001b[0m\u001b[0m\n\u001b[1;32m    386\u001b[0m             \u001b[0;32mif\u001b[0m \u001b[0mhasattr\u001b[0m\u001b[0;34m(\u001b[0m\u001b[0mlast_step\u001b[0m\u001b[0;34m,\u001b[0m \u001b[0;34m'fit_transform'\u001b[0m\u001b[0;34m)\u001b[0m\u001b[0;34m:\u001b[0m\u001b[0;34m\u001b[0m\u001b[0;34m\u001b[0m\u001b[0m\n\u001b[0;32m--> 387\u001b[0;31m                 \u001b[0;32mreturn\u001b[0m \u001b[0mlast_step\u001b[0m\u001b[0;34m.\u001b[0m\u001b[0mfit_transform\u001b[0m\u001b[0;34m(\u001b[0m\u001b[0mXt\u001b[0m\u001b[0;34m,\u001b[0m \u001b[0my\u001b[0m\u001b[0;34m,\u001b[0m \u001b[0;34m**\u001b[0m\u001b[0mfit_params_last_step\u001b[0m\u001b[0;34m)\u001b[0m\u001b[0;34m\u001b[0m\u001b[0;34m\u001b[0m\u001b[0m\n\u001b[0m\u001b[1;32m    388\u001b[0m             \u001b[0;32melse\u001b[0m\u001b[0;34m:\u001b[0m\u001b[0;34m\u001b[0m\u001b[0;34m\u001b[0m\u001b[0m\n\u001b[1;32m    389\u001b[0m                 return last_step.fit(Xt, y,\n",
      "\u001b[0;32m~/.pyenv/versions/lewagon/envs/resto-project/lib/python3.8/site-packages/sklearn/compose/_column_transformer.py\u001b[0m in \u001b[0;36mfit_transform\u001b[0;34m(self, X, y)\u001b[0m\n\u001b[1;32m    505\u001b[0m         \u001b[0mself\u001b[0m\u001b[0;34m.\u001b[0m\u001b[0m_validate_remainder\u001b[0m\u001b[0;34m(\u001b[0m\u001b[0mX\u001b[0m\u001b[0;34m)\u001b[0m\u001b[0;34m\u001b[0m\u001b[0;34m\u001b[0m\u001b[0m\n\u001b[1;32m    506\u001b[0m \u001b[0;34m\u001b[0m\u001b[0m\n\u001b[0;32m--> 507\u001b[0;31m         \u001b[0mresult\u001b[0m \u001b[0;34m=\u001b[0m \u001b[0mself\u001b[0m\u001b[0;34m.\u001b[0m\u001b[0m_fit_transform\u001b[0m\u001b[0;34m(\u001b[0m\u001b[0mX\u001b[0m\u001b[0;34m,\u001b[0m \u001b[0my\u001b[0m\u001b[0;34m,\u001b[0m \u001b[0m_fit_transform_one\u001b[0m\u001b[0;34m)\u001b[0m\u001b[0;34m\u001b[0m\u001b[0;34m\u001b[0m\u001b[0m\n\u001b[0m\u001b[1;32m    508\u001b[0m \u001b[0;34m\u001b[0m\u001b[0m\n\u001b[1;32m    509\u001b[0m         \u001b[0;32mif\u001b[0m \u001b[0;32mnot\u001b[0m \u001b[0mresult\u001b[0m\u001b[0;34m:\u001b[0m\u001b[0;34m\u001b[0m\u001b[0;34m\u001b[0m\u001b[0m\n",
      "\u001b[0;32m~/.pyenv/versions/lewagon/envs/resto-project/lib/python3.8/site-packages/sklearn/compose/_column_transformer.py\u001b[0m in \u001b[0;36m_fit_transform\u001b[0;34m(self, X, y, func, fitted)\u001b[0m\n\u001b[1;32m    432\u001b[0m             self._iter(fitted=fitted, replace_strings=True))\n\u001b[1;32m    433\u001b[0m         \u001b[0;32mtry\u001b[0m\u001b[0;34m:\u001b[0m\u001b[0;34m\u001b[0m\u001b[0;34m\u001b[0m\u001b[0m\n\u001b[0;32m--> 434\u001b[0;31m             return Parallel(n_jobs=self.n_jobs)(\n\u001b[0m\u001b[1;32m    435\u001b[0m                 delayed(func)(\n\u001b[1;32m    436\u001b[0m                     \u001b[0mtransformer\u001b[0m\u001b[0;34m=\u001b[0m\u001b[0mclone\u001b[0m\u001b[0;34m(\u001b[0m\u001b[0mtrans\u001b[0m\u001b[0;34m)\u001b[0m \u001b[0;32mif\u001b[0m \u001b[0;32mnot\u001b[0m \u001b[0mfitted\u001b[0m \u001b[0;32melse\u001b[0m \u001b[0mtrans\u001b[0m\u001b[0;34m,\u001b[0m\u001b[0;34m\u001b[0m\u001b[0;34m\u001b[0m\u001b[0m\n",
      "\u001b[0;32m~/.pyenv/versions/lewagon/envs/resto-project/lib/python3.8/site-packages/joblib/parallel.py\u001b[0m in \u001b[0;36m__call__\u001b[0;34m(self, iterable)\u001b[0m\n\u001b[1;32m   1039\u001b[0m             \u001b[0;31m# remaining jobs.\u001b[0m\u001b[0;34m\u001b[0m\u001b[0;34m\u001b[0m\u001b[0;34m\u001b[0m\u001b[0m\n\u001b[1;32m   1040\u001b[0m             \u001b[0mself\u001b[0m\u001b[0;34m.\u001b[0m\u001b[0m_iterating\u001b[0m \u001b[0;34m=\u001b[0m \u001b[0;32mFalse\u001b[0m\u001b[0;34m\u001b[0m\u001b[0;34m\u001b[0m\u001b[0m\n\u001b[0;32m-> 1041\u001b[0;31m             \u001b[0;32mif\u001b[0m \u001b[0mself\u001b[0m\u001b[0;34m.\u001b[0m\u001b[0mdispatch_one_batch\u001b[0m\u001b[0;34m(\u001b[0m\u001b[0miterator\u001b[0m\u001b[0;34m)\u001b[0m\u001b[0;34m:\u001b[0m\u001b[0;34m\u001b[0m\u001b[0;34m\u001b[0m\u001b[0m\n\u001b[0m\u001b[1;32m   1042\u001b[0m                 \u001b[0mself\u001b[0m\u001b[0;34m.\u001b[0m\u001b[0m_iterating\u001b[0m \u001b[0;34m=\u001b[0m \u001b[0mself\u001b[0m\u001b[0;34m.\u001b[0m\u001b[0m_original_iterator\u001b[0m \u001b[0;32mis\u001b[0m \u001b[0;32mnot\u001b[0m \u001b[0;32mNone\u001b[0m\u001b[0;34m\u001b[0m\u001b[0;34m\u001b[0m\u001b[0m\n\u001b[1;32m   1043\u001b[0m \u001b[0;34m\u001b[0m\u001b[0m\n",
      "\u001b[0;32m~/.pyenv/versions/lewagon/envs/resto-project/lib/python3.8/site-packages/joblib/parallel.py\u001b[0m in \u001b[0;36mdispatch_one_batch\u001b[0;34m(self, iterator)\u001b[0m\n\u001b[1;32m    857\u001b[0m                 \u001b[0;32mreturn\u001b[0m \u001b[0;32mFalse\u001b[0m\u001b[0;34m\u001b[0m\u001b[0;34m\u001b[0m\u001b[0m\n\u001b[1;32m    858\u001b[0m             \u001b[0;32melse\u001b[0m\u001b[0;34m:\u001b[0m\u001b[0;34m\u001b[0m\u001b[0;34m\u001b[0m\u001b[0m\n\u001b[0;32m--> 859\u001b[0;31m                 \u001b[0mself\u001b[0m\u001b[0;34m.\u001b[0m\u001b[0m_dispatch\u001b[0m\u001b[0;34m(\u001b[0m\u001b[0mtasks\u001b[0m\u001b[0;34m)\u001b[0m\u001b[0;34m\u001b[0m\u001b[0;34m\u001b[0m\u001b[0m\n\u001b[0m\u001b[1;32m    860\u001b[0m                 \u001b[0;32mreturn\u001b[0m \u001b[0;32mTrue\u001b[0m\u001b[0;34m\u001b[0m\u001b[0;34m\u001b[0m\u001b[0m\n\u001b[1;32m    861\u001b[0m \u001b[0;34m\u001b[0m\u001b[0m\n",
      "\u001b[0;32m~/.pyenv/versions/lewagon/envs/resto-project/lib/python3.8/site-packages/joblib/parallel.py\u001b[0m in \u001b[0;36m_dispatch\u001b[0;34m(self, batch)\u001b[0m\n\u001b[1;32m    775\u001b[0m         \u001b[0;32mwith\u001b[0m \u001b[0mself\u001b[0m\u001b[0;34m.\u001b[0m\u001b[0m_lock\u001b[0m\u001b[0;34m:\u001b[0m\u001b[0;34m\u001b[0m\u001b[0;34m\u001b[0m\u001b[0m\n\u001b[1;32m    776\u001b[0m             \u001b[0mjob_idx\u001b[0m \u001b[0;34m=\u001b[0m \u001b[0mlen\u001b[0m\u001b[0;34m(\u001b[0m\u001b[0mself\u001b[0m\u001b[0;34m.\u001b[0m\u001b[0m_jobs\u001b[0m\u001b[0;34m)\u001b[0m\u001b[0;34m\u001b[0m\u001b[0;34m\u001b[0m\u001b[0m\n\u001b[0;32m--> 777\u001b[0;31m             \u001b[0mjob\u001b[0m \u001b[0;34m=\u001b[0m \u001b[0mself\u001b[0m\u001b[0;34m.\u001b[0m\u001b[0m_backend\u001b[0m\u001b[0;34m.\u001b[0m\u001b[0mapply_async\u001b[0m\u001b[0;34m(\u001b[0m\u001b[0mbatch\u001b[0m\u001b[0;34m,\u001b[0m \u001b[0mcallback\u001b[0m\u001b[0;34m=\u001b[0m\u001b[0mcb\u001b[0m\u001b[0;34m)\u001b[0m\u001b[0;34m\u001b[0m\u001b[0;34m\u001b[0m\u001b[0m\n\u001b[0m\u001b[1;32m    778\u001b[0m             \u001b[0;31m# A job can complete so quickly than its callback is\u001b[0m\u001b[0;34m\u001b[0m\u001b[0;34m\u001b[0m\u001b[0;34m\u001b[0m\u001b[0m\n\u001b[1;32m    779\u001b[0m             \u001b[0;31m# called before we get here, causing self._jobs to\u001b[0m\u001b[0;34m\u001b[0m\u001b[0;34m\u001b[0m\u001b[0;34m\u001b[0m\u001b[0m\n",
      "\u001b[0;32m~/.pyenv/versions/lewagon/envs/resto-project/lib/python3.8/site-packages/joblib/_parallel_backends.py\u001b[0m in \u001b[0;36mapply_async\u001b[0;34m(self, func, callback)\u001b[0m\n\u001b[1;32m    206\u001b[0m     \u001b[0;32mdef\u001b[0m \u001b[0mapply_async\u001b[0m\u001b[0;34m(\u001b[0m\u001b[0mself\u001b[0m\u001b[0;34m,\u001b[0m \u001b[0mfunc\u001b[0m\u001b[0;34m,\u001b[0m \u001b[0mcallback\u001b[0m\u001b[0;34m=\u001b[0m\u001b[0;32mNone\u001b[0m\u001b[0;34m)\u001b[0m\u001b[0;34m:\u001b[0m\u001b[0;34m\u001b[0m\u001b[0;34m\u001b[0m\u001b[0m\n\u001b[1;32m    207\u001b[0m         \u001b[0;34m\"\"\"Schedule a func to be run\"\"\"\u001b[0m\u001b[0;34m\u001b[0m\u001b[0;34m\u001b[0m\u001b[0m\n\u001b[0;32m--> 208\u001b[0;31m         \u001b[0mresult\u001b[0m \u001b[0;34m=\u001b[0m \u001b[0mImmediateResult\u001b[0m\u001b[0;34m(\u001b[0m\u001b[0mfunc\u001b[0m\u001b[0;34m)\u001b[0m\u001b[0;34m\u001b[0m\u001b[0;34m\u001b[0m\u001b[0m\n\u001b[0m\u001b[1;32m    209\u001b[0m         \u001b[0;32mif\u001b[0m \u001b[0mcallback\u001b[0m\u001b[0;34m:\u001b[0m\u001b[0;34m\u001b[0m\u001b[0;34m\u001b[0m\u001b[0m\n\u001b[1;32m    210\u001b[0m             \u001b[0mcallback\u001b[0m\u001b[0;34m(\u001b[0m\u001b[0mresult\u001b[0m\u001b[0;34m)\u001b[0m\u001b[0;34m\u001b[0m\u001b[0;34m\u001b[0m\u001b[0m\n",
      "\u001b[0;32m~/.pyenv/versions/lewagon/envs/resto-project/lib/python3.8/site-packages/joblib/_parallel_backends.py\u001b[0m in \u001b[0;36m__init__\u001b[0;34m(self, batch)\u001b[0m\n\u001b[1;32m    570\u001b[0m         \u001b[0;31m# Don't delay the application, to avoid keeping the input\u001b[0m\u001b[0;34m\u001b[0m\u001b[0;34m\u001b[0m\u001b[0;34m\u001b[0m\u001b[0m\n\u001b[1;32m    571\u001b[0m         \u001b[0;31m# arguments in memory\u001b[0m\u001b[0;34m\u001b[0m\u001b[0;34m\u001b[0m\u001b[0;34m\u001b[0m\u001b[0m\n\u001b[0;32m--> 572\u001b[0;31m         \u001b[0mself\u001b[0m\u001b[0;34m.\u001b[0m\u001b[0mresults\u001b[0m \u001b[0;34m=\u001b[0m \u001b[0mbatch\u001b[0m\u001b[0;34m(\u001b[0m\u001b[0;34m)\u001b[0m\u001b[0;34m\u001b[0m\u001b[0;34m\u001b[0m\u001b[0m\n\u001b[0m\u001b[1;32m    573\u001b[0m \u001b[0;34m\u001b[0m\u001b[0m\n\u001b[1;32m    574\u001b[0m     \u001b[0;32mdef\u001b[0m \u001b[0mget\u001b[0m\u001b[0;34m(\u001b[0m\u001b[0mself\u001b[0m\u001b[0;34m)\u001b[0m\u001b[0;34m:\u001b[0m\u001b[0;34m\u001b[0m\u001b[0;34m\u001b[0m\u001b[0m\n",
      "\u001b[0;32m~/.pyenv/versions/lewagon/envs/resto-project/lib/python3.8/site-packages/joblib/parallel.py\u001b[0m in \u001b[0;36m__call__\u001b[0;34m(self)\u001b[0m\n\u001b[1;32m    260\u001b[0m         \u001b[0;31m# change the default number of processes to -1\u001b[0m\u001b[0;34m\u001b[0m\u001b[0;34m\u001b[0m\u001b[0;34m\u001b[0m\u001b[0m\n\u001b[1;32m    261\u001b[0m         \u001b[0;32mwith\u001b[0m \u001b[0mparallel_backend\u001b[0m\u001b[0;34m(\u001b[0m\u001b[0mself\u001b[0m\u001b[0;34m.\u001b[0m\u001b[0m_backend\u001b[0m\u001b[0;34m,\u001b[0m \u001b[0mn_jobs\u001b[0m\u001b[0;34m=\u001b[0m\u001b[0mself\u001b[0m\u001b[0;34m.\u001b[0m\u001b[0m_n_jobs\u001b[0m\u001b[0;34m)\u001b[0m\u001b[0;34m:\u001b[0m\u001b[0;34m\u001b[0m\u001b[0;34m\u001b[0m\u001b[0m\n\u001b[0;32m--> 262\u001b[0;31m             return [func(*args, **kwargs)\n\u001b[0m\u001b[1;32m    263\u001b[0m                     for func, args, kwargs in self.items]\n\u001b[1;32m    264\u001b[0m \u001b[0;34m\u001b[0m\u001b[0m\n",
      "\u001b[0;32m~/.pyenv/versions/lewagon/envs/resto-project/lib/python3.8/site-packages/joblib/parallel.py\u001b[0m in \u001b[0;36m<listcomp>\u001b[0;34m(.0)\u001b[0m\n\u001b[1;32m    260\u001b[0m         \u001b[0;31m# change the default number of processes to -1\u001b[0m\u001b[0;34m\u001b[0m\u001b[0;34m\u001b[0m\u001b[0;34m\u001b[0m\u001b[0m\n\u001b[1;32m    261\u001b[0m         \u001b[0;32mwith\u001b[0m \u001b[0mparallel_backend\u001b[0m\u001b[0;34m(\u001b[0m\u001b[0mself\u001b[0m\u001b[0;34m.\u001b[0m\u001b[0m_backend\u001b[0m\u001b[0;34m,\u001b[0m \u001b[0mn_jobs\u001b[0m\u001b[0;34m=\u001b[0m\u001b[0mself\u001b[0m\u001b[0;34m.\u001b[0m\u001b[0m_n_jobs\u001b[0m\u001b[0;34m)\u001b[0m\u001b[0;34m:\u001b[0m\u001b[0;34m\u001b[0m\u001b[0;34m\u001b[0m\u001b[0m\n\u001b[0;32m--> 262\u001b[0;31m             return [func(*args, **kwargs)\n\u001b[0m\u001b[1;32m    263\u001b[0m                     for func, args, kwargs in self.items]\n\u001b[1;32m    264\u001b[0m \u001b[0;34m\u001b[0m\u001b[0m\n",
      "\u001b[0;32m~/.pyenv/versions/lewagon/envs/resto-project/lib/python3.8/site-packages/sklearn/utils/fixes.py\u001b[0m in \u001b[0;36m__call__\u001b[0;34m(self, *args, **kwargs)\u001b[0m\n\u001b[1;32m    220\u001b[0m     \u001b[0;32mdef\u001b[0m \u001b[0m__call__\u001b[0m\u001b[0;34m(\u001b[0m\u001b[0mself\u001b[0m\u001b[0;34m,\u001b[0m \u001b[0;34m*\u001b[0m\u001b[0margs\u001b[0m\u001b[0;34m,\u001b[0m \u001b[0;34m**\u001b[0m\u001b[0mkwargs\u001b[0m\u001b[0;34m)\u001b[0m\u001b[0;34m:\u001b[0m\u001b[0;34m\u001b[0m\u001b[0;34m\u001b[0m\u001b[0m\n\u001b[1;32m    221\u001b[0m         \u001b[0;32mwith\u001b[0m \u001b[0mconfig_context\u001b[0m\u001b[0;34m(\u001b[0m\u001b[0;34m**\u001b[0m\u001b[0mself\u001b[0m\u001b[0;34m.\u001b[0m\u001b[0mconfig\u001b[0m\u001b[0;34m)\u001b[0m\u001b[0;34m:\u001b[0m\u001b[0;34m\u001b[0m\u001b[0;34m\u001b[0m\u001b[0m\n\u001b[0;32m--> 222\u001b[0;31m             \u001b[0;32mreturn\u001b[0m \u001b[0mself\u001b[0m\u001b[0;34m.\u001b[0m\u001b[0mfunction\u001b[0m\u001b[0;34m(\u001b[0m\u001b[0;34m*\u001b[0m\u001b[0margs\u001b[0m\u001b[0;34m,\u001b[0m \u001b[0;34m**\u001b[0m\u001b[0mkwargs\u001b[0m\u001b[0;34m)\u001b[0m\u001b[0;34m\u001b[0m\u001b[0;34m\u001b[0m\u001b[0m\n\u001b[0m",
      "\u001b[0;32m~/.pyenv/versions/lewagon/envs/resto-project/lib/python3.8/site-packages/sklearn/pipeline.py\u001b[0m in \u001b[0;36m_fit_transform_one\u001b[0;34m(transformer, X, y, weight, message_clsname, message, **fit_params)\u001b[0m\n\u001b[1;32m    752\u001b[0m     \u001b[0;32mwith\u001b[0m \u001b[0m_print_elapsed_time\u001b[0m\u001b[0;34m(\u001b[0m\u001b[0mmessage_clsname\u001b[0m\u001b[0;34m,\u001b[0m \u001b[0mmessage\u001b[0m\u001b[0;34m)\u001b[0m\u001b[0;34m:\u001b[0m\u001b[0;34m\u001b[0m\u001b[0;34m\u001b[0m\u001b[0m\n\u001b[1;32m    753\u001b[0m         \u001b[0;32mif\u001b[0m \u001b[0mhasattr\u001b[0m\u001b[0;34m(\u001b[0m\u001b[0mtransformer\u001b[0m\u001b[0;34m,\u001b[0m \u001b[0;34m'fit_transform'\u001b[0m\u001b[0;34m)\u001b[0m\u001b[0;34m:\u001b[0m\u001b[0;34m\u001b[0m\u001b[0;34m\u001b[0m\u001b[0m\n\u001b[0;32m--> 754\u001b[0;31m             \u001b[0mres\u001b[0m \u001b[0;34m=\u001b[0m \u001b[0mtransformer\u001b[0m\u001b[0;34m.\u001b[0m\u001b[0mfit_transform\u001b[0m\u001b[0;34m(\u001b[0m\u001b[0mX\u001b[0m\u001b[0;34m,\u001b[0m \u001b[0my\u001b[0m\u001b[0;34m,\u001b[0m \u001b[0;34m**\u001b[0m\u001b[0mfit_params\u001b[0m\u001b[0;34m)\u001b[0m\u001b[0;34m\u001b[0m\u001b[0;34m\u001b[0m\u001b[0m\n\u001b[0m\u001b[1;32m    755\u001b[0m         \u001b[0;32melse\u001b[0m\u001b[0;34m:\u001b[0m\u001b[0;34m\u001b[0m\u001b[0;34m\u001b[0m\u001b[0m\n\u001b[1;32m    756\u001b[0m             \u001b[0mres\u001b[0m \u001b[0;34m=\u001b[0m \u001b[0mtransformer\u001b[0m\u001b[0;34m.\u001b[0m\u001b[0mfit\u001b[0m\u001b[0;34m(\u001b[0m\u001b[0mX\u001b[0m\u001b[0;34m,\u001b[0m \u001b[0my\u001b[0m\u001b[0;34m,\u001b[0m \u001b[0;34m**\u001b[0m\u001b[0mfit_params\u001b[0m\u001b[0;34m)\u001b[0m\u001b[0;34m.\u001b[0m\u001b[0mtransform\u001b[0m\u001b[0;34m(\u001b[0m\u001b[0mX\u001b[0m\u001b[0;34m)\u001b[0m\u001b[0;34m\u001b[0m\u001b[0;34m\u001b[0m\u001b[0m\n",
      "\u001b[0;32m~/.pyenv/versions/lewagon/envs/resto-project/lib/python3.8/site-packages/sklearn/pipeline.py\u001b[0m in \u001b[0;36mfit_transform\u001b[0;34m(self, X, y, **fit_params)\u001b[0m\n\u001b[1;32m    385\u001b[0m             \u001b[0mfit_params_last_step\u001b[0m \u001b[0;34m=\u001b[0m \u001b[0mfit_params_steps\u001b[0m\u001b[0;34m[\u001b[0m\u001b[0mself\u001b[0m\u001b[0;34m.\u001b[0m\u001b[0msteps\u001b[0m\u001b[0;34m[\u001b[0m\u001b[0;34m-\u001b[0m\u001b[0;36m1\u001b[0m\u001b[0;34m]\u001b[0m\u001b[0;34m[\u001b[0m\u001b[0;36m0\u001b[0m\u001b[0;34m]\u001b[0m\u001b[0;34m]\u001b[0m\u001b[0;34m\u001b[0m\u001b[0;34m\u001b[0m\u001b[0m\n\u001b[1;32m    386\u001b[0m             \u001b[0;32mif\u001b[0m \u001b[0mhasattr\u001b[0m\u001b[0;34m(\u001b[0m\u001b[0mlast_step\u001b[0m\u001b[0;34m,\u001b[0m \u001b[0;34m'fit_transform'\u001b[0m\u001b[0;34m)\u001b[0m\u001b[0;34m:\u001b[0m\u001b[0;34m\u001b[0m\u001b[0;34m\u001b[0m\u001b[0m\n\u001b[0;32m--> 387\u001b[0;31m                 \u001b[0;32mreturn\u001b[0m \u001b[0mlast_step\u001b[0m\u001b[0;34m.\u001b[0m\u001b[0mfit_transform\u001b[0m\u001b[0;34m(\u001b[0m\u001b[0mXt\u001b[0m\u001b[0;34m,\u001b[0m \u001b[0my\u001b[0m\u001b[0;34m,\u001b[0m \u001b[0;34m**\u001b[0m\u001b[0mfit_params_last_step\u001b[0m\u001b[0;34m)\u001b[0m\u001b[0;34m\u001b[0m\u001b[0;34m\u001b[0m\u001b[0m\n\u001b[0m\u001b[1;32m    388\u001b[0m             \u001b[0;32melse\u001b[0m\u001b[0;34m:\u001b[0m\u001b[0;34m\u001b[0m\u001b[0;34m\u001b[0m\u001b[0m\n\u001b[1;32m    389\u001b[0m                 return last_step.fit(Xt, y,\n",
      "\u001b[0;32m~/.pyenv/versions/lewagon/envs/resto-project/lib/python3.8/site-packages/sklearn/preprocessing/_encoders.py\u001b[0m in \u001b[0;36mfit_transform\u001b[0;34m(self, X, y)\u001b[0m\n\u001b[1;32m    449\u001b[0m         \"\"\"\n\u001b[1;32m    450\u001b[0m         \u001b[0mself\u001b[0m\u001b[0;34m.\u001b[0m\u001b[0m_validate_keywords\u001b[0m\u001b[0;34m(\u001b[0m\u001b[0;34m)\u001b[0m\u001b[0;34m\u001b[0m\u001b[0;34m\u001b[0m\u001b[0m\n\u001b[0;32m--> 451\u001b[0;31m         \u001b[0;32mreturn\u001b[0m \u001b[0msuper\u001b[0m\u001b[0;34m(\u001b[0m\u001b[0;34m)\u001b[0m\u001b[0;34m.\u001b[0m\u001b[0mfit_transform\u001b[0m\u001b[0;34m(\u001b[0m\u001b[0mX\u001b[0m\u001b[0;34m,\u001b[0m \u001b[0my\u001b[0m\u001b[0;34m)\u001b[0m\u001b[0;34m\u001b[0m\u001b[0;34m\u001b[0m\u001b[0m\n\u001b[0m\u001b[1;32m    452\u001b[0m \u001b[0;34m\u001b[0m\u001b[0m\n\u001b[1;32m    453\u001b[0m     \u001b[0;32mdef\u001b[0m \u001b[0mtransform\u001b[0m\u001b[0;34m(\u001b[0m\u001b[0mself\u001b[0m\u001b[0;34m,\u001b[0m \u001b[0mX\u001b[0m\u001b[0;34m)\u001b[0m\u001b[0;34m:\u001b[0m\u001b[0;34m\u001b[0m\u001b[0;34m\u001b[0m\u001b[0m\n",
      "\u001b[0;32m~/.pyenv/versions/lewagon/envs/resto-project/lib/python3.8/site-packages/sklearn/base.py\u001b[0m in \u001b[0;36mfit_transform\u001b[0;34m(self, X, y, **fit_params)\u001b[0m\n\u001b[1;32m    697\u001b[0m         \u001b[0;32mif\u001b[0m \u001b[0my\u001b[0m \u001b[0;32mis\u001b[0m \u001b[0;32mNone\u001b[0m\u001b[0;34m:\u001b[0m\u001b[0;34m\u001b[0m\u001b[0;34m\u001b[0m\u001b[0m\n\u001b[1;32m    698\u001b[0m             \u001b[0;31m# fit method of arity 1 (unsupervised transformation)\u001b[0m\u001b[0;34m\u001b[0m\u001b[0;34m\u001b[0m\u001b[0;34m\u001b[0m\u001b[0m\n\u001b[0;32m--> 699\u001b[0;31m             \u001b[0;32mreturn\u001b[0m \u001b[0mself\u001b[0m\u001b[0;34m.\u001b[0m\u001b[0mfit\u001b[0m\u001b[0;34m(\u001b[0m\u001b[0mX\u001b[0m\u001b[0;34m,\u001b[0m \u001b[0;34m**\u001b[0m\u001b[0mfit_params\u001b[0m\u001b[0;34m)\u001b[0m\u001b[0;34m.\u001b[0m\u001b[0mtransform\u001b[0m\u001b[0;34m(\u001b[0m\u001b[0mX\u001b[0m\u001b[0;34m)\u001b[0m\u001b[0;34m\u001b[0m\u001b[0;34m\u001b[0m\u001b[0m\n\u001b[0m\u001b[1;32m    700\u001b[0m         \u001b[0;32melse\u001b[0m\u001b[0;34m:\u001b[0m\u001b[0;34m\u001b[0m\u001b[0;34m\u001b[0m\u001b[0m\n\u001b[1;32m    701\u001b[0m             \u001b[0;31m# fit method of arity 2 (supervised transformation)\u001b[0m\u001b[0;34m\u001b[0m\u001b[0;34m\u001b[0m\u001b[0;34m\u001b[0m\u001b[0m\n",
      "\u001b[0;32m~/.pyenv/versions/lewagon/envs/resto-project/lib/python3.8/site-packages/sklearn/preprocessing/_encoders.py\u001b[0m in \u001b[0;36mfit\u001b[0;34m(self, X, y)\u001b[0m\n\u001b[1;32m    421\u001b[0m         \"\"\"\n\u001b[1;32m    422\u001b[0m         \u001b[0mself\u001b[0m\u001b[0;34m.\u001b[0m\u001b[0m_validate_keywords\u001b[0m\u001b[0;34m(\u001b[0m\u001b[0;34m)\u001b[0m\u001b[0;34m\u001b[0m\u001b[0;34m\u001b[0m\u001b[0m\n\u001b[0;32m--> 423\u001b[0;31m         self._fit(X, handle_unknown=self.handle_unknown,\n\u001b[0m\u001b[1;32m    424\u001b[0m                   force_all_finite='allow-nan')\n\u001b[1;32m    425\u001b[0m         \u001b[0mself\u001b[0m\u001b[0;34m.\u001b[0m\u001b[0mdrop_idx_\u001b[0m \u001b[0;34m=\u001b[0m \u001b[0mself\u001b[0m\u001b[0;34m.\u001b[0m\u001b[0m_compute_drop_idx\u001b[0m\u001b[0;34m(\u001b[0m\u001b[0;34m)\u001b[0m\u001b[0;34m\u001b[0m\u001b[0;34m\u001b[0m\u001b[0m\n",
      "\u001b[0;32m~/.pyenv/versions/lewagon/envs/resto-project/lib/python3.8/site-packages/sklearn/preprocessing/_encoders.py\u001b[0m in \u001b[0;36m_fit\u001b[0;34m(self, X, handle_unknown, force_all_finite)\u001b[0m\n\u001b[1;32m     88\u001b[0m             \u001b[0mXi\u001b[0m \u001b[0;34m=\u001b[0m \u001b[0mX_list\u001b[0m\u001b[0;34m[\u001b[0m\u001b[0mi\u001b[0m\u001b[0;34m]\u001b[0m\u001b[0;34m\u001b[0m\u001b[0;34m\u001b[0m\u001b[0m\n\u001b[1;32m     89\u001b[0m             \u001b[0;32mif\u001b[0m \u001b[0mself\u001b[0m\u001b[0;34m.\u001b[0m\u001b[0mcategories\u001b[0m \u001b[0;34m==\u001b[0m \u001b[0;34m'auto'\u001b[0m\u001b[0;34m:\u001b[0m\u001b[0;34m\u001b[0m\u001b[0;34m\u001b[0m\u001b[0m\n\u001b[0;32m---> 90\u001b[0;31m                 \u001b[0mcats\u001b[0m \u001b[0;34m=\u001b[0m \u001b[0m_unique\u001b[0m\u001b[0;34m(\u001b[0m\u001b[0mXi\u001b[0m\u001b[0;34m)\u001b[0m\u001b[0;34m\u001b[0m\u001b[0;34m\u001b[0m\u001b[0m\n\u001b[0m\u001b[1;32m     91\u001b[0m             \u001b[0;32melse\u001b[0m\u001b[0;34m:\u001b[0m\u001b[0;34m\u001b[0m\u001b[0;34m\u001b[0m\u001b[0m\n\u001b[1;32m     92\u001b[0m                 \u001b[0mcats\u001b[0m \u001b[0;34m=\u001b[0m \u001b[0mnp\u001b[0m\u001b[0;34m.\u001b[0m\u001b[0marray\u001b[0m\u001b[0;34m(\u001b[0m\u001b[0mself\u001b[0m\u001b[0;34m.\u001b[0m\u001b[0mcategories\u001b[0m\u001b[0;34m[\u001b[0m\u001b[0mi\u001b[0m\u001b[0;34m]\u001b[0m\u001b[0;34m,\u001b[0m \u001b[0mdtype\u001b[0m\u001b[0;34m=\u001b[0m\u001b[0mXi\u001b[0m\u001b[0;34m.\u001b[0m\u001b[0mdtype\u001b[0m\u001b[0;34m)\u001b[0m\u001b[0;34m\u001b[0m\u001b[0;34m\u001b[0m\u001b[0m\n",
      "\u001b[0;32m~/.pyenv/versions/lewagon/envs/resto-project/lib/python3.8/site-packages/sklearn/utils/_encode.py\u001b[0m in \u001b[0;36m_unique\u001b[0;34m(values, return_inverse)\u001b[0m\n\u001b[1;32m     29\u001b[0m     \"\"\"\n\u001b[1;32m     30\u001b[0m     \u001b[0;32mif\u001b[0m \u001b[0mvalues\u001b[0m\u001b[0;34m.\u001b[0m\u001b[0mdtype\u001b[0m \u001b[0;34m==\u001b[0m \u001b[0mobject\u001b[0m\u001b[0;34m:\u001b[0m\u001b[0;34m\u001b[0m\u001b[0;34m\u001b[0m\u001b[0m\n\u001b[0;32m---> 31\u001b[0;31m         \u001b[0;32mreturn\u001b[0m \u001b[0m_unique_python\u001b[0m\u001b[0;34m(\u001b[0m\u001b[0mvalues\u001b[0m\u001b[0;34m,\u001b[0m \u001b[0mreturn_inverse\u001b[0m\u001b[0;34m=\u001b[0m\u001b[0mreturn_inverse\u001b[0m\u001b[0;34m)\u001b[0m\u001b[0;34m\u001b[0m\u001b[0;34m\u001b[0m\u001b[0m\n\u001b[0m\u001b[1;32m     32\u001b[0m     \u001b[0;31m# numerical\u001b[0m\u001b[0;34m\u001b[0m\u001b[0;34m\u001b[0m\u001b[0;34m\u001b[0m\u001b[0m\n\u001b[1;32m     33\u001b[0m     \u001b[0mout\u001b[0m \u001b[0;34m=\u001b[0m \u001b[0mnp\u001b[0m\u001b[0;34m.\u001b[0m\u001b[0munique\u001b[0m\u001b[0;34m(\u001b[0m\u001b[0mvalues\u001b[0m\u001b[0;34m,\u001b[0m \u001b[0mreturn_inverse\u001b[0m\u001b[0;34m=\u001b[0m\u001b[0mreturn_inverse\u001b[0m\u001b[0;34m)\u001b[0m\u001b[0;34m\u001b[0m\u001b[0;34m\u001b[0m\u001b[0m\n",
      "\u001b[0;32m~/.pyenv/versions/lewagon/envs/resto-project/lib/python3.8/site-packages/sklearn/utils/_encode.py\u001b[0m in \u001b[0;36m_unique_python\u001b[0;34m(values, return_inverse)\u001b[0m\n\u001b[1;32m    136\u001b[0m         types = sorted(t.__qualname__\n\u001b[1;32m    137\u001b[0m                        for t in set(type(v) for v in values))\n\u001b[0;32m--> 138\u001b[0;31m         raise TypeError(\"Encoders require their input to be uniformly \"\n\u001b[0m\u001b[1;32m    139\u001b[0m                         f\"strings or numbers. Got {types}\")\n\u001b[1;32m    140\u001b[0m \u001b[0;34m\u001b[0m\u001b[0m\n",
      "\u001b[0;31mTypeError\u001b[0m: Encoders require their input to be uniformly strings or numbers. Got ['float', 'str']"
     ]
    }
   ],
   "source": [
    "pipe.fit_transform(data_d2)"
   ]
  },
  {
   "cell_type": "markdown",
   "metadata": {
    "id": "9BN_TL2wdK6A"
   },
   "source": [
    "# MODEL TEST 1"
   ]
  },
  {
   "cell_type": "code",
   "execution_count": null,
   "metadata": {
    "ExecuteTime": {
     "end_time": "2021-08-31T15:34:52.892384Z",
     "start_time": "2021-08-31T15:34:52.892375Z"
    },
    "colab": {
     "base_uri": "https://localhost:8080/",
     "height": 609
    },
    "id": "ZMo4vuLcisBz",
    "outputId": "c889886a-fb98-4b88-f33e-7fefc5ac10ad"
   },
   "outputs": [],
   "source": [
    "data_d16"
   ]
  },
  {
   "cell_type": "code",
   "execution_count": null,
   "metadata": {
    "ExecuteTime": {
     "end_time": "2021-08-31T15:34:52.893040Z",
     "start_time": "2021-08-31T15:34:52.893032Z"
    },
    "colab": {
     "base_uri": "https://localhost:8080/",
     "height": 326
    },
    "id": "CY_0HCiQcbZg",
    "outputId": "21c46066-3dad-4db3-9e2e-09f5049dad83"
   },
   "outputs": [],
   "source": [
    "X_d2 = data_d2.drop(columns=[\"CA_TTC\"])\n",
    "y_d2 = data_d2.CA_TTC\n",
    "X_d16 = data_d2.drop(columns=[\"CA_TTC\"])\n",
    "y_d16 = data_d2.CA_TTC\n",
    "X_d2.head()"
   ]
  },
  {
   "cell_type": "code",
   "execution_count": null,
   "metadata": {
    "ExecuteTime": {
     "end_time": "2021-08-31T15:34:52.894007Z",
     "start_time": "2021-08-31T15:34:52.893998Z"
    },
    "colab": {
     "base_uri": "https://localhost:8080/",
     "height": 309
    },
    "id": "U27S7fDS5Ug8",
    "outputId": "fbc777f4-2a88-4744-f5a2-b8ab65287200"
   },
   "outputs": [],
   "source": [
    "X_d16.tail()"
   ]
  },
  {
   "cell_type": "code",
   "execution_count": null,
   "metadata": {
    "ExecuteTime": {
     "end_time": "2021-08-31T15:34:52.894882Z",
     "start_time": "2021-08-31T15:34:52.894871Z"
    },
    "colab": {
     "base_uri": "https://localhost:8080/"
    },
    "id": "-yiEsiY5urqF",
    "outputId": "705ac7d9-d73c-464e-9305-0b88e888faf6"
   },
   "outputs": [],
   "source": [
    "y_d16"
   ]
  },
  {
   "cell_type": "code",
   "execution_count": null,
   "metadata": {
    "ExecuteTime": {
     "end_time": "2021-08-31T15:34:52.895453Z",
     "start_time": "2021-08-31T15:34:52.895445Z"
    },
    "colab": {
     "base_uri": "https://localhost:8080/"
    },
    "id": "PHcTP9n-wwUJ",
    "outputId": "43e7cc5f-b143-4d65-83de-bab362be91bf"
   },
   "outputs": [],
   "source": [
    "from sklearn.dummy import DummyRegressor\n",
    "\n",
    "model_dummy = DummyRegressor(strategy = 'mean')\n",
    "pipe_dummy = make_pipeline(pipe, model_dummy)\n",
    "cross_val_score(pipe_dummy, X_d16, y_d16, cv=20).mean()"
   ]
  },
  {
   "cell_type": "code",
   "execution_count": null,
   "metadata": {
    "ExecuteTime": {
     "end_time": "2021-08-31T15:34:52.895971Z",
     "start_time": "2021-08-31T15:34:52.895963Z"
    },
    "colab": {
     "base_uri": "https://localhost:8080/"
    },
    "id": "edKjt-qUqtrm",
    "outputId": "5dd727d4-3e69-45bd-e862-c4483b76e329"
   },
   "outputs": [],
   "source": [
    "model_ridge = Ridge()\n",
    "pipe_ridge = make_pipeline(pipe, model_ridge)\n",
    "cv_results = cross_val_score(pipe_ridge, X_d16, y_d16, cv=5).mean()\n",
    "cv_results"
   ]
  },
  {
   "cell_type": "markdown",
   "metadata": {
    "id": "S1PlC14ChR9i"
   },
   "source": [
    "# MODEL TEST 1"
   ]
  },
  {
   "cell_type": "code",
   "execution_count": null,
   "metadata": {
    "ExecuteTime": {
     "end_time": "2021-08-31T15:34:52.896721Z",
     "start_time": "2021-08-31T15:34:52.896713Z"
    },
    "id": "NPgIbKq_vcPi"
   },
   "outputs": [],
   "source": [
    "X = X_d16\n",
    "y = y_d16"
   ]
  },
  {
   "cell_type": "code",
   "execution_count": null,
   "metadata": {
    "ExecuteTime": {
     "end_time": "2021-08-31T15:34:52.897353Z",
     "start_time": "2021-08-31T15:34:52.897345Z"
    },
    "id": "dK-oaPdGhVny"
   },
   "outputs": [],
   "source": [
    "from sklearn.metrics import mean_squared_log_error\n",
    "from sklearn.metrics import mean_squared_error\n",
    "from sklearn.metrics import make_scorer\n",
    "\n",
    "rmsle = make_scorer(lambda y_true, y_pred: mean_squared_log_error(y_true, y_pred)**0.5)\n",
    "rmsle_neg = make_scorer(lambda y_true, y_pred: -1 * mean_squared_log_error(y_true, y_pred)**0.5)\n",
    "rmse = make_scorer(lambda y_true, y_pred: mean_squared_error(y_true, y_pred)**0.5)\n",
    "rmse_neg = make_scorer(lambda y_true, y_pred: -1 * mean_squared_error(y_true, y_pred)**0.5)"
   ]
  },
  {
   "cell_type": "code",
   "execution_count": null,
   "metadata": {
    "ExecuteTime": {
     "end_time": "2021-08-31T15:34:52.898560Z",
     "start_time": "2021-08-31T15:34:52.898552Z"
    },
    "id": "cWfkwKxohzmQ"
   },
   "outputs": [],
   "source": [
    "def root_mean_squared_log_error(y_true, y_pred):\n",
    "    t = np.array(y_true)\n",
    "    p = np.array(y_pred)\n",
    "    log_error = np.log(1+t) - np.log(1+p)\n",
    "    return ((log_error**2).mean())**0.5"
   ]
  },
  {
   "cell_type": "code",
   "execution_count": null,
   "metadata": {
    "ExecuteTime": {
     "end_time": "2021-08-31T15:34:52.899533Z",
     "start_time": "2021-08-31T15:34:52.899525Z"
    },
    "id": "xtL-I-bggJvo"
   },
   "outputs": [],
   "source": [
    "allow_grid_searching = True\n",
    "# Cache the preprocessing step of the pipeline\n",
    "from tempfile import mkdtemp\n",
    "from shutil import rmtree\n",
    "cachedir = mkdtemp()"
   ]
  },
  {
   "cell_type": "code",
   "execution_count": null,
   "metadata": {
    "ExecuteTime": {
     "end_time": "2021-08-31T15:34:52.900092Z",
     "start_time": "2021-08-31T15:34:52.900077Z"
    },
    "id": "tjLpTBA0gSXz"
   },
   "outputs": [],
   "source": [
    "run_test = False\n",
    "if run_test == True:\n",
    "  # Ridge with normal target\n",
    "  model = Ridge()\n",
    "  rmsle = make_scorer(root_mean_squared_log_error)\n",
    "  pipe_ridge = make_pipeline(preproc, model, memory=cachedir)\n",
    "  cross_val_score(pipe_ridge, X, y, cv=5, scoring=rmsle).mean()"
   ]
  },
  {
   "cell_type": "code",
   "execution_count": null,
   "metadata": {
    "ExecuteTime": {
     "end_time": "2021-08-31T15:34:52.901028Z",
     "start_time": "2021-08-31T15:34:52.901018Z"
    },
    "id": "IZt5_GkIgUUe"
   },
   "outputs": [],
   "source": [
    "run_test = True\n",
    "if run_test == True:\n",
    "  # Rige with log-target (much better)\n",
    "  model = Ridge()\n",
    "  pipe_ridge = make_pipeline(preproc, model, memory=cachedir)\n",
    "  cross_val_score(pipe_ridge, X, y, cv=20, scoring=rmse).mean()"
   ]
  },
  {
   "cell_type": "code",
   "execution_count": null,
   "metadata": {
    "ExecuteTime": {
     "end_time": "2021-08-31T15:34:52.902640Z",
     "start_time": "2021-08-31T15:34:52.902631Z"
    },
    "id": "weSAOphwgWXR"
   },
   "outputs": [],
   "source": [
    "run_test = False\n",
    "if run_test == True:\n",
    "  # GridSearch the Ridge regularization\n",
    "  if allow_grid_searching:\n",
    "      param_grid =  {'ridge__alpha': np.linspace(0.5,2,num=20)}\n",
    "      search_ridge = GridSearchCV(pipe_ridge, param_grid=param_grid, \n",
    "                                cv=5, n_jobs=-1, verbose=2, scoring=rmse_neg)\n",
    "\n",
    "      search_ridge.fit(X, y);\n",
    "      print(search_ridge.best_params_)\n",
    "      search_ridge.best_score_"
   ]
  },
  {
   "cell_type": "code",
   "execution_count": null,
   "metadata": {
    "ExecuteTime": {
     "end_time": "2021-08-31T15:34:52.903248Z",
     "start_time": "2021-08-31T15:34:52.903240Z"
    },
    "id": "0b1Ea-PQgYfV"
   },
   "outputs": [],
   "source": [
    "run_test = False\n",
    "if run_test == True:\n",
    "  model = KNeighborsRegressor()\n",
    "  pipe_knn = make_pipeline(preproc, model)\n",
    "  scores = cross_val_score(pipe_knn, X, y, cv=5, scoring=rmse)\n",
    "  scores.mean()"
   ]
  },
  {
   "cell_type": "code",
   "execution_count": null,
   "metadata": {
    "ExecuteTime": {
     "end_time": "2021-08-31T15:34:52.904168Z",
     "start_time": "2021-08-31T15:34:52.904156Z"
    },
    "id": "hsPLAbFfgcwk"
   },
   "outputs": [],
   "source": [
    "run_test = False\n",
    "if run_test == True:\n",
    "  # GridSearch the KNN\n",
    "  if allow_grid_searching:\n",
    "      param_grid =  {'kneighborsregressor__n_neighbors': [3,4,5,6,7,8,9,10,15,20,30]}\n",
    "      search_knn = GridSearchCV(pipe_knn, param_grid=param_grid, \n",
    "                                cv=3, n_jobs=-1, verbose=2, scoring=rmse_neg)\n",
    "\n",
    "      search_knn.fit(X, y);\n",
    "      print(search_knn.best_params_)\n",
    "      search_knn.best_score_"
   ]
  },
  {
   "cell_type": "code",
   "execution_count": null,
   "metadata": {
    "ExecuteTime": {
     "end_time": "2021-08-31T15:34:52.904981Z",
     "start_time": "2021-08-31T15:34:52.904973Z"
    },
    "id": "jB9HxcgEgfMh"
   },
   "outputs": [],
   "source": [
    "run_test = False\n",
    "if run_test == True:\n",
    "  model = SVR(kernel='linear')\n",
    "  pipe_svm = make_pipeline(preproc, model, memory=cachedir)\n",
    "  cross_val_score(pipe_svm, X, y, cv=5, scoring=rmse).mean()"
   ]
  },
  {
   "cell_type": "code",
   "execution_count": null,
   "metadata": {
    "ExecuteTime": {
     "end_time": "2021-08-31T15:34:52.905672Z",
     "start_time": "2021-08-31T15:34:52.905663Z"
    },
    "id": "JThIGR-UghJS"
   },
   "outputs": [],
   "source": [
    "run_test = False\n",
    "if run_test == True:\n",
    "  model = SVR(kernel='rbf', C = 10)\n",
    "  pipe_svm_rbf = make_pipeline(preproc, model, memory=cachedir)\n",
    "  cross_val_score(pipe_svm_rbf, X, y, cv=5, scoring=rmse).mean()"
   ]
  },
  {
   "cell_type": "code",
   "execution_count": null,
   "metadata": {
    "ExecuteTime": {
     "end_time": "2021-08-31T15:34:52.906361Z",
     "start_time": "2021-08-31T15:34:52.906352Z"
    },
    "id": "JUSZYVNigiw2"
   },
   "outputs": [],
   "source": [
    "run_test = False\n",
    "if run_test == True:\n",
    "  # GridSearch\n",
    "  if allow_grid_searching:\n",
    "      param_grid =  {'svr__C': [0.5, 0.7, 1, 2, 5, 10],\n",
    "                    'svr__epsilon': [0.01, 0.05, 0.1, 0.2, 0.5],\n",
    "                    'svr__coef0': [0.0, 0.1, 0.5,1],\n",
    "                    }\n",
    "      search_svm_rbf = GridSearchCV(pipe_svm_rbf, param_grid=param_grid, \n",
    "                                cv=5, n_jobs=-1, verbose=2, scoring=rmse_neg)\n",
    "\n",
    "      search_svm_rbf.fit(X, y);\n",
    "      svm_rbf_best = search_svm_rbf.best_estimator_\n",
    "      print(search_svm_rbf.best_params_)\n",
    "      search_svm_rbf.best_score_"
   ]
  },
  {
   "cell_type": "code",
   "execution_count": null,
   "metadata": {
    "ExecuteTime": {
     "end_time": "2021-08-31T15:34:52.907219Z",
     "start_time": "2021-08-31T15:34:52.907210Z"
    },
    "id": "MgoR0RIlvBkk"
   },
   "outputs": [],
   "source": [
    "run_test = False\n",
    "if run_test == True:\n",
    "  from sklearn.tree import DecisionTreeRegressor\n",
    "\n",
    "  model = DecisionTreeRegressor(max_depth=50, min_samples_leaf=20)\n",
    "  pipe = make_pipeline(preproc, model, memory=cachedir)\n",
    "  score = cross_val_score(pipe, X, y, cv=5, scoring=rmse)\n",
    "  print(score.std())\n",
    "  score.mean()"
   ]
  },
  {
   "cell_type": "code",
   "execution_count": null,
   "metadata": {
    "ExecuteTime": {
     "end_time": "2021-08-31T15:34:52.907887Z",
     "start_time": "2021-08-31T15:34:52.907878Z"
    },
    "id": "ijOu9CVevTNd"
   },
   "outputs": [],
   "source": [
    "run_test = False\n",
    "if run_test == True:\n",
    "  # TODO: GridSearch\n",
    "  model = RandomForestRegressor(max_depth=50,min_samples_leaf=20)\n",
    "  pipe = make_pipeline(preproc, model, memory=cachedir)\n",
    "  score = cross_val_score(pipe, X, y, cv=5, scoring=rmse)\n",
    "  print(score.std())\n",
    "  score.mean()"
   ]
  },
  {
   "cell_type": "code",
   "execution_count": null,
   "metadata": {
    "ExecuteTime": {
     "end_time": "2021-08-31T15:34:52.908578Z",
     "start_time": "2021-08-31T15:34:52.908570Z"
    },
    "id": "2fvZql5kvYEQ"
   },
   "outputs": [],
   "source": [
    "run_test = False\n",
    "if run_test == True:\n",
    "  model = AdaBoostRegressor(\n",
    "      base_estimator=DecisionTreeRegressor(max_depth=None))\n",
    "\n",
    "  pipe = make_pipeline(preproc, model, memory=cachedir)\n",
    "  score = cross_val_score(pipe, X, y, cv=5, scoring=rmse)\n",
    "  print(score.std())\n",
    "  score.mean()"
   ]
  },
  {
   "cell_type": "code",
   "execution_count": null,
   "metadata": {
    "ExecuteTime": {
     "end_time": "2021-08-31T15:34:52.909352Z",
     "start_time": "2021-08-31T15:34:52.909344Z"
    },
    "colab": {
     "base_uri": "https://localhost:8080/"
    },
    "id": "jrTEvu_lwJsm",
    "outputId": "e1993d08-8bb3-4fce-b1a1-25a5e04a33fc"
   },
   "outputs": [],
   "source": [
    "run_test = True\n",
    "if run_test == True:\n",
    "  model = GradientBoostingRegressor(n_estimators=100, verbose=0)\n",
    "  pipe_gb = make_pipeline(preproc, model, memory=cachedir)\n",
    "  score = cross_val_score(pipe_gb, X, y, cv=5, scoring=rmse)\n",
    "  print(score.std())\n",
    "  score.mean()"
   ]
  },
  {
   "cell_type": "code",
   "execution_count": null,
   "metadata": {
    "ExecuteTime": {
     "end_time": "2021-08-31T15:34:52.910740Z",
     "start_time": "2021-08-31T15:34:52.910728Z"
    },
    "id": "jEUbCFQAwQ21"
   },
   "outputs": [],
   "source": [
    "run_test = False\n",
    "if run_test == True:\n",
    "  from scipy import stats\n",
    "  run_test = False\n",
    "  if run_test == True:\n",
    "    if allow_grid_searching:\n",
    "        grid = {\n",
    "            'gradientboostingregressor__n_estimators': stats.uniform(50,300),\n",
    "            #'gradientboostingregressor__learning_rate':stats.uniform(0.05,0.3),\n",
    "            #'gradientboostingregressor__loss': ['ls', 'lad', 'huber', 'quantile'],\n",
    "            #'gradientboostingregressor__max_depth': stats.randint(3,5),    \n",
    "            #'gradientboostingregressor__min_samples_split':stats.randint(2,10),\n",
    "            #'gradientboostingregressor__subsample':[0.95, 1], # 1 default\n",
    "            'gradientboostingregressor__max_features':stats.uniform(0.7,1), # default None, i.e = n_features\n",
    "        }\n",
    "\n",
    "        search_gb = RandomizedSearchCV(pipe_gb, grid, scoring=rmse_neg, n_iter=8, cv=5, n_jobs=-1, verbose=2,)\n",
    "\n",
    "        # Fit data to Grid Search\n",
    "        search_gb.fit(X, y);\n",
    "        print(search_gb.best_params_)\n",
    "        search_gb.best_score_\n",
    "        \n",
    "        # Plot results of gridsearch\n",
    "        df_cv_results_ = pd.DataFrame(search_gb.cv_results_)\n",
    "        sns.scatterplot(x=\"param_gradientboostingregressor__n_estimators\", y='mean_test_score', data=df_cv_results_)\n",
    "        sns.scatterplot(x=\"param_gradientboostingregressor__max_features\", y='mean_test_score', data=df_cv_results_)"
   ]
  },
  {
   "cell_type": "code",
   "execution_count": null,
   "metadata": {
    "ExecuteTime": {
     "end_time": "2021-08-31T15:34:52.911251Z",
     "start_time": "2021-08-31T15:34:52.911241Z"
    },
    "id": "X7Bje67awf6S"
   },
   "outputs": [],
   "source": [
    "run_test = False\n",
    "if run_test == True:\n",
    "  gboost = GradientBoostingRegressor(n_estimators=100)\n",
    "  ridge = Ridge()\n",
    "  svm = SVR(C=1, epsilon=0.05)\n",
    "  adaboost = AdaBoostRegressor(base_estimator=DecisionTreeRegressor(max_depth=None))\n",
    "\n",
    "\n",
    "  model = VotingRegressor(\n",
    "      estimators = [(\"gboost\", gboost),\n",
    "                    (\"adaboost\", adaboost),\n",
    "                    (\"ridge\", ridge), \n",
    "                    (\"svm_rbf\", svm)],\n",
    "      weights = [1,1,1,1], # to equally weight the two models\n",
    "      n_jobs=-1\n",
    "  )\n",
    "\n",
    "  pipe_ensemble = make_pipeline(preproc, model, memory=cachedir)\n",
    "\n",
    "  score = cross_val_score(pipe_ensemble, X, y, cv=5, scoring=rmse, n_jobs=-1)\n",
    "  print(score.std())\n",
    "  score.mean()"
   ]
  },
  {
   "cell_type": "code",
   "execution_count": null,
   "metadata": {
    "ExecuteTime": {
     "end_time": "2021-08-31T15:34:52.912046Z",
     "start_time": "2021-08-31T15:34:52.912038Z"
    },
    "id": "v6ZgQCAFxaFe"
   },
   "outputs": [],
   "source": [
    "run_test = False\n",
    "if run_test == True:\n",
    "  gboost = GradientBoostingRegressor(n_estimators=100)\n",
    "  ridge = Ridge()\n",
    "  svm = SVR(C=1, epsilon=0.05)\n",
    "  adaboost = AdaBoostRegressor(base_estimator=DecisionTreeRegressor(max_depth=None))\n",
    "\n",
    "  model = StackingRegressor(\n",
    "      estimators=[(\"gboost\", gboost),(\"adaboost\", adaboost), (\"svm_rbf\", svm)],\n",
    "      \n",
    "      final_estimator=LinearRegression(),\n",
    "      cv=5,\n",
    "      n_jobs=-1\n",
    "  )\n",
    "\n",
    "  pipe_stacking = make_pipeline(preproc, model, memory=cachedir)\n",
    "  score = cross_val_score(pipe_stacking, X, y, cv=5, scoring=rmse, n_jobs=-1)\n",
    "  print(score.std())\n",
    "  score.mean()"
   ]
  },
  {
   "cell_type": "code",
   "execution_count": null,
   "metadata": {
    "ExecuteTime": {
     "end_time": "2021-08-31T15:34:52.912744Z",
     "start_time": "2021-08-31T15:34:52.912736Z"
    },
    "id": "8-ImlcowyO7K"
   },
   "outputs": [],
   "source": [
    "run_test = False\n",
    "if run_test == True:\n",
    "  from xgboost import XGBRegressor\n",
    "  # Create eval test just for early stopping purpose (XGBOOST)\n",
    "  X_train, X_eval, y_train, y_eval = train_test_split(X,y,random_state=42)\n",
    "  # Instanciate model\n",
    "  model_xgb = XGBRegressor(max_depth=10, n_estimators=300, learning_rate=0.05)\n",
    "  # Option 1: Integrate XGB into Sklearn's pipeline\n",
    "  # It allows to GridSearchCV its best hyperparams\n",
    "  pipe_xgb = make_pipeline(preproc, model_xgb)\n",
    "  cross_val_score(pipe_xgb,X,y,cv=5,scoring=rmse,n_jobs=-1).mean()"
   ]
  },
  {
   "cell_type": "code",
   "execution_count": null,
   "metadata": {
    "ExecuteTime": {
     "end_time": "2021-08-31T15:34:52.913266Z",
     "start_time": "2021-08-31T15:34:52.913259Z"
    },
    "id": "aH5_goOmx4e5"
   },
   "outputs": [],
   "source": [
    "run_test = False\n",
    "if run_test == True:\n",
    "  # Option 2: Use XGBoost Library to fit it\n",
    "  # It allows to use an early_stopping criteria with a Train/Val slit\n",
    "  X_train_preproc = preproc.fit_transform(X_train, y_train)\n",
    "  X_eval_preproc = preproc.transform(X_eval)\n",
    "\n",
    "  model_xgb.fit(X_train_preproc, y_train,\n",
    "          verbose=False,\n",
    "          eval_set=[(X_train_preproc, y_train), (X_eval_preproc, y_eval)],\n",
    "          eval_metric=[\"rmse\"],\n",
    "          early_stopping_rounds=10)\n",
    "\n",
    "  # retrieve performance metrics\n",
    "  results = model_xgb.evals_result()\n",
    "  epochs = len(results['validation_0'][\"rmse\"])\n",
    "  x_axis = range(0, epochs)\n",
    "\n",
    "  # plot rmsle loss\n",
    "  fig, ax = plt.subplots()\n",
    "  ax.plot(x_axis, results['validation_0']['rmse'], label='Train')\n",
    "  ax.plot(x_axis, results['validation_1']['rmse'], label='Val')\n",
    "  ax.legend(); plt.ylabel('RMSE (of log)'); plt.title('XGBoost Log Loss')\n",
    "\n",
    "  print(\"Best Validation Score\", min(results['validation_1']['rmse']))"
   ]
  },
  {
   "cell_type": "code",
   "execution_count": null,
   "metadata": {
    "ExecuteTime": {
     "end_time": "2021-08-31T15:34:52.913963Z",
     "start_time": "2021-08-31T15:34:52.913954Z"
    },
    "id": "st8HWxBOyDSO"
   },
   "outputs": [],
   "source": [
    "run_test = False\n",
    "if run_test == True:\n",
    "  # xgboost for regression\n",
    "  from numpy import asarray\n",
    "  from numpy import mean\n",
    "  from numpy import std\n",
    "  from sklearn.datasets import make_regression\n",
    "  from xgboost import XGBRegressor\n",
    "  from sklearn.model_selection import cross_val_score\n",
    "  from sklearn.model_selection import RepeatedKFold\n",
    "  from matplotlib import pyplot\n",
    "  # define dataset\n",
    "\n",
    "  # evaluate the model\n",
    "  model = XGBRegressor(objective='reg:squarederror')\n",
    "  pipe_xgboost = make_pipeline(preproc, model)\n",
    "  n_scores = cross_val_score(pipe_xgboost, X, y, scoring='neg_mean_absolute_error', cv=5, n_jobs=-1, error_score='raise')\n",
    "  print('MAE: %.3f (%.3f)' % (mean(n_scores), std(n_scores)))\n",
    "  # fit the model on the whole dataset\n",
    "  #model = XGBRegressor(objective='reg:squarederror')\n",
    "  #model.fit(X, y)\n",
    "  # make a single prediction\n",
    "  #yhat = model.predict(X[2])\n",
    "  #print('Prediction: %.3f' % yhat[0])"
   ]
  },
  {
   "cell_type": "code",
   "execution_count": null,
   "metadata": {
    "ExecuteTime": {
     "end_time": "2021-08-31T15:34:52.914777Z",
     "start_time": "2021-08-31T15:34:52.914769Z"
    },
    "colab": {
     "base_uri": "https://localhost:8080/",
     "height": 326
    },
    "id": "q103ziel3FKj",
    "outputId": "55c6e1c6-11c5-41d8-a6da-171f76cf9e00"
   },
   "outputs": [],
   "source": [
    "X.head()"
   ]
  },
  {
   "cell_type": "code",
   "execution_count": null,
   "metadata": {
    "ExecuteTime": {
     "end_time": "2021-08-31T15:34:52.915619Z",
     "start_time": "2021-08-31T15:34:52.915610Z"
    },
    "id": "7YRZwOxG1OVd"
   },
   "outputs": [],
   "source": [
    "run_test = False\n",
    "if run_test == True:\n",
    "  # lightgbm for regression\n",
    "  from numpy import mean\n",
    "  from numpy import std\n",
    "  from sklearn.datasets import make_regression\n",
    "  from lightgbm import LGBMRegressor\n",
    "  from sklearn.model_selection import cross_val_score\n",
    "  from sklearn.model_selection import RepeatedKFold\n",
    "  from matplotlib import pyplot\n",
    "  # define dataset\n",
    "\n",
    "  # evaluate the model\n",
    "  model = LGBMRegressor()\n",
    "  pipe_light = make_pipeline(preproc, model)\n",
    "  cv = RepeatedKFold(n_splits=10, n_repeats=3, random_state=1)\n",
    "  n_scores = cross_val_score(pipe_light, X, y, scoring='neg_mean_absolute_error', cv=cv, n_jobs=-1, error_score='raise')\n",
    "  print('MAE: %.3f (%.3f)' % (mean(n_scores), std(n_scores)))\n",
    "\n",
    "  # fit the model on the whole dataset\n",
    "  #model = LGBMRegressor()\n",
    "  #model.fit(X, y)\n",
    "  # make a single prediction\n",
    "  #yhat = model.predict(X[1])\n",
    "  #print('Prediction: %.3f' % yhat[0])"
   ]
  },
  {
   "cell_type": "code",
   "execution_count": null,
   "metadata": {
    "ExecuteTime": {
     "end_time": "2021-08-31T15:34:52.916348Z",
     "start_time": "2021-08-31T15:34:52.916340Z"
    },
    "colab": {
     "base_uri": "https://localhost:8080/"
    },
    "id": "gMa0OFGB5RvC",
    "outputId": "315357a6-c882-49ad-a0fe-25aba5cbe146"
   },
   "outputs": [],
   "source": [
    "#pip install catboost"
   ]
  },
  {
   "cell_type": "code",
   "execution_count": null,
   "metadata": {
    "ExecuteTime": {
     "end_time": "2021-08-31T15:34:52.917238Z",
     "start_time": "2021-08-31T15:34:52.917228Z"
    },
    "id": "Db6-1roR24Vw"
   },
   "outputs": [],
   "source": [
    "run_test = False\n",
    "if run_test == True:\n",
    "  # catboost for regression\n",
    "  from numpy import mean\n",
    "  from numpy import std\n",
    "  from sklearn.datasets import make_regression\n",
    "  from catboost import CatBoostRegressor\n",
    "  from sklearn.model_selection import cross_val_score\n",
    "  from sklearn.model_selection import RepeatedKFold\n",
    "  from matplotlib import pyplot\n",
    "  # define dataset\n",
    "\n",
    "  # evaluate the model\n",
    "  model = CatBoostRegressor(verbose=0, n_estimators=100)\n",
    "  pipe_cat = make_pipeline(preproc, model)\n",
    "  cv = RepeatedKFold(n_splits=10, n_repeats=3, random_state=1)\n",
    "  n_scores = cross_val_score(pipe_cat, X, y, scoring='neg_mean_absolute_error', cv=cv, n_jobs=-1, error_score='raise')\n",
    "  print('MAE: %.3f (%.3f)' % (mean(n_scores), std(n_scores)))\n",
    "  # fit the model on the whole dataset\n",
    "  #model = CatBoostRegressor(verbose=0, n_estimators=100)\n",
    "  #model.fit(X, y)\n",
    "  # make a single prediction\n",
    "  #row = [[2.02220122, 0.31563495, 0.82797464, -0.30620401, 0.16003707, -1.44411381, 0.87616892, -0.50446586, 0.23009474, 0.76201118]]\n",
    "  #yhat = model.predict(row)\n",
    "  #print('Prediction: %.3f' % yhat[0])"
   ]
  },
  {
   "cell_type": "code",
   "execution_count": null,
   "metadata": {
    "ExecuteTime": {
     "end_time": "2021-08-31T15:34:52.918206Z",
     "start_time": "2021-08-31T15:34:52.918197Z"
    },
    "colab": {
     "base_uri": "https://localhost:8080/"
    },
    "id": "_edYX5CTDHUA",
    "outputId": "b1d1df96-9f6a-40ab-f035-5f16ef32206f"
   },
   "outputs": [],
   "source": [
    "run_test = False\n",
    "if run_test == True:\n",
    "  # GridSearch the Ridge regularization\n",
    "  if allow_grid_searching:\n",
    "      param_grid =  {'ridge__alpha': np.linspace(0.5,2,num=2)}\n",
    "      search_ridge = GridSearchCV(pipe_ridge, param_grid=param_grid, \n",
    "                                cv=5, n_jobs=-1, verbose=2, scoring=rmse_neg)\n",
    "\n",
    "      search_ridge.fit(X, y);\n",
    "      print(search_ridge.best_params_)\n",
    "      search_ridge.best_score_"
   ]
  },
  {
   "cell_type": "markdown",
   "metadata": {
    "id": "KWG1QQEgD8iF"
   },
   "source": [
    "# GRID SEARCH TEST"
   ]
  },
  {
   "cell_type": "code",
   "execution_count": null,
   "metadata": {
    "ExecuteTime": {
     "end_time": "2021-08-31T15:34:52.919099Z",
     "start_time": "2021-08-31T15:34:52.919091Z"
    },
    "id": "FlnCKvzuFobJ"
   },
   "outputs": [],
   "source": [
    "#pip install optuna"
   ]
  },
  {
   "cell_type": "code",
   "execution_count": null,
   "metadata": {
    "ExecuteTime": {
     "end_time": "2021-08-31T15:34:52.919761Z",
     "start_time": "2021-08-31T15:34:52.919752Z"
    },
    "id": "21nIno-IDzhU"
   },
   "outputs": [],
   "source": [
    "#import optuna"
   ]
  },
  {
   "cell_type": "code",
   "execution_count": null,
   "metadata": {
    "ExecuteTime": {
     "end_time": "2021-08-31T15:34:52.920376Z",
     "start_time": "2021-08-31T15:34:52.920365Z"
    },
    "id": "qe0CHxCOD2CN"
   },
   "outputs": [],
   "source": [
    "#study = optuna.create_study(direction=\"minimize\", study_name='resto_project3')"
   ]
  },
  {
   "cell_type": "code",
   "execution_count": null,
   "metadata": {
    "id": "VVyKNc6Qy5JD"
   },
   "outputs": [],
   "source": []
  },
  {
   "cell_type": "code",
   "execution_count": null,
   "metadata": {
    "ExecuteTime": {
     "end_time": "2021-08-31T15:34:52.920990Z",
     "start_time": "2021-08-31T15:34:52.920982Z"
    },
    "id": "rtVDova8xyQP"
   },
   "outputs": [],
   "source": [
    "run_test = False\n",
    "if run_test == True:\n",
    "  # GridSearch\n",
    "  if allow_grid_searching:\n",
    "      param_grid =  {'svr__C': [0.5, 0.7, 1, 2, 5, 10],\n",
    "                    'svr__epsilon': [0.01, 0.05, 0.1, 0.2, 0.5],\n",
    "                    'svr__coef0': [0.0, 0.1, 0.5,1],\n",
    "                    }\n",
    "      search_svm_rbf = GridSearchCV(pipe_svm_rbf, param_grid=param_grid, \n",
    "                                cv=5, n_jobs=-1, verbose=2, scoring=rmse_neg)\n",
    "\n",
    "      search_svm_rbf.fit(X, y);\n",
    "      svm_rbf_best = search_svm_rbf.best_estimator_\n",
    "      print(search_svm_rbf.best_params_)\n",
    "      search_svm_rbf.best_score_"
   ]
  },
  {
   "cell_type": "code",
   "execution_count": null,
   "metadata": {
    "ExecuteTime": {
     "end_time": "2021-08-31T15:34:52.921582Z",
     "start_time": "2021-08-31T15:34:52.921574Z"
    },
    "id": "m-sokgMPw3GV"
   },
   "outputs": [],
   "source": [
    "from xgboost import XGBRegressor\n",
    "from lightgbm import LGBMRegressor\n",
    "from catboost import CatBoostRegressor\n",
    "from sklearn.ensemble import StackingRegressor\n",
    "from sklearn.model_selection import cross_val_score\n",
    "from sklearn.model_selection import RepeatedKFold\n",
    "from sklearn.model_selection import GridSearchCV\n",
    "from numpy import mean\n",
    "from numpy import std\n",
    "\n",
    "run_test = False\n",
    "if run_test == True:\n",
    "    XGB = XGBRegressor(objective='reg:squarederror', \n",
    "                      max_depth=4, \n",
    "                      n_estimators=40, #first param\n",
    "                      learning_rate=0.1)   #second param\n",
    "    \n",
    "    LGBM = LGBMRegressor()\n",
    "    \n",
    "    catboost = CatBoostRegressor(n_estimators=40)\n",
    "\n",
    "    model = StackingRegressor(\n",
    "    estimators=[\n",
    "                (\"XGB\", XGB),\n",
    "                (\"LGBM\", LGBM), \n",
    "                (\"catboost\", catboost)\n",
    "                ],\n",
    "    \n",
    "    final_estimator=RidgeCV(),\n",
    "    cv=5,\n",
    "    n_jobs=-1,\n",
    "    )\n",
    "\n",
    "    pipe_stacking = make_pipeline(preproc, model, memory=cachedir)\n",
    "    cv = RepeatedKFold(n_splits=5, n_repeats=5, random_state=0)  #fourth param\n",
    "    n_scores = cross_val_score(pipe_stacking, X, y, cv=cv, scoring='neg_mean_absolute_error', n_jobs=-1)\n",
    "    print('MAE: %.3f (%.3f)' % (mean(n_scores), std(n_scores)))"
   ]
  },
  {
   "cell_type": "code",
   "execution_count": null,
   "metadata": {
    "ExecuteTime": {
     "end_time": "2021-08-31T15:34:52.922432Z",
     "start_time": "2021-08-31T15:34:52.922423Z"
    },
    "id": "MzsMZPcQ0SYQ"
   },
   "outputs": [],
   "source": [
    "run_test = False\n",
    "if run_test == True:\n",
    "  XGB = XGBRegressor(objective='reg:squarederror', \n",
    "                      max_depth=10, \n",
    "                      n_estimators=200, #first param\n",
    "                      learning_rate=0.3)   #second param\n",
    "              \n",
    "  pipe_xgb = make_pipeline(preproc, XGB, memory=cachedir)\n",
    "  cv = RepeatedKFold(n_splits=5, n_repeats=2, random_state=0)  #fourth param\n",
    "  n_scores = cross_val_score(pipe_stacking, X, y, cv=cv, scoring='neg_mean_absolute_error', n_jobs=-1)\n",
    "  print('MAE: %.3f (%.3f)' % (mean(n_scores), std(n_scores)))"
   ]
  },
  {
   "cell_type": "code",
   "execution_count": null,
   "metadata": {
    "ExecuteTime": {
     "end_time": "2021-08-31T15:34:52.923676Z",
     "start_time": "2021-08-31T15:34:52.923666Z"
    },
    "id": "V2cJfQ5f5G4M"
   },
   "outputs": [],
   "source": [
    "run_test = False\n",
    "if run_test == True:\n",
    "  catboost = CatBoostRegressor(\n",
    "                      #max_depth = 4,\n",
    "                      n_estimators=40,\n",
    "                      learning_rate = 0.1\n",
    "                      )   \n",
    "              \n",
    "  pipe_cat = make_pipeline(preproc, catboost, memory=cachedir)\n",
    "  cv = RepeatedKFold(n_splits=5, n_repeats=2, random_state=0)  #fourth param\n",
    "  n_scores = cross_val_score(pipe_cat, X, y, cv=cv, scoring='neg_mean_absolute_error', n_jobs=-1)\n",
    "  print('MAE: %.3f (%.3f)' % (mean(n_scores), std(n_scores)))"
   ]
  },
  {
   "cell_type": "code",
   "execution_count": null,
   "metadata": {
    "ExecuteTime": {
     "end_time": "2021-08-31T15:34:52.924308Z",
     "start_time": "2021-08-31T15:34:52.924300Z"
    },
    "id": "PXjRZSF95bYf"
   },
   "outputs": [],
   "source": [
    "# GridSearch\n",
    "allow_grid_searching = False\n",
    "if allow_grid_searching:\n",
    "    param_grid =  {\n",
    "                  'catboost__n_estimators': [50, 100, 150, 200, 250]\n",
    "                  }\n",
    "                  \n",
    "    search_pipe_cat = GridSearchCV(pipe_cat, param_grid=param_grid, \n",
    "                              cv=5, n_jobs=-1, verbose=2, scoring='neg_mean_absolute_error')\n",
    "\n",
    "    search_pipe_xgb.fit(X, y);\n",
    "    cat_reg_best = search_pipe_cat.best_estimator_\n",
    "    print(search_pipe_cat.best_params_)\n",
    "    search_pipe_cat.best_score_"
   ]
  },
  {
   "cell_type": "code",
   "execution_count": null,
   "metadata": {
    "ExecuteTime": {
     "end_time": "2021-08-31T15:34:52.925353Z",
     "start_time": "2021-08-31T15:34:52.925342Z"
    },
    "id": "qE14wBP_zDhL"
   },
   "outputs": [],
   "source": [
    "# GridSearch\n",
    "allow_grid_searching = False\n",
    "if allow_grid_searching:\n",
    "    param_grid =  {'xgbregressor__max_depth': [4],\n",
    "                  'xgbregressor__n_estimators': [40],\n",
    "                  'xgbregressor__learning_rate': [0.001,0.01,0.1],\n",
    "                  }\n",
    "                  \n",
    "    search_pipe_xgb = GridSearchCV(pipe_xgb, param_grid=param_grid, \n",
    "                              cv=5, n_jobs=-1, verbose=2, scoring='neg_mean_absolute_error')\n",
    "\n",
    "    search_pipe_xgb.fit(X, y);\n",
    "    xgb_reg_best = search_pipe_xgb.best_estimator_\n",
    "    print(search_pipe_xgb.best_params_)\n",
    "    search_pipe_xgb.best_score_\n",
    "\n",
    "    cv = RepeatedKFold(n_splits=5, n_repeats=5, random_state=0)  #fourth param\n",
    "    n_scores = cross_val_score(xgb_reg_best, X, y, cv=cv, scoring='neg_mean_absolute_error', n_jobs=-1)\n",
    "    print('MAE: %.3f (%.3f)' % (mean(n_scores), std(n_scores)))"
   ]
  },
  {
   "cell_type": "code",
   "execution_count": null,
   "metadata": {
    "ExecuteTime": {
     "end_time": "2021-08-31T15:34:52.926385Z",
     "start_time": "2021-08-31T15:34:52.926374Z"
    },
    "id": "31QbSFkg2uYw"
   },
   "outputs": [],
   "source": [
    "#xgb_reg_best"
   ]
  },
  {
   "cell_type": "code",
   "execution_count": null,
   "metadata": {
    "ExecuteTime": {
     "end_time": "2021-08-31T15:34:52.927450Z",
     "start_time": "2021-08-31T15:34:52.927441Z"
    },
    "id": "v8cMpzfAGVOa"
   },
   "outputs": [],
   "source": [
    "run_test = False\n",
    "if run_test == True:\n",
    "  study.optimize(objectif,n_trials=5,show_progress_bar=True)"
   ]
  },
  {
   "cell_type": "code",
   "execution_count": null,
   "metadata": {
    "ExecuteTime": {
     "end_time": "2021-08-31T15:34:52.928022Z",
     "start_time": "2021-08-31T15:34:52.928014Z"
    },
    "id": "27I1HIHlLsZ4"
   },
   "outputs": [],
   "source": [
    "#study.trials_dataframe().sort_values('value', ascending = False)"
   ]
  },
  {
   "cell_type": "code",
   "execution_count": null,
   "metadata": {
    "ExecuteTime": {
     "end_time": "2021-08-31T15:34:52.928646Z",
     "start_time": "2021-08-31T15:34:52.928639Z"
    },
    "id": "c0eV6MpS41DF"
   },
   "outputs": [],
   "source": [
    "data_d16_mardi = data_d16[data_d16['jour'] == 'Mardi']\n",
    "d16_mardi_soir = data_d16_mardi[data_d16_mardi['service'] == 'soir']"
   ]
  },
  {
   "cell_type": "code",
   "execution_count": null,
   "metadata": {
    "ExecuteTime": {
     "end_time": "2021-08-31T15:34:52.929373Z",
     "start_time": "2021-08-31T15:34:52.929364Z"
    },
    "id": "qRLYvBsz6FWk"
   },
   "outputs": [],
   "source": [
    "def get_service(df, jour , service):\n",
    "  df_jour = df[df['jour'] == jour]\n",
    "  df_service = df_jour[df_jour['service'] == service]\n",
    "  return df_service"
   ]
  },
  {
   "cell_type": "code",
   "execution_count": null,
   "metadata": {
    "ExecuteTime": {
     "end_time": "2021-08-31T15:34:52.930016Z",
     "start_time": "2021-08-31T15:34:52.930007Z"
    },
    "id": "J3i__HoC6mrp"
   },
   "outputs": [],
   "source": [
    "d16_lundi_soir = get_service(data_d16, 'Lundi', 'soir')"
   ]
  },
  {
   "cell_type": "code",
   "execution_count": null,
   "metadata": {
    "ExecuteTime": {
     "end_time": "2021-08-31T15:34:52.930824Z",
     "start_time": "2021-08-31T15:34:52.930815Z"
    },
    "colab": {
     "base_uri": "https://localhost:8080/",
     "height": 309
    },
    "id": "Gx4CBAki8Ohy",
    "outputId": "1b157e44-7ff4-4ca9-c34f-49b84500bb25"
   },
   "outputs": [],
   "source": [
    "d16_mardi_soir.head()"
   ]
  },
  {
   "cell_type": "code",
   "execution_count": null,
   "metadata": {
    "ExecuteTime": {
     "end_time": "2021-08-31T15:34:52.931504Z",
     "start_time": "2021-08-31T15:34:52.931496Z"
    },
    "colab": {
     "base_uri": "https://localhost:8080/",
     "height": 309
    },
    "id": "bWp50FSk8eMg",
    "outputId": "0cc8f030-7bcb-4541-eb51-b41afe17035a"
   },
   "outputs": [],
   "source": [
    "X_d16_mardi_soir = d16_mardi_soir.drop(columns=[\"CA_TTC\"])\n",
    "y_d16_mardi_soir = d16_mardi_soir.CA_TTC\n",
    "X_d16_mardi_soir.head()"
   ]
  },
  {
   "cell_type": "code",
   "execution_count": null,
   "metadata": {
    "ExecuteTime": {
     "end_time": "2021-08-31T15:34:52.932393Z",
     "start_time": "2021-08-31T15:34:52.932385Z"
    },
    "id": "pTlOh-mD9WJl"
   },
   "outputs": [],
   "source": [
    "def get_XY(df):\n",
    "  X = df.drop(columns=[\"CA_TTC\"])\n",
    "  y = df.CA_TTC\n",
    "  return X , y"
   ]
  },
  {
   "cell_type": "code",
   "execution_count": null,
   "metadata": {
    "ExecuteTime": {
     "end_time": "2021-08-31T15:34:52.933066Z",
     "start_time": "2021-08-31T15:34:52.933056Z"
    },
    "colab": {
     "base_uri": "https://localhost:8080/"
    },
    "id": "y0LSmU_MP5US",
    "outputId": "9fafccb1-0182-4143-de20-7e97ec8fcc6a"
   },
   "outputs": [],
   "source": [
    "data_d2.shape"
   ]
  },
  {
   "cell_type": "code",
   "execution_count": null,
   "metadata": {
    "ExecuteTime": {
     "end_time": "2021-08-31T15:34:52.933763Z",
     "start_time": "2021-08-31T15:34:52.933755Z"
    },
    "colab": {
     "base_uri": "https://localhost:8080/",
     "height": 626
    },
    "id": "k-XOsm8X-I2U",
    "outputId": "cba16379-39b3-4d6d-82e6-f8917a9653a7"
   },
   "outputs": [],
   "source": [
    "get_XY(data_d2)[0]"
   ]
  },
  {
   "cell_type": "code",
   "execution_count": null,
   "metadata": {
    "ExecuteTime": {
     "end_time": "2021-08-31T15:34:52.934460Z",
     "start_time": "2021-08-31T15:34:52.934452Z"
    },
    "colab": {
     "base_uri": "https://localhost:8080/"
    },
    "id": "-Wbzo8_R6tw3",
    "outputId": "aeab7354-81b6-4c4d-c1eb-e083a5517c1f"
   },
   "outputs": [],
   "source": [
    "run_test = True\n",
    "if run_test == True:\n",
    "  XGB = XGBRegressor(objective='reg:squarederror', \n",
    "                      max_depth=4, \n",
    "                      n_estimators=40, #first param\n",
    "                      learning_rate=0.1)   #second param\n",
    "              \n",
    "  pipe_xgb = make_pipeline(preproc, XGB, memory=cachedir)\n",
    "  cv = RepeatedKFold(n_splits=5, n_repeats=2, random_state=0)  #fourth param\n",
    "  n_scores = cross_val_score(pipe_xgb, X_d16_mardi_soir, y_d16_mardi_soir, cv=cv, scoring='neg_mean_absolute_error', n_jobs=-1)\n",
    "  print('MAE: %.3f (%.3f)' % (mean(n_scores), std(n_scores)))"
   ]
  },
  {
   "cell_type": "code",
   "execution_count": null,
   "metadata": {
    "ExecuteTime": {
     "end_time": "2021-08-31T15:34:52.935127Z",
     "start_time": "2021-08-31T15:34:52.935118Z"
    },
    "colab": {
     "base_uri": "https://localhost:8080/"
    },
    "id": "uhJnetfYDwNm",
    "outputId": "2a4c9145-53fb-4900-ece3-27652c433088"
   },
   "outputs": [],
   "source": [
    "np.arange(1,20,2)"
   ]
  },
  {
   "cell_type": "code",
   "execution_count": null,
   "metadata": {
    "ExecuteTime": {
     "end_time": "2021-08-31T15:34:52.936047Z",
     "start_time": "2021-08-31T15:34:52.936037Z"
    },
    "colab": {
     "base_uri": "https://localhost:8080/"
    },
    "id": "M6CTcnG99AFw",
    "outputId": "98504ae4-a751-4713-84e9-3ae608ff9973"
   },
   "outputs": [],
   "source": [
    "# GridSearch\n",
    "allow_grid_searching = False\n",
    "if allow_grid_searching:\n",
    "    df = data_d2\n",
    "    jour = 'Lundi'\n",
    "    service = 'soir'\n",
    "    data = get_service(df, jour , service)\n",
    "    X = get_XY(data)[0]\n",
    "    y = get_XY(data)[1]\n",
    "\n",
    "    param_grid =  {'xgbregressor__max_depth': np.arange(1,5,1),\n",
    "                  'xgbregressor__n_estimators': np.arange(1, 10, 2),\n",
    "                  'xgbregressor__learning_rate': np.arange(0.1 ,0.3, 0.1),\n",
    "                  }\n",
    "                  \n",
    "    pipe_xgb = make_pipeline(preproc, XGB, memory=cachedir)\n",
    "\n",
    "    search_pipe_xgb = GridSearchCV(pipe_xgb, param_grid=param_grid, \n",
    "                              cv=5, n_jobs=-1, verbose=2, scoring='neg_mean_absolute_error')\n",
    "\n",
    "    search_pipe_xgb.fit(X, y);\n",
    "    pipe_xgb = search_pipe_xgb.best_estimator_\n",
    "    print(search_pipe_xgb.best_params_)\n",
    "    search_pipe_xgb.best_score_\n",
    "\n",
    "    cv = RepeatedKFold(n_splits=5, n_repeats=5, random_state=0)  #fourth param\n",
    "    n_scores = cross_val_score(pipe_xgb, X, y, cv=cv, scoring='neg_mean_absolute_error', n_jobs=-1)\n",
    "    print('MAE: %.3f (%.3f)' % (mean(n_scores), std(n_scores)))"
   ]
  },
  {
   "cell_type": "code",
   "execution_count": null,
   "metadata": {
    "ExecuteTime": {
     "end_time": "2021-08-31T15:34:52.936666Z",
     "start_time": "2021-08-31T15:34:52.936658Z"
    },
    "colab": {
     "base_uri": "https://localhost:8080/"
    },
    "id": "VX5S5S8JGuKo",
    "outputId": "877892ca-1d58-4dcd-86c0-4c465750ba21"
   },
   "outputs": [],
   "source": [
    "np.arange(0.1 ,0.3, 0.05)"
   ]
  },
  {
   "cell_type": "code",
   "execution_count": null,
   "metadata": {
    "ExecuteTime": {
     "end_time": "2021-08-31T15:34:52.937311Z",
     "start_time": "2021-08-31T15:34:52.937302Z"
    },
    "colab": {
     "base_uri": "https://localhost:8080/",
     "height": 71
    },
    "id": "T8_cgo9iJZ9U",
    "outputId": "48bdf0ea-58a2-4a3a-9c64-ea100d00fdc8"
   },
   "outputs": [],
   "source": [
    "pipe_xgb = make_pipeline(preproc, XGB, memory=cachedir)\n",
    "XGB"
   ]
  },
  {
   "cell_type": "code",
   "execution_count": null,
   "metadata": {
    "ExecuteTime": {
     "end_time": "2021-08-31T15:34:52.937817Z",
     "start_time": "2021-08-31T15:34:52.937810Z"
    },
    "id": "HYi-74QWCt2j"
   },
   "outputs": [],
   "source": [
    "def grid_search(df, jour ,service):\n",
    "    data = get_service(df, jour , service)\n",
    "    X = get_XY(data)[0]\n",
    "    y = get_XY(data)[1]\n",
    "\n",
    "    model = XGB\n",
    "\n",
    "    param_grid =  {'xgbregressor__max_depth': np.arange(1,5,1),\n",
    "                  'xgbregressor__n_estimators': np.arange(20, 150, 10),\n",
    "                  'xgbregressor__learning_rate': np.arange(0.05 ,0.75, 0.1),\n",
    "                  }\n",
    "                  \n",
    "    pipe_xgb = make_pipeline(preproc, model, memory=cachedir)\n",
    "\n",
    "    search_pipe_xgb = GridSearchCV(pipe_xgb, param_grid=param_grid, \n",
    "                              cv=5, n_jobs=-1, verbose=2, scoring='neg_mean_absolute_error')\n",
    "\n",
    "    search_pipe_xgb.fit(X, y)\n",
    "\n",
    "    cv = RepeatedKFold(n_splits=5, n_repeats=5, random_state=0) \n",
    "    n_scores = cross_val_score(search_pipe_xgb.best_estimator_, X, y, cv=cv, scoring='neg_mean_absolute_error', n_jobs=-1)\n",
    "    print(search_pipe_xgb.best_params_) , print('MAE: %.3f (%.3f)' % (mean(n_scores), std(n_scores)))\n",
    "    return search_pipe_xgb.best_estimator_ , search_pipe_xgb.best_params_ , search_pipe_xgb.best_score_"
   ]
  },
  {
   "cell_type": "code",
   "execution_count": null,
   "metadata": {
    "ExecuteTime": {
     "end_time": "2021-08-31T15:34:52.938675Z",
     "start_time": "2021-08-31T15:34:52.938667Z"
    },
    "id": "yr9h-qUZ--eY"
   },
   "outputs": [],
   "source": [
    "#xgb_best = grid_search(data_d2, 'Lundi' ,'soir')[0]"
   ]
  },
  {
   "cell_type": "code",
   "execution_count": null,
   "metadata": {
    "ExecuteTime": {
     "end_time": "2021-08-31T15:34:52.939634Z",
     "start_time": "2021-08-31T15:34:52.939624Z"
    },
    "id": "PqVE68hKONb1"
   },
   "outputs": [],
   "source": [
    "#grid_search(data_d2, 'Mardi' ,'soir')[0]"
   ]
  },
  {
   "cell_type": "code",
   "execution_count": null,
   "metadata": {
    "ExecuteTime": {
     "end_time": "2021-08-31T15:34:52.940383Z",
     "start_time": "2021-08-31T15:34:52.940375Z"
    },
    "id": "LaKpQk-OeI_c"
   },
   "outputs": [],
   "source": [
    "#xgb_best"
   ]
  },
  {
   "cell_type": "code",
   "execution_count": null,
   "metadata": {
    "ExecuteTime": {
     "end_time": "2021-08-31T15:34:52.940890Z",
     "start_time": "2021-08-31T15:34:52.940882Z"
    },
    "id": "QPgY3y_WH4O9"
   },
   "outputs": [],
   "source": [
    "#n_scores = cross_val_score(xgb_best, X, y, cv=cv, scoring='neg_mean_absolute_error', n_jobs=-1)"
   ]
  },
  {
   "cell_type": "code",
   "execution_count": null,
   "metadata": {
    "ExecuteTime": {
     "end_time": "2021-08-31T15:34:52.941653Z",
     "start_time": "2021-08-31T15:34:52.941646Z"
    },
    "id": "i7AGPe2OeETY"
   },
   "outputs": [],
   "source": [
    "#n_scores.mean()"
   ]
  },
  {
   "cell_type": "code",
   "execution_count": null,
   "metadata": {
    "ExecuteTime": {
     "end_time": "2021-08-31T15:34:52.942422Z",
     "start_time": "2021-08-31T15:34:52.942413Z"
    },
    "id": "bc-di8YIebQe"
   },
   "outputs": [],
   "source": [
    "    max_depth=4\n",
    "    n_estimators=40\n",
    "    learning_rate=0.1\n",
    "    \n",
    "    def set_params(max_depth, n_estimators, learning_rate):\n",
    "        max_depth=max_depth\n",
    "        n_estimators=n_estimators\n",
    "        learning_rate=learning_rate\n",
    "        return max_depth,n_estimators,learning_rate"
   ]
  },
  {
   "cell_type": "code",
   "execution_count": null,
   "metadata": {
    "ExecuteTime": {
     "end_time": "2021-08-31T15:34:52.943365Z",
     "start_time": "2021-08-31T15:34:52.943356Z"
    },
    "colab": {
     "base_uri": "https://localhost:8080/"
    },
    "id": "9dRqo7ItknA6",
    "outputId": "19900992-defd-4148-9ce2-e7a27432b002"
   },
   "outputs": [],
   "source": [
    "set_params(max_depth, n_estimators, learning_rate)[1]"
   ]
  },
  {
   "cell_type": "markdown",
   "metadata": {
    "id": "Yy9tR3d8NYNO"
   },
   "source": [
    "# MODEL ++"
   ]
  },
  {
   "cell_type": "code",
   "execution_count": null,
   "metadata": {
    "ExecuteTime": {
     "end_time": "2021-08-31T15:34:52.944032Z",
     "start_time": "2021-08-31T15:34:52.944024Z"
    },
    "colab": {
     "base_uri": "https://localhost:8080/",
     "height": 309
    },
    "id": "kAL9SKILNatW",
    "outputId": "a243853a-f3e2-40f6-e903-b35f949f8721"
   },
   "outputs": [],
   "source": [
    "data_d16.head()"
   ]
  },
  {
   "cell_type": "code",
   "execution_count": null,
   "metadata": {
    "ExecuteTime": {
     "end_time": "2021-08-31T15:34:52.944615Z",
     "start_time": "2021-08-31T15:34:52.944607Z"
    },
    "id": "wZL4Gk40Nes3"
   },
   "outputs": [],
   "source": [
    "# GridSearch\n",
    "allow_grid_searching = False\n",
    "if allow_grid_searching:\n",
    "    X=get_XY(data_d2)[0]\n",
    "    y=get_XY(data_d2)[1]\n",
    "    param_grid =  {'xgbregressor__max_depth': np.arange(1,20,2),\n",
    "                  'xgbregressor__n_estimators': np.arange(0,200,10),\n",
    "                  'xgbregressor__learning_rate': np.arange(0.1,0.3,0.05),\n",
    "                  }\n",
    "                  \n",
    "    search_pipe_xgb = GridSearchCV(pipe_xgb, param_grid=param_grid, \n",
    "                              cv=5, n_jobs=-1, scoring='neg_mean_absolute_error')\n",
    "\n",
    "    search_pipe_xgb.fit(X, y);\n",
    "    xgb_reg_best = search_pipe_xgb.best_estimator_\n",
    "    print(search_pipe_xgb.best_params_)\n",
    "    search_pipe_xgb.best_score_\n",
    "\n",
    "    cv = RepeatedKFold(n_splits=5, n_repeats=2, random_state=0)  #fourth param\n",
    "    n_scores = cross_val_score(xgb_reg_best, X, y, cv=cv, scoring='neg_mean_absolute_error', n_jobs=-1)\n",
    "    print('MAE: %.3f (%.3f)' % (mean(n_scores), std(n_scores)))"
   ]
  },
  {
   "cell_type": "code",
   "execution_count": null,
   "metadata": {
    "ExecuteTime": {
     "end_time": "2021-08-31T15:34:52.945517Z",
     "start_time": "2021-08-31T15:34:52.945509Z"
    },
    "colab": {
     "base_uri": "https://localhost:8080/"
    },
    "id": "TtJIe6d6Qy0o",
    "outputId": "3e301362-abc5-433a-8256-c7505c212829"
   },
   "outputs": [],
   "source": [
    "# GridSearch\n",
    "allow_grid_searching = False\n",
    "if allow_grid_searching:\n",
    "    X=get_XY(data_d16)[0]\n",
    "    y=get_XY(data_d16)[1]\n",
    "    param_grid =  {'xgbregressor__max_depth': np.arange(1,5,1),\n",
    "                  'xgbregressor__n_estimators': np.arange(0,60,10),\n",
    "                  'xgbregressor__learning_rate': np.arange(0.01,0.1,0.01),\n",
    "                  }\n",
    "                  \n",
    "    search_pipe_xgb = GridSearchCV(pipe_xgb, param_grid=param_grid, \n",
    "                              cv=5, n_jobs=-1, verbose=2, scoring='neg_mean_absolute_error')\n",
    "\n",
    "    search_pipe_xgb.fit(X, y);\n",
    "    xgb_reg_best = search_pipe_xgb.best_estimator_\n",
    "    print(search_pipe_xgb.best_params_)\n",
    "    search_pipe_xgb.best_score_\n",
    "\n",
    "    cv = RepeatedKFold(n_splits=5, n_repeats=2, random_state=0)  #fourth param\n",
    "    n_scores = cross_val_score(xgb_reg_best, X, y, cv=cv, scoring='neg_mean_absolute_error', n_jobs=-1)\n",
    "    print('MAE: %.3f (%.3f)' % (mean(n_scores), std(n_scores)))"
   ]
  },
  {
   "cell_type": "code",
   "execution_count": null,
   "metadata": {
    "id": "RJMiINQaxU-I"
   },
   "outputs": [],
   "source": []
  }
 ],
 "metadata": {
  "colab": {
   "collapsed_sections": [],
   "name": "resto_project_model.ipynb",
   "provenance": []
  },
  "kernelspec": {
   "display_name": "Python 3 (ipykernel)",
   "language": "python",
   "name": "python3"
  },
  "language_info": {
   "codemirror_mode": {
    "name": "ipython",
    "version": 3
   },
   "file_extension": ".py",
   "mimetype": "text/x-python",
   "name": "python",
   "nbconvert_exporter": "python",
   "pygments_lexer": "ipython3",
   "version": "3.8.6"
  },
  "toc": {
   "base_numbering": 1,
   "nav_menu": {},
   "number_sections": true,
   "sideBar": true,
   "skip_h1_title": false,
   "title_cell": "Table of Contents",
   "title_sidebar": "Contents",
   "toc_cell": false,
   "toc_position": {},
   "toc_section_display": true,
   "toc_window_display": false
  },
  "varInspector": {
   "cols": {
    "lenName": 16,
    "lenType": 16,
    "lenVar": 40
   },
   "kernels_config": {
    "python": {
     "delete_cmd_postfix": "",
     "delete_cmd_prefix": "del ",
     "library": "var_list.py",
     "varRefreshCmd": "print(var_dic_list())"
    },
    "r": {
     "delete_cmd_postfix": ") ",
     "delete_cmd_prefix": "rm(",
     "library": "var_list.r",
     "varRefreshCmd": "cat(var_dic_list()) "
    }
   },
   "types_to_exclude": [
    "module",
    "function",
    "builtin_function_or_method",
    "instance",
    "_Feature"
   ],
   "window_display": false
  }
 },
 "nbformat": 4,
 "nbformat_minor": 1
}
