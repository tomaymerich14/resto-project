{
 "cells": [
  {
   "cell_type": "code",
   "execution_count": 103,
   "id": "3b009d16",
   "metadata": {
    "ExecuteTime": {
     "end_time": "2021-08-23T18:01:10.742904Z",
     "start_time": "2021-08-23T18:01:10.737901Z"
    }
   },
   "outputs": [],
   "source": [
    "import pandas as pd"
   ]
  },
  {
   "cell_type": "code",
   "execution_count": 251,
   "id": "07c642d6",
   "metadata": {
    "ExecuteTime": {
     "end_time": "2021-08-23T18:34:53.406130Z",
     "start_time": "2021-08-23T18:34:53.378457Z"
    }
   },
   "outputs": [],
   "source": [
    "championsl_2017=pd.read_csv('/Users/monmac/code/tomaymerich14/resto-project/raw_data/Fixtures/champions-league-2017-paris-saint-germain-CentralEuropeanStandardTime.csv')\n",
    "championsl_2018=pd.read_csv('/Users/monmac/code/tomaymerich14/resto-project/raw_data/Fixtures/champions-league-2018-paris-WEuropeStandardTime.csv')\n",
    "championsl_2019=pd.read_csv('/Users/monmac/code/tomaymerich14/resto-project/raw_data/Fixtures/champions-league-2019-paris-WEuropeStandardTime.csv')\n",
    "championsl_2020=pd.read_csv('/Users/monmac/code/tomaymerich14/resto-project/raw_data/Fixtures/champions-league-2020-paris-UTC.csv')\n",
    "ligue1_2018 = pd.read_csv('/Users/monmac/code/tomaymerich14/resto-project/raw_data/Fixtures/ligue-1-2018-paris-saint-germain-RomanceStandardTime.csv')\n",
    "ligue1_2019 = pd.read_csv('/Users/monmac/code/tomaymerich14/resto-project/raw_data/Fixtures/ligue-1-2019-paris-saint-germain-RomanceStandardTime.csv')\n",
    "ligue1_2020 = pd.read_csv('/Users/monmac/code/tomaymerich14/resto-project/raw_data/Fixtures/ligue-1-2020-paris-saint-germain-RomanceStandardTime.csv')\n",
    "ligue1_2021 = pd.read_csv('/Users/monmac/code/tomaymerich14/resto-project/raw_data/Fixtures/ligue-1-2021-paris-saint-germain-RomanceStandardTime.csv')"
   ]
  },
  {
   "cell_type": "code",
   "execution_count": 252,
   "id": "5ab87263",
   "metadata": {
    "ExecuteTime": {
     "end_time": "2021-08-23T18:34:53.563039Z",
     "start_time": "2021-08-23T18:34:53.557980Z"
    }
   },
   "outputs": [],
   "source": [
    "all_series = [championsl_2017,championsl_2018,championsl_2019,championsl_2020, ligue1_2018,ligue1_2019,ligue1_2020,ligue1_2021]"
   ]
  },
  {
   "cell_type": "code",
   "execution_count": 253,
   "id": "65d6344e",
   "metadata": {
    "ExecuteTime": {
     "end_time": "2021-08-23T18:34:53.701193Z",
     "start_time": "2021-08-23T18:34:53.694952Z"
    }
   },
   "outputs": [],
   "source": [
    "#def to_datetime_date(df):\n",
    "    #df['Date'] = pd.to_datetime(df['Date']).dt.date\n",
    "    #return df"
   ]
  },
  {
   "cell_type": "code",
   "execution_count": 254,
   "id": "157b6f41",
   "metadata": {
    "ExecuteTime": {
     "end_time": "2021-08-23T18:34:53.837822Z",
     "start_time": "2021-08-23T18:34:53.835173Z"
    }
   },
   "outputs": [],
   "source": [
    "#all_dfs = [to_datetime_date(df) for df in all_series]"
   ]
  },
  {
   "cell_type": "code",
   "execution_count": 255,
   "id": "ad8e794d",
   "metadata": {
    "ExecuteTime": {
     "end_time": "2021-08-23T18:34:54.027338Z",
     "start_time": "2021-08-23T18:34:53.979365Z"
    }
   },
   "outputs": [],
   "source": [
    "#transform column to datetime to make them easier to manipulate\n",
    "championsl_2017['Date']=pd.to_datetime(championsl_2017['Date'])\n",
    "championsl_2018['Date']=pd.to_datetime(championsl_2018['Date'])\n",
    "championsl_2019['Date']=pd.to_datetime(championsl_2019['Date'])\n",
    "championsl_2020['Date']=pd.to_datetime(championsl_2020['Date'])\n",
    "ligue1_2018['Date']=pd.to_datetime(ligue1_2018['Date'])\n",
    "ligue1_2019['Date']=pd.to_datetime(ligue1_2019['Date'])\n",
    "ligue1_2020['Date']=pd.to_datetime(ligue1_2020['Date'])\n",
    "ligue1_2021['Date']=pd.to_datetime(ligue1_2021['Date'])"
   ]
  },
  {
   "cell_type": "code",
   "execution_count": 241,
   "id": "37a0b6e8",
   "metadata": {
    "ExecuteTime": {
     "end_time": "2021-08-23T18:34:26.241026Z",
     "start_time": "2021-08-23T18:34:26.221189Z"
    }
   },
   "outputs": [],
   "source": [
    "championsl_2017['Service']= 'Dinner'\n",
    "championsl_2018['Service']='Dinner'\n",
    "championsl_2019['Service']='Dinner'\n",
    "championsl_2020['Service']='Dinner'\n",
    "ligue1_2018['Service']='Dinner'\n",
    "ligue1_2019['Service']='Dinner'\n",
    "ligue1_2020['Service']='Dinner'\n",
    "ligue1_2021['Service']='Dinner'"
   ]
  },
  {
   "cell_type": "code",
   "execution_count": 243,
   "id": "9bd0e6f9",
   "metadata": {
    "ExecuteTime": {
     "end_time": "2021-08-23T18:34:26.406305Z",
     "start_time": "2021-08-23T18:34:26.389529Z"
    }
   },
   "outputs": [],
   "source": [
    "championsl_2017['Date']=pd.to_datetime(championsl_2017['Date']).dt.date\n",
    "championsl_2018['Date']=pd.to_datetime(championsl_2018['Date']).dt.date\n",
    "championsl_2019['Date']=pd.to_datetime(championsl_2019['Date']).dt.date\n",
    "championsl_2020['Date']=pd.to_datetime(championsl_2020['Date']).dt.date\n",
    "ligue1_2018['Date']=pd.to_datetime(ligue1_2018['Date']).dt.date\n",
    "ligue1_2019['Date']=pd.to_datetime(ligue1_2019['Date']).dt.date\n",
    "ligue1_2020['Date']=pd.to_datetime(ligue1_2020['Date']).dt.date\n",
    "ligue1_2021['Date']=pd.to_datetime(ligue1_2021['Date']).dt.date"
   ]
  },
  {
   "cell_type": "code",
   "execution_count": 244,
   "id": "e58aa3a2",
   "metadata": {
    "ExecuteTime": {
     "end_time": "2021-08-23T18:34:26.477340Z",
     "start_time": "2021-08-23T18:34:26.473080Z"
    }
   },
   "outputs": [],
   "source": [
    "#def set_index1(df):\n",
    "    #df=df.set_index('Date')\n",
    "    #return df"
   ]
  },
  {
   "cell_type": "code",
   "execution_count": 245,
   "id": "b0e427d2",
   "metadata": {
    "ExecuteTime": {
     "end_time": "2021-08-23T18:34:26.565984Z",
     "start_time": "2021-08-23T18:34:26.558875Z"
    }
   },
   "outputs": [],
   "source": [
    "#all_dfs = [set_index1(df) for df in all_dfs]"
   ]
  },
  {
   "cell_type": "code",
   "execution_count": 246,
   "id": "1fddea68",
   "metadata": {
    "ExecuteTime": {
     "end_time": "2021-08-23T18:34:26.656896Z",
     "start_time": "2021-08-23T18:34:26.643079Z"
    }
   },
   "outputs": [],
   "source": [
    "#set date as index\n",
    "championsl_2017=championsl_2017.set_index('Date')\n",
    "championsl_2018=championsl_2018.set_index('Date')\n",
    "championsl_2019=championsl_2019.set_index('Date')\n",
    "championsl_2020=championsl_2020.set_index('Date')\n",
    "ligue1_2018=ligue1_2018.set_index('Date')\n",
    "ligue1_2019=ligue1_2019.set_index('Date')\n",
    "ligue1_2020=ligue1_2020.set_index('Date')\n",
    "ligue1_2021=ligue1_2021.set_index('Date')"
   ]
  },
  {
   "cell_type": "code",
   "execution_count": 247,
   "id": "c39b66b8",
   "metadata": {
    "ExecuteTime": {
     "end_time": "2021-08-23T18:34:26.734094Z",
     "start_time": "2021-08-23T18:34:26.729252Z"
    }
   },
   "outputs": [],
   "source": [
    "#only keep home matches\n",
    "#championsl_2017=championsl_2017[championsl_2017['Location']=='Parc des Princes, Paris']\n",
    "#championsl_2018=championsl_2018[championsl_2018['Location']=='Parc des Princes, Paris']\n",
    "#championsl_2019=championsl_2019[championsl_2019['Location']=='Parc des Princes, Paris']\n",
    "#championsl_2020=championsl_2020[championsl_2020['Location']=='Parc des Princes, Paris']\n",
    "#ligue1_2018=ligue1_2018[ligue1_2018['Location']=='Parc des Princes']\n",
    "#ligue1_2019=ligue1_2019[ligue1_2019['Location']=='Parc des Princes']\n",
    "#ligue1_2020=ligue1_2020[ligue1_2020['Location']=='Parc des Princes']\n",
    "#ligue1_2021=ligue1_2021[ligue1_2021['Location']=='Parc des Princes']"
   ]
  },
  {
   "cell_type": "code",
   "execution_count": 248,
   "id": "6675a132",
   "metadata": {
    "ExecuteTime": {
     "end_time": "2021-08-23T18:34:26.830518Z",
     "start_time": "2021-08-23T18:34:26.813349Z"
    }
   },
   "outputs": [],
   "source": [
    "all_matches = pd.concat([championsl_2017,championsl_2018,championsl_2019,championsl_2020, ligue1_2018,ligue1_2019,ligue1_2020,ligue1_2021], join='outer')"
   ]
  },
  {
   "cell_type": "code",
   "execution_count": 257,
   "id": "29e52061",
   "metadata": {
    "ExecuteTime": {
     "end_time": "2021-08-23T18:41:43.357124Z",
     "start_time": "2021-08-23T18:41:43.337648Z"
    }
   },
   "outputs": [
    {
     "data": {
      "text/html": [
       "<div>\n",
       "<style scoped>\n",
       "    .dataframe tbody tr th:only-of-type {\n",
       "        vertical-align: middle;\n",
       "    }\n",
       "\n",
       "    .dataframe tbody tr th {\n",
       "        vertical-align: top;\n",
       "    }\n",
       "\n",
       "    .dataframe thead th {\n",
       "        text-align: right;\n",
       "    }\n",
       "</style>\n",
       "<table border=\"1\" class=\"dataframe\">\n",
       "  <thead>\n",
       "    <tr style=\"text-align: right;\">\n",
       "      <th></th>\n",
       "      <th>Location</th>\n",
       "      <th>Service</th>\n",
       "    </tr>\n",
       "    <tr>\n",
       "      <th>Date</th>\n",
       "      <th></th>\n",
       "      <th></th>\n",
       "    </tr>\n",
       "  </thead>\n",
       "  <tbody>\n",
       "    <tr>\n",
       "      <th>2017-12-09</th>\n",
       "      <td>Celtic Park, Glasgow</td>\n",
       "      <td>Dinner</td>\n",
       "    </tr>\n",
       "    <tr>\n",
       "      <th>2017-09-27</th>\n",
       "      <td>Parc des Princes, Paris</td>\n",
       "      <td>Dinner</td>\n",
       "    </tr>\n",
       "    <tr>\n",
       "      <th>2017-10-18</th>\n",
       "      <td>Constant Vanden Stock Stadium, Anderlecht</td>\n",
       "      <td>Dinner</td>\n",
       "    </tr>\n",
       "    <tr>\n",
       "      <th>2017-10-31</th>\n",
       "      <td>Parc des Princes, Paris</td>\n",
       "      <td>Dinner</td>\n",
       "    </tr>\n",
       "    <tr>\n",
       "      <th>2017-11-22</th>\n",
       "      <td>Parc des Princes, Paris</td>\n",
       "      <td>Dinner</td>\n",
       "    </tr>\n",
       "    <tr>\n",
       "      <th>...</th>\n",
       "      <td>...</td>\n",
       "      <td>...</td>\n",
       "    </tr>\n",
       "    <tr>\n",
       "      <th>2022-04-24</th>\n",
       "      <td>Parc des Princes</td>\n",
       "      <td>Dinner</td>\n",
       "    </tr>\n",
       "    <tr>\n",
       "      <th>2022-01-05</th>\n",
       "      <td>Stade de la Meinau</td>\n",
       "      <td>Dinner</td>\n",
       "    </tr>\n",
       "    <tr>\n",
       "      <th>2022-08-05</th>\n",
       "      <td>Parc des Princes</td>\n",
       "      <td>Dinner</td>\n",
       "    </tr>\n",
       "    <tr>\n",
       "      <th>2022-05-14</th>\n",
       "      <td>Stade de la Mosson</td>\n",
       "      <td>Dinner</td>\n",
       "    </tr>\n",
       "    <tr>\n",
       "      <th>2022-05-21</th>\n",
       "      <td>Parc des Princes</td>\n",
       "      <td>Dinner</td>\n",
       "    </tr>\n",
       "  </tbody>\n",
       "</table>\n",
       "<p>180 rows × 2 columns</p>\n",
       "</div>"
      ],
      "text/plain": [
       "                                             Location Service\n",
       "Date                                                         \n",
       "2017-12-09                       Celtic Park, Glasgow  Dinner\n",
       "2017-09-27                    Parc des Princes, Paris  Dinner\n",
       "2017-10-18  Constant Vanden Stock Stadium, Anderlecht  Dinner\n",
       "2017-10-31                    Parc des Princes, Paris  Dinner\n",
       "2017-11-22                    Parc des Princes, Paris  Dinner\n",
       "...                                               ...     ...\n",
       "2022-04-24                           Parc des Princes  Dinner\n",
       "2022-01-05                         Stade de la Meinau  Dinner\n",
       "2022-08-05                           Parc des Princes  Dinner\n",
       "2022-05-14                         Stade de la Mosson  Dinner\n",
       "2022-05-21                           Parc des Princes  Dinner\n",
       "\n",
       "[180 rows x 2 columns]"
      ]
     },
     "execution_count": 257,
     "metadata": {},
     "output_type": "execute_result"
    }
   ],
   "source": [
    "all_matches[['Location','Service']]"
   ]
  }
 ],
 "metadata": {
  "kernelspec": {
   "display_name": "Python 3 (ipykernel)",
   "language": "python",
   "name": "python3"
  },
  "language_info": {
   "codemirror_mode": {
    "name": "ipython",
    "version": 3
   },
   "file_extension": ".py",
   "mimetype": "text/x-python",
   "name": "python",
   "nbconvert_exporter": "python",
   "pygments_lexer": "ipython3",
   "version": "3.8.6"
  },
  "toc": {
   "base_numbering": 1,
   "nav_menu": {},
   "number_sections": true,
   "sideBar": true,
   "skip_h1_title": false,
   "title_cell": "Table of Contents",
   "title_sidebar": "Contents",
   "toc_cell": false,
   "toc_position": {},
   "toc_section_display": true,
   "toc_window_display": false
  }
 },
 "nbformat": 4,
 "nbformat_minor": 5
}
