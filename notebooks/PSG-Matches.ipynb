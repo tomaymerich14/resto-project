{
 "cells": [
  {
   "cell_type": "code",
   "execution_count": 17,
   "id": "211b7176",
   "metadata": {
    "ExecuteTime": {
     "end_time": "2021-08-24T13:21:07.301379Z",
     "start_time": "2021-08-24T13:21:07.294780Z"
    }
   },
   "outputs": [],
   "source": [
    "import pandas as pd\n",
    "import numpy as np"
   ]
  },
  {
   "cell_type": "code",
   "execution_count": 18,
   "id": "98631bf8",
   "metadata": {
    "ExecuteTime": {
     "end_time": "2021-08-24T13:21:07.735744Z",
     "start_time": "2021-08-24T13:21:07.705391Z"
    }
   },
   "outputs": [],
   "source": [
    "championsl_2017=pd.read_csv('/Users/monmac/code/tomaymerich14/resto-project/raw_data/Fixtures/champions-league-2017-paris-saint-germain-CentralEuropeanStandardTime.csv')\n",
    "championsl_2018=pd.read_csv('/Users/monmac/code/tomaymerich14/resto-project/raw_data/Fixtures/champions-league-2018-paris-WEuropeStandardTime.csv')\n",
    "championsl_2019=pd.read_csv('/Users/monmac/code/tomaymerich14/resto-project/raw_data/Fixtures/champions-league-2019-paris-WEuropeStandardTime.csv')\n",
    "championsl_2020=pd.read_csv('/Users/monmac/code/tomaymerich14/resto-project/raw_data/Fixtures/champions-league-2020-paris-UTC.csv')\n",
    "ligue1_2018 = pd.read_csv('/Users/monmac/code/tomaymerich14/resto-project/raw_data/Fixtures/ligue-1-2018-paris-saint-germain-RomanceStandardTime.csv')\n",
    "ligue1_2019 = pd.read_csv('/Users/monmac/code/tomaymerich14/resto-project/raw_data/Fixtures/ligue-1-2019-paris-saint-germain-RomanceStandardTime.csv')\n",
    "ligue1_2020 = pd.read_csv('/Users/monmac/code/tomaymerich14/resto-project/raw_data/Fixtures/ligue-1-2020-paris-saint-germain-RomanceStandardTime.csv')\n",
    "ligue1_2021 = pd.read_csv('/Users/monmac/code/tomaymerich14/resto-project/raw_data/Fixtures/ligue-1-2021-paris-saint-germain-RomanceStandardTime.csv')"
   ]
  },
  {
   "cell_type": "code",
   "execution_count": 19,
   "id": "c3e9f87e",
   "metadata": {
    "ExecuteTime": {
     "end_time": "2021-08-24T13:21:08.097089Z",
     "start_time": "2021-08-24T13:21:08.080811Z"
    }
   },
   "outputs": [
    {
     "data": {
      "text/html": [
       "<div>\n",
       "<style scoped>\n",
       "    .dataframe tbody tr th:only-of-type {\n",
       "        vertical-align: middle;\n",
       "    }\n",
       "\n",
       "    .dataframe tbody tr th {\n",
       "        vertical-align: top;\n",
       "    }\n",
       "\n",
       "    .dataframe thead th {\n",
       "        text-align: right;\n",
       "    }\n",
       "</style>\n",
       "<table border=\"1\" class=\"dataframe\">\n",
       "  <thead>\n",
       "    <tr style=\"text-align: right;\">\n",
       "      <th></th>\n",
       "      <th>Match Number</th>\n",
       "      <th>Round Number</th>\n",
       "      <th>Date</th>\n",
       "      <th>Location</th>\n",
       "      <th>Home Team</th>\n",
       "      <th>Away Team</th>\n",
       "      <th>Group</th>\n",
       "      <th>Result</th>\n",
       "    </tr>\n",
       "  </thead>\n",
       "  <tbody>\n",
       "    <tr>\n",
       "      <th>0</th>\n",
       "      <td>14</td>\n",
       "      <td>1</td>\n",
       "      <td>12/09/2017 20:45</td>\n",
       "      <td>Celtic Park, Glasgow</td>\n",
       "      <td>Celtic</td>\n",
       "      <td>Paris Saint-Germain</td>\n",
       "      <td>Group B</td>\n",
       "      <td>0 - 5</td>\n",
       "    </tr>\n",
       "    <tr>\n",
       "      <th>1</th>\n",
       "      <td>15</td>\n",
       "      <td>2</td>\n",
       "      <td>27/09/2017 20:45</td>\n",
       "      <td>Parc des Princes, Paris</td>\n",
       "      <td>Paris Saint-Germain</td>\n",
       "      <td>Bayern Munich</td>\n",
       "      <td>Group B</td>\n",
       "      <td>3 - 0</td>\n",
       "    </tr>\n",
       "    <tr>\n",
       "      <th>2</th>\n",
       "      <td>17</td>\n",
       "      <td>3</td>\n",
       "      <td>18/10/2017 20:45</td>\n",
       "      <td>Constant Vanden Stock Stadium, Anderlecht</td>\n",
       "      <td>Anderlecht</td>\n",
       "      <td>Paris Saint-Germain</td>\n",
       "      <td>Group B</td>\n",
       "      <td>0 - 4</td>\n",
       "    </tr>\n",
       "    <tr>\n",
       "      <th>3</th>\n",
       "      <td>19</td>\n",
       "      <td>4</td>\n",
       "      <td>31/10/2017 20:45</td>\n",
       "      <td>Parc des Princes, Paris</td>\n",
       "      <td>Paris Saint-Germain</td>\n",
       "      <td>Anderlecht</td>\n",
       "      <td>Group B</td>\n",
       "      <td>5 - 0</td>\n",
       "    </tr>\n",
       "    <tr>\n",
       "      <th>4</th>\n",
       "      <td>22</td>\n",
       "      <td>5</td>\n",
       "      <td>22/11/2017 20:45</td>\n",
       "      <td>Parc des Princes, Paris</td>\n",
       "      <td>Paris Saint-Germain</td>\n",
       "      <td>Celtic</td>\n",
       "      <td>Group B</td>\n",
       "      <td>7 - 1</td>\n",
       "    </tr>\n",
       "    <tr>\n",
       "      <th>5</th>\n",
       "      <td>23</td>\n",
       "      <td>6</td>\n",
       "      <td>05/12/2017 20:45</td>\n",
       "      <td>Allianz Arena, Munich</td>\n",
       "      <td>Bayern Munich</td>\n",
       "      <td>Paris Saint-Germain</td>\n",
       "      <td>Group B</td>\n",
       "      <td>3 - 1</td>\n",
       "    </tr>\n",
       "    <tr>\n",
       "      <th>6</th>\n",
       "      <td>100</td>\n",
       "      <td>Round of 16 - Game 1</td>\n",
       "      <td>14/02/2018 20:45</td>\n",
       "      <td>Santiago Bernabéu, Madrid</td>\n",
       "      <td>Real Madrid</td>\n",
       "      <td>Paris Saint-Germain</td>\n",
       "      <td>NaN</td>\n",
       "      <td>3 - 1</td>\n",
       "    </tr>\n",
       "    <tr>\n",
       "      <th>7</th>\n",
       "      <td>106</td>\n",
       "      <td>Round of 16 - Game 2</td>\n",
       "      <td>06/03/2018 20:45</td>\n",
       "      <td>Parc des Princes, Paris</td>\n",
       "      <td>Paris Saint-Germain</td>\n",
       "      <td>Real Madrid</td>\n",
       "      <td>NaN</td>\n",
       "      <td>1 - 2</td>\n",
       "    </tr>\n",
       "  </tbody>\n",
       "</table>\n",
       "</div>"
      ],
      "text/plain": [
       "   Match Number          Round Number              Date  \\\n",
       "0            14                     1  12/09/2017 20:45   \n",
       "1            15                     2  27/09/2017 20:45   \n",
       "2            17                     3  18/10/2017 20:45   \n",
       "3            19                     4  31/10/2017 20:45   \n",
       "4            22                     5  22/11/2017 20:45   \n",
       "5            23                     6  05/12/2017 20:45   \n",
       "6           100  Round of 16 - Game 1  14/02/2018 20:45   \n",
       "7           106  Round of 16 - Game 2  06/03/2018 20:45   \n",
       "\n",
       "                                    Location            Home Team  \\\n",
       "0                       Celtic Park, Glasgow               Celtic   \n",
       "1                    Parc des Princes, Paris  Paris Saint-Germain   \n",
       "2  Constant Vanden Stock Stadium, Anderlecht           Anderlecht   \n",
       "3                    Parc des Princes, Paris  Paris Saint-Germain   \n",
       "4                    Parc des Princes, Paris  Paris Saint-Germain   \n",
       "5                      Allianz Arena, Munich        Bayern Munich   \n",
       "6                  Santiago Bernabéu, Madrid          Real Madrid   \n",
       "7                    Parc des Princes, Paris  Paris Saint-Germain   \n",
       "\n",
       "             Away Team    Group Result  \n",
       "0  Paris Saint-Germain  Group B  0 - 5  \n",
       "1        Bayern Munich  Group B  3 - 0  \n",
       "2  Paris Saint-Germain  Group B  0 - 4  \n",
       "3           Anderlecht  Group B  5 - 0  \n",
       "4               Celtic  Group B  7 - 1  \n",
       "5  Paris Saint-Germain  Group B  3 - 1  \n",
       "6  Paris Saint-Germain      NaN  3 - 1  \n",
       "7          Real Madrid      NaN  1 - 2  "
      ]
     },
     "execution_count": 19,
     "metadata": {},
     "output_type": "execute_result"
    }
   ],
   "source": [
    "championsl_2017"
   ]
  },
  {
   "cell_type": "code",
   "execution_count": 4,
   "id": "905610ef",
   "metadata": {
    "ExecuteTime": {
     "end_time": "2021-08-24T13:20:54.853043Z",
     "start_time": "2021-08-24T13:20:54.845423Z"
    }
   },
   "outputs": [],
   "source": [
    "all_series = [championsl_2017,championsl_2018,championsl_2019,championsl_2020, ligue1_2018,ligue1_2019,ligue1_2020,ligue1_2021]"
   ]
  },
  {
   "cell_type": "code",
   "execution_count": 5,
   "id": "88fa216e",
   "metadata": {
    "ExecuteTime": {
     "end_time": "2021-08-24T13:20:54.860491Z",
     "start_time": "2021-08-24T13:20:54.856201Z"
    }
   },
   "outputs": [],
   "source": [
    "#def to_datetime_date(df):\n",
    "    #df['Date'] = pd.to_datetime(df['Date']).dt.date\n",
    "    #return df"
   ]
  },
  {
   "cell_type": "code",
   "execution_count": 6,
   "id": "063070ca",
   "metadata": {
    "ExecuteTime": {
     "end_time": "2021-08-24T13:20:54.869726Z",
     "start_time": "2021-08-24T13:20:54.865668Z"
    }
   },
   "outputs": [],
   "source": [
    "#all_dfs = [to_datetime_date(df) for df in all_series]"
   ]
  },
  {
   "cell_type": "code",
   "execution_count": 20,
   "id": "1c0a3c78",
   "metadata": {
    "ExecuteTime": {
     "end_time": "2021-08-24T13:21:10.731834Z",
     "start_time": "2021-08-24T13:21:10.696490Z"
    }
   },
   "outputs": [],
   "source": [
    "#transform column to datetime to make them easier to manipulate\n",
    "championsl_2017['Date']=pd.to_datetime(championsl_2017['Date'])\n",
    "championsl_2018['Date']=pd.to_datetime(championsl_2018['Date'])\n",
    "championsl_2019['Date']=pd.to_datetime(championsl_2019['Date'])\n",
    "championsl_2020['Date']=pd.to_datetime(championsl_2020['Date'])\n",
    "ligue1_2018['Date']=pd.to_datetime(ligue1_2018['Date'])\n",
    "ligue1_2019['Date']=pd.to_datetime(ligue1_2019['Date'])\n",
    "ligue1_2020['Date']=pd.to_datetime(ligue1_2020['Date'])\n",
    "ligue1_2021['Date']=pd.to_datetime(ligue1_2021['Date'])"
   ]
  },
  {
   "cell_type": "code",
   "execution_count": 21,
   "id": "bad5da65",
   "metadata": {
    "ExecuteTime": {
     "end_time": "2021-08-24T13:21:11.960400Z",
     "start_time": "2021-08-24T13:21:11.953028Z"
    }
   },
   "outputs": [],
   "source": [
    "championsl_2017['Service']= 'Dinner'\n",
    "championsl_2018['Service']='Dinner'\n",
    "championsl_2019['Service']='Dinner'\n",
    "championsl_2020['Service']='Dinner'\n",
    "ligue1_2018['Service']='Dinner'\n",
    "ligue1_2019['Service']='Dinner'\n",
    "ligue1_2020['Service']='Dinner'\n",
    "ligue1_2021['Service']='Dinner'"
   ]
  },
  {
   "cell_type": "code",
   "execution_count": 9,
   "id": "2dbb6985",
   "metadata": {
    "ExecuteTime": {
     "end_time": "2021-08-24T13:20:54.990571Z",
     "start_time": "2021-08-24T13:20:54.971637Z"
    }
   },
   "outputs": [],
   "source": [
    "championsl_2017['Date']=pd.to_datetime(championsl_2017['Date']).dt.date\n",
    "championsl_2018['Date']=pd.to_datetime(championsl_2018['Date']).dt.date\n",
    "championsl_2019['Date']=pd.to_datetime(championsl_2019['Date']).dt.date\n",
    "championsl_2020['Date']=pd.to_datetime(championsl_2020['Date']).dt.date\n",
    "ligue1_2018['Date']=pd.to_datetime(ligue1_2018['Date']).dt.date\n",
    "ligue1_2019['Date']=pd.to_datetime(ligue1_2019['Date']).dt.date\n",
    "ligue1_2020['Date']=pd.to_datetime(ligue1_2020['Date']).dt.date\n",
    "ligue1_2021['Date']=pd.to_datetime(ligue1_2021['Date']).dt.date"
   ]
  },
  {
   "cell_type": "code",
   "execution_count": 10,
   "id": "64d8fa20",
   "metadata": {
    "ExecuteTime": {
     "end_time": "2021-08-24T13:20:54.996591Z",
     "start_time": "2021-08-24T13:20:54.992720Z"
    }
   },
   "outputs": [],
   "source": [
    "#def set_index1(df):\n",
    "    #df=df.set_index('Date')\n",
    "    #return df"
   ]
  },
  {
   "cell_type": "code",
   "execution_count": 11,
   "id": "1d71d0af",
   "metadata": {
    "ExecuteTime": {
     "end_time": "2021-08-24T13:20:55.004766Z",
     "start_time": "2021-08-24T13:20:54.999498Z"
    }
   },
   "outputs": [],
   "source": [
    "#all_dfs = [set_index1(df) for df in all_dfs]"
   ]
  },
  {
   "cell_type": "code",
   "execution_count": 12,
   "id": "83da6d01",
   "metadata": {
    "ExecuteTime": {
     "end_time": "2021-08-24T13:20:55.020504Z",
     "start_time": "2021-08-24T13:20:55.006910Z"
    }
   },
   "outputs": [],
   "source": [
    "#set date as index\n",
    "championsl_2017=championsl_2017.set_index('Date')\n",
    "championsl_2018=championsl_2018.set_index('Date')\n",
    "championsl_2019=championsl_2019.set_index('Date')\n",
    "championsl_2020=championsl_2020.set_index('Date')\n",
    "ligue1_2018=ligue1_2018.set_index('Date')\n",
    "ligue1_2019=ligue1_2019.set_index('Date')\n",
    "ligue1_2020=ligue1_2020.set_index('Date')\n",
    "ligue1_2021=ligue1_2021.set_index('Date')"
   ]
  },
  {
   "cell_type": "code",
   "execution_count": 13,
   "id": "bb5ccc1d",
   "metadata": {
    "ExecuteTime": {
     "end_time": "2021-08-24T13:20:55.028179Z",
     "start_time": "2021-08-24T13:20:55.023202Z"
    }
   },
   "outputs": [],
   "source": [
    "#only keep home matches\n",
    "#championsl_2017=championsl_2017[championsl_2017['Location']=='Parc des Princes, Paris']\n",
    "#championsl_2018=championsl_2018[championsl_2018['Location']=='Parc des Princes, Paris']\n",
    "#championsl_2019=championsl_2019[championsl_2019['Location']=='Parc des Princes, Paris']\n",
    "#championsl_2020=championsl_2020[championsl_2020['Location']=='Parc des Princes, Paris']\n",
    "#ligue1_2018=ligue1_2018[ligue1_2018['Location']=='Parc des Princes']\n",
    "#ligue1_2019=ligue1_2019[ligue1_2019['Location']=='Parc des Princes']\n",
    "#ligue1_2020=ligue1_2020[ligue1_2020['Location']=='Parc des Princes']\n",
    "#ligue1_2021=ligue1_2021[ligue1_2021['Location']=='Parc des Princes']"
   ]
  },
  {
   "cell_type": "code",
   "execution_count": 22,
   "id": "9bb42f16",
   "metadata": {
    "ExecuteTime": {
     "end_time": "2021-08-24T13:21:15.275538Z",
     "start_time": "2021-08-24T13:21:15.268180Z"
    }
   },
   "outputs": [],
   "source": [
    "all_matches_ligue1 = pd.concat([ ligue1_2018,ligue1_2019,ligue1_2020,ligue1_2021], join='outer')\n",
    "all_matches_championsleague = pd.concat([championsl_2017, championsl_2018, championsl_2019, championsl_2020], join='outer')"
   ]
  },
  {
   "cell_type": "code",
   "execution_count": 23,
   "id": "18489593",
   "metadata": {
    "ExecuteTime": {
     "end_time": "2021-08-24T13:21:16.587857Z",
     "start_time": "2021-08-24T13:21:16.561058Z"
    },
    "scrolled": true
   },
   "outputs": [
    {
     "data": {
      "text/html": [
       "<div>\n",
       "<style scoped>\n",
       "    .dataframe tbody tr th:only-of-type {\n",
       "        vertical-align: middle;\n",
       "    }\n",
       "\n",
       "    .dataframe tbody tr th {\n",
       "        vertical-align: top;\n",
       "    }\n",
       "\n",
       "    .dataframe thead th {\n",
       "        text-align: right;\n",
       "    }\n",
       "</style>\n",
       "<table border=\"1\" class=\"dataframe\">\n",
       "  <thead>\n",
       "    <tr style=\"text-align: right;\">\n",
       "      <th></th>\n",
       "      <th>Match Number</th>\n",
       "      <th>Round Number</th>\n",
       "      <th>Date</th>\n",
       "      <th>Location</th>\n",
       "      <th>Home Team</th>\n",
       "      <th>Away Team</th>\n",
       "      <th>Result</th>\n",
       "      <th>Service</th>\n",
       "    </tr>\n",
       "  </thead>\n",
       "  <tbody>\n",
       "    <tr>\n",
       "      <th>0</th>\n",
       "      <td>10</td>\n",
       "      <td>2</td>\n",
       "      <td>2018-12-08 21:00:00</td>\n",
       "      <td>Parc des Princes</td>\n",
       "      <td>Paris Saint-Germain</td>\n",
       "      <td>SM Caen</td>\n",
       "      <td>3 - 0</td>\n",
       "      <td>Dinner</td>\n",
       "    </tr>\n",
       "    <tr>\n",
       "      <th>1</th>\n",
       "      <td>12</td>\n",
       "      <td>3</td>\n",
       "      <td>2018-08-18 17:00:00</td>\n",
       "      <td>Stade de Roudourou</td>\n",
       "      <td>EA Guingamp</td>\n",
       "      <td>Paris Saint-Germain</td>\n",
       "      <td>1 - 3</td>\n",
       "      <td>Dinner</td>\n",
       "    </tr>\n",
       "    <tr>\n",
       "      <th>2</th>\n",
       "      <td>22</td>\n",
       "      <td>4</td>\n",
       "      <td>2018-08-25 17:00:00</td>\n",
       "      <td>Parc des Princes</td>\n",
       "      <td>Paris Saint-Germain</td>\n",
       "      <td>Angers SCO</td>\n",
       "      <td>3 - 1</td>\n",
       "      <td>Dinner</td>\n",
       "    </tr>\n",
       "    <tr>\n",
       "      <th>3</th>\n",
       "      <td>32</td>\n",
       "      <td>5</td>\n",
       "      <td>2018-01-09 17:00:00</td>\n",
       "      <td>Stade des Costières</td>\n",
       "      <td>Nîmes Olympique</td>\n",
       "      <td>Paris Saint-Germain</td>\n",
       "      <td>2 - 4</td>\n",
       "      <td>Dinner</td>\n",
       "    </tr>\n",
       "    <tr>\n",
       "      <th>4</th>\n",
       "      <td>49</td>\n",
       "      <td>6</td>\n",
       "      <td>2018-09-14 20:45:00</td>\n",
       "      <td>Parc des Princes</td>\n",
       "      <td>Paris Saint-Germain</td>\n",
       "      <td>AS Saint-Etienne</td>\n",
       "      <td>4 - 0</td>\n",
       "      <td>Dinner</td>\n",
       "    </tr>\n",
       "    <tr>\n",
       "      <th>...</th>\n",
       "      <td>...</td>\n",
       "      <td>...</td>\n",
       "      <td>...</td>\n",
       "      <td>...</td>\n",
       "      <td>...</td>\n",
       "      <td>...</td>\n",
       "      <td>...</td>\n",
       "      <td>...</td>\n",
       "    </tr>\n",
       "    <tr>\n",
       "      <th>33</th>\n",
       "      <td>337</td>\n",
       "      <td>34</td>\n",
       "      <td>2022-04-24 21:00:00</td>\n",
       "      <td>Parc des Princes</td>\n",
       "      <td>Paris Saint-Germain</td>\n",
       "      <td>RC Lens</td>\n",
       "      <td>NaN</td>\n",
       "      <td>Dinner</td>\n",
       "    </tr>\n",
       "    <tr>\n",
       "      <th>34</th>\n",
       "      <td>349</td>\n",
       "      <td>35</td>\n",
       "      <td>2022-01-05 21:00:00</td>\n",
       "      <td>Stade de la Meinau</td>\n",
       "      <td>RC Strasbourg Alsace</td>\n",
       "      <td>Paris Saint-Germain</td>\n",
       "      <td>NaN</td>\n",
       "      <td>Dinner</td>\n",
       "    </tr>\n",
       "    <tr>\n",
       "      <th>35</th>\n",
       "      <td>359</td>\n",
       "      <td>36</td>\n",
       "      <td>2022-08-05 21:00:00</td>\n",
       "      <td>Parc des Princes</td>\n",
       "      <td>Paris Saint-Germain</td>\n",
       "      <td>ESTAC Troyes</td>\n",
       "      <td>NaN</td>\n",
       "      <td>Dinner</td>\n",
       "    </tr>\n",
       "    <tr>\n",
       "      <th>36</th>\n",
       "      <td>365</td>\n",
       "      <td>37</td>\n",
       "      <td>2022-05-14 21:00:00</td>\n",
       "      <td>Stade de la Mosson</td>\n",
       "      <td>Montpellier Hérault SC</td>\n",
       "      <td>Paris Saint-Germain</td>\n",
       "      <td>NaN</td>\n",
       "      <td>Dinner</td>\n",
       "    </tr>\n",
       "    <tr>\n",
       "      <th>37</th>\n",
       "      <td>379</td>\n",
       "      <td>38</td>\n",
       "      <td>2022-05-21 21:00:00</td>\n",
       "      <td>Parc des Princes</td>\n",
       "      <td>Paris Saint-Germain</td>\n",
       "      <td>FC Metz</td>\n",
       "      <td>NaN</td>\n",
       "      <td>Dinner</td>\n",
       "    </tr>\n",
       "  </tbody>\n",
       "</table>\n",
       "<p>141 rows × 8 columns</p>\n",
       "</div>"
      ],
      "text/plain": [
       "    Match Number  Round Number                Date             Location  \\\n",
       "0             10             2 2018-12-08 21:00:00     Parc des Princes   \n",
       "1             12             3 2018-08-18 17:00:00   Stade de Roudourou   \n",
       "2             22             4 2018-08-25 17:00:00     Parc des Princes   \n",
       "3             32             5 2018-01-09 17:00:00  Stade des Costières   \n",
       "4             49             6 2018-09-14 20:45:00     Parc des Princes   \n",
       "..           ...           ...                 ...                  ...   \n",
       "33           337            34 2022-04-24 21:00:00     Parc des Princes   \n",
       "34           349            35 2022-01-05 21:00:00   Stade de la Meinau   \n",
       "35           359            36 2022-08-05 21:00:00     Parc des Princes   \n",
       "36           365            37 2022-05-14 21:00:00   Stade de la Mosson   \n",
       "37           379            38 2022-05-21 21:00:00     Parc des Princes   \n",
       "\n",
       "                 Home Team            Away Team Result Service  \n",
       "0      Paris Saint-Germain              SM Caen  3 - 0  Dinner  \n",
       "1              EA Guingamp  Paris Saint-Germain  1 - 3  Dinner  \n",
       "2      Paris Saint-Germain           Angers SCO  3 - 1  Dinner  \n",
       "3          Nîmes Olympique  Paris Saint-Germain  2 - 4  Dinner  \n",
       "4      Paris Saint-Germain     AS Saint-Etienne  4 - 0  Dinner  \n",
       "..                     ...                  ...    ...     ...  \n",
       "33     Paris Saint-Germain              RC Lens    NaN  Dinner  \n",
       "34    RC Strasbourg Alsace  Paris Saint-Germain    NaN  Dinner  \n",
       "35     Paris Saint-Germain         ESTAC Troyes    NaN  Dinner  \n",
       "36  Montpellier Hérault SC  Paris Saint-Germain    NaN  Dinner  \n",
       "37     Paris Saint-Germain              FC Metz    NaN  Dinner  \n",
       "\n",
       "[141 rows x 8 columns]"
      ]
     },
     "execution_count": 23,
     "metadata": {},
     "output_type": "execute_result"
    }
   ],
   "source": [
    "all_matches_ligue1"
   ]
  },
  {
   "cell_type": "code",
   "execution_count": 24,
   "id": "c896489a",
   "metadata": {
    "ExecuteTime": {
     "end_time": "2021-08-24T13:21:30.147139Z",
     "start_time": "2021-08-24T13:21:30.136414Z"
    }
   },
   "outputs": [],
   "source": [
    "all_matches_ligue1=pd.DataFrame(np.repeat(all_matches_ligue1.values,2,axis=0), columns=['Match Number','Round Number','Date','Location','Home Team','Away Team','Group''Result','Service'])\n",
    "all_matches_championsleague=pd.DataFrame(np.repeat(all_matches_championsleague.values,2,axis=0), columns=['Match Number','Round Number','Date','Location','Home Team','Away Team','Group','Result','Service'])\n"
   ]
  },
  {
   "cell_type": "code",
   "execution_count": 25,
   "id": "93af49ec",
   "metadata": {
    "ExecuteTime": {
     "end_time": "2021-08-24T13:21:31.585931Z",
     "start_time": "2021-08-24T13:21:31.568251Z"
    },
    "scrolled": true
   },
   "outputs": [
    {
     "data": {
      "text/html": [
       "<div>\n",
       "<style scoped>\n",
       "    .dataframe tbody tr th:only-of-type {\n",
       "        vertical-align: middle;\n",
       "    }\n",
       "\n",
       "    .dataframe tbody tr th {\n",
       "        vertical-align: top;\n",
       "    }\n",
       "\n",
       "    .dataframe thead th {\n",
       "        text-align: right;\n",
       "    }\n",
       "</style>\n",
       "<table border=\"1\" class=\"dataframe\">\n",
       "  <thead>\n",
       "    <tr style=\"text-align: right;\">\n",
       "      <th></th>\n",
       "      <th>Match Number</th>\n",
       "      <th>Round Number</th>\n",
       "      <th>Date</th>\n",
       "      <th>Location</th>\n",
       "      <th>Home Team</th>\n",
       "      <th>Away Team</th>\n",
       "      <th>GroupResult</th>\n",
       "      <th>Service</th>\n",
       "    </tr>\n",
       "  </thead>\n",
       "  <tbody>\n",
       "    <tr>\n",
       "      <th>0</th>\n",
       "      <td>10</td>\n",
       "      <td>2</td>\n",
       "      <td>2018-12-08 21:00:00</td>\n",
       "      <td>Parc des Princes</td>\n",
       "      <td>Paris Saint-Germain</td>\n",
       "      <td>SM Caen</td>\n",
       "      <td>3 - 0</td>\n",
       "      <td>Dinner</td>\n",
       "    </tr>\n",
       "    <tr>\n",
       "      <th>1</th>\n",
       "      <td>10</td>\n",
       "      <td>2</td>\n",
       "      <td>2018-12-08 21:00:00</td>\n",
       "      <td>Parc des Princes</td>\n",
       "      <td>Paris Saint-Germain</td>\n",
       "      <td>SM Caen</td>\n",
       "      <td>3 - 0</td>\n",
       "      <td>Dinner</td>\n",
       "    </tr>\n",
       "    <tr>\n",
       "      <th>2</th>\n",
       "      <td>12</td>\n",
       "      <td>3</td>\n",
       "      <td>2018-08-18 17:00:00</td>\n",
       "      <td>Stade de Roudourou</td>\n",
       "      <td>EA Guingamp</td>\n",
       "      <td>Paris Saint-Germain</td>\n",
       "      <td>1 - 3</td>\n",
       "      <td>Dinner</td>\n",
       "    </tr>\n",
       "    <tr>\n",
       "      <th>3</th>\n",
       "      <td>12</td>\n",
       "      <td>3</td>\n",
       "      <td>2018-08-18 17:00:00</td>\n",
       "      <td>Stade de Roudourou</td>\n",
       "      <td>EA Guingamp</td>\n",
       "      <td>Paris Saint-Germain</td>\n",
       "      <td>1 - 3</td>\n",
       "      <td>Dinner</td>\n",
       "    </tr>\n",
       "    <tr>\n",
       "      <th>4</th>\n",
       "      <td>22</td>\n",
       "      <td>4</td>\n",
       "      <td>2018-08-25 17:00:00</td>\n",
       "      <td>Parc des Princes</td>\n",
       "      <td>Paris Saint-Germain</td>\n",
       "      <td>Angers SCO</td>\n",
       "      <td>3 - 1</td>\n",
       "      <td>Dinner</td>\n",
       "    </tr>\n",
       "    <tr>\n",
       "      <th>...</th>\n",
       "      <td>...</td>\n",
       "      <td>...</td>\n",
       "      <td>...</td>\n",
       "      <td>...</td>\n",
       "      <td>...</td>\n",
       "      <td>...</td>\n",
       "      <td>...</td>\n",
       "      <td>...</td>\n",
       "    </tr>\n",
       "    <tr>\n",
       "      <th>277</th>\n",
       "      <td>359</td>\n",
       "      <td>36</td>\n",
       "      <td>2022-08-05 21:00:00</td>\n",
       "      <td>Parc des Princes</td>\n",
       "      <td>Paris Saint-Germain</td>\n",
       "      <td>ESTAC Troyes</td>\n",
       "      <td>NaN</td>\n",
       "      <td>Dinner</td>\n",
       "    </tr>\n",
       "    <tr>\n",
       "      <th>278</th>\n",
       "      <td>365</td>\n",
       "      <td>37</td>\n",
       "      <td>2022-05-14 21:00:00</td>\n",
       "      <td>Stade de la Mosson</td>\n",
       "      <td>Montpellier Hérault SC</td>\n",
       "      <td>Paris Saint-Germain</td>\n",
       "      <td>NaN</td>\n",
       "      <td>Dinner</td>\n",
       "    </tr>\n",
       "    <tr>\n",
       "      <th>279</th>\n",
       "      <td>365</td>\n",
       "      <td>37</td>\n",
       "      <td>2022-05-14 21:00:00</td>\n",
       "      <td>Stade de la Mosson</td>\n",
       "      <td>Montpellier Hérault SC</td>\n",
       "      <td>Paris Saint-Germain</td>\n",
       "      <td>NaN</td>\n",
       "      <td>Dinner</td>\n",
       "    </tr>\n",
       "    <tr>\n",
       "      <th>280</th>\n",
       "      <td>379</td>\n",
       "      <td>38</td>\n",
       "      <td>2022-05-21 21:00:00</td>\n",
       "      <td>Parc des Princes</td>\n",
       "      <td>Paris Saint-Germain</td>\n",
       "      <td>FC Metz</td>\n",
       "      <td>NaN</td>\n",
       "      <td>Dinner</td>\n",
       "    </tr>\n",
       "    <tr>\n",
       "      <th>281</th>\n",
       "      <td>379</td>\n",
       "      <td>38</td>\n",
       "      <td>2022-05-21 21:00:00</td>\n",
       "      <td>Parc des Princes</td>\n",
       "      <td>Paris Saint-Germain</td>\n",
       "      <td>FC Metz</td>\n",
       "      <td>NaN</td>\n",
       "      <td>Dinner</td>\n",
       "    </tr>\n",
       "  </tbody>\n",
       "</table>\n",
       "<p>282 rows × 8 columns</p>\n",
       "</div>"
      ],
      "text/plain": [
       "    Match Number Round Number                Date            Location  \\\n",
       "0             10            2 2018-12-08 21:00:00    Parc des Princes   \n",
       "1             10            2 2018-12-08 21:00:00    Parc des Princes   \n",
       "2             12            3 2018-08-18 17:00:00  Stade de Roudourou   \n",
       "3             12            3 2018-08-18 17:00:00  Stade de Roudourou   \n",
       "4             22            4 2018-08-25 17:00:00    Parc des Princes   \n",
       "..           ...          ...                 ...                 ...   \n",
       "277          359           36 2022-08-05 21:00:00    Parc des Princes   \n",
       "278          365           37 2022-05-14 21:00:00  Stade de la Mosson   \n",
       "279          365           37 2022-05-14 21:00:00  Stade de la Mosson   \n",
       "280          379           38 2022-05-21 21:00:00    Parc des Princes   \n",
       "281          379           38 2022-05-21 21:00:00    Parc des Princes   \n",
       "\n",
       "                  Home Team            Away Team GroupResult Service  \n",
       "0       Paris Saint-Germain              SM Caen       3 - 0  Dinner  \n",
       "1       Paris Saint-Germain              SM Caen       3 - 0  Dinner  \n",
       "2               EA Guingamp  Paris Saint-Germain       1 - 3  Dinner  \n",
       "3               EA Guingamp  Paris Saint-Germain       1 - 3  Dinner  \n",
       "4       Paris Saint-Germain           Angers SCO       3 - 1  Dinner  \n",
       "..                      ...                  ...         ...     ...  \n",
       "277     Paris Saint-Germain         ESTAC Troyes         NaN  Dinner  \n",
       "278  Montpellier Hérault SC  Paris Saint-Germain         NaN  Dinner  \n",
       "279  Montpellier Hérault SC  Paris Saint-Germain         NaN  Dinner  \n",
       "280     Paris Saint-Germain              FC Metz         NaN  Dinner  \n",
       "281     Paris Saint-Germain              FC Metz         NaN  Dinner  \n",
       "\n",
       "[282 rows x 8 columns]"
      ]
     },
     "execution_count": 25,
     "metadata": {},
     "output_type": "execute_result"
    }
   ],
   "source": [
    "all_matches_ligue1"
   ]
  },
  {
   "cell_type": "code",
   "execution_count": 26,
   "id": "79801381",
   "metadata": {
    "ExecuteTime": {
     "end_time": "2021-08-24T13:21:38.668144Z",
     "start_time": "2021-08-24T13:21:38.663941Z"
    }
   },
   "outputs": [],
   "source": [
    "all_matches_ligue1['Service']='diner'\n",
    "all_matches_championsleague['Service']='diner'"
   ]
  },
  {
   "cell_type": "code",
   "execution_count": 27,
   "id": "b40957e3",
   "metadata": {
    "ExecuteTime": {
     "end_time": "2021-08-24T13:21:43.169379Z",
     "start_time": "2021-08-24T13:21:43.163467Z"
    }
   },
   "outputs": [],
   "source": [
    "all_matches_ligue1=all_matches_ligue1.rename(columns={'Date':'date'})\n",
    "all_matches_championsleague=all_matches_championsleague.rename(columns={'Date':'date'})"
   ]
  },
  {
   "cell_type": "code",
   "execution_count": 28,
   "id": "82aba2bc",
   "metadata": {
    "ExecuteTime": {
     "end_time": "2021-08-24T13:21:44.674221Z",
     "start_time": "2021-08-24T13:21:44.667613Z"
    }
   },
   "outputs": [],
   "source": [
    "all_matches_ligue1=all_matches_ligue1.rename(columns={'Service':'service'})\n",
    "all_matches_championsleague=all_matches_championsleague.rename(columns={'Service':'service'})"
   ]
  },
  {
   "cell_type": "code",
   "execution_count": 29,
   "id": "31059ad7",
   "metadata": {
    "ExecuteTime": {
     "end_time": "2021-08-24T13:21:45.832781Z",
     "start_time": "2021-08-24T13:21:45.823697Z"
    }
   },
   "outputs": [],
   "source": [
    "all_matches_ligue1['Match Happening-L1'] = 1\n",
    "all_matches_championsleague['Match Happening-CL'] = 1"
   ]
  },
  {
   "cell_type": "code",
   "execution_count": 30,
   "id": "ccaf281e",
   "metadata": {
    "ExecuteTime": {
     "end_time": "2021-08-24T13:21:46.531149Z",
     "start_time": "2021-08-24T13:21:46.326741Z"
    }
   },
   "outputs": [
    {
     "name": "stderr",
     "output_type": "stream",
     "text": [
      "/var/folders/p2/6ddwj2812811pbqjm8t6brv80000gn/T/ipykernel_90537/527931116.py:2: SettingWithCopyWarning: \n",
      "A value is trying to be set on a copy of a slice from a DataFrame\n",
      "\n",
      "See the caveats in the documentation: https://pandas.pydata.org/pandas-docs/stable/user_guide/indexing.html#returning-a-view-versus-a-copy\n",
      "  all_matches_ligue1['Match Happening-L1'][i]= 0\n",
      "/Users/monmac/.pyenv/versions/3.8.6/envs/resto-project/lib/python3.8/site-packages/pandas/core/indexing.py:1732: SettingWithCopyWarning: \n",
      "A value is trying to be set on a copy of a slice from a DataFrame\n",
      "\n",
      "See the caveats in the documentation: https://pandas.pydata.org/pandas-docs/stable/user_guide/indexing.html#returning-a-view-versus-a-copy\n",
      "  self._setitem_single_block(indexer, value, name)\n",
      "/var/folders/p2/6ddwj2812811pbqjm8t6brv80000gn/T/ipykernel_90537/527931116.py:5: SettingWithCopyWarning: \n",
      "A value is trying to be set on a copy of a slice from a DataFrame\n",
      "\n",
      "See the caveats in the documentation: https://pandas.pydata.org/pandas-docs/stable/user_guide/indexing.html#returning-a-view-versus-a-copy\n",
      "  all_matches_championsleague['Match Happening-CL'][i]= 0\n"
     ]
    }
   ],
   "source": [
    "for i in np.linspace(0,358,180): \n",
    "    all_matches_ligue1['Match Happening-L1'][i]= 0\n",
    "    \n",
    "for i in np.linspace(0,358,180): \n",
    "    all_matches_championsleague['Match Happening-CL'][i]= 0"
   ]
  },
  {
   "cell_type": "code",
   "execution_count": 31,
   "id": "10f4aaf0",
   "metadata": {
    "ExecuteTime": {
     "end_time": "2021-08-24T13:21:47.107981Z",
     "start_time": "2021-08-24T13:21:46.866048Z"
    }
   },
   "outputs": [
    {
     "name": "stderr",
     "output_type": "stream",
     "text": [
      "/var/folders/p2/6ddwj2812811pbqjm8t6brv80000gn/T/ipykernel_90537/2829415634.py:2: SettingWithCopyWarning: \n",
      "A value is trying to be set on a copy of a slice from a DataFrame\n",
      "\n",
      "See the caveats in the documentation: https://pandas.pydata.org/pandas-docs/stable/user_guide/indexing.html#returning-a-view-versus-a-copy\n",
      "  all_matches_ligue1['service'][i]='midi'\n",
      "/var/folders/p2/6ddwj2812811pbqjm8t6brv80000gn/T/ipykernel_90537/2829415634.py:4: SettingWithCopyWarning: \n",
      "A value is trying to be set on a copy of a slice from a DataFrame\n",
      "\n",
      "See the caveats in the documentation: https://pandas.pydata.org/pandas-docs/stable/user_guide/indexing.html#returning-a-view-versus-a-copy\n",
      "  all_matches_championsleague['service'][i]='midi'\n"
     ]
    }
   ],
   "source": [
    "for i in np.linspace(0,358,180): \n",
    "    all_matches_ligue1['service'][i]='midi'\n",
    "for i in np.linspace(0,358,180): \n",
    "    all_matches_championsleague['service'][i]='midi'"
   ]
  },
  {
   "cell_type": "code",
   "execution_count": 32,
   "id": "a4b36120",
   "metadata": {
    "ExecuteTime": {
     "end_time": "2021-08-24T13:21:50.028828Z",
     "start_time": "2021-08-24T13:21:50.020748Z"
    }
   },
   "outputs": [],
   "source": [
    "all_matches_ligue1['date']=all_matches_ligue1['date'].dt.date\n",
    "all_matches_championsleague['date']=all_matches_championsleague['date'].dt.date"
   ]
  },
  {
   "cell_type": "code",
   "execution_count": 34,
   "id": "70e2faf1",
   "metadata": {
    "ExecuteTime": {
     "end_time": "2021-08-24T13:21:56.405717Z",
     "start_time": "2021-08-24T13:21:56.388534Z"
    },
    "scrolled": true
   },
   "outputs": [
    {
     "ename": "KeyError",
     "evalue": "\"['Match Number' 'Round Number'] not found in axis\"",
     "output_type": "error",
     "traceback": [
      "\u001b[0;31m---------------------------------------------------------------------------\u001b[0m",
      "\u001b[0;31mKeyError\u001b[0m                                  Traceback (most recent call last)",
      "\u001b[0;32m/var/folders/p2/6ddwj2812811pbqjm8t6brv80000gn/T/ipykernel_90537/3137303343.py\u001b[0m in \u001b[0;36m<module>\u001b[0;34m\u001b[0m\n\u001b[0;32m----> 1\u001b[0;31m \u001b[0mall_matches_ligue1\u001b[0m\u001b[0;34m=\u001b[0m\u001b[0mall_matches_ligue1\u001b[0m\u001b[0;34m.\u001b[0m\u001b[0mdrop\u001b[0m\u001b[0;34m(\u001b[0m\u001b[0mcolumns\u001b[0m\u001b[0;34m=\u001b[0m\u001b[0;34m[\u001b[0m\u001b[0;34m'Match Number'\u001b[0m\u001b[0;34m,\u001b[0m\u001b[0;34m'Round Number'\u001b[0m\u001b[0;34m]\u001b[0m\u001b[0;34m)\u001b[0m\u001b[0;34m\u001b[0m\u001b[0;34m\u001b[0m\u001b[0m\n\u001b[0m\u001b[1;32m      2\u001b[0m \u001b[0mall_matches_championsleague\u001b[0m\u001b[0;34m=\u001b[0m\u001b[0mall_matches_championsleague\u001b[0m\u001b[0;34m.\u001b[0m\u001b[0mdrop\u001b[0m\u001b[0;34m(\u001b[0m\u001b[0mcolumns\u001b[0m\u001b[0;34m=\u001b[0m\u001b[0;34m[\u001b[0m\u001b[0;34m'Match Number'\u001b[0m\u001b[0;34m,\u001b[0m\u001b[0;34m'Round Number'\u001b[0m\u001b[0;34m,\u001b[0m \u001b[0;34m'GroupResult'\u001b[0m\u001b[0;34m]\u001b[0m\u001b[0;34m)\u001b[0m\u001b[0;34m\u001b[0m\u001b[0;34m\u001b[0m\u001b[0m\n",
      "\u001b[0;32m~/.pyenv/versions/3.8.6/envs/resto-project/lib/python3.8/site-packages/pandas/util/_decorators.py\u001b[0m in \u001b[0;36mwrapper\u001b[0;34m(*args, **kwargs)\u001b[0m\n\u001b[1;32m    309\u001b[0m                     \u001b[0mstacklevel\u001b[0m\u001b[0;34m=\u001b[0m\u001b[0mstacklevel\u001b[0m\u001b[0;34m,\u001b[0m\u001b[0;34m\u001b[0m\u001b[0;34m\u001b[0m\u001b[0m\n\u001b[1;32m    310\u001b[0m                 )\n\u001b[0;32m--> 311\u001b[0;31m             \u001b[0;32mreturn\u001b[0m \u001b[0mfunc\u001b[0m\u001b[0;34m(\u001b[0m\u001b[0;34m*\u001b[0m\u001b[0margs\u001b[0m\u001b[0;34m,\u001b[0m \u001b[0;34m**\u001b[0m\u001b[0mkwargs\u001b[0m\u001b[0;34m)\u001b[0m\u001b[0;34m\u001b[0m\u001b[0;34m\u001b[0m\u001b[0m\n\u001b[0m\u001b[1;32m    312\u001b[0m \u001b[0;34m\u001b[0m\u001b[0m\n\u001b[1;32m    313\u001b[0m         \u001b[0;32mreturn\u001b[0m \u001b[0mwrapper\u001b[0m\u001b[0;34m\u001b[0m\u001b[0;34m\u001b[0m\u001b[0m\n",
      "\u001b[0;32m~/.pyenv/versions/3.8.6/envs/resto-project/lib/python3.8/site-packages/pandas/core/frame.py\u001b[0m in \u001b[0;36mdrop\u001b[0;34m(self, labels, axis, index, columns, level, inplace, errors)\u001b[0m\n\u001b[1;32m   4899\u001b[0m                 \u001b[0mweight\u001b[0m  \u001b[0;36m1.0\u001b[0m     \u001b[0;36m0.8\u001b[0m\u001b[0;34m\u001b[0m\u001b[0;34m\u001b[0m\u001b[0m\n\u001b[1;32m   4900\u001b[0m         \"\"\"\n\u001b[0;32m-> 4901\u001b[0;31m         return super().drop(\n\u001b[0m\u001b[1;32m   4902\u001b[0m             \u001b[0mlabels\u001b[0m\u001b[0;34m=\u001b[0m\u001b[0mlabels\u001b[0m\u001b[0;34m,\u001b[0m\u001b[0;34m\u001b[0m\u001b[0;34m\u001b[0m\u001b[0m\n\u001b[1;32m   4903\u001b[0m             \u001b[0maxis\u001b[0m\u001b[0;34m=\u001b[0m\u001b[0maxis\u001b[0m\u001b[0;34m,\u001b[0m\u001b[0;34m\u001b[0m\u001b[0;34m\u001b[0m\u001b[0m\n",
      "\u001b[0;32m~/.pyenv/versions/3.8.6/envs/resto-project/lib/python3.8/site-packages/pandas/core/generic.py\u001b[0m in \u001b[0;36mdrop\u001b[0;34m(self, labels, axis, index, columns, level, inplace, errors)\u001b[0m\n\u001b[1;32m   4148\u001b[0m         \u001b[0;32mfor\u001b[0m \u001b[0maxis\u001b[0m\u001b[0;34m,\u001b[0m \u001b[0mlabels\u001b[0m \u001b[0;32min\u001b[0m \u001b[0maxes\u001b[0m\u001b[0;34m.\u001b[0m\u001b[0mitems\u001b[0m\u001b[0;34m(\u001b[0m\u001b[0;34m)\u001b[0m\u001b[0;34m:\u001b[0m\u001b[0;34m\u001b[0m\u001b[0;34m\u001b[0m\u001b[0m\n\u001b[1;32m   4149\u001b[0m             \u001b[0;32mif\u001b[0m \u001b[0mlabels\u001b[0m \u001b[0;32mis\u001b[0m \u001b[0;32mnot\u001b[0m \u001b[0;32mNone\u001b[0m\u001b[0;34m:\u001b[0m\u001b[0;34m\u001b[0m\u001b[0;34m\u001b[0m\u001b[0m\n\u001b[0;32m-> 4150\u001b[0;31m                 \u001b[0mobj\u001b[0m \u001b[0;34m=\u001b[0m \u001b[0mobj\u001b[0m\u001b[0;34m.\u001b[0m\u001b[0m_drop_axis\u001b[0m\u001b[0;34m(\u001b[0m\u001b[0mlabels\u001b[0m\u001b[0;34m,\u001b[0m \u001b[0maxis\u001b[0m\u001b[0;34m,\u001b[0m \u001b[0mlevel\u001b[0m\u001b[0;34m=\u001b[0m\u001b[0mlevel\u001b[0m\u001b[0;34m,\u001b[0m \u001b[0merrors\u001b[0m\u001b[0;34m=\u001b[0m\u001b[0merrors\u001b[0m\u001b[0;34m)\u001b[0m\u001b[0;34m\u001b[0m\u001b[0;34m\u001b[0m\u001b[0m\n\u001b[0m\u001b[1;32m   4151\u001b[0m \u001b[0;34m\u001b[0m\u001b[0m\n\u001b[1;32m   4152\u001b[0m         \u001b[0;32mif\u001b[0m \u001b[0minplace\u001b[0m\u001b[0;34m:\u001b[0m\u001b[0;34m\u001b[0m\u001b[0;34m\u001b[0m\u001b[0m\n",
      "\u001b[0;32m~/.pyenv/versions/3.8.6/envs/resto-project/lib/python3.8/site-packages/pandas/core/generic.py\u001b[0m in \u001b[0;36m_drop_axis\u001b[0;34m(self, labels, axis, level, errors)\u001b[0m\n\u001b[1;32m   4183\u001b[0m                 \u001b[0mnew_axis\u001b[0m \u001b[0;34m=\u001b[0m \u001b[0maxis\u001b[0m\u001b[0;34m.\u001b[0m\u001b[0mdrop\u001b[0m\u001b[0;34m(\u001b[0m\u001b[0mlabels\u001b[0m\u001b[0;34m,\u001b[0m \u001b[0mlevel\u001b[0m\u001b[0;34m=\u001b[0m\u001b[0mlevel\u001b[0m\u001b[0;34m,\u001b[0m \u001b[0merrors\u001b[0m\u001b[0;34m=\u001b[0m\u001b[0merrors\u001b[0m\u001b[0;34m)\u001b[0m\u001b[0;34m\u001b[0m\u001b[0;34m\u001b[0m\u001b[0m\n\u001b[1;32m   4184\u001b[0m             \u001b[0;32melse\u001b[0m\u001b[0;34m:\u001b[0m\u001b[0;34m\u001b[0m\u001b[0;34m\u001b[0m\u001b[0m\n\u001b[0;32m-> 4185\u001b[0;31m                 \u001b[0mnew_axis\u001b[0m \u001b[0;34m=\u001b[0m \u001b[0maxis\u001b[0m\u001b[0;34m.\u001b[0m\u001b[0mdrop\u001b[0m\u001b[0;34m(\u001b[0m\u001b[0mlabels\u001b[0m\u001b[0;34m,\u001b[0m \u001b[0merrors\u001b[0m\u001b[0;34m=\u001b[0m\u001b[0merrors\u001b[0m\u001b[0;34m)\u001b[0m\u001b[0;34m\u001b[0m\u001b[0;34m\u001b[0m\u001b[0m\n\u001b[0m\u001b[1;32m   4186\u001b[0m             \u001b[0mresult\u001b[0m \u001b[0;34m=\u001b[0m \u001b[0mself\u001b[0m\u001b[0;34m.\u001b[0m\u001b[0mreindex\u001b[0m\u001b[0;34m(\u001b[0m\u001b[0;34m**\u001b[0m\u001b[0;34m{\u001b[0m\u001b[0maxis_name\u001b[0m\u001b[0;34m:\u001b[0m \u001b[0mnew_axis\u001b[0m\u001b[0;34m}\u001b[0m\u001b[0;34m)\u001b[0m\u001b[0;34m\u001b[0m\u001b[0;34m\u001b[0m\u001b[0m\n\u001b[1;32m   4187\u001b[0m \u001b[0;34m\u001b[0m\u001b[0m\n",
      "\u001b[0;32m~/.pyenv/versions/3.8.6/envs/resto-project/lib/python3.8/site-packages/pandas/core/indexes/base.py\u001b[0m in \u001b[0;36mdrop\u001b[0;34m(self, labels, errors)\u001b[0m\n\u001b[1;32m   6016\u001b[0m         \u001b[0;32mif\u001b[0m \u001b[0mmask\u001b[0m\u001b[0;34m.\u001b[0m\u001b[0many\u001b[0m\u001b[0;34m(\u001b[0m\u001b[0;34m)\u001b[0m\u001b[0;34m:\u001b[0m\u001b[0;34m\u001b[0m\u001b[0;34m\u001b[0m\u001b[0m\n\u001b[1;32m   6017\u001b[0m             \u001b[0;32mif\u001b[0m \u001b[0merrors\u001b[0m \u001b[0;34m!=\u001b[0m \u001b[0;34m\"ignore\"\u001b[0m\u001b[0;34m:\u001b[0m\u001b[0;34m\u001b[0m\u001b[0;34m\u001b[0m\u001b[0m\n\u001b[0;32m-> 6018\u001b[0;31m                 \u001b[0;32mraise\u001b[0m \u001b[0mKeyError\u001b[0m\u001b[0;34m(\u001b[0m\u001b[0;34mf\"{labels[mask]} not found in axis\"\u001b[0m\u001b[0;34m)\u001b[0m\u001b[0;34m\u001b[0m\u001b[0;34m\u001b[0m\u001b[0m\n\u001b[0m\u001b[1;32m   6019\u001b[0m             \u001b[0mindexer\u001b[0m \u001b[0;34m=\u001b[0m \u001b[0mindexer\u001b[0m\u001b[0;34m[\u001b[0m\u001b[0;34m~\u001b[0m\u001b[0mmask\u001b[0m\u001b[0;34m]\u001b[0m\u001b[0;34m\u001b[0m\u001b[0;34m\u001b[0m\u001b[0m\n\u001b[1;32m   6020\u001b[0m         \u001b[0;32mreturn\u001b[0m \u001b[0mself\u001b[0m\u001b[0;34m.\u001b[0m\u001b[0mdelete\u001b[0m\u001b[0;34m(\u001b[0m\u001b[0mindexer\u001b[0m\u001b[0;34m)\u001b[0m\u001b[0;34m\u001b[0m\u001b[0;34m\u001b[0m\u001b[0m\n",
      "\u001b[0;31mKeyError\u001b[0m: \"['Match Number' 'Round Number'] not found in axis\""
     ]
    }
   ],
   "source": [
    "all_matches_ligue1=all_matches_ligue1.drop(columns=['Match Number','Round Number'])\n",
    "all_matches_championsleague=all_matches_championsleague.drop(columns=['Match Number','Round Number', 'GroupResult'])"
   ]
  },
  {
   "cell_type": "code",
   "execution_count": 35,
   "id": "f068d193",
   "metadata": {
    "ExecuteTime": {
     "end_time": "2021-08-24T13:22:05.622422Z",
     "start_time": "2021-08-24T13:22:05.604571Z"
    }
   },
   "outputs": [
    {
     "data": {
      "text/html": [
       "<div>\n",
       "<style scoped>\n",
       "    .dataframe tbody tr th:only-of-type {\n",
       "        vertical-align: middle;\n",
       "    }\n",
       "\n",
       "    .dataframe tbody tr th {\n",
       "        vertical-align: top;\n",
       "    }\n",
       "\n",
       "    .dataframe thead th {\n",
       "        text-align: right;\n",
       "    }\n",
       "</style>\n",
       "<table border=\"1\" class=\"dataframe\">\n",
       "  <thead>\n",
       "    <tr style=\"text-align: right;\">\n",
       "      <th></th>\n",
       "      <th>date</th>\n",
       "      <th>Location</th>\n",
       "      <th>Home Team</th>\n",
       "      <th>Away Team</th>\n",
       "      <th>service</th>\n",
       "      <th>Match Happening-L1</th>\n",
       "    </tr>\n",
       "  </thead>\n",
       "  <tbody>\n",
       "    <tr>\n",
       "      <th>0</th>\n",
       "      <td>2018-12-08</td>\n",
       "      <td>Parc des Princes</td>\n",
       "      <td>Paris Saint-Germain</td>\n",
       "      <td>SM Caen</td>\n",
       "      <td>midi</td>\n",
       "      <td>0</td>\n",
       "    </tr>\n",
       "    <tr>\n",
       "      <th>1</th>\n",
       "      <td>2018-12-08</td>\n",
       "      <td>Parc des Princes</td>\n",
       "      <td>Paris Saint-Germain</td>\n",
       "      <td>SM Caen</td>\n",
       "      <td>diner</td>\n",
       "      <td>1</td>\n",
       "    </tr>\n",
       "    <tr>\n",
       "      <th>2</th>\n",
       "      <td>2018-08-18</td>\n",
       "      <td>Stade de Roudourou</td>\n",
       "      <td>EA Guingamp</td>\n",
       "      <td>Paris Saint-Germain</td>\n",
       "      <td>midi</td>\n",
       "      <td>0</td>\n",
       "    </tr>\n",
       "    <tr>\n",
       "      <th>3</th>\n",
       "      <td>2018-08-18</td>\n",
       "      <td>Stade de Roudourou</td>\n",
       "      <td>EA Guingamp</td>\n",
       "      <td>Paris Saint-Germain</td>\n",
       "      <td>diner</td>\n",
       "      <td>1</td>\n",
       "    </tr>\n",
       "    <tr>\n",
       "      <th>4</th>\n",
       "      <td>2018-08-25</td>\n",
       "      <td>Parc des Princes</td>\n",
       "      <td>Paris Saint-Germain</td>\n",
       "      <td>Angers SCO</td>\n",
       "      <td>midi</td>\n",
       "      <td>0</td>\n",
       "    </tr>\n",
       "    <tr>\n",
       "      <th>...</th>\n",
       "      <td>...</td>\n",
       "      <td>...</td>\n",
       "      <td>...</td>\n",
       "      <td>...</td>\n",
       "      <td>...</td>\n",
       "      <td>...</td>\n",
       "    </tr>\n",
       "    <tr>\n",
       "      <th>277</th>\n",
       "      <td>2022-08-05</td>\n",
       "      <td>Parc des Princes</td>\n",
       "      <td>Paris Saint-Germain</td>\n",
       "      <td>ESTAC Troyes</td>\n",
       "      <td>diner</td>\n",
       "      <td>1</td>\n",
       "    </tr>\n",
       "    <tr>\n",
       "      <th>278</th>\n",
       "      <td>2022-05-14</td>\n",
       "      <td>Stade de la Mosson</td>\n",
       "      <td>Montpellier Hérault SC</td>\n",
       "      <td>Paris Saint-Germain</td>\n",
       "      <td>midi</td>\n",
       "      <td>0</td>\n",
       "    </tr>\n",
       "    <tr>\n",
       "      <th>279</th>\n",
       "      <td>2022-05-14</td>\n",
       "      <td>Stade de la Mosson</td>\n",
       "      <td>Montpellier Hérault SC</td>\n",
       "      <td>Paris Saint-Germain</td>\n",
       "      <td>diner</td>\n",
       "      <td>1</td>\n",
       "    </tr>\n",
       "    <tr>\n",
       "      <th>280</th>\n",
       "      <td>2022-05-21</td>\n",
       "      <td>Parc des Princes</td>\n",
       "      <td>Paris Saint-Germain</td>\n",
       "      <td>FC Metz</td>\n",
       "      <td>midi</td>\n",
       "      <td>0</td>\n",
       "    </tr>\n",
       "    <tr>\n",
       "      <th>281</th>\n",
       "      <td>2022-05-21</td>\n",
       "      <td>Parc des Princes</td>\n",
       "      <td>Paris Saint-Germain</td>\n",
       "      <td>FC Metz</td>\n",
       "      <td>diner</td>\n",
       "      <td>1</td>\n",
       "    </tr>\n",
       "  </tbody>\n",
       "</table>\n",
       "<p>282 rows × 6 columns</p>\n",
       "</div>"
      ],
      "text/plain": [
       "           date            Location               Home Team  \\\n",
       "0    2018-12-08    Parc des Princes     Paris Saint-Germain   \n",
       "1    2018-12-08    Parc des Princes     Paris Saint-Germain   \n",
       "2    2018-08-18  Stade de Roudourou             EA Guingamp   \n",
       "3    2018-08-18  Stade de Roudourou             EA Guingamp   \n",
       "4    2018-08-25    Parc des Princes     Paris Saint-Germain   \n",
       "..          ...                 ...                     ...   \n",
       "277  2022-08-05    Parc des Princes     Paris Saint-Germain   \n",
       "278  2022-05-14  Stade de la Mosson  Montpellier Hérault SC   \n",
       "279  2022-05-14  Stade de la Mosson  Montpellier Hérault SC   \n",
       "280  2022-05-21    Parc des Princes     Paris Saint-Germain   \n",
       "281  2022-05-21    Parc des Princes     Paris Saint-Germain   \n",
       "\n",
       "               Away Team service  Match Happening-L1  \n",
       "0                SM Caen    midi                   0  \n",
       "1                SM Caen   diner                   1  \n",
       "2    Paris Saint-Germain    midi                   0  \n",
       "3    Paris Saint-Germain   diner                   1  \n",
       "4             Angers SCO    midi                   0  \n",
       "..                   ...     ...                 ...  \n",
       "277         ESTAC Troyes   diner                   1  \n",
       "278  Paris Saint-Germain    midi                   0  \n",
       "279  Paris Saint-Germain   diner                   1  \n",
       "280              FC Metz    midi                   0  \n",
       "281              FC Metz   diner                   1  \n",
       "\n",
       "[282 rows x 6 columns]"
      ]
     },
     "execution_count": 35,
     "metadata": {},
     "output_type": "execute_result"
    }
   ],
   "source": [
    "all_matches_ligue1"
   ]
  },
  {
   "cell_type": "code",
   "execution_count": null,
   "id": "91fa797a",
   "metadata": {
    "ExecuteTime": {
     "end_time": "2021-08-24T13:20:55.376004Z",
     "start_time": "2021-08-24T13:20:55.375979Z"
    },
    "scrolled": true
   },
   "outputs": [],
   "source": [
    "all_matches_championsleague=all_matches_championsleague.drop(columns=['Match Number', 'Round Number', 'Group', 'Result'])"
   ]
  },
  {
   "cell_type": "code",
   "execution_count": 36,
   "id": "797d2374",
   "metadata": {
    "ExecuteTime": {
     "end_time": "2021-08-24T13:22:10.389168Z",
     "start_time": "2021-08-24T13:22:10.383437Z"
    }
   },
   "outputs": [],
   "source": [
    "all_matches_ligue1=all_matches_ligue1.drop(columns=['Location','Home Team','Away Team'])\n",
    "all_matches_championsleague=all_matches_championsleague.drop(columns=['Location','Home Team','Away Team'])"
   ]
  },
  {
   "cell_type": "code",
   "execution_count": 39,
   "id": "c9ac0547",
   "metadata": {
    "ExecuteTime": {
     "end_time": "2021-08-24T13:23:02.705920Z",
     "start_time": "2021-08-24T13:23:02.700577Z"
    }
   },
   "outputs": [],
   "source": [
    "all_matches_championsleague=all_matches_championsleague.drop(columns=['Match Number','Round Number','Group','Result'])"
   ]
  },
  {
   "cell_type": "code",
   "execution_count": 41,
   "id": "b3381fcf",
   "metadata": {
    "ExecuteTime": {
     "end_time": "2021-08-24T13:23:13.054810Z",
     "start_time": "2021-08-24T13:23:13.042101Z"
    }
   },
   "outputs": [
    {
     "data": {
      "text/html": [
       "<div>\n",
       "<style scoped>\n",
       "    .dataframe tbody tr th:only-of-type {\n",
       "        vertical-align: middle;\n",
       "    }\n",
       "\n",
       "    .dataframe tbody tr th {\n",
       "        vertical-align: top;\n",
       "    }\n",
       "\n",
       "    .dataframe thead th {\n",
       "        text-align: right;\n",
       "    }\n",
       "</style>\n",
       "<table border=\"1\" class=\"dataframe\">\n",
       "  <thead>\n",
       "    <tr style=\"text-align: right;\">\n",
       "      <th></th>\n",
       "      <th>date</th>\n",
       "      <th>service</th>\n",
       "      <th>Match Happening-CL</th>\n",
       "    </tr>\n",
       "  </thead>\n",
       "  <tbody>\n",
       "    <tr>\n",
       "      <th>0</th>\n",
       "      <td>2017-12-09</td>\n",
       "      <td>midi</td>\n",
       "      <td>0</td>\n",
       "    </tr>\n",
       "    <tr>\n",
       "      <th>1</th>\n",
       "      <td>2017-12-09</td>\n",
       "      <td>diner</td>\n",
       "      <td>1</td>\n",
       "    </tr>\n",
       "    <tr>\n",
       "      <th>2</th>\n",
       "      <td>2017-09-27</td>\n",
       "      <td>midi</td>\n",
       "      <td>0</td>\n",
       "    </tr>\n",
       "    <tr>\n",
       "      <th>3</th>\n",
       "      <td>2017-09-27</td>\n",
       "      <td>diner</td>\n",
       "      <td>1</td>\n",
       "    </tr>\n",
       "    <tr>\n",
       "      <th>4</th>\n",
       "      <td>2017-10-18</td>\n",
       "      <td>midi</td>\n",
       "      <td>0</td>\n",
       "    </tr>\n",
       "    <tr>\n",
       "      <th>...</th>\n",
       "      <td>...</td>\n",
       "      <td>...</td>\n",
       "      <td>...</td>\n",
       "    </tr>\n",
       "    <tr>\n",
       "      <th>73</th>\n",
       "      <td>2021-04-13</td>\n",
       "      <td>diner</td>\n",
       "      <td>1</td>\n",
       "    </tr>\n",
       "    <tr>\n",
       "      <th>74</th>\n",
       "      <td>2021-04-28</td>\n",
       "      <td>midi</td>\n",
       "      <td>0</td>\n",
       "    </tr>\n",
       "    <tr>\n",
       "      <th>75</th>\n",
       "      <td>2021-04-28</td>\n",
       "      <td>diner</td>\n",
       "      <td>1</td>\n",
       "    </tr>\n",
       "    <tr>\n",
       "      <th>76</th>\n",
       "      <td>2021-04-05</td>\n",
       "      <td>midi</td>\n",
       "      <td>0</td>\n",
       "    </tr>\n",
       "    <tr>\n",
       "      <th>77</th>\n",
       "      <td>2021-04-05</td>\n",
       "      <td>diner</td>\n",
       "      <td>1</td>\n",
       "    </tr>\n",
       "  </tbody>\n",
       "</table>\n",
       "<p>78 rows × 3 columns</p>\n",
       "</div>"
      ],
      "text/plain": [
       "          date service  Match Happening-CL\n",
       "0   2017-12-09    midi                   0\n",
       "1   2017-12-09   diner                   1\n",
       "2   2017-09-27    midi                   0\n",
       "3   2017-09-27   diner                   1\n",
       "4   2017-10-18    midi                   0\n",
       "..         ...     ...                 ...\n",
       "73  2021-04-13   diner                   1\n",
       "74  2021-04-28    midi                   0\n",
       "75  2021-04-28   diner                   1\n",
       "76  2021-04-05    midi                   0\n",
       "77  2021-04-05   diner                   1\n",
       "\n",
       "[78 rows x 3 columns]"
      ]
     },
     "execution_count": 41,
     "metadata": {},
     "output_type": "execute_result"
    }
   ],
   "source": [
    "all_matches_championsleague"
   ]
  },
  {
   "cell_type": "code",
   "execution_count": null,
   "id": "339e6c30",
   "metadata": {
    "ExecuteTime": {
     "end_time": "2021-08-24T13:20:55.379790Z",
     "start_time": "2021-08-24T13:20:55.379765Z"
    }
   },
   "outputs": [],
   "source": [
    "all_matches_ligue1['date']=all_matches_ligue1['date'].dt.date\n",
    "all_matches_championsleague['date']=all_matches_championsleague['date'].dt.date"
   ]
  },
  {
   "cell_type": "code",
   "execution_count": 42,
   "id": "e2d19b53",
   "metadata": {
    "ExecuteTime": {
     "end_time": "2021-08-24T13:23:22.671648Z",
     "start_time": "2021-08-24T13:23:22.661033Z"
    }
   },
   "outputs": [],
   "source": [
    "all_matches_ligue1.to_csv('PSG-Matches-Ligue1.csv',index=False)\n",
    "all_matches_championsleague.to_csv('PSG-Matches-CL.csv',index=False)"
   ]
  },
  {
   "cell_type": "code",
   "execution_count": null,
   "id": "9764feed",
   "metadata": {
    "ExecuteTime": {
     "end_time": "2021-08-24T13:20:55.392573Z",
     "start_time": "2021-08-24T13:20:55.392549Z"
    }
   },
   "outputs": [],
   "source": [
    "all_matches_ligue1.to_csv('PSG-Matches-Ligue1.csv',index=False)\n",
    "all_matches_championsleague.to_csv('PSG-Matches-CL.csv',index=False)"
   ]
  },
  {
   "cell_type": "code",
   "execution_count": null,
   "id": "84f43db3",
   "metadata": {
    "ExecuteTime": {
     "end_time": "2021-08-24T13:20:55.396027Z",
     "start_time": "2021-08-24T13:20:55.396005Z"
    }
   },
   "outputs": [],
   "source": [
    "all_matches=all_matches[['Location','Home Team', 'Away Team', 'Service', 'Date']]\n",
    "all_matches['Match Happening']=1"
   ]
  },
  {
   "cell_type": "code",
   "execution_count": null,
   "id": "6959b42c",
   "metadata": {
    "ExecuteTime": {
     "end_time": "2021-08-24T13:20:55.397288Z",
     "start_time": "2021-08-24T13:20:55.397261Z"
    }
   },
   "outputs": [],
   "source": [
    "import copy\n",
    "all_matches_duplicate = copy.deepcopy(all_matches)"
   ]
  },
  {
   "cell_type": "code",
   "execution_count": null,
   "id": "31284454",
   "metadata": {
    "ExecuteTime": {
     "end_time": "2021-08-24T13:20:55.405731Z",
     "start_time": "2021-08-24T13:20:55.405704Z"
    }
   },
   "outputs": [],
   "source": [
    "all_matches"
   ]
  },
  {
   "cell_type": "code",
   "execution_count": null,
   "id": "51b12585",
   "metadata": {},
   "outputs": [],
   "source": []
  },
  {
   "cell_type": "code",
   "execution_count": null,
   "id": "8f230275",
   "metadata": {
    "ExecuteTime": {
     "end_time": "2021-08-24T13:20:55.408927Z",
     "start_time": "2021-08-24T13:20:55.408902Z"
    }
   },
   "outputs": [],
   "source": [
    "all_matches_duplicate['Match Happening']=0"
   ]
  },
  {
   "cell_type": "code",
   "execution_count": null,
   "id": "cb78ac94",
   "metadata": {
    "ExecuteTime": {
     "end_time": "2021-08-24T13:20:55.412399Z",
     "start_time": "2021-08-24T13:20:55.412378Z"
    }
   },
   "outputs": [],
   "source": [
    "newdf1=pd.concat([all_matches,all_matches_duplicate])"
   ]
  },
  {
   "cell_type": "code",
   "execution_count": null,
   "id": "7ef4bb20",
   "metadata": {
    "ExecuteTime": {
     "end_time": "2021-08-24T10:17:30.457828Z",
     "start_time": "2021-08-24T10:17:30.440633Z"
    }
   },
   "outputs": [],
   "source": []
  },
  {
   "cell_type": "code",
   "execution_count": null,
   "id": "0e5fa5a4",
   "metadata": {
    "ExecuteTime": {
     "end_time": "2021-08-24T13:20:55.415517Z",
     "start_time": "2021-08-24T13:20:55.415485Z"
    }
   },
   "outputs": [],
   "source": [
    "newdf1['Match Happening'].value_counts()"
   ]
  },
  {
   "cell_type": "code",
   "execution_count": null,
   "id": "a1c637d2",
   "metadata": {
    "ExecuteTime": {
     "end_time": "2021-08-24T13:20:55.428690Z",
     "start_time": "2021-08-24T13:20:55.428660Z"
    }
   },
   "outputs": [],
   "source": [
    "newdf1=newdf1.reset_index()\n",
    "newdf1 = newdf1.set_index('Date')"
   ]
  },
  {
   "cell_type": "code",
   "execution_count": null,
   "id": "89eba453",
   "metadata": {
    "ExecuteTime": {
     "end_time": "2021-08-24T13:20:55.438370Z",
     "start_time": "2021-08-24T13:20:55.438345Z"
    }
   },
   "outputs": [],
   "source": [
    "newdf1=newdf1.sort_index()\n",
    "newdf1 = newdf1.reset_index()"
   ]
  },
  {
   "cell_type": "code",
   "execution_count": null,
   "id": "7d8c9cb6",
   "metadata": {
    "ExecuteTime": {
     "end_time": "2021-08-24T13:20:55.442313Z",
     "start_time": "2021-08-24T13:20:55.442282Z"
    }
   },
   "outputs": [],
   "source": [
    "newdf1=newdf1.rename(columns={'Date':'date'}).drop(columns='index')"
   ]
  },
  {
   "cell_type": "code",
   "execution_count": null,
   "id": "98c61115",
   "metadata": {
    "ExecuteTime": {
     "end_time": "2021-08-24T13:20:55.450700Z",
     "start_time": "2021-08-24T13:20:55.450671Z"
    }
   },
   "outputs": [],
   "source": [
    "newdf1.head(15)"
   ]
  },
  {
   "cell_type": "code",
   "execution_count": null,
   "id": "a3973254",
   "metadata": {
    "ExecuteTime": {
     "end_time": "2021-08-24T13:20:55.457760Z",
     "start_time": "2021-08-24T13:20:55.457733Z"
    }
   },
   "outputs": [],
   "source": [
    "newdf1.sort_values('date')"
   ]
  },
  {
   "cell_type": "code",
   "execution_count": null,
   "id": "b7d38472",
   "metadata": {
    "ExecuteTime": {
     "end_time": "2021-08-24T13:20:55.459328Z",
     "start_time": "2021-08-24T13:20:55.459306Z"
    }
   },
   "outputs": [],
   "source": [
    "newdf1.to_csv('PSG-Matches.csv')"
   ]
  },
  {
   "cell_type": "code",
   "execution_count": null,
   "id": "701bb1ae",
   "metadata": {
    "ExecuteTime": {
     "end_time": "2021-08-24T13:20:55.472440Z",
     "start_time": "2021-08-24T13:20:55.472361Z"
    }
   },
   "outputs": [],
   "source": [
    "import numpy as np\n",
    "newdf = pd.DataFrame(np.repeat(all_matches.values,2,axis=0))\n",
    "newdf.columns = all_matches.columns"
   ]
  },
  {
   "cell_type": "code",
   "execution_count": null,
   "id": "339f225a",
   "metadata": {
    "ExecuteTime": {
     "end_time": "2021-08-24T13:20:55.475026Z",
     "start_time": "2021-08-24T13:20:55.474999Z"
    }
   },
   "outputs": [],
   "source": [
    "newdf"
   ]
  },
  {
   "cell_type": "code",
   "execution_count": null,
   "id": "81ae2426",
   "metadata": {},
   "outputs": [],
   "source": []
  }
 ],
 "metadata": {
  "kernelspec": {
   "display_name": "Python 3 (ipykernel)",
   "language": "python",
   "name": "python3"
  },
  "language_info": {
   "codemirror_mode": {
    "name": "ipython",
    "version": 3
   },
   "file_extension": ".py",
   "mimetype": "text/x-python",
   "name": "python",
   "nbconvert_exporter": "python",
   "pygments_lexer": "ipython3",
   "version": "3.8.6"
  },
  "toc": {
   "base_numbering": 1,
   "nav_menu": {},
   "number_sections": true,
   "sideBar": true,
   "skip_h1_title": false,
   "title_cell": "Table of Contents",
   "title_sidebar": "Contents",
   "toc_cell": false,
   "toc_position": {},
   "toc_section_display": true,
   "toc_window_display": false
  }
 },
 "nbformat": 4,
 "nbformat_minor": 5
}
