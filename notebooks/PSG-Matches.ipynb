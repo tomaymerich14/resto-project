{
 "cells": [
  {
   "cell_type": "code",
   "execution_count": 103,
   "id": "211b7176",
   "metadata": {
    "ExecuteTime": {
     "end_time": "2021-08-23T18:01:10.742904Z",
     "start_time": "2021-08-23T18:01:10.737901Z"
    }
   },
   "outputs": [],
   "source": [
    "import pandas as pd"
   ]
  },
  {
   "cell_type": "code",
   "execution_count": 526,
   "id": "98631bf8",
   "metadata": {
    "ExecuteTime": {
     "end_time": "2021-08-24T13:11:27.254294Z",
     "start_time": "2021-08-24T13:11:27.226068Z"
    }
   },
   "outputs": [],
   "source": [
    "championsl_2017=pd.read_csv('/Users/monmac/code/tomaymerich14/resto-project/raw_data/Fixtures/champions-league-2017-paris-saint-germain-CentralEuropeanStandardTime.csv')\n",
    "championsl_2018=pd.read_csv('/Users/monmac/code/tomaymerich14/resto-project/raw_data/Fixtures/champions-league-2018-paris-WEuropeStandardTime.csv')\n",
    "championsl_2019=pd.read_csv('/Users/monmac/code/tomaymerich14/resto-project/raw_data/Fixtures/champions-league-2019-paris-WEuropeStandardTime.csv')\n",
    "championsl_2020=pd.read_csv('/Users/monmac/code/tomaymerich14/resto-project/raw_data/Fixtures/champions-league-2020-paris-UTC.csv')\n",
    "ligue1_2018 = pd.read_csv('/Users/monmac/code/tomaymerich14/resto-project/raw_data/Fixtures/ligue-1-2018-paris-saint-germain-RomanceStandardTime.csv')\n",
    "ligue1_2019 = pd.read_csv('/Users/monmac/code/tomaymerich14/resto-project/raw_data/Fixtures/ligue-1-2019-paris-saint-germain-RomanceStandardTime.csv')\n",
    "ligue1_2020 = pd.read_csv('/Users/monmac/code/tomaymerich14/resto-project/raw_data/Fixtures/ligue-1-2020-paris-saint-germain-RomanceStandardTime.csv')\n",
    "ligue1_2021 = pd.read_csv('/Users/monmac/code/tomaymerich14/resto-project/raw_data/Fixtures/ligue-1-2021-paris-saint-germain-RomanceStandardTime.csv')"
   ]
  },
  {
   "cell_type": "code",
   "execution_count": 527,
   "id": "c3e9f87e",
   "metadata": {
    "ExecuteTime": {
     "end_time": "2021-08-24T13:11:27.901989Z",
     "start_time": "2021-08-24T13:11:27.888040Z"
    }
   },
   "outputs": [
    {
     "data": {
      "text/html": [
       "<div>\n",
       "<style scoped>\n",
       "    .dataframe tbody tr th:only-of-type {\n",
       "        vertical-align: middle;\n",
       "    }\n",
       "\n",
       "    .dataframe tbody tr th {\n",
       "        vertical-align: top;\n",
       "    }\n",
       "\n",
       "    .dataframe thead th {\n",
       "        text-align: right;\n",
       "    }\n",
       "</style>\n",
       "<table border=\"1\" class=\"dataframe\">\n",
       "  <thead>\n",
       "    <tr style=\"text-align: right;\">\n",
       "      <th></th>\n",
       "      <th>Match Number</th>\n",
       "      <th>Round Number</th>\n",
       "      <th>Date</th>\n",
       "      <th>Location</th>\n",
       "      <th>Home Team</th>\n",
       "      <th>Away Team</th>\n",
       "      <th>Group</th>\n",
       "      <th>Result</th>\n",
       "    </tr>\n",
       "  </thead>\n",
       "  <tbody>\n",
       "    <tr>\n",
       "      <th>0</th>\n",
       "      <td>14</td>\n",
       "      <td>1</td>\n",
       "      <td>12/09/2017 20:45</td>\n",
       "      <td>Celtic Park, Glasgow</td>\n",
       "      <td>Celtic</td>\n",
       "      <td>Paris Saint-Germain</td>\n",
       "      <td>Group B</td>\n",
       "      <td>0 - 5</td>\n",
       "    </tr>\n",
       "    <tr>\n",
       "      <th>1</th>\n",
       "      <td>15</td>\n",
       "      <td>2</td>\n",
       "      <td>27/09/2017 20:45</td>\n",
       "      <td>Parc des Princes, Paris</td>\n",
       "      <td>Paris Saint-Germain</td>\n",
       "      <td>Bayern Munich</td>\n",
       "      <td>Group B</td>\n",
       "      <td>3 - 0</td>\n",
       "    </tr>\n",
       "    <tr>\n",
       "      <th>2</th>\n",
       "      <td>17</td>\n",
       "      <td>3</td>\n",
       "      <td>18/10/2017 20:45</td>\n",
       "      <td>Constant Vanden Stock Stadium, Anderlecht</td>\n",
       "      <td>Anderlecht</td>\n",
       "      <td>Paris Saint-Germain</td>\n",
       "      <td>Group B</td>\n",
       "      <td>0 - 4</td>\n",
       "    </tr>\n",
       "    <tr>\n",
       "      <th>3</th>\n",
       "      <td>19</td>\n",
       "      <td>4</td>\n",
       "      <td>31/10/2017 20:45</td>\n",
       "      <td>Parc des Princes, Paris</td>\n",
       "      <td>Paris Saint-Germain</td>\n",
       "      <td>Anderlecht</td>\n",
       "      <td>Group B</td>\n",
       "      <td>5 - 0</td>\n",
       "    </tr>\n",
       "    <tr>\n",
       "      <th>4</th>\n",
       "      <td>22</td>\n",
       "      <td>5</td>\n",
       "      <td>22/11/2017 20:45</td>\n",
       "      <td>Parc des Princes, Paris</td>\n",
       "      <td>Paris Saint-Germain</td>\n",
       "      <td>Celtic</td>\n",
       "      <td>Group B</td>\n",
       "      <td>7 - 1</td>\n",
       "    </tr>\n",
       "    <tr>\n",
       "      <th>5</th>\n",
       "      <td>23</td>\n",
       "      <td>6</td>\n",
       "      <td>05/12/2017 20:45</td>\n",
       "      <td>Allianz Arena, Munich</td>\n",
       "      <td>Bayern Munich</td>\n",
       "      <td>Paris Saint-Germain</td>\n",
       "      <td>Group B</td>\n",
       "      <td>3 - 1</td>\n",
       "    </tr>\n",
       "    <tr>\n",
       "      <th>6</th>\n",
       "      <td>100</td>\n",
       "      <td>Round of 16 - Game 1</td>\n",
       "      <td>14/02/2018 20:45</td>\n",
       "      <td>Santiago Bernabéu, Madrid</td>\n",
       "      <td>Real Madrid</td>\n",
       "      <td>Paris Saint-Germain</td>\n",
       "      <td>NaN</td>\n",
       "      <td>3 - 1</td>\n",
       "    </tr>\n",
       "    <tr>\n",
       "      <th>7</th>\n",
       "      <td>106</td>\n",
       "      <td>Round of 16 - Game 2</td>\n",
       "      <td>06/03/2018 20:45</td>\n",
       "      <td>Parc des Princes, Paris</td>\n",
       "      <td>Paris Saint-Germain</td>\n",
       "      <td>Real Madrid</td>\n",
       "      <td>NaN</td>\n",
       "      <td>1 - 2</td>\n",
       "    </tr>\n",
       "  </tbody>\n",
       "</table>\n",
       "</div>"
      ],
      "text/plain": [
       "   Match Number          Round Number              Date  \\\n",
       "0            14                     1  12/09/2017 20:45   \n",
       "1            15                     2  27/09/2017 20:45   \n",
       "2            17                     3  18/10/2017 20:45   \n",
       "3            19                     4  31/10/2017 20:45   \n",
       "4            22                     5  22/11/2017 20:45   \n",
       "5            23                     6  05/12/2017 20:45   \n",
       "6           100  Round of 16 - Game 1  14/02/2018 20:45   \n",
       "7           106  Round of 16 - Game 2  06/03/2018 20:45   \n",
       "\n",
       "                                    Location            Home Team  \\\n",
       "0                       Celtic Park, Glasgow               Celtic   \n",
       "1                    Parc des Princes, Paris  Paris Saint-Germain   \n",
       "2  Constant Vanden Stock Stadium, Anderlecht           Anderlecht   \n",
       "3                    Parc des Princes, Paris  Paris Saint-Germain   \n",
       "4                    Parc des Princes, Paris  Paris Saint-Germain   \n",
       "5                      Allianz Arena, Munich        Bayern Munich   \n",
       "6                  Santiago Bernabéu, Madrid          Real Madrid   \n",
       "7                    Parc des Princes, Paris  Paris Saint-Germain   \n",
       "\n",
       "             Away Team    Group Result  \n",
       "0  Paris Saint-Germain  Group B  0 - 5  \n",
       "1        Bayern Munich  Group B  3 - 0  \n",
       "2  Paris Saint-Germain  Group B  0 - 4  \n",
       "3           Anderlecht  Group B  5 - 0  \n",
       "4               Celtic  Group B  7 - 1  \n",
       "5  Paris Saint-Germain  Group B  3 - 1  \n",
       "6  Paris Saint-Germain      NaN  3 - 1  \n",
       "7          Real Madrid      NaN  1 - 2  "
      ]
     },
     "execution_count": 527,
     "metadata": {},
     "output_type": "execute_result"
    }
   ],
   "source": [
    "championsl_2017"
   ]
  },
  {
   "cell_type": "code",
   "execution_count": 453,
   "id": "905610ef",
   "metadata": {
    "ExecuteTime": {
     "end_time": "2021-08-24T12:25:08.531269Z",
     "start_time": "2021-08-24T12:25:08.522057Z"
    }
   },
   "outputs": [],
   "source": [
    "all_series = [championsl_2017,championsl_2018,championsl_2019,championsl_2020, ligue1_2018,ligue1_2019,ligue1_2020,ligue1_2021]"
   ]
  },
  {
   "cell_type": "code",
   "execution_count": 370,
   "id": "88fa216e",
   "metadata": {
    "ExecuteTime": {
     "end_time": "2021-08-24T10:13:37.604244Z",
     "start_time": "2021-08-24T10:13:37.598170Z"
    }
   },
   "outputs": [],
   "source": [
    "#def to_datetime_date(df):\n",
    "    #df['Date'] = pd.to_datetime(df['Date']).dt.date\n",
    "    #return df"
   ]
  },
  {
   "cell_type": "code",
   "execution_count": 371,
   "id": "063070ca",
   "metadata": {
    "ExecuteTime": {
     "end_time": "2021-08-24T10:13:38.182479Z",
     "start_time": "2021-08-24T10:13:38.177645Z"
    }
   },
   "outputs": [],
   "source": [
    "#all_dfs = [to_datetime_date(df) for df in all_series]"
   ]
  },
  {
   "cell_type": "code",
   "execution_count": 528,
   "id": "1c0a3c78",
   "metadata": {
    "ExecuteTime": {
     "end_time": "2021-08-24T13:11:30.121984Z",
     "start_time": "2021-08-24T13:11:30.083726Z"
    }
   },
   "outputs": [],
   "source": [
    "#transform column to datetime to make them easier to manipulate\n",
    "championsl_2017['Date']=pd.to_datetime(championsl_2017['Date'])\n",
    "championsl_2018['Date']=pd.to_datetime(championsl_2018['Date'])\n",
    "championsl_2019['Date']=pd.to_datetime(championsl_2019['Date'])\n",
    "championsl_2020['Date']=pd.to_datetime(championsl_2020['Date'])\n",
    "ligue1_2018['Date']=pd.to_datetime(ligue1_2018['Date'])\n",
    "ligue1_2019['Date']=pd.to_datetime(ligue1_2019['Date'])\n",
    "ligue1_2020['Date']=pd.to_datetime(ligue1_2020['Date'])\n",
    "ligue1_2021['Date']=pd.to_datetime(ligue1_2021['Date'])"
   ]
  },
  {
   "cell_type": "code",
   "execution_count": 529,
   "id": "bad5da65",
   "metadata": {
    "ExecuteTime": {
     "end_time": "2021-08-24T13:11:31.879228Z",
     "start_time": "2021-08-24T13:11:31.870738Z"
    }
   },
   "outputs": [],
   "source": [
    "championsl_2017['Service']= 'Dinner'\n",
    "championsl_2018['Service']='Dinner'\n",
    "championsl_2019['Service']='Dinner'\n",
    "championsl_2020['Service']='Dinner'\n",
    "ligue1_2018['Service']='Dinner'\n",
    "ligue1_2019['Service']='Dinner'\n",
    "ligue1_2020['Service']='Dinner'\n",
    "ligue1_2021['Service']='Dinner'"
   ]
  },
  {
   "cell_type": "code",
   "execution_count": 484,
   "id": "2dbb6985",
   "metadata": {
    "ExecuteTime": {
     "end_time": "2021-08-24T12:34:05.734283Z",
     "start_time": "2021-08-24T12:34:05.715769Z"
    }
   },
   "outputs": [],
   "source": [
    "championsl_2017['Date']=pd.to_datetime(championsl_2017['Date']).dt.date\n",
    "championsl_2018['Date']=pd.to_datetime(championsl_2018['Date']).dt.date\n",
    "championsl_2019['Date']=pd.to_datetime(championsl_2019['Date']).dt.date\n",
    "championsl_2020['Date']=pd.to_datetime(championsl_2020['Date']).dt.date\n",
    "ligue1_2018['Date']=pd.to_datetime(ligue1_2018['Date']).dt.date\n",
    "ligue1_2019['Date']=pd.to_datetime(ligue1_2019['Date']).dt.date\n",
    "ligue1_2020['Date']=pd.to_datetime(ligue1_2020['Date']).dt.date\n",
    "ligue1_2021['Date']=pd.to_datetime(ligue1_2021['Date']).dt.date"
   ]
  },
  {
   "cell_type": "code",
   "execution_count": 281,
   "id": "64d8fa20",
   "metadata": {
    "ExecuteTime": {
     "end_time": "2021-08-24T08:36:25.188254Z",
     "start_time": "2021-08-24T08:36:25.183598Z"
    }
   },
   "outputs": [],
   "source": [
    "#def set_index1(df):\n",
    "    #df=df.set_index('Date')\n",
    "    #return df"
   ]
  },
  {
   "cell_type": "code",
   "execution_count": 282,
   "id": "1d71d0af",
   "metadata": {
    "ExecuteTime": {
     "end_time": "2021-08-24T08:36:25.336285Z",
     "start_time": "2021-08-24T08:36:25.331513Z"
    }
   },
   "outputs": [],
   "source": [
    "#all_dfs = [set_index1(df) for df in all_dfs]"
   ]
  },
  {
   "cell_type": "code",
   "execution_count": 283,
   "id": "83da6d01",
   "metadata": {
    "ExecuteTime": {
     "end_time": "2021-08-24T08:36:25.487020Z",
     "start_time": "2021-08-24T08:36:25.470889Z"
    }
   },
   "outputs": [],
   "source": [
    "#set date as index\n",
    "championsl_2017=championsl_2017.set_index('Date')\n",
    "championsl_2018=championsl_2018.set_index('Date')\n",
    "championsl_2019=championsl_2019.set_index('Date')\n",
    "championsl_2020=championsl_2020.set_index('Date')\n",
    "ligue1_2018=ligue1_2018.set_index('Date')\n",
    "ligue1_2019=ligue1_2019.set_index('Date')\n",
    "ligue1_2020=ligue1_2020.set_index('Date')\n",
    "ligue1_2021=ligue1_2021.set_index('Date')"
   ]
  },
  {
   "cell_type": "code",
   "execution_count": 284,
   "id": "bb5ccc1d",
   "metadata": {
    "ExecuteTime": {
     "end_time": "2021-08-24T08:36:25.622132Z",
     "start_time": "2021-08-24T08:36:25.617141Z"
    }
   },
   "outputs": [],
   "source": [
    "#only keep home matches\n",
    "#championsl_2017=championsl_2017[championsl_2017['Location']=='Parc des Princes, Paris']\n",
    "#championsl_2018=championsl_2018[championsl_2018['Location']=='Parc des Princes, Paris']\n",
    "#championsl_2019=championsl_2019[championsl_2019['Location']=='Parc des Princes, Paris']\n",
    "#championsl_2020=championsl_2020[championsl_2020['Location']=='Parc des Princes, Paris']\n",
    "#ligue1_2018=ligue1_2018[ligue1_2018['Location']=='Parc des Princes']\n",
    "#ligue1_2019=ligue1_2019[ligue1_2019['Location']=='Parc des Princes']\n",
    "#ligue1_2020=ligue1_2020[ligue1_2020['Location']=='Parc des Princes']\n",
    "#ligue1_2021=ligue1_2021[ligue1_2021['Location']=='Parc des Princes']"
   ]
  },
  {
   "cell_type": "code",
   "execution_count": 530,
   "id": "9bb42f16",
   "metadata": {
    "ExecuteTime": {
     "end_time": "2021-08-24T13:11:39.333494Z",
     "start_time": "2021-08-24T13:11:39.321497Z"
    }
   },
   "outputs": [],
   "source": [
    "all_matches_ligue1 = pd.concat([ ligue1_2018,ligue1_2019,ligue1_2020,ligue1_2021], join='outer')\n",
    "all_matches_championsleague = pd.concat([championsl_2017, championsl_2018, championsl_2019, championsl_2020], join='outer')"
   ]
  },
  {
   "cell_type": "code",
   "execution_count": 486,
   "id": "18489593",
   "metadata": {
    "ExecuteTime": {
     "end_time": "2021-08-24T12:34:08.759661Z",
     "start_time": "2021-08-24T12:34:08.743101Z"
    },
    "scrolled": true
   },
   "outputs": [
    {
     "data": {
      "text/html": [
       "<div>\n",
       "<style scoped>\n",
       "    .dataframe tbody tr th:only-of-type {\n",
       "        vertical-align: middle;\n",
       "    }\n",
       "\n",
       "    .dataframe tbody tr th {\n",
       "        vertical-align: top;\n",
       "    }\n",
       "\n",
       "    .dataframe thead th {\n",
       "        text-align: right;\n",
       "    }\n",
       "</style>\n",
       "<table border=\"1\" class=\"dataframe\">\n",
       "  <thead>\n",
       "    <tr style=\"text-align: right;\">\n",
       "      <th></th>\n",
       "      <th>Match Number</th>\n",
       "      <th>Round Number</th>\n",
       "      <th>Date</th>\n",
       "      <th>Location</th>\n",
       "      <th>Home Team</th>\n",
       "      <th>Away Team</th>\n",
       "      <th>Result</th>\n",
       "      <th>Service</th>\n",
       "    </tr>\n",
       "  </thead>\n",
       "  <tbody>\n",
       "    <tr>\n",
       "      <th>0</th>\n",
       "      <td>10</td>\n",
       "      <td>2</td>\n",
       "      <td>2018-12-08</td>\n",
       "      <td>Parc des Princes</td>\n",
       "      <td>Paris Saint-Germain</td>\n",
       "      <td>SM Caen</td>\n",
       "      <td>3 - 0</td>\n",
       "      <td>Dinner</td>\n",
       "    </tr>\n",
       "    <tr>\n",
       "      <th>1</th>\n",
       "      <td>12</td>\n",
       "      <td>3</td>\n",
       "      <td>2018-08-18</td>\n",
       "      <td>Stade de Roudourou</td>\n",
       "      <td>EA Guingamp</td>\n",
       "      <td>Paris Saint-Germain</td>\n",
       "      <td>1 - 3</td>\n",
       "      <td>Dinner</td>\n",
       "    </tr>\n",
       "    <tr>\n",
       "      <th>2</th>\n",
       "      <td>22</td>\n",
       "      <td>4</td>\n",
       "      <td>2018-08-25</td>\n",
       "      <td>Parc des Princes</td>\n",
       "      <td>Paris Saint-Germain</td>\n",
       "      <td>Angers SCO</td>\n",
       "      <td>3 - 1</td>\n",
       "      <td>Dinner</td>\n",
       "    </tr>\n",
       "    <tr>\n",
       "      <th>3</th>\n",
       "      <td>32</td>\n",
       "      <td>5</td>\n",
       "      <td>2018-01-09</td>\n",
       "      <td>Stade des Costières</td>\n",
       "      <td>Nîmes Olympique</td>\n",
       "      <td>Paris Saint-Germain</td>\n",
       "      <td>2 - 4</td>\n",
       "      <td>Dinner</td>\n",
       "    </tr>\n",
       "    <tr>\n",
       "      <th>4</th>\n",
       "      <td>49</td>\n",
       "      <td>6</td>\n",
       "      <td>2018-09-14</td>\n",
       "      <td>Parc des Princes</td>\n",
       "      <td>Paris Saint-Germain</td>\n",
       "      <td>AS Saint-Etienne</td>\n",
       "      <td>4 - 0</td>\n",
       "      <td>Dinner</td>\n",
       "    </tr>\n",
       "    <tr>\n",
       "      <th>...</th>\n",
       "      <td>...</td>\n",
       "      <td>...</td>\n",
       "      <td>...</td>\n",
       "      <td>...</td>\n",
       "      <td>...</td>\n",
       "      <td>...</td>\n",
       "      <td>...</td>\n",
       "      <td>...</td>\n",
       "    </tr>\n",
       "    <tr>\n",
       "      <th>33</th>\n",
       "      <td>337</td>\n",
       "      <td>34</td>\n",
       "      <td>2022-04-24</td>\n",
       "      <td>Parc des Princes</td>\n",
       "      <td>Paris Saint-Germain</td>\n",
       "      <td>RC Lens</td>\n",
       "      <td>NaN</td>\n",
       "      <td>Dinner</td>\n",
       "    </tr>\n",
       "    <tr>\n",
       "      <th>34</th>\n",
       "      <td>349</td>\n",
       "      <td>35</td>\n",
       "      <td>2022-01-05</td>\n",
       "      <td>Stade de la Meinau</td>\n",
       "      <td>RC Strasbourg Alsace</td>\n",
       "      <td>Paris Saint-Germain</td>\n",
       "      <td>NaN</td>\n",
       "      <td>Dinner</td>\n",
       "    </tr>\n",
       "    <tr>\n",
       "      <th>35</th>\n",
       "      <td>359</td>\n",
       "      <td>36</td>\n",
       "      <td>2022-08-05</td>\n",
       "      <td>Parc des Princes</td>\n",
       "      <td>Paris Saint-Germain</td>\n",
       "      <td>ESTAC Troyes</td>\n",
       "      <td>NaN</td>\n",
       "      <td>Dinner</td>\n",
       "    </tr>\n",
       "    <tr>\n",
       "      <th>36</th>\n",
       "      <td>365</td>\n",
       "      <td>37</td>\n",
       "      <td>2022-05-14</td>\n",
       "      <td>Stade de la Mosson</td>\n",
       "      <td>Montpellier Hérault SC</td>\n",
       "      <td>Paris Saint-Germain</td>\n",
       "      <td>NaN</td>\n",
       "      <td>Dinner</td>\n",
       "    </tr>\n",
       "    <tr>\n",
       "      <th>37</th>\n",
       "      <td>379</td>\n",
       "      <td>38</td>\n",
       "      <td>2022-05-21</td>\n",
       "      <td>Parc des Princes</td>\n",
       "      <td>Paris Saint-Germain</td>\n",
       "      <td>FC Metz</td>\n",
       "      <td>NaN</td>\n",
       "      <td>Dinner</td>\n",
       "    </tr>\n",
       "  </tbody>\n",
       "</table>\n",
       "<p>141 rows × 8 columns</p>\n",
       "</div>"
      ],
      "text/plain": [
       "    Match Number  Round Number        Date             Location  \\\n",
       "0             10             2  2018-12-08     Parc des Princes   \n",
       "1             12             3  2018-08-18   Stade de Roudourou   \n",
       "2             22             4  2018-08-25     Parc des Princes   \n",
       "3             32             5  2018-01-09  Stade des Costières   \n",
       "4             49             6  2018-09-14     Parc des Princes   \n",
       "..           ...           ...         ...                  ...   \n",
       "33           337            34  2022-04-24     Parc des Princes   \n",
       "34           349            35  2022-01-05   Stade de la Meinau   \n",
       "35           359            36  2022-08-05     Parc des Princes   \n",
       "36           365            37  2022-05-14   Stade de la Mosson   \n",
       "37           379            38  2022-05-21     Parc des Princes   \n",
       "\n",
       "                 Home Team            Away Team Result Service  \n",
       "0      Paris Saint-Germain              SM Caen  3 - 0  Dinner  \n",
       "1              EA Guingamp  Paris Saint-Germain  1 - 3  Dinner  \n",
       "2      Paris Saint-Germain           Angers SCO  3 - 1  Dinner  \n",
       "3          Nîmes Olympique  Paris Saint-Germain  2 - 4  Dinner  \n",
       "4      Paris Saint-Germain     AS Saint-Etienne  4 - 0  Dinner  \n",
       "..                     ...                  ...    ...     ...  \n",
       "33     Paris Saint-Germain              RC Lens    NaN  Dinner  \n",
       "34    RC Strasbourg Alsace  Paris Saint-Germain    NaN  Dinner  \n",
       "35     Paris Saint-Germain         ESTAC Troyes    NaN  Dinner  \n",
       "36  Montpellier Hérault SC  Paris Saint-Germain    NaN  Dinner  \n",
       "37     Paris Saint-Germain              FC Metz    NaN  Dinner  \n",
       "\n",
       "[141 rows x 8 columns]"
      ]
     },
     "execution_count": 486,
     "metadata": {},
     "output_type": "execute_result"
    }
   ],
   "source": [
    "all_matches_ligue1"
   ]
  },
  {
   "cell_type": "code",
   "execution_count": 531,
   "id": "c896489a",
   "metadata": {
    "ExecuteTime": {
     "end_time": "2021-08-24T13:11:42.122735Z",
     "start_time": "2021-08-24T13:11:42.111696Z"
    }
   },
   "outputs": [],
   "source": [
    "all_matches_ligue1=pd.DataFrame(np.repeat(all_matches_ligue1.values,2,axis=0), columns=['Match Number','Round Number','Date','Location','Home Team','Away Team','Group''Result','Service'])\n",
    "all_matches_championsleague=pd.DataFrame(np.repeat(all_matches_championsleague.values,2,axis=0), columns=['Match Number','Round Number','Date','Location','Home Team','Away Team','Group','Result','Service'])\n"
   ]
  },
  {
   "cell_type": "code",
   "execution_count": 488,
   "id": "93af49ec",
   "metadata": {
    "ExecuteTime": {
     "end_time": "2021-08-24T12:34:09.096318Z",
     "start_time": "2021-08-24T12:34:09.076990Z"
    },
    "scrolled": true
   },
   "outputs": [
    {
     "data": {
      "text/html": [
       "<div>\n",
       "<style scoped>\n",
       "    .dataframe tbody tr th:only-of-type {\n",
       "        vertical-align: middle;\n",
       "    }\n",
       "\n",
       "    .dataframe tbody tr th {\n",
       "        vertical-align: top;\n",
       "    }\n",
       "\n",
       "    .dataframe thead th {\n",
       "        text-align: right;\n",
       "    }\n",
       "</style>\n",
       "<table border=\"1\" class=\"dataframe\">\n",
       "  <thead>\n",
       "    <tr style=\"text-align: right;\">\n",
       "      <th></th>\n",
       "      <th>Match Number</th>\n",
       "      <th>Round Number</th>\n",
       "      <th>Date</th>\n",
       "      <th>Location</th>\n",
       "      <th>Home Team</th>\n",
       "      <th>Away Team</th>\n",
       "      <th>GroupResult</th>\n",
       "      <th>Service</th>\n",
       "    </tr>\n",
       "  </thead>\n",
       "  <tbody>\n",
       "    <tr>\n",
       "      <th>0</th>\n",
       "      <td>10</td>\n",
       "      <td>2</td>\n",
       "      <td>2018-12-08</td>\n",
       "      <td>Parc des Princes</td>\n",
       "      <td>Paris Saint-Germain</td>\n",
       "      <td>SM Caen</td>\n",
       "      <td>3 - 0</td>\n",
       "      <td>Dinner</td>\n",
       "    </tr>\n",
       "    <tr>\n",
       "      <th>1</th>\n",
       "      <td>10</td>\n",
       "      <td>2</td>\n",
       "      <td>2018-12-08</td>\n",
       "      <td>Parc des Princes</td>\n",
       "      <td>Paris Saint-Germain</td>\n",
       "      <td>SM Caen</td>\n",
       "      <td>3 - 0</td>\n",
       "      <td>Dinner</td>\n",
       "    </tr>\n",
       "    <tr>\n",
       "      <th>2</th>\n",
       "      <td>12</td>\n",
       "      <td>3</td>\n",
       "      <td>2018-08-18</td>\n",
       "      <td>Stade de Roudourou</td>\n",
       "      <td>EA Guingamp</td>\n",
       "      <td>Paris Saint-Germain</td>\n",
       "      <td>1 - 3</td>\n",
       "      <td>Dinner</td>\n",
       "    </tr>\n",
       "    <tr>\n",
       "      <th>3</th>\n",
       "      <td>12</td>\n",
       "      <td>3</td>\n",
       "      <td>2018-08-18</td>\n",
       "      <td>Stade de Roudourou</td>\n",
       "      <td>EA Guingamp</td>\n",
       "      <td>Paris Saint-Germain</td>\n",
       "      <td>1 - 3</td>\n",
       "      <td>Dinner</td>\n",
       "    </tr>\n",
       "    <tr>\n",
       "      <th>4</th>\n",
       "      <td>22</td>\n",
       "      <td>4</td>\n",
       "      <td>2018-08-25</td>\n",
       "      <td>Parc des Princes</td>\n",
       "      <td>Paris Saint-Germain</td>\n",
       "      <td>Angers SCO</td>\n",
       "      <td>3 - 1</td>\n",
       "      <td>Dinner</td>\n",
       "    </tr>\n",
       "    <tr>\n",
       "      <th>...</th>\n",
       "      <td>...</td>\n",
       "      <td>...</td>\n",
       "      <td>...</td>\n",
       "      <td>...</td>\n",
       "      <td>...</td>\n",
       "      <td>...</td>\n",
       "      <td>...</td>\n",
       "      <td>...</td>\n",
       "    </tr>\n",
       "    <tr>\n",
       "      <th>277</th>\n",
       "      <td>359</td>\n",
       "      <td>36</td>\n",
       "      <td>2022-08-05</td>\n",
       "      <td>Parc des Princes</td>\n",
       "      <td>Paris Saint-Germain</td>\n",
       "      <td>ESTAC Troyes</td>\n",
       "      <td>NaN</td>\n",
       "      <td>Dinner</td>\n",
       "    </tr>\n",
       "    <tr>\n",
       "      <th>278</th>\n",
       "      <td>365</td>\n",
       "      <td>37</td>\n",
       "      <td>2022-05-14</td>\n",
       "      <td>Stade de la Mosson</td>\n",
       "      <td>Montpellier Hérault SC</td>\n",
       "      <td>Paris Saint-Germain</td>\n",
       "      <td>NaN</td>\n",
       "      <td>Dinner</td>\n",
       "    </tr>\n",
       "    <tr>\n",
       "      <th>279</th>\n",
       "      <td>365</td>\n",
       "      <td>37</td>\n",
       "      <td>2022-05-14</td>\n",
       "      <td>Stade de la Mosson</td>\n",
       "      <td>Montpellier Hérault SC</td>\n",
       "      <td>Paris Saint-Germain</td>\n",
       "      <td>NaN</td>\n",
       "      <td>Dinner</td>\n",
       "    </tr>\n",
       "    <tr>\n",
       "      <th>280</th>\n",
       "      <td>379</td>\n",
       "      <td>38</td>\n",
       "      <td>2022-05-21</td>\n",
       "      <td>Parc des Princes</td>\n",
       "      <td>Paris Saint-Germain</td>\n",
       "      <td>FC Metz</td>\n",
       "      <td>NaN</td>\n",
       "      <td>Dinner</td>\n",
       "    </tr>\n",
       "    <tr>\n",
       "      <th>281</th>\n",
       "      <td>379</td>\n",
       "      <td>38</td>\n",
       "      <td>2022-05-21</td>\n",
       "      <td>Parc des Princes</td>\n",
       "      <td>Paris Saint-Germain</td>\n",
       "      <td>FC Metz</td>\n",
       "      <td>NaN</td>\n",
       "      <td>Dinner</td>\n",
       "    </tr>\n",
       "  </tbody>\n",
       "</table>\n",
       "<p>282 rows × 8 columns</p>\n",
       "</div>"
      ],
      "text/plain": [
       "    Match Number Round Number        Date            Location  \\\n",
       "0             10            2  2018-12-08    Parc des Princes   \n",
       "1             10            2  2018-12-08    Parc des Princes   \n",
       "2             12            3  2018-08-18  Stade de Roudourou   \n",
       "3             12            3  2018-08-18  Stade de Roudourou   \n",
       "4             22            4  2018-08-25    Parc des Princes   \n",
       "..           ...          ...         ...                 ...   \n",
       "277          359           36  2022-08-05    Parc des Princes   \n",
       "278          365           37  2022-05-14  Stade de la Mosson   \n",
       "279          365           37  2022-05-14  Stade de la Mosson   \n",
       "280          379           38  2022-05-21    Parc des Princes   \n",
       "281          379           38  2022-05-21    Parc des Princes   \n",
       "\n",
       "                  Home Team            Away Team GroupResult Service  \n",
       "0       Paris Saint-Germain              SM Caen       3 - 0  Dinner  \n",
       "1       Paris Saint-Germain              SM Caen       3 - 0  Dinner  \n",
       "2               EA Guingamp  Paris Saint-Germain       1 - 3  Dinner  \n",
       "3               EA Guingamp  Paris Saint-Germain       1 - 3  Dinner  \n",
       "4       Paris Saint-Germain           Angers SCO       3 - 1  Dinner  \n",
       "..                      ...                  ...         ...     ...  \n",
       "277     Paris Saint-Germain         ESTAC Troyes         NaN  Dinner  \n",
       "278  Montpellier Hérault SC  Paris Saint-Germain         NaN  Dinner  \n",
       "279  Montpellier Hérault SC  Paris Saint-Germain         NaN  Dinner  \n",
       "280     Paris Saint-Germain              FC Metz         NaN  Dinner  \n",
       "281     Paris Saint-Germain              FC Metz         NaN  Dinner  \n",
       "\n",
       "[282 rows x 8 columns]"
      ]
     },
     "execution_count": 488,
     "metadata": {},
     "output_type": "execute_result"
    }
   ],
   "source": [
    "all_matches_ligue1"
   ]
  },
  {
   "cell_type": "code",
   "execution_count": 532,
   "id": "79801381",
   "metadata": {
    "ExecuteTime": {
     "end_time": "2021-08-24T13:11:45.348082Z",
     "start_time": "2021-08-24T13:11:45.343350Z"
    }
   },
   "outputs": [],
   "source": [
    "all_matches_ligue1['Service']='diner'\n",
    "all_matches_championsleague['Service']='diner'"
   ]
  },
  {
   "cell_type": "code",
   "execution_count": 533,
   "id": "b40957e3",
   "metadata": {
    "ExecuteTime": {
     "end_time": "2021-08-24T13:11:45.790678Z",
     "start_time": "2021-08-24T13:11:45.783976Z"
    }
   },
   "outputs": [],
   "source": [
    "all_matches_ligue1=all_matches_ligue1.rename(columns={'Date':'date'})\n",
    "all_matches_championsleague=all_matches_championsleague.rename(columns={'Date':'date'})"
   ]
  },
  {
   "cell_type": "code",
   "execution_count": 534,
   "id": "82aba2bc",
   "metadata": {
    "ExecuteTime": {
     "end_time": "2021-08-24T13:11:47.003471Z",
     "start_time": "2021-08-24T13:11:46.998299Z"
    }
   },
   "outputs": [],
   "source": [
    "all_matches_ligue1=all_matches_ligue1.rename(columns={'Service':'service'})\n",
    "all_matches_championsleague=all_matches_championsleague.rename(columns={'Service':'service'})"
   ]
  },
  {
   "cell_type": "code",
   "execution_count": 535,
   "id": "31059ad7",
   "metadata": {
    "ExecuteTime": {
     "end_time": "2021-08-24T13:11:47.458880Z",
     "start_time": "2021-08-24T13:11:47.454258Z"
    }
   },
   "outputs": [],
   "source": [
    "all_matches_ligue1['Match Happening-L1'] = 1\n",
    "all_matches_championsleague['Match Happening-CL'] = 1"
   ]
  },
  {
   "cell_type": "code",
   "execution_count": 536,
   "id": "ccaf281e",
   "metadata": {
    "ExecuteTime": {
     "end_time": "2021-08-24T13:11:48.258361Z",
     "start_time": "2021-08-24T13:11:48.024384Z"
    }
   },
   "outputs": [
    {
     "name": "stderr",
     "output_type": "stream",
     "text": [
      "/var/folders/p2/6ddwj2812811pbqjm8t6brv80000gn/T/ipykernel_75390/527931116.py:2: SettingWithCopyWarning: \n",
      "A value is trying to be set on a copy of a slice from a DataFrame\n",
      "\n",
      "See the caveats in the documentation: https://pandas.pydata.org/pandas-docs/stable/user_guide/indexing.html#returning-a-view-versus-a-copy\n",
      "  all_matches_ligue1['Match Happening-L1'][i]= 0\n",
      "/Users/monmac/.pyenv/versions/3.8.6/envs/resto-project/lib/python3.8/site-packages/pandas/core/indexing.py:1732: SettingWithCopyWarning: \n",
      "A value is trying to be set on a copy of a slice from a DataFrame\n",
      "\n",
      "See the caveats in the documentation: https://pandas.pydata.org/pandas-docs/stable/user_guide/indexing.html#returning-a-view-versus-a-copy\n",
      "  self._setitem_single_block(indexer, value, name)\n",
      "/var/folders/p2/6ddwj2812811pbqjm8t6brv80000gn/T/ipykernel_75390/527931116.py:5: SettingWithCopyWarning: \n",
      "A value is trying to be set on a copy of a slice from a DataFrame\n",
      "\n",
      "See the caveats in the documentation: https://pandas.pydata.org/pandas-docs/stable/user_guide/indexing.html#returning-a-view-versus-a-copy\n",
      "  all_matches_championsleague['Match Happening-CL'][i]= 0\n"
     ]
    }
   ],
   "source": [
    "for i in np.linspace(0,358,180): \n",
    "    all_matches_ligue1['Match Happening-L1'][i]= 0\n",
    "    \n",
    "for i in np.linspace(0,358,180): \n",
    "    all_matches_championsleague['Match Happening-CL'][i]= 0"
   ]
  },
  {
   "cell_type": "code",
   "execution_count": 537,
   "id": "10f4aaf0",
   "metadata": {
    "ExecuteTime": {
     "end_time": "2021-08-24T13:11:51.468635Z",
     "start_time": "2021-08-24T13:11:51.236088Z"
    }
   },
   "outputs": [
    {
     "name": "stderr",
     "output_type": "stream",
     "text": [
      "/var/folders/p2/6ddwj2812811pbqjm8t6brv80000gn/T/ipykernel_75390/2829415634.py:2: SettingWithCopyWarning: \n",
      "A value is trying to be set on a copy of a slice from a DataFrame\n",
      "\n",
      "See the caveats in the documentation: https://pandas.pydata.org/pandas-docs/stable/user_guide/indexing.html#returning-a-view-versus-a-copy\n",
      "  all_matches_ligue1['service'][i]='midi'\n",
      "/var/folders/p2/6ddwj2812811pbqjm8t6brv80000gn/T/ipykernel_75390/2829415634.py:4: SettingWithCopyWarning: \n",
      "A value is trying to be set on a copy of a slice from a DataFrame\n",
      "\n",
      "See the caveats in the documentation: https://pandas.pydata.org/pandas-docs/stable/user_guide/indexing.html#returning-a-view-versus-a-copy\n",
      "  all_matches_championsleague['service'][i]='midi'\n"
     ]
    }
   ],
   "source": [
    "for i in np.linspace(0,358,180): \n",
    "    all_matches_ligue1['service'][i]='midi'\n",
    "for i in np.linspace(0,358,180): \n",
    "    all_matches_championsleague['service'][i]='midi'"
   ]
  },
  {
   "cell_type": "code",
   "execution_count": 497,
   "id": "a4b36120",
   "metadata": {
    "ExecuteTime": {
     "end_time": "2021-08-24T12:34:18.785996Z",
     "start_time": "2021-08-24T12:34:18.767322Z"
    }
   },
   "outputs": [
    {
     "ename": "AttributeError",
     "evalue": "Can only use .dt accessor with datetimelike values",
     "output_type": "error",
     "traceback": [
      "\u001b[0;31m---------------------------------------------------------------------------\u001b[0m",
      "\u001b[0;31mAttributeError\u001b[0m                            Traceback (most recent call last)",
      "\u001b[0;32m/var/folders/p2/6ddwj2812811pbqjm8t6brv80000gn/T/ipykernel_75390/2418139761.py\u001b[0m in \u001b[0;36m<module>\u001b[0;34m\u001b[0m\n\u001b[0;32m----> 1\u001b[0;31m \u001b[0mall_matches_ligue1\u001b[0m\u001b[0;34m[\u001b[0m\u001b[0;34m'date'\u001b[0m\u001b[0;34m]\u001b[0m\u001b[0;34m=\u001b[0m\u001b[0mall_matches_ligue1\u001b[0m\u001b[0;34m[\u001b[0m\u001b[0;34m'date'\u001b[0m\u001b[0;34m]\u001b[0m\u001b[0;34m.\u001b[0m\u001b[0mdt\u001b[0m\u001b[0;34m.\u001b[0m\u001b[0mdate\u001b[0m\u001b[0;34m\u001b[0m\u001b[0;34m\u001b[0m\u001b[0m\n\u001b[0m\u001b[1;32m      2\u001b[0m \u001b[0mall_matches_championsleague\u001b[0m\u001b[0;34m[\u001b[0m\u001b[0;34m'date'\u001b[0m\u001b[0;34m]\u001b[0m\u001b[0;34m=\u001b[0m\u001b[0mall_matches_championsleague\u001b[0m\u001b[0;34m[\u001b[0m\u001b[0;34m'date'\u001b[0m\u001b[0;34m]\u001b[0m\u001b[0;34m.\u001b[0m\u001b[0mdt\u001b[0m\u001b[0;34m.\u001b[0m\u001b[0mdate\u001b[0m\u001b[0;34m\u001b[0m\u001b[0;34m\u001b[0m\u001b[0m\n",
      "\u001b[0;32m~/.pyenv/versions/3.8.6/envs/resto-project/lib/python3.8/site-packages/pandas/core/generic.py\u001b[0m in \u001b[0;36m__getattr__\u001b[0;34m(self, name)\u001b[0m\n\u001b[1;32m   5485\u001b[0m         ):\n\u001b[1;32m   5486\u001b[0m             \u001b[0;32mreturn\u001b[0m \u001b[0mself\u001b[0m\u001b[0;34m[\u001b[0m\u001b[0mname\u001b[0m\u001b[0;34m]\u001b[0m\u001b[0;34m\u001b[0m\u001b[0;34m\u001b[0m\u001b[0m\n\u001b[0;32m-> 5487\u001b[0;31m         \u001b[0;32mreturn\u001b[0m \u001b[0mobject\u001b[0m\u001b[0;34m.\u001b[0m\u001b[0m__getattribute__\u001b[0m\u001b[0;34m(\u001b[0m\u001b[0mself\u001b[0m\u001b[0;34m,\u001b[0m \u001b[0mname\u001b[0m\u001b[0;34m)\u001b[0m\u001b[0;34m\u001b[0m\u001b[0;34m\u001b[0m\u001b[0m\n\u001b[0m\u001b[1;32m   5488\u001b[0m \u001b[0;34m\u001b[0m\u001b[0m\n\u001b[1;32m   5489\u001b[0m     \u001b[0;32mdef\u001b[0m \u001b[0m__setattr__\u001b[0m\u001b[0;34m(\u001b[0m\u001b[0mself\u001b[0m\u001b[0;34m,\u001b[0m \u001b[0mname\u001b[0m\u001b[0;34m:\u001b[0m \u001b[0mstr\u001b[0m\u001b[0;34m,\u001b[0m \u001b[0mvalue\u001b[0m\u001b[0;34m)\u001b[0m \u001b[0;34m->\u001b[0m \u001b[0;32mNone\u001b[0m\u001b[0;34m:\u001b[0m\u001b[0;34m\u001b[0m\u001b[0;34m\u001b[0m\u001b[0m\n",
      "\u001b[0;32m~/.pyenv/versions/3.8.6/envs/resto-project/lib/python3.8/site-packages/pandas/core/accessor.py\u001b[0m in \u001b[0;36m__get__\u001b[0;34m(self, obj, cls)\u001b[0m\n\u001b[1;32m    179\u001b[0m             \u001b[0;31m# we're accessing the attribute of the class, i.e., Dataset.geo\u001b[0m\u001b[0;34m\u001b[0m\u001b[0;34m\u001b[0m\u001b[0;34m\u001b[0m\u001b[0m\n\u001b[1;32m    180\u001b[0m             \u001b[0;32mreturn\u001b[0m \u001b[0mself\u001b[0m\u001b[0;34m.\u001b[0m\u001b[0m_accessor\u001b[0m\u001b[0;34m\u001b[0m\u001b[0;34m\u001b[0m\u001b[0m\n\u001b[0;32m--> 181\u001b[0;31m         \u001b[0maccessor_obj\u001b[0m \u001b[0;34m=\u001b[0m \u001b[0mself\u001b[0m\u001b[0;34m.\u001b[0m\u001b[0m_accessor\u001b[0m\u001b[0;34m(\u001b[0m\u001b[0mobj\u001b[0m\u001b[0;34m)\u001b[0m\u001b[0;34m\u001b[0m\u001b[0;34m\u001b[0m\u001b[0m\n\u001b[0m\u001b[1;32m    182\u001b[0m         \u001b[0;31m# Replace the property with the accessor object. Inspired by:\u001b[0m\u001b[0;34m\u001b[0m\u001b[0;34m\u001b[0m\u001b[0;34m\u001b[0m\u001b[0m\n\u001b[1;32m    183\u001b[0m         \u001b[0;31m# https://www.pydanny.com/cached-property.html\u001b[0m\u001b[0;34m\u001b[0m\u001b[0;34m\u001b[0m\u001b[0;34m\u001b[0m\u001b[0m\n",
      "\u001b[0;32m~/.pyenv/versions/3.8.6/envs/resto-project/lib/python3.8/site-packages/pandas/core/indexes/accessors.py\u001b[0m in \u001b[0;36m__new__\u001b[0;34m(cls, data)\u001b[0m\n\u001b[1;32m    504\u001b[0m             \u001b[0;32mreturn\u001b[0m \u001b[0mPeriodProperties\u001b[0m\u001b[0;34m(\u001b[0m\u001b[0mdata\u001b[0m\u001b[0;34m,\u001b[0m \u001b[0morig\u001b[0m\u001b[0;34m)\u001b[0m\u001b[0;34m\u001b[0m\u001b[0;34m\u001b[0m\u001b[0m\n\u001b[1;32m    505\u001b[0m \u001b[0;34m\u001b[0m\u001b[0m\n\u001b[0;32m--> 506\u001b[0;31m         \u001b[0;32mraise\u001b[0m \u001b[0mAttributeError\u001b[0m\u001b[0;34m(\u001b[0m\u001b[0;34m\"Can only use .dt accessor with datetimelike values\"\u001b[0m\u001b[0;34m)\u001b[0m\u001b[0;34m\u001b[0m\u001b[0;34m\u001b[0m\u001b[0m\n\u001b[0m",
      "\u001b[0;31mAttributeError\u001b[0m: Can only use .dt accessor with datetimelike values"
     ]
    }
   ],
   "source": [
    "all_matches_ligue1['date']=all_matches_ligue1['date'].dt.date\n",
    "all_matches_championsleague['date']=all_matches_championsleague['date'].dt.date"
   ]
  },
  {
   "cell_type": "code",
   "execution_count": 538,
   "id": "70e2faf1",
   "metadata": {
    "ExecuteTime": {
     "end_time": "2021-08-24T13:11:54.465122Z",
     "start_time": "2021-08-24T13:11:54.447733Z"
    },
    "scrolled": true
   },
   "outputs": [
    {
     "ename": "KeyError",
     "evalue": "\"['GroupResult'] not found in axis\"",
     "output_type": "error",
     "traceback": [
      "\u001b[0;31m---------------------------------------------------------------------------\u001b[0m",
      "\u001b[0;31mKeyError\u001b[0m                                  Traceback (most recent call last)",
      "\u001b[0;32m/var/folders/p2/6ddwj2812811pbqjm8t6brv80000gn/T/ipykernel_75390/2139765234.py\u001b[0m in \u001b[0;36m<module>\u001b[0;34m\u001b[0m\n\u001b[1;32m      1\u001b[0m \u001b[0mall_matches_ligue1\u001b[0m\u001b[0;34m=\u001b[0m\u001b[0mall_matches_ligue1\u001b[0m\u001b[0;34m.\u001b[0m\u001b[0mdrop\u001b[0m\u001b[0;34m(\u001b[0m\u001b[0mcolumns\u001b[0m\u001b[0;34m=\u001b[0m\u001b[0;34m[\u001b[0m\u001b[0;34m'Match Number'\u001b[0m\u001b[0;34m,\u001b[0m\u001b[0;34m'Round Number'\u001b[0m\u001b[0;34m,\u001b[0m \u001b[0;34m'GroupResult'\u001b[0m\u001b[0;34m]\u001b[0m\u001b[0;34m)\u001b[0m\u001b[0;34m\u001b[0m\u001b[0;34m\u001b[0m\u001b[0m\n\u001b[0;32m----> 2\u001b[0;31m \u001b[0mall_matches_championsleague\u001b[0m\u001b[0;34m=\u001b[0m\u001b[0mall_matches_championsleague\u001b[0m\u001b[0;34m.\u001b[0m\u001b[0mdrop\u001b[0m\u001b[0;34m(\u001b[0m\u001b[0mcolumns\u001b[0m\u001b[0;34m=\u001b[0m\u001b[0;34m[\u001b[0m\u001b[0;34m'Match Number'\u001b[0m\u001b[0;34m,\u001b[0m\u001b[0;34m'Round Number'\u001b[0m\u001b[0;34m,\u001b[0m \u001b[0;34m'GroupResult'\u001b[0m\u001b[0;34m]\u001b[0m\u001b[0;34m)\u001b[0m\u001b[0;34m\u001b[0m\u001b[0;34m\u001b[0m\u001b[0m\n\u001b[0m",
      "\u001b[0;32m~/.pyenv/versions/3.8.6/envs/resto-project/lib/python3.8/site-packages/pandas/util/_decorators.py\u001b[0m in \u001b[0;36mwrapper\u001b[0;34m(*args, **kwargs)\u001b[0m\n\u001b[1;32m    309\u001b[0m                     \u001b[0mstacklevel\u001b[0m\u001b[0;34m=\u001b[0m\u001b[0mstacklevel\u001b[0m\u001b[0;34m,\u001b[0m\u001b[0;34m\u001b[0m\u001b[0;34m\u001b[0m\u001b[0m\n\u001b[1;32m    310\u001b[0m                 )\n\u001b[0;32m--> 311\u001b[0;31m             \u001b[0;32mreturn\u001b[0m \u001b[0mfunc\u001b[0m\u001b[0;34m(\u001b[0m\u001b[0;34m*\u001b[0m\u001b[0margs\u001b[0m\u001b[0;34m,\u001b[0m \u001b[0;34m**\u001b[0m\u001b[0mkwargs\u001b[0m\u001b[0;34m)\u001b[0m\u001b[0;34m\u001b[0m\u001b[0;34m\u001b[0m\u001b[0m\n\u001b[0m\u001b[1;32m    312\u001b[0m \u001b[0;34m\u001b[0m\u001b[0m\n\u001b[1;32m    313\u001b[0m         \u001b[0;32mreturn\u001b[0m \u001b[0mwrapper\u001b[0m\u001b[0;34m\u001b[0m\u001b[0;34m\u001b[0m\u001b[0m\n",
      "\u001b[0;32m~/.pyenv/versions/3.8.6/envs/resto-project/lib/python3.8/site-packages/pandas/core/frame.py\u001b[0m in \u001b[0;36mdrop\u001b[0;34m(self, labels, axis, index, columns, level, inplace, errors)\u001b[0m\n\u001b[1;32m   4899\u001b[0m                 \u001b[0mweight\u001b[0m  \u001b[0;36m1.0\u001b[0m     \u001b[0;36m0.8\u001b[0m\u001b[0;34m\u001b[0m\u001b[0;34m\u001b[0m\u001b[0m\n\u001b[1;32m   4900\u001b[0m         \"\"\"\n\u001b[0;32m-> 4901\u001b[0;31m         return super().drop(\n\u001b[0m\u001b[1;32m   4902\u001b[0m             \u001b[0mlabels\u001b[0m\u001b[0;34m=\u001b[0m\u001b[0mlabels\u001b[0m\u001b[0;34m,\u001b[0m\u001b[0;34m\u001b[0m\u001b[0;34m\u001b[0m\u001b[0m\n\u001b[1;32m   4903\u001b[0m             \u001b[0maxis\u001b[0m\u001b[0;34m=\u001b[0m\u001b[0maxis\u001b[0m\u001b[0;34m,\u001b[0m\u001b[0;34m\u001b[0m\u001b[0;34m\u001b[0m\u001b[0m\n",
      "\u001b[0;32m~/.pyenv/versions/3.8.6/envs/resto-project/lib/python3.8/site-packages/pandas/core/generic.py\u001b[0m in \u001b[0;36mdrop\u001b[0;34m(self, labels, axis, index, columns, level, inplace, errors)\u001b[0m\n\u001b[1;32m   4148\u001b[0m         \u001b[0;32mfor\u001b[0m \u001b[0maxis\u001b[0m\u001b[0;34m,\u001b[0m \u001b[0mlabels\u001b[0m \u001b[0;32min\u001b[0m \u001b[0maxes\u001b[0m\u001b[0;34m.\u001b[0m\u001b[0mitems\u001b[0m\u001b[0;34m(\u001b[0m\u001b[0;34m)\u001b[0m\u001b[0;34m:\u001b[0m\u001b[0;34m\u001b[0m\u001b[0;34m\u001b[0m\u001b[0m\n\u001b[1;32m   4149\u001b[0m             \u001b[0;32mif\u001b[0m \u001b[0mlabels\u001b[0m \u001b[0;32mis\u001b[0m \u001b[0;32mnot\u001b[0m \u001b[0;32mNone\u001b[0m\u001b[0;34m:\u001b[0m\u001b[0;34m\u001b[0m\u001b[0;34m\u001b[0m\u001b[0m\n\u001b[0;32m-> 4150\u001b[0;31m                 \u001b[0mobj\u001b[0m \u001b[0;34m=\u001b[0m \u001b[0mobj\u001b[0m\u001b[0;34m.\u001b[0m\u001b[0m_drop_axis\u001b[0m\u001b[0;34m(\u001b[0m\u001b[0mlabels\u001b[0m\u001b[0;34m,\u001b[0m \u001b[0maxis\u001b[0m\u001b[0;34m,\u001b[0m \u001b[0mlevel\u001b[0m\u001b[0;34m=\u001b[0m\u001b[0mlevel\u001b[0m\u001b[0;34m,\u001b[0m \u001b[0merrors\u001b[0m\u001b[0;34m=\u001b[0m\u001b[0merrors\u001b[0m\u001b[0;34m)\u001b[0m\u001b[0;34m\u001b[0m\u001b[0;34m\u001b[0m\u001b[0m\n\u001b[0m\u001b[1;32m   4151\u001b[0m \u001b[0;34m\u001b[0m\u001b[0m\n\u001b[1;32m   4152\u001b[0m         \u001b[0;32mif\u001b[0m \u001b[0minplace\u001b[0m\u001b[0;34m:\u001b[0m\u001b[0;34m\u001b[0m\u001b[0;34m\u001b[0m\u001b[0m\n",
      "\u001b[0;32m~/.pyenv/versions/3.8.6/envs/resto-project/lib/python3.8/site-packages/pandas/core/generic.py\u001b[0m in \u001b[0;36m_drop_axis\u001b[0;34m(self, labels, axis, level, errors)\u001b[0m\n\u001b[1;32m   4183\u001b[0m                 \u001b[0mnew_axis\u001b[0m \u001b[0;34m=\u001b[0m \u001b[0maxis\u001b[0m\u001b[0;34m.\u001b[0m\u001b[0mdrop\u001b[0m\u001b[0;34m(\u001b[0m\u001b[0mlabels\u001b[0m\u001b[0;34m,\u001b[0m \u001b[0mlevel\u001b[0m\u001b[0;34m=\u001b[0m\u001b[0mlevel\u001b[0m\u001b[0;34m,\u001b[0m \u001b[0merrors\u001b[0m\u001b[0;34m=\u001b[0m\u001b[0merrors\u001b[0m\u001b[0;34m)\u001b[0m\u001b[0;34m\u001b[0m\u001b[0;34m\u001b[0m\u001b[0m\n\u001b[1;32m   4184\u001b[0m             \u001b[0;32melse\u001b[0m\u001b[0;34m:\u001b[0m\u001b[0;34m\u001b[0m\u001b[0;34m\u001b[0m\u001b[0m\n\u001b[0;32m-> 4185\u001b[0;31m                 \u001b[0mnew_axis\u001b[0m \u001b[0;34m=\u001b[0m \u001b[0maxis\u001b[0m\u001b[0;34m.\u001b[0m\u001b[0mdrop\u001b[0m\u001b[0;34m(\u001b[0m\u001b[0mlabels\u001b[0m\u001b[0;34m,\u001b[0m \u001b[0merrors\u001b[0m\u001b[0;34m=\u001b[0m\u001b[0merrors\u001b[0m\u001b[0;34m)\u001b[0m\u001b[0;34m\u001b[0m\u001b[0;34m\u001b[0m\u001b[0m\n\u001b[0m\u001b[1;32m   4186\u001b[0m             \u001b[0mresult\u001b[0m \u001b[0;34m=\u001b[0m \u001b[0mself\u001b[0m\u001b[0;34m.\u001b[0m\u001b[0mreindex\u001b[0m\u001b[0;34m(\u001b[0m\u001b[0;34m**\u001b[0m\u001b[0;34m{\u001b[0m\u001b[0maxis_name\u001b[0m\u001b[0;34m:\u001b[0m \u001b[0mnew_axis\u001b[0m\u001b[0;34m}\u001b[0m\u001b[0;34m)\u001b[0m\u001b[0;34m\u001b[0m\u001b[0;34m\u001b[0m\u001b[0m\n\u001b[1;32m   4187\u001b[0m \u001b[0;34m\u001b[0m\u001b[0m\n",
      "\u001b[0;32m~/.pyenv/versions/3.8.6/envs/resto-project/lib/python3.8/site-packages/pandas/core/indexes/base.py\u001b[0m in \u001b[0;36mdrop\u001b[0;34m(self, labels, errors)\u001b[0m\n\u001b[1;32m   6016\u001b[0m         \u001b[0;32mif\u001b[0m \u001b[0mmask\u001b[0m\u001b[0;34m.\u001b[0m\u001b[0many\u001b[0m\u001b[0;34m(\u001b[0m\u001b[0;34m)\u001b[0m\u001b[0;34m:\u001b[0m\u001b[0;34m\u001b[0m\u001b[0;34m\u001b[0m\u001b[0m\n\u001b[1;32m   6017\u001b[0m             \u001b[0;32mif\u001b[0m \u001b[0merrors\u001b[0m \u001b[0;34m!=\u001b[0m \u001b[0;34m\"ignore\"\u001b[0m\u001b[0;34m:\u001b[0m\u001b[0;34m\u001b[0m\u001b[0;34m\u001b[0m\u001b[0m\n\u001b[0;32m-> 6018\u001b[0;31m                 \u001b[0;32mraise\u001b[0m \u001b[0mKeyError\u001b[0m\u001b[0;34m(\u001b[0m\u001b[0;34mf\"{labels[mask]} not found in axis\"\u001b[0m\u001b[0;34m)\u001b[0m\u001b[0;34m\u001b[0m\u001b[0;34m\u001b[0m\u001b[0m\n\u001b[0m\u001b[1;32m   6019\u001b[0m             \u001b[0mindexer\u001b[0m \u001b[0;34m=\u001b[0m \u001b[0mindexer\u001b[0m\u001b[0;34m[\u001b[0m\u001b[0;34m~\u001b[0m\u001b[0mmask\u001b[0m\u001b[0;34m]\u001b[0m\u001b[0;34m\u001b[0m\u001b[0;34m\u001b[0m\u001b[0m\n\u001b[1;32m   6020\u001b[0m         \u001b[0;32mreturn\u001b[0m \u001b[0mself\u001b[0m\u001b[0;34m.\u001b[0m\u001b[0mdelete\u001b[0m\u001b[0;34m(\u001b[0m\u001b[0mindexer\u001b[0m\u001b[0;34m)\u001b[0m\u001b[0;34m\u001b[0m\u001b[0;34m\u001b[0m\u001b[0m\n",
      "\u001b[0;31mKeyError\u001b[0m: \"['GroupResult'] not found in axis\""
     ]
    }
   ],
   "source": [
    "all_matches_ligue1=all_matches_ligue1.drop(columns=['Match Number','Round Number', 'GroupResult'])\n",
    "all_matches_championsleague=all_matches_championsleague.drop(columns=['Match Number','Round Number', 'GroupResult'])"
   ]
  },
  {
   "cell_type": "code",
   "execution_count": 515,
   "id": "91fa797a",
   "metadata": {
    "ExecuteTime": {
     "end_time": "2021-08-24T13:02:16.483994Z",
     "start_time": "2021-08-24T13:02:16.465713Z"
    },
    "scrolled": true
   },
   "outputs": [
    {
     "ename": "KeyError",
     "evalue": "\"['Match Number' 'Round Number' 'Group' 'Result'] not found in axis\"",
     "output_type": "error",
     "traceback": [
      "\u001b[0;31m---------------------------------------------------------------------------\u001b[0m",
      "\u001b[0;31mKeyError\u001b[0m                                  Traceback (most recent call last)",
      "\u001b[0;32m/var/folders/p2/6ddwj2812811pbqjm8t6brv80000gn/T/ipykernel_75390/1989204594.py\u001b[0m in \u001b[0;36m<module>\u001b[0;34m\u001b[0m\n\u001b[0;32m----> 1\u001b[0;31m \u001b[0mall_matches_championsleague\u001b[0m\u001b[0;34m=\u001b[0m\u001b[0mall_matches_championsleague\u001b[0m\u001b[0;34m.\u001b[0m\u001b[0mdrop\u001b[0m\u001b[0;34m(\u001b[0m\u001b[0mcolumns\u001b[0m\u001b[0;34m=\u001b[0m\u001b[0;34m[\u001b[0m\u001b[0;34m'Match Number'\u001b[0m\u001b[0;34m,\u001b[0m \u001b[0;34m'Round Number'\u001b[0m\u001b[0;34m,\u001b[0m \u001b[0;34m'Group'\u001b[0m\u001b[0;34m,\u001b[0m \u001b[0;34m'Result'\u001b[0m\u001b[0;34m]\u001b[0m\u001b[0;34m)\u001b[0m\u001b[0;34m\u001b[0m\u001b[0;34m\u001b[0m\u001b[0m\n\u001b[0m",
      "\u001b[0;32m~/.pyenv/versions/3.8.6/envs/resto-project/lib/python3.8/site-packages/pandas/util/_decorators.py\u001b[0m in \u001b[0;36mwrapper\u001b[0;34m(*args, **kwargs)\u001b[0m\n\u001b[1;32m    309\u001b[0m                     \u001b[0mstacklevel\u001b[0m\u001b[0;34m=\u001b[0m\u001b[0mstacklevel\u001b[0m\u001b[0;34m,\u001b[0m\u001b[0;34m\u001b[0m\u001b[0;34m\u001b[0m\u001b[0m\n\u001b[1;32m    310\u001b[0m                 )\n\u001b[0;32m--> 311\u001b[0;31m             \u001b[0;32mreturn\u001b[0m \u001b[0mfunc\u001b[0m\u001b[0;34m(\u001b[0m\u001b[0;34m*\u001b[0m\u001b[0margs\u001b[0m\u001b[0;34m,\u001b[0m \u001b[0;34m**\u001b[0m\u001b[0mkwargs\u001b[0m\u001b[0;34m)\u001b[0m\u001b[0;34m\u001b[0m\u001b[0;34m\u001b[0m\u001b[0m\n\u001b[0m\u001b[1;32m    312\u001b[0m \u001b[0;34m\u001b[0m\u001b[0m\n\u001b[1;32m    313\u001b[0m         \u001b[0;32mreturn\u001b[0m \u001b[0mwrapper\u001b[0m\u001b[0;34m\u001b[0m\u001b[0;34m\u001b[0m\u001b[0m\n",
      "\u001b[0;32m~/.pyenv/versions/3.8.6/envs/resto-project/lib/python3.8/site-packages/pandas/core/frame.py\u001b[0m in \u001b[0;36mdrop\u001b[0;34m(self, labels, axis, index, columns, level, inplace, errors)\u001b[0m\n\u001b[1;32m   4899\u001b[0m                 \u001b[0mweight\u001b[0m  \u001b[0;36m1.0\u001b[0m     \u001b[0;36m0.8\u001b[0m\u001b[0;34m\u001b[0m\u001b[0;34m\u001b[0m\u001b[0m\n\u001b[1;32m   4900\u001b[0m         \"\"\"\n\u001b[0;32m-> 4901\u001b[0;31m         return super().drop(\n\u001b[0m\u001b[1;32m   4902\u001b[0m             \u001b[0mlabels\u001b[0m\u001b[0;34m=\u001b[0m\u001b[0mlabels\u001b[0m\u001b[0;34m,\u001b[0m\u001b[0;34m\u001b[0m\u001b[0;34m\u001b[0m\u001b[0m\n\u001b[1;32m   4903\u001b[0m             \u001b[0maxis\u001b[0m\u001b[0;34m=\u001b[0m\u001b[0maxis\u001b[0m\u001b[0;34m,\u001b[0m\u001b[0;34m\u001b[0m\u001b[0;34m\u001b[0m\u001b[0m\n",
      "\u001b[0;32m~/.pyenv/versions/3.8.6/envs/resto-project/lib/python3.8/site-packages/pandas/core/generic.py\u001b[0m in \u001b[0;36mdrop\u001b[0;34m(self, labels, axis, index, columns, level, inplace, errors)\u001b[0m\n\u001b[1;32m   4148\u001b[0m         \u001b[0;32mfor\u001b[0m \u001b[0maxis\u001b[0m\u001b[0;34m,\u001b[0m \u001b[0mlabels\u001b[0m \u001b[0;32min\u001b[0m \u001b[0maxes\u001b[0m\u001b[0;34m.\u001b[0m\u001b[0mitems\u001b[0m\u001b[0;34m(\u001b[0m\u001b[0;34m)\u001b[0m\u001b[0;34m:\u001b[0m\u001b[0;34m\u001b[0m\u001b[0;34m\u001b[0m\u001b[0m\n\u001b[1;32m   4149\u001b[0m             \u001b[0;32mif\u001b[0m \u001b[0mlabels\u001b[0m \u001b[0;32mis\u001b[0m \u001b[0;32mnot\u001b[0m \u001b[0;32mNone\u001b[0m\u001b[0;34m:\u001b[0m\u001b[0;34m\u001b[0m\u001b[0;34m\u001b[0m\u001b[0m\n\u001b[0;32m-> 4150\u001b[0;31m                 \u001b[0mobj\u001b[0m \u001b[0;34m=\u001b[0m \u001b[0mobj\u001b[0m\u001b[0;34m.\u001b[0m\u001b[0m_drop_axis\u001b[0m\u001b[0;34m(\u001b[0m\u001b[0mlabels\u001b[0m\u001b[0;34m,\u001b[0m \u001b[0maxis\u001b[0m\u001b[0;34m,\u001b[0m \u001b[0mlevel\u001b[0m\u001b[0;34m=\u001b[0m\u001b[0mlevel\u001b[0m\u001b[0;34m,\u001b[0m \u001b[0merrors\u001b[0m\u001b[0;34m=\u001b[0m\u001b[0merrors\u001b[0m\u001b[0;34m)\u001b[0m\u001b[0;34m\u001b[0m\u001b[0;34m\u001b[0m\u001b[0m\n\u001b[0m\u001b[1;32m   4151\u001b[0m \u001b[0;34m\u001b[0m\u001b[0m\n\u001b[1;32m   4152\u001b[0m         \u001b[0;32mif\u001b[0m \u001b[0minplace\u001b[0m\u001b[0;34m:\u001b[0m\u001b[0;34m\u001b[0m\u001b[0;34m\u001b[0m\u001b[0m\n",
      "\u001b[0;32m~/.pyenv/versions/3.8.6/envs/resto-project/lib/python3.8/site-packages/pandas/core/generic.py\u001b[0m in \u001b[0;36m_drop_axis\u001b[0;34m(self, labels, axis, level, errors)\u001b[0m\n\u001b[1;32m   4183\u001b[0m                 \u001b[0mnew_axis\u001b[0m \u001b[0;34m=\u001b[0m \u001b[0maxis\u001b[0m\u001b[0;34m.\u001b[0m\u001b[0mdrop\u001b[0m\u001b[0;34m(\u001b[0m\u001b[0mlabels\u001b[0m\u001b[0;34m,\u001b[0m \u001b[0mlevel\u001b[0m\u001b[0;34m=\u001b[0m\u001b[0mlevel\u001b[0m\u001b[0;34m,\u001b[0m \u001b[0merrors\u001b[0m\u001b[0;34m=\u001b[0m\u001b[0merrors\u001b[0m\u001b[0;34m)\u001b[0m\u001b[0;34m\u001b[0m\u001b[0;34m\u001b[0m\u001b[0m\n\u001b[1;32m   4184\u001b[0m             \u001b[0;32melse\u001b[0m\u001b[0;34m:\u001b[0m\u001b[0;34m\u001b[0m\u001b[0;34m\u001b[0m\u001b[0m\n\u001b[0;32m-> 4185\u001b[0;31m                 \u001b[0mnew_axis\u001b[0m \u001b[0;34m=\u001b[0m \u001b[0maxis\u001b[0m\u001b[0;34m.\u001b[0m\u001b[0mdrop\u001b[0m\u001b[0;34m(\u001b[0m\u001b[0mlabels\u001b[0m\u001b[0;34m,\u001b[0m \u001b[0merrors\u001b[0m\u001b[0;34m=\u001b[0m\u001b[0merrors\u001b[0m\u001b[0;34m)\u001b[0m\u001b[0;34m\u001b[0m\u001b[0;34m\u001b[0m\u001b[0m\n\u001b[0m\u001b[1;32m   4186\u001b[0m             \u001b[0mresult\u001b[0m \u001b[0;34m=\u001b[0m \u001b[0mself\u001b[0m\u001b[0;34m.\u001b[0m\u001b[0mreindex\u001b[0m\u001b[0;34m(\u001b[0m\u001b[0;34m**\u001b[0m\u001b[0;34m{\u001b[0m\u001b[0maxis_name\u001b[0m\u001b[0;34m:\u001b[0m \u001b[0mnew_axis\u001b[0m\u001b[0;34m}\u001b[0m\u001b[0;34m)\u001b[0m\u001b[0;34m\u001b[0m\u001b[0;34m\u001b[0m\u001b[0m\n\u001b[1;32m   4187\u001b[0m \u001b[0;34m\u001b[0m\u001b[0m\n",
      "\u001b[0;32m~/.pyenv/versions/3.8.6/envs/resto-project/lib/python3.8/site-packages/pandas/core/indexes/base.py\u001b[0m in \u001b[0;36mdrop\u001b[0;34m(self, labels, errors)\u001b[0m\n\u001b[1;32m   6016\u001b[0m         \u001b[0;32mif\u001b[0m \u001b[0mmask\u001b[0m\u001b[0;34m.\u001b[0m\u001b[0many\u001b[0m\u001b[0;34m(\u001b[0m\u001b[0;34m)\u001b[0m\u001b[0;34m:\u001b[0m\u001b[0;34m\u001b[0m\u001b[0;34m\u001b[0m\u001b[0m\n\u001b[1;32m   6017\u001b[0m             \u001b[0;32mif\u001b[0m \u001b[0merrors\u001b[0m \u001b[0;34m!=\u001b[0m \u001b[0;34m\"ignore\"\u001b[0m\u001b[0;34m:\u001b[0m\u001b[0;34m\u001b[0m\u001b[0;34m\u001b[0m\u001b[0m\n\u001b[0;32m-> 6018\u001b[0;31m                 \u001b[0;32mraise\u001b[0m \u001b[0mKeyError\u001b[0m\u001b[0;34m(\u001b[0m\u001b[0;34mf\"{labels[mask]} not found in axis\"\u001b[0m\u001b[0;34m)\u001b[0m\u001b[0;34m\u001b[0m\u001b[0;34m\u001b[0m\u001b[0m\n\u001b[0m\u001b[1;32m   6019\u001b[0m             \u001b[0mindexer\u001b[0m \u001b[0;34m=\u001b[0m \u001b[0mindexer\u001b[0m\u001b[0;34m[\u001b[0m\u001b[0;34m~\u001b[0m\u001b[0mmask\u001b[0m\u001b[0;34m]\u001b[0m\u001b[0;34m\u001b[0m\u001b[0;34m\u001b[0m\u001b[0m\n\u001b[1;32m   6020\u001b[0m         \u001b[0;32mreturn\u001b[0m \u001b[0mself\u001b[0m\u001b[0;34m.\u001b[0m\u001b[0mdelete\u001b[0m\u001b[0;34m(\u001b[0m\u001b[0mindexer\u001b[0m\u001b[0;34m)\u001b[0m\u001b[0;34m\u001b[0m\u001b[0;34m\u001b[0m\u001b[0m\n",
      "\u001b[0;31mKeyError\u001b[0m: \"['Match Number' 'Round Number' 'Group' 'Result'] not found in axis\""
     ]
    }
   ],
   "source": [
    "all_matches_championsleague=all_matches_championsleague.drop(columns=['Match Number', 'Round Number', 'Group', 'Result'])"
   ]
  },
  {
   "cell_type": "code",
   "execution_count": 540,
   "id": "797d2374",
   "metadata": {
    "ExecuteTime": {
     "end_time": "2021-08-24T13:12:21.230984Z",
     "start_time": "2021-08-24T13:12:21.225432Z"
    }
   },
   "outputs": [],
   "source": [
    "all_matches_ligue1=all_matches_ligue1.drop(columns=['Location','Home Team','Away Team'])\n",
    "all_matches_championsleague=all_matches_championsleague.drop(columns=['Location','Home Team','Away Team'])"
   ]
  },
  {
   "cell_type": "code",
   "execution_count": 543,
   "id": "339e6c30",
   "metadata": {
    "ExecuteTime": {
     "end_time": "2021-08-24T13:13:26.070930Z",
     "start_time": "2021-08-24T13:13:26.064933Z"
    }
   },
   "outputs": [],
   "source": [
    "all_matches_ligue1['date']=all_matches_ligue1['date'].dt.date\n",
    "all_matches_championsleague['date']=all_matches_championsleague['date'].dt.date"
   ]
  },
  {
   "cell_type": "code",
   "execution_count": 522,
   "id": "e2d19b53",
   "metadata": {
    "ExecuteTime": {
     "end_time": "2021-08-24T13:03:51.646273Z",
     "start_time": "2021-08-24T13:03:51.636911Z"
    }
   },
   "outputs": [],
   "source": [
    "all_matches_ligue1.to_csv('PSG-Matches-Ligue1.csv',index=False)\n",
    "all_matches_championsleague.to_csv('PSG-Matches-CL.csv',index=False)"
   ]
  },
  {
   "cell_type": "code",
   "execution_count": 545,
   "id": "9764feed",
   "metadata": {
    "ExecuteTime": {
     "end_time": "2021-08-24T13:13:33.890726Z",
     "start_time": "2021-08-24T13:13:33.880019Z"
    }
   },
   "outputs": [],
   "source": [
    "all_matches_ligue1.to_csv('PSG-Matches-Ligue1.csv',index=False)\n",
    "all_matches_championsleague.to_csv('PSG-Matches-CL.csv',index=False)"
   ]
  },
  {
   "cell_type": "code",
   "execution_count": 509,
   "id": "84f43db3",
   "metadata": {
    "ExecuteTime": {
     "end_time": "2021-08-24T12:54:20.352337Z",
     "start_time": "2021-08-24T12:54:20.315506Z"
    }
   },
   "outputs": [
    {
     "ename": "KeyError",
     "evalue": "\"['Service', 'Date'] not in index\"",
     "output_type": "error",
     "traceback": [
      "\u001b[0;31m---------------------------------------------------------------------------\u001b[0m",
      "\u001b[0;31mKeyError\u001b[0m                                  Traceback (most recent call last)",
      "\u001b[0;32m/var/folders/p2/6ddwj2812811pbqjm8t6brv80000gn/T/ipykernel_75390/1577086483.py\u001b[0m in \u001b[0;36m<module>\u001b[0;34m\u001b[0m\n\u001b[0;32m----> 1\u001b[0;31m \u001b[0mall_matches\u001b[0m\u001b[0;34m=\u001b[0m\u001b[0mall_matches\u001b[0m\u001b[0;34m[\u001b[0m\u001b[0;34m[\u001b[0m\u001b[0;34m'Location'\u001b[0m\u001b[0;34m,\u001b[0m\u001b[0;34m'Home Team'\u001b[0m\u001b[0;34m,\u001b[0m \u001b[0;34m'Away Team'\u001b[0m\u001b[0;34m,\u001b[0m \u001b[0;34m'Service'\u001b[0m\u001b[0;34m,\u001b[0m \u001b[0;34m'Date'\u001b[0m\u001b[0;34m]\u001b[0m\u001b[0;34m]\u001b[0m\u001b[0;34m\u001b[0m\u001b[0;34m\u001b[0m\u001b[0m\n\u001b[0m\u001b[1;32m      2\u001b[0m \u001b[0mall_matches\u001b[0m\u001b[0;34m[\u001b[0m\u001b[0;34m'Match Happening'\u001b[0m\u001b[0;34m]\u001b[0m\u001b[0;34m=\u001b[0m\u001b[0;36m1\u001b[0m\u001b[0;34m\u001b[0m\u001b[0;34m\u001b[0m\u001b[0m\n",
      "\u001b[0;32m~/.pyenv/versions/3.8.6/envs/resto-project/lib/python3.8/site-packages/pandas/core/frame.py\u001b[0m in \u001b[0;36m__getitem__\u001b[0;34m(self, key)\u001b[0m\n\u001b[1;32m   3459\u001b[0m             \u001b[0;32mif\u001b[0m \u001b[0mis_iterator\u001b[0m\u001b[0;34m(\u001b[0m\u001b[0mkey\u001b[0m\u001b[0;34m)\u001b[0m\u001b[0;34m:\u001b[0m\u001b[0;34m\u001b[0m\u001b[0;34m\u001b[0m\u001b[0m\n\u001b[1;32m   3460\u001b[0m                 \u001b[0mkey\u001b[0m \u001b[0;34m=\u001b[0m \u001b[0mlist\u001b[0m\u001b[0;34m(\u001b[0m\u001b[0mkey\u001b[0m\u001b[0;34m)\u001b[0m\u001b[0;34m\u001b[0m\u001b[0;34m\u001b[0m\u001b[0m\n\u001b[0;32m-> 3461\u001b[0;31m             \u001b[0mindexer\u001b[0m \u001b[0;34m=\u001b[0m \u001b[0mself\u001b[0m\u001b[0;34m.\u001b[0m\u001b[0mloc\u001b[0m\u001b[0;34m.\u001b[0m\u001b[0m_get_listlike_indexer\u001b[0m\u001b[0;34m(\u001b[0m\u001b[0mkey\u001b[0m\u001b[0;34m,\u001b[0m \u001b[0maxis\u001b[0m\u001b[0;34m=\u001b[0m\u001b[0;36m1\u001b[0m\u001b[0;34m)\u001b[0m\u001b[0;34m[\u001b[0m\u001b[0;36m1\u001b[0m\u001b[0;34m]\u001b[0m\u001b[0;34m\u001b[0m\u001b[0;34m\u001b[0m\u001b[0m\n\u001b[0m\u001b[1;32m   3462\u001b[0m \u001b[0;34m\u001b[0m\u001b[0m\n\u001b[1;32m   3463\u001b[0m         \u001b[0;31m# take() does not accept boolean indexers\u001b[0m\u001b[0;34m\u001b[0m\u001b[0;34m\u001b[0m\u001b[0;34m\u001b[0m\u001b[0m\n",
      "\u001b[0;32m~/.pyenv/versions/3.8.6/envs/resto-project/lib/python3.8/site-packages/pandas/core/indexing.py\u001b[0m in \u001b[0;36m_get_listlike_indexer\u001b[0;34m(self, key, axis)\u001b[0m\n\u001b[1;32m   1312\u001b[0m             \u001b[0mkeyarr\u001b[0m\u001b[0;34m,\u001b[0m \u001b[0mindexer\u001b[0m\u001b[0;34m,\u001b[0m \u001b[0mnew_indexer\u001b[0m \u001b[0;34m=\u001b[0m \u001b[0max\u001b[0m\u001b[0;34m.\u001b[0m\u001b[0m_reindex_non_unique\u001b[0m\u001b[0;34m(\u001b[0m\u001b[0mkeyarr\u001b[0m\u001b[0;34m)\u001b[0m\u001b[0;34m\u001b[0m\u001b[0;34m\u001b[0m\u001b[0m\n\u001b[1;32m   1313\u001b[0m \u001b[0;34m\u001b[0m\u001b[0m\n\u001b[0;32m-> 1314\u001b[0;31m         \u001b[0mself\u001b[0m\u001b[0;34m.\u001b[0m\u001b[0m_validate_read_indexer\u001b[0m\u001b[0;34m(\u001b[0m\u001b[0mkeyarr\u001b[0m\u001b[0;34m,\u001b[0m \u001b[0mindexer\u001b[0m\u001b[0;34m,\u001b[0m \u001b[0maxis\u001b[0m\u001b[0;34m)\u001b[0m\u001b[0;34m\u001b[0m\u001b[0;34m\u001b[0m\u001b[0m\n\u001b[0m\u001b[1;32m   1315\u001b[0m \u001b[0;34m\u001b[0m\u001b[0m\n\u001b[1;32m   1316\u001b[0m         if needs_i8_conversion(ax.dtype) or isinstance(\n",
      "\u001b[0;32m~/.pyenv/versions/3.8.6/envs/resto-project/lib/python3.8/site-packages/pandas/core/indexing.py\u001b[0m in \u001b[0;36m_validate_read_indexer\u001b[0;34m(self, key, indexer, axis)\u001b[0m\n\u001b[1;32m   1375\u001b[0m \u001b[0;34m\u001b[0m\u001b[0m\n\u001b[1;32m   1376\u001b[0m             \u001b[0mnot_found\u001b[0m \u001b[0;34m=\u001b[0m \u001b[0mlist\u001b[0m\u001b[0;34m(\u001b[0m\u001b[0mensure_index\u001b[0m\u001b[0;34m(\u001b[0m\u001b[0mkey\u001b[0m\u001b[0;34m)\u001b[0m\u001b[0;34m[\u001b[0m\u001b[0mmissing_mask\u001b[0m\u001b[0;34m.\u001b[0m\u001b[0mnonzero\u001b[0m\u001b[0;34m(\u001b[0m\u001b[0;34m)\u001b[0m\u001b[0;34m[\u001b[0m\u001b[0;36m0\u001b[0m\u001b[0;34m]\u001b[0m\u001b[0;34m]\u001b[0m\u001b[0;34m.\u001b[0m\u001b[0munique\u001b[0m\u001b[0;34m(\u001b[0m\u001b[0;34m)\u001b[0m\u001b[0;34m)\u001b[0m\u001b[0;34m\u001b[0m\u001b[0;34m\u001b[0m\u001b[0m\n\u001b[0;32m-> 1377\u001b[0;31m             \u001b[0;32mraise\u001b[0m \u001b[0mKeyError\u001b[0m\u001b[0;34m(\u001b[0m\u001b[0;34mf\"{not_found} not in index\"\u001b[0m\u001b[0;34m)\u001b[0m\u001b[0;34m\u001b[0m\u001b[0;34m\u001b[0m\u001b[0m\n\u001b[0m\u001b[1;32m   1378\u001b[0m \u001b[0;34m\u001b[0m\u001b[0m\n\u001b[1;32m   1379\u001b[0m \u001b[0;34m\u001b[0m\u001b[0m\n",
      "\u001b[0;31mKeyError\u001b[0m: \"['Service', 'Date'] not in index\""
     ]
    }
   ],
   "source": [
    "all_matches=all_matches[['Location','Home Team', 'Away Team', 'Service', 'Date']]\n",
    "all_matches['Match Happening']=1"
   ]
  },
  {
   "cell_type": "code",
   "execution_count": 377,
   "id": "6959b42c",
   "metadata": {
    "ExecuteTime": {
     "end_time": "2021-08-24T10:13:47.079789Z",
     "start_time": "2021-08-24T10:13:47.074677Z"
    }
   },
   "outputs": [],
   "source": [
    "import copy\n",
    "all_matches_duplicate = copy.deepcopy(all_matches)"
   ]
  },
  {
   "cell_type": "code",
   "execution_count": 378,
   "id": "31284454",
   "metadata": {
    "ExecuteTime": {
     "end_time": "2021-08-24T10:13:47.913894Z",
     "start_time": "2021-08-24T10:13:47.895860Z"
    }
   },
   "outputs": [
    {
     "data": {
      "text/html": [
       "<div>\n",
       "<style scoped>\n",
       "    .dataframe tbody tr th:only-of-type {\n",
       "        vertical-align: middle;\n",
       "    }\n",
       "\n",
       "    .dataframe tbody tr th {\n",
       "        vertical-align: top;\n",
       "    }\n",
       "\n",
       "    .dataframe thead th {\n",
       "        text-align: right;\n",
       "    }\n",
       "</style>\n",
       "<table border=\"1\" class=\"dataframe\">\n",
       "  <thead>\n",
       "    <tr style=\"text-align: right;\">\n",
       "      <th></th>\n",
       "      <th>Location</th>\n",
       "      <th>Home Team</th>\n",
       "      <th>Away Team</th>\n",
       "      <th>Service</th>\n",
       "      <th>Date</th>\n",
       "      <th>Match Happening</th>\n",
       "    </tr>\n",
       "  </thead>\n",
       "  <tbody>\n",
       "    <tr>\n",
       "      <th>0</th>\n",
       "      <td>Celtic Park, Glasgow</td>\n",
       "      <td>Celtic</td>\n",
       "      <td>Paris Saint-Germain</td>\n",
       "      <td>Dinner</td>\n",
       "      <td>2017-12-09 20:45:00</td>\n",
       "      <td>1</td>\n",
       "    </tr>\n",
       "    <tr>\n",
       "      <th>1</th>\n",
       "      <td>Parc des Princes, Paris</td>\n",
       "      <td>Paris Saint-Germain</td>\n",
       "      <td>Bayern Munich</td>\n",
       "      <td>Dinner</td>\n",
       "      <td>2017-09-27 20:45:00</td>\n",
       "      <td>1</td>\n",
       "    </tr>\n",
       "    <tr>\n",
       "      <th>2</th>\n",
       "      <td>Constant Vanden Stock Stadium, Anderlecht</td>\n",
       "      <td>Anderlecht</td>\n",
       "      <td>Paris Saint-Germain</td>\n",
       "      <td>Dinner</td>\n",
       "      <td>2017-10-18 20:45:00</td>\n",
       "      <td>1</td>\n",
       "    </tr>\n",
       "    <tr>\n",
       "      <th>3</th>\n",
       "      <td>Parc des Princes, Paris</td>\n",
       "      <td>Paris Saint-Germain</td>\n",
       "      <td>Anderlecht</td>\n",
       "      <td>Dinner</td>\n",
       "      <td>2017-10-31 20:45:00</td>\n",
       "      <td>1</td>\n",
       "    </tr>\n",
       "    <tr>\n",
       "      <th>4</th>\n",
       "      <td>Parc des Princes, Paris</td>\n",
       "      <td>Paris Saint-Germain</td>\n",
       "      <td>Celtic</td>\n",
       "      <td>Dinner</td>\n",
       "      <td>2017-11-22 20:45:00</td>\n",
       "      <td>1</td>\n",
       "    </tr>\n",
       "    <tr>\n",
       "      <th>...</th>\n",
       "      <td>...</td>\n",
       "      <td>...</td>\n",
       "      <td>...</td>\n",
       "      <td>...</td>\n",
       "      <td>...</td>\n",
       "      <td>...</td>\n",
       "    </tr>\n",
       "    <tr>\n",
       "      <th>33</th>\n",
       "      <td>Parc des Princes</td>\n",
       "      <td>Paris Saint-Germain</td>\n",
       "      <td>RC Lens</td>\n",
       "      <td>Dinner</td>\n",
       "      <td>2022-04-24 21:00:00</td>\n",
       "      <td>1</td>\n",
       "    </tr>\n",
       "    <tr>\n",
       "      <th>34</th>\n",
       "      <td>Stade de la Meinau</td>\n",
       "      <td>RC Strasbourg Alsace</td>\n",
       "      <td>Paris Saint-Germain</td>\n",
       "      <td>Dinner</td>\n",
       "      <td>2022-01-05 21:00:00</td>\n",
       "      <td>1</td>\n",
       "    </tr>\n",
       "    <tr>\n",
       "      <th>35</th>\n",
       "      <td>Parc des Princes</td>\n",
       "      <td>Paris Saint-Germain</td>\n",
       "      <td>ESTAC Troyes</td>\n",
       "      <td>Dinner</td>\n",
       "      <td>2022-08-05 21:00:00</td>\n",
       "      <td>1</td>\n",
       "    </tr>\n",
       "    <tr>\n",
       "      <th>36</th>\n",
       "      <td>Stade de la Mosson</td>\n",
       "      <td>Montpellier Hérault SC</td>\n",
       "      <td>Paris Saint-Germain</td>\n",
       "      <td>Dinner</td>\n",
       "      <td>2022-05-14 21:00:00</td>\n",
       "      <td>1</td>\n",
       "    </tr>\n",
       "    <tr>\n",
       "      <th>37</th>\n",
       "      <td>Parc des Princes</td>\n",
       "      <td>Paris Saint-Germain</td>\n",
       "      <td>FC Metz</td>\n",
       "      <td>Dinner</td>\n",
       "      <td>2022-05-21 21:00:00</td>\n",
       "      <td>1</td>\n",
       "    </tr>\n",
       "  </tbody>\n",
       "</table>\n",
       "<p>180 rows × 6 columns</p>\n",
       "</div>"
      ],
      "text/plain": [
       "                                     Location               Home Team  \\\n",
       "0                        Celtic Park, Glasgow                  Celtic   \n",
       "1                     Parc des Princes, Paris     Paris Saint-Germain   \n",
       "2   Constant Vanden Stock Stadium, Anderlecht              Anderlecht   \n",
       "3                     Parc des Princes, Paris     Paris Saint-Germain   \n",
       "4                     Parc des Princes, Paris     Paris Saint-Germain   \n",
       "..                                        ...                     ...   \n",
       "33                           Parc des Princes     Paris Saint-Germain   \n",
       "34                         Stade de la Meinau    RC Strasbourg Alsace   \n",
       "35                           Parc des Princes     Paris Saint-Germain   \n",
       "36                         Stade de la Mosson  Montpellier Hérault SC   \n",
       "37                           Parc des Princes     Paris Saint-Germain   \n",
       "\n",
       "              Away Team Service                Date  Match Happening  \n",
       "0   Paris Saint-Germain  Dinner 2017-12-09 20:45:00                1  \n",
       "1         Bayern Munich  Dinner 2017-09-27 20:45:00                1  \n",
       "2   Paris Saint-Germain  Dinner 2017-10-18 20:45:00                1  \n",
       "3            Anderlecht  Dinner 2017-10-31 20:45:00                1  \n",
       "4                Celtic  Dinner 2017-11-22 20:45:00                1  \n",
       "..                  ...     ...                 ...              ...  \n",
       "33              RC Lens  Dinner 2022-04-24 21:00:00                1  \n",
       "34  Paris Saint-Germain  Dinner 2022-01-05 21:00:00                1  \n",
       "35         ESTAC Troyes  Dinner 2022-08-05 21:00:00                1  \n",
       "36  Paris Saint-Germain  Dinner 2022-05-14 21:00:00                1  \n",
       "37              FC Metz  Dinner 2022-05-21 21:00:00                1  \n",
       "\n",
       "[180 rows x 6 columns]"
      ]
     },
     "execution_count": 378,
     "metadata": {},
     "output_type": "execute_result"
    }
   ],
   "source": [
    "all_matches"
   ]
  },
  {
   "cell_type": "code",
   "execution_count": null,
   "id": "51b12585",
   "metadata": {},
   "outputs": [],
   "source": []
  },
  {
   "cell_type": "code",
   "execution_count": 379,
   "id": "8f230275",
   "metadata": {
    "ExecuteTime": {
     "end_time": "2021-08-24T10:13:50.751422Z",
     "start_time": "2021-08-24T10:13:50.747124Z"
    }
   },
   "outputs": [],
   "source": [
    "all_matches_duplicate['Match Happening']=0"
   ]
  },
  {
   "cell_type": "code",
   "execution_count": 380,
   "id": "cb78ac94",
   "metadata": {
    "ExecuteTime": {
     "end_time": "2021-08-24T10:13:51.460343Z",
     "start_time": "2021-08-24T10:13:51.454879Z"
    }
   },
   "outputs": [],
   "source": [
    "newdf1=pd.concat([all_matches,all_matches_duplicate])"
   ]
  },
  {
   "cell_type": "code",
   "execution_count": 387,
   "id": "7ef4bb20",
   "metadata": {
    "ExecuteTime": {
     "end_time": "2021-08-24T10:17:30.457828Z",
     "start_time": "2021-08-24T10:17:30.440633Z"
    }
   },
   "outputs": [
    {
     "data": {
      "text/html": [
       "<div>\n",
       "<style scoped>\n",
       "    .dataframe tbody tr th:only-of-type {\n",
       "        vertical-align: middle;\n",
       "    }\n",
       "\n",
       "    .dataframe tbody tr th {\n",
       "        vertical-align: top;\n",
       "    }\n",
       "\n",
       "    .dataframe thead th {\n",
       "        text-align: right;\n",
       "    }\n",
       "</style>\n",
       "<table border=\"1\" class=\"dataframe\">\n",
       "  <thead>\n",
       "    <tr style=\"text-align: right;\">\n",
       "      <th></th>\n",
       "      <th>date</th>\n",
       "      <th>Location</th>\n",
       "      <th>Home Team</th>\n",
       "      <th>Away Team</th>\n",
       "      <th>Service</th>\n",
       "      <th>Match Happening</th>\n",
       "    </tr>\n",
       "  </thead>\n",
       "  <tbody>\n",
       "    <tr>\n",
       "      <th>0</th>\n",
       "      <td>2017-05-12 20:45:00</td>\n",
       "      <td>Allianz Arena, Munich</td>\n",
       "      <td>Bayern Munich</td>\n",
       "      <td>Paris Saint-Germain</td>\n",
       "      <td>Dinner</td>\n",
       "      <td>1</td>\n",
       "    </tr>\n",
       "    <tr>\n",
       "      <th>1</th>\n",
       "      <td>2017-05-12 20:45:00</td>\n",
       "      <td>Allianz Arena, Munich</td>\n",
       "      <td>Bayern Munich</td>\n",
       "      <td>Paris Saint-Germain</td>\n",
       "      <td>Dinner</td>\n",
       "      <td>0</td>\n",
       "    </tr>\n",
       "    <tr>\n",
       "      <th>2</th>\n",
       "      <td>2017-09-27 20:45:00</td>\n",
       "      <td>Parc des Princes, Paris</td>\n",
       "      <td>Paris Saint-Germain</td>\n",
       "      <td>Bayern Munich</td>\n",
       "      <td>Dinner</td>\n",
       "      <td>1</td>\n",
       "    </tr>\n",
       "    <tr>\n",
       "      <th>3</th>\n",
       "      <td>2017-09-27 20:45:00</td>\n",
       "      <td>Parc des Princes, Paris</td>\n",
       "      <td>Paris Saint-Germain</td>\n",
       "      <td>Bayern Munich</td>\n",
       "      <td>Dinner</td>\n",
       "      <td>0</td>\n",
       "    </tr>\n",
       "    <tr>\n",
       "      <th>4</th>\n",
       "      <td>2017-10-18 20:45:00</td>\n",
       "      <td>Constant Vanden Stock Stadium, Anderlecht</td>\n",
       "      <td>Anderlecht</td>\n",
       "      <td>Paris Saint-Germain</td>\n",
       "      <td>Dinner</td>\n",
       "      <td>0</td>\n",
       "    </tr>\n",
       "    <tr>\n",
       "      <th>...</th>\n",
       "      <td>...</td>\n",
       "      <td>...</td>\n",
       "      <td>...</td>\n",
       "      <td>...</td>\n",
       "      <td>...</td>\n",
       "      <td>...</td>\n",
       "    </tr>\n",
       "    <tr>\n",
       "      <th>355</th>\n",
       "      <td>2022-08-05 21:00:00</td>\n",
       "      <td>Parc des Princes</td>\n",
       "      <td>Paris Saint-Germain</td>\n",
       "      <td>ESTAC Troyes</td>\n",
       "      <td>Dinner</td>\n",
       "      <td>0</td>\n",
       "    </tr>\n",
       "    <tr>\n",
       "      <th>356</th>\n",
       "      <td>2022-09-01 01:00:00</td>\n",
       "      <td>Groupama Stadium</td>\n",
       "      <td>Olympique Lyonnais</td>\n",
       "      <td>Paris Saint-Germain</td>\n",
       "      <td>Dinner</td>\n",
       "      <td>0</td>\n",
       "    </tr>\n",
       "    <tr>\n",
       "      <th>357</th>\n",
       "      <td>2022-09-01 01:00:00</td>\n",
       "      <td>Groupama Stadium</td>\n",
       "      <td>Olympique Lyonnais</td>\n",
       "      <td>Paris Saint-Germain</td>\n",
       "      <td>Dinner</td>\n",
       "      <td>1</td>\n",
       "    </tr>\n",
       "    <tr>\n",
       "      <th>358</th>\n",
       "      <td>2022-10-04 21:00:00</td>\n",
       "      <td>Stade Gabriel Montpied</td>\n",
       "      <td>Clermont Foot 63</td>\n",
       "      <td>Paris Saint-Germain</td>\n",
       "      <td>Dinner</td>\n",
       "      <td>0</td>\n",
       "    </tr>\n",
       "    <tr>\n",
       "      <th>359</th>\n",
       "      <td>2022-10-04 21:00:00</td>\n",
       "      <td>Stade Gabriel Montpied</td>\n",
       "      <td>Clermont Foot 63</td>\n",
       "      <td>Paris Saint-Germain</td>\n",
       "      <td>Dinner</td>\n",
       "      <td>1</td>\n",
       "    </tr>\n",
       "  </tbody>\n",
       "</table>\n",
       "<p>360 rows × 6 columns</p>\n",
       "</div>"
      ],
      "text/plain": [
       "                   date                                   Location  \\\n",
       "0   2017-05-12 20:45:00                      Allianz Arena, Munich   \n",
       "1   2017-05-12 20:45:00                      Allianz Arena, Munich   \n",
       "2   2017-09-27 20:45:00                    Parc des Princes, Paris   \n",
       "3   2017-09-27 20:45:00                    Parc des Princes, Paris   \n",
       "4   2017-10-18 20:45:00  Constant Vanden Stock Stadium, Anderlecht   \n",
       "..                  ...                                        ...   \n",
       "355 2022-08-05 21:00:00                           Parc des Princes   \n",
       "356 2022-09-01 01:00:00                           Groupama Stadium   \n",
       "357 2022-09-01 01:00:00                           Groupama Stadium   \n",
       "358 2022-10-04 21:00:00                     Stade Gabriel Montpied   \n",
       "359 2022-10-04 21:00:00                     Stade Gabriel Montpied   \n",
       "\n",
       "               Home Team            Away Team Service  Match Happening  \n",
       "0          Bayern Munich  Paris Saint-Germain  Dinner                1  \n",
       "1          Bayern Munich  Paris Saint-Germain  Dinner                0  \n",
       "2    Paris Saint-Germain        Bayern Munich  Dinner                1  \n",
       "3    Paris Saint-Germain        Bayern Munich  Dinner                0  \n",
       "4             Anderlecht  Paris Saint-Germain  Dinner                0  \n",
       "..                   ...                  ...     ...              ...  \n",
       "355  Paris Saint-Germain         ESTAC Troyes  Dinner                0  \n",
       "356   Olympique Lyonnais  Paris Saint-Germain  Dinner                0  \n",
       "357   Olympique Lyonnais  Paris Saint-Germain  Dinner                1  \n",
       "358     Clermont Foot 63  Paris Saint-Germain  Dinner                0  \n",
       "359     Clermont Foot 63  Paris Saint-Germain  Dinner                1  \n",
       "\n",
       "[360 rows x 6 columns]"
      ]
     },
     "execution_count": 387,
     "metadata": {},
     "output_type": "execute_result"
    }
   ],
   "source": []
  },
  {
   "cell_type": "code",
   "execution_count": 381,
   "id": "0e5fa5a4",
   "metadata": {
    "ExecuteTime": {
     "end_time": "2021-08-24T10:13:51.820850Z",
     "start_time": "2021-08-24T10:13:51.810099Z"
    }
   },
   "outputs": [
    {
     "data": {
      "text/plain": [
       "1    180\n",
       "0    180\n",
       "Name: Match Happening, dtype: int64"
      ]
     },
     "execution_count": 381,
     "metadata": {},
     "output_type": "execute_result"
    }
   ],
   "source": [
    "newdf1['Match Happening'].value_counts()"
   ]
  },
  {
   "cell_type": "code",
   "execution_count": 382,
   "id": "a1c637d2",
   "metadata": {
    "ExecuteTime": {
     "end_time": "2021-08-24T10:13:52.061301Z",
     "start_time": "2021-08-24T10:13:52.047945Z"
    }
   },
   "outputs": [],
   "source": [
    "newdf1=newdf1.reset_index()\n",
    "newdf1 = newdf1.set_index('Date')"
   ]
  },
  {
   "cell_type": "code",
   "execution_count": 383,
   "id": "89eba453",
   "metadata": {
    "ExecuteTime": {
     "end_time": "2021-08-24T10:13:52.198799Z",
     "start_time": "2021-08-24T10:13:52.186149Z"
    }
   },
   "outputs": [],
   "source": [
    "newdf1=newdf1.sort_index()\n",
    "newdf1 = newdf1.reset_index()"
   ]
  },
  {
   "cell_type": "code",
   "execution_count": 384,
   "id": "7d8c9cb6",
   "metadata": {
    "ExecuteTime": {
     "end_time": "2021-08-24T10:13:52.359833Z",
     "start_time": "2021-08-24T10:13:52.351679Z"
    }
   },
   "outputs": [],
   "source": [
    "newdf1=newdf1.rename(columns={'Date':'date'}).drop(columns='index')"
   ]
  },
  {
   "cell_type": "code",
   "execution_count": 385,
   "id": "98c61115",
   "metadata": {
    "ExecuteTime": {
     "end_time": "2021-08-24T10:13:53.094386Z",
     "start_time": "2021-08-24T10:13:53.078563Z"
    }
   },
   "outputs": [
    {
     "data": {
      "text/html": [
       "<div>\n",
       "<style scoped>\n",
       "    .dataframe tbody tr th:only-of-type {\n",
       "        vertical-align: middle;\n",
       "    }\n",
       "\n",
       "    .dataframe tbody tr th {\n",
       "        vertical-align: top;\n",
       "    }\n",
       "\n",
       "    .dataframe thead th {\n",
       "        text-align: right;\n",
       "    }\n",
       "</style>\n",
       "<table border=\"1\" class=\"dataframe\">\n",
       "  <thead>\n",
       "    <tr style=\"text-align: right;\">\n",
       "      <th></th>\n",
       "      <th>date</th>\n",
       "      <th>Location</th>\n",
       "      <th>Home Team</th>\n",
       "      <th>Away Team</th>\n",
       "      <th>Service</th>\n",
       "      <th>Match Happening</th>\n",
       "    </tr>\n",
       "  </thead>\n",
       "  <tbody>\n",
       "    <tr>\n",
       "      <th>0</th>\n",
       "      <td>2017-05-12 20:45:00</td>\n",
       "      <td>Allianz Arena, Munich</td>\n",
       "      <td>Bayern Munich</td>\n",
       "      <td>Paris Saint-Germain</td>\n",
       "      <td>Dinner</td>\n",
       "      <td>1</td>\n",
       "    </tr>\n",
       "    <tr>\n",
       "      <th>1</th>\n",
       "      <td>2017-05-12 20:45:00</td>\n",
       "      <td>Allianz Arena, Munich</td>\n",
       "      <td>Bayern Munich</td>\n",
       "      <td>Paris Saint-Germain</td>\n",
       "      <td>Dinner</td>\n",
       "      <td>0</td>\n",
       "    </tr>\n",
       "    <tr>\n",
       "      <th>2</th>\n",
       "      <td>2017-09-27 20:45:00</td>\n",
       "      <td>Parc des Princes, Paris</td>\n",
       "      <td>Paris Saint-Germain</td>\n",
       "      <td>Bayern Munich</td>\n",
       "      <td>Dinner</td>\n",
       "      <td>1</td>\n",
       "    </tr>\n",
       "    <tr>\n",
       "      <th>3</th>\n",
       "      <td>2017-09-27 20:45:00</td>\n",
       "      <td>Parc des Princes, Paris</td>\n",
       "      <td>Paris Saint-Germain</td>\n",
       "      <td>Bayern Munich</td>\n",
       "      <td>Dinner</td>\n",
       "      <td>0</td>\n",
       "    </tr>\n",
       "    <tr>\n",
       "      <th>4</th>\n",
       "      <td>2017-10-18 20:45:00</td>\n",
       "      <td>Constant Vanden Stock Stadium, Anderlecht</td>\n",
       "      <td>Anderlecht</td>\n",
       "      <td>Paris Saint-Germain</td>\n",
       "      <td>Dinner</td>\n",
       "      <td>0</td>\n",
       "    </tr>\n",
       "    <tr>\n",
       "      <th>5</th>\n",
       "      <td>2017-10-18 20:45:00</td>\n",
       "      <td>Constant Vanden Stock Stadium, Anderlecht</td>\n",
       "      <td>Anderlecht</td>\n",
       "      <td>Paris Saint-Germain</td>\n",
       "      <td>Dinner</td>\n",
       "      <td>1</td>\n",
       "    </tr>\n",
       "    <tr>\n",
       "      <th>6</th>\n",
       "      <td>2017-10-31 20:45:00</td>\n",
       "      <td>Parc des Princes, Paris</td>\n",
       "      <td>Paris Saint-Germain</td>\n",
       "      <td>Anderlecht</td>\n",
       "      <td>Dinner</td>\n",
       "      <td>1</td>\n",
       "    </tr>\n",
       "    <tr>\n",
       "      <th>7</th>\n",
       "      <td>2017-10-31 20:45:00</td>\n",
       "      <td>Parc des Princes, Paris</td>\n",
       "      <td>Paris Saint-Germain</td>\n",
       "      <td>Anderlecht</td>\n",
       "      <td>Dinner</td>\n",
       "      <td>0</td>\n",
       "    </tr>\n",
       "    <tr>\n",
       "      <th>8</th>\n",
       "      <td>2017-11-22 20:45:00</td>\n",
       "      <td>Parc des Princes, Paris</td>\n",
       "      <td>Paris Saint-Germain</td>\n",
       "      <td>Celtic</td>\n",
       "      <td>Dinner</td>\n",
       "      <td>1</td>\n",
       "    </tr>\n",
       "    <tr>\n",
       "      <th>9</th>\n",
       "      <td>2017-11-22 20:45:00</td>\n",
       "      <td>Parc des Princes, Paris</td>\n",
       "      <td>Paris Saint-Germain</td>\n",
       "      <td>Celtic</td>\n",
       "      <td>Dinner</td>\n",
       "      <td>0</td>\n",
       "    </tr>\n",
       "    <tr>\n",
       "      <th>10</th>\n",
       "      <td>2017-12-09 20:45:00</td>\n",
       "      <td>Celtic Park, Glasgow</td>\n",
       "      <td>Celtic</td>\n",
       "      <td>Paris Saint-Germain</td>\n",
       "      <td>Dinner</td>\n",
       "      <td>0</td>\n",
       "    </tr>\n",
       "    <tr>\n",
       "      <th>11</th>\n",
       "      <td>2017-12-09 20:45:00</td>\n",
       "      <td>Celtic Park, Glasgow</td>\n",
       "      <td>Celtic</td>\n",
       "      <td>Paris Saint-Germain</td>\n",
       "      <td>Dinner</td>\n",
       "      <td>1</td>\n",
       "    </tr>\n",
       "    <tr>\n",
       "      <th>12</th>\n",
       "      <td>2018-01-09 17:00:00</td>\n",
       "      <td>Stade des Costières</td>\n",
       "      <td>Nîmes Olympique</td>\n",
       "      <td>Paris Saint-Germain</td>\n",
       "      <td>Dinner</td>\n",
       "      <td>0</td>\n",
       "    </tr>\n",
       "    <tr>\n",
       "      <th>13</th>\n",
       "      <td>2018-01-09 17:00:00</td>\n",
       "      <td>Stade des Costières</td>\n",
       "      <td>Nîmes Olympique</td>\n",
       "      <td>Paris Saint-Germain</td>\n",
       "      <td>Dinner</td>\n",
       "      <td>1</td>\n",
       "    </tr>\n",
       "    <tr>\n",
       "      <th>14</th>\n",
       "      <td>2018-02-11 20:45:00</td>\n",
       "      <td>Parc des Princes</td>\n",
       "      <td>Paris Saint-Germain</td>\n",
       "      <td>LOSC</td>\n",
       "      <td>Dinner</td>\n",
       "      <td>1</td>\n",
       "    </tr>\n",
       "  </tbody>\n",
       "</table>\n",
       "</div>"
      ],
      "text/plain": [
       "                  date                                   Location  \\\n",
       "0  2017-05-12 20:45:00                      Allianz Arena, Munich   \n",
       "1  2017-05-12 20:45:00                      Allianz Arena, Munich   \n",
       "2  2017-09-27 20:45:00                    Parc des Princes, Paris   \n",
       "3  2017-09-27 20:45:00                    Parc des Princes, Paris   \n",
       "4  2017-10-18 20:45:00  Constant Vanden Stock Stadium, Anderlecht   \n",
       "5  2017-10-18 20:45:00  Constant Vanden Stock Stadium, Anderlecht   \n",
       "6  2017-10-31 20:45:00                    Parc des Princes, Paris   \n",
       "7  2017-10-31 20:45:00                    Parc des Princes, Paris   \n",
       "8  2017-11-22 20:45:00                    Parc des Princes, Paris   \n",
       "9  2017-11-22 20:45:00                    Parc des Princes, Paris   \n",
       "10 2017-12-09 20:45:00                       Celtic Park, Glasgow   \n",
       "11 2017-12-09 20:45:00                       Celtic Park, Glasgow   \n",
       "12 2018-01-09 17:00:00                        Stade des Costières   \n",
       "13 2018-01-09 17:00:00                        Stade des Costières   \n",
       "14 2018-02-11 20:45:00                           Parc des Princes   \n",
       "\n",
       "              Home Team            Away Team Service  Match Happening  \n",
       "0         Bayern Munich  Paris Saint-Germain  Dinner                1  \n",
       "1         Bayern Munich  Paris Saint-Germain  Dinner                0  \n",
       "2   Paris Saint-Germain        Bayern Munich  Dinner                1  \n",
       "3   Paris Saint-Germain        Bayern Munich  Dinner                0  \n",
       "4            Anderlecht  Paris Saint-Germain  Dinner                0  \n",
       "5            Anderlecht  Paris Saint-Germain  Dinner                1  \n",
       "6   Paris Saint-Germain           Anderlecht  Dinner                1  \n",
       "7   Paris Saint-Germain           Anderlecht  Dinner                0  \n",
       "8   Paris Saint-Germain               Celtic  Dinner                1  \n",
       "9   Paris Saint-Germain               Celtic  Dinner                0  \n",
       "10               Celtic  Paris Saint-Germain  Dinner                0  \n",
       "11               Celtic  Paris Saint-Germain  Dinner                1  \n",
       "12      Nîmes Olympique  Paris Saint-Germain  Dinner                0  \n",
       "13      Nîmes Olympique  Paris Saint-Germain  Dinner                1  \n",
       "14  Paris Saint-Germain                 LOSC  Dinner                1  "
      ]
     },
     "execution_count": 385,
     "metadata": {},
     "output_type": "execute_result"
    }
   ],
   "source": [
    "newdf1.head(15)"
   ]
  },
  {
   "cell_type": "code",
   "execution_count": 386,
   "id": "a3973254",
   "metadata": {
    "ExecuteTime": {
     "end_time": "2021-08-24T10:14:25.286107Z",
     "start_time": "2021-08-24T10:14:25.262062Z"
    }
   },
   "outputs": [
    {
     "data": {
      "text/html": [
       "<div>\n",
       "<style scoped>\n",
       "    .dataframe tbody tr th:only-of-type {\n",
       "        vertical-align: middle;\n",
       "    }\n",
       "\n",
       "    .dataframe tbody tr th {\n",
       "        vertical-align: top;\n",
       "    }\n",
       "\n",
       "    .dataframe thead th {\n",
       "        text-align: right;\n",
       "    }\n",
       "</style>\n",
       "<table border=\"1\" class=\"dataframe\">\n",
       "  <thead>\n",
       "    <tr style=\"text-align: right;\">\n",
       "      <th></th>\n",
       "      <th>date</th>\n",
       "      <th>Location</th>\n",
       "      <th>Home Team</th>\n",
       "      <th>Away Team</th>\n",
       "      <th>Service</th>\n",
       "      <th>Match Happening</th>\n",
       "    </tr>\n",
       "  </thead>\n",
       "  <tbody>\n",
       "    <tr>\n",
       "      <th>0</th>\n",
       "      <td>2017-05-12 20:45:00</td>\n",
       "      <td>Allianz Arena, Munich</td>\n",
       "      <td>Bayern Munich</td>\n",
       "      <td>Paris Saint-Germain</td>\n",
       "      <td>Dinner</td>\n",
       "      <td>1</td>\n",
       "    </tr>\n",
       "    <tr>\n",
       "      <th>1</th>\n",
       "      <td>2017-05-12 20:45:00</td>\n",
       "      <td>Allianz Arena, Munich</td>\n",
       "      <td>Bayern Munich</td>\n",
       "      <td>Paris Saint-Germain</td>\n",
       "      <td>Dinner</td>\n",
       "      <td>0</td>\n",
       "    </tr>\n",
       "    <tr>\n",
       "      <th>2</th>\n",
       "      <td>2017-09-27 20:45:00</td>\n",
       "      <td>Parc des Princes, Paris</td>\n",
       "      <td>Paris Saint-Germain</td>\n",
       "      <td>Bayern Munich</td>\n",
       "      <td>Dinner</td>\n",
       "      <td>1</td>\n",
       "    </tr>\n",
       "    <tr>\n",
       "      <th>3</th>\n",
       "      <td>2017-09-27 20:45:00</td>\n",
       "      <td>Parc des Princes, Paris</td>\n",
       "      <td>Paris Saint-Germain</td>\n",
       "      <td>Bayern Munich</td>\n",
       "      <td>Dinner</td>\n",
       "      <td>0</td>\n",
       "    </tr>\n",
       "    <tr>\n",
       "      <th>4</th>\n",
       "      <td>2017-10-18 20:45:00</td>\n",
       "      <td>Constant Vanden Stock Stadium, Anderlecht</td>\n",
       "      <td>Anderlecht</td>\n",
       "      <td>Paris Saint-Germain</td>\n",
       "      <td>Dinner</td>\n",
       "      <td>0</td>\n",
       "    </tr>\n",
       "    <tr>\n",
       "      <th>...</th>\n",
       "      <td>...</td>\n",
       "      <td>...</td>\n",
       "      <td>...</td>\n",
       "      <td>...</td>\n",
       "      <td>...</td>\n",
       "      <td>...</td>\n",
       "    </tr>\n",
       "    <tr>\n",
       "      <th>355</th>\n",
       "      <td>2022-08-05 21:00:00</td>\n",
       "      <td>Parc des Princes</td>\n",
       "      <td>Paris Saint-Germain</td>\n",
       "      <td>ESTAC Troyes</td>\n",
       "      <td>Dinner</td>\n",
       "      <td>0</td>\n",
       "    </tr>\n",
       "    <tr>\n",
       "      <th>356</th>\n",
       "      <td>2022-09-01 01:00:00</td>\n",
       "      <td>Groupama Stadium</td>\n",
       "      <td>Olympique Lyonnais</td>\n",
       "      <td>Paris Saint-Germain</td>\n",
       "      <td>Dinner</td>\n",
       "      <td>0</td>\n",
       "    </tr>\n",
       "    <tr>\n",
       "      <th>357</th>\n",
       "      <td>2022-09-01 01:00:00</td>\n",
       "      <td>Groupama Stadium</td>\n",
       "      <td>Olympique Lyonnais</td>\n",
       "      <td>Paris Saint-Germain</td>\n",
       "      <td>Dinner</td>\n",
       "      <td>1</td>\n",
       "    </tr>\n",
       "    <tr>\n",
       "      <th>358</th>\n",
       "      <td>2022-10-04 21:00:00</td>\n",
       "      <td>Stade Gabriel Montpied</td>\n",
       "      <td>Clermont Foot 63</td>\n",
       "      <td>Paris Saint-Germain</td>\n",
       "      <td>Dinner</td>\n",
       "      <td>0</td>\n",
       "    </tr>\n",
       "    <tr>\n",
       "      <th>359</th>\n",
       "      <td>2022-10-04 21:00:00</td>\n",
       "      <td>Stade Gabriel Montpied</td>\n",
       "      <td>Clermont Foot 63</td>\n",
       "      <td>Paris Saint-Germain</td>\n",
       "      <td>Dinner</td>\n",
       "      <td>1</td>\n",
       "    </tr>\n",
       "  </tbody>\n",
       "</table>\n",
       "<p>360 rows × 6 columns</p>\n",
       "</div>"
      ],
      "text/plain": [
       "                   date                                   Location  \\\n",
       "0   2017-05-12 20:45:00                      Allianz Arena, Munich   \n",
       "1   2017-05-12 20:45:00                      Allianz Arena, Munich   \n",
       "2   2017-09-27 20:45:00                    Parc des Princes, Paris   \n",
       "3   2017-09-27 20:45:00                    Parc des Princes, Paris   \n",
       "4   2017-10-18 20:45:00  Constant Vanden Stock Stadium, Anderlecht   \n",
       "..                  ...                                        ...   \n",
       "355 2022-08-05 21:00:00                           Parc des Princes   \n",
       "356 2022-09-01 01:00:00                           Groupama Stadium   \n",
       "357 2022-09-01 01:00:00                           Groupama Stadium   \n",
       "358 2022-10-04 21:00:00                     Stade Gabriel Montpied   \n",
       "359 2022-10-04 21:00:00                     Stade Gabriel Montpied   \n",
       "\n",
       "               Home Team            Away Team Service  Match Happening  \n",
       "0          Bayern Munich  Paris Saint-Germain  Dinner                1  \n",
       "1          Bayern Munich  Paris Saint-Germain  Dinner                0  \n",
       "2    Paris Saint-Germain        Bayern Munich  Dinner                1  \n",
       "3    Paris Saint-Germain        Bayern Munich  Dinner                0  \n",
       "4             Anderlecht  Paris Saint-Germain  Dinner                0  \n",
       "..                   ...                  ...     ...              ...  \n",
       "355  Paris Saint-Germain         ESTAC Troyes  Dinner                0  \n",
       "356   Olympique Lyonnais  Paris Saint-Germain  Dinner                0  \n",
       "357   Olympique Lyonnais  Paris Saint-Germain  Dinner                1  \n",
       "358     Clermont Foot 63  Paris Saint-Germain  Dinner                0  \n",
       "359     Clermont Foot 63  Paris Saint-Germain  Dinner                1  \n",
       "\n",
       "[360 rows x 6 columns]"
      ]
     },
     "execution_count": 386,
     "metadata": {},
     "output_type": "execute_result"
    }
   ],
   "source": [
    "newdf1.sort_values('date')"
   ]
  },
  {
   "cell_type": "code",
   "execution_count": 309,
   "id": "b7d38472",
   "metadata": {
    "ExecuteTime": {
     "end_time": "2021-08-24T08:40:04.902665Z",
     "start_time": "2021-08-24T08:40:04.868787Z"
    }
   },
   "outputs": [],
   "source": [
    "newdf1.to_csv('PSG-Matches.csv')"
   ]
  },
  {
   "cell_type": "code",
   "execution_count": 263,
   "id": "701bb1ae",
   "metadata": {
    "ExecuteTime": {
     "end_time": "2021-08-24T08:34:13.805870Z",
     "start_time": "2021-08-24T08:34:13.784860Z"
    }
   },
   "outputs": [],
   "source": [
    "import numpy as np\n",
    "newdf = pd.DataFrame(np.repeat(all_matches.values,2,axis=0))\n",
    "newdf.columns = all_matches.columns"
   ]
  },
  {
   "cell_type": "code",
   "execution_count": 264,
   "id": "339f225a",
   "metadata": {
    "ExecuteTime": {
     "end_time": "2021-08-24T08:34:16.653593Z",
     "start_time": "2021-08-24T08:34:16.626745Z"
    }
   },
   "outputs": [
    {
     "data": {
      "text/html": [
       "<div>\n",
       "<style scoped>\n",
       "    .dataframe tbody tr th:only-of-type {\n",
       "        vertical-align: middle;\n",
       "    }\n",
       "\n",
       "    .dataframe tbody tr th {\n",
       "        vertical-align: top;\n",
       "    }\n",
       "\n",
       "    .dataframe thead th {\n",
       "        text-align: right;\n",
       "    }\n",
       "</style>\n",
       "<table border=\"1\" class=\"dataframe\">\n",
       "  <thead>\n",
       "    <tr style=\"text-align: right;\">\n",
       "      <th></th>\n",
       "      <th>Location</th>\n",
       "      <th>Home Team</th>\n",
       "      <th>Away Team</th>\n",
       "      <th>Service</th>\n",
       "      <th>Match Happening</th>\n",
       "    </tr>\n",
       "  </thead>\n",
       "  <tbody>\n",
       "    <tr>\n",
       "      <th>0</th>\n",
       "      <td>Celtic Park, Glasgow</td>\n",
       "      <td>Celtic</td>\n",
       "      <td>Paris Saint-Germain</td>\n",
       "      <td>Dinner</td>\n",
       "      <td>1</td>\n",
       "    </tr>\n",
       "    <tr>\n",
       "      <th>1</th>\n",
       "      <td>Celtic Park, Glasgow</td>\n",
       "      <td>Celtic</td>\n",
       "      <td>Paris Saint-Germain</td>\n",
       "      <td>Dinner</td>\n",
       "      <td>1</td>\n",
       "    </tr>\n",
       "    <tr>\n",
       "      <th>2</th>\n",
       "      <td>Parc des Princes, Paris</td>\n",
       "      <td>Paris Saint-Germain</td>\n",
       "      <td>Bayern Munich</td>\n",
       "      <td>Dinner</td>\n",
       "      <td>1</td>\n",
       "    </tr>\n",
       "    <tr>\n",
       "      <th>3</th>\n",
       "      <td>Parc des Princes, Paris</td>\n",
       "      <td>Paris Saint-Germain</td>\n",
       "      <td>Bayern Munich</td>\n",
       "      <td>Dinner</td>\n",
       "      <td>1</td>\n",
       "    </tr>\n",
       "    <tr>\n",
       "      <th>4</th>\n",
       "      <td>Constant Vanden Stock Stadium, Anderlecht</td>\n",
       "      <td>Anderlecht</td>\n",
       "      <td>Paris Saint-Germain</td>\n",
       "      <td>Dinner</td>\n",
       "      <td>1</td>\n",
       "    </tr>\n",
       "    <tr>\n",
       "      <th>...</th>\n",
       "      <td>...</td>\n",
       "      <td>...</td>\n",
       "      <td>...</td>\n",
       "      <td>...</td>\n",
       "      <td>...</td>\n",
       "    </tr>\n",
       "    <tr>\n",
       "      <th>355</th>\n",
       "      <td>Parc des Princes</td>\n",
       "      <td>Paris Saint-Germain</td>\n",
       "      <td>ESTAC Troyes</td>\n",
       "      <td>Dinner</td>\n",
       "      <td>1</td>\n",
       "    </tr>\n",
       "    <tr>\n",
       "      <th>356</th>\n",
       "      <td>Stade de la Mosson</td>\n",
       "      <td>Montpellier Hérault SC</td>\n",
       "      <td>Paris Saint-Germain</td>\n",
       "      <td>Dinner</td>\n",
       "      <td>1</td>\n",
       "    </tr>\n",
       "    <tr>\n",
       "      <th>357</th>\n",
       "      <td>Stade de la Mosson</td>\n",
       "      <td>Montpellier Hérault SC</td>\n",
       "      <td>Paris Saint-Germain</td>\n",
       "      <td>Dinner</td>\n",
       "      <td>1</td>\n",
       "    </tr>\n",
       "    <tr>\n",
       "      <th>358</th>\n",
       "      <td>Parc des Princes</td>\n",
       "      <td>Paris Saint-Germain</td>\n",
       "      <td>FC Metz</td>\n",
       "      <td>Dinner</td>\n",
       "      <td>1</td>\n",
       "    </tr>\n",
       "    <tr>\n",
       "      <th>359</th>\n",
       "      <td>Parc des Princes</td>\n",
       "      <td>Paris Saint-Germain</td>\n",
       "      <td>FC Metz</td>\n",
       "      <td>Dinner</td>\n",
       "      <td>1</td>\n",
       "    </tr>\n",
       "  </tbody>\n",
       "</table>\n",
       "<p>360 rows × 5 columns</p>\n",
       "</div>"
      ],
      "text/plain": [
       "                                      Location               Home Team  \\\n",
       "0                         Celtic Park, Glasgow                  Celtic   \n",
       "1                         Celtic Park, Glasgow                  Celtic   \n",
       "2                      Parc des Princes, Paris     Paris Saint-Germain   \n",
       "3                      Parc des Princes, Paris     Paris Saint-Germain   \n",
       "4    Constant Vanden Stock Stadium, Anderlecht              Anderlecht   \n",
       "..                                         ...                     ...   \n",
       "355                           Parc des Princes     Paris Saint-Germain   \n",
       "356                         Stade de la Mosson  Montpellier Hérault SC   \n",
       "357                         Stade de la Mosson  Montpellier Hérault SC   \n",
       "358                           Parc des Princes     Paris Saint-Germain   \n",
       "359                           Parc des Princes     Paris Saint-Germain   \n",
       "\n",
       "               Away Team Service Match Happening  \n",
       "0    Paris Saint-Germain  Dinner               1  \n",
       "1    Paris Saint-Germain  Dinner               1  \n",
       "2          Bayern Munich  Dinner               1  \n",
       "3          Bayern Munich  Dinner               1  \n",
       "4    Paris Saint-Germain  Dinner               1  \n",
       "..                   ...     ...             ...  \n",
       "355         ESTAC Troyes  Dinner               1  \n",
       "356  Paris Saint-Germain  Dinner               1  \n",
       "357  Paris Saint-Germain  Dinner               1  \n",
       "358              FC Metz  Dinner               1  \n",
       "359              FC Metz  Dinner               1  \n",
       "\n",
       "[360 rows x 5 columns]"
      ]
     },
     "execution_count": 264,
     "metadata": {},
     "output_type": "execute_result"
    }
   ],
   "source": [
    "newdf"
   ]
  },
  {
   "cell_type": "code",
   "execution_count": null,
   "id": "81ae2426",
   "metadata": {},
   "outputs": [],
   "source": []
  }
 ],
 "metadata": {
  "kernelspec": {
   "display_name": "Python 3 (ipykernel)",
   "language": "python",
   "name": "python3"
  },
  "language_info": {
   "codemirror_mode": {
    "name": "ipython",
    "version": 3
   },
   "file_extension": ".py",
   "mimetype": "text/x-python",
   "name": "python",
   "nbconvert_exporter": "python",
   "pygments_lexer": "ipython3",
   "version": "3.8.6"
  },
  "toc": {
   "base_numbering": 1,
   "nav_menu": {},
   "number_sections": true,
   "sideBar": true,
   "skip_h1_title": false,
   "title_cell": "Table of Contents",
   "title_sidebar": "Contents",
   "toc_cell": false,
   "toc_position": {},
   "toc_section_display": true,
   "toc_window_display": false
  }
 },
 "nbformat": 4,
 "nbformat_minor": 5
}
