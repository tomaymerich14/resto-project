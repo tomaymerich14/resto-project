{
 "cells": [
  {
   "cell_type": "code",
   "execution_count": 1,
   "id": "aa22201c",
   "metadata": {},
   "outputs": [],
   "source": [
    "import pandas as pd\n",
    "import numpy as np\n",
    "import matplotlib.pyplot as plt\n",
    "import seaborn as sns"
   ]
  },
  {
   "cell_type": "code",
   "execution_count": 16,
   "id": "d21a2085",
   "metadata": {},
   "outputs": [
    {
     "name": "stdout",
     "output_type": "stream",
     "text": [
      "Requirement already satisfied: openpyxl in /Users/tomaymerich/.pyenv/versions/3.8.6/envs/lewagon/lib/python3.8/site-packages (3.0.7)\r\n",
      "Requirement already satisfied: et-xmlfile in /Users/tomaymerich/.pyenv/versions/3.8.6/envs/lewagon/lib/python3.8/site-packages (from openpyxl) (1.1.0)\r\n"
     ]
    }
   ],
   "source": [
    "! pip install openpyxl"
   ]
  },
  {
   "cell_type": "code",
   "execution_count": 17,
   "id": "e13e9a5a",
   "metadata": {},
   "outputs": [],
   "source": [
    "excel = pd.read_excel('/Users/tomaymerich/Downloads/events_daroco.xlsx')"
   ]
  },
  {
   "cell_type": "code",
   "execution_count": 18,
   "id": "b58c9488",
   "metadata": {},
   "outputs": [
    {
     "data": {
      "text/plain": [
       "1886"
      ]
     },
     "execution_count": 18,
     "metadata": {},
     "output_type": "execute_result"
    }
   ],
   "source": [
    "events = pd.DataFrame(np.repeat(excel.values,2,axis=0),columns=['date','match_edf','match_psg','roland_garros','fashion_week'])\n",
    "\n",
    "events.shape[0]"
   ]
  },
  {
   "cell_type": "code",
   "execution_count": 19,
   "id": "24a4d4a8",
   "metadata": {},
   "outputs": [
    {
     "data": {
      "text/plain": [
       "56"
      ]
     },
     "execution_count": 19,
     "metadata": {},
     "output_type": "execute_result"
    }
   ],
   "source": [
    "events['match_edf'].sum()"
   ]
  },
  {
   "cell_type": "code",
   "execution_count": 20,
   "id": "f17c9c8f",
   "metadata": {},
   "outputs": [
    {
     "data": {
      "text/plain": [
       "0"
      ]
     },
     "execution_count": 20,
     "metadata": {},
     "output_type": "execute_result"
    }
   ],
   "source": [
    "events['match_edf'][0]"
   ]
  },
  {
   "cell_type": "code",
   "execution_count": 21,
   "id": "5d36a7c4",
   "metadata": {},
   "outputs": [
    {
     "name": "stderr",
     "output_type": "stream",
     "text": [
      "/var/folders/gq/kdywklvn2c90t1ybrvvvkgl40000gn/T/ipykernel_69036/2013969633.py:3: SettingWithCopyWarning: \n",
      "A value is trying to be set on a copy of a slice from a DataFrame\n",
      "\n",
      "See the caveats in the documentation: https://pandas.pydata.org/pandas-docs/stable/user_guide/indexing.html#returning-a-view-versus-a-copy\n",
      "  events['match_edf'][i-1]=0\n"
     ]
    }
   ],
   "source": [
    "for i in range(events.shape[0]): \n",
    "    if events['match_edf'][i] ==1:\n",
    "        events['match_edf'][i-1]=0\n"
   ]
  },
  {
   "cell_type": "code",
   "execution_count": 22,
   "id": "5be924ab",
   "metadata": {},
   "outputs": [
    {
     "data": {
      "text/plain": [
       "28"
      ]
     },
     "execution_count": 22,
     "metadata": {},
     "output_type": "execute_result"
    }
   ],
   "source": [
    "events['match_edf'].sum()"
   ]
  },
  {
   "cell_type": "code",
   "execution_count": 23,
   "id": "e0417f60",
   "metadata": {},
   "outputs": [],
   "source": [
    "events =events.drop(columns='match_psg')"
   ]
  },
  {
   "cell_type": "code",
   "execution_count": 32,
   "id": "01dda1d4",
   "metadata": {},
   "outputs": [],
   "source": [
    "events['service']='soir'"
   ]
  },
  {
   "cell_type": "code",
   "execution_count": 33,
   "id": "3974fe6b",
   "metadata": {},
   "outputs": [
    {
     "name": "stderr",
     "output_type": "stream",
     "text": [
      "/var/folders/gq/kdywklvn2c90t1ybrvvvkgl40000gn/T/ipykernel_69036/3319584676.py:2: SettingWithCopyWarning: \n",
      "A value is trying to be set on a copy of a slice from a DataFrame\n",
      "\n",
      "See the caveats in the documentation: https://pandas.pydata.org/pandas-docs/stable/user_guide/indexing.html#returning-a-view-versus-a-copy\n",
      "  events['service'][i]='midi'\n"
     ]
    }
   ],
   "source": [
    "for i in np.linspace(0,1884,943): \n",
    "    events['service'][i]='midi'"
   ]
  },
  {
   "cell_type": "code",
   "execution_count": 34,
   "id": "feb9ccfe",
   "metadata": {},
   "outputs": [
    {
     "data": {
      "text/html": [
       "<div>\n",
       "<style scoped>\n",
       "    .dataframe tbody tr th:only-of-type {\n",
       "        vertical-align: middle;\n",
       "    }\n",
       "\n",
       "    .dataframe tbody tr th {\n",
       "        vertical-align: top;\n",
       "    }\n",
       "\n",
       "    .dataframe thead th {\n",
       "        text-align: right;\n",
       "    }\n",
       "</style>\n",
       "<table border=\"1\" class=\"dataframe\">\n",
       "  <thead>\n",
       "    <tr style=\"text-align: right;\">\n",
       "      <th></th>\n",
       "      <th>date</th>\n",
       "      <th>service</th>\n",
       "      <th>match_edf</th>\n",
       "      <th>roland_garros</th>\n",
       "      <th>fashion_week</th>\n",
       "    </tr>\n",
       "  </thead>\n",
       "  <tbody>\n",
       "    <tr>\n",
       "      <th>0</th>\n",
       "      <td>2019-01-01</td>\n",
       "      <td>midi</td>\n",
       "      <td>0</td>\n",
       "      <td>0</td>\n",
       "      <td>0</td>\n",
       "    </tr>\n",
       "    <tr>\n",
       "      <th>1</th>\n",
       "      <td>2019-01-01</td>\n",
       "      <td>soir</td>\n",
       "      <td>0</td>\n",
       "      <td>0</td>\n",
       "      <td>0</td>\n",
       "    </tr>\n",
       "    <tr>\n",
       "      <th>2</th>\n",
       "      <td>2019-01-02</td>\n",
       "      <td>midi</td>\n",
       "      <td>0</td>\n",
       "      <td>0</td>\n",
       "      <td>0</td>\n",
       "    </tr>\n",
       "    <tr>\n",
       "      <th>3</th>\n",
       "      <td>2019-01-02</td>\n",
       "      <td>soir</td>\n",
       "      <td>0</td>\n",
       "      <td>0</td>\n",
       "      <td>0</td>\n",
       "    </tr>\n",
       "    <tr>\n",
       "      <th>4</th>\n",
       "      <td>2019-01-03</td>\n",
       "      <td>midi</td>\n",
       "      <td>0</td>\n",
       "      <td>0</td>\n",
       "      <td>0</td>\n",
       "    </tr>\n",
       "    <tr>\n",
       "      <th>...</th>\n",
       "      <td>...</td>\n",
       "      <td>...</td>\n",
       "      <td>...</td>\n",
       "      <td>...</td>\n",
       "      <td>...</td>\n",
       "    </tr>\n",
       "    <tr>\n",
       "      <th>1881</th>\n",
       "      <td>2021-07-29</td>\n",
       "      <td>soir</td>\n",
       "      <td>0</td>\n",
       "      <td>0</td>\n",
       "      <td>0</td>\n",
       "    </tr>\n",
       "    <tr>\n",
       "      <th>1882</th>\n",
       "      <td>2021-07-30</td>\n",
       "      <td>midi</td>\n",
       "      <td>0</td>\n",
       "      <td>0</td>\n",
       "      <td>0</td>\n",
       "    </tr>\n",
       "    <tr>\n",
       "      <th>1883</th>\n",
       "      <td>2021-07-30</td>\n",
       "      <td>soir</td>\n",
       "      <td>0</td>\n",
       "      <td>0</td>\n",
       "      <td>0</td>\n",
       "    </tr>\n",
       "    <tr>\n",
       "      <th>1884</th>\n",
       "      <td>2021-07-31</td>\n",
       "      <td>midi</td>\n",
       "      <td>0</td>\n",
       "      <td>0</td>\n",
       "      <td>0</td>\n",
       "    </tr>\n",
       "    <tr>\n",
       "      <th>1885</th>\n",
       "      <td>2021-07-31</td>\n",
       "      <td>soir</td>\n",
       "      <td>0</td>\n",
       "      <td>0</td>\n",
       "      <td>0</td>\n",
       "    </tr>\n",
       "  </tbody>\n",
       "</table>\n",
       "<p>1886 rows × 5 columns</p>\n",
       "</div>"
      ],
      "text/plain": [
       "           date service match_edf roland_garros fashion_week\n",
       "0    2019-01-01    midi         0             0            0\n",
       "1    2019-01-01    soir         0             0            0\n",
       "2    2019-01-02    midi         0             0            0\n",
       "3    2019-01-02    soir         0             0            0\n",
       "4    2019-01-03    midi         0             0            0\n",
       "...         ...     ...       ...           ...          ...\n",
       "1881 2021-07-29    soir         0             0            0\n",
       "1882 2021-07-30    midi         0             0            0\n",
       "1883 2021-07-30    soir         0             0            0\n",
       "1884 2021-07-31    midi         0             0            0\n",
       "1885 2021-07-31    soir         0             0            0\n",
       "\n",
       "[1886 rows x 5 columns]"
      ]
     },
     "execution_count": 34,
     "metadata": {},
     "output_type": "execute_result"
    }
   ],
   "source": [
    "events"
   ]
  },
  {
   "cell_type": "code",
   "execution_count": 35,
   "id": "3e7f3771",
   "metadata": {},
   "outputs": [],
   "source": [
    "events = events[['date','service','match_edf','roland_garros','fashion_week']]"
   ]
  },
  {
   "cell_type": "code",
   "execution_count": 36,
   "id": "47ddefd5",
   "metadata": {},
   "outputs": [],
   "source": [
    "events.to_csv('events.csv', index=False)"
   ]
  },
  {
   "cell_type": "code",
   "execution_count": null,
   "id": "32313f0c",
   "metadata": {},
   "outputs": [],
   "source": []
  }
 ],
 "metadata": {
  "kernelspec": {
   "display_name": "Python 3 (ipykernel)",
   "language": "python",
   "name": "python3"
  },
  "language_info": {
   "codemirror_mode": {
    "name": "ipython",
    "version": 3
   },
   "file_extension": ".py",
   "mimetype": "text/x-python",
   "name": "python",
   "nbconvert_exporter": "python",
   "pygments_lexer": "ipython3",
   "version": "3.8.6"
  },
  "toc": {
   "base_numbering": 1,
   "nav_menu": {},
   "number_sections": true,
   "sideBar": true,
   "skip_h1_title": false,
   "title_cell": "Table of Contents",
   "title_sidebar": "Contents",
   "toc_cell": false,
   "toc_position": {},
   "toc_section_display": true,
   "toc_window_display": false
  }
 },
 "nbformat": 4,
 "nbformat_minor": 5
}
