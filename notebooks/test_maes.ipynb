{
 "cells": [
  {
   "cell_type": "code",
   "execution_count": 1,
   "source": [
    "import pandas as pd"
   ],
   "outputs": [],
   "metadata": {}
  },
  {
   "cell_type": "code",
   "execution_count": 2,
   "source": [
    "pd.read_csv('../raw_data/service_maes.csv')"
   ],
   "outputs": [
    {
     "output_type": "execute_result",
     "data": {
      "text/plain": [
       "   Unnamed: 0         soir        midi\n",
       "0           0  1497.918785  780.559629"
      ],
      "text/html": [
       "<div>\n",
       "<style scoped>\n",
       "    .dataframe tbody tr th:only-of-type {\n",
       "        vertical-align: middle;\n",
       "    }\n",
       "\n",
       "    .dataframe tbody tr th {\n",
       "        vertical-align: top;\n",
       "    }\n",
       "\n",
       "    .dataframe thead th {\n",
       "        text-align: right;\n",
       "    }\n",
       "</style>\n",
       "<table border=\"1\" class=\"dataframe\">\n",
       "  <thead>\n",
       "    <tr style=\"text-align: right;\">\n",
       "      <th></th>\n",
       "      <th>Unnamed: 0</th>\n",
       "      <th>soir</th>\n",
       "      <th>midi</th>\n",
       "    </tr>\n",
       "  </thead>\n",
       "  <tbody>\n",
       "    <tr>\n",
       "      <th>0</th>\n",
       "      <td>0</td>\n",
       "      <td>1497.918785</td>\n",
       "      <td>780.559629</td>\n",
       "    </tr>\n",
       "  </tbody>\n",
       "</table>\n",
       "</div>"
      ]
     },
     "metadata": {},
     "execution_count": 2
    }
   ],
   "metadata": {}
  },
  {
   "cell_type": "code",
   "execution_count": 3,
   "source": [
    "pd.read_csv('../raw_data/daily_service_maes.csv')"
   ],
   "outputs": [
    {
     "output_type": "execute_result",
     "data": {
      "text/plain": [
       "   Unnamed: 0  Lundi soir   Mardi soir  Mercredi soir   Jeudi soir  \\\n",
       "0           0  1429.13685  1400.584014     1442.13875  1506.434001   \n",
       "\n",
       "   Vendredi soir  Samedi soir  Dimanche soir  Lundi midi  Mardi midi  \\\n",
       "0    1660.966971  1467.436676     1575.65145   737.55459  644.640393   \n",
       "\n",
       "   Mercredi midi  Jeudi midi  Vendredi midi  Samedi midi  Dimanche midi  \n",
       "0     671.295358  733.324483     739.350034   966.194917     974.149546  "
      ],
      "text/html": [
       "<div>\n",
       "<style scoped>\n",
       "    .dataframe tbody tr th:only-of-type {\n",
       "        vertical-align: middle;\n",
       "    }\n",
       "\n",
       "    .dataframe tbody tr th {\n",
       "        vertical-align: top;\n",
       "    }\n",
       "\n",
       "    .dataframe thead th {\n",
       "        text-align: right;\n",
       "    }\n",
       "</style>\n",
       "<table border=\"1\" class=\"dataframe\">\n",
       "  <thead>\n",
       "    <tr style=\"text-align: right;\">\n",
       "      <th></th>\n",
       "      <th>Unnamed: 0</th>\n",
       "      <th>Lundi soir</th>\n",
       "      <th>Mardi soir</th>\n",
       "      <th>Mercredi soir</th>\n",
       "      <th>Jeudi soir</th>\n",
       "      <th>Vendredi soir</th>\n",
       "      <th>Samedi soir</th>\n",
       "      <th>Dimanche soir</th>\n",
       "      <th>Lundi midi</th>\n",
       "      <th>Mardi midi</th>\n",
       "      <th>Mercredi midi</th>\n",
       "      <th>Jeudi midi</th>\n",
       "      <th>Vendredi midi</th>\n",
       "      <th>Samedi midi</th>\n",
       "      <th>Dimanche midi</th>\n",
       "    </tr>\n",
       "  </thead>\n",
       "  <tbody>\n",
       "    <tr>\n",
       "      <th>0</th>\n",
       "      <td>0</td>\n",
       "      <td>1429.13685</td>\n",
       "      <td>1400.584014</td>\n",
       "      <td>1442.13875</td>\n",
       "      <td>1506.434001</td>\n",
       "      <td>1660.966971</td>\n",
       "      <td>1467.436676</td>\n",
       "      <td>1575.65145</td>\n",
       "      <td>737.55459</td>\n",
       "      <td>644.640393</td>\n",
       "      <td>671.295358</td>\n",
       "      <td>733.324483</td>\n",
       "      <td>739.350034</td>\n",
       "      <td>966.194917</td>\n",
       "      <td>974.149546</td>\n",
       "    </tr>\n",
       "  </tbody>\n",
       "</table>\n",
       "</div>"
      ]
     },
     "metadata": {},
     "execution_count": 3
    }
   ],
   "metadata": {}
  },
  {
   "cell_type": "code",
   "execution_count": 4,
   "source": [
    "pd.read_csv('../raw_data/daily_maes.csv')"
   ],
   "outputs": [
    {
     "output_type": "execute_result",
     "data": {
      "text/plain": [
       "   Unnamed: 0        Lundi        Mardi     Mercredi        Jeudi  \\\n",
       "0           0  1079.416276  1022.612204  1063.176635  1122.063167   \n",
       "\n",
       "      Vendredi       Samedi     Dimanche  \n",
       "0  1205.278597  1216.815797  1276.619075  "
      ],
      "text/html": [
       "<div>\n",
       "<style scoped>\n",
       "    .dataframe tbody tr th:only-of-type {\n",
       "        vertical-align: middle;\n",
       "    }\n",
       "\n",
       "    .dataframe tbody tr th {\n",
       "        vertical-align: top;\n",
       "    }\n",
       "\n",
       "    .dataframe thead th {\n",
       "        text-align: right;\n",
       "    }\n",
       "</style>\n",
       "<table border=\"1\" class=\"dataframe\">\n",
       "  <thead>\n",
       "    <tr style=\"text-align: right;\">\n",
       "      <th></th>\n",
       "      <th>Unnamed: 0</th>\n",
       "      <th>Lundi</th>\n",
       "      <th>Mardi</th>\n",
       "      <th>Mercredi</th>\n",
       "      <th>Jeudi</th>\n",
       "      <th>Vendredi</th>\n",
       "      <th>Samedi</th>\n",
       "      <th>Dimanche</th>\n",
       "    </tr>\n",
       "  </thead>\n",
       "  <tbody>\n",
       "    <tr>\n",
       "      <th>0</th>\n",
       "      <td>0</td>\n",
       "      <td>1079.416276</td>\n",
       "      <td>1022.612204</td>\n",
       "      <td>1063.176635</td>\n",
       "      <td>1122.063167</td>\n",
       "      <td>1205.278597</td>\n",
       "      <td>1216.815797</td>\n",
       "      <td>1276.619075</td>\n",
       "    </tr>\n",
       "  </tbody>\n",
       "</table>\n",
       "</div>"
      ]
     },
     "metadata": {},
     "execution_count": 4
    }
   ],
   "metadata": {}
  },
  {
   "cell_type": "code",
   "execution_count": null,
   "source": [],
   "outputs": [],
   "metadata": {}
  }
 ],
 "metadata": {
  "kernelspec": {
   "name": "python3",
   "display_name": "Python 3.8.6 64-bit ('resto-project')"
  },
  "language_info": {
   "codemirror_mode": {
    "name": "ipython",
    "version": 3
   },
   "file_extension": ".py",
   "mimetype": "text/x-python",
   "name": "python",
   "nbconvert_exporter": "python",
   "pygments_lexer": "ipython3",
   "version": "3.8.6"
  },
  "toc": {
   "base_numbering": 1,
   "nav_menu": {},
   "number_sections": true,
   "sideBar": true,
   "skip_h1_title": false,
   "title_cell": "Table of Contents",
   "title_sidebar": "Contents",
   "toc_cell": false,
   "toc_position": {},
   "toc_section_display": true,
   "toc_window_display": false
  },
  "interpreter": {
   "hash": "1eeb07272b1bd4b4652b1105ef570fc22f1275f3e1d75f724a9560845dc8c127"
  }
 },
 "nbformat": 4,
 "nbformat_minor": 5
}