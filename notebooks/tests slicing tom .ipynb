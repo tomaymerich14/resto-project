{
 "cells": [
  {
   "cell_type": "code",
   "execution_count": 1,
   "id": "f35832ea",
   "metadata": {},
   "outputs": [],
   "source": [
    "import pandas as pd\n",
    "import numpy as np\n",
    "import matplotlib.pyplot as plt\n",
    "import seaborn as sns"
   ]
  },
  {
   "cell_type": "code",
   "execution_count": 2,
   "id": "98f7dc1c",
   "metadata": {},
   "outputs": [],
   "source": [
    "df_d2 = pd.read_csv('/Users/tomaymerich/code/tomaymerich14/resto-project/raw_data/df_dBourse.csv')\n",
    "df_d16 =pd.read_csv('/Users/tomaymerich/code/tomaymerich14/resto-project/raw_data/df_DXVI.csv')"
   ]
  },
  {
   "cell_type": "code",
   "execution_count": 3,
   "id": "753bfee3",
   "metadata": {},
   "outputs": [],
   "source": [
    "df_d2 = df_d2.drop(columns=['CA_HT', 'TVA'])"
   ]
  },
  {
   "cell_type": "code",
   "execution_count": 4,
   "id": "b29da587",
   "metadata": {},
   "outputs": [],
   "source": [
    "df_d16 = df_d16.drop(columns=['CA_HT', 'TVA'])"
   ]
  },
  {
   "cell_type": "code",
   "execution_count": 6,
   "id": "9be2c06d",
   "metadata": {},
   "outputs": [
    {
     "data": {
      "text/plain": [
       "(array([ 39., 120., 199., 117.,  91.,  99.,  77.,  39.,  11.,   5.]),\n",
       " array([  740.5 ,  1852.45,  2964.4 ,  4076.35,  5188.3 ,  6300.25,\n",
       "         7412.2 ,  8524.15,  9636.1 , 10748.05, 11860.  ]),\n",
       " <BarContainer object of 10 artists>)"
      ]
     },
     "execution_count": 6,
     "metadata": {},
     "output_type": "execute_result"
    },
    {
     "data": {
      "image/png": "[encoded data removed]",
      "text/plain": [
       "<Figure size 432x288 with 1 Axes>"
      ]
     },
     "metadata": {
      "needs_background": "light"
     },
     "output_type": "display_data"
    }
   ],
   "source": []
  },
  {
   "cell_type": "code",
   "execution_count": null,
   "id": "96fa9a13",
   "metadata": {},
   "outputs": [],
   "source": []
  }
 ],
 "metadata": {
  "kernelspec": {
   "display_name": "Python 3 (ipykernel)",
   "language": "python",
   "name": "python3"
  },
  "language_info": {
   "codemirror_mode": {
    "name": "ipython",
    "version": 3
   },
   "file_extension": ".py",
   "mimetype": "text/x-python",
   "name": "python",
   "nbconvert_exporter": "python",
   "pygments_lexer": "ipython3",
   "version": "3.8.6"
  },
  "toc": {
   "base_numbering": 1,
   "nav_menu": {},
   "number_sections": true,
   "sideBar": true,
   "skip_h1_title": false,
   "title_cell": "Table of Contents",
   "title_sidebar": "Contents",
   "toc_cell": false,
   "toc_position": {},
   "toc_section_display": true,
   "toc_window_display": false
  }
 },
 "nbformat": 4,
 "nbformat_minor": 5
}
