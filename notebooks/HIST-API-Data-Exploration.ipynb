{
 "cells": [
  {
   "cell_type": "markdown",
   "id": "6275d998",
   "metadata": {
    "ExecuteTime": {
     "end_time": "2021-08-22T16:15:34.224835Z",
     "start_time": "2021-08-22T16:15:34.217933Z"
    },
    "heading_collapsed": true
   },
   "source": [
    "# Historical Data"
   ]
  },
  {
   "cell_type": "code",
   "execution_count": null,
   "id": "a7134650",
   "metadata": {
    "hidden": true
   },
   "outputs": [],
   "source": [
    "import pandas as pd"
   ]
  },
  {
   "cell_type": "code",
   "execution_count": 417,
   "id": "20a45a7a",
   "metadata": {
    "ExecuteTime": {
     "end_time": "2021-08-23T12:19:07.320198Z",
     "start_time": "2021-08-23T12:19:06.966005Z"
    },
    "hidden": true
   },
   "outputs": [],
   "source": [
    "historical_data = pd.read_csv('/Users/monmac/Desktop/448f97988afe977af36cfc73cde95211.csv')"
   ]
  },
  {
   "cell_type": "code",
   "execution_count": 459,
   "id": "a24e5c91",
   "metadata": {
    "ExecuteTime": {
     "end_time": "2021-08-23T12:39:50.930946Z",
     "start_time": "2021-08-23T12:39:50.868751Z"
    },
    "hidden": true
   },
   "outputs": [],
   "source": [
    "historical_data.isnull().sum();"
   ]
  },
  {
   "cell_type": "code",
   "execution_count": 437,
   "id": "39cd26d8",
   "metadata": {
    "ExecuteTime": {
     "end_time": "2021-08-23T12:23:28.218128Z",
     "start_time": "2021-08-23T12:23:28.211152Z"
    },
    "hidden": true
   },
   "outputs": [
    {
     "data": {
      "text/plain": [
       "Timestamp('2021-08-19 07:00:00')"
      ]
     },
     "execution_count": 437,
     "metadata": {},
     "output_type": "execute_result"
    }
   ],
   "source": [
    "pd.to_datetime(1629356400, unit='s')"
   ]
  },
  {
   "cell_type": "code",
   "execution_count": 421,
   "id": "8905a752",
   "metadata": {
    "ExecuteTime": {
     "end_time": "2021-08-23T12:19:08.914629Z",
     "start_time": "2021-08-23T12:19:08.907183Z"
    },
    "hidden": true
   },
   "outputs": [
    {
     "data": {
      "text/plain": [
       "90637"
      ]
     },
     "execution_count": 421,
     "metadata": {},
     "output_type": "execute_result"
    }
   ],
   "source": [
    "historical_data['rain_1h'].isnull().sum()"
   ]
  },
  {
   "cell_type": "code",
   "execution_count": 458,
   "id": "e22b3f80",
   "metadata": {
    "ExecuteTime": {
     "end_time": "2021-08-23T12:39:47.399114Z",
     "start_time": "2021-08-23T12:39:47.381832Z"
    },
    "hidden": true
   },
   "outputs": [],
   "source": [
    "historical_data['weather_main'].value_counts();"
   ]
  },
  {
   "cell_type": "code",
   "execution_count": 423,
   "id": "133aaf8c",
   "metadata": {
    "ExecuteTime": {
     "end_time": "2021-08-23T12:19:09.695807Z",
     "start_time": "2021-08-23T12:19:09.691478Z"
    },
    "hidden": true
   },
   "outputs": [],
   "source": [
    "possible_conditions = ['Clear', 'Clouds', 'Rain', 'Mist', 'Drizzle', 'Fog', 'Snow', 'Thunderstorm', 'Haze']"
   ]
  },
  {
   "cell_type": "code",
   "execution_count": 457,
   "id": "1cd1258d",
   "metadata": {
    "ExecuteTime": {
     "end_time": "2021-08-23T12:39:43.149534Z",
     "start_time": "2021-08-23T12:39:43.144427Z"
    },
    "hidden": true
   },
   "outputs": [],
   "source": [
    "historical_data['weather_description'];"
   ]
  },
  {
   "cell_type": "code",
   "execution_count": 456,
   "id": "b3ab77cb",
   "metadata": {
    "ExecuteTime": {
     "end_time": "2021-08-23T12:39:38.558580Z",
     "start_time": "2021-08-23T12:39:38.542131Z"
    },
    "hidden": true
   },
   "outputs": [],
   "source": [
    "historical_data.dtypes;"
   ]
  },
  {
   "cell_type": "code",
   "execution_count": 441,
   "id": "a472b369",
   "metadata": {
    "ExecuteTime": {
     "end_time": "2021-08-23T12:24:36.534877Z",
     "start_time": "2021-08-23T12:24:36.503365Z"
    },
    "hidden": true
   },
   "outputs": [],
   "source": [
    "historical_data['dt'] = pd.to_datetime(historical_data['dt'], unit='s')\n",
    "historical_data = historical_data.set_index('dt')"
   ]
  },
  {
   "cell_type": "code",
   "execution_count": 452,
   "id": "d229f9a1",
   "metadata": {
    "ExecuteTime": {
     "end_time": "2021-08-23T12:27:37.529489Z",
     "start_time": "2021-08-23T12:27:37.489226Z"
    },
    "hidden": true
   },
   "outputs": [],
   "source": [
    "lunch = historical_data[historical_data.index[:].hour==12]\n",
    "dinner = historical_data[historical_data.index[:].hour==18]\n",
    "historical_services = pd.concat([lunch, dinner])\n",
    "historical_services = historical_services.sort_values('dt')"
   ]
  },
  {
   "cell_type": "code",
   "execution_count": 460,
   "id": "0c992edf",
   "metadata": {
    "ExecuteTime": {
     "end_time": "2021-08-23T12:40:02.966937Z",
     "start_time": "2021-08-23T12:40:02.962701Z"
    },
    "hidden": true,
    "scrolled": true
   },
   "outputs": [],
   "source": [
    "historical_services;"
   ]
  },
  {
   "cell_type": "markdown",
   "id": "79f7f890",
   "metadata": {
    "heading_collapsed": true
   },
   "source": [
    "#   Forecast using API"
   ]
  },
  {
   "cell_type": "code",
   "execution_count": 484,
   "id": "0042bbc2",
   "metadata": {
    "ExecuteTime": {
     "end_time": "2021-08-23T13:20:07.673410Z",
     "start_time": "2021-08-23T13:20:07.656400Z"
    },
    "hidden": true
   },
   "outputs": [],
   "source": [
    "import requests\n",
    "\n",
    "def fetch_data(api,city,nodays):\n",
    "    \"\"\"\n",
    "    Get weather data from weather API. Returns empty string if data not found'\n",
    "\n",
    "    \"\"\"\n",
    "    #api = '7aa7fc7be1af4500882144440212208'\n",
    "    #city = 'Paris'\n",
    "    #nodays = '7'\n",
    "    url = f'http://api.weatherapi.com/v1/forecast.json?key={api}&q={city}&days={nodays}&aqi=no&alerts=no'\n",
    "\n",
    "    response = requests.get(url)\n",
    "    \n",
    "    if response.status_code != 200:\n",
    "        return ''\n",
    "    data = response.json()\n",
    "    return data['forecast']['forecastday']"
   ]
  },
  {
   "cell_type": "code",
   "execution_count": 485,
   "id": "ce0e786f",
   "metadata": {
    "ExecuteTime": {
     "end_time": "2021-08-23T13:20:09.384787Z",
     "start_time": "2021-08-23T13:20:09.247925Z"
    },
    "hidden": true
   },
   "outputs": [],
   "source": [
    "data=fetch_data('7aa7fc7be1af4500882144440212208','Paris','3')"
   ]
  },
  {
   "cell_type": "code",
   "execution_count": 486,
   "id": "0c046192",
   "metadata": {
    "ExecuteTime": {
     "end_time": "2021-08-23T13:20:10.021643Z",
     "start_time": "2021-08-23T13:20:09.991099Z"
    },
    "hidden": true
   },
   "outputs": [
    {
     "data": {
      "text/html": [
       "<div>\n",
       "<style scoped>\n",
       "    .dataframe tbody tr th:only-of-type {\n",
       "        vertical-align: middle;\n",
       "    }\n",
       "\n",
       "    .dataframe tbody tr th {\n",
       "        vertical-align: top;\n",
       "    }\n",
       "\n",
       "    .dataframe thead th {\n",
       "        text-align: right;\n",
       "    }\n",
       "</style>\n",
       "<table border=\"1\" class=\"dataframe\">\n",
       "  <thead>\n",
       "    <tr style=\"text-align: right;\">\n",
       "      <th></th>\n",
       "      <th>text</th>\n",
       "    </tr>\n",
       "  </thead>\n",
       "  <tbody>\n",
       "    <tr>\n",
       "      <th>maxtemp_c</th>\n",
       "      <td>22.2</td>\n",
       "    </tr>\n",
       "    <tr>\n",
       "      <th>maxtemp_f</th>\n",
       "      <td>72.0</td>\n",
       "    </tr>\n",
       "    <tr>\n",
       "      <th>mintemp_c</th>\n",
       "      <td>15.7</td>\n",
       "    </tr>\n",
       "  </tbody>\n",
       "</table>\n",
       "</div>"
      ],
      "text/plain": [
       "           text\n",
       "maxtemp_c  22.2\n",
       "maxtemp_f  72.0\n",
       "mintemp_c  15.7"
      ]
     },
     "execution_count": 486,
     "metadata": {},
     "output_type": "execute_result"
    }
   ],
   "source": [
    "daily_data = pd.DataFrame(data[0]['day']).iloc[2,:]\n",
    "pd.DataFrame(daily_data).head(3)"
   ]
  },
  {
   "cell_type": "code",
   "execution_count": 472,
   "id": "bbb1a37f",
   "metadata": {
    "ExecuteTime": {
     "end_time": "2021-08-23T12:42:52.626876Z",
     "start_time": "2021-08-23T12:42:52.603359Z"
    },
    "hidden": true,
    "scrolled": true
   },
   "outputs": [
    {
     "name": "stderr",
     "output_type": "stream",
     "text": [
      "/var/folders/p2/6ddwj2812811pbqjm8t6brv80000gn/T/ipykernel_67780/332607310.py:6: SettingWithCopyWarning: \n",
      "A value is trying to be set on a copy of a slice from a DataFrame\n",
      "\n",
      "See the caveats in the documentation: https://pandas.pydata.org/pandas-docs/stable/user_guide/indexing.html#returning-a-view-versus-a-copy\n",
      "  daily_hourly_data['condition'][i]=daily_hourly_data['condition'][i]['text']\n"
     ]
    }
   ],
   "source": [
    "### gives the weather hour by hour for the entire first day###\n",
    "\n",
    "daily_hourly_data = pd.DataFrame(data[0]['hour'])\n",
    "#condition has a code and an image, the code below only keeps the needed weather state\n",
    "for i in range(len(daily_hourly_data)):\n",
    "    daily_hourly_data['condition'][i]=daily_hourly_data['condition'][i]['text']"
   ]
  },
  {
   "cell_type": "code",
   "execution_count": 473,
   "id": "d6a136f3",
   "metadata": {
    "ExecuteTime": {
     "end_time": "2021-08-23T12:42:52.709255Z",
     "start_time": "2021-08-23T12:42:52.683209Z"
    },
    "hidden": true
   },
   "outputs": [],
   "source": [
    "#condition is given as three values this keeps only one\n",
    "data_series=[]\n",
    "for i in range(3):\n",
    "    data_series.append(data[i]['hour'])\n",
    "\n",
    "#condition has a code and an image, the code below only keeps the needed weather state\n",
    "for x in range(3):\n",
    "    for y in range(24):\n",
    "        data_series[x][y]['condition']=data_series[x][y]['condition']['text']\n",
    "\n",
    "d={}\n",
    "for i in range(len(data_series)):\n",
    "    d[i] = pd.DataFrame(data_series[i])\n",
    "\n",
    "seven_day_forecast = pd.concat([d[i] for i in range(len(data_series))])"
   ]
  },
  {
   "cell_type": "code",
   "execution_count": 474,
   "id": "f61e4d08",
   "metadata": {
    "ExecuteTime": {
     "end_time": "2021-08-23T12:42:52.779394Z",
     "start_time": "2021-08-23T12:42:52.768230Z"
    },
    "hidden": true
   },
   "outputs": [],
   "source": [
    "seven_day_forecast=seven_day_forecast.reset_index().drop(columns='index')"
   ]
  },
  {
   "cell_type": "code",
   "execution_count": 475,
   "id": "785763d8",
   "metadata": {
    "ExecuteTime": {
     "end_time": "2021-08-23T12:42:52.867879Z",
     "start_time": "2021-08-23T12:42:52.857859Z"
    },
    "hidden": true
   },
   "outputs": [],
   "source": [
    "#convert time column to datetime\n",
    "seven_day_forecast['time']=pd.to_datetime(seven_day_forecast['time'])"
   ]
  },
  {
   "cell_type": "code",
   "execution_count": 476,
   "id": "ffc9a5e7",
   "metadata": {
    "ExecuteTime": {
     "end_time": "2021-08-23T12:42:52.981615Z",
     "start_time": "2021-08-23T12:42:52.973939Z"
    },
    "hidden": true
   },
   "outputs": [
    {
     "data": {
      "text/plain": [
       "Partly cloudy        39\n",
       "Clear                10\n",
       "Overcast              9\n",
       "Sunny                 8\n",
       "Light rain shower     3\n",
       "Cloudy                3\n",
       "Name: condition, dtype: int64"
      ]
     },
     "execution_count": 476,
     "metadata": {},
     "output_type": "execute_result"
    }
   ],
   "source": [
    "seven_day_forecast['condition'].value_counts()"
   ]
  },
  {
   "cell_type": "code",
   "execution_count": 477,
   "id": "f7139b69",
   "metadata": {
    "ExecuteTime": {
     "end_time": "2021-08-23T12:42:53.140361Z",
     "start_time": "2021-08-23T12:42:53.132958Z"
    },
    "hidden": true,
    "scrolled": true
   },
   "outputs": [],
   "source": [
    "pd.read_csv('/Users/monmac/Desktop/weather_conditions.csv');"
   ]
  },
  {
   "cell_type": "code",
   "execution_count": 478,
   "id": "42841cf9",
   "metadata": {
    "ExecuteTime": {
     "end_time": "2021-08-23T12:42:53.284374Z",
     "start_time": "2021-08-23T12:42:53.272649Z"
    },
    "hidden": true
   },
   "outputs": [],
   "source": [
    "Clear = ['Clear', 'Sunny']\n",
    "Clouds = ['Clouds','Partly cloudy', 'Cloudy', 'Overcast']\n",
    "Rain = ['Rain','Patchy rain possible', 'Patchy light rain', 'Light rain', 'Moderate rain at times','Moderate rain','Heavy rain at times','Heavy rain','Moderate or heavy rain shower','Torrential rain shower']\n",
    "Mist = ['Mist']\n",
    "Drizzle = ['Drizzle','Patchy light drizzle','Light drizzle','Freezing drizzle','Heavy freezing drizzle','Light rain shower']\n",
    "Fog = ['Fog', 'Freezing Fog']\n",
    "Snow = ['Snow','Patchy snow possible', 'Patchy sleet possible', 'Patchy freezing drizzle possible', 'Blowing snow','Blizzard','Moderate or heavy freezing rain','Light freezing rain','Light sleet', 'Moderate or heavy sleet','Patchy light snow','Light snow','Patchy moderate snow','Moderate snow','Patchy heavy snow','Heavy snow','Ice pellets','Light sleet showers', 'Moderate or heavy sleet showers','Light snow showers','Moderate or heavy snow showers','Light showers of ice pellets','Moderate or heavy showers of ice pellets']\n",
    "Thunderstorm = ['Thunderstorm','Thundery outbreaks possible', 'Patchy light rain with thunder','Moderate or heavy rain with thunder','Patchy light snow with thunder','Moderate or heavy snow with thunder']\n",
    "Haze = ['Haze']"
   ]
  },
  {
   "cell_type": "code",
   "execution_count": 479,
   "id": "7c24b8a4",
   "metadata": {
    "ExecuteTime": {
     "end_time": "2021-08-23T12:42:53.443851Z",
     "start_time": "2021-08-23T12:42:53.439671Z"
    },
    "hidden": true
   },
   "outputs": [],
   "source": [
    "summed_conditions = [Clear, Clouds, Rain, Mist, Drizzle, Fog, Snow, Thunderstorm, Haze]"
   ]
  },
  {
   "cell_type": "code",
   "execution_count": 480,
   "id": "411b95fd",
   "metadata": {
    "ExecuteTime": {
     "end_time": "2021-08-23T12:42:53.729326Z",
     "start_time": "2021-08-23T12:42:53.688462Z"
    },
    "hidden": true
   },
   "outputs": [
    {
     "name": "stderr",
     "output_type": "stream",
     "text": [
      "/var/folders/p2/6ddwj2812811pbqjm8t6brv80000gn/T/ipykernel_67780/3313053615.py:5: SettingWithCopyWarning: \n",
      "A value is trying to be set on a copy of a slice from a DataFrame\n",
      "\n",
      "See the caveats in the documentation: https://pandas.pydata.org/pandas-docs/stable/user_guide/indexing.html#returning-a-view-versus-a-copy\n",
      "  seven_day_forecast['condition'][i]=x[0]\n"
     ]
    }
   ],
   "source": [
    "#boolean indexing to decrease possibilities of weather condition\n",
    "for i in range(len(seven_day_forecast['condition'])):\n",
    "    for x in summed_conditions: \n",
    "        if seven_day_forecast['condition'][i] in x: \n",
    "            seven_day_forecast['condition'][i]=x[0]"
   ]
  },
  {
   "cell_type": "code",
   "execution_count": 481,
   "id": "0acfd90a",
   "metadata": {
    "ExecuteTime": {
     "end_time": "2021-08-23T12:42:54.363330Z",
     "start_time": "2021-08-23T12:42:54.358164Z"
    },
    "hidden": true
   },
   "outputs": [],
   "source": [
    "seven_day_forecast=seven_day_forecast.set_index('time')"
   ]
  },
  {
   "cell_type": "code",
   "execution_count": 482,
   "id": "4b8995aa",
   "metadata": {
    "ExecuteTime": {
     "end_time": "2021-08-23T12:43:01.837661Z",
     "start_time": "2021-08-23T12:43:01.824196Z"
    },
    "hidden": true
   },
   "outputs": [],
   "source": [
    "lunch = seven_day_forecast[seven_day_forecast.index[:].hour==12]\n",
    "dinner = seven_day_forecast[seven_day_forecast.index[:].hour==18]\n",
    "forecasted_services = pd.concat([lunch, dinner])\n",
    "forecasted_services = forecasted_services.sort_values('time')"
   ]
  },
  {
   "cell_type": "code",
   "execution_count": 483,
   "id": "f159928d",
   "metadata": {
    "ExecuteTime": {
     "end_time": "2021-08-23T12:43:02.301123Z",
     "start_time": "2021-08-23T12:43:02.271849Z"
    },
    "hidden": true
   },
   "outputs": [
    {
     "data": {
      "text/html": [
       "<div>\n",
       "<style scoped>\n",
       "    .dataframe tbody tr th:only-of-type {\n",
       "        vertical-align: middle;\n",
       "    }\n",
       "\n",
       "    .dataframe tbody tr th {\n",
       "        vertical-align: top;\n",
       "    }\n",
       "\n",
       "    .dataframe thead th {\n",
       "        text-align: right;\n",
       "    }\n",
       "</style>\n",
       "<table border=\"1\" class=\"dataframe\">\n",
       "  <thead>\n",
       "    <tr style=\"text-align: right;\">\n",
       "      <th></th>\n",
       "      <th>time_epoch</th>\n",
       "      <th>temp_c</th>\n",
       "      <th>temp_f</th>\n",
       "      <th>is_day</th>\n",
       "      <th>condition</th>\n",
       "      <th>wind_mph</th>\n",
       "      <th>wind_kph</th>\n",
       "      <th>wind_degree</th>\n",
       "      <th>wind_dir</th>\n",
       "      <th>pressure_mb</th>\n",
       "      <th>...</th>\n",
       "      <th>dewpoint_f</th>\n",
       "      <th>will_it_rain</th>\n",
       "      <th>chance_of_rain</th>\n",
       "      <th>will_it_snow</th>\n",
       "      <th>chance_of_snow</th>\n",
       "      <th>vis_km</th>\n",
       "      <th>vis_miles</th>\n",
       "      <th>gust_mph</th>\n",
       "      <th>gust_kph</th>\n",
       "      <th>uv</th>\n",
       "    </tr>\n",
       "    <tr>\n",
       "      <th>time</th>\n",
       "      <th></th>\n",
       "      <th></th>\n",
       "      <th></th>\n",
       "      <th></th>\n",
       "      <th></th>\n",
       "      <th></th>\n",
       "      <th></th>\n",
       "      <th></th>\n",
       "      <th></th>\n",
       "      <th></th>\n",
       "      <th></th>\n",
       "      <th></th>\n",
       "      <th></th>\n",
       "      <th></th>\n",
       "      <th></th>\n",
       "      <th></th>\n",
       "      <th></th>\n",
       "      <th></th>\n",
       "      <th></th>\n",
       "      <th></th>\n",
       "      <th></th>\n",
       "    </tr>\n",
       "  </thead>\n",
       "  <tbody>\n",
       "    <tr>\n",
       "      <th>2021-08-23 12:00:00</th>\n",
       "      <td>1629712800</td>\n",
       "      <td>18.4</td>\n",
       "      <td>65.1</td>\n",
       "      <td>1</td>\n",
       "      <td>Clouds</td>\n",
       "      <td>8.1</td>\n",
       "      <td>13.0</td>\n",
       "      <td>356</td>\n",
       "      <td>N</td>\n",
       "      <td>1024.0</td>\n",
       "      <td>...</td>\n",
       "      <td>57.4</td>\n",
       "      <td>0</td>\n",
       "      <td>0</td>\n",
       "      <td>0</td>\n",
       "      <td>0</td>\n",
       "      <td>10.0</td>\n",
       "      <td>6.0</td>\n",
       "      <td>9.8</td>\n",
       "      <td>15.8</td>\n",
       "      <td>4.0</td>\n",
       "    </tr>\n",
       "    <tr>\n",
       "      <th>2021-08-23 18:00:00</th>\n",
       "      <td>1629734400</td>\n",
       "      <td>21.6</td>\n",
       "      <td>70.9</td>\n",
       "      <td>1</td>\n",
       "      <td>Drizzle</td>\n",
       "      <td>10.1</td>\n",
       "      <td>16.2</td>\n",
       "      <td>34</td>\n",
       "      <td>NE</td>\n",
       "      <td>1023.0</td>\n",
       "      <td>...</td>\n",
       "      <td>56.1</td>\n",
       "      <td>0</td>\n",
       "      <td>32</td>\n",
       "      <td>0</td>\n",
       "      <td>0</td>\n",
       "      <td>10.0</td>\n",
       "      <td>6.0</td>\n",
       "      <td>13.2</td>\n",
       "      <td>21.2</td>\n",
       "      <td>5.0</td>\n",
       "    </tr>\n",
       "    <tr>\n",
       "      <th>2021-08-24 12:00:00</th>\n",
       "      <td>1629799200</td>\n",
       "      <td>23.0</td>\n",
       "      <td>73.4</td>\n",
       "      <td>1</td>\n",
       "      <td>Clouds</td>\n",
       "      <td>12.1</td>\n",
       "      <td>19.4</td>\n",
       "      <td>53</td>\n",
       "      <td>NE</td>\n",
       "      <td>1023.0</td>\n",
       "      <td>...</td>\n",
       "      <td>48.6</td>\n",
       "      <td>0</td>\n",
       "      <td>0</td>\n",
       "      <td>0</td>\n",
       "      <td>0</td>\n",
       "      <td>10.0</td>\n",
       "      <td>6.0</td>\n",
       "      <td>13.6</td>\n",
       "      <td>22.0</td>\n",
       "      <td>5.0</td>\n",
       "    </tr>\n",
       "    <tr>\n",
       "      <th>2021-08-24 18:00:00</th>\n",
       "      <td>1629820800</td>\n",
       "      <td>23.0</td>\n",
       "      <td>73.4</td>\n",
       "      <td>1</td>\n",
       "      <td>Clouds</td>\n",
       "      <td>12.5</td>\n",
       "      <td>20.2</td>\n",
       "      <td>49</td>\n",
       "      <td>NE</td>\n",
       "      <td>1022.0</td>\n",
       "      <td>...</td>\n",
       "      <td>44.1</td>\n",
       "      <td>0</td>\n",
       "      <td>0</td>\n",
       "      <td>0</td>\n",
       "      <td>0</td>\n",
       "      <td>10.0</td>\n",
       "      <td>6.0</td>\n",
       "      <td>14.8</td>\n",
       "      <td>23.8</td>\n",
       "      <td>6.0</td>\n",
       "    </tr>\n",
       "    <tr>\n",
       "      <th>2021-08-25 12:00:00</th>\n",
       "      <td>1629885600</td>\n",
       "      <td>22.8</td>\n",
       "      <td>73.0</td>\n",
       "      <td>1</td>\n",
       "      <td>Clouds</td>\n",
       "      <td>11.9</td>\n",
       "      <td>19.1</td>\n",
       "      <td>53</td>\n",
       "      <td>NE</td>\n",
       "      <td>1021.0</td>\n",
       "      <td>...</td>\n",
       "      <td>45.7</td>\n",
       "      <td>0</td>\n",
       "      <td>0</td>\n",
       "      <td>0</td>\n",
       "      <td>0</td>\n",
       "      <td>10.0</td>\n",
       "      <td>6.0</td>\n",
       "      <td>13.6</td>\n",
       "      <td>22.0</td>\n",
       "      <td>6.0</td>\n",
       "    </tr>\n",
       "    <tr>\n",
       "      <th>2021-08-25 18:00:00</th>\n",
       "      <td>1629907200</td>\n",
       "      <td>23.4</td>\n",
       "      <td>74.1</td>\n",
       "      <td>1</td>\n",
       "      <td>Clouds</td>\n",
       "      <td>11.0</td>\n",
       "      <td>17.6</td>\n",
       "      <td>40</td>\n",
       "      <td>NE</td>\n",
       "      <td>1020.0</td>\n",
       "      <td>...</td>\n",
       "      <td>48.0</td>\n",
       "      <td>0</td>\n",
       "      <td>0</td>\n",
       "      <td>0</td>\n",
       "      <td>0</td>\n",
       "      <td>10.0</td>\n",
       "      <td>6.0</td>\n",
       "      <td>13.2</td>\n",
       "      <td>21.2</td>\n",
       "      <td>6.0</td>\n",
       "    </tr>\n",
       "  </tbody>\n",
       "</table>\n",
       "<p>6 rows × 32 columns</p>\n",
       "</div>"
      ],
      "text/plain": [
       "                     time_epoch  temp_c  temp_f  is_day condition  wind_mph  \\\n",
       "time                                                                          \n",
       "2021-08-23 12:00:00  1629712800    18.4    65.1       1    Clouds       8.1   \n",
       "2021-08-23 18:00:00  1629734400    21.6    70.9       1   Drizzle      10.1   \n",
       "2021-08-24 12:00:00  1629799200    23.0    73.4       1    Clouds      12.1   \n",
       "2021-08-24 18:00:00  1629820800    23.0    73.4       1    Clouds      12.5   \n",
       "2021-08-25 12:00:00  1629885600    22.8    73.0       1    Clouds      11.9   \n",
       "2021-08-25 18:00:00  1629907200    23.4    74.1       1    Clouds      11.0   \n",
       "\n",
       "                     wind_kph  wind_degree wind_dir  pressure_mb  ...  \\\n",
       "time                                                              ...   \n",
       "2021-08-23 12:00:00      13.0          356        N       1024.0  ...   \n",
       "2021-08-23 18:00:00      16.2           34       NE       1023.0  ...   \n",
       "2021-08-24 12:00:00      19.4           53       NE       1023.0  ...   \n",
       "2021-08-24 18:00:00      20.2           49       NE       1022.0  ...   \n",
       "2021-08-25 12:00:00      19.1           53       NE       1021.0  ...   \n",
       "2021-08-25 18:00:00      17.6           40       NE       1020.0  ...   \n",
       "\n",
       "                     dewpoint_f  will_it_rain  chance_of_rain  will_it_snow  \\\n",
       "time                                                                          \n",
       "2021-08-23 12:00:00        57.4             0               0             0   \n",
       "2021-08-23 18:00:00        56.1             0              32             0   \n",
       "2021-08-24 12:00:00        48.6             0               0             0   \n",
       "2021-08-24 18:00:00        44.1             0               0             0   \n",
       "2021-08-25 12:00:00        45.7             0               0             0   \n",
       "2021-08-25 18:00:00        48.0             0               0             0   \n",
       "\n",
       "                     chance_of_snow  vis_km  vis_miles  gust_mph  gust_kph  \\\n",
       "time                                                                         \n",
       "2021-08-23 12:00:00               0    10.0        6.0       9.8      15.8   \n",
       "2021-08-23 18:00:00               0    10.0        6.0      13.2      21.2   \n",
       "2021-08-24 12:00:00               0    10.0        6.0      13.6      22.0   \n",
       "2021-08-24 18:00:00               0    10.0        6.0      14.8      23.8   \n",
       "2021-08-25 12:00:00               0    10.0        6.0      13.6      22.0   \n",
       "2021-08-25 18:00:00               0    10.0        6.0      13.2      21.2   \n",
       "\n",
       "                      uv  \n",
       "time                      \n",
       "2021-08-23 12:00:00  4.0  \n",
       "2021-08-23 18:00:00  5.0  \n",
       "2021-08-24 12:00:00  5.0  \n",
       "2021-08-24 18:00:00  6.0  \n",
       "2021-08-25 12:00:00  6.0  \n",
       "2021-08-25 18:00:00  6.0  \n",
       "\n",
       "[6 rows x 32 columns]"
      ]
     },
     "execution_count": 483,
     "metadata": {},
     "output_type": "execute_result"
    }
   ],
   "source": [
    "forecasted_services"
   ]
  },
  {
   "cell_type": "markdown",
   "id": "41b1dc8f",
   "metadata": {
    "heading_collapsed": true
   },
   "source": [
    "# Historical Forecast"
   ]
  },
  {
   "cell_type": "code",
   "execution_count": null,
   "id": "55c6957f",
   "metadata": {
    "hidden": true
   },
   "outputs": [],
   "source": []
  }
 ],
 "metadata": {
  "kernelspec": {
   "display_name": "Python 3 (ipykernel)",
   "language": "python",
   "name": "python3"
  },
  "language_info": {
   "codemirror_mode": {
    "name": "ipython",
    "version": 3
   },
   "file_extension": ".py",
   "mimetype": "text/x-python",
   "name": "python",
   "nbconvert_exporter": "python",
   "pygments_lexer": "ipython3",
   "version": "3.8.6"
  },
  "toc": {
   "base_numbering": 1,
   "nav_menu": {},
   "number_sections": true,
   "sideBar": true,
   "skip_h1_title": false,
   "title_cell": "Table of Contents",
   "title_sidebar": "Contents",
   "toc_cell": false,
   "toc_position": {},
   "toc_section_display": true,
   "toc_window_display": false
  }
 },
 "nbformat": 4,
 "nbformat_minor": 5
}
