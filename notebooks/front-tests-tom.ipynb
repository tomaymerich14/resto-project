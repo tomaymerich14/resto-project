{
 "cells": [
  {
   "cell_type": "code",
   "execution_count": 16,
   "id": "208cd15c",
   "metadata": {},
   "outputs": [],
   "source": [
    "import pandas as pd\n",
    "import numpy as np\n",
    "import matplotlib.pyplot as plt\n",
    "import seaborn as sns\n",
    "import datetime "
   ]
  },
  {
   "cell_type": "code",
   "execution_count": 17,
   "id": "5b290105",
   "metadata": {},
   "outputs": [],
   "source": [
    "dict = {'d2':[0,1,2,3,4,5,6,7,8,9,10,11,12,13], 'd16':[14,15,16,17,18,19,20,21,22,23,24,25,26,27]}"
   ]
  },
  {
   "cell_type": "code",
   "execution_count": 18,
   "id": "84ea1c30",
   "metadata": {},
   "outputs": [],
   "source": [
    "midi=[]\n",
    "for i in np.linspace(0,12,7):\n",
    "    midi.append(dict['d16'][int(i)])\n",
    "    midi"
   ]
  },
  {
   "cell_type": "code",
   "execution_count": 19,
   "id": "0ffd6f68",
   "metadata": {},
   "outputs": [],
   "source": [
    "soir=[]\n",
    "for i in np.linspace(1,13,7):\n",
    "    soir.append(dict['d16'][int(i)])\n",
    "    soir"
   ]
  },
  {
   "cell_type": "code",
   "execution_count": 20,
   "id": "6f782010",
   "metadata": {},
   "outputs": [
    {
     "data": {
      "text/plain": [
       "[14, 16, 18, 20, 22, 24, 26]"
      ]
     },
     "execution_count": 20,
     "metadata": {},
     "output_type": "execute_result"
    }
   ],
   "source": [
    "midi"
   ]
  },
  {
   "cell_type": "code",
   "execution_count": 21,
   "id": "289c973d",
   "metadata": {},
   "outputs": [],
   "source": [
    "test_graph = pd.DataFrame(index=('midi','soir'), columns=dateList)"
   ]
  },
  {
   "cell_type": "code",
   "execution_count": 22,
   "id": "10ab4e21",
   "metadata": {},
   "outputs": [],
   "source": [
    "test_graph.iloc[0] = midi"
   ]
  },
  {
   "cell_type": "code",
   "execution_count": 25,
   "id": "c818ab85",
   "metadata": {},
   "outputs": [
    {
     "data": {
      "text/plain": [
       "Index(['2021-09-02', '2021-09-03', '2021-09-04', '2021-09-05', '2021-09-06',\n",
       "       '2021-09-07', '2021-09-08'],\n",
       "      dtype='object')"
      ]
     },
     "execution_count": 25,
     "metadata": {},
     "output_type": "execute_result"
    }
   ],
   "source": [
    "test_graph.columns"
   ]
  },
  {
   "cell_type": "code",
   "execution_count": 6,
   "id": "285d2313",
   "metadata": {},
   "outputs": [
    {
     "data": {
      "text/plain": [
       "dict_keys(['day1_1', 'day1_2', 'day2_1', 'day2_2', 'day3_1', 'day3_2', 'day4_1', 'day4_2', 'day5_1', 'day5_2', 'day6_1', 'day6_2', 'day7_1', 'day7_2'])"
      ]
     },
     "execution_count": 6,
     "metadata": {},
     "output_type": "execute_result"
    }
   ],
   "source": [
    "dict.keys()"
   ]
  },
  {
   "cell_type": "code",
   "execution_count": 27,
   "id": "d1c0f580",
   "metadata": {},
   "outputs": [
    {
     "data": {
      "text/plain": [
       "'2021-09-01'"
      ]
     },
     "execution_count": 27,
     "metadata": {},
     "output_type": "execute_result"
    }
   ],
   "source": [
    "str(datetime.datetime.today()).split()[0]"
   ]
  },
  {
   "cell_type": "code",
   "execution_count": 13,
   "id": "92d23e4d",
   "metadata": {},
   "outputs": [],
   "source": [
    "a = datetime.datetime.today()\n",
    "numdays = 7\n",
    "dateList = []\n",
    "for x in range (0, numdays):\n",
    "    dateList.append(a + datetime.timedelta(days = x))"
   ]
  },
  {
   "cell_type": "code",
   "execution_count": 14,
   "id": "a4d66e64",
   "metadata": {},
   "outputs": [],
   "source": [
    "for i in range(len(dateList)):\n",
    "    dateList[i] = str(dateList[i]).split()[0]"
   ]
  },
  {
   "cell_type": "code",
   "execution_count": 44,
   "id": "875499a7",
   "metadata": {},
   "outputs": [],
   "source": [
    "arrays = [[\"Midi\",\"Midi\",\"Soir\", \"Soir\",\"Total\", \"Total\"],\n",
    " [\"Couverts\", \"CA_TTC\", \"Couverts\", \"CA_TTC\", \"Couverts\", \"CA_TTC\"],]"
   ]
  },
  {
   "cell_type": "code",
   "execution_count": 45,
   "id": "835a1181",
   "metadata": {},
   "outputs": [],
   "source": [
    "tuples = list(zip(*arrays))"
   ]
  },
  {
   "cell_type": "code",
   "execution_count": 46,
   "id": "59ea53e3",
   "metadata": {},
   "outputs": [
    {
     "data": {
      "text/plain": [
       "[('Midi', 'Couverts'),\n",
       " ('Midi', 'CA_TTC'),\n",
       " ('Soir', 'Couverts'),\n",
       " ('Soir', 'CA_TTC'),\n",
       " ('Total', 'Couverts'),\n",
       " ('Total', 'CA_TTC')]"
      ]
     },
     "execution_count": 46,
     "metadata": {},
     "output_type": "execute_result"
    }
   ],
   "source": [
    "tuples"
   ]
  },
  {
   "cell_type": "code",
   "execution_count": 52,
   "id": "a6b9fdca",
   "metadata": {},
   "outputs": [],
   "source": [
    "index = pd.MultiIndex.from_tuples(tuples)"
   ]
  },
  {
   "cell_type": "code",
   "execution_count": 53,
   "id": "fce12d1c",
   "metadata": {},
   "outputs": [
    {
     "data": {
      "text/plain": [
       "MultiIndex([( 'Midi', 'Couverts'),\n",
       "            ( 'Midi',   'CA_TTC'),\n",
       "            ( 'Soir', 'Couverts'),\n",
       "            ( 'Soir',   'CA_TTC'),\n",
       "            ('Total', 'Couverts'),\n",
       "            ('Total',   'CA_TTC')],\n",
       "           )"
      ]
     },
     "execution_count": 53,
     "metadata": {},
     "output_type": "execute_result"
    }
   ],
   "source": [
    "index"
   ]
  },
  {
   "cell_type": "code",
   "execution_count": 68,
   "id": "ea0ef79e",
   "metadata": {},
   "outputs": [],
   "source": [
    "s = pd.Series(np.random.randn(6), index=index)"
   ]
  },
  {
   "cell_type": "code",
   "execution_count": 77,
   "id": "00eeb780",
   "metadata": {},
   "outputs": [],
   "source": [
    "df = pd.DataFrame(np.random.randn(6, 7), index=arrays, columns=dateList)"
   ]
  },
  {
   "cell_type": "code",
   "execution_count": 105,
   "id": "62e02dc0",
   "metadata": {},
   "outputs": [
    {
     "data": {
      "text/html": [
       "<div>\n",
       "<style scoped>\n",
       "    .dataframe tbody tr th:only-of-type {\n",
       "        vertical-align: middle;\n",
       "    }\n",
       "\n",
       "    .dataframe tbody tr th {\n",
       "        vertical-align: top;\n",
       "    }\n",
       "\n",
       "    .dataframe thead th {\n",
       "        text-align: right;\n",
       "    }\n",
       "</style>\n",
       "<table border=\"1\" class=\"dataframe\">\n",
       "  <thead>\n",
       "    <tr style=\"text-align: right;\">\n",
       "      <th></th>\n",
       "      <th></th>\n",
       "      <th>2021-09-01</th>\n",
       "      <th>2021-09-02</th>\n",
       "      <th>2021-09-03</th>\n",
       "      <th>2021-09-04</th>\n",
       "      <th>2021-09-05</th>\n",
       "      <th>2021-09-06</th>\n",
       "      <th>2021-09-07</th>\n",
       "    </tr>\n",
       "  </thead>\n",
       "  <tbody>\n",
       "    <tr>\n",
       "      <th rowspan=\"2\" valign=\"top\">Midi</th>\n",
       "      <th>Couverts</th>\n",
       "      <td>-0.084117</td>\n",
       "      <td>1.003142</td>\n",
       "      <td>0.865675</td>\n",
       "      <td>-0.121291</td>\n",
       "      <td>-0.180886</td>\n",
       "      <td>-1.313250</td>\n",
       "      <td>-1.428175</td>\n",
       "    </tr>\n",
       "    <tr>\n",
       "      <th>CA_TTC</th>\n",
       "      <td>1.324918</td>\n",
       "      <td>-1.174644</td>\n",
       "      <td>1.489626</td>\n",
       "      <td>-0.643850</td>\n",
       "      <td>1.732354</td>\n",
       "      <td>0.499402</td>\n",
       "      <td>0.567760</td>\n",
       "    </tr>\n",
       "    <tr>\n",
       "      <th rowspan=\"2\" valign=\"top\">Soir</th>\n",
       "      <th>Couverts</th>\n",
       "      <td>-0.534071</td>\n",
       "      <td>-1.233291</td>\n",
       "      <td>-0.110076</td>\n",
       "      <td>1.124799</td>\n",
       "      <td>-1.490210</td>\n",
       "      <td>2.542872</td>\n",
       "      <td>1.592419</td>\n",
       "    </tr>\n",
       "    <tr>\n",
       "      <th>CA_TTC</th>\n",
       "      <td>-0.729063</td>\n",
       "      <td>-0.467429</td>\n",
       "      <td>-1.471693</td>\n",
       "      <td>1.132608</td>\n",
       "      <td>0.051146</td>\n",
       "      <td>-0.508939</td>\n",
       "      <td>0.012169</td>\n",
       "    </tr>\n",
       "    <tr>\n",
       "      <th rowspan=\"2\" valign=\"top\">Total</th>\n",
       "      <th>Couverts</th>\n",
       "      <td>1.124008</td>\n",
       "      <td>0.088934</td>\n",
       "      <td>-1.828654</td>\n",
       "      <td>1.167637</td>\n",
       "      <td>1.164435</td>\n",
       "      <td>0.003851</td>\n",
       "      <td>-0.025344</td>\n",
       "    </tr>\n",
       "    <tr>\n",
       "      <th>CA_TTC</th>\n",
       "      <td>-0.116262</td>\n",
       "      <td>1.334086</td>\n",
       "      <td>-0.234699</td>\n",
       "      <td>-1.241003</td>\n",
       "      <td>1.533871</td>\n",
       "      <td>-1.108869</td>\n",
       "      <td>-1.695939</td>\n",
       "    </tr>\n",
       "  </tbody>\n",
       "</table>\n",
       "</div>"
      ],
      "text/plain": [
       "                2021-09-01  2021-09-02  2021-09-03  2021-09-04  2021-09-05  \\\n",
       "Midi  Couverts   -0.084117    1.003142    0.865675   -0.121291   -0.180886   \n",
       "      CA_TTC      1.324918   -1.174644    1.489626   -0.643850    1.732354   \n",
       "Soir  Couverts   -0.534071   -1.233291   -0.110076    1.124799   -1.490210   \n",
       "      CA_TTC     -0.729063   -0.467429   -1.471693    1.132608    0.051146   \n",
       "Total Couverts    1.124008    0.088934   -1.828654    1.167637    1.164435   \n",
       "      CA_TTC     -0.116262    1.334086   -0.234699   -1.241003    1.533871   \n",
       "\n",
       "                2021-09-06  2021-09-07  \n",
       "Midi  Couverts   -1.313250   -1.428175  \n",
       "      CA_TTC      0.499402    0.567760  \n",
       "Soir  Couverts    2.542872    1.592419  \n",
       "      CA_TTC     -0.508939    0.012169  \n",
       "Total Couverts    0.003851   -0.025344  \n",
       "      CA_TTC     -1.108869   -1.695939  "
      ]
     },
     "execution_count": 105,
     "metadata": {},
     "output_type": "execute_result"
    }
   ],
   "source": [
    "df"
   ]
  },
  {
   "cell_type": "code",
   "execution_count": null,
   "id": "f0dadab4",
   "metadata": {},
   "outputs": [],
   "source": []
  },
  {
   "cell_type": "code",
   "execution_count": null,
   "id": "c5c0dea3",
   "metadata": {},
   "outputs": [],
   "source": []
  },
  {
   "cell_type": "code",
   "execution_count": null,
   "id": "108840bc",
   "metadata": {},
   "outputs": [],
   "source": []
  }
 ],
 "metadata": {
  "kernelspec": {
   "display_name": "Python 3 (ipykernel)",
   "language": "python",
   "name": "python3"
  },
  "language_info": {
   "codemirror_mode": {
    "name": "ipython",
    "version": 3
   },
   "file_extension": ".py",
   "mimetype": "text/x-python",
   "name": "python",
   "nbconvert_exporter": "python",
   "pygments_lexer": "ipython3",
   "version": "3.8.6"
  },
  "toc": {
   "base_numbering": 1,
   "nav_menu": {},
   "number_sections": true,
   "sideBar": true,
   "skip_h1_title": false,
   "title_cell": "Table of Contents",
   "title_sidebar": "Contents",
   "toc_cell": false,
   "toc_position": {},
   "toc_section_display": true,
   "toc_window_display": false
  }
 },
 "nbformat": 4,
 "nbformat_minor": 5
}
