{
 "cells": [
  {
   "cell_type": "code",
   "execution_count": 1,
   "id": "072402fe",
   "metadata": {
    "ExecuteTime": {
     "end_time": "2021-08-31T14:29:45.594669Z",
     "start_time": "2021-08-31T14:29:45.196688Z"
    }
   },
   "outputs": [],
   "source": [
    "import pandas as pd"
   ]
  },
  {
   "cell_type": "code",
   "execution_count": 3,
   "id": "e3d82447",
   "metadata": {
    "ExecuteTime": {
     "end_time": "2021-08-31T14:30:49.796284Z",
     "start_time": "2021-08-31T14:30:49.758221Z"
    }
   },
   "outputs": [],
   "source": [
    "data=pd.read_csv('all_events_sport_and_weather.csv')"
   ]
  },
  {
   "cell_type": "code",
   "execution_count": 8,
   "id": "c180e69e",
   "metadata": {
    "ExecuteTime": {
     "end_time": "2021-08-31T14:32:36.315856Z",
     "start_time": "2021-08-31T14:32:36.305380Z"
    }
   },
   "outputs": [
    {
     "data": {
      "text/plain": [
       "Index(['date', 'service', 'match_edf', 'roland_garros', 'fashion_week',\n",
       "       'match_happening', 'match_happening_cl', 'temp', 'feels_like',\n",
       "       'temp_min', 'temp_max', 'wind_speed', 'clouds_all', 'vacances_paris',\n",
       "       'clear', 'clouds', 'drizzle', 'drizzle_and_rain', 'fog', 'mist', 'rain',\n",
       "       'thunderstorm'],\n",
       "      dtype='object')"
      ]
     },
     "execution_count": 8,
     "metadata": {},
     "output_type": "execute_result"
    }
   ],
   "source": [
    "data.columns"
   ]
  },
  {
   "cell_type": "code",
   "execution_count": 9,
   "id": "c5b9f549",
   "metadata": {
    "ExecuteTime": {
     "end_time": "2021-08-31T14:33:33.000502Z",
     "start_time": "2021-08-31T14:33:32.964945Z"
    }
   },
   "outputs": [],
   "source": [
    "data_weather = data[['date','service','temp','feels_like','temp_min','temp_max','wind_speed','clouds_all','clear','clouds','drizzle','drizzle_and_rain','fog','mist','rain','thunderstorm']]"
   ]
  },
  {
   "cell_type": "code",
   "execution_count": 10,
   "id": "b5eb972f",
   "metadata": {
    "ExecuteTime": {
     "end_time": "2021-08-31T14:33:34.990087Z",
     "start_time": "2021-08-31T14:33:34.949788Z"
    }
   },
   "outputs": [
    {
     "data": {
      "text/html": [
       "<div>\n",
       "<style scoped>\n",
       "    .dataframe tbody tr th:only-of-type {\n",
       "        vertical-align: middle;\n",
       "    }\n",
       "\n",
       "    .dataframe tbody tr th {\n",
       "        vertical-align: top;\n",
       "    }\n",
       "\n",
       "    .dataframe thead th {\n",
       "        text-align: right;\n",
       "    }\n",
       "</style>\n",
       "<table border=\"1\" class=\"dataframe\">\n",
       "  <thead>\n",
       "    <tr style=\"text-align: right;\">\n",
       "      <th></th>\n",
       "      <th>date</th>\n",
       "      <th>service</th>\n",
       "      <th>temp</th>\n",
       "      <th>feels_like</th>\n",
       "      <th>temp_min</th>\n",
       "      <th>temp_max</th>\n",
       "      <th>wind_speed</th>\n",
       "      <th>clouds_all</th>\n",
       "      <th>clear</th>\n",
       "      <th>clouds</th>\n",
       "      <th>drizzle</th>\n",
       "      <th>drizzle_and_rain</th>\n",
       "      <th>fog</th>\n",
       "      <th>mist</th>\n",
       "      <th>rain</th>\n",
       "      <th>thunderstorm</th>\n",
       "    </tr>\n",
       "  </thead>\n",
       "  <tbody>\n",
       "    <tr>\n",
       "      <th>0</th>\n",
       "      <td>2019-01-01</td>\n",
       "      <td>midi</td>\n",
       "      <td>281.44</td>\n",
       "      <td>280.15</td>\n",
       "      <td>280.58</td>\n",
       "      <td>282.24</td>\n",
       "      <td>2.24</td>\n",
       "      <td>90</td>\n",
       "      <td>0</td>\n",
       "      <td>overcast clouds</td>\n",
       "      <td>0</td>\n",
       "      <td>0</td>\n",
       "      <td>0</td>\n",
       "      <td>0</td>\n",
       "      <td>0</td>\n",
       "      <td>0</td>\n",
       "    </tr>\n",
       "    <tr>\n",
       "      <th>1</th>\n",
       "      <td>2019-01-01</td>\n",
       "      <td>soir</td>\n",
       "      <td>280.87</td>\n",
       "      <td>280.87</td>\n",
       "      <td>279.48</td>\n",
       "      <td>281.45</td>\n",
       "      <td>0.45</td>\n",
       "      <td>90</td>\n",
       "      <td>0</td>\n",
       "      <td>0</td>\n",
       "      <td>light intensity drizzle</td>\n",
       "      <td>0</td>\n",
       "      <td>0</td>\n",
       "      <td>0</td>\n",
       "      <td>0</td>\n",
       "      <td>0</td>\n",
       "    </tr>\n",
       "    <tr>\n",
       "      <th>2</th>\n",
       "      <td>2019-01-02</td>\n",
       "      <td>midi</td>\n",
       "      <td>279.57</td>\n",
       "      <td>278.92</td>\n",
       "      <td>278.83</td>\n",
       "      <td>280.31</td>\n",
       "      <td>1.34</td>\n",
       "      <td>90</td>\n",
       "      <td>0</td>\n",
       "      <td>overcast clouds</td>\n",
       "      <td>0</td>\n",
       "      <td>0</td>\n",
       "      <td>0</td>\n",
       "      <td>0</td>\n",
       "      <td>0</td>\n",
       "      <td>0</td>\n",
       "    </tr>\n",
       "    <tr>\n",
       "      <th>3</th>\n",
       "      <td>2019-01-02</td>\n",
       "      <td>soir</td>\n",
       "      <td>278.95</td>\n",
       "      <td>277.22</td>\n",
       "      <td>277.71</td>\n",
       "      <td>279.81</td>\n",
       "      <td>2.24</td>\n",
       "      <td>90</td>\n",
       "      <td>0</td>\n",
       "      <td>overcast clouds</td>\n",
       "      <td>0</td>\n",
       "      <td>0</td>\n",
       "      <td>0</td>\n",
       "      <td>0</td>\n",
       "      <td>0</td>\n",
       "      <td>0</td>\n",
       "    </tr>\n",
       "    <tr>\n",
       "      <th>4</th>\n",
       "      <td>2019-01-03</td>\n",
       "      <td>midi</td>\n",
       "      <td>279.11</td>\n",
       "      <td>279.11</td>\n",
       "      <td>278.06</td>\n",
       "      <td>280.25</td>\n",
       "      <td>0.89</td>\n",
       "      <td>90</td>\n",
       "      <td>0</td>\n",
       "      <td>overcast clouds</td>\n",
       "      <td>0</td>\n",
       "      <td>0</td>\n",
       "      <td>0</td>\n",
       "      <td>0</td>\n",
       "      <td>0</td>\n",
       "      <td>0</td>\n",
       "    </tr>\n",
       "    <tr>\n",
       "      <th>...</th>\n",
       "      <td>...</td>\n",
       "      <td>...</td>\n",
       "      <td>...</td>\n",
       "      <td>...</td>\n",
       "      <td>...</td>\n",
       "      <td>...</td>\n",
       "      <td>...</td>\n",
       "      <td>...</td>\n",
       "      <td>...</td>\n",
       "      <td>...</td>\n",
       "      <td>...</td>\n",
       "      <td>...</td>\n",
       "      <td>...</td>\n",
       "      <td>...</td>\n",
       "      <td>...</td>\n",
       "      <td>...</td>\n",
       "    </tr>\n",
       "    <tr>\n",
       "      <th>1881</th>\n",
       "      <td>2021-07-29</td>\n",
       "      <td>soir</td>\n",
       "      <td>295.25</td>\n",
       "      <td>294.82</td>\n",
       "      <td>293.58</td>\n",
       "      <td>296.82</td>\n",
       "      <td>0.89</td>\n",
       "      <td>0</td>\n",
       "      <td>sky is clear</td>\n",
       "      <td>0</td>\n",
       "      <td>0</td>\n",
       "      <td>0</td>\n",
       "      <td>0</td>\n",
       "      <td>0</td>\n",
       "      <td>0</td>\n",
       "      <td>0</td>\n",
       "    </tr>\n",
       "    <tr>\n",
       "      <th>1882</th>\n",
       "      <td>2021-07-30</td>\n",
       "      <td>midi</td>\n",
       "      <td>295.70</td>\n",
       "      <td>295.29</td>\n",
       "      <td>294.40</td>\n",
       "      <td>297.38</td>\n",
       "      <td>2.24</td>\n",
       "      <td>40</td>\n",
       "      <td>0</td>\n",
       "      <td>scattered clouds</td>\n",
       "      <td>0</td>\n",
       "      <td>0</td>\n",
       "      <td>0</td>\n",
       "      <td>0</td>\n",
       "      <td>0</td>\n",
       "      <td>0</td>\n",
       "    </tr>\n",
       "    <tr>\n",
       "      <th>1883</th>\n",
       "      <td>2021-07-30</td>\n",
       "      <td>soir</td>\n",
       "      <td>294.44</td>\n",
       "      <td>294.01</td>\n",
       "      <td>293.27</td>\n",
       "      <td>295.71</td>\n",
       "      <td>1.34</td>\n",
       "      <td>0</td>\n",
       "      <td>sky is clear</td>\n",
       "      <td>0</td>\n",
       "      <td>0</td>\n",
       "      <td>0</td>\n",
       "      <td>0</td>\n",
       "      <td>0</td>\n",
       "      <td>0</td>\n",
       "      <td>0</td>\n",
       "    </tr>\n",
       "    <tr>\n",
       "      <th>1884</th>\n",
       "      <td>2021-07-31</td>\n",
       "      <td>midi</td>\n",
       "      <td>294.69</td>\n",
       "      <td>294.47</td>\n",
       "      <td>294.16</td>\n",
       "      <td>295.59</td>\n",
       "      <td>0.45</td>\n",
       "      <td>0</td>\n",
       "      <td>sky is clear</td>\n",
       "      <td>0</td>\n",
       "      <td>0</td>\n",
       "      <td>0</td>\n",
       "      <td>0</td>\n",
       "      <td>0</td>\n",
       "      <td>0</td>\n",
       "      <td>0</td>\n",
       "    </tr>\n",
       "    <tr>\n",
       "      <th>1885</th>\n",
       "      <td>2021-07-31</td>\n",
       "      <td>soir</td>\n",
       "      <td>293.83</td>\n",
       "      <td>293.55</td>\n",
       "      <td>292.49</td>\n",
       "      <td>294.77</td>\n",
       "      <td>0.89</td>\n",
       "      <td>40</td>\n",
       "      <td>0</td>\n",
       "      <td>scattered clouds</td>\n",
       "      <td>0</td>\n",
       "      <td>0</td>\n",
       "      <td>0</td>\n",
       "      <td>0</td>\n",
       "      <td>0</td>\n",
       "      <td>0</td>\n",
       "    </tr>\n",
       "  </tbody>\n",
       "</table>\n",
       "<p>1886 rows × 16 columns</p>\n",
       "</div>"
      ],
      "text/plain": [
       "            date service    temp  feels_like  temp_min  temp_max  wind_speed  \\\n",
       "0     2019-01-01    midi  281.44      280.15    280.58    282.24        2.24   \n",
       "1     2019-01-01    soir  280.87      280.87    279.48    281.45        0.45   \n",
       "2     2019-01-02    midi  279.57      278.92    278.83    280.31        1.34   \n",
       "3     2019-01-02    soir  278.95      277.22    277.71    279.81        2.24   \n",
       "4     2019-01-03    midi  279.11      279.11    278.06    280.25        0.89   \n",
       "...          ...     ...     ...         ...       ...       ...         ...   \n",
       "1881  2021-07-29    soir  295.25      294.82    293.58    296.82        0.89   \n",
       "1882  2021-07-30    midi  295.70      295.29    294.40    297.38        2.24   \n",
       "1883  2021-07-30    soir  294.44      294.01    293.27    295.71        1.34   \n",
       "1884  2021-07-31    midi  294.69      294.47    294.16    295.59        0.45   \n",
       "1885  2021-07-31    soir  293.83      293.55    292.49    294.77        0.89   \n",
       "\n",
       "      clouds_all         clear            clouds                  drizzle  \\\n",
       "0             90             0   overcast clouds                        0   \n",
       "1             90             0                 0  light intensity drizzle   \n",
       "2             90             0   overcast clouds                        0   \n",
       "3             90             0   overcast clouds                        0   \n",
       "4             90             0   overcast clouds                        0   \n",
       "...          ...           ...               ...                      ...   \n",
       "1881           0  sky is clear                 0                        0   \n",
       "1882          40             0  scattered clouds                        0   \n",
       "1883           0  sky is clear                 0                        0   \n",
       "1884           0  sky is clear                 0                        0   \n",
       "1885          40             0  scattered clouds                        0   \n",
       "\n",
       "     drizzle_and_rain fog mist rain thunderstorm  \n",
       "0                   0   0    0    0            0  \n",
       "1                   0   0    0    0            0  \n",
       "2                   0   0    0    0            0  \n",
       "3                   0   0    0    0            0  \n",
       "4                   0   0    0    0            0  \n",
       "...               ...  ..  ...  ...          ...  \n",
       "1881                0   0    0    0            0  \n",
       "1882                0   0    0    0            0  \n",
       "1883                0   0    0    0            0  \n",
       "1884                0   0    0    0            0  \n",
       "1885                0   0    0    0            0  \n",
       "\n",
       "[1886 rows x 16 columns]"
      ]
     },
     "execution_count": 10,
     "metadata": {},
     "output_type": "execute_result"
    }
   ],
   "source": [
    "data_weather"
   ]
  },
  {
   "cell_type": "code",
   "execution_count": 11,
   "id": "5c7555fb",
   "metadata": {
    "ExecuteTime": {
     "end_time": "2021-08-31T14:33:53.959820Z",
     "start_time": "2021-08-31T14:33:53.953864Z"
    }
   },
   "outputs": [
    {
     "data": {
      "text/plain": [
       "Index(['date', 'service', 'match_edf', 'roland_garros', 'fashion_week',\n",
       "       'match_happening', 'match_happening_cl', 'temp', 'feels_like',\n",
       "       'temp_min', 'temp_max', 'wind_speed', 'clouds_all', 'vacances_paris',\n",
       "       'clear', 'clouds', 'drizzle', 'drizzle_and_rain', 'fog', 'mist', 'rain',\n",
       "       'thunderstorm'],\n",
       "      dtype='object')"
      ]
     },
     "execution_count": 11,
     "metadata": {},
     "output_type": "execute_result"
    }
   ],
   "source": [
    "data.columns"
   ]
  },
  {
   "cell_type": "code",
   "execution_count": 12,
   "id": "52ebe15c",
   "metadata": {
    "ExecuteTime": {
     "end_time": "2021-08-31T14:35:00.721777Z",
     "start_time": "2021-08-31T14:35:00.698305Z"
    }
   },
   "outputs": [],
   "source": [
    "data_vacances = data[['date','service','vacances_paris']]"
   ]
  },
  {
   "cell_type": "code",
   "execution_count": 13,
   "id": "89260050",
   "metadata": {
    "ExecuteTime": {
     "end_time": "2021-08-31T14:35:05.460424Z",
     "start_time": "2021-08-31T14:35:05.451652Z"
    }
   },
   "outputs": [
    {
     "data": {
      "text/plain": [
       "Index(['date', 'service', 'match_edf', 'roland_garros', 'fashion_week',\n",
       "       'match_happening', 'match_happening_cl', 'temp', 'feels_like',\n",
       "       'temp_min', 'temp_max', 'wind_speed', 'clouds_all', 'vacances_paris',\n",
       "       'clear', 'clouds', 'drizzle', 'drizzle_and_rain', 'fog', 'mist', 'rain',\n",
       "       'thunderstorm'],\n",
       "      dtype='object')"
      ]
     },
     "execution_count": 13,
     "metadata": {},
     "output_type": "execute_result"
    }
   ],
   "source": [
    "data.columns"
   ]
  },
  {
   "cell_type": "code",
   "execution_count": 14,
   "id": "501a9e46",
   "metadata": {
    "ExecuteTime": {
     "end_time": "2021-08-31T14:38:01.686899Z",
     "start_time": "2021-08-31T14:38:01.660233Z"
    }
   },
   "outputs": [],
   "source": [
    "data_events = data[['date','service','roland_garros','fashion_week']]"
   ]
  },
  {
   "cell_type": "code",
   "execution_count": 15,
   "id": "72204902",
   "metadata": {
    "ExecuteTime": {
     "end_time": "2021-08-31T14:38:07.112359Z",
     "start_time": "2021-08-31T14:38:07.084245Z"
    }
   },
   "outputs": [
    {
     "data": {
      "text/html": [
       "<div>\n",
       "<style scoped>\n",
       "    .dataframe tbody tr th:only-of-type {\n",
       "        vertical-align: middle;\n",
       "    }\n",
       "\n",
       "    .dataframe tbody tr th {\n",
       "        vertical-align: top;\n",
       "    }\n",
       "\n",
       "    .dataframe thead th {\n",
       "        text-align: right;\n",
       "    }\n",
       "</style>\n",
       "<table border=\"1\" class=\"dataframe\">\n",
       "  <thead>\n",
       "    <tr style=\"text-align: right;\">\n",
       "      <th></th>\n",
       "      <th>date</th>\n",
       "      <th>service</th>\n",
       "      <th>match_edf</th>\n",
       "      <th>match_happening</th>\n",
       "      <th>match_happening_cl</th>\n",
       "      <th>roland_garros</th>\n",
       "      <th>fashion_week</th>\n",
       "    </tr>\n",
       "  </thead>\n",
       "  <tbody>\n",
       "    <tr>\n",
       "      <th>0</th>\n",
       "      <td>2019-01-01</td>\n",
       "      <td>midi</td>\n",
       "      <td>0</td>\n",
       "      <td>0.0</td>\n",
       "      <td>0.0</td>\n",
       "      <td>0</td>\n",
       "      <td>0</td>\n",
       "    </tr>\n",
       "    <tr>\n",
       "      <th>1</th>\n",
       "      <td>2019-01-01</td>\n",
       "      <td>soir</td>\n",
       "      <td>0</td>\n",
       "      <td>0.0</td>\n",
       "      <td>0.0</td>\n",
       "      <td>0</td>\n",
       "      <td>0</td>\n",
       "    </tr>\n",
       "    <tr>\n",
       "      <th>2</th>\n",
       "      <td>2019-01-02</td>\n",
       "      <td>midi</td>\n",
       "      <td>0</td>\n",
       "      <td>0.0</td>\n",
       "      <td>0.0</td>\n",
       "      <td>0</td>\n",
       "      <td>0</td>\n",
       "    </tr>\n",
       "    <tr>\n",
       "      <th>3</th>\n",
       "      <td>2019-01-02</td>\n",
       "      <td>soir</td>\n",
       "      <td>0</td>\n",
       "      <td>0.0</td>\n",
       "      <td>0.0</td>\n",
       "      <td>0</td>\n",
       "      <td>0</td>\n",
       "    </tr>\n",
       "    <tr>\n",
       "      <th>4</th>\n",
       "      <td>2019-01-03</td>\n",
       "      <td>midi</td>\n",
       "      <td>0</td>\n",
       "      <td>0.0</td>\n",
       "      <td>0.0</td>\n",
       "      <td>0</td>\n",
       "      <td>0</td>\n",
       "    </tr>\n",
       "    <tr>\n",
       "      <th>...</th>\n",
       "      <td>...</td>\n",
       "      <td>...</td>\n",
       "      <td>...</td>\n",
       "      <td>...</td>\n",
       "      <td>...</td>\n",
       "      <td>...</td>\n",
       "      <td>...</td>\n",
       "    </tr>\n",
       "    <tr>\n",
       "      <th>1881</th>\n",
       "      <td>2021-07-29</td>\n",
       "      <td>soir</td>\n",
       "      <td>0</td>\n",
       "      <td>0.0</td>\n",
       "      <td>0.0</td>\n",
       "      <td>0</td>\n",
       "      <td>0</td>\n",
       "    </tr>\n",
       "    <tr>\n",
       "      <th>1882</th>\n",
       "      <td>2021-07-30</td>\n",
       "      <td>midi</td>\n",
       "      <td>0</td>\n",
       "      <td>0.0</td>\n",
       "      <td>0.0</td>\n",
       "      <td>0</td>\n",
       "      <td>0</td>\n",
       "    </tr>\n",
       "    <tr>\n",
       "      <th>1883</th>\n",
       "      <td>2021-07-30</td>\n",
       "      <td>soir</td>\n",
       "      <td>0</td>\n",
       "      <td>0.0</td>\n",
       "      <td>0.0</td>\n",
       "      <td>0</td>\n",
       "      <td>0</td>\n",
       "    </tr>\n",
       "    <tr>\n",
       "      <th>1884</th>\n",
       "      <td>2021-07-31</td>\n",
       "      <td>midi</td>\n",
       "      <td>0</td>\n",
       "      <td>0.0</td>\n",
       "      <td>0.0</td>\n",
       "      <td>0</td>\n",
       "      <td>0</td>\n",
       "    </tr>\n",
       "    <tr>\n",
       "      <th>1885</th>\n",
       "      <td>2021-07-31</td>\n",
       "      <td>soir</td>\n",
       "      <td>0</td>\n",
       "      <td>0.0</td>\n",
       "      <td>0.0</td>\n",
       "      <td>0</td>\n",
       "      <td>0</td>\n",
       "    </tr>\n",
       "  </tbody>\n",
       "</table>\n",
       "<p>1886 rows × 7 columns</p>\n",
       "</div>"
      ],
      "text/plain": [
       "            date service  match_edf  match_happening  match_happening_cl  \\\n",
       "0     2019-01-01    midi          0              0.0                 0.0   \n",
       "1     2019-01-01    soir          0              0.0                 0.0   \n",
       "2     2019-01-02    midi          0              0.0                 0.0   \n",
       "3     2019-01-02    soir          0              0.0                 0.0   \n",
       "4     2019-01-03    midi          0              0.0                 0.0   \n",
       "...          ...     ...        ...              ...                 ...   \n",
       "1881  2021-07-29    soir          0              0.0                 0.0   \n",
       "1882  2021-07-30    midi          0              0.0                 0.0   \n",
       "1883  2021-07-30    soir          0              0.0                 0.0   \n",
       "1884  2021-07-31    midi          0              0.0                 0.0   \n",
       "1885  2021-07-31    soir          0              0.0                 0.0   \n",
       "\n",
       "      roland_garros  fashion_week  \n",
       "0                 0             0  \n",
       "1                 0             0  \n",
       "2                 0             0  \n",
       "3                 0             0  \n",
       "4                 0             0  \n",
       "...             ...           ...  \n",
       "1881              0             0  \n",
       "1882              0             0  \n",
       "1883              0             0  \n",
       "1884              0             0  \n",
       "1885              0             0  \n",
       "\n",
       "[1886 rows x 7 columns]"
      ]
     },
     "execution_count": 15,
     "metadata": {},
     "output_type": "execute_result"
    }
   ],
   "source": [
    "data_events"
   ]
  },
  {
   "cell_type": "code",
   "execution_count": 16,
   "id": "0e408f67",
   "metadata": {
    "ExecuteTime": {
     "end_time": "2021-08-31T14:39:00.410937Z",
     "start_time": "2021-08-31T14:39:00.394564Z"
    }
   },
   "outputs": [],
   "source": [
    "data_sports = data[['date','service','match_edf','match_happening','match_happening_cl']]"
   ]
  },
  {
   "cell_type": "code",
   "execution_count": 17,
   "id": "41ad8b7e",
   "metadata": {
    "ExecuteTime": {
     "end_time": "2021-08-31T14:39:57.621917Z",
     "start_time": "2021-08-31T14:39:57.578201Z"
    }
   },
   "outputs": [],
   "source": [
    "data_weather.to_csv(path_or_buf=\"data_weather.csv\", index=False)"
   ]
  },
  {
   "cell_type": "code",
   "execution_count": 18,
   "id": "0cdfa44f",
   "metadata": {
    "ExecuteTime": {
     "end_time": "2021-08-31T14:40:09.367153Z",
     "start_time": "2021-08-31T14:40:09.345735Z"
    }
   },
   "outputs": [],
   "source": [
    "data_sports.to_csv(path_or_buf=\"data_sports.csv\", index=False)"
   ]
  },
  {
   "cell_type": "code",
   "execution_count": 19,
   "id": "19f66d51",
   "metadata": {
    "ExecuteTime": {
     "end_time": "2021-08-31T14:40:22.230481Z",
     "start_time": "2021-08-31T14:40:22.197537Z"
    }
   },
   "outputs": [],
   "source": [
    "data_events.to_csv(path_or_buf=\"data_events.csv\", index=False)"
   ]
  },
  {
   "cell_type": "code",
   "execution_count": 20,
   "id": "9d0b9dfd",
   "metadata": {
    "ExecuteTime": {
     "end_time": "2021-08-31T14:40:40.528213Z",
     "start_time": "2021-08-31T14:40:40.513825Z"
    }
   },
   "outputs": [],
   "source": [
    "data_vacances.to_csv(path_or_buf=\"data_vacances.csv\", index=False)"
   ]
  },
  {
   "cell_type": "code",
   "execution_count": null,
   "id": "46db4bf2",
   "metadata": {},
   "outputs": [],
   "source": []
  }
 ],
 "metadata": {
  "kernelspec": {
   "display_name": "Python 3 (ipykernel)",
   "language": "python",
   "name": "python3"
  },
  "language_info": {
   "codemirror_mode": {
    "name": "ipython",
    "version": 3
   },
   "file_extension": ".py",
   "mimetype": "text/x-python",
   "name": "python",
   "nbconvert_exporter": "python",
   "pygments_lexer": "ipython3",
   "version": "3.8.6"
  },
  "toc": {
   "base_numbering": 1,
   "nav_menu": {},
   "number_sections": true,
   "sideBar": true,
   "skip_h1_title": false,
   "title_cell": "Table of Contents",
   "title_sidebar": "Contents",
   "toc_cell": false,
   "toc_position": {},
   "toc_section_display": true,
   "toc_window_display": false
  },
  "varInspector": {
   "cols": {
    "lenName": 16,
    "lenType": 16,
    "lenVar": 40
   },
   "kernels_config": {
    "python": {
     "delete_cmd_postfix": "",
     "delete_cmd_prefix": "del ",
     "library": "var_list.py",
     "varRefreshCmd": "print(var_dic_list())"
    },
    "r": {
     "delete_cmd_postfix": ") ",
     "delete_cmd_prefix": "rm(",
     "library": "var_list.r",
     "varRefreshCmd": "cat(var_dic_list()) "
    }
   },
   "types_to_exclude": [
    "module",
    "function",
    "builtin_function_or_method",
    "instance",
    "_Feature"
   ],
   "window_display": false
  }
 },
 "nbformat": 4,
 "nbformat_minor": 5
}
