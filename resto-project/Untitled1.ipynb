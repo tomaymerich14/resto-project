{
 "cells": [
  {
   "cell_type": "code",
   "execution_count": 137,
   "id": "1b0aec3c",
   "metadata": {
    "ExecuteTime": {
     "end_time": "2021-08-31T16:03:52.260302Z",
     "start_time": "2021-08-31T16:03:52.104123Z"
    }
   },
   "outputs": [],
   "source": [
    "import numpy as np\n",
    "import pandas as pd\n",
    "import requests"
   ]
  },
  {
   "cell_type": "code",
   "execution_count": 138,
   "id": "ff95ef36",
   "metadata": {
    "ExecuteTime": {
     "end_time": "2021-08-31T16:03:52.595786Z",
     "start_time": "2021-08-31T16:03:52.590078Z"
    }
   },
   "outputs": [],
   "source": [
    "def fetch_data_api(api, city, nodays):\n",
    "    \"\"\"\n",
    "    Get weather data from weather API. Returns empty string if data not found'\n",
    "\n",
    "    \"\"\"\n",
    "    #api = '7aa7fc7be1af4500882144440212208'\n",
    "    #city = 'Paris'\n",
    "    #nodays = '7'\n",
    "    url = f'http://api.weatherapi.com/v1/forecast.json?key={api}&q={city}&days={nodays}&aqi=no&alerts=no'\n",
    "\n",
    "    response = requests.get(url)\n",
    "\n",
    "    if response.status_code != 200:\n",
    "        return ''\n",
    "    data = response.json()\n",
    "\n",
    "    data = data['forecast']['forecastday']\n",
    "    return data"
   ]
  },
  {
   "cell_type": "code",
   "execution_count": 140,
   "id": "8758d97e",
   "metadata": {
    "ExecuteTime": {
     "end_time": "2021-08-31T16:04:09.572483Z",
     "start_time": "2021-08-31T16:04:09.569073Z"
    }
   },
   "outputs": [],
   "source": [
    "def jour_annee(x):\n",
    "    return x.toordinal() - dt.date(x.year, 1, 1).toordinal() + 1"
   ]
  },
  {
   "cell_type": "code",
   "execution_count": 147,
   "id": "83142070",
   "metadata": {
    "ExecuteTime": {
     "end_time": "2021-08-31T16:05:54.263381Z",
     "start_time": "2021-08-31T16:05:54.078788Z"
    }
   },
   "outputs": [
    {
     "name": "stdout",
     "output_type": "stream",
     "text": [
      "         date  temp_c condition  wind_kph  feelslike_c service\n",
      "0  2021-08-31    20.6    Clouds      15.8         20.6   Lunch\n",
      "1  2021-08-31    22.7    Clouds      17.6         24.2  Dinner\n",
      "2  2021-09-01    19.6     Clear      15.8         19.6   Lunch\n",
      "3  2021-09-01    20.7     Clear      18.0         20.7  Dinner\n",
      "4  2021-09-02    22.9     Clear      18.7         24.1   Lunch\n",
      "5  2021-09-02    25.0     Clear      18.0         25.0  Dinner\n"
     ]
    },
    {
     "name": "stderr",
     "output_type": "stream",
     "text": [
      "/var/folders/p2/6ddwj2812811pbqjm8t6brv80000gn/T/ipykernel_90079/1095417621.py:9: SettingWithCopyWarning: \n",
      "A value is trying to be set on a copy of a slice from a DataFrame\n",
      "\n",
      "See the caveats in the documentation: https://pandas.pydata.org/pandas-docs/stable/user_guide/indexing.html#returning-a-view-versus-a-copy\n",
      "  daily_hourly_data['condition'][i]=interm\n",
      "/var/folders/p2/6ddwj2812811pbqjm8t6brv80000gn/T/ipykernel_90079/1095417621.py:46: SettingWithCopyWarning: \n",
      "A value is trying to be set on a copy of a slice from a DataFrame\n",
      "\n",
      "See the caveats in the documentation: https://pandas.pydata.org/pandas-docs/stable/user_guide/indexing.html#returning-a-view-versus-a-copy\n",
      "  seven_day_forecast['condition'][i] = x[0]\n",
      "/var/folders/p2/6ddwj2812811pbqjm8t6brv80000gn/T/ipykernel_90079/1095417621.py:50: SettingWithCopyWarning: \n",
      "A value is trying to be set on a copy of a slice from a DataFrame.\n",
      "Try using .loc[row_indexer,col_indexer] = value instead\n",
      "\n",
      "See the caveats in the documentation: https://pandas.pydata.org/pandas-docs/stable/user_guide/indexing.html#returning-a-view-versus-a-copy\n",
      "  lunch['service']='Lunch'\n",
      "/var/folders/p2/6ddwj2812811pbqjm8t6brv80000gn/T/ipykernel_90079/1095417621.py:52: SettingWithCopyWarning: \n",
      "A value is trying to be set on a copy of a slice from a DataFrame.\n",
      "Try using .loc[row_indexer,col_indexer] = value instead\n",
      "\n",
      "See the caveats in the documentation: https://pandas.pydata.org/pandas-docs/stable/user_guide/indexing.html#returning-a-view-versus-a-copy\n",
      "  dinner['service']='Dinner'\n",
      "/var/folders/p2/6ddwj2812811pbqjm8t6brv80000gn/T/ipykernel_90079/1095417621.py:67: FutureWarning: Series.dt.weekofyear and Series.dt.week have been deprecated.  Please use Series.dt.isocalendar().week instead.\n",
      "  forecasted_services['sem_de_annee'] = forecasted_services['date'].dt.week\n"
     ]
    },
    {
     "data": {
      "application/javascript": [
       "\n",
       "        if (window._pyforest_update_imports_cell) { window._pyforest_update_imports_cell('import datetime as dt'); }\n",
       "    "
      ],
      "text/plain": [
       "<IPython.core.display.Javascript object>"
      ]
     },
     "metadata": {},
     "output_type": "display_data"
    },
    {
     "data": {
      "application/javascript": [
       "\n",
       "        if (window._pyforest_update_imports_cell) { window._pyforest_update_imports_cell('import datetime as dt'); }\n",
       "    "
      ],
      "text/plain": [
       "<IPython.core.display.Javascript object>"
      ]
     },
     "metadata": {},
     "output_type": "display_data"
    },
    {
     "data": {
      "application/javascript": [
       "\n",
       "        if (window._pyforest_update_imports_cell) { window._pyforest_update_imports_cell('import datetime as dt'); }\n",
       "    "
      ],
      "text/plain": [
       "<IPython.core.display.Javascript object>"
      ]
     },
     "metadata": {},
     "output_type": "display_data"
    },
    {
     "data": {
      "application/javascript": [
       "\n",
       "        if (window._pyforest_update_imports_cell) { window._pyforest_update_imports_cell('import datetime as dt'); }\n",
       "    "
      ],
      "text/plain": [
       "<IPython.core.display.Javascript object>"
      ]
     },
     "metadata": {},
     "output_type": "display_data"
    },
    {
     "data": {
      "application/javascript": [
       "\n",
       "        if (window._pyforest_update_imports_cell) { window._pyforest_update_imports_cell('import datetime as dt'); }\n",
       "    "
      ],
      "text/plain": [
       "<IPython.core.display.Javascript object>"
      ]
     },
     "metadata": {},
     "output_type": "display_data"
    },
    {
     "data": {
      "application/javascript": [
       "\n",
       "        if (window._pyforest_update_imports_cell) { window._pyforest_update_imports_cell('import datetime as dt'); }\n",
       "    "
      ],
      "text/plain": [
       "<IPython.core.display.Javascript object>"
      ]
     },
     "metadata": {},
     "output_type": "display_data"
    },
    {
     "name": "stdout",
     "output_type": "stream",
     "text": [
      "0\n",
      "0\n"
     ]
    },
    {
     "name": "stderr",
     "output_type": "stream",
     "text": [
      "/var/folders/p2/6ddwj2812811pbqjm8t6brv80000gn/T/ipykernel_90079/1095417621.py:84: SettingWithCopyWarning: \n",
      "A value is trying to be set on a copy of a slice from a DataFrame\n",
      "\n",
      "See the caveats in the documentation: https://pandas.pydata.org/pandas-docs/stable/user_guide/indexing.html#returning-a-view-versus-a-copy\n",
      "  forecasted_services['clouds_all'][i] = 50\n"
     ]
    }
   ],
   "source": [
    "data = fetch_data_api('09e033659f124258acf74721212408','Paris','3')\n",
    "daily_data = pd.DataFrame(data[0]['day']).iloc[2,:]\n",
    "### gives the weather hour by hour for the entire first day###\n",
    "\n",
    "daily_hourly_data = pd.DataFrame(data[0]['hour'])\n",
    "#condition has a code and an image, the code below only keeps the needed weather state\n",
    "for i in range(len(daily_hourly_data)):\n",
    "    interm = daily_hourly_data['condition'][i]['text']\n",
    "    daily_hourly_data['condition'][i]=interm\n",
    "\n",
    "#condition is given as three values this keeps only one\n",
    "data_series=[]\n",
    "for i in range(3):\n",
    "    data_series.append(data[i]['hour'])\n",
    "\n",
    "#condition has a code and an image, the code below only keeps the needed weather state\n",
    "for x in range(3):\n",
    "    for y in range(24):\n",
    "        data_series[x][y]['condition']=data_series[x][y]['condition']['text']\n",
    "\n",
    "d={}\n",
    "for i in range(len(data_series)):\n",
    "    d[i] = pd.DataFrame(data_series[i])\n",
    "\n",
    "seven_day_forecast = pd.concat([d[i] for i in range(len(data_series))])\n",
    "\n",
    "#convert time column to datetime\n",
    "seven_day_forecast['time']=pd.to_datetime(seven_day_forecast['time'])\n",
    "\n",
    "#change conditions for a more simple range of possible values\n",
    "clear = ['Clear', 'Sunny']\n",
    "clouds = ['Clouds','Partly cloudy', 'Cloudy', 'Overcast']\n",
    "rain = ['Rain','Patchy rain possible', 'Patchy light rain', 'Light rain', 'Moderate rain at times','Moderate rain','Heavy rain at times','Heavy rain','Moderate or heavy rain shower','Torrential rain shower']\n",
    "mist = ['Mist']\n",
    "drizzle = ['Drizzle','Patchy light drizzle','Light drizzle','Freezing drizzle','Heavy freezing drizzle','Light rain shower']\n",
    "fog = ['Fog', 'Freezing Fog']\n",
    "snow = ['Snow','Patchy snow possible', 'Patchy sleet possible', 'Patchy freezing drizzle possible', 'Blowing snow','Blizzard','Moderate or heavy freezing rain','Light freezing rain','Light sleet', 'Moderate or heavy sleet','Patchy light snow','Light snow','Patchy moderate snow','Moderate snow','Patchy heavy snow','Heavy snow','Ice pellets','Light sleet showers', 'Moderate or heavy sleet showers','Light snow showers','Moderate or heavy snow showers','Light showers of ice pellets','Moderate or heavy showers of ice pellets']\n",
    "thunderstorm = ['Thunderstorm','Thundery outbreaks possible', 'Patchy light rain with thunder','Moderate or heavy rain with thunder','Patchy light snow with thunder','Moderate or heavy snow with thunder']\n",
    "haze = ['Haze']\n",
    "\n",
    "summed_conditions = [clear, clouds, rain, mist, drizzle, fog, snow, thunderstorm, haze]\n",
    "seven_day_forecast=seven_day_forecast.reset_index()\n",
    "for i in range(len(seven_day_forecast['condition'])):\n",
    "    for x in summed_conditions:\n",
    "        if seven_day_forecast['condition'][i] in x:\n",
    "            seven_day_forecast['condition'][i] = x[0]\n",
    "\n",
    "\n",
    "lunch = seven_day_forecast[seven_day_forecast['time'].dt.hour==12]\n",
    "lunch['service']='Lunch'\n",
    "dinner = seven_day_forecast[seven_day_forecast['time'].dt.hour==18]\n",
    "dinner['service']='Dinner'\n",
    "\n",
    "forecasted_services = pd.concat([lunch, dinner])\n",
    "forecasted_services['time'] = forecasted_services['time'].dt.date\n",
    "\n",
    "forecasted_services=forecasted_services.set_index('time')\n",
    "forecasted_services = forecasted_services.sort_values('time')\n",
    "forecasted_services = forecasted_services[['index','temp_c','condition','wind_kph','feelslike_c', 'service']]\n",
    "forecasted_services=forecasted_services.reset_index().rename(columns={'time':'date'}).drop(columns='index')\n",
    "print(forecasted_services)\n",
    "forecasted_services=forecasted_services.rename(columns={'feelslike_c':'feels_like','temp_c':'temp', 'wind_kph':'wind_speed'}, errors = 'raise')\n",
    "forecasted_services['date'] = pd.to_datetime(forecasted_services['date'],  format='%Y-%m-%d')\n",
    "forecasted_services['jour_de_sem'] = forecasted_services['date'].dt.weekday +1\n",
    "forecasted_services['jour_du_mois'] = forecasted_services['date'].dt.day\n",
    "forecasted_services['mois_de_annee'] = forecasted_services['date'].dt.month\n",
    "forecasted_services['sem_de_annee'] = forecasted_services['date'].dt.week\n",
    "forecasted_services['jour_annee'] = forecasted_services.apply(lambda x:jour_annee(x['date']), axis=1)\n",
    "\n",
    "forecasted_services['temp_min'] = forecasted_services['temp'] - 1\n",
    "forecasted_services['temp_max'] = forecasted_services['temp'] + 1\n",
    "forecasted_services['clouds_all'] = 0\n",
    "forecasted_services['moyen_7_services'] = 0\n",
    "forecasted_services['moyen_31_services'] = 0\n",
    "forecasted_services['moyenne_3der_j&service'] = 0\n",
    "forecasted_services['condition'] = forecasted_services['condition'].str.lower()\n",
    "table = pd.get_dummies(forecasted_services['condition'])\n",
    "forecasted_services = pd.merge(forecasted_services, table, left_index=True, right_index=True).drop(columns='condition')\n",
    "forecasted_services['jour']= forecasted_services['date'].dt.strftime('%A')\n",
    "for i in range(len(forecasted_services)):\n",
    "    #print(i)\n",
    "    if forecasted_services['clouds'][i]==1:\n",
    "        print(forecasted_services['clouds_all'][i])\n",
    "        forecasted_services['clouds_all'][i] = 50"
   ]
  },
  {
   "cell_type": "code",
   "execution_count": 148,
   "id": "54950519",
   "metadata": {
    "ExecuteTime": {
     "end_time": "2021-08-31T16:05:57.781440Z",
     "start_time": "2021-08-31T16:05:57.756142Z"
    }
   },
   "outputs": [
    {
     "data": {
      "text/html": [
       "<div>\n",
       "<style scoped>\n",
       "    .dataframe tbody tr th:only-of-type {\n",
       "        vertical-align: middle;\n",
       "    }\n",
       "\n",
       "    .dataframe tbody tr th {\n",
       "        vertical-align: top;\n",
       "    }\n",
       "\n",
       "    .dataframe thead th {\n",
       "        text-align: right;\n",
       "    }\n",
       "</style>\n",
       "<table border=\"1\" class=\"dataframe\">\n",
       "  <thead>\n",
       "    <tr style=\"text-align: right;\">\n",
       "      <th></th>\n",
       "      <th>date</th>\n",
       "      <th>temp</th>\n",
       "      <th>wind_speed</th>\n",
       "      <th>feels_like</th>\n",
       "      <th>service</th>\n",
       "      <th>jour_de_sem</th>\n",
       "      <th>jour_du_mois</th>\n",
       "      <th>mois_de_annee</th>\n",
       "      <th>sem_de_annee</th>\n",
       "      <th>jour_annee</th>\n",
       "      <th>temp_min</th>\n",
       "      <th>temp_max</th>\n",
       "      <th>clouds_all</th>\n",
       "      <th>moyen_7_services</th>\n",
       "      <th>moyen_31_services</th>\n",
       "      <th>moyenne_3der_j&amp;service</th>\n",
       "      <th>clear</th>\n",
       "      <th>clouds</th>\n",
       "      <th>jour</th>\n",
       "    </tr>\n",
       "  </thead>\n",
       "  <tbody>\n",
       "    <tr>\n",
       "      <th>0</th>\n",
       "      <td>2021-08-31</td>\n",
       "      <td>20.6</td>\n",
       "      <td>15.8</td>\n",
       "      <td>20.6</td>\n",
       "      <td>Lunch</td>\n",
       "      <td>2</td>\n",
       "      <td>31</td>\n",
       "      <td>8</td>\n",
       "      <td>35</td>\n",
       "      <td>243</td>\n",
       "      <td>19.6</td>\n",
       "      <td>21.6</td>\n",
       "      <td>50</td>\n",
       "      <td>0</td>\n",
       "      <td>0</td>\n",
       "      <td>0</td>\n",
       "      <td>0</td>\n",
       "      <td>1</td>\n",
       "      <td>Tuesday</td>\n",
       "    </tr>\n",
       "    <tr>\n",
       "      <th>1</th>\n",
       "      <td>2021-08-31</td>\n",
       "      <td>22.7</td>\n",
       "      <td>17.6</td>\n",
       "      <td>24.2</td>\n",
       "      <td>Dinner</td>\n",
       "      <td>2</td>\n",
       "      <td>31</td>\n",
       "      <td>8</td>\n",
       "      <td>35</td>\n",
       "      <td>243</td>\n",
       "      <td>21.7</td>\n",
       "      <td>23.7</td>\n",
       "      <td>50</td>\n",
       "      <td>0</td>\n",
       "      <td>0</td>\n",
       "      <td>0</td>\n",
       "      <td>0</td>\n",
       "      <td>1</td>\n",
       "      <td>Tuesday</td>\n",
       "    </tr>\n",
       "    <tr>\n",
       "      <th>2</th>\n",
       "      <td>2021-09-01</td>\n",
       "      <td>19.6</td>\n",
       "      <td>15.8</td>\n",
       "      <td>19.6</td>\n",
       "      <td>Lunch</td>\n",
       "      <td>3</td>\n",
       "      <td>1</td>\n",
       "      <td>9</td>\n",
       "      <td>35</td>\n",
       "      <td>244</td>\n",
       "      <td>18.6</td>\n",
       "      <td>20.6</td>\n",
       "      <td>0</td>\n",
       "      <td>0</td>\n",
       "      <td>0</td>\n",
       "      <td>0</td>\n",
       "      <td>1</td>\n",
       "      <td>0</td>\n",
       "      <td>Wednesday</td>\n",
       "    </tr>\n",
       "    <tr>\n",
       "      <th>3</th>\n",
       "      <td>2021-09-01</td>\n",
       "      <td>20.7</td>\n",
       "      <td>18.0</td>\n",
       "      <td>20.7</td>\n",
       "      <td>Dinner</td>\n",
       "      <td>3</td>\n",
       "      <td>1</td>\n",
       "      <td>9</td>\n",
       "      <td>35</td>\n",
       "      <td>244</td>\n",
       "      <td>19.7</td>\n",
       "      <td>21.7</td>\n",
       "      <td>0</td>\n",
       "      <td>0</td>\n",
       "      <td>0</td>\n",
       "      <td>0</td>\n",
       "      <td>1</td>\n",
       "      <td>0</td>\n",
       "      <td>Wednesday</td>\n",
       "    </tr>\n",
       "    <tr>\n",
       "      <th>4</th>\n",
       "      <td>2021-09-02</td>\n",
       "      <td>22.9</td>\n",
       "      <td>18.7</td>\n",
       "      <td>24.1</td>\n",
       "      <td>Lunch</td>\n",
       "      <td>4</td>\n",
       "      <td>2</td>\n",
       "      <td>9</td>\n",
       "      <td>35</td>\n",
       "      <td>245</td>\n",
       "      <td>21.9</td>\n",
       "      <td>23.9</td>\n",
       "      <td>0</td>\n",
       "      <td>0</td>\n",
       "      <td>0</td>\n",
       "      <td>0</td>\n",
       "      <td>1</td>\n",
       "      <td>0</td>\n",
       "      <td>Thursday</td>\n",
       "    </tr>\n",
       "    <tr>\n",
       "      <th>5</th>\n",
       "      <td>2021-09-02</td>\n",
       "      <td>25.0</td>\n",
       "      <td>18.0</td>\n",
       "      <td>25.0</td>\n",
       "      <td>Dinner</td>\n",
       "      <td>4</td>\n",
       "      <td>2</td>\n",
       "      <td>9</td>\n",
       "      <td>35</td>\n",
       "      <td>245</td>\n",
       "      <td>24.0</td>\n",
       "      <td>26.0</td>\n",
       "      <td>0</td>\n",
       "      <td>0</td>\n",
       "      <td>0</td>\n",
       "      <td>0</td>\n",
       "      <td>1</td>\n",
       "      <td>0</td>\n",
       "      <td>Thursday</td>\n",
       "    </tr>\n",
       "  </tbody>\n",
       "</table>\n",
       "</div>"
      ],
      "text/plain": [
       "        date  temp  wind_speed  feels_like service  jour_de_sem  jour_du_mois  \\\n",
       "0 2021-08-31  20.6        15.8        20.6   Lunch            2            31   \n",
       "1 2021-08-31  22.7        17.6        24.2  Dinner            2            31   \n",
       "2 2021-09-01  19.6        15.8        19.6   Lunch            3             1   \n",
       "3 2021-09-01  20.7        18.0        20.7  Dinner            3             1   \n",
       "4 2021-09-02  22.9        18.7        24.1   Lunch            4             2   \n",
       "5 2021-09-02  25.0        18.0        25.0  Dinner            4             2   \n",
       "\n",
       "   mois_de_annee  sem_de_annee  jour_annee  temp_min  temp_max  clouds_all  \\\n",
       "0              8            35         243      19.6      21.6          50   \n",
       "1              8            35         243      21.7      23.7          50   \n",
       "2              9            35         244      18.6      20.6           0   \n",
       "3              9            35         244      19.7      21.7           0   \n",
       "4              9            35         245      21.9      23.9           0   \n",
       "5              9            35         245      24.0      26.0           0   \n",
       "\n",
       "   moyen_7_services  moyen_31_services  moyenne_3der_j&service  clear  clouds  \\\n",
       "0                 0                  0                       0      0       1   \n",
       "1                 0                  0                       0      0       1   \n",
       "2                 0                  0                       0      1       0   \n",
       "3                 0                  0                       0      1       0   \n",
       "4                 0                  0                       0      1       0   \n",
       "5                 0                  0                       0      1       0   \n",
       "\n",
       "        jour  \n",
       "0    Tuesday  \n",
       "1    Tuesday  \n",
       "2  Wednesday  \n",
       "3  Wednesday  \n",
       "4   Thursday  \n",
       "5   Thursday  "
      ]
     },
     "execution_count": 148,
     "metadata": {},
     "output_type": "execute_result"
    }
   ],
   "source": [
    "forecasted_services"
   ]
  },
  {
   "cell_type": "code",
   "execution_count": null,
   "id": "be449947",
   "metadata": {},
   "outputs": [],
   "source": []
  }
 ],
 "metadata": {
  "kernelspec": {
   "display_name": "Python 3 (ipykernel)",
   "language": "python",
   "name": "python3"
  },
  "language_info": {
   "codemirror_mode": {
    "name": "ipython",
    "version": 3
   },
   "file_extension": ".py",
   "mimetype": "text/x-python",
   "name": "python",
   "nbconvert_exporter": "python",
   "pygments_lexer": "ipython3",
   "version": "3.8.6"
  },
  "toc": {
   "base_numbering": 1,
   "nav_menu": {},
   "number_sections": true,
   "sideBar": true,
   "skip_h1_title": false,
   "title_cell": "Table of Contents",
   "title_sidebar": "Contents",
   "toc_cell": false,
   "toc_position": {},
   "toc_section_display": true,
   "toc_window_display": false
  }
 },
 "nbformat": 4,
 "nbformat_minor": 5
}
