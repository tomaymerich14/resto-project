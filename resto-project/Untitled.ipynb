{
 "cells": [
  {
   "cell_type": "code",
   "execution_count": 1,
   "id": "913423ca",
   "metadata": {
    "ExecuteTime": {
     "end_time": "2021-08-31T13:07:24.407099Z",
     "start_time": "2021-08-31T13:07:24.398625Z"
    }
   },
   "outputs": [],
   "source": [
    "def fetch_data_api(api, city, nodays):\n",
    "    \"\"\"\n",
    "    Get weather data from weather API. Returns empty string if data not found'\n",
    "\n",
    "    \"\"\"\n",
    "    #api = '7aa7fc7be1af4500882144440212208'\n",
    "    #city = 'Paris'\n",
    "    #nodays = '7'\n",
    "    url = f'http://api.weatherapi.com/v1/forecast.json?key={api}&q={city}&days={nodays}&aqi=no&alerts=no'\n",
    "\n",
    "    response = requests.get(url)\n",
    "\n",
    "    if response.status_code != 200:\n",
    "        return ''\n",
    "    data = response.json()\n",
    "\n",
    "    data = data['forecast']['forecastday']\n",
    "    return data\n"
   ]
  },
  {
   "cell_type": "code",
   "execution_count": 4,
   "id": "f95c2697",
   "metadata": {
    "ExecuteTime": {
     "end_time": "2021-08-31T13:07:53.185933Z",
     "start_time": "2021-08-31T13:07:52.448145Z"
    }
   },
   "outputs": [],
   "source": [
    "import pandas as pd\n",
    "import requests\n",
    "import numpy as np"
   ]
  },
  {
   "cell_type": "code",
   "execution_count": 5,
   "id": "fb12e014",
   "metadata": {
    "ExecuteTime": {
     "end_time": "2021-08-31T13:07:53.884002Z",
     "start_time": "2021-08-31T13:07:53.867034Z"
    }
   },
   "outputs": [],
   "source": [
    "def process_api_forecast():\n",
    "    data = fetch_data_api('09e033659f124258acf74721212408','Paris','3')\n",
    "    daily_data = pd.DataFrame(data[0]['day']).iloc[2,:]\n",
    "    ### gives the weather hour by hour for the entire first day###\n",
    "\n",
    "    daily_hourly_data = pd.DataFrame(data[0]['hour'])\n",
    "    #condition has a code and an image, the code below only keeps the needed weather state\n",
    "    for i in range(len(daily_hourly_data)):\n",
    "        interm = daily_hourly_data['condition'][i]['text']\n",
    "        daily_hourly_data['condition'][i]=interm\n",
    "\n",
    "    #condition is given as three values this keeps only one\n",
    "    data_series=[]\n",
    "    for i in range(3):\n",
    "        data_series.append(data[i]['hour'])\n",
    "\n",
    "    #condition has a code and an image, the code below only keeps the needed weather state\n",
    "    for x in range(3):\n",
    "        for y in range(24):\n",
    "            data_series[x][y]['condition']=data_series[x][y]['condition']['text']\n",
    "\n",
    "    d={}\n",
    "    for i in range(len(data_series)):\n",
    "        d[i] = pd.DataFrame(data_series[i])\n",
    "\n",
    "    seven_day_forecast = pd.concat([d[i] for i in range(len(data_series))])\n",
    "\n",
    "    #convert time column to datetime\n",
    "    seven_day_forecast['time']=pd.to_datetime(seven_day_forecast['time'])\n",
    "\n",
    "    #change conditions for a more simple range of possible values\n",
    "    Clear = ['Clear', 'Sunny']\n",
    "    Clouds = ['Clouds','Partly cloudy', 'Cloudy', 'Overcast']\n",
    "    Rain = ['Rain','Patchy rain possible', 'Patchy light rain', 'Light rain', 'Moderate rain at times','Moderate rain','Heavy rain at times','Heavy rain','Moderate or heavy rain shower','Torrential rain shower']\n",
    "    Mist = ['Mist']\n",
    "    Drizzle = ['Drizzle','Patchy light drizzle','Light drizzle','Freezing drizzle','Heavy freezing drizzle','Light rain shower']\n",
    "    Fog = ['Fog', 'Freezing Fog']\n",
    "    Snow = ['Snow','Patchy snow possible', 'Patchy sleet possible', 'Patchy freezing drizzle possible', 'Blowing snow','Blizzard','Moderate or heavy freezing rain','Light freezing rain','Light sleet', 'Moderate or heavy sleet','Patchy light snow','Light snow','Patchy moderate snow','Moderate snow','Patchy heavy snow','Heavy snow','Ice pellets','Light sleet showers', 'Moderate or heavy sleet showers','Light snow showers','Moderate or heavy snow showers','Light showers of ice pellets','Moderate or heavy showers of ice pellets']\n",
    "    Thunderstorm = ['Thunderstorm','Thundery outbreaks possible', 'Patchy light rain with thunder','Moderate or heavy rain with thunder','Patchy light snow with thunder','Moderate or heavy snow with thunder']\n",
    "    Haze = ['Haze']\n",
    "\n",
    "    summed_conditions = [Clear, Clouds, Rain, Mist, Drizzle, Fog, Snow, Thunderstorm, Haze]\n",
    "\n",
    "    for i in range(len(seven_day_forecast['condition'])):\n",
    "        for x in summed_conditions:\n",
    "            if seven_day_forecast['condition'][i] in x:\n",
    "                seven_day_forecast['condition'][i] = x[0]\n",
    "\n",
    "\n",
    "    lunch = seven_day_forecast[seven_day_forecast['time'].dt.hour==12]\n",
    "    lunch['Service']='Lunch'\n",
    "    dinner = seven_day_forecast[seven_day_forecast['time'].dt.hour==18]\n",
    "    dinner['Service']='Dinner'\n",
    "\n",
    "    forecasted_services = pd.concat([lunch, dinner])\n",
    "    forecasted_services['time'] = forecasted_services['time'].dt.date\n",
    "\n",
    "    forecasted_services=forecasted_services.set_index('time')\n",
    "    forecasted_services = forecasted_services.sort_values('time')\n",
    "\n",
    "    print(forecasted_services)\n",
    "    forecasted_services.to_csv('../raw_data/forecasted_services.csv')"
   ]
  },
  {
   "cell_type": "code",
   "execution_count": 6,
   "id": "7e62b6c0",
   "metadata": {
    "ExecuteTime": {
     "end_time": "2021-08-31T13:07:55.362281Z",
     "start_time": "2021-08-31T13:07:55.120231Z"
    }
   },
   "outputs": [
    {
     "name": "stderr",
     "output_type": "stream",
     "text": [
      "/var/folders/p2/6ddwj2812811pbqjm8t6brv80000gn/T/ipykernel_89068/1567316177.py:10: SettingWithCopyWarning: \n",
      "A value is trying to be set on a copy of a slice from a DataFrame\n",
      "\n",
      "See the caveats in the documentation: https://pandas.pydata.org/pandas-docs/stable/user_guide/indexing.html#returning-a-view-versus-a-copy\n",
      "  daily_hourly_data['condition'][i]=interm\n"
     ]
    },
    {
     "ename": "ValueError",
     "evalue": "The truth value of a Series is ambiguous. Use a.empty, a.bool(), a.item(), a.any() or a.all().",
     "output_type": "error",
     "traceback": [
      "\u001b[0;31m---------------------------------------------------------------------------\u001b[0m",
      "\u001b[0;31mValueError\u001b[0m                                Traceback (most recent call last)",
      "\u001b[0;32m/var/folders/p2/6ddwj2812811pbqjm8t6brv80000gn/T/ipykernel_89068/4042525754.py\u001b[0m in \u001b[0;36m<module>\u001b[0;34m\u001b[0m\n\u001b[0;32m----> 1\u001b[0;31m \u001b[0mprocess_api_forecast\u001b[0m\u001b[0;34m(\u001b[0m\u001b[0;34m)\u001b[0m\u001b[0;34m\u001b[0m\u001b[0;34m\u001b[0m\u001b[0m\n\u001b[0m",
      "\u001b[0;32m/var/folders/p2/6ddwj2812811pbqjm8t6brv80000gn/T/ipykernel_89068/1567316177.py\u001b[0m in \u001b[0;36mprocess_api_forecast\u001b[0;34m()\u001b[0m\n\u001b[1;32m     44\u001b[0m     \u001b[0;32mfor\u001b[0m \u001b[0mi\u001b[0m \u001b[0;32min\u001b[0m \u001b[0mrange\u001b[0m\u001b[0;34m(\u001b[0m\u001b[0mlen\u001b[0m\u001b[0;34m(\u001b[0m\u001b[0mseven_day_forecast\u001b[0m\u001b[0;34m[\u001b[0m\u001b[0;34m'condition'\u001b[0m\u001b[0;34m]\u001b[0m\u001b[0;34m)\u001b[0m\u001b[0;34m)\u001b[0m\u001b[0;34m:\u001b[0m\u001b[0;34m\u001b[0m\u001b[0;34m\u001b[0m\u001b[0m\n\u001b[1;32m     45\u001b[0m         \u001b[0;32mfor\u001b[0m \u001b[0mx\u001b[0m \u001b[0;32min\u001b[0m \u001b[0msummed_conditions\u001b[0m\u001b[0;34m:\u001b[0m\u001b[0;34m\u001b[0m\u001b[0;34m\u001b[0m\u001b[0m\n\u001b[0;32m---> 46\u001b[0;31m             \u001b[0;32mif\u001b[0m \u001b[0mseven_day_forecast\u001b[0m\u001b[0;34m[\u001b[0m\u001b[0;34m'condition'\u001b[0m\u001b[0;34m]\u001b[0m\u001b[0;34m[\u001b[0m\u001b[0mi\u001b[0m\u001b[0;34m]\u001b[0m \u001b[0;32min\u001b[0m \u001b[0mx\u001b[0m\u001b[0;34m:\u001b[0m\u001b[0;34m\u001b[0m\u001b[0;34m\u001b[0m\u001b[0m\n\u001b[0m\u001b[1;32m     47\u001b[0m                 \u001b[0mseven_day_forecast\u001b[0m\u001b[0;34m[\u001b[0m\u001b[0;34m'condition'\u001b[0m\u001b[0;34m]\u001b[0m\u001b[0;34m[\u001b[0m\u001b[0mi\u001b[0m\u001b[0;34m]\u001b[0m \u001b[0;34m=\u001b[0m \u001b[0mx\u001b[0m\u001b[0;34m[\u001b[0m\u001b[0;36m0\u001b[0m\u001b[0;34m]\u001b[0m\u001b[0;34m\u001b[0m\u001b[0;34m\u001b[0m\u001b[0m\n\u001b[1;32m     48\u001b[0m \u001b[0;34m\u001b[0m\u001b[0m\n",
      "\u001b[0;32m~/.pyenv/versions/3.8.6/envs/resto-project/lib/python3.8/site-packages/pandas/core/generic.py\u001b[0m in \u001b[0;36m__nonzero__\u001b[0;34m(self)\u001b[0m\n\u001b[1;32m   1535\u001b[0m     \u001b[0;34m@\u001b[0m\u001b[0mfinal\u001b[0m\u001b[0;34m\u001b[0m\u001b[0;34m\u001b[0m\u001b[0m\n\u001b[1;32m   1536\u001b[0m     \u001b[0;32mdef\u001b[0m \u001b[0m__nonzero__\u001b[0m\u001b[0;34m(\u001b[0m\u001b[0mself\u001b[0m\u001b[0;34m)\u001b[0m\u001b[0;34m:\u001b[0m\u001b[0;34m\u001b[0m\u001b[0;34m\u001b[0m\u001b[0m\n\u001b[0;32m-> 1537\u001b[0;31m         raise ValueError(\n\u001b[0m\u001b[1;32m   1538\u001b[0m             \u001b[0;34mf\"The truth value of a {type(self).__name__} is ambiguous. \"\u001b[0m\u001b[0;34m\u001b[0m\u001b[0;34m\u001b[0m\u001b[0m\n\u001b[1;32m   1539\u001b[0m             \u001b[0;34m\"Use a.empty, a.bool(), a.item(), a.any() or a.all().\"\u001b[0m\u001b[0;34m\u001b[0m\u001b[0;34m\u001b[0m\u001b[0m\n",
      "\u001b[0;31mValueError\u001b[0m: The truth value of a Series is ambiguous. Use a.empty, a.bool(), a.item(), a.any() or a.all()."
     ]
    }
   ],
   "source": [
    "process_api_forecast()"
   ]
  },
  {
   "cell_type": "code",
   "execution_count": 17,
   "id": "05708528",
   "metadata": {
    "ExecuteTime": {
     "end_time": "2021-08-31T13:14:21.785494Z",
     "start_time": "2021-08-31T13:14:21.261234Z"
    }
   },
   "outputs": [
    {
     "name": "stderr",
     "output_type": "stream",
     "text": [
      "/var/folders/p2/6ddwj2812811pbqjm8t6brv80000gn/T/ipykernel_89068/4026780115.py:9: SettingWithCopyWarning: \n",
      "A value is trying to be set on a copy of a slice from a DataFrame\n",
      "\n",
      "See the caveats in the documentation: https://pandas.pydata.org/pandas-docs/stable/user_guide/indexing.html#returning-a-view-versus-a-copy\n",
      "  daily_hourly_data['condition'][i]=interm\n"
     ]
    },
    {
     "ename": "ValueError",
     "evalue": "Columns must be same length as key",
     "output_type": "error",
     "traceback": [
      "\u001b[0;31m---------------------------------------------------------------------------\u001b[0m",
      "\u001b[0;31mValueError\u001b[0m                                Traceback (most recent call last)",
      "\u001b[0;32m/var/folders/p2/6ddwj2812811pbqjm8t6brv80000gn/T/ipykernel_89068/4026780115.py\u001b[0m in \u001b[0;36m<module>\u001b[0;34m\u001b[0m\n\u001b[1;32m     40\u001b[0m \u001b[0;34m\u001b[0m\u001b[0m\n\u001b[1;32m     41\u001b[0m \u001b[0msummed_conditions\u001b[0m \u001b[0;34m=\u001b[0m \u001b[0;34m[\u001b[0m\u001b[0mClear\u001b[0m\u001b[0;34m,\u001b[0m \u001b[0mClouds\u001b[0m\u001b[0;34m,\u001b[0m \u001b[0mRain\u001b[0m\u001b[0;34m,\u001b[0m \u001b[0mMist\u001b[0m\u001b[0;34m,\u001b[0m \u001b[0mDrizzle\u001b[0m\u001b[0;34m,\u001b[0m \u001b[0mFog\u001b[0m\u001b[0;34m,\u001b[0m \u001b[0mSnow\u001b[0m\u001b[0;34m,\u001b[0m \u001b[0mThunderstorm\u001b[0m\u001b[0;34m,\u001b[0m \u001b[0mHaze\u001b[0m\u001b[0;34m]\u001b[0m\u001b[0;34m\u001b[0m\u001b[0;34m\u001b[0m\u001b[0m\n\u001b[0;32m---> 42\u001b[0;31m \u001b[0mseven_day_forecast\u001b[0m\u001b[0;34m[\u001b[0m\u001b[0;34m'condition'\u001b[0m\u001b[0;34m]\u001b[0m\u001b[0;34m=\u001b[0m\u001b[0mseven_day_forecast\u001b[0m\u001b[0;34m[\u001b[0m\u001b[0;34m'condition'\u001b[0m\u001b[0;34m]\u001b[0m\u001b[0;34m.\u001b[0m\u001b[0mreset_index\u001b[0m\u001b[0;34m(\u001b[0m\u001b[0;34m)\u001b[0m\u001b[0;34m\u001b[0m\u001b[0;34m\u001b[0m\u001b[0m\n\u001b[0m",
      "\u001b[0;32m~/.pyenv/versions/3.8.6/envs/resto-project/lib/python3.8/site-packages/pandas/core/frame.py\u001b[0m in \u001b[0;36m__setitem__\u001b[0;34m(self, key, value)\u001b[0m\n\u001b[1;32m   3597\u001b[0m             \u001b[0mself\u001b[0m\u001b[0;34m.\u001b[0m\u001b[0m_setitem_array\u001b[0m\u001b[0;34m(\u001b[0m\u001b[0mkey\u001b[0m\u001b[0;34m,\u001b[0m \u001b[0mvalue\u001b[0m\u001b[0;34m)\u001b[0m\u001b[0;34m\u001b[0m\u001b[0;34m\u001b[0m\u001b[0m\n\u001b[1;32m   3598\u001b[0m         \u001b[0;32melif\u001b[0m \u001b[0misinstance\u001b[0m\u001b[0;34m(\u001b[0m\u001b[0mvalue\u001b[0m\u001b[0;34m,\u001b[0m \u001b[0mDataFrame\u001b[0m\u001b[0;34m)\u001b[0m\u001b[0;34m:\u001b[0m\u001b[0;34m\u001b[0m\u001b[0;34m\u001b[0m\u001b[0m\n\u001b[0;32m-> 3599\u001b[0;31m             \u001b[0mself\u001b[0m\u001b[0;34m.\u001b[0m\u001b[0m_set_item_frame_value\u001b[0m\u001b[0;34m(\u001b[0m\u001b[0mkey\u001b[0m\u001b[0;34m,\u001b[0m \u001b[0mvalue\u001b[0m\u001b[0;34m)\u001b[0m\u001b[0;34m\u001b[0m\u001b[0;34m\u001b[0m\u001b[0m\n\u001b[0m\u001b[1;32m   3600\u001b[0m         elif is_list_like(value) and 1 < len(\n\u001b[1;32m   3601\u001b[0m             \u001b[0mself\u001b[0m\u001b[0;34m.\u001b[0m\u001b[0mcolumns\u001b[0m\u001b[0;34m.\u001b[0m\u001b[0mget_indexer_for\u001b[0m\u001b[0;34m(\u001b[0m\u001b[0;34m[\u001b[0m\u001b[0mkey\u001b[0m\u001b[0;34m]\u001b[0m\u001b[0;34m)\u001b[0m\u001b[0;34m\u001b[0m\u001b[0;34m\u001b[0m\u001b[0m\n",
      "\u001b[0;32m~/.pyenv/versions/3.8.6/envs/resto-project/lib/python3.8/site-packages/pandas/core/frame.py\u001b[0m in \u001b[0;36m_set_item_frame_value\u001b[0;34m(self, key, value)\u001b[0m\n\u001b[1;32m   3722\u001b[0m             \u001b[0mlen_cols\u001b[0m \u001b[0;34m=\u001b[0m \u001b[0;36m1\u001b[0m \u001b[0;32mif\u001b[0m \u001b[0mis_scalar\u001b[0m\u001b[0;34m(\u001b[0m\u001b[0mcols\u001b[0m\u001b[0;34m)\u001b[0m \u001b[0;32melse\u001b[0m \u001b[0mlen\u001b[0m\u001b[0;34m(\u001b[0m\u001b[0mcols\u001b[0m\u001b[0;34m)\u001b[0m\u001b[0;34m\u001b[0m\u001b[0;34m\u001b[0m\u001b[0m\n\u001b[1;32m   3723\u001b[0m             \u001b[0;32mif\u001b[0m \u001b[0mlen_cols\u001b[0m \u001b[0;34m!=\u001b[0m \u001b[0mlen\u001b[0m\u001b[0;34m(\u001b[0m\u001b[0mvalue\u001b[0m\u001b[0;34m.\u001b[0m\u001b[0mcolumns\u001b[0m\u001b[0;34m)\u001b[0m\u001b[0;34m:\u001b[0m\u001b[0;34m\u001b[0m\u001b[0;34m\u001b[0m\u001b[0m\n\u001b[0;32m-> 3724\u001b[0;31m                 \u001b[0;32mraise\u001b[0m \u001b[0mValueError\u001b[0m\u001b[0;34m(\u001b[0m\u001b[0;34m\"Columns must be same length as key\"\u001b[0m\u001b[0;34m)\u001b[0m\u001b[0;34m\u001b[0m\u001b[0;34m\u001b[0m\u001b[0m\n\u001b[0m\u001b[1;32m   3725\u001b[0m \u001b[0;34m\u001b[0m\u001b[0m\n\u001b[1;32m   3726\u001b[0m             \u001b[0;31m# align right-hand-side columns if self.columns\u001b[0m\u001b[0;34m\u001b[0m\u001b[0;34m\u001b[0m\u001b[0;34m\u001b[0m\u001b[0m\n",
      "\u001b[0;31mValueError\u001b[0m: Columns must be same length as key"
     ]
    }
   ],
   "source": [
    "data = fetch_data_api('09e033659f124258acf74721212408','Paris','3')\n",
    "daily_data = pd.DataFrame(data[0]['day']).iloc[2,:]\n",
    "### gives the weather hour by hour for the entire first day###\n",
    "\n",
    "daily_hourly_data = pd.DataFrame(data[0]['hour'])\n",
    "#condition has a code and an image, the code below only keeps the needed weather state\n",
    "for i in range(len(daily_hourly_data)):\n",
    "    interm = daily_hourly_data['condition'][i]['text']\n",
    "    daily_hourly_data['condition'][i]=interm\n",
    "\n",
    "#condition is given as three values this keeps only one\n",
    "data_series=[]\n",
    "for i in range(3):\n",
    "    data_series.append(data[i]['hour'])\n",
    "\n",
    "#condition has a code and an image, the code below only keeps the needed weather state\n",
    "for x in range(3):\n",
    "    for y in range(24):\n",
    "        data_series[x][y]['condition']=data_series[x][y]['condition']['text']\n",
    "\n",
    "d={}\n",
    "for i in range(len(data_series)):\n",
    "    d[i] = pd.DataFrame(data_series[i])\n",
    "\n",
    "seven_day_forecast = pd.concat([d[i] for i in range(len(data_series))])\n",
    "\n",
    "#convert time column to datetime\n",
    "seven_day_forecast['time']=pd.to_datetime(seven_day_forecast['time'])\n",
    "\n",
    "#change conditions for a more simple range of possible values\n",
    "Clear = ['Clear', 'Sunny']\n",
    "Clouds = ['Clouds','Partly cloudy', 'Cloudy', 'Overcast']\n",
    "Rain = ['Rain','Patchy rain possible', 'Patchy light rain', 'Light rain', 'Moderate rain at times','Moderate rain','Heavy rain at times','Heavy rain','Moderate or heavy rain shower','Torrential rain shower']\n",
    "Mist = ['Mist']\n",
    "Drizzle = ['Drizzle','Patchy light drizzle','Light drizzle','Freezing drizzle','Heavy freezing drizzle','Light rain shower']\n",
    "Fog = ['Fog', 'Freezing Fog']\n",
    "Snow = ['Snow','Patchy snow possible', 'Patchy sleet possible', 'Patchy freezing drizzle possible', 'Blowing snow','Blizzard','Moderate or heavy freezing rain','Light freezing rain','Light sleet', 'Moderate or heavy sleet','Patchy light snow','Light snow','Patchy moderate snow','Moderate snow','Patchy heavy snow','Heavy snow','Ice pellets','Light sleet showers', 'Moderate or heavy sleet showers','Light snow showers','Moderate or heavy snow showers','Light showers of ice pellets','Moderate or heavy showers of ice pellets']\n",
    "Thunderstorm = ['Thunderstorm','Thundery outbreaks possible', 'Patchy light rain with thunder','Moderate or heavy rain with thunder','Patchy light snow with thunder','Moderate or heavy snow with thunder']\n",
    "Haze = ['Haze']\n",
    "\n",
    "summed_conditions = [Clear, Clouds, Rain, Mist, Drizzle, Fog, Snow, Thunderstorm, Haze]\n",
    "seven_day_forecast['condition']=seven_day_forecast['condition'].reset_index()"
   ]
  },
  {
   "cell_type": "code",
   "execution_count": 21,
   "id": "967ce321",
   "metadata": {
    "ExecuteTime": {
     "end_time": "2021-08-31T13:16:34.306754Z",
     "start_time": "2021-08-31T13:16:34.296922Z"
    }
   },
   "outputs": [
    {
     "data": {
      "text/plain": [
       "0       NaN\n",
       "1       NaN\n",
       "2       NaN\n",
       "3       NaN\n",
       "4       NaN\n",
       "      ...  \n",
       "19      NaN\n",
       "20      NaN\n",
       "21    Sunny\n",
       "22    Sunny\n",
       "23    Sunny\n",
       "Name: condition, Length: 72, dtype: object"
      ]
     },
     "execution_count": 21,
     "metadata": {},
     "output_type": "execute_result"
    }
   ],
   "source": [
    "seven_day_forecast['condition'].map({'Clear':'Clear','Clear':'Sunny'})"
   ]
  },
  {
   "cell_type": "code",
   "execution_count": 19,
   "id": "f8478814",
   "metadata": {
    "ExecuteTime": {
     "end_time": "2021-08-31T13:15:03.561081Z",
     "start_time": "2021-08-31T13:15:03.543442Z"
    }
   },
   "outputs": [
    {
     "name": "stdout",
     "output_type": "stream",
     "text": [
      "0    Partly cloudy\n",
      "0    Partly cloudy\n",
      "0            Clear\n",
      "Name: condition, dtype: object\n"
     ]
    },
    {
     "ename": "ValueError",
     "evalue": "The truth value of a Series is ambiguous. Use a.empty, a.bool(), a.item(), a.any() or a.all().",
     "output_type": "error",
     "traceback": [
      "\u001b[0;31m---------------------------------------------------------------------------\u001b[0m",
      "\u001b[0;31mValueError\u001b[0m                                Traceback (most recent call last)",
      "\u001b[0;32m/var/folders/p2/6ddwj2812811pbqjm8t6brv80000gn/T/ipykernel_89068/3726590912.py\u001b[0m in \u001b[0;36m<module>\u001b[0;34m\u001b[0m\n\u001b[1;32m      4\u001b[0m             \u001b[0mlist2\u001b[0m \u001b[0;34m=\u001b[0m \u001b[0mseven_day_forecast\u001b[0m\u001b[0;34m[\u001b[0m\u001b[0;34m'condition'\u001b[0m\u001b[0;34m]\u001b[0m\u001b[0;34m[\u001b[0m\u001b[0mi\u001b[0m\u001b[0;34m]\u001b[0m\u001b[0;34m\u001b[0m\u001b[0;34m\u001b[0m\u001b[0m\n\u001b[1;32m      5\u001b[0m             \u001b[0mprint\u001b[0m\u001b[0;34m(\u001b[0m\u001b[0mlist2\u001b[0m\u001b[0;34m)\u001b[0m\u001b[0;34m\u001b[0m\u001b[0;34m\u001b[0m\u001b[0m\n\u001b[0;32m----> 6\u001b[0;31m             \u001b[0;32mif\u001b[0m \u001b[0mlist2\u001b[0m \u001b[0;32min\u001b[0m \u001b[0mlist1\u001b[0m\u001b[0;34m:\u001b[0m\u001b[0;34m\u001b[0m\u001b[0;34m\u001b[0m\u001b[0m\n\u001b[0m\u001b[1;32m      7\u001b[0m                 \u001b[0mseven_day_forecast\u001b[0m\u001b[0;34m[\u001b[0m\u001b[0;34m'condition'\u001b[0m\u001b[0;34m]\u001b[0m\u001b[0;34m[\u001b[0m\u001b[0mi\u001b[0m\u001b[0;34m]\u001b[0m \u001b[0;34m=\u001b[0m \u001b[0mx\u001b[0m\u001b[0;34m[\u001b[0m\u001b[0;36m0\u001b[0m\u001b[0;34m]\u001b[0m\u001b[0;34m\u001b[0m\u001b[0;34m\u001b[0m\u001b[0m\n\u001b[1;32m      8\u001b[0m \u001b[0;34m\u001b[0m\u001b[0m\n",
      "\u001b[0;32m~/.pyenv/versions/3.8.6/envs/resto-project/lib/python3.8/site-packages/pandas/core/generic.py\u001b[0m in \u001b[0;36m__nonzero__\u001b[0;34m(self)\u001b[0m\n\u001b[1;32m   1535\u001b[0m     \u001b[0;34m@\u001b[0m\u001b[0mfinal\u001b[0m\u001b[0;34m\u001b[0m\u001b[0;34m\u001b[0m\u001b[0m\n\u001b[1;32m   1536\u001b[0m     \u001b[0;32mdef\u001b[0m \u001b[0m__nonzero__\u001b[0m\u001b[0;34m(\u001b[0m\u001b[0mself\u001b[0m\u001b[0;34m)\u001b[0m\u001b[0;34m:\u001b[0m\u001b[0;34m\u001b[0m\u001b[0;34m\u001b[0m\u001b[0m\n\u001b[0;32m-> 1537\u001b[0;31m         raise ValueError(\n\u001b[0m\u001b[1;32m   1538\u001b[0m             \u001b[0;34mf\"The truth value of a {type(self).__name__} is ambiguous. \"\u001b[0m\u001b[0;34m\u001b[0m\u001b[0;34m\u001b[0m\u001b[0m\n\u001b[1;32m   1539\u001b[0m             \u001b[0;34m\"Use a.empty, a.bool(), a.item(), a.any() or a.all().\"\u001b[0m\u001b[0;34m\u001b[0m\u001b[0;34m\u001b[0m\u001b[0m\n",
      "\u001b[0;31mValueError\u001b[0m: The truth value of a Series is ambiguous. Use a.empty, a.bool(), a.item(), a.any() or a.all()."
     ]
    }
   ],
   "source": [
    "for i in range(len(seven_day_forecast['condition'])):\n",
    "        for x in summed_conditions:\n",
    "            list1 = x\n",
    "            list2 = seven_day_forecast['condition'][i]\n",
    "            print(list2)\n",
    "            if list2 in list1:\n",
    "                seven_day_forecast['condition'][i] = x[0]\n",
    "\n",
    "\n",
    "lunch = seven_day_forecast[seven_day_forecast['time'].dt.hour==12]\n",
    "lunch['Service']='Lunch'\n",
    "dinner = seven_day_forecast[seven_day_forecast['time'].dt.hour==18]\n",
    "dinner['Service']='Dinner'\n",
    "\n",
    "forecasted_services = pd.concat([lunch, dinner])\n",
    "forecasted_services['time'] = forecasted_services['time'].dt.date\n",
    "\n",
    "forecasted_services=forecasted_services.set_index('time')\n",
    "forecasted_services = forecasted_services.sort_values('time')\n",
    "\n",
    "print(forecasted_services)\n",
    "forecasted_services.to_csv('../raw_data/forecasted_services.csv')"
   ]
  },
  {
   "cell_type": "code",
   "execution_count": null,
   "id": "16993f71",
   "metadata": {},
   "outputs": [],
   "source": []
  }
 ],
 "metadata": {
  "kernelspec": {
   "display_name": "Python 3 (ipykernel)",
   "language": "python",
   "name": "python3"
  },
  "language_info": {
   "codemirror_mode": {
    "name": "ipython",
    "version": 3
   },
   "file_extension": ".py",
   "mimetype": "text/x-python",
   "name": "python",
   "nbconvert_exporter": "python",
   "pygments_lexer": "ipython3",
   "version": "3.8.6"
  },
  "toc": {
   "base_numbering": 1,
   "nav_menu": {},
   "number_sections": true,
   "sideBar": true,
   "skip_h1_title": false,
   "title_cell": "Table of Contents",
   "title_sidebar": "Contents",
   "toc_cell": false,
   "toc_position": {},
   "toc_section_display": true,
   "toc_window_display": false
  }
 },
 "nbformat": 4,
 "nbformat_minor": 5
}
